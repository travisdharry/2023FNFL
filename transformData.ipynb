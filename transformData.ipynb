{
 "cells": [
  {
   "cell_type": "markdown",
   "metadata": {},
   "source": [
    "# Config"
   ]
  },
  {
   "cell_type": "code",
   "execution_count": 88,
   "metadata": {},
   "outputs": [],
   "source": [
    "# Import dependencies\n",
    "import pandas as pd\n",
    "from datetime import datetime\n",
    "from sleeperpy import User, Leagues\n",
    "from ffpackage.viz import compareFranchises\n",
    "import plotly\n",
    "import plotly.express as px"
   ]
  },
  {
   "cell_type": "code",
   "execution_count": 89,
   "metadata": {},
   "outputs": [],
   "source": [
    "# Settings\n",
    "date_string = datetime.today().strftime('%Y%m%d')\n",
    "weekStart = 1\n",
    "weekEnd = 18\n",
    "def_starting_pts = 18\n",
    "pr_bonus = 1\n",
    "kr_bonus = 3\n",
    "username = 'dirtywizard'"
   ]
  },
  {
   "cell_type": "markdown",
   "metadata": {},
   "source": [
    "# Extract"
   ]
  },
  {
   "cell_type": "code",
   "execution_count": 90,
   "metadata": {},
   "outputs": [],
   "source": [
    "# Read database\n",
    "preds = pd.read_csv('db/records_preds.csv')\n",
    "preds = preds.loc[preds['date_prediction']==preds['date_prediction'].max()]\n",
    "preds = preds.loc[(preds['week']>=weekStart)&(preds['week']<=weekEnd)]\n",
    "mults = pd.read_csv('db/pts_multipliers.csv')\n",
    "rostLims = pd.read_csv('db/roster_limits.csv')"
   ]
  },
  {
   "cell_type": "code",
   "execution_count": 91,
   "metadata": {},
   "outputs": [],
   "source": [
    "def processRosters(league_id):\n",
    "    # Get rosters for all league members\n",
    "    rosters = pd.DataFrame(Leagues.get_rosters(league_id))\n",
    "    # Explode the player columns to find how they are placed on the roster\n",
    "    result = pd.DataFrame(columns=['owner_id', 'player_id'])\n",
    "    for col in ['taxi', 'starters', 'players']:\n",
    "        df = rosters[['owner_id', col]].explode(col)\n",
    "        df = df.rename(columns={col:'player_id'})\n",
    "        df[col] = True\n",
    "        result = result.merge(df, how='outer', on=['owner_id', 'player_id'])\n",
    "    return result"
   ]
  },
  {
   "cell_type": "code",
   "execution_count": 92,
   "metadata": {},
   "outputs": [],
   "source": [
    "def procesOwners(league_id):\n",
    "    owners = pd.DataFrame(Leagues.get_users(league_id))\n",
    "    list = []\n",
    "    for i in range(len(owners)):\n",
    "        if 'team_name' in owners['metadata'][i]:\n",
    "            list.append(owners['metadata'][i]['team_name'])\n",
    "        else:\n",
    "            list.append(owners['display_name'][i])\n",
    "    owners['franchise_name'] = list\n",
    "    owners = owners[['user_id', 'franchise_name', 'display_name']]\n",
    "    return owners"
   ]
  },
  {
   "cell_type": "code",
   "execution_count": 93,
   "metadata": {},
   "outputs": [],
   "source": [
    "# Get User's Sleeper ID\n",
    "user_id = User.get_user(username)['user_id']\n",
    "# Get the User's Sleeper league ID\n",
    "league_id = Leagues.get_all_leagues(user_id, 'nfl', 2023)[0]['league_id']\n",
    "# Get all players on rosters\n",
    "rosters = processRosters(league_id)\n",
    "# Get info on all owners\n",
    "owners = procesOwners(league_id)\n",
    "# Get roster positions \n",
    "rosterList = Leagues.get_league(league_id)['roster_positions']"
   ]
  },
  {
   "cell_type": "markdown",
   "metadata": {},
   "source": [
    "# Transform"
   ]
  },
  {
   "cell_type": "code",
   "execution_count": 94,
   "metadata": {},
   "outputs": [],
   "source": [
    "# Customize predictions for league\n",
    "# Calculate projected points according to that league's scoring settings\n",
    "# Multiply by points multiplier\n",
    "for col in mults.columns[1:]:\n",
    "    preds[col] = preds[col] * mults.loc[mults['username']==username, col][0]\n",
    "# Add up point columns\n",
    "preds['pts_proj'] = preds[mults.columns[1:]].sum(axis=1)\n",
    "# Add extras for defense starting values\n",
    "preds.loc[preds['Yds Allowed'].notna(), 'pts_proj'] = preds.loc[preds['Yds Allowed'].notna(), 'pts_proj'] + def_starting_pts\n",
    "# Add extras for Punt/kick returners\n",
    "preds.loc[preds['PR']==True, 'pts_proj'] = preds.loc[preds['PR']==True, 'pts_proj'] + (pr_bonus)\n",
    "preds.loc[preds['KR']==True, 'pts_proj'] = preds.loc[preds['KR']==True, 'pts_proj'] + (kr_bonus)\n",
    "\n",
    "# Merge in point projections with franchise data\n",
    "full = preds \\\n",
    "    .merge(rosters, how='left', on='player_id') \\\n",
    "    .merge(owners, how='left', left_on='owner_id', right_on='user_id')"
   ]
  },
  {
   "cell_type": "code",
   "execution_count": 103,
   "metadata": {},
   "outputs": [],
   "source": [
    "def getRelProjs(df):\n",
    "    # Calculate relative points for each position in each week\n",
    "    df['pts_proj'] = df['pts_proj'].fillna(0)\n",
    "    df = df.sort_values(by='pts_proj', ascending=False, ignore_index=True)\n",
    "    # Loop through weeks and positions\n",
    "    for week in df['week'].unique():\n",
    "        for pos in rostLims.columns[1:]:\n",
    "            # Find floor\n",
    "            cond1 = df['position']==pos\n",
    "            cond2 = df['week']==week\n",
    "            floor = df.loc[cond1&cond2, 'pts_proj'].reset_index(drop=True)[rostLims.loc[rostLims['username']==username, pos][0]]\n",
    "            # Find each player's points over floor\n",
    "            df.loc[cond1&cond2, 'rel_proj'] = df.loc[cond1&cond2, 'pts_proj'] - floor\n",
    "    return df"
   ]
  },
  {
   "cell_type": "code",
   "execution_count": 104,
   "metadata": {},
   "outputs": [],
   "source": [
    "def getRelProjs_optimized(df):\n",
    "    # Calculate relative points for each position in each week\n",
    "    df['pts_proj'] = df['pts_proj'].fillna(0)\n",
    "    df = df.sort_values(by='pts_proj', ascending=False, ignore_index=True)\n",
    "    # Loop through weeks and positions\n",
    "    for week in df['week'].unique():\n",
    "        for pos in df['position'].unique():\n",
    "            # Find floor\n",
    "            cond_pos = df['position']==pos\n",
    "            cond_week = df['week']==week\n",
    "            floor = df.loc[cond_pos&cond_week, 'pts_proj'].min()\n",
    "            # Find each player's points over floor\n",
    "            df.loc[cond_pos&cond_week, 'rel_proj'] = df.loc[cond_pos&cond_week, 'pts_proj'] - floor\n",
    "    return df"
   ]
  },
  {
   "cell_type": "code",
   "execution_count": 105,
   "metadata": {},
   "outputs": [],
   "source": [
    "def getSeasonTotals(df):\n",
    "    # Sum up pts_proj and rel_proj\n",
    "    totals_proj = df.groupby('player_id')['pts_proj'].sum().reset_index()\n",
    "    totals_rel = df.groupby('player_id')['rel_proj'].sum().reset_index()\n",
    "    # Merge in totals with player metadata\n",
    "    unis = df.drop_duplicates(subset='player_id', ignore_index=True).drop(columns=['pts_proj', 'rel_proj'])\n",
    "    df = unis.merge(totals_proj, how='left', on='player_id').merge(totals_rel, how='left', on='player_id')\n",
    "    return df"
   ]
  },
  {
   "cell_type": "code",
   "execution_count": 106,
   "metadata": {},
   "outputs": [],
   "source": [
    "def tidyUp(df):\n",
    "    # Tidy\n",
    "    df = df[[\n",
    "        'week', 'player_id', 'pts_proj', 'rel_proj', 'franchise_name', 'full_name', 'age', 'years_exp', 'weight',\n",
    "        'height', 'team', 'position', 'taxi', 'starters', 'players', 'fantasy_positions', 'depth_chart_order',\n",
    "        'depth_chart_position', 'status', 'injury_status', 'injury_notes',\n",
    "        'injury_start_date', 'practice_participation', 'practice_description','active'\n",
    "    ]]\n",
    "    return df"
   ]
  },
  {
   "cell_type": "markdown",
   "metadata": {},
   "source": [
    "# Waiver Report"
   ]
  },
  {
   "cell_type": "code",
   "execution_count": 107,
   "metadata": {},
   "outputs": [],
   "source": [
    "# Waiver report\n",
    "waivers = full.copy()\n",
    "# Calculate relative points for each position in each week\n",
    "waivers = getRelProjs(waivers)\n",
    "# Sum points across the season\n",
    "waivers = getSeasonTotals(waivers)\n",
    "# Filter for only players on user's roster or unclaimed and who would improve user's points\n",
    "minpts = waivers.loc[(waivers['display_name']==username)&(waivers['taxi'].isna())]['pts_proj'].min()\n",
    "cond_user = waivers['display_name']==username\n",
    "cond_fa = waivers['display_name'].isna()\n",
    "cond_minpts = waivers['pts_proj']>=minpts\n",
    "waivers = waivers.loc[(cond_user|cond_fa)&cond_minpts].reset_index(drop=True)\n",
    "# Tidy\n",
    "waivers = tidyUp(waivers)"
   ]
  },
  {
   "cell_type": "markdown",
   "metadata": {},
   "source": [
    "# Visualize Total Points"
   ]
  },
  {
   "cell_type": "code",
   "execution_count": 110,
   "metadata": {},
   "outputs": [
    {
     "data": {
      "application/vnd.plotly.v1+json": {
       "config": {
        "plotlyServerURL": "https://plot.ly"
       },
       "data": [
        {
         "alignmentgroup": "True",
         "customdata": [
          [
           842.21,
           "Josh Allen",
           "QB"
          ],
          [
           827.79,
           "Patrick Mahomes",
           "QB"
          ],
          [
           815.84,
           "Jalen Hurts",
           "QB"
          ],
          [
           640.1800000000001,
           "Joe Burrow",
           "QB"
          ],
          [
           602.56,
           "Kirk Cousins",
           "QB"
          ],
          [
           651.83,
           "Justin Herbert",
           "QB"
          ],
          [
           589.47,
           "Lamar Jackson",
           "QB"
          ],
          [
           608.1400000000001,
           "Geno Smith",
           "QB"
          ],
          [
           588.26,
           "Dak Prescott",
           "QB"
          ],
          [
           615.25,
           "Justin Fields",
           "QB"
          ],
          [
           561.87,
           "Tua Tagovailoa",
           "QB"
          ],
          [
           519.46,
           "Trevor Lawrence",
           "QB"
          ],
          [
           481.6,
           "Baker Mayfield",
           "QB"
          ],
          [
           517.09,
           "Derek Carr",
           "QB"
          ],
          [
           506.72,
           "Jordan Love",
           "QB"
          ],
          [
           527.42,
           "Brock Purdy",
           "QB"
          ],
          [
           493.41,
           "Deshaun Watson",
           "QB"
          ],
          [
           532.6700000000001,
           "Daniel Jones",
           "QB"
          ],
          [
           492.75,
           "Sam Howell",
           "QB"
          ],
          [
           472.16999999999996,
           "Aaron Rodgers",
           "QB"
          ],
          [
           447.51,
           "Bryce Young",
           "QB"
          ],
          [
           434.71000000000004,
           "Kenny Pickett",
           "QB"
          ]
         ],
         "hovertemplate": "<b>%{hovertext}</b><br><br>Relative Value=%{y}<br>Predicted Points=%{customdata[0]}<extra></extra>",
         "hovertext": [
          "Josh Allen",
          "Patrick Mahomes",
          "Jalen Hurts",
          "Joe Burrow",
          "Kirk Cousins",
          "Justin Herbert",
          "Lamar Jackson",
          "Geno Smith",
          "Dak Prescott",
          "Justin Fields",
          "Tua Tagovailoa",
          "Trevor Lawrence",
          "Baker Mayfield",
          "Derek Carr",
          "Jordan Love",
          "Brock Purdy",
          "Deshaun Watson",
          "Daniel Jones",
          "Sam Howell",
          "Aaron Rodgers",
          "Bryce Young",
          "Kenny Pickett"
         ],
         "legendgroup": "QB",
         "marker": {
          "color": "hsla(210, 60%, 25%, 1)",
          "pattern": {
           "shape": ""
          }
         },
         "name": "QB",
         "offsetgroup": "QB",
         "orientation": "v",
         "showlegend": true,
         "text": [
          "Josh Allen",
          "Patrick Mahomes",
          "Jalen Hurts",
          "Joe Burrow",
          "Kirk Cousins",
          "Justin Herbert",
          "Lamar Jackson",
          "Geno Smith",
          "Dak Prescott",
          "Justin Fields",
          "Tua Tagovailoa",
          "Trevor Lawrence",
          "Baker Mayfield",
          "Derek Carr",
          "Jordan Love",
          "Brock Purdy",
          "Deshaun Watson",
          "Daniel Jones",
          "Sam Howell",
          "Aaron Rodgers",
          "Bryce Young",
          "Kenny Pickett"
         ],
         "textposition": "auto",
         "type": "bar",
         "x": [
          "Comeback 👑’s",
          "Saskatoon Squatches ",
          "Croccity Body Snatchers",
          "Verdanks Vacqueros FFC",
          "2014champ",
          "kevinbash",
          "GusTheBus",
          "DangeRUSS Last Ride",
          "📜 Providence 🪬 Spirits 🥂",
          "Idk much about soccer ",
          "Verdanks Vacqueros FFC",
          "2014champ",
          "Count of Monte Christian",
          "Count of Monte Christian",
          "📜 Providence 🪬 Spirits 🥂",
          "Croccity Body Snatchers",
          "Pretty Big Wieners",
          "Comeback 👑’s",
          "kevinbash",
          "Pretty Big Wieners",
          "Idk much about soccer ",
          "GusTheBus"
         ],
         "xaxis": "x",
         "y": [
          292.06,
          278.55999999999995,
          266.61,
          92.15,
          52.40999999999994,
          104.20000000000002,
          39.32000000000002,
          60.510000000000026,
          40.23,
          65.10000000000002,
          12.639999999999983,
          -27.989999999999995,
          -66.02999999999999,
          -30.47999999999997,
          -39.95000000000001,
          -20.030000000000022,
          -54.22,
          -17.479999999999983,
          -53.680000000000035,
          -75.86000000000004,
          -100.52000000000001,
          -111.96000000000002
         ],
         "yaxis": "y"
        },
        {
         "alignmentgroup": "True",
         "customdata": [
          [
           609.215,
           "Austin Ekeler",
           "RB"
          ],
          [
           598.42,
           "Derrick Henry",
           "RB"
          ],
          [
           573.505,
           "Christian McCaffrey",
           "RB"
          ],
          [
           546.51,
           "Josh Jacobs",
           "RB"
          ],
          [
           542.565,
           "Nick Chubb",
           "RB"
          ],
          [
           517.65,
           "James Conner",
           "RB"
          ],
          [
           508.18,
           "Joe Mixon",
           "RB"
          ],
          [
           455.33,
           "Miles Sanders",
           "RB"
          ],
          [
           492.97,
           "Najee Harris",
           "RB"
          ],
          [
           479.48,
           "Kenneth Walker",
           "RB"
          ],
          [
           487.83500000000004,
           "Antonio Gibson",
           "RB"
          ],
          [
           481.765,
           "Tony Pollard",
           "RB"
          ],
          [
           414.52000000000004,
           "Rhamondre Stevenson",
           "RB"
          ],
          [
           451.08000000000004,
           "Isiah Pacheco",
           "RB"
          ],
          [
           356.225,
           "Bijan Robinson",
           "RB"
          ],
          [
           384.55,
           "Travis Etienne",
           "RB"
          ],
          [
           385.33000000000004,
           "J.K. Dobbins",
           "RB"
          ],
          [
           446.24000000000007,
           "Khalil Herbert",
           "RB"
          ],
          [
           449.57,
           "Saquon Barkley",
           "RB"
          ],
          [
           437.905,
           "David Montgomery",
           "RB"
          ],
          [
           429.92,
           "Aaron Jones",
           "RB"
          ],
          [
           421.25,
           "Dameon Pierce",
           "RB"
          ],
          [
           404.51500000000004,
           "Brian Robinson",
           "RB"
          ],
          [
           379.925,
           "Rachaad White",
           "RB"
          ],
          [
           394.425,
           "Alexander Mattison",
           "RB"
          ],
          [
           388.375,
           "Javonte Williams",
           "RB"
          ],
          [
           387.64500000000004,
           "D'Andre Swift",
           "RB"
          ],
          [
           366.67,
           "Cam Akers",
           "RB"
          ],
          [
           367.12,
           "AJ Dillon",
           "RB"
          ],
          [
           375.015,
           "Breece Hall",
           "RB"
          ],
          [
           337.36,
           "Jamaal Williams",
           "RB"
          ],
          [
           357.33,
           "James Cook",
           "RB"
          ],
          [
           307.8,
           "Jerick McKinnon",
           "RB"
          ],
          [
           326.82,
           "Dalvin Cook",
           "RB"
          ],
          [
           307.17,
           "Kenneth Gainwell",
           "RB"
          ],
          [
           251.31000000000003,
           "Jahmyr Gibbs",
           "RB"
          ],
          [
           325.09000000000003,
           "Zach Charbonnet",
           "RB"
          ],
          [
           282.02,
           "Elijah Mitchell",
           "RB"
          ],
          [
           168.32500000000002,
           "Gus Edwards",
           "RB"
          ]
         ],
         "hovertemplate": "<b>%{hovertext}</b><br><br>Relative Value=%{y}<br>Predicted Points=%{customdata[0]}<extra></extra>",
         "hovertext": [
          "Austin Ekeler",
          "Derrick Henry",
          "Christian McCaffrey",
          "Josh Jacobs",
          "Nick Chubb",
          "James Conner",
          "Joe Mixon",
          "Miles Sanders",
          "Najee Harris",
          "Kenneth Walker",
          "Antonio Gibson",
          "Tony Pollard",
          "Rhamondre Stevenson",
          "Isiah Pacheco",
          "Bijan Robinson",
          "Travis Etienne",
          "J.K. Dobbins",
          "Khalil Herbert",
          "Saquon Barkley",
          "David Montgomery",
          "Aaron Jones",
          "Dameon Pierce",
          "Brian Robinson",
          "Rachaad White",
          "Alexander Mattison",
          "Javonte Williams",
          "D'Andre Swift",
          "Cam Akers",
          "AJ Dillon",
          "Breece Hall",
          "Jamaal Williams",
          "James Cook",
          "Jerick McKinnon",
          "Dalvin Cook",
          "Kenneth Gainwell",
          "Jahmyr Gibbs",
          "Zach Charbonnet",
          "Elijah Mitchell",
          "Gus Edwards"
         ],
         "legendgroup": "RB",
         "marker": {
          "color": "hsla(12, 50%, 45%, 1)",
          "pattern": {
           "shape": ""
          }
         },
         "name": "RB",
         "offsetgroup": "RB",
         "orientation": "v",
         "showlegend": true,
         "text": [
          "Austin Ekeler",
          "Derrick Henry",
          "Christian McCaffrey",
          "Josh Jacobs",
          "Nick Chubb",
          "James Conner",
          "Joe Mixon",
          "Miles Sanders",
          "Najee Harris",
          "Kenneth Walker",
          "Antonio Gibson",
          "Tony Pollard",
          "Rhamondre Stevenson",
          "Isiah Pacheco",
          "Bijan Robinson",
          "Travis Etienne",
          "J.K. Dobbins",
          "Khalil Herbert",
          "Saquon Barkley",
          "David Montgomery",
          "Aaron Jones",
          "Dameon Pierce",
          "Brian Robinson",
          "Rachaad White",
          "Alexander Mattison",
          "Javonte Williams",
          "D'Andre Swift",
          "Cam Akers",
          "AJ Dillon",
          "Breece Hall",
          "Jamaal Williams",
          "James Cook",
          "Jerick McKinnon",
          "Dalvin Cook",
          "Kenneth Gainwell",
          "Jahmyr Gibbs",
          "Zach Charbonnet",
          "Elijah Mitchell",
          "Gus Edwards"
         ],
         "textposition": "auto",
         "type": "bar",
         "x": [
          "Croccity Body Snatchers",
          "DangeRUSS Last Ride",
          "DangeRUSS Last Ride",
          "Croccity Body Snatchers",
          "kevinbash",
          "DangeRUSS Last Ride",
          "Croccity Body Snatchers",
          "Pretty Big Wieners",
          "2014champ",
          "Verdanks Vacqueros FFC",
          "Count of Monte Christian",
          "Saskatoon Squatches ",
          "Saskatoon Squatches ",
          "Saskatoon Squatches ",
          "2014champ",
          "Verdanks Vacqueros FFC",
          "Pretty Big Wieners",
          "GusTheBus",
          "Saskatoon Squatches ",
          "Croccity Body Snatchers",
          "kevinbash",
          "GusTheBus",
          "Idk much about soccer ",
          "📜 Providence 🪬 Spirits 🥂",
          "Pretty Big Wieners",
          "Saskatoon Squatches ",
          "📜 Providence 🪬 Spirits 🥂",
          "GusTheBus",
          "📜 Providence 🪬 Spirits 🥂",
          "Comeback 👑’s",
          "Comeback 👑’s",
          "Pretty Big Wieners",
          "DangeRUSS Last Ride",
          "GusTheBus",
          "Count of Monte Christian",
          "📜 Providence 🪬 Spirits 🥂",
          "Idk much about soccer ",
          "Verdanks Vacqueros FFC",
          "Comeback 👑’s"
         ],
         "xaxis": "x",
         "y": [
          223.49,
          212.20499999999998,
          188.49000000000004,
          159.46499999999997,
          156.84000000000003,
          132.315,
          121.965,
          69.11499999999998,
          107.43500000000004,
          93.755,
          102.50000000000001,
          95.55,
          28.785000000000014,
          66.72500000000004,
          -29.51,
          -0.4649999999999892,
          -1.7149999999999874,
          59.19500000000004,
          62.525000000000006,
          52.88999999999998,
          44.38499999999999,
          35.035000000000004,
          19.180000000000046,
          -5.7999999999999865,
          7.379999999999994,
          3.360000000000019,
          3.290000000000017,
          -17.684999999999988,
          -18.414999999999996,
          -11.199999999999998,
          -48.375,
          -29.715000000000003,
          -76.55499999999999,
          -59.394999999999996,
          -77.185,
          -133.70499999999998,
          -60.635000000000005,
          -102.995,
          -218.72
         ],
         "yaxis": "y"
        },
        {
         "alignmentgroup": "True",
         "customdata": [
          [
           529.21,
           "Justin Jefferson",
           "WR"
          ],
          [
           451.39,
           "Christian Watson",
           "WR"
          ],
          [
           485.75,
           "Tyreek Hill",
           "WR"
          ],
          [
           471.05,
           "CeeDee Lamb",
           "WR"
          ],
          [
           453.88,
           "Davante Adams",
           "WR"
          ],
          [
           444.76000000000005,
           "Ja'Marr Chase",
           "WR"
          ],
          [
           418.27000000000004,
           "Keenan Allen",
           "WR"
          ],
          [
           430.652,
           "Stefon Diggs",
           "WR"
          ],
          [
           425.325,
           "Deebo Samuel",
           "WR"
          ],
          [
           415.36,
           "Jaylen Waddle",
           "WR"
          ],
          [
           411.51,
           "A.J. Brown",
           "WR"
          ],
          [
           403.20500000000004,
           "Amon-Ra St. Brown",
           "WR"
          ],
          [
           375.08500000000004,
           "Mike Evans",
           "WR"
          ],
          [
           384.615,
           "Garrett Wilson",
           "WR"
          ],
          [
           370.315,
           "Chris Godwin",
           "WR"
          ],
          [
           365.845,
           "Tyler Lockett",
           "WR"
          ],
          [
           355.04,
           "Christian Kirk",
           "WR"
          ],
          [
           383.925,
           "Tee Higgins",
           "WR"
          ],
          [
           323.12500000000006,
           "Marquise Brown",
           "WR"
          ],
          [
           349.249,
           "Chris Olave",
           "WR"
          ],
          [
           335.6,
           "DeAndre Hopkins",
           "WR"
          ],
          [
           354.51,
           "Amari Cooper",
           "WR"
          ],
          [
           344.58400000000006,
           "DK Metcalf",
           "WR"
          ],
          [
           331.382,
           "DeVonta Smith",
           "WR"
          ],
          [
           339.1,
           "Terry McLaurin",
           "WR"
          ],
          [
           323.95000000000005,
           "Nico Collins",
           "WR"
          ],
          [
           321.35999999999996,
           "Michael Pittman",
           "WR"
          ],
          [
           336.02500000000003,
           "Mike Williams",
           "WR"
          ],
          [
           325.575,
           "DJ Moore",
           "WR"
          ],
          [
           303.40500000000003,
           "Jahan Dotson",
           "WR"
          ],
          [
           310.70000000000005,
           "Gabe Davis",
           "WR"
          ],
          [
           315.55,
           "Jordan Addison",
           "WR"
          ],
          [
           299.45000000000005,
           "Drake London",
           "WR"
          ],
          [
           296.505,
           "Brandon Aiyuk",
           "WR"
          ],
          [
           283.52000000000004,
           "Diontae Johnson",
           "WR"
          ],
          [
           282.55,
           "George Pickens",
           "WR"
          ],
          [
           159.16,
           "Calvin Ridley",
           "WR"
          ],
          [
           245.245,
           "Michael Thomas",
           "WR"
          ],
          [
           254.15,
           "Van Jefferson",
           "WR"
          ],
          [
           234.095,
           "Brandin Cooks",
           "WR"
          ],
          [
           173.645,
           "Treylon Burks",
           "WR"
          ],
          [
           150.97500000000002,
           "Michael Gallup",
           "WR"
          ],
          [
           143.879,
           "Randall Cobb",
           "WR"
          ],
          [
           102.035,
           "Chase Claypool",
           "WR"
          ],
          [
           99.48000000000002,
           "Elijah Moore",
           "WR"
          ]
         ],
         "hovertemplate": "<b>%{hovertext}</b><br><br>Relative Value=%{y}<br>Predicted Points=%{customdata[0]}<extra></extra>",
         "hovertext": [
          "Justin Jefferson",
          "Christian Watson",
          "Tyreek Hill",
          "CeeDee Lamb",
          "Davante Adams",
          "Ja'Marr Chase",
          "Keenan Allen",
          "Stefon Diggs",
          "Deebo Samuel",
          "Jaylen Waddle",
          "A.J. Brown",
          "Amon-Ra St. Brown",
          "Mike Evans",
          "Garrett Wilson",
          "Chris Godwin",
          "Tyler Lockett",
          "Christian Kirk",
          "Tee Higgins",
          "Marquise Brown",
          "Chris Olave",
          "DeAndre Hopkins",
          "Amari Cooper",
          "DK Metcalf",
          "DeVonta Smith",
          "Terry McLaurin",
          "Nico Collins",
          "Michael Pittman",
          "Mike Williams",
          "DJ Moore",
          "Jahan Dotson",
          "Gabe Davis",
          "Jordan Addison",
          "Drake London",
          "Brandon Aiyuk",
          "Diontae Johnson",
          "George Pickens",
          "Calvin Ridley",
          "Michael Thomas",
          "Van Jefferson",
          "Brandin Cooks",
          "Treylon Burks",
          "Michael Gallup",
          "Randall Cobb",
          "Chase Claypool",
          "Elijah Moore"
         ],
         "legendgroup": "WR",
         "marker": {
          "color": "hsla(267, 40%, 45%, 1)",
          "pattern": {
           "shape": ""
          }
         },
         "name": "WR",
         "offsetgroup": "WR",
         "orientation": "v",
         "showlegend": true,
         "text": [
          "Justin Jefferson",
          "Christian Watson",
          "Tyreek Hill",
          "CeeDee Lamb",
          "Davante Adams",
          "Ja'Marr Chase",
          "Keenan Allen",
          "Stefon Diggs",
          "Deebo Samuel",
          "Jaylen Waddle",
          "A.J. Brown",
          "Amon-Ra St. Brown",
          "Mike Evans",
          "Garrett Wilson",
          "Chris Godwin",
          "Tyler Lockett",
          "Christian Kirk",
          "Tee Higgins",
          "Marquise Brown",
          "Chris Olave",
          "DeAndre Hopkins",
          "Amari Cooper",
          "DK Metcalf",
          "DeVonta Smith",
          "Terry McLaurin",
          "Nico Collins",
          "Michael Pittman",
          "Mike Williams",
          "DJ Moore",
          "Jahan Dotson",
          "Gabe Davis",
          "Jordan Addison",
          "Drake London",
          "Brandon Aiyuk",
          "Diontae Johnson",
          "George Pickens",
          "Calvin Ridley",
          "Michael Thomas",
          "Van Jefferson",
          "Brandin Cooks",
          "Treylon Burks",
          "Michael Gallup",
          "Randall Cobb",
          "Chase Claypool",
          "Elijah Moore"
         ],
         "textposition": "auto",
         "type": "bar",
         "x": [
          "Pretty Big Wieners",
          "Count of Monte Christian",
          "Saskatoon Squatches ",
          "Count of Monte Christian",
          "Verdanks Vacqueros FFC",
          "Saskatoon Squatches ",
          "Pretty Big Wieners",
          "Comeback 👑’s",
          "2014champ",
          "GusTheBus",
          "Pretty Big Wieners",
          "kevinbash",
          "kevinbash",
          "📜 Providence 🪬 Spirits 🥂",
          "Croccity Body Snatchers",
          "Croccity Body Snatchers",
          "GusTheBus",
          "2014champ",
          "Croccity Body Snatchers",
          "Count of Monte Christian",
          "Verdanks Vacqueros FFC",
          "Verdanks Vacqueros FFC",
          "2014champ",
          "Count of Monte Christian",
          "kevinbash",
          "📜 Providence 🪬 Spirits 🥂",
          "GusTheBus",
          "Idk much about soccer ",
          "Idk much about soccer ",
          "📜 Providence 🪬 Spirits 🥂",
          "2014champ",
          "DangeRUSS Last Ride",
          "Idk much about soccer ",
          "kevinbash",
          "Idk much about soccer ",
          "DangeRUSS Last Ride",
          "2014champ",
          "Idk much about soccer ",
          "Verdanks Vacqueros FFC",
          "Comeback 👑’s",
          "Count of Monte Christian",
          "Comeback 👑’s",
          "Comeback 👑’s",
          "DangeRUSS Last Ride",
          "Saskatoon Squatches "
         ],
         "xaxis": "x",
         "y": [
          177.142,
          99.76199999999997,
          133.54000000000002,
          118.332,
          101.812,
          92.042,
          66.142,
          78.58399999999997,
          72.93699999999998,
          63.149999999999984,
          59.29999999999998,
          50.81700000000001,
          22.95699999999999,
          31.897000000000002,
          18.186999999999998,
          13.71699999999999,
          2.6519999999999957,
          31.207,
          -29.19299999999999,
          -2.258999999999986,
          -17.11799999999999,
          2.3819999999999677,
          -7.54399999999999,
          -20.828000000000024,
          -13.218000000000002,
          -28.768000000000004,
          -30.148000000000046,
          -16.103000000000012,
          -26.493000000000002,
          -48.91299999999999,
          -41.367999999999995,
          -36.518,
          -52.05800000000001,
          -55.88300000000003,
          -68.10799999999999,
          -69.07800000000002,
          -193.228,
          -106.263,
          -98.06,
          -118.62300000000002,
          -179.07300000000004,
          -201.74300000000002,
          -208.83900000000003,
          -250.03300000000004,
          -252.64800000000002
         ],
         "yaxis": "y"
        },
        {
         "alignmentgroup": "True",
         "customdata": [
          [
           456.69,
           "Travis Kelce",
           "TE"
          ],
          [
           351.575,
           "Mark Andrews",
           "TE"
          ],
          [
           337.05,
           "George Kittle",
           "TE"
          ],
          [
           291.1,
           "Taysom Hill",
           "TE"
          ],
          [
           253.57500000000002,
           "Dawson Knox",
           "TE"
          ],
          [
           273.12,
           "Dallas Goedert",
           "TE"
          ],
          [
           242.96,
           "T.J. Hockenson",
           "TE"
          ],
          [
           238.51500000000001,
           "Dalton Schultz",
           "TE"
          ],
          [
           241.37500000000003,
           "Kyle Pitts",
           "TE"
          ],
          [
           211.97500000000002,
           "Evan Engram",
           "TE"
          ],
          [
           234.54000000000002,
           "David Njoku",
           "TE"
          ],
          [
           205.95,
           "Sam LaPorta",
           "TE"
          ],
          [
           209.5,
           "Tyler Higbee",
           "TE"
          ],
          [
           220.95,
           "Greg Dulcich",
           "TE"
          ],
          [
           182.836,
           "Noah Fant",
           "TE"
          ],
          [
           185.20000000000002,
           "Hunter Henry",
           "TE"
          ],
          [
           176.578,
           "Darren Waller",
           "TE"
          ],
          [
           161.084,
           "Tyler Conklin",
           "TE"
          ],
          [
           168.75,
           "Cade Otton",
           "TE"
          ],
          [
           161.975,
           "Irv Smith",
           "TE"
          ],
          [
           87.39500000000001,
           "Robert Tonyan",
           "TE"
          ],
          [
           82.635,
           "Noah Gray",
           "TE"
          ],
          [
           54.235,
           "Michael Mayer",
           "TE"
          ],
          [
           55.87500000000001,
           "Adam Trautman",
           "TE"
          ]
         ],
         "hovertemplate": "<b>%{hovertext}</b><br><br>Relative Value=%{y}<br>Predicted Points=%{customdata[0]}<extra></extra>",
         "hovertext": [
          "Travis Kelce",
          "Mark Andrews",
          "George Kittle",
          "Taysom Hill",
          "Dawson Knox",
          "Dallas Goedert",
          "T.J. Hockenson",
          "Dalton Schultz",
          "Kyle Pitts",
          "Evan Engram",
          "David Njoku",
          "Sam LaPorta",
          "Tyler Higbee",
          "Greg Dulcich",
          "Noah Fant",
          "Hunter Henry",
          "Darren Waller",
          "Tyler Conklin",
          "Cade Otton",
          "Irv Smith",
          "Robert Tonyan",
          "Noah Gray",
          "Michael Mayer",
          "Adam Trautman"
         ],
         "legendgroup": "TE",
         "marker": {
          "color": "hsla(177, 68%, 36%, 1)",
          "pattern": {
           "shape": ""
          }
         },
         "name": "TE",
         "offsetgroup": "TE",
         "orientation": "v",
         "showlegend": true,
         "text": [
          "Travis Kelce",
          "Mark Andrews",
          "George Kittle",
          "Taysom Hill",
          "Dawson Knox",
          "Dallas Goedert",
          "T.J. Hockenson",
          "Dalton Schultz",
          "Kyle Pitts",
          "Evan Engram",
          "David Njoku",
          "Sam LaPorta",
          "Tyler Higbee",
          "Greg Dulcich",
          "Noah Fant",
          "Hunter Henry",
          "Darren Waller",
          "Tyler Conklin",
          "Cade Otton",
          "Irv Smith",
          "Robert Tonyan",
          "Noah Gray",
          "Michael Mayer",
          "Adam Trautman"
         ],
         "textposition": "auto",
         "type": "bar",
         "x": [
          "Verdanks Vacqueros FFC",
          "Pretty Big Wieners",
          "DangeRUSS Last Ride",
          "2014champ",
          "Idk much about soccer ",
          "Saskatoon Squatches ",
          "Saskatoon Squatches ",
          "Comeback 👑’s",
          "📜 Providence 🪬 Spirits 🥂",
          "2014champ",
          "Verdanks Vacqueros FFC",
          "kevinbash",
          "Croccity Body Snatchers",
          "Croccity Body Snatchers",
          "GusTheBus",
          "Count of Monte Christian",
          "DangeRUSS Last Ride",
          "Pretty Big Wieners",
          "Idk much about soccer ",
          "📜 Providence 🪬 Spirits 🥂",
          "Comeback 👑’s",
          "Count of Monte Christian",
          "GusTheBus",
          "kevinbash"
         ],
         "xaxis": "x",
         "y": [
          233.24799999999996,
          128.333,
          114.25799999999998,
          68.25800000000001,
          30.333000000000027,
          49.67800000000003,
          19.718,
          15.523000000000003,
          18.533000000000015,
          -10.816999999999979,
          12.188000000000013,
          -16.842000000000002,
          -13.941999999999991,
          -1.8420000000000076,
          -39.516000000000005,
          -37.64199999999999,
          -46.664,
          -61.907999999999994,
          -53.602,
          -61.016999999999996,
          -135.847,
          -140.807,
          -169.007,
          -166.91699999999997
         ],
         "yaxis": "y"
        },
        {
         "alignmentgroup": "True",
         "customdata": [
          [
           484.6678,
           "NYJ",
           "DEF"
          ],
          [
           258.6071,
           "NO",
           "DEF"
          ],
          [
           236.91910000000004,
           "PHI",
           "DEF"
          ],
          [
           191.00010000000003,
           "DEN",
           "DEF"
          ],
          [
           157.39239999999998,
           "CAR",
           "DEF"
          ],
          [
           175.8802,
           "KC",
           "DEF"
          ],
          [
           210.8578,
           "BAL",
           "DEF"
          ],
          [
           178.10570000000007,
           "JAX",
           "DEF"
          ],
          [
           181.4927,
           "CLE",
           "DEF"
          ],
          [
           134.77299999999997,
           "ATL",
           "DEF"
          ],
          [
           197.0136,
           "PIT",
           "DEF"
          ],
          [
           275.8308,
           "LAC",
           "DEF"
          ],
          [
           275.8308,
           "LAR",
           "DEF"
          ],
          [
           81.29630000000004,
           "LV",
           "DEF"
          ],
          [
           176.86390000000003,
           "BUF",
           "DEF"
          ],
          [
           81.06089999999999,
           "GB",
           "DEF"
          ],
          [
           82.99620000000004,
           "ARI",
           "DEF"
          ],
          [
           133.6424,
           "CIN",
           "DEF"
          ],
          [
           167.5748,
           "SF",
           "DEF"
          ],
          [
           78.51970000000003,
           "SEA",
           "DEF"
          ],
          [
           -14.777099999999933,
           "MIN",
           "DEF"
          ],
          [
           71.46570000000001,
           "IND",
           "DEF"
          ],
          [
           27.372000000000046,
           "DAL",
           "DEF"
          ],
          [
           -84.44959999999999,
           "CHI",
           "DEF"
          ]
         ],
         "hovertemplate": "<b>%{hovertext}</b><br><br>Relative Value=%{y}<br>Predicted Points=%{customdata[0]}<extra></extra>",
         "hovertext": [
          "NYJ",
          "NO",
          "PHI",
          "DEN",
          "CAR",
          "KC",
          "BAL",
          "JAX",
          "CLE",
          "ATL",
          "PIT",
          "LAC",
          "LAR",
          "LV",
          "BUF",
          "GB",
          "ARI",
          "CIN",
          "SF",
          "SEA",
          "MIN",
          "IND",
          "DAL",
          "CHI"
         ],
         "legendgroup": "DEF",
         "marker": {
          "color": "hsla(35, 70%, 65%, 1)",
          "pattern": {
           "shape": ""
          }
         },
         "name": "DEF",
         "offsetgroup": "DEF",
         "orientation": "v",
         "showlegend": true,
         "text": [
          "NYJ",
          "NO",
          "PHI",
          "DEN",
          "CAR",
          "KC",
          "BAL",
          "JAX",
          "CLE",
          "ATL",
          "PIT",
          "LAC",
          "LAR",
          "LV",
          "BUF",
          "GB",
          "ARI",
          "CIN",
          "SF",
          "SEA",
          "MIN",
          "IND",
          "DAL",
          "CHI"
         ],
         "textposition": "auto",
         "type": "bar",
         "x": [
          "📜 Providence 🪬 Spirits 🥂",
          "kevinbash",
          "Pretty Big Wieners",
          "Croccity Body Snatchers",
          "Verdanks Vacqueros FFC",
          "Idk much about soccer ",
          "GusTheBus",
          "Saskatoon Squatches ",
          "2014champ",
          "Count of Monte Christian",
          "GusTheBus",
          "DangeRUSS Last Ride",
          "Comeback 👑’s",
          "Count of Monte Christian",
          "kevinbash",
          "DangeRUSS Last Ride",
          "Verdanks Vacqueros FFC",
          "Pretty Big Wieners",
          "Croccity Body Snatchers",
          "Saskatoon Squatches ",
          "Comeback 👑’s",
          "Idk much about soccer ",
          "📜 Providence 🪬 Spirits 🥂",
          "2014champ"
         ],
         "xaxis": "x",
         "y": [
          91.83219999999994,
          61.15349999999998,
          41.251300000000015,
          -2.4792999999999985,
          -38.59320000000004,
          -19.78760000000002,
          14.007799999999989,
          -15.37369999999996,
          -13.552900000000005,
          -62.68060000000006,
          3.0345999999999744,
          -114.88260000000004,
          -114.88260000000004,
          -115.55369999999998,
          -19.986099999999986,
          -112.91810000000002,
          -112.52699999999999,
          -62.343199999999996,
          -25.90460000000002,
          -116.52589999999998,
          -211.62709999999996,
          -125.98790000000001,
          -168.61359999999996,
          -281.2996
         ],
         "yaxis": "y"
        },
        {
         "alignmentgroup": "True",
         "customdata": [
          [
           393.84999999999997,
           "Daniel Carlson",
           "PK"
          ],
          [
           383.35,
           "Evan McPherson",
           "PK"
          ],
          [
           371,
           "Justin Tucker",
           "PK"
          ],
          [
           361.20000000000005,
           "Harrison Butker",
           "PK"
          ],
          [
           342.20000000000005,
           "Younghoe Koo",
           "PK"
          ],
          [
           344.55,
           "Jake Elliott",
           "PK"
          ],
          [
           331.95,
           "Jason Myers",
           "PK"
          ],
          [
           330.79999999999995,
           "Greg Joseph",
           "PK"
          ],
          [
           326.5,
           "Brandon McManus",
           "PK"
          ],
          [
           316.95,
           "Jason Sanders",
           "PK"
          ],
          [
           326.25,
           "Eddy Pineiro",
           "PK"
          ],
          [
           312.3,
           "Greg Zuerlein",
           "PK"
          ],
          [
           315.7,
           "Matt Gay",
           "PK"
          ],
          [
           307.93,
           "Tyler Bass",
           "PK"
          ],
          [
           314.45,
           "Joey Slye",
           "PK"
          ],
          [
           300.15000000000003,
           "Graham Gano",
           "PK"
          ],
          [
           309.45000000000005,
           "Jake Moody",
           "PK"
          ],
          [
           285.15000000000003,
           "Wil Lutz",
           "PK"
          ],
          [
           289.2,
           "Dustin Hopkins",
           "PK"
          ],
          [
           280.05,
           "Ka'imi Fairbairn",
           "PK"
          ],
          [
           260.89,
           "Cairo Santos",
           "PK"
          ]
         ],
         "hovertemplate": "<b>%{hovertext}</b><br><br>Relative Value=%{y}<br>Predicted Points=%{customdata[0]}<extra></extra>",
         "hovertext": [
          "Daniel Carlson",
          "Evan McPherson",
          "Justin Tucker",
          "Harrison Butker",
          "Younghoe Koo",
          "Jake Elliott",
          "Jason Myers",
          "Greg Joseph",
          "Brandon McManus",
          "Jason Sanders",
          "Eddy Pineiro",
          "Greg Zuerlein",
          "Matt Gay",
          "Tyler Bass",
          "Joey Slye",
          "Graham Gano",
          "Jake Moody",
          "Wil Lutz",
          "Dustin Hopkins",
          "Ka'imi Fairbairn",
          "Cairo Santos"
         ],
         "legendgroup": "PK",
         "marker": {
          "color": "hsla(14, 30%, 40%, 1)",
          "pattern": {
           "shape": ""
          }
         },
         "name": "PK",
         "offsetgroup": "PK",
         "orientation": "v",
         "showlegend": true,
         "text": [
          "Daniel Carlson",
          "Evan McPherson",
          "Justin Tucker",
          "Harrison Butker",
          "Younghoe Koo",
          "Jake Elliott",
          "Jason Myers",
          "Greg Joseph",
          "Brandon McManus",
          "Jason Sanders",
          "Eddy Pineiro",
          "Greg Zuerlein",
          "Matt Gay",
          "Tyler Bass",
          "Joey Slye",
          "Graham Gano",
          "Jake Moody",
          "Wil Lutz",
          "Dustin Hopkins",
          "Ka'imi Fairbairn",
          "Cairo Santos"
         ],
         "textposition": "auto",
         "type": "bar",
         "x": [
          "Pretty Big Wieners",
          "📜 Providence 🪬 Spirits 🥂",
          "GusTheBus",
          "Count of Monte Christian",
          "Croccity Body Snatchers",
          "DangeRUSS Last Ride",
          "Idk much about soccer ",
          "2014champ",
          "Idk much about soccer ",
          "Saskatoon Squatches ",
          "Verdanks Vacqueros FFC",
          "Comeback 👑’s",
          "DangeRUSS Last Ride",
          "📜 Providence 🪬 Spirits 🥂",
          "GusTheBus",
          "Saskatoon Squatches ",
          "Verdanks Vacqueros FFC",
          "2014champ",
          "Croccity Body Snatchers",
          "Count of Monte Christian",
          "Pretty Big Wieners"
         ],
         "xaxis": "x",
         "y": [
          60.13999999999998,
          50.44000000000007,
          37.29000000000002,
          28.190000000000047,
          9.29000000000004,
          11.540000000000024,
          -0.560000000000004,
          -2.9100000000000072,
          -6.409999999999972,
          -16.060000000000002,
          -6.660000000000004,
          -20.609999999999978,
          -17.21,
          -25.779999999999983,
          -18.359999999999985,
          -33.55999999999996,
          -23.45999999999995,
          -47.75999999999995,
          -43.309999999999995,
          -52.85999999999997,
          -72.81999999999998
         ],
         "yaxis": "y"
        }
       ],
       "layout": {
        "barmode": "stack",
        "font": {
         "family": "Skia"
        },
        "legend": {
         "title": {
          "text": "position"
         },
         "tracegroupgap": 0
        },
        "margin": {
         "t": 60
        },
        "plot_bgcolor": "rgba(0,0,0,0)",
        "showlegend": false,
        "template": {
         "data": {
          "bar": [
           {
            "error_x": {
             "color": "#2a3f5f"
            },
            "error_y": {
             "color": "#2a3f5f"
            },
            "marker": {
             "line": {
              "color": "#E5ECF6",
              "width": 0.5
             },
             "pattern": {
              "fillmode": "overlay",
              "size": 10,
              "solidity": 0.2
             }
            },
            "type": "bar"
           }
          ],
          "barpolar": [
           {
            "marker": {
             "line": {
              "color": "#E5ECF6",
              "width": 0.5
             },
             "pattern": {
              "fillmode": "overlay",
              "size": 10,
              "solidity": 0.2
             }
            },
            "type": "barpolar"
           }
          ],
          "carpet": [
           {
            "aaxis": {
             "endlinecolor": "#2a3f5f",
             "gridcolor": "white",
             "linecolor": "white",
             "minorgridcolor": "white",
             "startlinecolor": "#2a3f5f"
            },
            "baxis": {
             "endlinecolor": "#2a3f5f",
             "gridcolor": "white",
             "linecolor": "white",
             "minorgridcolor": "white",
             "startlinecolor": "#2a3f5f"
            },
            "type": "carpet"
           }
          ],
          "choropleth": [
           {
            "colorbar": {
             "outlinewidth": 0,
             "ticks": ""
            },
            "type": "choropleth"
           }
          ],
          "contour": [
           {
            "colorbar": {
             "outlinewidth": 0,
             "ticks": ""
            },
            "colorscale": [
             [
              0,
              "#0d0887"
             ],
             [
              0.1111111111111111,
              "#46039f"
             ],
             [
              0.2222222222222222,
              "#7201a8"
             ],
             [
              0.3333333333333333,
              "#9c179e"
             ],
             [
              0.4444444444444444,
              "#bd3786"
             ],
             [
              0.5555555555555556,
              "#d8576b"
             ],
             [
              0.6666666666666666,
              "#ed7953"
             ],
             [
              0.7777777777777778,
              "#fb9f3a"
             ],
             [
              0.8888888888888888,
              "#fdca26"
             ],
             [
              1,
              "#f0f921"
             ]
            ],
            "type": "contour"
           }
          ],
          "contourcarpet": [
           {
            "colorbar": {
             "outlinewidth": 0,
             "ticks": ""
            },
            "type": "contourcarpet"
           }
          ],
          "heatmap": [
           {
            "colorbar": {
             "outlinewidth": 0,
             "ticks": ""
            },
            "colorscale": [
             [
              0,
              "#0d0887"
             ],
             [
              0.1111111111111111,
              "#46039f"
             ],
             [
              0.2222222222222222,
              "#7201a8"
             ],
             [
              0.3333333333333333,
              "#9c179e"
             ],
             [
              0.4444444444444444,
              "#bd3786"
             ],
             [
              0.5555555555555556,
              "#d8576b"
             ],
             [
              0.6666666666666666,
              "#ed7953"
             ],
             [
              0.7777777777777778,
              "#fb9f3a"
             ],
             [
              0.8888888888888888,
              "#fdca26"
             ],
             [
              1,
              "#f0f921"
             ]
            ],
            "type": "heatmap"
           }
          ],
          "heatmapgl": [
           {
            "colorbar": {
             "outlinewidth": 0,
             "ticks": ""
            },
            "colorscale": [
             [
              0,
              "#0d0887"
             ],
             [
              0.1111111111111111,
              "#46039f"
             ],
             [
              0.2222222222222222,
              "#7201a8"
             ],
             [
              0.3333333333333333,
              "#9c179e"
             ],
             [
              0.4444444444444444,
              "#bd3786"
             ],
             [
              0.5555555555555556,
              "#d8576b"
             ],
             [
              0.6666666666666666,
              "#ed7953"
             ],
             [
              0.7777777777777778,
              "#fb9f3a"
             ],
             [
              0.8888888888888888,
              "#fdca26"
             ],
             [
              1,
              "#f0f921"
             ]
            ],
            "type": "heatmapgl"
           }
          ],
          "histogram": [
           {
            "marker": {
             "pattern": {
              "fillmode": "overlay",
              "size": 10,
              "solidity": 0.2
             }
            },
            "type": "histogram"
           }
          ],
          "histogram2d": [
           {
            "colorbar": {
             "outlinewidth": 0,
             "ticks": ""
            },
            "colorscale": [
             [
              0,
              "#0d0887"
             ],
             [
              0.1111111111111111,
              "#46039f"
             ],
             [
              0.2222222222222222,
              "#7201a8"
             ],
             [
              0.3333333333333333,
              "#9c179e"
             ],
             [
              0.4444444444444444,
              "#bd3786"
             ],
             [
              0.5555555555555556,
              "#d8576b"
             ],
             [
              0.6666666666666666,
              "#ed7953"
             ],
             [
              0.7777777777777778,
              "#fb9f3a"
             ],
             [
              0.8888888888888888,
              "#fdca26"
             ],
             [
              1,
              "#f0f921"
             ]
            ],
            "type": "histogram2d"
           }
          ],
          "histogram2dcontour": [
           {
            "colorbar": {
             "outlinewidth": 0,
             "ticks": ""
            },
            "colorscale": [
             [
              0,
              "#0d0887"
             ],
             [
              0.1111111111111111,
              "#46039f"
             ],
             [
              0.2222222222222222,
              "#7201a8"
             ],
             [
              0.3333333333333333,
              "#9c179e"
             ],
             [
              0.4444444444444444,
              "#bd3786"
             ],
             [
              0.5555555555555556,
              "#d8576b"
             ],
             [
              0.6666666666666666,
              "#ed7953"
             ],
             [
              0.7777777777777778,
              "#fb9f3a"
             ],
             [
              0.8888888888888888,
              "#fdca26"
             ],
             [
              1,
              "#f0f921"
             ]
            ],
            "type": "histogram2dcontour"
           }
          ],
          "mesh3d": [
           {
            "colorbar": {
             "outlinewidth": 0,
             "ticks": ""
            },
            "type": "mesh3d"
           }
          ],
          "parcoords": [
           {
            "line": {
             "colorbar": {
              "outlinewidth": 0,
              "ticks": ""
             }
            },
            "type": "parcoords"
           }
          ],
          "pie": [
           {
            "automargin": true,
            "type": "pie"
           }
          ],
          "scatter": [
           {
            "fillpattern": {
             "fillmode": "overlay",
             "size": 10,
             "solidity": 0.2
            },
            "type": "scatter"
           }
          ],
          "scatter3d": [
           {
            "line": {
             "colorbar": {
              "outlinewidth": 0,
              "ticks": ""
             }
            },
            "marker": {
             "colorbar": {
              "outlinewidth": 0,
              "ticks": ""
             }
            },
            "type": "scatter3d"
           }
          ],
          "scattercarpet": [
           {
            "marker": {
             "colorbar": {
              "outlinewidth": 0,
              "ticks": ""
             }
            },
            "type": "scattercarpet"
           }
          ],
          "scattergeo": [
           {
            "marker": {
             "colorbar": {
              "outlinewidth": 0,
              "ticks": ""
             }
            },
            "type": "scattergeo"
           }
          ],
          "scattergl": [
           {
            "marker": {
             "colorbar": {
              "outlinewidth": 0,
              "ticks": ""
             }
            },
            "type": "scattergl"
           }
          ],
          "scattermapbox": [
           {
            "marker": {
             "colorbar": {
              "outlinewidth": 0,
              "ticks": ""
             }
            },
            "type": "scattermapbox"
           }
          ],
          "scatterpolar": [
           {
            "marker": {
             "colorbar": {
              "outlinewidth": 0,
              "ticks": ""
             }
            },
            "type": "scatterpolar"
           }
          ],
          "scatterpolargl": [
           {
            "marker": {
             "colorbar": {
              "outlinewidth": 0,
              "ticks": ""
             }
            },
            "type": "scatterpolargl"
           }
          ],
          "scatterternary": [
           {
            "marker": {
             "colorbar": {
              "outlinewidth": 0,
              "ticks": ""
             }
            },
            "type": "scatterternary"
           }
          ],
          "surface": [
           {
            "colorbar": {
             "outlinewidth": 0,
             "ticks": ""
            },
            "colorscale": [
             [
              0,
              "#0d0887"
             ],
             [
              0.1111111111111111,
              "#46039f"
             ],
             [
              0.2222222222222222,
              "#7201a8"
             ],
             [
              0.3333333333333333,
              "#9c179e"
             ],
             [
              0.4444444444444444,
              "#bd3786"
             ],
             [
              0.5555555555555556,
              "#d8576b"
             ],
             [
              0.6666666666666666,
              "#ed7953"
             ],
             [
              0.7777777777777778,
              "#fb9f3a"
             ],
             [
              0.8888888888888888,
              "#fdca26"
             ],
             [
              1,
              "#f0f921"
             ]
            ],
            "type": "surface"
           }
          ],
          "table": [
           {
            "cells": {
             "fill": {
              "color": "#EBF0F8"
             },
             "line": {
              "color": "white"
             }
            },
            "header": {
             "fill": {
              "color": "#C8D4E3"
             },
             "line": {
              "color": "white"
             }
            },
            "type": "table"
           }
          ]
         },
         "layout": {
          "annotationdefaults": {
           "arrowcolor": "#2a3f5f",
           "arrowhead": 0,
           "arrowwidth": 1
          },
          "autotypenumbers": "strict",
          "coloraxis": {
           "colorbar": {
            "outlinewidth": 0,
            "ticks": ""
           }
          },
          "colorscale": {
           "diverging": [
            [
             0,
             "#8e0152"
            ],
            [
             0.1,
             "#c51b7d"
            ],
            [
             0.2,
             "#de77ae"
            ],
            [
             0.3,
             "#f1b6da"
            ],
            [
             0.4,
             "#fde0ef"
            ],
            [
             0.5,
             "#f7f7f7"
            ],
            [
             0.6,
             "#e6f5d0"
            ],
            [
             0.7,
             "#b8e186"
            ],
            [
             0.8,
             "#7fbc41"
            ],
            [
             0.9,
             "#4d9221"
            ],
            [
             1,
             "#276419"
            ]
           ],
           "sequential": [
            [
             0,
             "#0d0887"
            ],
            [
             0.1111111111111111,
             "#46039f"
            ],
            [
             0.2222222222222222,
             "#7201a8"
            ],
            [
             0.3333333333333333,
             "#9c179e"
            ],
            [
             0.4444444444444444,
             "#bd3786"
            ],
            [
             0.5555555555555556,
             "#d8576b"
            ],
            [
             0.6666666666666666,
             "#ed7953"
            ],
            [
             0.7777777777777778,
             "#fb9f3a"
            ],
            [
             0.8888888888888888,
             "#fdca26"
            ],
            [
             1,
             "#f0f921"
            ]
           ],
           "sequentialminus": [
            [
             0,
             "#0d0887"
            ],
            [
             0.1111111111111111,
             "#46039f"
            ],
            [
             0.2222222222222222,
             "#7201a8"
            ],
            [
             0.3333333333333333,
             "#9c179e"
            ],
            [
             0.4444444444444444,
             "#bd3786"
            ],
            [
             0.5555555555555556,
             "#d8576b"
            ],
            [
             0.6666666666666666,
             "#ed7953"
            ],
            [
             0.7777777777777778,
             "#fb9f3a"
            ],
            [
             0.8888888888888888,
             "#fdca26"
            ],
            [
             1,
             "#f0f921"
            ]
           ]
          },
          "colorway": [
           "#636efa",
           "#EF553B",
           "#00cc96",
           "#ab63fa",
           "#FFA15A",
           "#19d3f3",
           "#FF6692",
           "#B6E880",
           "#FF97FF",
           "#FECB52"
          ],
          "font": {
           "color": "#2a3f5f"
          },
          "geo": {
           "bgcolor": "white",
           "lakecolor": "white",
           "landcolor": "#E5ECF6",
           "showlakes": true,
           "showland": true,
           "subunitcolor": "white"
          },
          "hoverlabel": {
           "align": "left"
          },
          "hovermode": "closest",
          "mapbox": {
           "style": "light"
          },
          "paper_bgcolor": "white",
          "plot_bgcolor": "#E5ECF6",
          "polar": {
           "angularaxis": {
            "gridcolor": "white",
            "linecolor": "white",
            "ticks": ""
           },
           "bgcolor": "#E5ECF6",
           "radialaxis": {
            "gridcolor": "white",
            "linecolor": "white",
            "ticks": ""
           }
          },
          "scene": {
           "xaxis": {
            "backgroundcolor": "#E5ECF6",
            "gridcolor": "white",
            "gridwidth": 2,
            "linecolor": "white",
            "showbackground": true,
            "ticks": "",
            "zerolinecolor": "white"
           },
           "yaxis": {
            "backgroundcolor": "#E5ECF6",
            "gridcolor": "white",
            "gridwidth": 2,
            "linecolor": "white",
            "showbackground": true,
            "ticks": "",
            "zerolinecolor": "white"
           },
           "zaxis": {
            "backgroundcolor": "#E5ECF6",
            "gridcolor": "white",
            "gridwidth": 2,
            "linecolor": "white",
            "showbackground": true,
            "ticks": "",
            "zerolinecolor": "white"
           }
          },
          "shapedefaults": {
           "line": {
            "color": "#2a3f5f"
           }
          },
          "ternary": {
           "aaxis": {
            "gridcolor": "white",
            "linecolor": "white",
            "ticks": ""
           },
           "baxis": {
            "gridcolor": "white",
            "linecolor": "white",
            "ticks": ""
           },
           "bgcolor": "#E5ECF6",
           "caxis": {
            "gridcolor": "white",
            "linecolor": "white",
            "ticks": ""
           }
          },
          "title": {
           "x": 0.05
          },
          "xaxis": {
           "automargin": true,
           "gridcolor": "white",
           "linecolor": "white",
           "ticks": "",
           "title": {
            "standoff": 15
           },
           "zerolinecolor": "white",
           "zerolinewidth": 2
          },
          "yaxis": {
           "automargin": true,
           "gridcolor": "white",
           "linecolor": "white",
           "ticks": "",
           "title": {
            "standoff": 15
           },
           "zerolinecolor": "white",
           "zerolinewidth": 2
          }
         }
        },
        "title": {
         "text": "Franchise Comparison"
        },
        "xaxis": {
         "anchor": "y",
         "categoryorder": "total descending",
         "domain": [
          0,
          1
         ],
         "title": {
          "text": "Franchise"
         }
        },
        "yaxis": {
         "anchor": "x",
         "domain": [
          0,
          1
         ],
         "title": {
          "text": "Relative Value"
         }
        }
       }
      }
     },
     "metadata": {},
     "output_type": "display_data"
    }
   ],
   "source": [
    "# Summative report\n",
    "player_sums = full.copy()\n",
    "# Calculate relative points for each position in each week\n",
    "player_sums = getRelProjs(player_sums)\n",
    "# Sum points across the season\n",
    "player_sums = getSeasonTotals(player_sums)\n",
    "\n",
    "# Visualize\n",
    "fig = compareFranchises(player_sums, how='relative')\n",
    "fig.show()"
   ]
  },
  {
   "cell_type": "code",
   "execution_count": 111,
   "metadata": {},
   "outputs": [
    {
     "data": {
      "application/vnd.plotly.v1+json": {
       "config": {
        "plotlyServerURL": "https://plot.ly"
       },
       "data": [
        {
         "alignmentgroup": "True",
         "customdata": [
          [
           292.06,
           "Josh Allen",
           "QB"
          ],
          [
           278.55999999999995,
           "Patrick Mahomes",
           "QB"
          ],
          [
           266.61,
           "Jalen Hurts",
           "QB"
          ],
          [
           92.15,
           "Joe Burrow",
           "QB"
          ],
          [
           52.40999999999994,
           "Kirk Cousins",
           "QB"
          ],
          [
           104.20000000000002,
           "Justin Herbert",
           "QB"
          ],
          [
           39.32000000000002,
           "Lamar Jackson",
           "QB"
          ],
          [
           60.510000000000026,
           "Geno Smith",
           "QB"
          ],
          [
           40.23,
           "Dak Prescott",
           "QB"
          ],
          [
           65.10000000000002,
           "Justin Fields",
           "QB"
          ],
          [
           12.639999999999983,
           "Tua Tagovailoa",
           "QB"
          ],
          [
           -27.989999999999995,
           "Trevor Lawrence",
           "QB"
          ],
          [
           -66.02999999999999,
           "Baker Mayfield",
           "QB"
          ],
          [
           -30.47999999999997,
           "Derek Carr",
           "QB"
          ],
          [
           -39.95000000000001,
           "Jordan Love",
           "QB"
          ],
          [
           -20.030000000000022,
           "Brock Purdy",
           "QB"
          ],
          [
           -54.22,
           "Deshaun Watson",
           "QB"
          ],
          [
           -17.479999999999983,
           "Daniel Jones",
           "QB"
          ],
          [
           -53.680000000000035,
           "Sam Howell",
           "QB"
          ],
          [
           -75.86000000000004,
           "Aaron Rodgers",
           "QB"
          ],
          [
           -100.52000000000001,
           "Bryce Young",
           "QB"
          ],
          [
           -111.96000000000002,
           "Kenny Pickett",
           "QB"
          ]
         ],
         "hovertemplate": "<b>%{hovertext}</b><br><br>Predicted Points=%{y}<br>Relative Value=%{customdata[0]}<extra></extra>",
         "hovertext": [
          "Josh Allen",
          "Patrick Mahomes",
          "Jalen Hurts",
          "Joe Burrow",
          "Kirk Cousins",
          "Justin Herbert",
          "Lamar Jackson",
          "Geno Smith",
          "Dak Prescott",
          "Justin Fields",
          "Tua Tagovailoa",
          "Trevor Lawrence",
          "Baker Mayfield",
          "Derek Carr",
          "Jordan Love",
          "Brock Purdy",
          "Deshaun Watson",
          "Daniel Jones",
          "Sam Howell",
          "Aaron Rodgers",
          "Bryce Young",
          "Kenny Pickett"
         ],
         "legendgroup": "QB",
         "marker": {
          "color": "hsla(210, 60%, 25%, 1)",
          "pattern": {
           "shape": ""
          }
         },
         "name": "QB",
         "offsetgroup": "QB",
         "orientation": "v",
         "showlegend": true,
         "text": [
          "Josh Allen",
          "Patrick Mahomes",
          "Jalen Hurts",
          "Joe Burrow",
          "Kirk Cousins",
          "Justin Herbert",
          "Lamar Jackson",
          "Geno Smith",
          "Dak Prescott",
          "Justin Fields",
          "Tua Tagovailoa",
          "Trevor Lawrence",
          "Baker Mayfield",
          "Derek Carr",
          "Jordan Love",
          "Brock Purdy",
          "Deshaun Watson",
          "Daniel Jones",
          "Sam Howell",
          "Aaron Rodgers",
          "Bryce Young",
          "Kenny Pickett"
         ],
         "textposition": "auto",
         "type": "bar",
         "x": [
          "Comeback 👑’s",
          "Saskatoon Squatches ",
          "Croccity Body Snatchers",
          "Verdanks Vacqueros FFC",
          "2014champ",
          "kevinbash",
          "GusTheBus",
          "DangeRUSS Last Ride",
          "📜 Providence 🪬 Spirits 🥂",
          "Idk much about soccer ",
          "Verdanks Vacqueros FFC",
          "2014champ",
          "Count of Monte Christian",
          "Count of Monte Christian",
          "📜 Providence 🪬 Spirits 🥂",
          "Croccity Body Snatchers",
          "Pretty Big Wieners",
          "Comeback 👑’s",
          "kevinbash",
          "Pretty Big Wieners",
          "Idk much about soccer ",
          "GusTheBus"
         ],
         "xaxis": "x",
         "y": [
          842.21,
          827.79,
          815.84,
          640.1800000000001,
          602.56,
          651.83,
          589.47,
          608.1400000000001,
          588.26,
          615.25,
          561.87,
          519.46,
          481.6,
          517.09,
          506.72,
          527.42,
          493.41,
          532.6700000000001,
          492.75,
          472.16999999999996,
          447.51,
          434.71000000000004
         ],
         "yaxis": "y"
        },
        {
         "alignmentgroup": "True",
         "customdata": [
          [
           223.49,
           "Austin Ekeler",
           "RB"
          ],
          [
           212.20499999999998,
           "Derrick Henry",
           "RB"
          ],
          [
           188.49000000000004,
           "Christian McCaffrey",
           "RB"
          ],
          [
           159.46499999999997,
           "Josh Jacobs",
           "RB"
          ],
          [
           156.84000000000003,
           "Nick Chubb",
           "RB"
          ],
          [
           132.315,
           "James Conner",
           "RB"
          ],
          [
           121.965,
           "Joe Mixon",
           "RB"
          ],
          [
           69.11499999999998,
           "Miles Sanders",
           "RB"
          ],
          [
           107.43500000000004,
           "Najee Harris",
           "RB"
          ],
          [
           93.755,
           "Kenneth Walker",
           "RB"
          ],
          [
           102.50000000000001,
           "Antonio Gibson",
           "RB"
          ],
          [
           95.55,
           "Tony Pollard",
           "RB"
          ],
          [
           28.785000000000014,
           "Rhamondre Stevenson",
           "RB"
          ],
          [
           66.72500000000004,
           "Isiah Pacheco",
           "RB"
          ],
          [
           -29.51,
           "Bijan Robinson",
           "RB"
          ],
          [
           -0.4649999999999892,
           "Travis Etienne",
           "RB"
          ],
          [
           -1.7149999999999874,
           "J.K. Dobbins",
           "RB"
          ],
          [
           59.19500000000004,
           "Khalil Herbert",
           "RB"
          ],
          [
           62.525000000000006,
           "Saquon Barkley",
           "RB"
          ],
          [
           52.88999999999998,
           "David Montgomery",
           "RB"
          ],
          [
           44.38499999999999,
           "Aaron Jones",
           "RB"
          ],
          [
           35.035000000000004,
           "Dameon Pierce",
           "RB"
          ],
          [
           19.180000000000046,
           "Brian Robinson",
           "RB"
          ],
          [
           -5.7999999999999865,
           "Rachaad White",
           "RB"
          ],
          [
           7.379999999999994,
           "Alexander Mattison",
           "RB"
          ],
          [
           3.360000000000019,
           "Javonte Williams",
           "RB"
          ],
          [
           3.290000000000017,
           "D'Andre Swift",
           "RB"
          ],
          [
           -17.684999999999988,
           "Cam Akers",
           "RB"
          ],
          [
           -18.414999999999996,
           "AJ Dillon",
           "RB"
          ],
          [
           -11.199999999999998,
           "Breece Hall",
           "RB"
          ],
          [
           -48.375,
           "Jamaal Williams",
           "RB"
          ],
          [
           -29.715000000000003,
           "James Cook",
           "RB"
          ],
          [
           -76.55499999999999,
           "Jerick McKinnon",
           "RB"
          ],
          [
           -59.394999999999996,
           "Dalvin Cook",
           "RB"
          ],
          [
           -77.185,
           "Kenneth Gainwell",
           "RB"
          ],
          [
           -133.70499999999998,
           "Jahmyr Gibbs",
           "RB"
          ],
          [
           -60.635000000000005,
           "Zach Charbonnet",
           "RB"
          ],
          [
           -102.995,
           "Elijah Mitchell",
           "RB"
          ],
          [
           -218.72,
           "Gus Edwards",
           "RB"
          ]
         ],
         "hovertemplate": "<b>%{hovertext}</b><br><br>Predicted Points=%{y}<br>Relative Value=%{customdata[0]}<extra></extra>",
         "hovertext": [
          "Austin Ekeler",
          "Derrick Henry",
          "Christian McCaffrey",
          "Josh Jacobs",
          "Nick Chubb",
          "James Conner",
          "Joe Mixon",
          "Miles Sanders",
          "Najee Harris",
          "Kenneth Walker",
          "Antonio Gibson",
          "Tony Pollard",
          "Rhamondre Stevenson",
          "Isiah Pacheco",
          "Bijan Robinson",
          "Travis Etienne",
          "J.K. Dobbins",
          "Khalil Herbert",
          "Saquon Barkley",
          "David Montgomery",
          "Aaron Jones",
          "Dameon Pierce",
          "Brian Robinson",
          "Rachaad White",
          "Alexander Mattison",
          "Javonte Williams",
          "D'Andre Swift",
          "Cam Akers",
          "AJ Dillon",
          "Breece Hall",
          "Jamaal Williams",
          "James Cook",
          "Jerick McKinnon",
          "Dalvin Cook",
          "Kenneth Gainwell",
          "Jahmyr Gibbs",
          "Zach Charbonnet",
          "Elijah Mitchell",
          "Gus Edwards"
         ],
         "legendgroup": "RB",
         "marker": {
          "color": "hsla(12, 50%, 45%, 1)",
          "pattern": {
           "shape": ""
          }
         },
         "name": "RB",
         "offsetgroup": "RB",
         "orientation": "v",
         "showlegend": true,
         "text": [
          "Austin Ekeler",
          "Derrick Henry",
          "Christian McCaffrey",
          "Josh Jacobs",
          "Nick Chubb",
          "James Conner",
          "Joe Mixon",
          "Miles Sanders",
          "Najee Harris",
          "Kenneth Walker",
          "Antonio Gibson",
          "Tony Pollard",
          "Rhamondre Stevenson",
          "Isiah Pacheco",
          "Bijan Robinson",
          "Travis Etienne",
          "J.K. Dobbins",
          "Khalil Herbert",
          "Saquon Barkley",
          "David Montgomery",
          "Aaron Jones",
          "Dameon Pierce",
          "Brian Robinson",
          "Rachaad White",
          "Alexander Mattison",
          "Javonte Williams",
          "D'Andre Swift",
          "Cam Akers",
          "AJ Dillon",
          "Breece Hall",
          "Jamaal Williams",
          "James Cook",
          "Jerick McKinnon",
          "Dalvin Cook",
          "Kenneth Gainwell",
          "Jahmyr Gibbs",
          "Zach Charbonnet",
          "Elijah Mitchell",
          "Gus Edwards"
         ],
         "textposition": "auto",
         "type": "bar",
         "x": [
          "Croccity Body Snatchers",
          "DangeRUSS Last Ride",
          "DangeRUSS Last Ride",
          "Croccity Body Snatchers",
          "kevinbash",
          "DangeRUSS Last Ride",
          "Croccity Body Snatchers",
          "Pretty Big Wieners",
          "2014champ",
          "Verdanks Vacqueros FFC",
          "Count of Monte Christian",
          "Saskatoon Squatches ",
          "Saskatoon Squatches ",
          "Saskatoon Squatches ",
          "2014champ",
          "Verdanks Vacqueros FFC",
          "Pretty Big Wieners",
          "GusTheBus",
          "Saskatoon Squatches ",
          "Croccity Body Snatchers",
          "kevinbash",
          "GusTheBus",
          "Idk much about soccer ",
          "📜 Providence 🪬 Spirits 🥂",
          "Pretty Big Wieners",
          "Saskatoon Squatches ",
          "📜 Providence 🪬 Spirits 🥂",
          "GusTheBus",
          "📜 Providence 🪬 Spirits 🥂",
          "Comeback 👑’s",
          "Comeback 👑’s",
          "Pretty Big Wieners",
          "DangeRUSS Last Ride",
          "GusTheBus",
          "Count of Monte Christian",
          "📜 Providence 🪬 Spirits 🥂",
          "Idk much about soccer ",
          "Verdanks Vacqueros FFC",
          "Comeback 👑’s"
         ],
         "xaxis": "x",
         "y": [
          609.215,
          598.42,
          573.505,
          546.51,
          542.565,
          517.65,
          508.18,
          455.33,
          492.97,
          479.48,
          487.83500000000004,
          481.765,
          414.52000000000004,
          451.08000000000004,
          356.225,
          384.55,
          385.33000000000004,
          446.24000000000007,
          449.57,
          437.905,
          429.92,
          421.25,
          404.51500000000004,
          379.925,
          394.425,
          388.375,
          387.64500000000004,
          366.67,
          367.12,
          375.015,
          337.36,
          357.33,
          307.8,
          326.82,
          307.17,
          251.31000000000003,
          325.09000000000003,
          282.02,
          168.32500000000002
         ],
         "yaxis": "y"
        },
        {
         "alignmentgroup": "True",
         "customdata": [
          [
           177.142,
           "Justin Jefferson",
           "WR"
          ],
          [
           99.76199999999997,
           "Christian Watson",
           "WR"
          ],
          [
           133.54000000000002,
           "Tyreek Hill",
           "WR"
          ],
          [
           118.332,
           "CeeDee Lamb",
           "WR"
          ],
          [
           101.812,
           "Davante Adams",
           "WR"
          ],
          [
           92.042,
           "Ja'Marr Chase",
           "WR"
          ],
          [
           66.142,
           "Keenan Allen",
           "WR"
          ],
          [
           78.58399999999997,
           "Stefon Diggs",
           "WR"
          ],
          [
           72.93699999999998,
           "Deebo Samuel",
           "WR"
          ],
          [
           63.149999999999984,
           "Jaylen Waddle",
           "WR"
          ],
          [
           59.29999999999998,
           "A.J. Brown",
           "WR"
          ],
          [
           50.81700000000001,
           "Amon-Ra St. Brown",
           "WR"
          ],
          [
           22.95699999999999,
           "Mike Evans",
           "WR"
          ],
          [
           31.897000000000002,
           "Garrett Wilson",
           "WR"
          ],
          [
           18.186999999999998,
           "Chris Godwin",
           "WR"
          ],
          [
           13.71699999999999,
           "Tyler Lockett",
           "WR"
          ],
          [
           2.6519999999999957,
           "Christian Kirk",
           "WR"
          ],
          [
           31.207,
           "Tee Higgins",
           "WR"
          ],
          [
           -29.19299999999999,
           "Marquise Brown",
           "WR"
          ],
          [
           -2.258999999999986,
           "Chris Olave",
           "WR"
          ],
          [
           -17.11799999999999,
           "DeAndre Hopkins",
           "WR"
          ],
          [
           2.3819999999999677,
           "Amari Cooper",
           "WR"
          ],
          [
           -7.54399999999999,
           "DK Metcalf",
           "WR"
          ],
          [
           -20.828000000000024,
           "DeVonta Smith",
           "WR"
          ],
          [
           -13.218000000000002,
           "Terry McLaurin",
           "WR"
          ],
          [
           -28.768000000000004,
           "Nico Collins",
           "WR"
          ],
          [
           -30.148000000000046,
           "Michael Pittman",
           "WR"
          ],
          [
           -16.103000000000012,
           "Mike Williams",
           "WR"
          ],
          [
           -26.493000000000002,
           "DJ Moore",
           "WR"
          ],
          [
           -48.91299999999999,
           "Jahan Dotson",
           "WR"
          ],
          [
           -41.367999999999995,
           "Gabe Davis",
           "WR"
          ],
          [
           -36.518,
           "Jordan Addison",
           "WR"
          ],
          [
           -52.05800000000001,
           "Drake London",
           "WR"
          ],
          [
           -55.88300000000003,
           "Brandon Aiyuk",
           "WR"
          ],
          [
           -68.10799999999999,
           "Diontae Johnson",
           "WR"
          ],
          [
           -69.07800000000002,
           "George Pickens",
           "WR"
          ],
          [
           -193.228,
           "Calvin Ridley",
           "WR"
          ],
          [
           -106.263,
           "Michael Thomas",
           "WR"
          ],
          [
           -98.06,
           "Van Jefferson",
           "WR"
          ],
          [
           -118.62300000000002,
           "Brandin Cooks",
           "WR"
          ],
          [
           -179.07300000000004,
           "Treylon Burks",
           "WR"
          ],
          [
           -201.74300000000002,
           "Michael Gallup",
           "WR"
          ],
          [
           -208.83900000000003,
           "Randall Cobb",
           "WR"
          ],
          [
           -250.03300000000004,
           "Chase Claypool",
           "WR"
          ],
          [
           -252.64800000000002,
           "Elijah Moore",
           "WR"
          ]
         ],
         "hovertemplate": "<b>%{hovertext}</b><br><br>Predicted Points=%{y}<br>Relative Value=%{customdata[0]}<extra></extra>",
         "hovertext": [
          "Justin Jefferson",
          "Christian Watson",
          "Tyreek Hill",
          "CeeDee Lamb",
          "Davante Adams",
          "Ja'Marr Chase",
          "Keenan Allen",
          "Stefon Diggs",
          "Deebo Samuel",
          "Jaylen Waddle",
          "A.J. Brown",
          "Amon-Ra St. Brown",
          "Mike Evans",
          "Garrett Wilson",
          "Chris Godwin",
          "Tyler Lockett",
          "Christian Kirk",
          "Tee Higgins",
          "Marquise Brown",
          "Chris Olave",
          "DeAndre Hopkins",
          "Amari Cooper",
          "DK Metcalf",
          "DeVonta Smith",
          "Terry McLaurin",
          "Nico Collins",
          "Michael Pittman",
          "Mike Williams",
          "DJ Moore",
          "Jahan Dotson",
          "Gabe Davis",
          "Jordan Addison",
          "Drake London",
          "Brandon Aiyuk",
          "Diontae Johnson",
          "George Pickens",
          "Calvin Ridley",
          "Michael Thomas",
          "Van Jefferson",
          "Brandin Cooks",
          "Treylon Burks",
          "Michael Gallup",
          "Randall Cobb",
          "Chase Claypool",
          "Elijah Moore"
         ],
         "legendgroup": "WR",
         "marker": {
          "color": "hsla(267, 40%, 45%, 1)",
          "pattern": {
           "shape": ""
          }
         },
         "name": "WR",
         "offsetgroup": "WR",
         "orientation": "v",
         "showlegend": true,
         "text": [
          "Justin Jefferson",
          "Christian Watson",
          "Tyreek Hill",
          "CeeDee Lamb",
          "Davante Adams",
          "Ja'Marr Chase",
          "Keenan Allen",
          "Stefon Diggs",
          "Deebo Samuel",
          "Jaylen Waddle",
          "A.J. Brown",
          "Amon-Ra St. Brown",
          "Mike Evans",
          "Garrett Wilson",
          "Chris Godwin",
          "Tyler Lockett",
          "Christian Kirk",
          "Tee Higgins",
          "Marquise Brown",
          "Chris Olave",
          "DeAndre Hopkins",
          "Amari Cooper",
          "DK Metcalf",
          "DeVonta Smith",
          "Terry McLaurin",
          "Nico Collins",
          "Michael Pittman",
          "Mike Williams",
          "DJ Moore",
          "Jahan Dotson",
          "Gabe Davis",
          "Jordan Addison",
          "Drake London",
          "Brandon Aiyuk",
          "Diontae Johnson",
          "George Pickens",
          "Calvin Ridley",
          "Michael Thomas",
          "Van Jefferson",
          "Brandin Cooks",
          "Treylon Burks",
          "Michael Gallup",
          "Randall Cobb",
          "Chase Claypool",
          "Elijah Moore"
         ],
         "textposition": "auto",
         "type": "bar",
         "x": [
          "Pretty Big Wieners",
          "Count of Monte Christian",
          "Saskatoon Squatches ",
          "Count of Monte Christian",
          "Verdanks Vacqueros FFC",
          "Saskatoon Squatches ",
          "Pretty Big Wieners",
          "Comeback 👑’s",
          "2014champ",
          "GusTheBus",
          "Pretty Big Wieners",
          "kevinbash",
          "kevinbash",
          "📜 Providence 🪬 Spirits 🥂",
          "Croccity Body Snatchers",
          "Croccity Body Snatchers",
          "GusTheBus",
          "2014champ",
          "Croccity Body Snatchers",
          "Count of Monte Christian",
          "Verdanks Vacqueros FFC",
          "Verdanks Vacqueros FFC",
          "2014champ",
          "Count of Monte Christian",
          "kevinbash",
          "📜 Providence 🪬 Spirits 🥂",
          "GusTheBus",
          "Idk much about soccer ",
          "Idk much about soccer ",
          "📜 Providence 🪬 Spirits 🥂",
          "2014champ",
          "DangeRUSS Last Ride",
          "Idk much about soccer ",
          "kevinbash",
          "Idk much about soccer ",
          "DangeRUSS Last Ride",
          "2014champ",
          "Idk much about soccer ",
          "Verdanks Vacqueros FFC",
          "Comeback 👑’s",
          "Count of Monte Christian",
          "Comeback 👑’s",
          "Comeback 👑’s",
          "DangeRUSS Last Ride",
          "Saskatoon Squatches "
         ],
         "xaxis": "x",
         "y": [
          529.21,
          451.39,
          485.75,
          471.05,
          453.88,
          444.76000000000005,
          418.27000000000004,
          430.652,
          425.325,
          415.36,
          411.51,
          403.20500000000004,
          375.08500000000004,
          384.615,
          370.315,
          365.845,
          355.04,
          383.925,
          323.12500000000006,
          349.249,
          335.6,
          354.51,
          344.58400000000006,
          331.382,
          339.1,
          323.95000000000005,
          321.35999999999996,
          336.02500000000003,
          325.575,
          303.40500000000003,
          310.70000000000005,
          315.55,
          299.45000000000005,
          296.505,
          283.52000000000004,
          282.55,
          159.16,
          245.245,
          254.15,
          234.095,
          173.645,
          150.97500000000002,
          143.879,
          102.035,
          99.48000000000002
         ],
         "yaxis": "y"
        },
        {
         "alignmentgroup": "True",
         "customdata": [
          [
           233.24799999999996,
           "Travis Kelce",
           "TE"
          ],
          [
           128.333,
           "Mark Andrews",
           "TE"
          ],
          [
           114.25799999999998,
           "George Kittle",
           "TE"
          ],
          [
           68.25800000000001,
           "Taysom Hill",
           "TE"
          ],
          [
           30.333000000000027,
           "Dawson Knox",
           "TE"
          ],
          [
           49.67800000000003,
           "Dallas Goedert",
           "TE"
          ],
          [
           19.718,
           "T.J. Hockenson",
           "TE"
          ],
          [
           15.523000000000003,
           "Dalton Schultz",
           "TE"
          ],
          [
           18.533000000000015,
           "Kyle Pitts",
           "TE"
          ],
          [
           -10.816999999999979,
           "Evan Engram",
           "TE"
          ],
          [
           12.188000000000013,
           "David Njoku",
           "TE"
          ],
          [
           -16.842000000000002,
           "Sam LaPorta",
           "TE"
          ],
          [
           -13.941999999999991,
           "Tyler Higbee",
           "TE"
          ],
          [
           -1.8420000000000076,
           "Greg Dulcich",
           "TE"
          ],
          [
           -39.516000000000005,
           "Noah Fant",
           "TE"
          ],
          [
           -37.64199999999999,
           "Hunter Henry",
           "TE"
          ],
          [
           -46.664,
           "Darren Waller",
           "TE"
          ],
          [
           -61.907999999999994,
           "Tyler Conklin",
           "TE"
          ],
          [
           -53.602,
           "Cade Otton",
           "TE"
          ],
          [
           -61.016999999999996,
           "Irv Smith",
           "TE"
          ],
          [
           -135.847,
           "Robert Tonyan",
           "TE"
          ],
          [
           -140.807,
           "Noah Gray",
           "TE"
          ],
          [
           -169.007,
           "Michael Mayer",
           "TE"
          ],
          [
           -166.91699999999997,
           "Adam Trautman",
           "TE"
          ]
         ],
         "hovertemplate": "<b>%{hovertext}</b><br><br>Predicted Points=%{y}<br>Relative Value=%{customdata[0]}<extra></extra>",
         "hovertext": [
          "Travis Kelce",
          "Mark Andrews",
          "George Kittle",
          "Taysom Hill",
          "Dawson Knox",
          "Dallas Goedert",
          "T.J. Hockenson",
          "Dalton Schultz",
          "Kyle Pitts",
          "Evan Engram",
          "David Njoku",
          "Sam LaPorta",
          "Tyler Higbee",
          "Greg Dulcich",
          "Noah Fant",
          "Hunter Henry",
          "Darren Waller",
          "Tyler Conklin",
          "Cade Otton",
          "Irv Smith",
          "Robert Tonyan",
          "Noah Gray",
          "Michael Mayer",
          "Adam Trautman"
         ],
         "legendgroup": "TE",
         "marker": {
          "color": "hsla(177, 68%, 36%, 1)",
          "pattern": {
           "shape": ""
          }
         },
         "name": "TE",
         "offsetgroup": "TE",
         "orientation": "v",
         "showlegend": true,
         "text": [
          "Travis Kelce",
          "Mark Andrews",
          "George Kittle",
          "Taysom Hill",
          "Dawson Knox",
          "Dallas Goedert",
          "T.J. Hockenson",
          "Dalton Schultz",
          "Kyle Pitts",
          "Evan Engram",
          "David Njoku",
          "Sam LaPorta",
          "Tyler Higbee",
          "Greg Dulcich",
          "Noah Fant",
          "Hunter Henry",
          "Darren Waller",
          "Tyler Conklin",
          "Cade Otton",
          "Irv Smith",
          "Robert Tonyan",
          "Noah Gray",
          "Michael Mayer",
          "Adam Trautman"
         ],
         "textposition": "auto",
         "type": "bar",
         "x": [
          "Verdanks Vacqueros FFC",
          "Pretty Big Wieners",
          "DangeRUSS Last Ride",
          "2014champ",
          "Idk much about soccer ",
          "Saskatoon Squatches ",
          "Saskatoon Squatches ",
          "Comeback 👑’s",
          "📜 Providence 🪬 Spirits 🥂",
          "2014champ",
          "Verdanks Vacqueros FFC",
          "kevinbash",
          "Croccity Body Snatchers",
          "Croccity Body Snatchers",
          "GusTheBus",
          "Count of Monte Christian",
          "DangeRUSS Last Ride",
          "Pretty Big Wieners",
          "Idk much about soccer ",
          "📜 Providence 🪬 Spirits 🥂",
          "Comeback 👑’s",
          "Count of Monte Christian",
          "GusTheBus",
          "kevinbash"
         ],
         "xaxis": "x",
         "y": [
          456.69,
          351.575,
          337.05,
          291.1,
          253.57500000000002,
          273.12,
          242.96,
          238.51500000000001,
          241.37500000000003,
          211.97500000000002,
          234.54000000000002,
          205.95,
          209.5,
          220.95,
          182.836,
          185.20000000000002,
          176.578,
          161.084,
          168.75,
          161.975,
          87.39500000000001,
          82.635,
          54.235,
          55.87500000000001
         ],
         "yaxis": "y"
        },
        {
         "alignmentgroup": "True",
         "customdata": [
          [
           91.83219999999994,
           "NYJ",
           "DEF"
          ],
          [
           61.15349999999998,
           "NO",
           "DEF"
          ],
          [
           41.251300000000015,
           "PHI",
           "DEF"
          ],
          [
           -2.4792999999999985,
           "DEN",
           "DEF"
          ],
          [
           -38.59320000000004,
           "CAR",
           "DEF"
          ],
          [
           -19.78760000000002,
           "KC",
           "DEF"
          ],
          [
           14.007799999999989,
           "BAL",
           "DEF"
          ],
          [
           -15.37369999999996,
           "JAX",
           "DEF"
          ],
          [
           -13.552900000000005,
           "CLE",
           "DEF"
          ],
          [
           -62.68060000000006,
           "ATL",
           "DEF"
          ],
          [
           3.0345999999999744,
           "PIT",
           "DEF"
          ],
          [
           -114.88260000000004,
           "LAC",
           "DEF"
          ],
          [
           -114.88260000000004,
           "LAR",
           "DEF"
          ],
          [
           -115.55369999999998,
           "LV",
           "DEF"
          ],
          [
           -19.986099999999986,
           "BUF",
           "DEF"
          ],
          [
           -112.91810000000002,
           "GB",
           "DEF"
          ],
          [
           -112.52699999999999,
           "ARI",
           "DEF"
          ],
          [
           -62.343199999999996,
           "CIN",
           "DEF"
          ],
          [
           -25.90460000000002,
           "SF",
           "DEF"
          ],
          [
           -116.52589999999998,
           "SEA",
           "DEF"
          ],
          [
           -211.62709999999996,
           "MIN",
           "DEF"
          ],
          [
           -125.98790000000001,
           "IND",
           "DEF"
          ],
          [
           -168.61359999999996,
           "DAL",
           "DEF"
          ],
          [
           -281.2996,
           "CHI",
           "DEF"
          ]
         ],
         "hovertemplate": "<b>%{hovertext}</b><br><br>Predicted Points=%{y}<br>Relative Value=%{customdata[0]}<extra></extra>",
         "hovertext": [
          "NYJ",
          "NO",
          "PHI",
          "DEN",
          "CAR",
          "KC",
          "BAL",
          "JAX",
          "CLE",
          "ATL",
          "PIT",
          "LAC",
          "LAR",
          "LV",
          "BUF",
          "GB",
          "ARI",
          "CIN",
          "SF",
          "SEA",
          "MIN",
          "IND",
          "DAL",
          "CHI"
         ],
         "legendgroup": "DEF",
         "marker": {
          "color": "hsla(35, 70%, 65%, 1)",
          "pattern": {
           "shape": ""
          }
         },
         "name": "DEF",
         "offsetgroup": "DEF",
         "orientation": "v",
         "showlegend": true,
         "text": [
          "NYJ",
          "NO",
          "PHI",
          "DEN",
          "CAR",
          "KC",
          "BAL",
          "JAX",
          "CLE",
          "ATL",
          "PIT",
          "LAC",
          "LAR",
          "LV",
          "BUF",
          "GB",
          "ARI",
          "CIN",
          "SF",
          "SEA",
          "MIN",
          "IND",
          "DAL",
          "CHI"
         ],
         "textposition": "auto",
         "type": "bar",
         "x": [
          "📜 Providence 🪬 Spirits 🥂",
          "kevinbash",
          "Pretty Big Wieners",
          "Croccity Body Snatchers",
          "Verdanks Vacqueros FFC",
          "Idk much about soccer ",
          "GusTheBus",
          "Saskatoon Squatches ",
          "2014champ",
          "Count of Monte Christian",
          "GusTheBus",
          "DangeRUSS Last Ride",
          "Comeback 👑’s",
          "Count of Monte Christian",
          "kevinbash",
          "DangeRUSS Last Ride",
          "Verdanks Vacqueros FFC",
          "Pretty Big Wieners",
          "Croccity Body Snatchers",
          "Saskatoon Squatches ",
          "Comeback 👑’s",
          "Idk much about soccer ",
          "📜 Providence 🪬 Spirits 🥂",
          "2014champ"
         ],
         "xaxis": "x",
         "y": [
          484.6678,
          258.6071,
          236.91910000000004,
          191.00010000000003,
          157.39239999999998,
          175.8802,
          210.8578,
          178.10570000000007,
          181.4927,
          134.77299999999997,
          197.0136,
          275.8308,
          275.8308,
          81.29630000000004,
          176.86390000000003,
          81.06089999999999,
          82.99620000000004,
          133.6424,
          167.5748,
          78.51970000000003,
          -14.777099999999933,
          71.46570000000001,
          27.372000000000046,
          -84.44959999999999
         ],
         "yaxis": "y"
        },
        {
         "alignmentgroup": "True",
         "customdata": [
          [
           60.13999999999998,
           "Daniel Carlson",
           "PK"
          ],
          [
           50.44000000000007,
           "Evan McPherson",
           "PK"
          ],
          [
           37.29000000000002,
           "Justin Tucker",
           "PK"
          ],
          [
           28.190000000000047,
           "Harrison Butker",
           "PK"
          ],
          [
           9.29000000000004,
           "Younghoe Koo",
           "PK"
          ],
          [
           11.540000000000024,
           "Jake Elliott",
           "PK"
          ],
          [
           -0.560000000000004,
           "Jason Myers",
           "PK"
          ],
          [
           -2.9100000000000072,
           "Greg Joseph",
           "PK"
          ],
          [
           -6.409999999999972,
           "Brandon McManus",
           "PK"
          ],
          [
           -16.060000000000002,
           "Jason Sanders",
           "PK"
          ],
          [
           -6.660000000000004,
           "Eddy Pineiro",
           "PK"
          ],
          [
           -20.609999999999978,
           "Greg Zuerlein",
           "PK"
          ],
          [
           -17.21,
           "Matt Gay",
           "PK"
          ],
          [
           -25.779999999999983,
           "Tyler Bass",
           "PK"
          ],
          [
           -18.359999999999985,
           "Joey Slye",
           "PK"
          ],
          [
           -33.55999999999996,
           "Graham Gano",
           "PK"
          ],
          [
           -23.45999999999995,
           "Jake Moody",
           "PK"
          ],
          [
           -47.75999999999995,
           "Wil Lutz",
           "PK"
          ],
          [
           -43.309999999999995,
           "Dustin Hopkins",
           "PK"
          ],
          [
           -52.85999999999997,
           "Ka'imi Fairbairn",
           "PK"
          ],
          [
           -72.81999999999998,
           "Cairo Santos",
           "PK"
          ]
         ],
         "hovertemplate": "<b>%{hovertext}</b><br><br>Predicted Points=%{y}<br>Relative Value=%{customdata[0]}<extra></extra>",
         "hovertext": [
          "Daniel Carlson",
          "Evan McPherson",
          "Justin Tucker",
          "Harrison Butker",
          "Younghoe Koo",
          "Jake Elliott",
          "Jason Myers",
          "Greg Joseph",
          "Brandon McManus",
          "Jason Sanders",
          "Eddy Pineiro",
          "Greg Zuerlein",
          "Matt Gay",
          "Tyler Bass",
          "Joey Slye",
          "Graham Gano",
          "Jake Moody",
          "Wil Lutz",
          "Dustin Hopkins",
          "Ka'imi Fairbairn",
          "Cairo Santos"
         ],
         "legendgroup": "PK",
         "marker": {
          "color": "hsla(14, 30%, 40%, 1)",
          "pattern": {
           "shape": ""
          }
         },
         "name": "PK",
         "offsetgroup": "PK",
         "orientation": "v",
         "showlegend": true,
         "text": [
          "Daniel Carlson",
          "Evan McPherson",
          "Justin Tucker",
          "Harrison Butker",
          "Younghoe Koo",
          "Jake Elliott",
          "Jason Myers",
          "Greg Joseph",
          "Brandon McManus",
          "Jason Sanders",
          "Eddy Pineiro",
          "Greg Zuerlein",
          "Matt Gay",
          "Tyler Bass",
          "Joey Slye",
          "Graham Gano",
          "Jake Moody",
          "Wil Lutz",
          "Dustin Hopkins",
          "Ka'imi Fairbairn",
          "Cairo Santos"
         ],
         "textposition": "auto",
         "type": "bar",
         "x": [
          "Pretty Big Wieners",
          "📜 Providence 🪬 Spirits 🥂",
          "GusTheBus",
          "Count of Monte Christian",
          "Croccity Body Snatchers",
          "DangeRUSS Last Ride",
          "Idk much about soccer ",
          "2014champ",
          "Idk much about soccer ",
          "Saskatoon Squatches ",
          "Verdanks Vacqueros FFC",
          "Comeback 👑’s",
          "DangeRUSS Last Ride",
          "📜 Providence 🪬 Spirits 🥂",
          "GusTheBus",
          "Saskatoon Squatches ",
          "Verdanks Vacqueros FFC",
          "2014champ",
          "Croccity Body Snatchers",
          "Count of Monte Christian",
          "Pretty Big Wieners"
         ],
         "xaxis": "x",
         "y": [
          393.84999999999997,
          383.35,
          371,
          361.20000000000005,
          342.20000000000005,
          344.55,
          331.95,
          330.79999999999995,
          326.5,
          316.95,
          326.25,
          312.3,
          315.7,
          307.93,
          314.45,
          300.15000000000003,
          309.45000000000005,
          285.15000000000003,
          289.2,
          280.05,
          260.89
         ],
         "yaxis": "y"
        }
       ],
       "layout": {
        "barmode": "stack",
        "font": {
         "family": "Skia"
        },
        "legend": {
         "title": {
          "text": "position"
         },
         "tracegroupgap": 0
        },
        "margin": {
         "t": 60
        },
        "plot_bgcolor": "rgba(0,0,0,0)",
        "showlegend": false,
        "template": {
         "data": {
          "bar": [
           {
            "error_x": {
             "color": "#2a3f5f"
            },
            "error_y": {
             "color": "#2a3f5f"
            },
            "marker": {
             "line": {
              "color": "#E5ECF6",
              "width": 0.5
             },
             "pattern": {
              "fillmode": "overlay",
              "size": 10,
              "solidity": 0.2
             }
            },
            "type": "bar"
           }
          ],
          "barpolar": [
           {
            "marker": {
             "line": {
              "color": "#E5ECF6",
              "width": 0.5
             },
             "pattern": {
              "fillmode": "overlay",
              "size": 10,
              "solidity": 0.2
             }
            },
            "type": "barpolar"
           }
          ],
          "carpet": [
           {
            "aaxis": {
             "endlinecolor": "#2a3f5f",
             "gridcolor": "white",
             "linecolor": "white",
             "minorgridcolor": "white",
             "startlinecolor": "#2a3f5f"
            },
            "baxis": {
             "endlinecolor": "#2a3f5f",
             "gridcolor": "white",
             "linecolor": "white",
             "minorgridcolor": "white",
             "startlinecolor": "#2a3f5f"
            },
            "type": "carpet"
           }
          ],
          "choropleth": [
           {
            "colorbar": {
             "outlinewidth": 0,
             "ticks": ""
            },
            "type": "choropleth"
           }
          ],
          "contour": [
           {
            "colorbar": {
             "outlinewidth": 0,
             "ticks": ""
            },
            "colorscale": [
             [
              0,
              "#0d0887"
             ],
             [
              0.1111111111111111,
              "#46039f"
             ],
             [
              0.2222222222222222,
              "#7201a8"
             ],
             [
              0.3333333333333333,
              "#9c179e"
             ],
             [
              0.4444444444444444,
              "#bd3786"
             ],
             [
              0.5555555555555556,
              "#d8576b"
             ],
             [
              0.6666666666666666,
              "#ed7953"
             ],
             [
              0.7777777777777778,
              "#fb9f3a"
             ],
             [
              0.8888888888888888,
              "#fdca26"
             ],
             [
              1,
              "#f0f921"
             ]
            ],
            "type": "contour"
           }
          ],
          "contourcarpet": [
           {
            "colorbar": {
             "outlinewidth": 0,
             "ticks": ""
            },
            "type": "contourcarpet"
           }
          ],
          "heatmap": [
           {
            "colorbar": {
             "outlinewidth": 0,
             "ticks": ""
            },
            "colorscale": [
             [
              0,
              "#0d0887"
             ],
             [
              0.1111111111111111,
              "#46039f"
             ],
             [
              0.2222222222222222,
              "#7201a8"
             ],
             [
              0.3333333333333333,
              "#9c179e"
             ],
             [
              0.4444444444444444,
              "#bd3786"
             ],
             [
              0.5555555555555556,
              "#d8576b"
             ],
             [
              0.6666666666666666,
              "#ed7953"
             ],
             [
              0.7777777777777778,
              "#fb9f3a"
             ],
             [
              0.8888888888888888,
              "#fdca26"
             ],
             [
              1,
              "#f0f921"
             ]
            ],
            "type": "heatmap"
           }
          ],
          "heatmapgl": [
           {
            "colorbar": {
             "outlinewidth": 0,
             "ticks": ""
            },
            "colorscale": [
             [
              0,
              "#0d0887"
             ],
             [
              0.1111111111111111,
              "#46039f"
             ],
             [
              0.2222222222222222,
              "#7201a8"
             ],
             [
              0.3333333333333333,
              "#9c179e"
             ],
             [
              0.4444444444444444,
              "#bd3786"
             ],
             [
              0.5555555555555556,
              "#d8576b"
             ],
             [
              0.6666666666666666,
              "#ed7953"
             ],
             [
              0.7777777777777778,
              "#fb9f3a"
             ],
             [
              0.8888888888888888,
              "#fdca26"
             ],
             [
              1,
              "#f0f921"
             ]
            ],
            "type": "heatmapgl"
           }
          ],
          "histogram": [
           {
            "marker": {
             "pattern": {
              "fillmode": "overlay",
              "size": 10,
              "solidity": 0.2
             }
            },
            "type": "histogram"
           }
          ],
          "histogram2d": [
           {
            "colorbar": {
             "outlinewidth": 0,
             "ticks": ""
            },
            "colorscale": [
             [
              0,
              "#0d0887"
             ],
             [
              0.1111111111111111,
              "#46039f"
             ],
             [
              0.2222222222222222,
              "#7201a8"
             ],
             [
              0.3333333333333333,
              "#9c179e"
             ],
             [
              0.4444444444444444,
              "#bd3786"
             ],
             [
              0.5555555555555556,
              "#d8576b"
             ],
             [
              0.6666666666666666,
              "#ed7953"
             ],
             [
              0.7777777777777778,
              "#fb9f3a"
             ],
             [
              0.8888888888888888,
              "#fdca26"
             ],
             [
              1,
              "#f0f921"
             ]
            ],
            "type": "histogram2d"
           }
          ],
          "histogram2dcontour": [
           {
            "colorbar": {
             "outlinewidth": 0,
             "ticks": ""
            },
            "colorscale": [
             [
              0,
              "#0d0887"
             ],
             [
              0.1111111111111111,
              "#46039f"
             ],
             [
              0.2222222222222222,
              "#7201a8"
             ],
             [
              0.3333333333333333,
              "#9c179e"
             ],
             [
              0.4444444444444444,
              "#bd3786"
             ],
             [
              0.5555555555555556,
              "#d8576b"
             ],
             [
              0.6666666666666666,
              "#ed7953"
             ],
             [
              0.7777777777777778,
              "#fb9f3a"
             ],
             [
              0.8888888888888888,
              "#fdca26"
             ],
             [
              1,
              "#f0f921"
             ]
            ],
            "type": "histogram2dcontour"
           }
          ],
          "mesh3d": [
           {
            "colorbar": {
             "outlinewidth": 0,
             "ticks": ""
            },
            "type": "mesh3d"
           }
          ],
          "parcoords": [
           {
            "line": {
             "colorbar": {
              "outlinewidth": 0,
              "ticks": ""
             }
            },
            "type": "parcoords"
           }
          ],
          "pie": [
           {
            "automargin": true,
            "type": "pie"
           }
          ],
          "scatter": [
           {
            "fillpattern": {
             "fillmode": "overlay",
             "size": 10,
             "solidity": 0.2
            },
            "type": "scatter"
           }
          ],
          "scatter3d": [
           {
            "line": {
             "colorbar": {
              "outlinewidth": 0,
              "ticks": ""
             }
            },
            "marker": {
             "colorbar": {
              "outlinewidth": 0,
              "ticks": ""
             }
            },
            "type": "scatter3d"
           }
          ],
          "scattercarpet": [
           {
            "marker": {
             "colorbar": {
              "outlinewidth": 0,
              "ticks": ""
             }
            },
            "type": "scattercarpet"
           }
          ],
          "scattergeo": [
           {
            "marker": {
             "colorbar": {
              "outlinewidth": 0,
              "ticks": ""
             }
            },
            "type": "scattergeo"
           }
          ],
          "scattergl": [
           {
            "marker": {
             "colorbar": {
              "outlinewidth": 0,
              "ticks": ""
             }
            },
            "type": "scattergl"
           }
          ],
          "scattermapbox": [
           {
            "marker": {
             "colorbar": {
              "outlinewidth": 0,
              "ticks": ""
             }
            },
            "type": "scattermapbox"
           }
          ],
          "scatterpolar": [
           {
            "marker": {
             "colorbar": {
              "outlinewidth": 0,
              "ticks": ""
             }
            },
            "type": "scatterpolar"
           }
          ],
          "scatterpolargl": [
           {
            "marker": {
             "colorbar": {
              "outlinewidth": 0,
              "ticks": ""
             }
            },
            "type": "scatterpolargl"
           }
          ],
          "scatterternary": [
           {
            "marker": {
             "colorbar": {
              "outlinewidth": 0,
              "ticks": ""
             }
            },
            "type": "scatterternary"
           }
          ],
          "surface": [
           {
            "colorbar": {
             "outlinewidth": 0,
             "ticks": ""
            },
            "colorscale": [
             [
              0,
              "#0d0887"
             ],
             [
              0.1111111111111111,
              "#46039f"
             ],
             [
              0.2222222222222222,
              "#7201a8"
             ],
             [
              0.3333333333333333,
              "#9c179e"
             ],
             [
              0.4444444444444444,
              "#bd3786"
             ],
             [
              0.5555555555555556,
              "#d8576b"
             ],
             [
              0.6666666666666666,
              "#ed7953"
             ],
             [
              0.7777777777777778,
              "#fb9f3a"
             ],
             [
              0.8888888888888888,
              "#fdca26"
             ],
             [
              1,
              "#f0f921"
             ]
            ],
            "type": "surface"
           }
          ],
          "table": [
           {
            "cells": {
             "fill": {
              "color": "#EBF0F8"
             },
             "line": {
              "color": "white"
             }
            },
            "header": {
             "fill": {
              "color": "#C8D4E3"
             },
             "line": {
              "color": "white"
             }
            },
            "type": "table"
           }
          ]
         },
         "layout": {
          "annotationdefaults": {
           "arrowcolor": "#2a3f5f",
           "arrowhead": 0,
           "arrowwidth": 1
          },
          "autotypenumbers": "strict",
          "coloraxis": {
           "colorbar": {
            "outlinewidth": 0,
            "ticks": ""
           }
          },
          "colorscale": {
           "diverging": [
            [
             0,
             "#8e0152"
            ],
            [
             0.1,
             "#c51b7d"
            ],
            [
             0.2,
             "#de77ae"
            ],
            [
             0.3,
             "#f1b6da"
            ],
            [
             0.4,
             "#fde0ef"
            ],
            [
             0.5,
             "#f7f7f7"
            ],
            [
             0.6,
             "#e6f5d0"
            ],
            [
             0.7,
             "#b8e186"
            ],
            [
             0.8,
             "#7fbc41"
            ],
            [
             0.9,
             "#4d9221"
            ],
            [
             1,
             "#276419"
            ]
           ],
           "sequential": [
            [
             0,
             "#0d0887"
            ],
            [
             0.1111111111111111,
             "#46039f"
            ],
            [
             0.2222222222222222,
             "#7201a8"
            ],
            [
             0.3333333333333333,
             "#9c179e"
            ],
            [
             0.4444444444444444,
             "#bd3786"
            ],
            [
             0.5555555555555556,
             "#d8576b"
            ],
            [
             0.6666666666666666,
             "#ed7953"
            ],
            [
             0.7777777777777778,
             "#fb9f3a"
            ],
            [
             0.8888888888888888,
             "#fdca26"
            ],
            [
             1,
             "#f0f921"
            ]
           ],
           "sequentialminus": [
            [
             0,
             "#0d0887"
            ],
            [
             0.1111111111111111,
             "#46039f"
            ],
            [
             0.2222222222222222,
             "#7201a8"
            ],
            [
             0.3333333333333333,
             "#9c179e"
            ],
            [
             0.4444444444444444,
             "#bd3786"
            ],
            [
             0.5555555555555556,
             "#d8576b"
            ],
            [
             0.6666666666666666,
             "#ed7953"
            ],
            [
             0.7777777777777778,
             "#fb9f3a"
            ],
            [
             0.8888888888888888,
             "#fdca26"
            ],
            [
             1,
             "#f0f921"
            ]
           ]
          },
          "colorway": [
           "#636efa",
           "#EF553B",
           "#00cc96",
           "#ab63fa",
           "#FFA15A",
           "#19d3f3",
           "#FF6692",
           "#B6E880",
           "#FF97FF",
           "#FECB52"
          ],
          "font": {
           "color": "#2a3f5f"
          },
          "geo": {
           "bgcolor": "white",
           "lakecolor": "white",
           "landcolor": "#E5ECF6",
           "showlakes": true,
           "showland": true,
           "subunitcolor": "white"
          },
          "hoverlabel": {
           "align": "left"
          },
          "hovermode": "closest",
          "mapbox": {
           "style": "light"
          },
          "paper_bgcolor": "white",
          "plot_bgcolor": "#E5ECF6",
          "polar": {
           "angularaxis": {
            "gridcolor": "white",
            "linecolor": "white",
            "ticks": ""
           },
           "bgcolor": "#E5ECF6",
           "radialaxis": {
            "gridcolor": "white",
            "linecolor": "white",
            "ticks": ""
           }
          },
          "scene": {
           "xaxis": {
            "backgroundcolor": "#E5ECF6",
            "gridcolor": "white",
            "gridwidth": 2,
            "linecolor": "white",
            "showbackground": true,
            "ticks": "",
            "zerolinecolor": "white"
           },
           "yaxis": {
            "backgroundcolor": "#E5ECF6",
            "gridcolor": "white",
            "gridwidth": 2,
            "linecolor": "white",
            "showbackground": true,
            "ticks": "",
            "zerolinecolor": "white"
           },
           "zaxis": {
            "backgroundcolor": "#E5ECF6",
            "gridcolor": "white",
            "gridwidth": 2,
            "linecolor": "white",
            "showbackground": true,
            "ticks": "",
            "zerolinecolor": "white"
           }
          },
          "shapedefaults": {
           "line": {
            "color": "#2a3f5f"
           }
          },
          "ternary": {
           "aaxis": {
            "gridcolor": "white",
            "linecolor": "white",
            "ticks": ""
           },
           "baxis": {
            "gridcolor": "white",
            "linecolor": "white",
            "ticks": ""
           },
           "bgcolor": "#E5ECF6",
           "caxis": {
            "gridcolor": "white",
            "linecolor": "white",
            "ticks": ""
           }
          },
          "title": {
           "x": 0.05
          },
          "xaxis": {
           "automargin": true,
           "gridcolor": "white",
           "linecolor": "white",
           "ticks": "",
           "title": {
            "standoff": 15
           },
           "zerolinecolor": "white",
           "zerolinewidth": 2
          },
          "yaxis": {
           "automargin": true,
           "gridcolor": "white",
           "linecolor": "white",
           "ticks": "",
           "title": {
            "standoff": 15
           },
           "zerolinecolor": "white",
           "zerolinewidth": 2
          }
         }
        },
        "title": {
         "text": "Franchise Comparison"
        },
        "xaxis": {
         "anchor": "y",
         "categoryorder": "total descending",
         "domain": [
          0,
          1
         ],
         "title": {
          "text": "Franchise"
         }
        },
        "yaxis": {
         "anchor": "x",
         "domain": [
          0,
          1
         ],
         "title": {
          "text": "Predicted Points"
         }
        }
       }
      }
     },
     "metadata": {},
     "output_type": "display_data"
    }
   ],
   "source": [
    "# Visualize\n",
    "fig = compareFranchises(player_sums, how='absolute')\n",
    "fig.show()"
   ]
  },
  {
   "cell_type": "markdown",
   "metadata": {},
   "source": [
    "# Roster Optimizer"
   ]
  },
  {
   "cell_type": "code",
   "execution_count": 121,
   "metadata": {},
   "outputs": [
    {
     "data": {
      "application/vnd.plotly.v1+json": {
       "config": {
        "plotlyServerURL": "https://plot.ly"
       },
       "data": [
        {
         "alignmentgroup": "True",
         "customdata": [
          [
           420.68,
           "Josh Allen",
           "QB"
          ],
          [
           402.99999999999994,
           "Patrick Mahomes",
           "QB"
          ],
          [
           391.05,
           "Jalen Hurts",
           "QB"
          ],
          [
           218.99,
           "Joe Burrow",
           "QB"
          ],
          [
           181.02999999999994,
           "Kirk Cousins",
           "QB"
          ],
          [
           229.62,
           "Justin Herbert",
           "QB"
          ],
          [
           167.94000000000003,
           "Lamar Jackson",
           "QB"
          ],
          [
           185.93000000000004,
           "Geno Smith",
           "QB"
          ],
          [
           167.07,
           "Dak Prescott",
           "QB"
          ],
          [
           193.72000000000003,
           "Justin Fields",
           "QB"
          ],
          [
           100.37999999999998,
           "Tua Tagovailoa",
           "QB"
          ],
          [
           93.43,
           "Trevor Lawrence",
           "QB"
          ],
          [
           59.390000000000015,
           "Baker Mayfield",
           "QB"
          ],
          [
           93.44000000000004,
           "Derek Carr",
           "QB"
          ],
          [
           86.39,
           "Jordan Love",
           "QB"
          ],
          [
           101.38999999999999,
           "Brock Purdy",
           "QB"
          ],
          [
           61.30000000000001,
           "Deshaun Watson",
           "QB"
          ],
          [
           86.94000000000001,
           "Daniel Jones",
           "QB"
          ],
          [
           53.179999999999986,
           "Sam Howell",
           "QB"
          ],
          [
           42.63999999999997,
           "Aaron Rodgers",
           "QB"
          ],
          [
           3.9800000000000004,
           "Bryce Young",
           "QB"
          ],
          [
           8.860000000000003,
           "Kenny Pickett",
           "QB"
          ]
         ],
         "hovertemplate": "<b>%{hovertext}</b><br><br>Predicted Points=%{y}<br>Relative Value=%{customdata[0]}<extra></extra>",
         "hovertext": [
          "Josh Allen",
          "Patrick Mahomes",
          "Jalen Hurts",
          "Joe Burrow",
          "Kirk Cousins",
          "Justin Herbert",
          "Lamar Jackson",
          "Geno Smith",
          "Dak Prescott",
          "Justin Fields",
          "Tua Tagovailoa",
          "Trevor Lawrence",
          "Baker Mayfield",
          "Derek Carr",
          "Jordan Love",
          "Brock Purdy",
          "Deshaun Watson",
          "Daniel Jones",
          "Sam Howell",
          "Aaron Rodgers",
          "Bryce Young",
          "Kenny Pickett"
         ],
         "legendgroup": "QB",
         "marker": {
          "color": "hsla(210, 60%, 25%, 1)",
          "pattern": {
           "shape": ""
          }
         },
         "name": "QB",
         "offsetgroup": "QB",
         "orientation": "v",
         "showlegend": true,
         "text": [
          "Josh Allen",
          "Patrick Mahomes",
          "Jalen Hurts",
          "Joe Burrow",
          "Kirk Cousins",
          "Justin Herbert",
          "Lamar Jackson",
          "Geno Smith",
          "Dak Prescott",
          "Justin Fields",
          "Tua Tagovailoa",
          "Trevor Lawrence",
          "Baker Mayfield",
          "Derek Carr",
          "Jordan Love",
          "Brock Purdy",
          "Deshaun Watson",
          "Daniel Jones",
          "Sam Howell",
          "Aaron Rodgers",
          "Bryce Young",
          "Kenny Pickett"
         ],
         "textposition": "auto",
         "type": "bar",
         "x": [
          "Comeback 👑’s",
          "Saskatoon Squatches ",
          "Croccity Body Snatchers",
          "Verdanks Vacqueros FFC",
          "2014champ",
          "kevinbash",
          "GusTheBus",
          "DangeRUSS Last Ride",
          "📜 Providence 🪬 Spirits 🥂",
          "Idk much about soccer ",
          "Verdanks Vacqueros FFC",
          "2014champ",
          "Count of Monte Christian",
          "Count of Monte Christian",
          "📜 Providence 🪬 Spirits 🥂",
          "Croccity Body Snatchers",
          "Pretty Big Wieners",
          "Comeback 👑’s",
          "kevinbash",
          "Pretty Big Wieners",
          "Idk much about soccer ",
          "GusTheBus"
         ],
         "xaxis": "x",
         "y": [
          842.21,
          827.79,
          815.84,
          640.1800000000001,
          602.56,
          651.83,
          589.47,
          608.1400000000001,
          588.26,
          615.25,
          380.19,
          519.46,
          481.6,
          517.09,
          506.72,
          527.42,
          375.16,
          397.88000000000005,
          279.31,
          270.61,
          28.240000000000002,
          198.18
         ],
         "yaxis": "y"
        },
        {
         "alignmentgroup": "True",
         "customdata": [
          [
           453.205,
           "Austin Ekeler",
           "RB"
          ],
          [
           434.98,
           "Derrick Henry",
           "RB"
          ],
          [
           417.475,
           "Christian McCaffrey",
           "RB"
          ],
          [
           383.09,
           "Josh Jacobs",
           "RB"
          ],
          [
           386.55500000000006,
           "Nick Chubb",
           "RB"
          ],
          [
           360.07,
           "James Conner",
           "RB"
          ],
          [
           344.74,
           "Joe Mixon",
           "RB"
          ],
          [
           291.89,
           "Miles Sanders",
           "RB"
          ],
          [
           338.89000000000004,
           "Najee Harris",
           "RB"
          ],
          [
           323.47,
           "Kenneth Walker",
           "RB"
          ],
          [
           330.255,
           "Antonio Gibson",
           "RB"
          ],
          [
           318.325,
           "Tony Pollard",
           "RB"
          ],
          [
           258.53000000000003,
           "Rhamondre Stevenson",
           "RB"
          ],
          [
           293.19000000000005,
           "Isiah Pacheco",
           "RB"
          ],
          [
           191.355,
           "Bijan Robinson",
           "RB"
          ],
          [
           228.52,
           "Travis Etienne",
           "RB"
          ],
          [
           221.91000000000003,
           "J.K. Dobbins",
           "RB"
          ],
          [
           282.82000000000005,
           "Khalil Herbert",
           "RB"
          ],
          [
           286.15000000000003,
           "Saquon Barkley",
           "RB"
          ],
          [
           281.875,
           "David Montgomery",
           "RB"
          ],
          [
           275.84,
           "Aaron Jones",
           "RB"
          ],
          [
           257.81,
           "Dameon Pierce",
           "RB"
          ],
          [
           246.93500000000006,
           "Brian Robinson",
           "RB"
          ],
          [
           223.91500000000002,
           "Rachaad White",
           "RB"
          ],
          [
           231.005,
           "Alexander Mattison",
           "RB"
          ],
          [
           232.34500000000003,
           "Javonte Williams",
           "RB"
          ],
          [
           229.75500000000002,
           "D'Andre Swift",
           "RB"
          ],
          [
           208.78,
           "Cam Akers",
           "RB"
          ],
          [
           213.04,
           "AJ Dillon",
           "RB"
          ],
          [
           211.57500000000002,
           "Breece Hall",
           "RB"
          ],
          [
           181.37,
           "Jamaal Williams",
           "RB"
          ],
          [
           193.91,
           "James Cook",
           "RB"
          ],
          [
           110.29,
           "Jerick McKinnon",
           "RB"
          ],
          [
           163.38,
           "Dalvin Cook",
           "RB"
          ],
          [
           149.28,
           "Kenneth Gainwell",
           "RB"
          ],
          [
           35.84,
           "Jahmyr Gibbs",
           "RB"
          ],
          [
           169.07999999999998,
           "Zach Charbonnet",
           "RB"
          ],
          [
           107.71,
           "Elijah Mitchell",
           "RB"
          ],
          [
           17.600000000000005,
           "Gus Edwards",
           "RB"
          ]
         ],
         "hovertemplate": "<b>%{hovertext}</b><br><br>Predicted Points=%{y}<br>Relative Value=%{customdata[0]}<extra></extra>",
         "hovertext": [
          "Austin Ekeler",
          "Derrick Henry",
          "Christian McCaffrey",
          "Josh Jacobs",
          "Nick Chubb",
          "James Conner",
          "Joe Mixon",
          "Miles Sanders",
          "Najee Harris",
          "Kenneth Walker",
          "Antonio Gibson",
          "Tony Pollard",
          "Rhamondre Stevenson",
          "Isiah Pacheco",
          "Bijan Robinson",
          "Travis Etienne",
          "J.K. Dobbins",
          "Khalil Herbert",
          "Saquon Barkley",
          "David Montgomery",
          "Aaron Jones",
          "Dameon Pierce",
          "Brian Robinson",
          "Rachaad White",
          "Alexander Mattison",
          "Javonte Williams",
          "D'Andre Swift",
          "Cam Akers",
          "AJ Dillon",
          "Breece Hall",
          "Jamaal Williams",
          "James Cook",
          "Jerick McKinnon",
          "Dalvin Cook",
          "Kenneth Gainwell",
          "Jahmyr Gibbs",
          "Zach Charbonnet",
          "Elijah Mitchell",
          "Gus Edwards"
         ],
         "legendgroup": "RB",
         "marker": {
          "color": "hsla(12, 50%, 45%, 1)",
          "pattern": {
           "shape": ""
          }
         },
         "name": "RB",
         "offsetgroup": "RB",
         "orientation": "v",
         "showlegend": true,
         "text": [
          "Austin Ekeler",
          "Derrick Henry",
          "Christian McCaffrey",
          "Josh Jacobs",
          "Nick Chubb",
          "James Conner",
          "Joe Mixon",
          "Miles Sanders",
          "Najee Harris",
          "Kenneth Walker",
          "Antonio Gibson",
          "Tony Pollard",
          "Rhamondre Stevenson",
          "Isiah Pacheco",
          "Bijan Robinson",
          "Travis Etienne",
          "J.K. Dobbins",
          "Khalil Herbert",
          "Saquon Barkley",
          "David Montgomery",
          "Aaron Jones",
          "Dameon Pierce",
          "Brian Robinson",
          "Rachaad White",
          "Alexander Mattison",
          "Javonte Williams",
          "D'Andre Swift",
          "Cam Akers",
          "AJ Dillon",
          "Breece Hall",
          "Jamaal Williams",
          "James Cook",
          "Jerick McKinnon",
          "Dalvin Cook",
          "Kenneth Gainwell",
          "Jahmyr Gibbs",
          "Zach Charbonnet",
          "Elijah Mitchell",
          "Gus Edwards"
         ],
         "textposition": "auto",
         "type": "bar",
         "x": [
          "Croccity Body Snatchers",
          "DangeRUSS Last Ride",
          "DangeRUSS Last Ride",
          "Croccity Body Snatchers",
          "kevinbash",
          "DangeRUSS Last Ride",
          "Croccity Body Snatchers",
          "Pretty Big Wieners",
          "2014champ",
          "Verdanks Vacqueros FFC",
          "Count of Monte Christian",
          "Saskatoon Squatches ",
          "Saskatoon Squatches ",
          "Saskatoon Squatches ",
          "2014champ",
          "Verdanks Vacqueros FFC",
          "Pretty Big Wieners",
          "GusTheBus",
          "Saskatoon Squatches ",
          "Croccity Body Snatchers",
          "kevinbash",
          "GusTheBus",
          "Idk much about soccer ",
          "📜 Providence 🪬 Spirits 🥂",
          "Pretty Big Wieners",
          "Saskatoon Squatches ",
          "📜 Providence 🪬 Spirits 🥂",
          "GusTheBus",
          "📜 Providence 🪬 Spirits 🥂",
          "Comeback 👑’s",
          "Comeback 👑’s",
          "Pretty Big Wieners",
          "DangeRUSS Last Ride",
          "GusTheBus",
          "Count of Monte Christian",
          "📜 Providence 🪬 Spirits 🥂",
          "Idk much about soccer ",
          "Verdanks Vacqueros FFC",
          "Comeback 👑’s"
         ],
         "xaxis": "x",
         "y": [
          609.215,
          598.42,
          573.505,
          546.51,
          542.565,
          517.65,
          508.18,
          455.33,
          492.97,
          479.48,
          487.83500000000004,
          481.765,
          414.52000000000004,
          451.08000000000004,
          338.385,
          384.55,
          385.33000000000004,
          446.24000000000007,
          449.57,
          437.905,
          429.92,
          421.25,
          404.51500000000004,
          379.925,
          394.425,
          388.375,
          387.64500000000004,
          366.67,
          367.12,
          375.015,
          337.36,
          357.33,
          234,
          326.82,
          307.17,
          66.57000000000001,
          325.09000000000003,
          226.98000000000002,
          128.06
         ],
         "yaxis": "y"
        },
        {
         "alignmentgroup": "True",
         "customdata": [
          [
           371.947,
           "Justin Jefferson",
           "WR"
          ],
          [
           292.787,
           "Christian Watson",
           "WR"
          ],
          [
           329.33700000000005,
           "Tyreek Hill",
           "WR"
          ],
          [
           312.657,
           "CeeDee Lamb",
           "WR"
          ],
          [
           296.617,
           "Davante Adams",
           "WR"
          ],
          [
           286.367,
           "Ja'Marr Chase",
           "WR"
          ],
          [
           256.837,
           "Keenan Allen",
           "WR"
          ],
          [
           273.389,
           "Stefon Diggs",
           "WR"
          ],
          [
           264.432,
           "Deebo Samuel",
           "WR"
          ],
          [
           258.947,
           "Jaylen Waddle",
           "WR"
          ],
          [
           255.097,
           "A.J. Brown",
           "WR"
          ],
          [
           242.312,
           "Amon-Ra St. Brown",
           "WR"
          ],
          [
           213.65200000000002,
           "Mike Evans",
           "WR"
          ],
          [
           226.222,
           "Garrett Wilson",
           "WR"
          ],
          [
           208.882,
           "Chris Godwin",
           "WR"
          ],
          [
           198.522,
           "Tyler Lockett",
           "WR"
          ],
          [
           194.14700000000002,
           "Christian Kirk",
           "WR"
          ],
          [
           225.532,
           "Tee Higgins",
           "WR"
          ],
          [
           170.69200000000004,
           "Marquise Brown",
           "WR"
          ],
          [
           195.41600000000003,
           "Chris Olave",
           "WR"
          ],
          [
           177.20700000000002,
           "DeAndre Hopkins",
           "WR"
          ],
          [
           193.07699999999997,
           "Amari Cooper",
           "WR"
          ],
          [
           163.709,
           "DK Metcalf",
           "WR"
          ],
          [
           174.969,
           "DeVonta Smith",
           "WR"
          ],
          [
           186.66700000000003,
           "Terry McLaurin",
           "WR"
          ],
          [
           154.657,
           "Nico Collins",
           "WR"
          ],
          [
           167.52699999999996,
           "Michael Pittman",
           "WR"
          ],
          [
           174.592,
           "Mike Williams",
           "WR"
          ],
          [
           168.312,
           "DJ Moore",
           "WR"
          ],
          [
           109.92400000000002,
           "Jahan Dotson",
           "WR"
          ],
          [
           85.53200000000001,
           "Gabe Davis",
           "WR"
          ],
          [
           158.287,
           "Jordan Addison",
           "WR"
          ],
          [
           145.61700000000002,
           "Drake London",
           "WR"
          ],
          [
           135.612,
           "Brandon Aiyuk",
           "WR"
          ],
          [
           111.19400000000002,
           "Diontae Johnson",
           "WR"
          ],
          [
           123.94699999999999,
           "George Pickens",
           "WR"
          ],
          [
           7.96,
           "Calvin Ridley",
           "WR"
          ],
          [
           40.878,
           "Michael Thomas",
           "WR"
          ],
          [
           38.35,
           "Van Jefferson",
           "WR"
          ],
          [
           75.702,
           "Brandin Cooks",
           "WR"
          ],
          [
           2.2120000000000024,
           "Michael Gallup",
           "WR"
          ],
          [
           10.736,
           "Randall Cobb",
           "WR"
          ],
          [
           0,
           "Chase Claypool",
           "WR"
          ]
         ],
         "hovertemplate": "<b>%{hovertext}</b><br><br>Predicted Points=%{y}<br>Relative Value=%{customdata[0]}<extra></extra>",
         "hovertext": [
          "Justin Jefferson",
          "Christian Watson",
          "Tyreek Hill",
          "CeeDee Lamb",
          "Davante Adams",
          "Ja'Marr Chase",
          "Keenan Allen",
          "Stefon Diggs",
          "Deebo Samuel",
          "Jaylen Waddle",
          "A.J. Brown",
          "Amon-Ra St. Brown",
          "Mike Evans",
          "Garrett Wilson",
          "Chris Godwin",
          "Tyler Lockett",
          "Christian Kirk",
          "Tee Higgins",
          "Marquise Brown",
          "Chris Olave",
          "DeAndre Hopkins",
          "Amari Cooper",
          "DK Metcalf",
          "DeVonta Smith",
          "Terry McLaurin",
          "Nico Collins",
          "Michael Pittman",
          "Mike Williams",
          "DJ Moore",
          "Jahan Dotson",
          "Gabe Davis",
          "Jordan Addison",
          "Drake London",
          "Brandon Aiyuk",
          "Diontae Johnson",
          "George Pickens",
          "Calvin Ridley",
          "Michael Thomas",
          "Van Jefferson",
          "Brandin Cooks",
          "Michael Gallup",
          "Randall Cobb",
          "Chase Claypool"
         ],
         "legendgroup": "WR",
         "marker": {
          "color": "hsla(267, 40%, 45%, 1)",
          "pattern": {
           "shape": ""
          }
         },
         "name": "WR",
         "offsetgroup": "WR",
         "orientation": "v",
         "showlegend": true,
         "text": [
          "Justin Jefferson",
          "Christian Watson",
          "Tyreek Hill",
          "CeeDee Lamb",
          "Davante Adams",
          "Ja'Marr Chase",
          "Keenan Allen",
          "Stefon Diggs",
          "Deebo Samuel",
          "Jaylen Waddle",
          "A.J. Brown",
          "Amon-Ra St. Brown",
          "Mike Evans",
          "Garrett Wilson",
          "Chris Godwin",
          "Tyler Lockett",
          "Christian Kirk",
          "Tee Higgins",
          "Marquise Brown",
          "Chris Olave",
          "DeAndre Hopkins",
          "Amari Cooper",
          "DK Metcalf",
          "DeVonta Smith",
          "Terry McLaurin",
          "Nico Collins",
          "Michael Pittman",
          "Mike Williams",
          "DJ Moore",
          "Jahan Dotson",
          "Gabe Davis",
          "Jordan Addison",
          "Drake London",
          "Brandon Aiyuk",
          "Diontae Johnson",
          "George Pickens",
          "Calvin Ridley",
          "Michael Thomas",
          "Van Jefferson",
          "Brandin Cooks",
          "Michael Gallup",
          "Randall Cobb",
          "Chase Claypool"
         ],
         "textposition": "auto",
         "type": "bar",
         "x": [
          "Pretty Big Wieners",
          "Count of Monte Christian",
          "Saskatoon Squatches ",
          "Count of Monte Christian",
          "Verdanks Vacqueros FFC",
          "Saskatoon Squatches ",
          "Pretty Big Wieners",
          "Comeback 👑’s",
          "2014champ",
          "GusTheBus",
          "Pretty Big Wieners",
          "kevinbash",
          "kevinbash",
          "📜 Providence 🪬 Spirits 🥂",
          "Croccity Body Snatchers",
          "Croccity Body Snatchers",
          "GusTheBus",
          "2014champ",
          "Croccity Body Snatchers",
          "Count of Monte Christian",
          "Verdanks Vacqueros FFC",
          "Verdanks Vacqueros FFC",
          "2014champ",
          "Count of Monte Christian",
          "kevinbash",
          "📜 Providence 🪬 Spirits 🥂",
          "GusTheBus",
          "Idk much about soccer ",
          "Idk much about soccer ",
          "📜 Providence 🪬 Spirits 🥂",
          "2014champ",
          "DangeRUSS Last Ride",
          "Idk much about soccer ",
          "kevinbash",
          "Idk much about soccer ",
          "DangeRUSS Last Ride",
          "2014champ",
          "Idk much about soccer ",
          "Verdanks Vacqueros FFC",
          "Comeback 👑’s",
          "Comeback 👑’s",
          "Comeback 👑’s",
          "DangeRUSS Last Ride"
         ],
         "xaxis": "x",
         "y": [
          529.21,
          451.39,
          485.75,
          471.05,
          453.88,
          444.76000000000005,
          418.27000000000004,
          430.652,
          425.325,
          415.36,
          411.51,
          403.20500000000004,
          375.08500000000004,
          384.615,
          370.315,
          347.90500000000003,
          355.04,
          383.925,
          323.12500000000006,
          349.249,
          335.6,
          354.51,
          292.374,
          331.382,
          339.1,
          290.20000000000005,
          321.35999999999996,
          336.02500000000003,
          325.575,
          211.24,
          149.35000000000002,
          315.55,
          299.45000000000005,
          296.505,
          247.17000000000002,
          282.55,
          26.730000000000004,
          79.715,
          70.15,
          234.095,
          39.25000000000001,
          72.279,
          11.87
         ],
         "yaxis": "y"
        },
        {
         "alignmentgroup": "True",
         "customdata": [
          [
           388.73999999999995,
           "Travis Kelce",
           "TE"
          ],
          [
           283.925,
           "Mark Andrews",
           "TE"
          ],
          [
           269.4,
           "George Kittle",
           "TE"
          ],
          [
           222.55,
           "Taysom Hill",
           "TE"
          ],
          [
           185.925,
           "Dawson Knox",
           "TE"
          ],
          [
           205.17000000000002,
           "Dallas Goedert",
           "TE"
          ],
          [
           141.68,
           "T.J. Hockenson",
           "TE"
          ],
          [
           170.615,
           "Dalton Schultz",
           "TE"
          ],
          [
           172.82500000000002,
           "Kyle Pitts",
           "TE"
          ],
          [
           138.47500000000002,
           "Evan Engram",
           "TE"
          ],
          [
           166.24,
           "David Njoku",
           "TE"
          ],
          [
           138.3,
           "Sam LaPorta",
           "TE"
          ],
          [
           141.55,
           "Tyler Higbee",
           "TE"
          ],
          [
           153.29999999999998,
           "Greg Dulcich",
           "TE"
          ],
          [
           114.536,
           "Noah Fant",
           "TE"
          ],
          [
           116.65,
           "Hunter Henry",
           "TE"
          ],
          [
           93.18400000000001,
           "Tyler Conklin",
           "TE"
          ],
          [
           100.45,
           "Cade Otton",
           "TE"
          ],
          [
           94.075,
           "Irv Smith",
           "TE"
          ],
          [
           12.270000000000003,
           "Darren Waller",
           "TE"
          ],
          [
           6.250000000000001,
           "Robert Tonyan",
           "TE"
          ],
          [
           2.0579999999999994,
           "Noah Gray",
           "TE"
          ],
          [
           0,
           "Adam Trautman",
           "TE"
          ]
         ],
         "hovertemplate": "<b>%{hovertext}</b><br><br>Predicted Points=%{y}<br>Relative Value=%{customdata[0]}<extra></extra>",
         "hovertext": [
          "Travis Kelce",
          "Mark Andrews",
          "George Kittle",
          "Taysom Hill",
          "Dawson Knox",
          "Dallas Goedert",
          "T.J. Hockenson",
          "Dalton Schultz",
          "Kyle Pitts",
          "Evan Engram",
          "David Njoku",
          "Sam LaPorta",
          "Tyler Higbee",
          "Greg Dulcich",
          "Noah Fant",
          "Hunter Henry",
          "Tyler Conklin",
          "Cade Otton",
          "Irv Smith",
          "Darren Waller",
          "Robert Tonyan",
          "Noah Gray",
          "Adam Trautman"
         ],
         "legendgroup": "TE",
         "marker": {
          "color": "hsla(177, 68%, 36%, 1)",
          "pattern": {
           "shape": ""
          }
         },
         "name": "TE",
         "offsetgroup": "TE",
         "orientation": "v",
         "showlegend": true,
         "text": [
          "Travis Kelce",
          "Mark Andrews",
          "George Kittle",
          "Taysom Hill",
          "Dawson Knox",
          "Dallas Goedert",
          "T.J. Hockenson",
          "Dalton Schultz",
          "Kyle Pitts",
          "Evan Engram",
          "David Njoku",
          "Sam LaPorta",
          "Tyler Higbee",
          "Greg Dulcich",
          "Noah Fant",
          "Hunter Henry",
          "Tyler Conklin",
          "Cade Otton",
          "Irv Smith",
          "Darren Waller",
          "Robert Tonyan",
          "Noah Gray",
          "Adam Trautman"
         ],
         "textposition": "auto",
         "type": "bar",
         "x": [
          "Verdanks Vacqueros FFC",
          "Pretty Big Wieners",
          "DangeRUSS Last Ride",
          "2014champ",
          "Idk much about soccer ",
          "Saskatoon Squatches ",
          "Saskatoon Squatches ",
          "Comeback 👑’s",
          "📜 Providence 🪬 Spirits 🥂",
          "2014champ",
          "Verdanks Vacqueros FFC",
          "kevinbash",
          "Croccity Body Snatchers",
          "Croccity Body Snatchers",
          "GusTheBus",
          "Count of Monte Christian",
          "Pretty Big Wieners",
          "Idk much about soccer ",
          "📜 Providence 🪬 Spirits 🥂",
          "DangeRUSS Last Ride",
          "Comeback 👑’s",
          "Count of Monte Christian",
          "kevinbash"
         ],
         "xaxis": "x",
         "y": [
          456.69,
          351.575,
          337.05,
          291.1,
          253.57500000000002,
          273.12,
          194.48,
          238.51500000000001,
          241.37500000000003,
          202.27500000000003,
          234.54000000000002,
          205.95,
          209.5,
          220.95,
          182.836,
          185.20000000000002,
          161.084,
          168.75,
          161.975,
          19.82,
          21.450000000000003,
          9.108,
          6.65
         ],
         "yaxis": "y"
        },
        {
         "alignmentgroup": "True",
         "customdata": [
          [
           706.4782,
           "NYJ",
           "DEF"
          ],
          [
           311.2321,
           "NO",
           "DEF"
          ],
          [
           277.3955,
           "PHI",
           "DEF"
          ],
          [
           244.7645,
           "DEN",
           "DEF"
          ],
          [
           261.90999999999997,
           "CAR",
           "DEF"
          ],
          [
           281.345,
           "KC",
           "DEF"
          ],
          [
           321.644,
           "BAL",
           "DEF"
          ],
          [
           287.9791000000001,
           "JAX",
           "DEF"
          ],
          [
           284.8625,
           "CLE",
           "DEF"
          ],
          [
           162.188,
           "ATL",
           "DEF"
          ],
          [
           302.00199999999995,
           "PIT",
           "DEF"
          ],
          [
           481.685,
           "LAR",
           "DEF"
          ],
          [
           484.6654,
           "LAC",
           "DEF"
          ],
          [
           122.7033,
           "LV",
           "DEF"
          ],
          [
           205.2083,
           "BUF",
           "DEF"
          ],
          [
           186.0493,
           "GB",
           "DEF"
          ],
          [
           124.48780000000002,
           "ARI",
           "DEF"
          ],
          [
           98.11699999999999,
           "CIN",
           "DEF"
          ],
          [
           135.1188,
           "SF",
           "DEF"
          ],
          [
           100.3792,
           "SEA",
           "DEF"
          ],
          [
           81.20440000000002,
           "MIN",
           "DEF"
          ],
          [
           168.5163,
           "IND",
           "DEF"
          ],
          [
           49.21280000000001,
           "DAL",
           "DEF"
          ],
          [
           26.336599999999997,
           "CHI",
           "DEF"
          ]
         ],
         "hovertemplate": "<b>%{hovertext}</b><br><br>Predicted Points=%{y}<br>Relative Value=%{customdata[0]}<extra></extra>",
         "hovertext": [
          "NYJ",
          "NO",
          "PHI",
          "DEN",
          "CAR",
          "KC",
          "BAL",
          "JAX",
          "CLE",
          "ATL",
          "PIT",
          "LAR",
          "LAC",
          "LV",
          "BUF",
          "GB",
          "ARI",
          "CIN",
          "SF",
          "SEA",
          "MIN",
          "IND",
          "DAL",
          "CHI"
         ],
         "legendgroup": "DEF",
         "marker": {
          "color": "hsla(35, 70%, 65%, 1)",
          "pattern": {
           "shape": ""
          }
         },
         "name": "DEF",
         "offsetgroup": "DEF",
         "orientation": "v",
         "showlegend": true,
         "text": [
          "NYJ",
          "NO",
          "PHI",
          "DEN",
          "CAR",
          "KC",
          "BAL",
          "JAX",
          "CLE",
          "ATL",
          "PIT",
          "LAR",
          "LAC",
          "LV",
          "BUF",
          "GB",
          "ARI",
          "CIN",
          "SF",
          "SEA",
          "MIN",
          "IND",
          "DAL",
          "CHI"
         ],
         "textposition": "auto",
         "type": "bar",
         "x": [
          "📜 Providence 🪬 Spirits 🥂",
          "kevinbash",
          "Pretty Big Wieners",
          "Croccity Body Snatchers",
          "Verdanks Vacqueros FFC",
          "Idk much about soccer ",
          "GusTheBus",
          "Saskatoon Squatches ",
          "2014champ",
          "Count of Monte Christian",
          "GusTheBus",
          "Comeback 👑’s",
          "DangeRUSS Last Ride",
          "Count of Monte Christian",
          "kevinbash",
          "DangeRUSS Last Ride",
          "Verdanks Vacqueros FFC",
          "Pretty Big Wieners",
          "Croccity Body Snatchers",
          "Saskatoon Squatches ",
          "Comeback 👑’s",
          "Idk much about soccer ",
          "📜 Providence 🪬 Spirits 🥂",
          "2014champ"
         ],
         "xaxis": "x",
         "y": [
          484.6678,
          233.5913,
          208.33110000000005,
          171.6407,
          159.61239999999998,
          175.8802,
          210.8578,
          178.10570000000007,
          181.4927,
          103.25899999999999,
          197.0136,
          279.482,
          275.8308,
          69.5359,
          139.3761,
          81.06089999999999,
          70.93000000000002,
          52.86200000000001,
          80.2132,
          69.2708,
          24.982400000000016,
          71.46570000000001,
          18.153000000000006,
          -84.44959999999999
         ],
         "yaxis": "y"
        },
        {
         "alignmentgroup": "True",
         "customdata": [
          [
           138.59999999999997,
           "Daniel Carlson",
           "PK"
          ],
          [
           127.48000000000006,
           "Evan McPherson",
           "PK"
          ],
          [
           115.75000000000001,
           "Justin Tucker",
           "PK"
          ],
          [
           102.15000000000003,
           "Harrison Butker",
           "PK"
          ],
          [
           83.31000000000003,
           "Younghoe Koo",
           "PK"
          ],
          [
           85.50000000000001,
           "Jake Elliott",
           "PK"
          ],
          [
           75.77999999999999,
           "Jason Myers",
           "PK"
          ],
          [
           75.54999999999998,
           "Greg Joseph",
           "PK"
          ],
          [
           69.53000000000003,
           "Brandon McManus",
           "PK"
          ],
          [
           53.499999999999986,
           "Jason Sanders",
           "PK"
          ],
          [
           70.37999999999998,
           "Eddy Pineiro",
           "PK"
          ],
          [
           54.99000000000001,
           "Greg Zuerlein",
           "PK"
          ],
          [
           59.449999999999996,
           "Matt Gay",
           "PK"
          ],
          [
           52.68000000000001,
           "Tyler Bass",
           "PK"
          ],
          [
           59.28000000000001,
           "Joey Slye",
           "PK"
          ],
          [
           29.88000000000001,
           "Graham Gano",
           "PK"
          ],
          [
           52.48000000000004,
           "Jake Moody",
           "PK"
          ],
          [
           28.180000000000042,
           "Wil Lutz",
           "PK"
          ],
          [
           13.680000000000007,
           "Ka'imi Fairbairn",
           "PK"
          ],
          [
           5.320000000000006,
           "Dustin Hopkins",
           "PK"
          ],
          [
           5.640000000000012,
           "Cairo Santos",
           "PK"
          ]
         ],
         "hovertemplate": "<b>%{hovertext}</b><br><br>Predicted Points=%{y}<br>Relative Value=%{customdata[0]}<extra></extra>",
         "hovertext": [
          "Daniel Carlson",
          "Evan McPherson",
          "Justin Tucker",
          "Harrison Butker",
          "Younghoe Koo",
          "Jake Elliott",
          "Jason Myers",
          "Greg Joseph",
          "Brandon McManus",
          "Jason Sanders",
          "Eddy Pineiro",
          "Greg Zuerlein",
          "Matt Gay",
          "Tyler Bass",
          "Joey Slye",
          "Graham Gano",
          "Jake Moody",
          "Wil Lutz",
          "Ka'imi Fairbairn",
          "Dustin Hopkins",
          "Cairo Santos"
         ],
         "legendgroup": "PK",
         "marker": {
          "color": "hsla(14, 30%, 40%, 1)",
          "pattern": {
           "shape": ""
          }
         },
         "name": "PK",
         "offsetgroup": "PK",
         "orientation": "v",
         "showlegend": true,
         "text": [
          "Daniel Carlson",
          "Evan McPherson",
          "Justin Tucker",
          "Harrison Butker",
          "Younghoe Koo",
          "Jake Elliott",
          "Jason Myers",
          "Greg Joseph",
          "Brandon McManus",
          "Jason Sanders",
          "Eddy Pineiro",
          "Greg Zuerlein",
          "Matt Gay",
          "Tyler Bass",
          "Joey Slye",
          "Graham Gano",
          "Jake Moody",
          "Wil Lutz",
          "Ka'imi Fairbairn",
          "Dustin Hopkins",
          "Cairo Santos"
         ],
         "textposition": "auto",
         "type": "bar",
         "x": [
          "Pretty Big Wieners",
          "📜 Providence 🪬 Spirits 🥂",
          "GusTheBus",
          "Count of Monte Christian",
          "Croccity Body Snatchers",
          "DangeRUSS Last Ride",
          "Idk much about soccer ",
          "2014champ",
          "Idk much about soccer ",
          "Saskatoon Squatches ",
          "Verdanks Vacqueros FFC",
          "Comeback 👑’s",
          "DangeRUSS Last Ride",
          "📜 Providence 🪬 Spirits 🥂",
          "GusTheBus",
          "Saskatoon Squatches ",
          "Verdanks Vacqueros FFC",
          "2014champ",
          "Count of Monte Christian",
          "Croccity Body Snatchers",
          "Pretty Big Wieners"
         ],
         "xaxis": "x",
         "y": [
          393.84999999999997,
          383.35,
          371,
          361.20000000000005,
          311,
          344.55,
          331.95,
          330.79999999999995,
          326.5,
          245.49999999999997,
          326.25,
          297,
          315.7,
          307.93,
          314.45,
          152.95000000000002,
          309.45000000000005,
          285.15000000000003,
          99,
          64,
          260.89
         ],
         "yaxis": "y"
        }
       ],
       "layout": {
        "barmode": "stack",
        "font": {
         "family": "Skia"
        },
        "legend": {
         "title": {
          "text": "position"
         },
         "tracegroupgap": 0
        },
        "margin": {
         "t": 60
        },
        "plot_bgcolor": "rgba(0,0,0,0)",
        "showlegend": false,
        "template": {
         "data": {
          "bar": [
           {
            "error_x": {
             "color": "#2a3f5f"
            },
            "error_y": {
             "color": "#2a3f5f"
            },
            "marker": {
             "line": {
              "color": "#E5ECF6",
              "width": 0.5
             },
             "pattern": {
              "fillmode": "overlay",
              "size": 10,
              "solidity": 0.2
             }
            },
            "type": "bar"
           }
          ],
          "barpolar": [
           {
            "marker": {
             "line": {
              "color": "#E5ECF6",
              "width": 0.5
             },
             "pattern": {
              "fillmode": "overlay",
              "size": 10,
              "solidity": 0.2
             }
            },
            "type": "barpolar"
           }
          ],
          "carpet": [
           {
            "aaxis": {
             "endlinecolor": "#2a3f5f",
             "gridcolor": "white",
             "linecolor": "white",
             "minorgridcolor": "white",
             "startlinecolor": "#2a3f5f"
            },
            "baxis": {
             "endlinecolor": "#2a3f5f",
             "gridcolor": "white",
             "linecolor": "white",
             "minorgridcolor": "white",
             "startlinecolor": "#2a3f5f"
            },
            "type": "carpet"
           }
          ],
          "choropleth": [
           {
            "colorbar": {
             "outlinewidth": 0,
             "ticks": ""
            },
            "type": "choropleth"
           }
          ],
          "contour": [
           {
            "colorbar": {
             "outlinewidth": 0,
             "ticks": ""
            },
            "colorscale": [
             [
              0,
              "#0d0887"
             ],
             [
              0.1111111111111111,
              "#46039f"
             ],
             [
              0.2222222222222222,
              "#7201a8"
             ],
             [
              0.3333333333333333,
              "#9c179e"
             ],
             [
              0.4444444444444444,
              "#bd3786"
             ],
             [
              0.5555555555555556,
              "#d8576b"
             ],
             [
              0.6666666666666666,
              "#ed7953"
             ],
             [
              0.7777777777777778,
              "#fb9f3a"
             ],
             [
              0.8888888888888888,
              "#fdca26"
             ],
             [
              1,
              "#f0f921"
             ]
            ],
            "type": "contour"
           }
          ],
          "contourcarpet": [
           {
            "colorbar": {
             "outlinewidth": 0,
             "ticks": ""
            },
            "type": "contourcarpet"
           }
          ],
          "heatmap": [
           {
            "colorbar": {
             "outlinewidth": 0,
             "ticks": ""
            },
            "colorscale": [
             [
              0,
              "#0d0887"
             ],
             [
              0.1111111111111111,
              "#46039f"
             ],
             [
              0.2222222222222222,
              "#7201a8"
             ],
             [
              0.3333333333333333,
              "#9c179e"
             ],
             [
              0.4444444444444444,
              "#bd3786"
             ],
             [
              0.5555555555555556,
              "#d8576b"
             ],
             [
              0.6666666666666666,
              "#ed7953"
             ],
             [
              0.7777777777777778,
              "#fb9f3a"
             ],
             [
              0.8888888888888888,
              "#fdca26"
             ],
             [
              1,
              "#f0f921"
             ]
            ],
            "type": "heatmap"
           }
          ],
          "heatmapgl": [
           {
            "colorbar": {
             "outlinewidth": 0,
             "ticks": ""
            },
            "colorscale": [
             [
              0,
              "#0d0887"
             ],
             [
              0.1111111111111111,
              "#46039f"
             ],
             [
              0.2222222222222222,
              "#7201a8"
             ],
             [
              0.3333333333333333,
              "#9c179e"
             ],
             [
              0.4444444444444444,
              "#bd3786"
             ],
             [
              0.5555555555555556,
              "#d8576b"
             ],
             [
              0.6666666666666666,
              "#ed7953"
             ],
             [
              0.7777777777777778,
              "#fb9f3a"
             ],
             [
              0.8888888888888888,
              "#fdca26"
             ],
             [
              1,
              "#f0f921"
             ]
            ],
            "type": "heatmapgl"
           }
          ],
          "histogram": [
           {
            "marker": {
             "pattern": {
              "fillmode": "overlay",
              "size": 10,
              "solidity": 0.2
             }
            },
            "type": "histogram"
           }
          ],
          "histogram2d": [
           {
            "colorbar": {
             "outlinewidth": 0,
             "ticks": ""
            },
            "colorscale": [
             [
              0,
              "#0d0887"
             ],
             [
              0.1111111111111111,
              "#46039f"
             ],
             [
              0.2222222222222222,
              "#7201a8"
             ],
             [
              0.3333333333333333,
              "#9c179e"
             ],
             [
              0.4444444444444444,
              "#bd3786"
             ],
             [
              0.5555555555555556,
              "#d8576b"
             ],
             [
              0.6666666666666666,
              "#ed7953"
             ],
             [
              0.7777777777777778,
              "#fb9f3a"
             ],
             [
              0.8888888888888888,
              "#fdca26"
             ],
             [
              1,
              "#f0f921"
             ]
            ],
            "type": "histogram2d"
           }
          ],
          "histogram2dcontour": [
           {
            "colorbar": {
             "outlinewidth": 0,
             "ticks": ""
            },
            "colorscale": [
             [
              0,
              "#0d0887"
             ],
             [
              0.1111111111111111,
              "#46039f"
             ],
             [
              0.2222222222222222,
              "#7201a8"
             ],
             [
              0.3333333333333333,
              "#9c179e"
             ],
             [
              0.4444444444444444,
              "#bd3786"
             ],
             [
              0.5555555555555556,
              "#d8576b"
             ],
             [
              0.6666666666666666,
              "#ed7953"
             ],
             [
              0.7777777777777778,
              "#fb9f3a"
             ],
             [
              0.8888888888888888,
              "#fdca26"
             ],
             [
              1,
              "#f0f921"
             ]
            ],
            "type": "histogram2dcontour"
           }
          ],
          "mesh3d": [
           {
            "colorbar": {
             "outlinewidth": 0,
             "ticks": ""
            },
            "type": "mesh3d"
           }
          ],
          "parcoords": [
           {
            "line": {
             "colorbar": {
              "outlinewidth": 0,
              "ticks": ""
             }
            },
            "type": "parcoords"
           }
          ],
          "pie": [
           {
            "automargin": true,
            "type": "pie"
           }
          ],
          "scatter": [
           {
            "fillpattern": {
             "fillmode": "overlay",
             "size": 10,
             "solidity": 0.2
            },
            "type": "scatter"
           }
          ],
          "scatter3d": [
           {
            "line": {
             "colorbar": {
              "outlinewidth": 0,
              "ticks": ""
             }
            },
            "marker": {
             "colorbar": {
              "outlinewidth": 0,
              "ticks": ""
             }
            },
            "type": "scatter3d"
           }
          ],
          "scattercarpet": [
           {
            "marker": {
             "colorbar": {
              "outlinewidth": 0,
              "ticks": ""
             }
            },
            "type": "scattercarpet"
           }
          ],
          "scattergeo": [
           {
            "marker": {
             "colorbar": {
              "outlinewidth": 0,
              "ticks": ""
             }
            },
            "type": "scattergeo"
           }
          ],
          "scattergl": [
           {
            "marker": {
             "colorbar": {
              "outlinewidth": 0,
              "ticks": ""
             }
            },
            "type": "scattergl"
           }
          ],
          "scattermapbox": [
           {
            "marker": {
             "colorbar": {
              "outlinewidth": 0,
              "ticks": ""
             }
            },
            "type": "scattermapbox"
           }
          ],
          "scatterpolar": [
           {
            "marker": {
             "colorbar": {
              "outlinewidth": 0,
              "ticks": ""
             }
            },
            "type": "scatterpolar"
           }
          ],
          "scatterpolargl": [
           {
            "marker": {
             "colorbar": {
              "outlinewidth": 0,
              "ticks": ""
             }
            },
            "type": "scatterpolargl"
           }
          ],
          "scatterternary": [
           {
            "marker": {
             "colorbar": {
              "outlinewidth": 0,
              "ticks": ""
             }
            },
            "type": "scatterternary"
           }
          ],
          "surface": [
           {
            "colorbar": {
             "outlinewidth": 0,
             "ticks": ""
            },
            "colorscale": [
             [
              0,
              "#0d0887"
             ],
             [
              0.1111111111111111,
              "#46039f"
             ],
             [
              0.2222222222222222,
              "#7201a8"
             ],
             [
              0.3333333333333333,
              "#9c179e"
             ],
             [
              0.4444444444444444,
              "#bd3786"
             ],
             [
              0.5555555555555556,
              "#d8576b"
             ],
             [
              0.6666666666666666,
              "#ed7953"
             ],
             [
              0.7777777777777778,
              "#fb9f3a"
             ],
             [
              0.8888888888888888,
              "#fdca26"
             ],
             [
              1,
              "#f0f921"
             ]
            ],
            "type": "surface"
           }
          ],
          "table": [
           {
            "cells": {
             "fill": {
              "color": "#EBF0F8"
             },
             "line": {
              "color": "white"
             }
            },
            "header": {
             "fill": {
              "color": "#C8D4E3"
             },
             "line": {
              "color": "white"
             }
            },
            "type": "table"
           }
          ]
         },
         "layout": {
          "annotationdefaults": {
           "arrowcolor": "#2a3f5f",
           "arrowhead": 0,
           "arrowwidth": 1
          },
          "autotypenumbers": "strict",
          "coloraxis": {
           "colorbar": {
            "outlinewidth": 0,
            "ticks": ""
           }
          },
          "colorscale": {
           "diverging": [
            [
             0,
             "#8e0152"
            ],
            [
             0.1,
             "#c51b7d"
            ],
            [
             0.2,
             "#de77ae"
            ],
            [
             0.3,
             "#f1b6da"
            ],
            [
             0.4,
             "#fde0ef"
            ],
            [
             0.5,
             "#f7f7f7"
            ],
            [
             0.6,
             "#e6f5d0"
            ],
            [
             0.7,
             "#b8e186"
            ],
            [
             0.8,
             "#7fbc41"
            ],
            [
             0.9,
             "#4d9221"
            ],
            [
             1,
             "#276419"
            ]
           ],
           "sequential": [
            [
             0,
             "#0d0887"
            ],
            [
             0.1111111111111111,
             "#46039f"
            ],
            [
             0.2222222222222222,
             "#7201a8"
            ],
            [
             0.3333333333333333,
             "#9c179e"
            ],
            [
             0.4444444444444444,
             "#bd3786"
            ],
            [
             0.5555555555555556,
             "#d8576b"
            ],
            [
             0.6666666666666666,
             "#ed7953"
            ],
            [
             0.7777777777777778,
             "#fb9f3a"
            ],
            [
             0.8888888888888888,
             "#fdca26"
            ],
            [
             1,
             "#f0f921"
            ]
           ],
           "sequentialminus": [
            [
             0,
             "#0d0887"
            ],
            [
             0.1111111111111111,
             "#46039f"
            ],
            [
             0.2222222222222222,
             "#7201a8"
            ],
            [
             0.3333333333333333,
             "#9c179e"
            ],
            [
             0.4444444444444444,
             "#bd3786"
            ],
            [
             0.5555555555555556,
             "#d8576b"
            ],
            [
             0.6666666666666666,
             "#ed7953"
            ],
            [
             0.7777777777777778,
             "#fb9f3a"
            ],
            [
             0.8888888888888888,
             "#fdca26"
            ],
            [
             1,
             "#f0f921"
            ]
           ]
          },
          "colorway": [
           "#636efa",
           "#EF553B",
           "#00cc96",
           "#ab63fa",
           "#FFA15A",
           "#19d3f3",
           "#FF6692",
           "#B6E880",
           "#FF97FF",
           "#FECB52"
          ],
          "font": {
           "color": "#2a3f5f"
          },
          "geo": {
           "bgcolor": "white",
           "lakecolor": "white",
           "landcolor": "#E5ECF6",
           "showlakes": true,
           "showland": true,
           "subunitcolor": "white"
          },
          "hoverlabel": {
           "align": "left"
          },
          "hovermode": "closest",
          "mapbox": {
           "style": "light"
          },
          "paper_bgcolor": "white",
          "plot_bgcolor": "#E5ECF6",
          "polar": {
           "angularaxis": {
            "gridcolor": "white",
            "linecolor": "white",
            "ticks": ""
           },
           "bgcolor": "#E5ECF6",
           "radialaxis": {
            "gridcolor": "white",
            "linecolor": "white",
            "ticks": ""
           }
          },
          "scene": {
           "xaxis": {
            "backgroundcolor": "#E5ECF6",
            "gridcolor": "white",
            "gridwidth": 2,
            "linecolor": "white",
            "showbackground": true,
            "ticks": "",
            "zerolinecolor": "white"
           },
           "yaxis": {
            "backgroundcolor": "#E5ECF6",
            "gridcolor": "white",
            "gridwidth": 2,
            "linecolor": "white",
            "showbackground": true,
            "ticks": "",
            "zerolinecolor": "white"
           },
           "zaxis": {
            "backgroundcolor": "#E5ECF6",
            "gridcolor": "white",
            "gridwidth": 2,
            "linecolor": "white",
            "showbackground": true,
            "ticks": "",
            "zerolinecolor": "white"
           }
          },
          "shapedefaults": {
           "line": {
            "color": "#2a3f5f"
           }
          },
          "ternary": {
           "aaxis": {
            "gridcolor": "white",
            "linecolor": "white",
            "ticks": ""
           },
           "baxis": {
            "gridcolor": "white",
            "linecolor": "white",
            "ticks": ""
           },
           "bgcolor": "#E5ECF6",
           "caxis": {
            "gridcolor": "white",
            "linecolor": "white",
            "ticks": ""
           }
          },
          "title": {
           "x": 0.05
          },
          "xaxis": {
           "automargin": true,
           "gridcolor": "white",
           "linecolor": "white",
           "ticks": "",
           "title": {
            "standoff": 15
           },
           "zerolinecolor": "white",
           "zerolinewidth": 2
          },
          "yaxis": {
           "automargin": true,
           "gridcolor": "white",
           "linecolor": "white",
           "ticks": "",
           "title": {
            "standoff": 15
           },
           "zerolinecolor": "white",
           "zerolinewidth": 2
          }
         }
        },
        "title": {
         "text": "Franchise Comparison"
        },
        "xaxis": {
         "anchor": "y",
         "categoryorder": "total descending",
         "domain": [
          0,
          1
         ],
         "title": {
          "text": "Franchise"
         }
        },
        "yaxis": {
         "anchor": "x",
         "domain": [
          0,
          1
         ],
         "title": {
          "text": "Predicted Points"
         }
        }
       }
      }
     },
     "metadata": {},
     "output_type": "display_data"
    }
   ],
   "source": [
    "#from ffpackage.analysis import starterSelector\n",
    "# Roster optimizer\n",
    "df = full.copy()\n",
    "optimized = pd.DataFrame()\n",
    "# Roster Dictionary\n",
    "rosterDict = {\n",
    "    'QB':['QB'], \n",
    "    'RB':['RB'],\n",
    "    'WR':['WR'],\n",
    "    'TE':['TE'],\n",
    "    'K':['PK'],\n",
    "    'DEF':['DEF'],\n",
    "    'FLEX':['RB', 'WR', 'TE'],\n",
    "    'SUPER_FLEX':['QB', 'RB', 'WR', 'TE'],\n",
    "}\n",
    "# Sort\n",
    "cond_taxi = df['taxi'].isna()\n",
    "sorted = df.loc[cond_taxi].sort_values(by='pts_proj', ignore_index=True, ascending=False)\n",
    "# Loop through weeks and franchises\n",
    "for this_user in df['user_id'].unique():\n",
    "    for week_to_optimize in df['week'].unique():\n",
    "        # Filter predictions for only that week and on a roster\n",
    "        cond_franch = sorted['user_id']==this_user\n",
    "        cond_week = sorted['week']==week_to_optimize\n",
    "        week_filtered = sorted.loc[cond_franch & cond_week]\n",
    "        # Start selecting the most valuable players in terms of total points for each position\n",
    "        result = []\n",
    "        for pos in rosterList:\n",
    "            # Ignore bench spots\n",
    "            if pos != \"BN\":\n",
    "                # Filter for each position and make sure the player is not already taken\n",
    "                cond_pos = week_filtered['position'].isin(rosterDict[pos])\n",
    "                cond_nottaken = ~week_filtered['player_id'].isin(result)\n",
    "                player_filtered = week_filtered.loc[cond_pos & cond_nottaken]\n",
    "                # Find highest scoring player that fits\n",
    "                if len(player_filtered)>0:\n",
    "                    player = player_filtered.reset_index(drop=True)['player_id'][0]\n",
    "                    result.append(player)\n",
    "        # Append results\n",
    "        next = week_filtered.loc[week_filtered['player_id'].isin(result)]\n",
    "        optimized = pd.concat([optimized, next], axis=0, ignore_index=True)\n",
    "\n",
    "# Get relative points\n",
    "optimized = getRelProjs_optimized(optimized)\n",
    "# Sum points across the season\n",
    "optimized = getSeasonTotals(optimized)\n",
    "# Visualize\n",
    "fig = compareFranchises(optimized, how='absolute')\n",
    "fig.show()"
   ]
  },
  {
   "cell_type": "markdown",
   "metadata": {},
   "source": [
    "### Left Off Here:\n",
    "##### Build trade report\n",
    "##### RosterOptimizer\n",
    "##### Tailor scoring for user's unique league"
   ]
  },
  {
   "cell_type": "code",
   "execution_count": null,
   "metadata": {},
   "outputs": [],
   "source": []
  },
  {
   "cell_type": "markdown",
   "metadata": {},
   "source": [
    "# Write to CSV"
   ]
  },
  {
   "cell_type": "code",
   "execution_count": 98,
   "metadata": {},
   "outputs": [],
   "source": [
    "# sums.to_csv(f'processed_{date_string}.csv', index=False)\n",
    "waivers.to_csv(f'waivers_{date_string}.csv', index=False)"
   ]
  },
  {
   "cell_type": "code",
   "execution_count": 97,
   "metadata": {},
   "outputs": [
    {
     "ename": "KeyError",
     "evalue": "'Column not found: rel_pts'",
     "output_type": "error",
     "traceback": [
      "\u001b[0;31m---------------------------------------------------------------------------\u001b[0m",
      "\u001b[0;31mKeyError\u001b[0m                                  Traceback (most recent call last)",
      "Cell \u001b[0;32mIn[97], line 2\u001b[0m\n\u001b[1;32m      1\u001b[0m \u001b[38;5;66;03m# Starter report\u001b[39;00m\n\u001b[0;32m----> 2\u001b[0m \u001b[43mfull\u001b[49m\u001b[38;5;241;43m.\u001b[39;49m\u001b[43mloc\u001b[49m\u001b[43m[\u001b[49m\u001b[43mfull\u001b[49m\u001b[43m[\u001b[49m\u001b[38;5;124;43m'\u001b[39;49m\u001b[38;5;124;43mstarters\u001b[39;49m\u001b[38;5;124;43m'\u001b[39;49m\u001b[43m]\u001b[49m\u001b[38;5;241;43m==\u001b[39;49m\u001b[38;5;28;43;01mTrue\u001b[39;49;00m\u001b[43m]\u001b[49m\u001b[38;5;241;43m.\u001b[39;49m\u001b[43mgroupby\u001b[49m\u001b[43m(\u001b[49m\u001b[38;5;124;43m'\u001b[39;49m\u001b[38;5;124;43mfranchise_name\u001b[39;49m\u001b[38;5;124;43m'\u001b[39;49m\u001b[43m)\u001b[49m\u001b[43m[\u001b[49m\u001b[38;5;124;43m'\u001b[39;49m\u001b[38;5;124;43mrel_pts\u001b[39;49m\u001b[38;5;124;43m'\u001b[39;49m\u001b[43m]\u001b[49m\u001b[38;5;241m.\u001b[39msum()\u001b[38;5;241m.\u001b[39msort_values()\n",
      "File \u001b[0;32m~/opt/anaconda3/envs/fnfl2023/lib/python3.11/site-packages/pandas/core/groupby/generic.py:1771\u001b[0m, in \u001b[0;36mDataFrameGroupBy.__getitem__\u001b[0;34m(self, key)\u001b[0m\n\u001b[1;32m   1764\u001b[0m \u001b[39mif\u001b[39;00m \u001b[39misinstance\u001b[39m(key, \u001b[39mtuple\u001b[39m) \u001b[39mand\u001b[39;00m \u001b[39mlen\u001b[39m(key) \u001b[39m>\u001b[39m \u001b[39m1\u001b[39m:\n\u001b[1;32m   1765\u001b[0m     \u001b[39m# if len == 1, then it becomes a SeriesGroupBy and this is actually\u001b[39;00m\n\u001b[1;32m   1766\u001b[0m     \u001b[39m# valid syntax, so don't raise\u001b[39;00m\n\u001b[1;32m   1767\u001b[0m     \u001b[39mraise\u001b[39;00m \u001b[39mValueError\u001b[39;00m(\n\u001b[1;32m   1768\u001b[0m         \u001b[39m\"\u001b[39m\u001b[39mCannot subset columns with a tuple with more than one element. \u001b[39m\u001b[39m\"\u001b[39m\n\u001b[1;32m   1769\u001b[0m         \u001b[39m\"\u001b[39m\u001b[39mUse a list instead.\u001b[39m\u001b[39m\"\u001b[39m\n\u001b[1;32m   1770\u001b[0m     )\n\u001b[0;32m-> 1771\u001b[0m \u001b[39mreturn\u001b[39;00m \u001b[39msuper\u001b[39;49m()\u001b[39m.\u001b[39;49m\u001b[39m__getitem__\u001b[39;49m(key)\n",
      "File \u001b[0;32m~/opt/anaconda3/envs/fnfl2023/lib/python3.11/site-packages/pandas/core/base.py:244\u001b[0m, in \u001b[0;36mSelectionMixin.__getitem__\u001b[0;34m(self, key)\u001b[0m\n\u001b[1;32m    242\u001b[0m \u001b[39melse\u001b[39;00m:\n\u001b[1;32m    243\u001b[0m     \u001b[39mif\u001b[39;00m key \u001b[39mnot\u001b[39;00m \u001b[39min\u001b[39;00m \u001b[39mself\u001b[39m\u001b[39m.\u001b[39mobj:\n\u001b[0;32m--> 244\u001b[0m         \u001b[39mraise\u001b[39;00m \u001b[39mKeyError\u001b[39;00m(\u001b[39mf\u001b[39m\u001b[39m\"\u001b[39m\u001b[39mColumn not found: \u001b[39m\u001b[39m{\u001b[39;00mkey\u001b[39m}\u001b[39;00m\u001b[39m\"\u001b[39m)\n\u001b[1;32m    245\u001b[0m     ndim \u001b[39m=\u001b[39m \u001b[39mself\u001b[39m\u001b[39m.\u001b[39mobj[key]\u001b[39m.\u001b[39mndim\n\u001b[1;32m    246\u001b[0m     \u001b[39mreturn\u001b[39;00m \u001b[39mself\u001b[39m\u001b[39m.\u001b[39m_gotitem(key, ndim\u001b[39m=\u001b[39mndim)\n",
      "\u001b[0;31mKeyError\u001b[0m: 'Column not found: rel_pts'"
     ]
    }
   ],
   "source": [
    "# Starter report\n",
    "full.loc[full['starters']==True].groupby('franchise_name')['rel_pts'].sum().sort_values()"
   ]
  },
  {
   "cell_type": "code",
   "execution_count": 96,
   "metadata": {},
   "outputs": [
    {
     "data": {
      "text/plain": [
       "franchise_name\n",
       "DangeRUSS Last Ride          160.0080\n",
       "Comeback 👑’s                1885.1302\n",
       "kevinbash                   1925.8060\n",
       "Idk much about soccer       2105.1885\n",
       "Count of Monte Christian    2163.8135\n",
       "2014champ                   2194.1737\n",
       "GusTheBus                   2283.6228\n",
       "📜 Providence 🪬 Spirits 🥂    2324.0345\n",
       "Verdanks Vacqueros FFC      2426.5528\n",
       "Pretty Big Wieners          2483.3059\n",
       "Saskatoon Squatches         2582.2908\n",
       "Croccity Body Snatchers     2733.0872\n",
       "Name: pts_proj, dtype: float64"
      ]
     },
     "execution_count": 96,
     "metadata": {},
     "output_type": "execute_result"
    }
   ],
   "source": [
    "full.loc[full['starters']==True].groupby('franchise_name')['pts_proj'].sum().sort_values()"
   ]
  },
  {
   "cell_type": "code",
   "execution_count": null,
   "metadata": {},
   "outputs": [],
   "source": []
  }
 ],
 "metadata": {
  "kernelspec": {
   "display_name": "Python 3.11.4 ('fnfl2023')",
   "language": "python",
   "name": "python3"
  },
  "language_info": {
   "codemirror_mode": {
    "name": "ipython",
    "version": 3
   },
   "file_extension": ".py",
   "mimetype": "text/x-python",
   "name": "python",
   "nbconvert_exporter": "python",
   "pygments_lexer": "ipython3",
   "version": "3.11.4"
  },
  "orig_nbformat": 4,
  "vscode": {
   "interpreter": {
    "hash": "9d5343d8487a7ad33f7c6df21cec71a8cada15334439bd483feb9f981d44372f"
   }
  }
 },
 "nbformat": 4,
 "nbformat_minor": 2
}
