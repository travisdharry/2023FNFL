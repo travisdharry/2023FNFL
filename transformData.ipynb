{
 "cells": [
  {
   "cell_type": "markdown",
   "metadata": {},
   "source": [
    "# Config"
   ]
  },
  {
   "cell_type": "code",
   "execution_count": 90,
   "metadata": {},
   "outputs": [],
   "source": [
    "# Import dependencies\n",
    "import pandas as pd\n",
    "from datetime import datetime\n",
    "from sleeperpy import User, Leagues\n",
    "from ffpackage.viz import compareFranchises"
   ]
  },
  {
   "cell_type": "code",
   "execution_count": 71,
   "metadata": {},
   "outputs": [],
   "source": [
    "# Settings\n",
    "date_string = datetime.today().strftime('%Y%m%d')\n",
    "weekStart = 1\n",
    "weekEnd = 2\n",
    "extra_defensive_points = 18\n",
    "pr_bonus = 1\n",
    "kr_bonus = 3\n",
    "username = 'dirtywizard'"
   ]
  },
  {
   "cell_type": "markdown",
   "metadata": {},
   "source": [
    "# Extract"
   ]
  },
  {
   "cell_type": "code",
   "execution_count": 72,
   "metadata": {},
   "outputs": [],
   "source": [
    "# Read database\n",
    "preds = pd.read_csv('db/records_preds.csv')\n",
    "preds = preds.loc[preds['date_prediction']==preds['date_prediction'].max()]\n",
    "mults = pd.read_csv('db/pts_multipliers.csv')\n",
    "rostLims = pd.read_csv('db/roster_limits.csv')"
   ]
  },
  {
   "cell_type": "code",
   "execution_count": 73,
   "metadata": {},
   "outputs": [],
   "source": [
    "def processRosters(league_id):\n",
    "    # Get rosters for all league members\n",
    "    rosters = pd.DataFrame(Leagues.get_rosters(league_id))\n",
    "    # Explode the player columns to find how they are placed on the roster\n",
    "    result = pd.DataFrame(columns=['owner_id', 'player_id'])\n",
    "    for col in ['taxi', 'starters', 'players']:\n",
    "        df = rosters[['owner_id', col]].explode(col)\n",
    "        df = df.rename(columns={col:'player_id'})\n",
    "        df[col] = True\n",
    "        result = result.merge(df, how='outer', on=['owner_id', 'player_id'])\n",
    "    return result"
   ]
  },
  {
   "cell_type": "code",
   "execution_count": 74,
   "metadata": {},
   "outputs": [],
   "source": [
    "def procesOwners(league_id):\n",
    "    owners = pd.DataFrame(Leagues.get_users(league_id))\n",
    "    list = []\n",
    "    for i in range(len(owners)):\n",
    "        if 'team_name' in owners['metadata'][i]:\n",
    "            list.append(owners['metadata'][i]['team_name'])\n",
    "        else:\n",
    "            list.append(owners['display_name'][i])\n",
    "    owners['franchise_name'] = list\n",
    "    owners = owners[['user_id', 'franchise_name', 'display_name']]\n",
    "    return owners"
   ]
  },
  {
   "cell_type": "code",
   "execution_count": 75,
   "metadata": {},
   "outputs": [],
   "source": [
    "# Get User's Sleeper ID\n",
    "user_id = User.get_user(username)['user_id']\n",
    "# Get the User's Sleeper league ID\n",
    "league_id = Leagues.get_all_leagues(user_id, 'nfl', 2023)[0]['league_id']\n",
    "# Get all players on rosters\n",
    "rosters = processRosters(league_id)\n",
    "# Get info on all owners\n",
    "owners = procesOwners(league_id)"
   ]
  },
  {
   "cell_type": "markdown",
   "metadata": {},
   "source": [
    "# Transform"
   ]
  },
  {
   "cell_type": "code",
   "execution_count": 76,
   "metadata": {},
   "outputs": [],
   "source": [
    "# Customize predictions for league\n",
    "# multiply by points multiplier\n",
    "for col in mults.columns[1:]:\n",
    "    preds[col] = preds[col] * mults.loc[mults['username']==username, col][0]\n",
    "# Add up point columns\n",
    "preds['pts_proj'] = preds[mults.columns[1:]].sum(axis=1)\n",
    "# Add extras for defense starting values\n",
    "preds.loc[preds['Yds Allowed'].notna(), 'pts_proj'] = preds.loc[preds['Yds Allowed'].notna(), 'pts_proj'] + extra_defensive_points\n",
    "\n",
    "# Adjust point calculation based on PR/KR\n",
    "preds.loc[preds['PR']==True, 'pts_proj'] = preds.loc[preds['PR']==True, 'pts_proj'] + (pr_bonus)\n",
    "preds.loc[preds['KR']==True, 'pts_proj'] = preds.loc[preds['KR']==True, 'pts_proj'] + (kr_bonus)\n",
    "\n",
    "# Calculate relative points\n",
    "preds['pts_proj'] = preds['pts_proj'].fillna(0)\n",
    "preds = preds.sort_values(by='pts_proj', ascending=False, ignore_index=True)\n",
    "for pos in rostLims.columns[1:]:\n",
    "    cond1 = preds['position']==pos\n",
    "    floor = preds.loc[cond1, 'pts_proj'].reset_index(drop=True)[rostLims.loc[rostLims['username']==username, pos][0]]\n",
    "    preds.loc[cond1, 'rel_proj'] = preds.loc[cond1, 'pts_proj'] - floor\n",
    "\n",
    "# Reduce\n",
    "preds = preds[['week', 'player_id', 'pts_proj', 'rel_proj', 'full_name', 'age', 'years_exp', 'weight', 'height',\n",
    "       'team', 'position', 'fantasy_positions', 'depth_chart_order',\n",
    "       'depth_chart_position', 'status', 'injury_status', 'injury_notes',\n",
    "       'injury_start_date', 'practice_participation', 'practice_description','active'\n",
    "       ]]"
   ]
  },
  {
   "cell_type": "code",
   "execution_count": 77,
   "metadata": {},
   "outputs": [],
   "source": [
    "# Merge\n",
    "# Merge in points\n",
    "full = preds \\\n",
    "    .merge(rosters, how='left', on='player_id') \\\n",
    "    .merge(owners, how='left', left_on='owner_id', right_on='user_id')"
   ]
  },
  {
   "cell_type": "markdown",
   "metadata": {},
   "source": [
    "# Waiver Report"
   ]
  },
  {
   "cell_type": "code",
   "execution_count": 85,
   "metadata": {},
   "outputs": [],
   "source": [
    "# Waiver report\n",
    "# Sum points across the season\n",
    "totals_proj = full.groupby('player_id')['pts_proj'].sum().reset_index()\n",
    "totals_rel = full.groupby('player_id')['rel_proj'].sum().reset_index()\n",
    "unis = full.drop_duplicates(subset='player_id', ignore_index=True).drop(columns=['pts_proj', 'rel_proj'])\n",
    "waivers = unis.merge(totals_proj, how='left', on='player_id').merge(totals_rel, how='left', on='player_id')\n",
    "# Select only players on user's roster or unclaimed, and who would improve user's points\n",
    "minpts = waivers.loc[(waivers['display_name']==username)&(waivers['taxi'].isna())]['pts_proj'].min()\n",
    "cond1 = waivers['display_name']==username\n",
    "cond2 = waivers['display_name'].isna()\n",
    "cond3 = waivers['pts_proj']>=minpts\n",
    "waivers = waivers.loc[(cond1|cond2)&cond3].reset_index(drop=True)\n",
    "# Reduce\n",
    "waivers = waivers[[\n",
    "    'week', 'player_id', 'pts_proj', 'rel_proj', 'franchise_name', 'full_name', 'age', 'years_exp', 'weight',\n",
    "       'height', 'team', 'position', 'taxi', 'starters', 'players', 'fantasy_positions', 'depth_chart_order',\n",
    "       'depth_chart_position', 'status', 'injury_status', 'injury_notes',\n",
    "       'injury_start_date', 'practice_participation', 'practice_description','active'\n",
    "]]"
   ]
  },
  {
   "cell_type": "markdown",
   "metadata": {},
   "source": [
    "# Visualize Total Points"
   ]
  },
  {
   "cell_type": "code",
   "execution_count": 91,
   "metadata": {},
   "outputs": [
    {
     "data": {
      "text/plain": [
       "Index(['week', 'player_id', 'pts_proj', 'rel_proj', 'full_name', 'age',\n",
       "       'years_exp', 'weight', 'height', 'team', 'position',\n",
       "       'fantasy_positions', 'depth_chart_order', 'depth_chart_position',\n",
       "       'status', 'injury_status', 'injury_notes', 'injury_start_date',\n",
       "       'practice_participation', 'practice_description', 'active', 'owner_id',\n",
       "       'taxi', 'starters', 'players', 'user_id', 'franchise_name',\n",
       "       'display_name'],\n",
       "      dtype='object')"
      ]
     },
     "execution_count": 91,
     "metadata": {},
     "output_type": "execute_result"
    }
   ],
   "source": [
    "full.columns"
   ]
  },
  {
   "cell_type": "code",
   "execution_count": null,
   "metadata": {},
   "outputs": [],
   "source": [
    "compareFranchises(full, )"
   ]
  },
  {
   "cell_type": "markdown",
   "metadata": {},
   "source": [
    "### Left Off Here:\n",
    "##### Build trade report\n",
    "##### RosterOptimizer\n",
    "##### Viz franchise points"
   ]
  },
  {
   "cell_type": "code",
   "execution_count": null,
   "metadata": {},
   "outputs": [],
   "source": []
  },
  {
   "cell_type": "code",
   "execution_count": null,
   "metadata": {},
   "outputs": [],
   "source": []
  },
  {
   "cell_type": "markdown",
   "metadata": {},
   "source": [
    "# Write to CSV"
   ]
  },
  {
   "cell_type": "code",
   "execution_count": null,
   "metadata": {},
   "outputs": [],
   "source": [
    "# sums.to_csv(f'processed_{date_string}.csv', index=False)\n",
    "# waivers.to_csv(f'waivers_{date_string}.csv', index=False)"
   ]
  },
  {
   "cell_type": "code",
   "execution_count": 87,
   "metadata": {},
   "outputs": [
    {
     "data": {
      "text/plain": [
       "franchise_name\n",
       "Comeback 👑’s               -84.5002\n",
       "2014champ                  -35.7518\n",
       "Idk much about soccer      -28.8230\n",
       "Count of Monte Christian   -25.8082\n",
       "DangeRUSS Last Ride        -16.3294\n",
       "GusTheBus                  -14.4044\n",
       "📜 Providence 🪬 Spirits 🥂   -13.4572\n",
       "kevinbash                    1.7472\n",
       "Verdanks Vacqueros FFC       7.6152\n",
       "Pretty Big Wieners           8.0010\n",
       "Saskatoon Squatches         16.4104\n",
       "Croccity Body Snatchers     37.7902\n",
       "Name: rel_proj, dtype: float64"
      ]
     },
     "execution_count": 87,
     "metadata": {},
     "output_type": "execute_result"
    }
   ],
   "source": [
    "# Starter report\n",
    "full.loc[full['starters']==True].groupby('franchise_name')['rel_proj'].sum().sort_values()"
   ]
  },
  {
   "cell_type": "code",
   "execution_count": 88,
   "metadata": {},
   "outputs": [
    {
     "data": {
      "text/plain": [
       "franchise_name\n",
       "DangeRUSS Last Ride          19.2950\n",
       "Comeback 👑’s                226.8142\n",
       "kevinbash                   240.8168\n",
       "Idk much about soccer       255.7966\n",
       "2014champ                   261.7978\n",
       "Count of Monte Christian    271.7414\n",
       "GusTheBus                   286.9252\n",
       "📜 Providence 🪬 Spirits 🥂    299.7472\n",
       "Verdanks Vacqueros FFC      307.0548\n",
       "Saskatoon Squatches         308.7100\n",
       "Pretty Big Wieners          309.3306\n",
       "Croccity Body Snatchers     339.1198\n",
       "Name: pts_proj, dtype: float64"
      ]
     },
     "execution_count": 88,
     "metadata": {},
     "output_type": "execute_result"
    }
   ],
   "source": [
    "full.loc[full['starters']==True].groupby('franchise_name')['pts_proj'].sum().sort_values()"
   ]
  },
  {
   "cell_type": "code",
   "execution_count": null,
   "metadata": {},
   "outputs": [],
   "source": []
  }
 ],
 "metadata": {
  "kernelspec": {
   "display_name": "Python 3.11.4 ('fnfl2023')",
   "language": "python",
   "name": "python3"
  },
  "language_info": {
   "codemirror_mode": {
    "name": "ipython",
    "version": 3
   },
   "file_extension": ".py",
   "mimetype": "text/x-python",
   "name": "python",
   "nbconvert_exporter": "python",
   "pygments_lexer": "ipython3",
   "version": "3.11.4"
  },
  "orig_nbformat": 4,
  "vscode": {
   "interpreter": {
    "hash": "9d5343d8487a7ad33f7c6df21cec71a8cada15334439bd483feb9f981d44372f"
   }
  }
 },
 "nbformat": 4,
 "nbformat_minor": 2
}
