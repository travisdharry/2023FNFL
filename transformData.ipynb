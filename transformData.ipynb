{
 "cells": [
  {
   "cell_type": "markdown",
   "metadata": {},
   "source": [
    "# Config"
   ]
  },
  {
   "cell_type": "code",
   "execution_count": 476,
   "metadata": {},
   "outputs": [],
   "source": [
    "# Import dependencies\n",
    "import pandas as pd\n",
    "from datetime import datetime\n",
    "from sleeperpy import User, Leagues\n",
    "from ffpackage.viz import compareFranchises\n",
    "import plotly\n",
    "import plotly.express as px"
   ]
  },
  {
   "cell_type": "code",
   "execution_count": 477,
   "metadata": {},
   "outputs": [],
   "source": [
    "# Settings\n",
    "date_string = datetime.today().strftime('%Y%m%d')\n",
    "weekStart = 14\n",
    "weekEnd = 14\n",
    "def_starting_pts = 18\n",
    "pr_bonus = 0\n",
    "kr_bonus = 0\n",
    "username = 'dirtywizard'"
   ]
  },
  {
   "cell_type": "markdown",
   "metadata": {},
   "source": [
    "# Extract"
   ]
  },
  {
   "cell_type": "code",
   "execution_count": 478,
   "metadata": {},
   "outputs": [],
   "source": [
    "# Read database\n",
    "preds = pd.read_csv('db/records_preds.csv')\n",
    "preds = preds.loc[preds['date_prediction']==preds['date_prediction'].max()]\n",
    "preds = preds.loc[(preds['week']>=weekStart)&(preds['week']<=weekEnd)]\n",
    "mults = pd.read_csv('db/pts_multipliers.csv')\n",
    "rostLims = pd.read_csv('db/roster_limits.csv')"
   ]
  },
  {
   "cell_type": "code",
   "execution_count": 479,
   "metadata": {},
   "outputs": [],
   "source": [
    "def processRosters(league_id):\n",
    "    # Get rosters for all league members\n",
    "    rosters = pd.DataFrame(Leagues.get_rosters(league_id))\n",
    "    # Explode the player columns to find how they are placed on the roster\n",
    "    result = pd.DataFrame(columns=['owner_id', 'player_id'])\n",
    "    for col in ['taxi', 'starters', 'players']:\n",
    "        df = rosters[['owner_id', col]].explode(col)\n",
    "        df = df.rename(columns={col:'player_id'})\n",
    "        df[col] = True\n",
    "        result = result.merge(df, how='outer', on=['owner_id', 'player_id'])\n",
    "    return result"
   ]
  },
  {
   "cell_type": "code",
   "execution_count": 480,
   "metadata": {},
   "outputs": [],
   "source": [
    "def procesOwners(league_id):\n",
    "    owners = pd.DataFrame(Leagues.get_users(league_id))\n",
    "    list = []\n",
    "    for i in range(len(owners)):\n",
    "        if 'team_name' in owners['metadata'][i]:\n",
    "            list.append(owners['metadata'][i]['team_name'])\n",
    "        else:\n",
    "            list.append(owners['display_name'][i])\n",
    "    owners['franchise_name'] = list\n",
    "    owners = owners[['user_id', 'franchise_name', 'display_name']]\n",
    "    return owners"
   ]
  },
  {
   "cell_type": "code",
   "execution_count": 481,
   "metadata": {},
   "outputs": [],
   "source": [
    "# Get User's Sleeper ID\n",
    "user_id = User.get_user(username)['user_id']\n",
    "# Get the User's Sleeper league ID\n",
    "league_id = Leagues.get_all_leagues(user_id, 'nfl', 2023)[0]['league_id']\n",
    "# Get all players on rosters\n",
    "rosters = processRosters(league_id)\n",
    "# Get info on all owners\n",
    "owners = procesOwners(league_id)\n",
    "# Get league info\n",
    "user_league = Leagues.get_league(league_id)\n",
    "\n",
    "# Get roster positions \n",
    "rosterList = user_league['roster_positions']\n",
    "# Sort rosterList\n",
    "sort_order = ['QB', 'RB', 'WR', 'TE', 'K', 'DEF', 'FLEX', 'SUPER_FLEX', 'BN']\n",
    "rosterList.sort(key=sort_order.index)\n",
    "\n",
    "# Get number of franchises\n",
    "number_of_franchises = user_league['total_rosters']"
   ]
  },
  {
   "cell_type": "code",
   "execution_count": 482,
   "metadata": {},
   "outputs": [],
   "source": [
    "       \n",
    "# # Convert raw prediction values to numeric\n",
    "# colList = ['Att', 'Comp', 'Pass Yds', 'Pass TDs', 'Int', 'Sck', 'Rush', 'Rsh Yds', 'Rsh TDs', 'Fum', 'Tgt', \\\n",
    "#     'RZ Tgt', 'Rec', 'Rec Yds', 'Rec TDs', 'Kick Ret Yds', 'XPM', 'XPA', 'FGM', 'FGA', '10-19 FGM', '20-29 FGM', \\\n",
    "#         '30-39 FGM', '40-49 FGM', '50+ FGM', 'Miss', 'Yds Allowed', 'Pts Agn', 'Scks', 'DefTD', 'Safts']\n",
    "# for col in colList:\n",
    "#     sharks[col] = sharks[col].astype('float64')\n",
    "    \n",
    "# # Clean up\n",
    "# sharks = sharks.rename(columns={'Week':'week'})\n",
    "# # Create ID: Remove Rookie \"R\": format first name last name\n",
    "# cond1 = sharks['Player'].str[-1]==\"R\"\n",
    "# sharks.loc[cond1, 'Player'] = sharks.loc[cond1, 'Player'].str[:-1]\n",
    "# sharks['lName'] = sharks['Player'].str.split(\", \", expand=True)[0]\n",
    "# sharks['fName'] = sharks['Player'].str.split(\", \", expand=True)[1]\n",
    "# sharks['id_sharks'] = sharks['fName']+\" \"+sharks['lName']\n",
    "# sharks['id_sharks'] = sharks['id_sharks'].str.replace(\".\", \"\")\n",
    "# sharks['id_sharks'] = sharks['id_sharks'].str.title()\n",
    "# sharks['id_sharks'] = [\" \".join(x.split(\" \")[:2]) for x in sharks['id_sharks']]\n",
    "# # Reduce\n",
    "# sharks = sharks[['id_sharks', 'week']+colList]\n"
   ]
  },
  {
   "cell_type": "code",
   "execution_count": 483,
   "metadata": {},
   "outputs": [],
   "source": [
    "# Need to bin and cut def pts allowed, def yds allowed\n",
    "# Need to create column for fgm>30"
   ]
  },
  {
   "cell_type": "code",
   "execution_count": 484,
   "metadata": {},
   "outputs": [],
   "source": [
    "# [\n",
    "# 'Comp':'pass_cmp',\n",
    "# 'Pass Yds':'pass_yd',\n",
    "# 'Pass TDs':'pass_td',\n",
    "# 'Int':'pass_int',\n",
    "# 'Rush':'rush_att',\n",
    "# 'Rsh Yds':'rush_yd',\n",
    "# 'Rsh TDs':'rush_td',\n",
    "# 'Fum':'fum''fum_lost',\n",
    "# 'Rec':'rec',\n",
    "# 'Rec Yds':'rec_yd',\n",
    "# 'Rec TDs':'rec_td',\n",
    "# 'Kick Ret Yds':'kr_yd',\n",
    "# 'XPM':'xpm',\n",
    "# 'FGM':'fgm',\n",
    "# '10-19 FGM':'fgm_0_19',\n",
    "# '20-29 FGM':'fgm_20_29',\n",
    "# '30-39 FGM':'fgm_30_39''fgm_yds_over_30',\n",
    "# '40-49 FGM':'fgm_40_49''fgm_yds_over_30',\n",
    "# '50+ FGM':'fgm_50p''fgm_yds_over_30',\n",
    "# 'Miss':'fgmiss',\n",
    "# 'Yds Allowed':'yds_allow_0_100''yds_allow_100_199''yds_allow_200_299''yds_allow_400_449''yds_allow_450_499''yds_allow_500_549''yds_allow_550p',\n",
    "# 'Pts Agn':'pts_allow_0''pts_allow_1_6''pts_allow_7_13''pts_allow_14_20''pts_allow_21_27''pts_allow_28_34''pts_allow_35p',\n",
    "# 'Scks':'sack',\n",
    "# 'DefTD':'def_td',\n",
    "# 'Safts':'safe',\n",
    "# ]\n",
    "# colList = ['Att', 'Comp', 'Pass Yds', 'Pass TDs', 'Int', 'Sck', 'Rush', 'Rsh Yds', 'Rsh TDs', 'Fum', 'Tgt', \\\n",
    "#     'RZ Tgt', 'Rec', 'Rec Yds', 'Rec TDs', 'Kick Ret Yds', 'XPM', 'XPA', 'FGM', 'FGA', '10-19 FGM', '20-29 FGM', \\\n",
    "#         '30-39 FGM', '40-49 FGM', '50+ FGM', 'Miss', 'Yds Allowed', 'Pts Agn', 'Scks', 'DefTD', 'Safts']\n"
   ]
  },
  {
   "cell_type": "code",
   "execution_count": 485,
   "metadata": {},
   "outputs": [
    {
     "data": {
      "text/plain": [
       "{'st_ff': 1.0,\n",
       " 'pts_allow_7_13': 7.0,\n",
       " 'def_st_ff': 1.0,\n",
       " 'rec_yd': 0.1,\n",
       " 'fum_rec_td': 6.0,\n",
       " 'bonus_rush_rec_yd_200': 0.0,\n",
       " 'pts_allow_35p': -2.0,\n",
       " 'pts_allow_28_34': 0.0,\n",
       " 'fum': 0.0,\n",
       " 'pr_yd': 0.1,\n",
       " 'yds_allow_0_100': 10.0,\n",
       " 'rush_yd': 0.1,\n",
       " 'yds_allow_100_199': 7.0,\n",
       " 'pass_td': 4.0,\n",
       " 'blk_kick': 2.0,\n",
       " 'pass_yd': 0.04,\n",
       " 'safe': 2.0,\n",
       " 'bonus_rush_yd_200': 0.0,\n",
       " 'def_td': 6.0,\n",
       " 'fgm_50p': 0.0,\n",
       " 'def_st_td': 6.0,\n",
       " 'bonus_rec_yd_200': 0.0,\n",
       " 'fum_rec': 2.0,\n",
       " 'rush_2pt': 2.0,\n",
       " 'pass_cmp': 0.0,\n",
       " 'def_3_and_out': 0.0,\n",
       " 'xpm': 1.0,\n",
       " 'bonus_pass_yd_300': 0.0,\n",
       " 'pts_allow_21_27': 2.0,\n",
       " 'yds_allow_500_549': -5.0,\n",
       " 'fgm_20_29': 0.0,\n",
       " 'rush_att': 0.10000000149011612,\n",
       " 'kr_yd': 0.1,\n",
       " 'pts_allow_1_6': 8.0,\n",
       " 'fum_lost': -2.0,\n",
       " 'def_st_fum_rec': 1.0,\n",
       " 'int': 2.0,\n",
       " 'fgm_0_19': 0.0,\n",
       " 'def_2pt': 2.0,\n",
       " 'pts_allow_14_20': 5.0,\n",
       " 'yds_allow_200_299': 4.0,\n",
       " 'rec': 0.25,\n",
       " 'ff': 0.0,\n",
       " 'fgmiss': 0.0,\n",
       " 'st_fum_rec': 1.0,\n",
       " 'rec_2pt': 2.0,\n",
       " 'fgm': 3.0,\n",
       " 'yds_allow_550p': -5.0,\n",
       " 'rush_td': 6.0,\n",
       " 'xpmiss': 0.0,\n",
       " 'fgm_30_39': 0.0,\n",
       " 'yds_allow_400_449': -2.0,\n",
       " 'rec_td': 6.0,\n",
       " 'fgm_yds_over_30': 0.10000000149011612,\n",
       " 'st_td': 6.0,\n",
       " 'yds_allow_450_499': -5.0,\n",
       " 'pass_2pt': 2.0,\n",
       " 'bonus_pass_yd_400': 0.0,\n",
       " 'pts_allow_0': 10.0,\n",
       " 'pass_int': -2.0,\n",
       " 'bonus_rush_yd_100': 0.0,\n",
       " 'bonus_rec_yd_100': 0.0,\n",
       " 'fgm_40_49': 0.0,\n",
       " 'sack': 1.0}"
      ]
     },
     "execution_count": 485,
     "metadata": {},
     "output_type": "execute_result"
    }
   ],
   "source": [
    "user_league['scoring_settings']"
   ]
  },
  {
   "cell_type": "markdown",
   "metadata": {},
   "source": [
    "# Transform"
   ]
  },
  {
   "cell_type": "code",
   "execution_count": 486,
   "metadata": {},
   "outputs": [],
   "source": [
    "# Customize predictions for league\n",
    "# Calculate projected points according to that league's scoring settings\n",
    "# Multiply by points multiplier\n",
    "for col in mults.columns[1:]:\n",
    "    preds[col] = preds[col] * mults.loc[mults['username']==username, col][0]\n",
    "# Add up point columns\n",
    "preds['pts_proj'] = preds[mults.columns[1:]].sum(axis=1)\n",
    "# Add extras for defense starting values\n",
    "preds.loc[preds['Yds Allowed'].notna(), 'pts_proj'] = preds.loc[preds['Yds Allowed'].notna(), 'pts_proj'] + def_starting_pts\n",
    "# Add extras for Punt/kick returners\n",
    "preds.loc[preds['PR']==True, 'pts_proj'] = preds.loc[preds['PR']==True, 'pts_proj'] + (pr_bonus)\n",
    "preds.loc[preds['KR']==True, 'pts_proj'] = preds.loc[preds['KR']==True, 'pts_proj'] + (kr_bonus)\n",
    "\n",
    "# Merge in point projections with franchise data\n",
    "full = preds \\\n",
    "    .merge(rosters, how='left', on='player_id') \\\n",
    "    .merge(owners, how='left', left_on='owner_id', right_on='user_id')"
   ]
  },
  {
   "cell_type": "code",
   "execution_count": 487,
   "metadata": {},
   "outputs": [],
   "source": [
    "# def getRelProjs(df):\n",
    "#     # Calculate relative points for each position in each week\n",
    "#     df['pts_proj'] = df['pts_proj'].fillna(0)\n",
    "#     df = df.sort_values(by='pts_proj', ascending=False, ignore_index=True)\n",
    "#     # Loop through weeks and positions\n",
    "#     for week in df['week'].unique():\n",
    "#         for pos in rostLims.columns[1:]:\n",
    "#             # Find floor\n",
    "#             cond1 = df['position']==pos\n",
    "#             cond2 = df['week']==week\n",
    "#             floor = df.loc[cond1&cond2, 'pts_proj'].reset_index(drop=True)[rostLims.loc[rostLims['username']==username, pos][0]]\n",
    "#             # Find each player's points over floor\n",
    "#             df.loc[cond1&cond2, 'val_proj'] = df.loc[cond1&cond2, 'pts_proj'] - floor\n",
    "#     return df"
   ]
  },
  {
   "cell_type": "code",
   "execution_count": 488,
   "metadata": {},
   "outputs": [],
   "source": [
    "def getRelProjs(df):\n",
    "    # Calculate relative points for each position in each week\n",
    "    df['pts_proj'] = df['pts_proj'].fillna(0)\n",
    "    df = df.sort_values(by='pts_proj', ascending=False, ignore_index=True)\n",
    "    # Loop through weeks and positions\n",
    "    for week in df['week'].unique():\n",
    "        for pos in df['position'].unique():\n",
    "            # Find floor\n",
    "            cond_pos = df['position']==pos\n",
    "            cond_week = df['week']==week\n",
    "            floor = df.loc[cond_pos&cond_week, 'pts_proj'].min()\n",
    "            # Find each player's points over floor\n",
    "            df.loc[cond_pos&cond_week, 'val_proj'] = df.loc[cond_pos&cond_week, 'pts_proj'] - floor\n",
    "    return df"
   ]
  },
  {
   "cell_type": "code",
   "execution_count": 489,
   "metadata": {},
   "outputs": [],
   "source": [
    "def getSeasonTotals(df):\n",
    "    # Sum up pts_proj and val_proj\n",
    "    totals_proj = df.groupby('player_id')['pts_proj'].sum().reset_index()\n",
    "    totals_rel = df.groupby('player_id')['val_proj'].sum().reset_index()\n",
    "    # Merge in totals with player metadata\n",
    "    unis = df.drop_duplicates(subset='player_id', ignore_index=True).drop(columns=['pts_proj', 'val_proj'])\n",
    "    df = unis.merge(totals_proj, how='left', on='player_id').merge(totals_rel, how='left', on='player_id')\n",
    "    return df"
   ]
  },
  {
   "cell_type": "code",
   "execution_count": 490,
   "metadata": {},
   "outputs": [],
   "source": [
    "def tidyUp(df):\n",
    "    # Tidy\n",
    "    df = df[[\n",
    "        'week', 'player_id', 'pts_proj', 'val_proj', 'franchise_name', 'full_name', 'age', 'years_exp', 'weight',\n",
    "        'height', 'team', 'position', 'taxi', 'starters', 'players', 'fantasy_positions', 'depth_chart_order',\n",
    "        'depth_chart_position', 'status', 'injury_status', 'injury_notes',\n",
    "        'injury_start_date', 'practice_participation', 'practice_description','active'\n",
    "    ]]\n",
    "    return df"
   ]
  },
  {
   "cell_type": "code",
   "execution_count": 491,
   "metadata": {},
   "outputs": [],
   "source": [
    "def findFloors(df, rosterList, number_of_franchises):\n",
    "    # Find floors for each position to calculate relative projections\n",
    "    # Roster Dictionary\n",
    "    rosterDict = {\n",
    "        'QB':['QB'], \n",
    "        'RB':['RB'],\n",
    "        'WR':['WR'],\n",
    "        'TE':['TE'],\n",
    "        'K':['PK'],\n",
    "        'DEF':['DEF'],\n",
    "        'FLEX':['RB', 'WR', 'TE'],\n",
    "        'SUPER_FLEX':['QB', 'RB', 'WR', 'TE'],\n",
    "    }\n",
    "    # Sort\n",
    "    sorted = df.sort_values(by='pts_proj', ignore_index=True, ascending=False)\n",
    "    # Start selecting the most valuable players in terms of total points for each position\n",
    "    result = []\n",
    "    for pos in rosterList:\n",
    "        # Ignore bench spots\n",
    "        if pos != \"BN\":\n",
    "            # Filter for each position and make sure the player is not already taken\n",
    "            cond_pos = sorted['position'].isin(rosterDict[pos])\n",
    "            cond_nottaken = ~sorted['player_id'].isin(result)\n",
    "            player_filtered = sorted.loc[cond_pos & cond_nottaken]\n",
    "            # Find highest scoring player that fits\n",
    "            if len(player_filtered)>0:\n",
    "                players = player_filtered.head(number_of_franchises)['player_id']\n",
    "                result.append(players)\n",
    "    floors = df.loc[df['player_id'].isin(result)]\n",
    "    floor_qb = floors.loc[floors['position']=='QB']['pts_proj'].min()\n",
    "    floor_rb = floors.loc[floors['position']=='RB']['pts_proj'].min()\n",
    "    floor_wr = floors.loc[floors['position']=='WR']['pts_proj'].min()\n",
    "    floor_te = floors.loc[floors['position']=='TE']['pts_proj'].min()\n",
    "    floor_pk = floors.loc[floors['position']=='PK']['pts_proj'].min()\n",
    "    floor_def = floors.loc[floors['position']=='DEF']['pts_proj'].min()\n",
    "    return floor_qb, floor_rb, floor_wr, floor_te, floor_pk, floor_def"
   ]
  },
  {
   "cell_type": "code",
   "execution_count": 492,
   "metadata": {},
   "outputs": [],
   "source": [
    "def rosterOptimizer(df):\n",
    "    # choose a roster for each franchise based on their league's number of available slots\n",
    "    optimized = pd.DataFrame()\n",
    "    # Roster Dictionary\n",
    "    rosterDict = {\n",
    "        'QB':['QB'], \n",
    "        'RB':['RB'],\n",
    "        'WR':['WR'],\n",
    "        'TE':['TE'],\n",
    "        'K':['PK'],\n",
    "        'DEF':['DEF'],\n",
    "        'FLEX':['RB', 'WR', 'TE'],\n",
    "        'SUPER_FLEX':['QB', 'RB', 'WR', 'TE'],\n",
    "    }\n",
    "    # Sort\n",
    "    cond_taxi = df['taxi'].isna()\n",
    "    sorted = df.loc[cond_taxi].sort_values(by='pts_proj', ignore_index=True, ascending=False)\n",
    "    # Loop through weeks and franchises\n",
    "    for this_user in df['user_id'].unique():\n",
    "        for week_to_optimize in df['week'].unique():\n",
    "            # Filter predictions for only that week and on a roster\n",
    "            cond_franch = sorted['user_id']==this_user\n",
    "            cond_week = sorted['week']==week_to_optimize\n",
    "            week_filtered = sorted.loc[cond_franch & cond_week]\n",
    "            # Start selecting the most valuable players in terms of total points for each position\n",
    "            result = []\n",
    "            for pos in rosterList:\n",
    "                # Ignore bench spots\n",
    "                if pos != \"BN\":\n",
    "                    # Filter for each position and make sure the player is not already taken\n",
    "                    cond_pos = week_filtered['position'].isin(rosterDict[pos])\n",
    "                    cond_nottaken = ~week_filtered['player_id'].isin(result)\n",
    "                    player_filtered = week_filtered.loc[cond_pos & cond_nottaken]\n",
    "                    # Find highest scoring player that fits\n",
    "                    if len(player_filtered)>0:\n",
    "                        player = player_filtered.reset_index(drop=True)['player_id'][0]\n",
    "                        result.append(player)\n",
    "            # Append results\n",
    "            next = week_filtered.loc[week_filtered['player_id'].isin(result)]\n",
    "            optimized = pd.concat([optimized, next], axis=0, ignore_index=True)\n",
    "    return optimized"
   ]
  },
  {
   "cell_type": "markdown",
   "metadata": {},
   "source": [
    "# Waiver Report"
   ]
  },
  {
   "cell_type": "code",
   "execution_count": 493,
   "metadata": {},
   "outputs": [],
   "source": [
    "# Waiver report\n",
    "waivers = full.copy()\n",
    "# Calculate relative points for each position in each week\n",
    "waivers = getRelProjs(waivers)\n",
    "# Sum points across the season\n",
    "waivers = getSeasonTotals(waivers)\n",
    "# Filter for only players on user's roster or unclaimed and who would improve user's points\n",
    "minpts = waivers.loc[(waivers['display_name']==username)&(waivers['taxi'].isna())]['pts_proj'].min()\n",
    "cond_user = waivers['display_name']==username\n",
    "cond_fa = waivers['display_name'].isna()\n",
    "cond_minpts = waivers['pts_proj']>=minpts\n",
    "waivers = waivers.loc[(cond_user|cond_fa)&cond_minpts].reset_index(drop=True)\n",
    "waivers = waivers.sort_values('val_proj', ascending=False, ignore_index=True)\n",
    "# Tidy\n",
    "waivers = tidyUp(waivers)"
   ]
  },
  {
   "cell_type": "markdown",
   "metadata": {},
   "source": [
    "# Roster Optimizer"
   ]
  },
  {
   "cell_type": "code",
   "execution_count": 494,
   "metadata": {},
   "outputs": [
    {
     "data": {
      "application/vnd.plotly.v1+json": {
       "config": {
        "plotlyServerURL": "https://plot.ly"
       },
       "data": [
        {
         "alignmentgroup": "True",
         "customdata": [
          [
           14.42,
           "Jalen Hurts",
           "QB"
          ],
          [
           12.950000000000001,
           "Tua Tagovailoa",
           "QB"
          ],
          [
           11.649999999999997,
           "Justin Herbert",
           "QB"
          ],
          [
           11.010000000000003,
           "Dak Prescott",
           "QB"
          ],
          [
           10.900000000000004,
           "Brock Purdy",
           "QB"
          ],
          [
           10.829999999999997,
           "Patrick Mahomes",
           "QB"
          ],
          [
           10.090000000000002,
           "Trevor Lawrence",
           "QB"
          ],
          [
           9.300000000000002,
           "Russell Wilson",
           "QB"
          ],
          [
           8.550000000000002,
           "Sam Howell",
           "QB"
          ],
          [
           8.489999999999998,
           "Jared Goff",
           "QB"
          ],
          [
           7.479999999999999,
           "Baker Mayfield",
           "QB"
          ],
          [
           6.84,
           "Geno Smith",
           "QB"
          ],
          [
           6.08,
           "Bryce Young",
           "QB"
          ],
          [
           5.470000000000001,
           "Derek Carr",
           "QB"
          ],
          [
           5.34,
           "Gardner Minshew",
           "QB"
          ],
          [
           4.780000000000001,
           "Mac Jones",
           "QB"
          ],
          [
           3.9899999999999984,
           "Desmond Ridder",
           "QB"
          ],
          [
           3.76,
           "Kenny Pickett",
           "QB"
          ],
          [
           3.459999999999999,
           "Matthew Stafford",
           "QB"
          ],
          [
           0,
           "Zach Wilson",
           "QB"
          ]
         ],
         "hovertemplate": "<b>%{hovertext}</b><br><br>Predicted Points=%{y}<br>Relative Value=%{customdata[0]}<extra></extra>",
         "hovertext": [
          "Jalen Hurts",
          "Tua Tagovailoa",
          "Justin Herbert",
          "Dak Prescott",
          "Brock Purdy",
          "Patrick Mahomes",
          "Trevor Lawrence",
          "Russell Wilson",
          "Sam Howell",
          "Jared Goff",
          "Baker Mayfield",
          "Geno Smith",
          "Bryce Young",
          "Derek Carr",
          "Gardner Minshew",
          "Mac Jones",
          "Desmond Ridder",
          "Kenny Pickett",
          "Matthew Stafford",
          "Zach Wilson"
         ],
         "legendgroup": "QB",
         "marker": {
          "color": "#591D73",
          "pattern": {
           "shape": ""
          }
         },
         "name": "QB",
         "offsetgroup": "QB",
         "orientation": "v",
         "showlegend": true,
         "text": [
          "Jalen Hurts",
          "Tua Tagovailoa",
          "Justin Herbert",
          "Dak Prescott",
          "Brock Purdy",
          "Patrick Mahomes",
          "Trevor Lawrence",
          "Russell Wilson",
          "Sam Howell",
          "Jared Goff",
          "Baker Mayfield",
          "Geno Smith",
          "Bryce Young",
          "Derek Carr",
          "Gardner Minshew",
          "Mac Jones",
          "Desmond Ridder",
          "Kenny Pickett",
          "Matthew Stafford",
          "Zach Wilson"
         ],
         "textposition": "inside",
         "type": "bar",
         "x": [
          "Croccity Body Snatchers",
          "Verdanks Vacqueros FFC",
          "kevinbash",
          "📜 Providence 🪬 Spirits 🥂",
          "Croccity Body Snatchers",
          "Saskatoon Squatches ",
          "2014champ",
          "DangeRUSS Last Ride",
          "kevinbash",
          "📜 Providence 🪬 Spirits 🥂",
          "*New Name Pending*",
          "Saskatoon Squatches ",
          "Idk much about soccer ",
          "*New Name Pending*",
          "2014champ",
          "Pretty Big Wieners",
          "GusTheBus",
          "GusTheBus",
          "Comeback 👑’s",
          "Verdanks Vacqueros FFC"
         ],
         "xaxis": "x",
         "y": [
          21.93,
          20.46,
          19.159999999999997,
          18.520000000000003,
          18.410000000000004,
          18.339999999999996,
          17.6,
          16.810000000000002,
          16.060000000000002,
          15.999999999999998,
          14.989999999999998,
          14.35,
          13.59,
          12.98,
          12.85,
          12.290000000000001,
          11.499999999999998,
          11.27,
          10.969999999999999,
          7.51
         ],
         "yaxis": "y"
        },
        {
         "alignmentgroup": "True",
         "customdata": [
          [
           13.855,
           "Christian McCaffrey",
           "RB"
          ],
          [
           13.219999999999999,
           "Jahmyr Gibbs",
           "RB"
          ],
          [
           12.68,
           "Austin Ekeler",
           "RB"
          ],
          [
           12.629999999999999,
           "Derrick Henry",
           "RB"
          ],
          [
           11.895,
           "Travis Etienne",
           "RB"
          ],
          [
           11.589999999999996,
           "Raheem Mostert",
           "RB"
          ],
          [
           11.280000000000001,
           "Rachaad White",
           "RB"
          ],
          [
           10.555,
           "Tony Pollard",
           "RB"
          ],
          [
           9.335,
           "Jerome Ford",
           "RB"
          ],
          [
           9.100000000000001,
           "Joe Mixon",
           "RB"
          ],
          [
           8.899999999999999,
           "Jaylen Warren",
           "RB"
          ],
          [
           8.760000000000002,
           "Bijan Robinson",
           "RB"
          ],
          [
           8.450000000000003,
           "Breece Hall",
           "RB"
          ],
          [
           8.3,
           "James Conner",
           "RB"
          ],
          [
           8.239999999999998,
           "David Montgomery",
           "RB"
          ],
          [
           8.155000000000001,
           "D'Andre Swift",
           "RB"
          ],
          [
           7.89,
           "Isiah Pacheco",
           "RB"
          ],
          [
           7.7,
           "Rhamondre Stevenson",
           "RB"
          ],
          [
           7.63,
           "Brian Robinson",
           "RB"
          ],
          [
           7.410000000000001,
           "Zack Moss",
           "RB"
          ],
          [
           6.96,
           "Najee Harris",
           "RB"
          ],
          [
           6.445000000000001,
           "Kenneth Walker",
           "RB"
          ],
          [
           6.4049999999999985,
           "Kyren Williams",
           "RB"
          ],
          [
           5.555000000000001,
           "Devin Singletary",
           "RB"
          ],
          [
           5.239999999999999,
           "Tyler Allgeier",
           "RB"
          ],
          [
           5.165,
           "AJ Dillon",
           "RB"
          ],
          [
           4.534999999999999,
           "Antonio Gibson",
           "RB"
          ],
          [
           4.3599999999999985,
           "Ezekiel Elliott",
           "RB"
          ],
          [
           3.8499999999999996,
           "Aaron Jones",
           "RB"
          ],
          [
           3.51,
           "Chuba Hubbard",
           "RB"
          ],
          [
           2.054999999999999,
           "Miles Sanders",
           "RB"
          ],
          [
           1.5349999999999993,
           "Jamaal Williams",
           "RB"
          ],
          [
           1.464999999999999,
           "Jaleel McLaughlin",
           "RB"
          ],
          [
           1.2400000000000002,
           "Zach Charbonnet",
           "RB"
          ],
          [
           0.41999999999999993,
           "Samaje Perine",
           "RB"
          ],
          [
           0,
           "Dalvin Cook",
           "RB"
          ]
         ],
         "hovertemplate": "<b>%{hovertext}</b><br><br>Predicted Points=%{y}<br>Relative Value=%{customdata[0]}<extra></extra>",
         "hovertext": [
          "Christian McCaffrey",
          "Jahmyr Gibbs",
          "Austin Ekeler",
          "Derrick Henry",
          "Travis Etienne",
          "Raheem Mostert",
          "Rachaad White",
          "Tony Pollard",
          "Jerome Ford",
          "Joe Mixon",
          "Jaylen Warren",
          "Bijan Robinson",
          "Breece Hall",
          "James Conner",
          "David Montgomery",
          "D'Andre Swift",
          "Isiah Pacheco",
          "Rhamondre Stevenson",
          "Brian Robinson",
          "Zack Moss",
          "Najee Harris",
          "Kenneth Walker",
          "Kyren Williams",
          "Devin Singletary",
          "Tyler Allgeier",
          "AJ Dillon",
          "Antonio Gibson",
          "Ezekiel Elliott",
          "Aaron Jones",
          "Chuba Hubbard",
          "Miles Sanders",
          "Jamaal Williams",
          "Jaleel McLaughlin",
          "Zach Charbonnet",
          "Samaje Perine",
          "Dalvin Cook"
         ],
         "legendgroup": "RB",
         "marker": {
          "color": "#233257",
          "pattern": {
           "shape": ""
          }
         },
         "name": "RB",
         "offsetgroup": "RB",
         "orientation": "v",
         "showlegend": true,
         "text": [
          "Christian McCaffrey",
          "Jahmyr Gibbs",
          "Austin Ekeler",
          "Derrick Henry",
          "Travis Etienne",
          "Raheem Mostert",
          "Rachaad White",
          "Tony Pollard",
          "Jerome Ford",
          "Joe Mixon",
          "Jaylen Warren",
          "Bijan Robinson",
          "Breece Hall",
          "James Conner",
          "David Montgomery",
          "D'Andre Swift",
          "Isiah Pacheco",
          "Rhamondre Stevenson",
          "Brian Robinson",
          "Zack Moss",
          "Najee Harris",
          "Kenneth Walker",
          "Kyren Williams",
          "Devin Singletary",
          "Tyler Allgeier",
          "AJ Dillon",
          "Antonio Gibson",
          "Ezekiel Elliott",
          "Aaron Jones",
          "Chuba Hubbard",
          "Miles Sanders",
          "Jamaal Williams",
          "Jaleel McLaughlin",
          "Zach Charbonnet",
          "Samaje Perine",
          "Dalvin Cook"
         ],
         "textposition": "inside",
         "type": "bar",
         "x": [
          "DangeRUSS Last Ride",
          "📜 Providence 🪬 Spirits 🥂",
          "Croccity Body Snatchers",
          "DangeRUSS Last Ride",
          "Verdanks Vacqueros FFC",
          "2014champ",
          "📜 Providence 🪬 Spirits 🥂",
          "Saskatoon Squatches ",
          "Comeback 👑’s",
          "Croccity Body Snatchers",
          "Saskatoon Squatches ",
          "2014champ",
          "Comeback 👑’s",
          "DangeRUSS Last Ride",
          "Croccity Body Snatchers",
          "kevinbash",
          "Saskatoon Squatches ",
          "Saskatoon Squatches ",
          "Idk much about soccer ",
          "Verdanks Vacqueros FFC",
          "2014champ",
          "Verdanks Vacqueros FFC",
          "Croccity Body Snatchers",
          "Verdanks Vacqueros FFC",
          "DangeRUSS Last Ride",
          "kevinbash",
          "*New Name Pending*",
          "📜 Providence 🪬 Spirits 🥂",
          "kevinbash",
          "*New Name Pending*",
          "Pretty Big Wieners",
          "Comeback 👑’s",
          "Comeback 👑’s",
          "Idk much about soccer ",
          "GusTheBus",
          "GusTheBus"
         ],
         "xaxis": "x",
         "y": [
          17.865000000000002,
          17.23,
          16.69,
          16.64,
          15.905,
          15.599999999999998,
          15.290000000000001,
          14.565000000000001,
          13.345,
          13.110000000000001,
          12.91,
          12.770000000000001,
          12.460000000000003,
          12.310000000000002,
          12.25,
          12.165000000000001,
          11.9,
          11.71,
          11.64,
          11.420000000000002,
          10.97,
          10.455000000000002,
          10.415,
          9.565000000000001,
          9.25,
          9.175,
          8.545,
          8.37,
          7.86,
          7.5200000000000005,
          6.0649999999999995,
          5.545,
          5.475,
          5.250000000000001,
          4.430000000000001,
          4.010000000000001
         ],
         "yaxis": "y"
        },
        {
         "alignmentgroup": "True",
         "customdata": [
          [
           15.605,
           "Tyreek Hill",
           "WR"
          ],
          [
           12.975000000000001,
           "Keenan Allen",
           "WR"
          ],
          [
           12.758000000000003,
           "Ja'Marr Chase",
           "WR"
          ],
          [
           12.7,
           "Brandon Aiyuk",
           "WR"
          ],
          [
           12.16,
           "A.J. Brown",
           "WR"
          ],
          [
           11.509999999999998,
           "Amon-Ra St. Brown",
           "WR"
          ],
          [
           11.39,
           "CeeDee Lamb",
           "WR"
          ],
          [
           10.690000000000001,
           "Adam Thielen",
           "WR"
          ],
          [
           10.55,
           "Jaylen Waddle",
           "WR"
          ],
          [
           10.27,
           "Mike Evans",
           "WR"
          ],
          [
           9.700000000000003,
           "Cooper Kupp",
           "WR"
          ],
          [
           9.04,
           "Christian Kirk",
           "WR"
          ],
          [
           8.975000000000001,
           "DeVonta Smith",
           "WR"
          ],
          [
           8.93,
           "Chris Olave",
           "WR"
          ],
          [
           8.64,
           "Amari Cooper",
           "WR"
          ],
          [
           8.280000000000001,
           "Michael Pittman",
           "WR"
          ],
          [
           7.925000000000002,
           "Tyler Lockett",
           "WR"
          ],
          [
           7.495,
           "Deebo Samuel",
           "WR"
          ],
          [
           7.267,
           "Nico Collins",
           "WR"
          ],
          [
           7.19,
           "Courtland Sutton",
           "WR"
          ],
          [
           7.115000000000001,
           "Calvin Ridley",
           "WR"
          ],
          [
           6.965000000000001,
           "Terry McLaurin",
           "WR"
          ],
          [
           6.87,
           "George Pickens",
           "WR"
          ],
          [
           6.850000000000002,
           "Diontae Johnson",
           "WR"
          ],
          [
           6.819,
           "DK Metcalf",
           "WR"
          ],
          [
           6.750000000000001,
           "DeAndre Hopkins",
           "WR"
          ],
          [
           6.63,
           "Romeo Doubs",
           "WR"
          ],
          [
           6.44,
           "Christian Watson",
           "WR"
          ],
          [
           6.290000000000002,
           "Rashid Shaheed",
           "WR"
          ],
          [
           6.165,
           "DJ Chark",
           "WR"
          ],
          [
           6.090000000000001,
           "Marquise Brown",
           "WR"
          ],
          [
           6.065,
           "Garrett Wilson",
           "WR"
          ],
          [
           5.990000000000001,
           "Jerry Jeudy",
           "WR"
          ],
          [
           5.835,
           "Rashee Rice",
           "WR"
          ],
          [
           5.415000000000001,
           "Tyler Boyd",
           "WR"
          ],
          [
           5.020000000000001,
           "Brandin Cooks",
           "WR"
          ],
          [
           4.774000000000001,
           "Drake London",
           "WR"
          ],
          [
           4.760000000000001,
           "JuJu Smith-Schuster",
           "WR"
          ],
          [
           4.62,
           "Curtis Samuel",
           "WR"
          ],
          [
           4.34,
           "Tutu Atwell",
           "WR"
          ],
          [
           4.275,
           "Josh Downs",
           "WR"
          ],
          [
           3.5100000000000007,
           "Josh Reynolds",
           "WR"
          ],
          [
           2.793,
           "Robert Woods",
           "WR"
          ],
          [
           2.718,
           "Michael Gallup",
           "WR"
          ],
          [
           2.5730000000000004,
           "Marvin Mims",
           "WR"
          ],
          [
           1.1100000000000003,
           "Kadarius Toney",
           "WR"
          ],
          [
           0,
           "Donovan Peoples-Jones",
           "WR"
          ]
         ],
         "hovertemplate": "<b>%{hovertext}</b><br><br>Predicted Points=%{y}<br>Relative Value=%{customdata[0]}<extra></extra>",
         "hovertext": [
          "Tyreek Hill",
          "Keenan Allen",
          "Ja'Marr Chase",
          "Brandon Aiyuk",
          "A.J. Brown",
          "Amon-Ra St. Brown",
          "CeeDee Lamb",
          "Adam Thielen",
          "Jaylen Waddle",
          "Mike Evans",
          "Cooper Kupp",
          "Christian Kirk",
          "DeVonta Smith",
          "Chris Olave",
          "Amari Cooper",
          "Michael Pittman",
          "Tyler Lockett",
          "Deebo Samuel",
          "Nico Collins",
          "Courtland Sutton",
          "Calvin Ridley",
          "Terry McLaurin",
          "George Pickens",
          "Diontae Johnson",
          "DK Metcalf",
          "DeAndre Hopkins",
          "Romeo Doubs",
          "Christian Watson",
          "Rashid Shaheed",
          "DJ Chark",
          "Marquise Brown",
          "Garrett Wilson",
          "Jerry Jeudy",
          "Rashee Rice",
          "Tyler Boyd",
          "Brandin Cooks",
          "Drake London",
          "JuJu Smith-Schuster",
          "Curtis Samuel",
          "Tutu Atwell",
          "Josh Downs",
          "Josh Reynolds",
          "Robert Woods",
          "Michael Gallup",
          "Marvin Mims",
          "Kadarius Toney",
          "Donovan Peoples-Jones"
         ],
         "legendgroup": "WR",
         "marker": {
          "color": "#4068B8",
          "pattern": {
           "shape": ""
          }
         },
         "name": "WR",
         "offsetgroup": "WR",
         "orientation": "v",
         "showlegend": true,
         "text": [
          "Tyreek Hill",
          "Keenan Allen",
          "Ja'Marr Chase",
          "Brandon Aiyuk",
          "A.J. Brown",
          "Amon-Ra St. Brown",
          "CeeDee Lamb",
          "Adam Thielen",
          "Jaylen Waddle",
          "Mike Evans",
          "Cooper Kupp",
          "Christian Kirk",
          "DeVonta Smith",
          "Chris Olave",
          "Amari Cooper",
          "Michael Pittman",
          "Tyler Lockett",
          "Deebo Samuel",
          "Nico Collins",
          "Courtland Sutton",
          "Calvin Ridley",
          "Terry McLaurin",
          "George Pickens",
          "Diontae Johnson",
          "DK Metcalf",
          "DeAndre Hopkins",
          "Romeo Doubs",
          "Christian Watson",
          "Rashid Shaheed",
          "DJ Chark",
          "Marquise Brown",
          "Garrett Wilson",
          "Jerry Jeudy",
          "Rashee Rice",
          "Tyler Boyd",
          "Brandin Cooks",
          "Drake London",
          "JuJu Smith-Schuster",
          "Curtis Samuel",
          "Tutu Atwell",
          "Josh Downs",
          "Josh Reynolds",
          "Robert Woods",
          "Michael Gallup",
          "Marvin Mims",
          "Kadarius Toney",
          "Donovan Peoples-Jones"
         ],
         "textposition": "inside",
         "type": "bar",
         "x": [
          "Saskatoon Squatches ",
          "Pretty Big Wieners",
          "Saskatoon Squatches ",
          "kevinbash",
          "Pretty Big Wieners",
          "kevinbash",
          "*New Name Pending*",
          "Idk much about soccer ",
          "GusTheBus",
          "kevinbash",
          "2014champ",
          "GusTheBus",
          "*New Name Pending*",
          "*New Name Pending*",
          "Verdanks Vacqueros FFC",
          "GusTheBus",
          "Croccity Body Snatchers",
          "2014champ",
          "📜 Providence 🪬 Spirits 🥂",
          "*New Name Pending*",
          "2014champ",
          "kevinbash",
          "DangeRUSS Last Ride",
          "Idk much about soccer ",
          "2014champ",
          "Verdanks Vacqueros FFC",
          "📜 Providence 🪬 Spirits 🥂",
          "*New Name Pending*",
          "📜 Providence 🪬 Spirits 🥂",
          "DangeRUSS Last Ride",
          "Croccity Body Snatchers",
          "📜 Providence 🪬 Spirits 🥂",
          "Saskatoon Squatches ",
          "Croccity Body Snatchers",
          "Idk much about soccer ",
          "Comeback 👑’s",
          "Idk much about soccer ",
          "GusTheBus",
          "DangeRUSS Last Ride",
          "Comeback 👑’s",
          "Verdanks Vacqueros FFC",
          "Comeback 👑’s",
          "Pretty Big Wieners",
          "Comeback 👑’s",
          "GusTheBus",
          "Pretty Big Wieners",
          "Pretty Big Wieners"
         ],
         "xaxis": "x",
         "y": [
          17.44,
          14.81,
          14.593000000000002,
          14.535,
          13.995,
          13.344999999999999,
          13.225,
          12.525,
          12.385000000000002,
          12.105,
          11.535000000000002,
          10.875,
          10.810000000000002,
          10.765,
          10.475000000000001,
          10.115,
          9.760000000000002,
          9.33,
          9.102,
          9.025,
          8.950000000000001,
          8.8,
          8.705,
          8.685000000000002,
          8.654,
          8.585,
          8.465,
          8.275,
          8.125000000000002,
          8,
          7.925000000000001,
          7.9,
          7.825000000000001,
          7.67,
          7.250000000000001,
          6.855000000000001,
          6.609000000000001,
          6.595000000000001,
          6.455,
          6.175,
          6.11,
          5.345000000000001,
          4.628,
          4.553,
          4.408,
          2.9450000000000003,
          1.835
         ],
         "yaxis": "y"
        },
        {
         "alignmentgroup": "True",
         "customdata": [
          [
           10.595,
           "Travis Kelce",
           "TE"
          ],
          [
           8.505,
           "George Kittle",
           "TE"
          ],
          [
           7.350000000000001,
           "Dalton Schultz",
           "TE"
          ],
          [
           6.870000000000001,
           "Sam LaPorta",
           "TE"
          ],
          [
           5.425000000000001,
           "Jake Ferguson",
           "TE"
          ],
          [
           5.254,
           "David Njoku",
           "TE"
          ],
          [
           4.695,
           "Taysom Hill",
           "TE"
          ],
          [
           3.7600000000000002,
           "Evan Engram",
           "TE"
          ],
          [
           3.395,
           "Logan Thomas",
           "TE"
          ],
          [
           3.2950000000000004,
           "Hunter Henry",
           "TE"
          ],
          [
           3.265,
           "Juwan Johnson",
           "TE"
          ],
          [
           3.2000000000000006,
           "Kyle Pitts",
           "TE"
          ],
          [
           2.82,
           "Pat Freiermuth",
           "TE"
          ],
          [
           2.77,
           "Gerald Everett",
           "TE"
          ],
          [
           2.725,
           "Cade Otton",
           "TE"
          ],
          [
           2.5420000000000003,
           "Tyler Conklin",
           "TE"
          ],
          [
           2.145,
           "Zach Ertz",
           "TE"
          ],
          [
           1.9650000000000003,
           "Trey McBride",
           "TE"
          ],
          [
           1.6189999999999998,
           "Tyler Higbee",
           "TE"
          ],
          [
           1.37,
           "Greg Dulcich",
           "TE"
          ],
          [
           0.9940000000000002,
           "Durham Smythe",
           "TE"
          ],
          [
           0.895,
           "Donald Parham",
           "TE"
          ],
          [
           0.16999999999999993,
           "Adam Trautman",
           "TE"
          ],
          [
           0,
           "Kylen Granson",
           "TE"
          ]
         ],
         "hovertemplate": "<b>%{hovertext}</b><br><br>Predicted Points=%{y}<br>Relative Value=%{customdata[0]}<extra></extra>",
         "hovertext": [
          "Travis Kelce",
          "George Kittle",
          "Dalton Schultz",
          "Sam LaPorta",
          "Jake Ferguson",
          "David Njoku",
          "Taysom Hill",
          "Evan Engram",
          "Logan Thomas",
          "Hunter Henry",
          "Juwan Johnson",
          "Kyle Pitts",
          "Pat Freiermuth",
          "Gerald Everett",
          "Cade Otton",
          "Tyler Conklin",
          "Zach Ertz",
          "Trey McBride",
          "Tyler Higbee",
          "Greg Dulcich",
          "Durham Smythe",
          "Donald Parham",
          "Adam Trautman",
          "Kylen Granson"
         ],
         "legendgroup": "TE",
         "marker": {
          "color": "#AEDFF2",
          "pattern": {
           "shape": ""
          }
         },
         "name": "TE",
         "offsetgroup": "TE",
         "orientation": "v",
         "showlegend": true,
         "text": [
          "Travis Kelce",
          "George Kittle",
          "Dalton Schultz",
          "Sam LaPorta",
          "Jake Ferguson",
          "David Njoku",
          "Taysom Hill",
          "Evan Engram",
          "Logan Thomas",
          "Hunter Henry",
          "Juwan Johnson",
          "Kyle Pitts",
          "Pat Freiermuth",
          "Gerald Everett",
          "Cade Otton",
          "Tyler Conklin",
          "Zach Ertz",
          "Trey McBride",
          "Tyler Higbee",
          "Greg Dulcich",
          "Durham Smythe",
          "Donald Parham",
          "Adam Trautman",
          "Kylen Granson"
         ],
         "textposition": "inside",
         "type": "bar",
         "x": [
          "Verdanks Vacqueros FFC",
          "DangeRUSS Last Ride",
          "Comeback 👑’s",
          "kevinbash",
          "DangeRUSS Last Ride",
          "Verdanks Vacqueros FFC",
          "2014champ",
          "2014champ",
          "GusTheBus",
          "*New Name Pending*",
          "GusTheBus",
          "📜 Providence 🪬 Spirits 🥂",
          "Saskatoon Squatches ",
          "DangeRUSS Last Ride",
          "Idk much about soccer ",
          "Pretty Big Wieners",
          "*New Name Pending*",
          "📜 Providence 🪬 Spirits 🥂",
          "Croccity Body Snatchers",
          "Croccity Body Snatchers",
          "Idk much about soccer ",
          "Comeback 👑’s",
          "Pretty Big Wieners",
          "kevinbash"
         ],
         "xaxis": "x",
         "y": [
          12.9,
          10.81,
          9.655000000000001,
          9.175,
          7.73,
          7.559,
          7,
          6.065,
          5.7,
          5.6000000000000005,
          5.57,
          5.505000000000001,
          5.125,
          5.075,
          5.03,
          4.847,
          4.45,
          4.2700000000000005,
          3.924,
          3.6750000000000003,
          3.2990000000000004,
          3.2,
          2.475,
          2.305
         ],
         "yaxis": "y"
        },
        {
         "alignmentgroup": "True",
         "customdata": [
          [
           5.574999999999999,
           "Dustin Hopkins",
           "PK"
          ],
          [
           5.125,
           "Greg Zuerlein",
           "PK"
          ],
          [
           4.674999999999999,
           "Matt Gay",
           "PK"
          ],
          [
           3.9749999999999996,
           "Nick Folk",
           "PK"
          ],
          [
           3.8249999999999993,
           "Wil Lutz",
           "PK"
          ],
          [
           3.4749999999999996,
           "Brandon Aubrey",
           "PK"
          ],
          [
           3.3249999999999993,
           "Brandon McManus",
           "PK"
          ],
          [
           3.174999999999999,
           "Jason Myers",
           "PK"
          ],
          [
           2.924999999999999,
           "Chris Boswell",
           "PK"
          ],
          [
           2.7249999999999996,
           "Blake Grupe",
           "PK"
          ],
          [
           2.625,
           "Harrison Butker",
           "PK"
          ],
          [
           2.5250000000000004,
           "Jake Moody",
           "PK"
          ],
          [
           2.4749999999999996,
           "Matt Prater",
           "PK"
          ],
          [
           2.375,
           "Jason Sanders",
           "PK"
          ],
          [
           2.3249999999999993,
           "Riley Patterson",
           "PK"
          ],
          [
           2.174999999999999,
           "Eddy Pineiro",
           "PK"
          ],
          [
           1.9749999999999996,
           "Evan McPherson",
           "PK"
          ],
          [
           1.924999999999999,
           "Chase McLaughlin",
           "PK"
          ],
          [
           1.875,
           "Jake Elliott",
           "PK"
          ],
          [
           0,
           "Anders Carlson",
           "PK"
          ]
         ],
         "hovertemplate": "<b>%{hovertext}</b><br><br>Predicted Points=%{y}<br>Relative Value=%{customdata[0]}<extra></extra>",
         "hovertext": [
          "Dustin Hopkins",
          "Greg Zuerlein",
          "Matt Gay",
          "Nick Folk",
          "Wil Lutz",
          "Brandon Aubrey",
          "Brandon McManus",
          "Jason Myers",
          "Chris Boswell",
          "Blake Grupe",
          "Harrison Butker",
          "Jake Moody",
          "Matt Prater",
          "Jason Sanders",
          "Riley Patterson",
          "Eddy Pineiro",
          "Evan McPherson",
          "Chase McLaughlin",
          "Jake Elliott",
          "Anders Carlson"
         ],
         "legendgroup": "PK",
         "marker": {
          "color": "#B3BF54",
          "pattern": {
           "shape": ""
          }
         },
         "name": "PK",
         "offsetgroup": "PK",
         "orientation": "v",
         "showlegend": true,
         "text": [
          "Dustin Hopkins",
          "Greg Zuerlein",
          "Matt Gay",
          "Nick Folk",
          "Wil Lutz",
          "Brandon Aubrey",
          "Brandon McManus",
          "Jason Myers",
          "Chris Boswell",
          "Blake Grupe",
          "Harrison Butker",
          "Jake Moody",
          "Matt Prater",
          "Jason Sanders",
          "Riley Patterson",
          "Eddy Pineiro",
          "Evan McPherson",
          "Chase McLaughlin",
          "Jake Elliott",
          "Anders Carlson"
         ],
         "textposition": "inside",
         "type": "bar",
         "x": [
          "Croccity Body Snatchers",
          "Croccity Body Snatchers",
          "DangeRUSS Last Ride",
          "Comeback 👑’s",
          "2014champ",
          "kevinbash",
          "Idk much about soccer ",
          "GusTheBus",
          "kevinbash",
          "Idk much about soccer ",
          "*New Name Pending*",
          "Verdanks Vacqueros FFC",
          "GusTheBus",
          "Saskatoon Squatches ",
          "Saskatoon Squatches ",
          "Verdanks Vacqueros FFC",
          "📜 Providence 🪬 Spirits 🥂",
          "*New Name Pending*",
          "DangeRUSS Last Ride",
          "Comeback 👑’s"
         ],
         "xaxis": "x",
         "y": [
          11.75,
          11.3,
          10.85,
          10.15,
          10,
          9.65,
          9.5,
          9.35,
          9.1,
          8.9,
          8.8,
          8.700000000000001,
          8.65,
          8.55,
          8.5,
          8.35,
          8.15,
          8.1,
          8.05,
          6.175000000000001
         ],
         "yaxis": "y"
        },
        {
         "alignmentgroup": "True",
         "customdata": [
          [
           11.3502,
           "ATL",
           "DEF"
          ],
          [
           9.663700000000002,
           "CLE",
           "DEF"
          ],
          [
           9.6319,
           "TB",
           "DEF"
          ],
          [
           9.5896,
           "DAL",
           "DEF"
          ],
          [
           9.555,
           "PIT",
           "DEF"
          ],
          [
           9.2222,
           "KC",
           "DEF"
          ],
          [
           7.994000000000003,
           "CAR",
           "DEF"
          ],
          [
           7.228499999999999,
           "HOU",
           "DEF"
          ],
          [
           10.776199999999998,
           "LAC",
           "DEF"
          ],
          [
           10.776199999999998,
           "LAR",
           "DEF"
          ],
          [
           6.0235,
           "MIA",
           "DEF"
          ],
          [
           5.688100000000002,
           "SF",
           "DEF"
          ],
          [
           5.6336999999999975,
           "CIN",
           "DEF"
          ],
          [
           5.516700000000004,
           "IND",
           "DEF"
          ],
          [
           5.483599999999999,
           "NYG",
           "DEF"
          ],
          [
           4.112800000000004,
           "ARI",
           "DEF"
          ],
          [
           4.080000000000002,
           "JAX",
           "DEF"
          ],
          [
           3.513200000000001,
           "TEN",
           "DEF"
          ],
          [
           2.4360000000000035,
           "NE",
           "DEF"
          ],
          [
           2.434000000000001,
           "NO",
           "DEF"
          ],
          [
           1.5808000000000035,
           "DET",
           "DEF"
          ],
          [
           0,
           "WAS",
           "DEF"
          ]
         ],
         "hovertemplate": "<b>%{hovertext}</b><br><br>Predicted Points=%{y}<br>Relative Value=%{customdata[0]}<extra></extra>",
         "hovertext": [
          "ATL",
          "CLE",
          "TB",
          "DAL",
          "PIT",
          "KC",
          "CAR",
          "HOU",
          "LAC",
          "LAR",
          "MIA",
          "SF",
          "CIN",
          "IND",
          "NYG",
          "ARI",
          "JAX",
          "TEN",
          "NE",
          "NO",
          "DET",
          "WAS"
         ],
         "legendgroup": "DEF",
         "marker": {
          "color": "#667825",
          "pattern": {
           "shape": ""
          }
         },
         "name": "DEF",
         "offsetgroup": "DEF",
         "orientation": "v",
         "showlegend": true,
         "text": [
          "ATL",
          "CLE",
          "TB",
          "DAL",
          "PIT",
          "KC",
          "CAR",
          "HOU",
          "LAC",
          "LAR",
          "MIA",
          "SF",
          "CIN",
          "IND",
          "NYG",
          "ARI",
          "JAX",
          "TEN",
          "NE",
          "NO",
          "DET",
          "WAS"
         ],
         "textposition": "inside",
         "type": "bar",
         "x": [
          "*New Name Pending*",
          "2014champ",
          "Comeback 👑’s",
          "📜 Providence 🪬 Spirits 🥂",
          "GusTheBus",
          "Idk much about soccer ",
          "DangeRUSS Last Ride",
          "📜 Providence 🪬 Spirits 🥂",
          "DangeRUSS Last Ride",
          "Comeback 👑’s",
          "Pretty Big Wieners",
          "Croccity Body Snatchers",
          "Pretty Big Wieners",
          "Idk much about soccer ",
          "*New Name Pending*",
          "Verdanks Vacqueros FFC",
          "Saskatoon Squatches ",
          "Saskatoon Squatches ",
          "kevinbash",
          "kevinbash",
          "Verdanks Vacqueros FFC",
          "Croccity Body Snatchers"
         ],
         "xaxis": "x",
         "y": [
          8.710199999999999,
          7.023700000000002,
          6.991899999999999,
          6.9496,
          6.914999999999999,
          6.5822,
          5.354000000000003,
          4.588499999999998,
          5.496199999999996,
          5.496199999999996,
          3.3834999999999997,
          3.0481000000000016,
          2.993699999999997,
          2.876700000000003,
          2.8435999999999986,
          1.472800000000003,
          1.4400000000000013,
          0.8732000000000006,
          -0.20399999999999707,
          -0.20599999999999952,
          -1.059199999999997,
          -2.6400000000000006
         ],
         "yaxis": "y"
        },
        {
         "mode": "text",
         "showlegend": false,
         "text": [
          135,
          138,
          112,
          149,
          149,
          112,
          102,
          70,
          148,
          138,
          143,
          138
         ],
         "textfont": {
          "size": 12
         },
         "textposition": "top center",
         "type": "scatter",
         "x": [
          "*New Name Pending*",
          "2014champ",
          "Comeback 👑’s",
          "Croccity Body Snatchers",
          "DangeRUSS Last Ride",
          "GusTheBus",
          "Idk much about soccer ",
          "Pretty Big Wieners",
          "Saskatoon Squatches ",
          "Verdanks Vacqueros FFC",
          "kevinbash",
          "📜 Providence 🪬 Spirits 🥂"
         ],
         "y": [
          135,
          138,
          112,
          149,
          149,
          112,
          102,
          70,
          148,
          138,
          143,
          138
         ]
        }
       ],
       "layout": {
        "barmode": "stack",
        "font": {
         "family": "Input Serif"
        },
        "legend": {
         "title": {
          "text": "position"
         },
         "tracegroupgap": 0
        },
        "margin": {
         "t": 60
        },
        "plot_bgcolor": "rgba(0,0,0,0)",
        "showlegend": false,
        "template": {
         "data": {
          "bar": [
           {
            "error_x": {
             "color": "#2a3f5f"
            },
            "error_y": {
             "color": "#2a3f5f"
            },
            "marker": {
             "line": {
              "color": "#E5ECF6",
              "width": 0.5
             },
             "pattern": {
              "fillmode": "overlay",
              "size": 10,
              "solidity": 0.2
             }
            },
            "type": "bar"
           }
          ],
          "barpolar": [
           {
            "marker": {
             "line": {
              "color": "#E5ECF6",
              "width": 0.5
             },
             "pattern": {
              "fillmode": "overlay",
              "size": 10,
              "solidity": 0.2
             }
            },
            "type": "barpolar"
           }
          ],
          "carpet": [
           {
            "aaxis": {
             "endlinecolor": "#2a3f5f",
             "gridcolor": "white",
             "linecolor": "white",
             "minorgridcolor": "white",
             "startlinecolor": "#2a3f5f"
            },
            "baxis": {
             "endlinecolor": "#2a3f5f",
             "gridcolor": "white",
             "linecolor": "white",
             "minorgridcolor": "white",
             "startlinecolor": "#2a3f5f"
            },
            "type": "carpet"
           }
          ],
          "choropleth": [
           {
            "colorbar": {
             "outlinewidth": 0,
             "ticks": ""
            },
            "type": "choropleth"
           }
          ],
          "contour": [
           {
            "colorbar": {
             "outlinewidth": 0,
             "ticks": ""
            },
            "colorscale": [
             [
              0,
              "#0d0887"
             ],
             [
              0.1111111111111111,
              "#46039f"
             ],
             [
              0.2222222222222222,
              "#7201a8"
             ],
             [
              0.3333333333333333,
              "#9c179e"
             ],
             [
              0.4444444444444444,
              "#bd3786"
             ],
             [
              0.5555555555555556,
              "#d8576b"
             ],
             [
              0.6666666666666666,
              "#ed7953"
             ],
             [
              0.7777777777777778,
              "#fb9f3a"
             ],
             [
              0.8888888888888888,
              "#fdca26"
             ],
             [
              1,
              "#f0f921"
             ]
            ],
            "type": "contour"
           }
          ],
          "contourcarpet": [
           {
            "colorbar": {
             "outlinewidth": 0,
             "ticks": ""
            },
            "type": "contourcarpet"
           }
          ],
          "heatmap": [
           {
            "colorbar": {
             "outlinewidth": 0,
             "ticks": ""
            },
            "colorscale": [
             [
              0,
              "#0d0887"
             ],
             [
              0.1111111111111111,
              "#46039f"
             ],
             [
              0.2222222222222222,
              "#7201a8"
             ],
             [
              0.3333333333333333,
              "#9c179e"
             ],
             [
              0.4444444444444444,
              "#bd3786"
             ],
             [
              0.5555555555555556,
              "#d8576b"
             ],
             [
              0.6666666666666666,
              "#ed7953"
             ],
             [
              0.7777777777777778,
              "#fb9f3a"
             ],
             [
              0.8888888888888888,
              "#fdca26"
             ],
             [
              1,
              "#f0f921"
             ]
            ],
            "type": "heatmap"
           }
          ],
          "heatmapgl": [
           {
            "colorbar": {
             "outlinewidth": 0,
             "ticks": ""
            },
            "colorscale": [
             [
              0,
              "#0d0887"
             ],
             [
              0.1111111111111111,
              "#46039f"
             ],
             [
              0.2222222222222222,
              "#7201a8"
             ],
             [
              0.3333333333333333,
              "#9c179e"
             ],
             [
              0.4444444444444444,
              "#bd3786"
             ],
             [
              0.5555555555555556,
              "#d8576b"
             ],
             [
              0.6666666666666666,
              "#ed7953"
             ],
             [
              0.7777777777777778,
              "#fb9f3a"
             ],
             [
              0.8888888888888888,
              "#fdca26"
             ],
             [
              1,
              "#f0f921"
             ]
            ],
            "type": "heatmapgl"
           }
          ],
          "histogram": [
           {
            "marker": {
             "pattern": {
              "fillmode": "overlay",
              "size": 10,
              "solidity": 0.2
             }
            },
            "type": "histogram"
           }
          ],
          "histogram2d": [
           {
            "colorbar": {
             "outlinewidth": 0,
             "ticks": ""
            },
            "colorscale": [
             [
              0,
              "#0d0887"
             ],
             [
              0.1111111111111111,
              "#46039f"
             ],
             [
              0.2222222222222222,
              "#7201a8"
             ],
             [
              0.3333333333333333,
              "#9c179e"
             ],
             [
              0.4444444444444444,
              "#bd3786"
             ],
             [
              0.5555555555555556,
              "#d8576b"
             ],
             [
              0.6666666666666666,
              "#ed7953"
             ],
             [
              0.7777777777777778,
              "#fb9f3a"
             ],
             [
              0.8888888888888888,
              "#fdca26"
             ],
             [
              1,
              "#f0f921"
             ]
            ],
            "type": "histogram2d"
           }
          ],
          "histogram2dcontour": [
           {
            "colorbar": {
             "outlinewidth": 0,
             "ticks": ""
            },
            "colorscale": [
             [
              0,
              "#0d0887"
             ],
             [
              0.1111111111111111,
              "#46039f"
             ],
             [
              0.2222222222222222,
              "#7201a8"
             ],
             [
              0.3333333333333333,
              "#9c179e"
             ],
             [
              0.4444444444444444,
              "#bd3786"
             ],
             [
              0.5555555555555556,
              "#d8576b"
             ],
             [
              0.6666666666666666,
              "#ed7953"
             ],
             [
              0.7777777777777778,
              "#fb9f3a"
             ],
             [
              0.8888888888888888,
              "#fdca26"
             ],
             [
              1,
              "#f0f921"
             ]
            ],
            "type": "histogram2dcontour"
           }
          ],
          "mesh3d": [
           {
            "colorbar": {
             "outlinewidth": 0,
             "ticks": ""
            },
            "type": "mesh3d"
           }
          ],
          "parcoords": [
           {
            "line": {
             "colorbar": {
              "outlinewidth": 0,
              "ticks": ""
             }
            },
            "type": "parcoords"
           }
          ],
          "pie": [
           {
            "automargin": true,
            "type": "pie"
           }
          ],
          "scatter": [
           {
            "fillpattern": {
             "fillmode": "overlay",
             "size": 10,
             "solidity": 0.2
            },
            "type": "scatter"
           }
          ],
          "scatter3d": [
           {
            "line": {
             "colorbar": {
              "outlinewidth": 0,
              "ticks": ""
             }
            },
            "marker": {
             "colorbar": {
              "outlinewidth": 0,
              "ticks": ""
             }
            },
            "type": "scatter3d"
           }
          ],
          "scattercarpet": [
           {
            "marker": {
             "colorbar": {
              "outlinewidth": 0,
              "ticks": ""
             }
            },
            "type": "scattercarpet"
           }
          ],
          "scattergeo": [
           {
            "marker": {
             "colorbar": {
              "outlinewidth": 0,
              "ticks": ""
             }
            },
            "type": "scattergeo"
           }
          ],
          "scattergl": [
           {
            "marker": {
             "colorbar": {
              "outlinewidth": 0,
              "ticks": ""
             }
            },
            "type": "scattergl"
           }
          ],
          "scattermapbox": [
           {
            "marker": {
             "colorbar": {
              "outlinewidth": 0,
              "ticks": ""
             }
            },
            "type": "scattermapbox"
           }
          ],
          "scatterpolar": [
           {
            "marker": {
             "colorbar": {
              "outlinewidth": 0,
              "ticks": ""
             }
            },
            "type": "scatterpolar"
           }
          ],
          "scatterpolargl": [
           {
            "marker": {
             "colorbar": {
              "outlinewidth": 0,
              "ticks": ""
             }
            },
            "type": "scatterpolargl"
           }
          ],
          "scatterternary": [
           {
            "marker": {
             "colorbar": {
              "outlinewidth": 0,
              "ticks": ""
             }
            },
            "type": "scatterternary"
           }
          ],
          "surface": [
           {
            "colorbar": {
             "outlinewidth": 0,
             "ticks": ""
            },
            "colorscale": [
             [
              0,
              "#0d0887"
             ],
             [
              0.1111111111111111,
              "#46039f"
             ],
             [
              0.2222222222222222,
              "#7201a8"
             ],
             [
              0.3333333333333333,
              "#9c179e"
             ],
             [
              0.4444444444444444,
              "#bd3786"
             ],
             [
              0.5555555555555556,
              "#d8576b"
             ],
             [
              0.6666666666666666,
              "#ed7953"
             ],
             [
              0.7777777777777778,
              "#fb9f3a"
             ],
             [
              0.8888888888888888,
              "#fdca26"
             ],
             [
              1,
              "#f0f921"
             ]
            ],
            "type": "surface"
           }
          ],
          "table": [
           {
            "cells": {
             "fill": {
              "color": "#EBF0F8"
             },
             "line": {
              "color": "white"
             }
            },
            "header": {
             "fill": {
              "color": "#C8D4E3"
             },
             "line": {
              "color": "white"
             }
            },
            "type": "table"
           }
          ]
         },
         "layout": {
          "annotationdefaults": {
           "arrowcolor": "#2a3f5f",
           "arrowhead": 0,
           "arrowwidth": 1
          },
          "autotypenumbers": "strict",
          "coloraxis": {
           "colorbar": {
            "outlinewidth": 0,
            "ticks": ""
           }
          },
          "colorscale": {
           "diverging": [
            [
             0,
             "#8e0152"
            ],
            [
             0.1,
             "#c51b7d"
            ],
            [
             0.2,
             "#de77ae"
            ],
            [
             0.3,
             "#f1b6da"
            ],
            [
             0.4,
             "#fde0ef"
            ],
            [
             0.5,
             "#f7f7f7"
            ],
            [
             0.6,
             "#e6f5d0"
            ],
            [
             0.7,
             "#b8e186"
            ],
            [
             0.8,
             "#7fbc41"
            ],
            [
             0.9,
             "#4d9221"
            ],
            [
             1,
             "#276419"
            ]
           ],
           "sequential": [
            [
             0,
             "#0d0887"
            ],
            [
             0.1111111111111111,
             "#46039f"
            ],
            [
             0.2222222222222222,
             "#7201a8"
            ],
            [
             0.3333333333333333,
             "#9c179e"
            ],
            [
             0.4444444444444444,
             "#bd3786"
            ],
            [
             0.5555555555555556,
             "#d8576b"
            ],
            [
             0.6666666666666666,
             "#ed7953"
            ],
            [
             0.7777777777777778,
             "#fb9f3a"
            ],
            [
             0.8888888888888888,
             "#fdca26"
            ],
            [
             1,
             "#f0f921"
            ]
           ],
           "sequentialminus": [
            [
             0,
             "#0d0887"
            ],
            [
             0.1111111111111111,
             "#46039f"
            ],
            [
             0.2222222222222222,
             "#7201a8"
            ],
            [
             0.3333333333333333,
             "#9c179e"
            ],
            [
             0.4444444444444444,
             "#bd3786"
            ],
            [
             0.5555555555555556,
             "#d8576b"
            ],
            [
             0.6666666666666666,
             "#ed7953"
            ],
            [
             0.7777777777777778,
             "#fb9f3a"
            ],
            [
             0.8888888888888888,
             "#fdca26"
            ],
            [
             1,
             "#f0f921"
            ]
           ]
          },
          "colorway": [
           "#636efa",
           "#EF553B",
           "#00cc96",
           "#ab63fa",
           "#FFA15A",
           "#19d3f3",
           "#FF6692",
           "#B6E880",
           "#FF97FF",
           "#FECB52"
          ],
          "font": {
           "color": "#2a3f5f"
          },
          "geo": {
           "bgcolor": "white",
           "lakecolor": "white",
           "landcolor": "#E5ECF6",
           "showlakes": true,
           "showland": true,
           "subunitcolor": "white"
          },
          "hoverlabel": {
           "align": "left"
          },
          "hovermode": "closest",
          "mapbox": {
           "style": "light"
          },
          "paper_bgcolor": "white",
          "plot_bgcolor": "#E5ECF6",
          "polar": {
           "angularaxis": {
            "gridcolor": "white",
            "linecolor": "white",
            "ticks": ""
           },
           "bgcolor": "#E5ECF6",
           "radialaxis": {
            "gridcolor": "white",
            "linecolor": "white",
            "ticks": ""
           }
          },
          "scene": {
           "xaxis": {
            "backgroundcolor": "#E5ECF6",
            "gridcolor": "white",
            "gridwidth": 2,
            "linecolor": "white",
            "showbackground": true,
            "ticks": "",
            "zerolinecolor": "white"
           },
           "yaxis": {
            "backgroundcolor": "#E5ECF6",
            "gridcolor": "white",
            "gridwidth": 2,
            "linecolor": "white",
            "showbackground": true,
            "ticks": "",
            "zerolinecolor": "white"
           },
           "zaxis": {
            "backgroundcolor": "#E5ECF6",
            "gridcolor": "white",
            "gridwidth": 2,
            "linecolor": "white",
            "showbackground": true,
            "ticks": "",
            "zerolinecolor": "white"
           }
          },
          "shapedefaults": {
           "line": {
            "color": "#2a3f5f"
           }
          },
          "ternary": {
           "aaxis": {
            "gridcolor": "white",
            "linecolor": "white",
            "ticks": ""
           },
           "baxis": {
            "gridcolor": "white",
            "linecolor": "white",
            "ticks": ""
           },
           "bgcolor": "#E5ECF6",
           "caxis": {
            "gridcolor": "white",
            "linecolor": "white",
            "ticks": ""
           }
          },
          "title": {
           "x": 0.05
          },
          "xaxis": {
           "automargin": true,
           "gridcolor": "white",
           "linecolor": "white",
           "ticks": "",
           "title": {
            "standoff": 15
           },
           "zerolinecolor": "white",
           "zerolinewidth": 2
          },
          "yaxis": {
           "automargin": true,
           "gridcolor": "white",
           "linecolor": "white",
           "ticks": "",
           "title": {
            "standoff": 15
           },
           "zerolinecolor": "white",
           "zerolinewidth": 2
          }
         }
        },
        "title": {
         "text": "Franchise Comparison"
        },
        "xaxis": {
         "anchor": "y",
         "categoryorder": "total descending",
         "domain": [
          0,
          1
         ],
         "title": {}
        },
        "yaxis": {
         "anchor": "x",
         "domain": [
          0,
          1
         ],
         "title": {
          "text": "Predicted Points"
         },
         "visible": false
        }
       }
      }
     },
     "metadata": {},
     "output_type": "display_data"
    }
   ],
   "source": [
    "#from ffpackage.analysis import starterSelector\n",
    "# Choose a roster for each franchise based on their league's number of available slots\n",
    "optimized = rosterOptimizer(full)\n",
    "# Get relative points\n",
    "optimized = getRelProjs(optimized)\n",
    "# Sum points across the season\n",
    "optimized = getSeasonTotals(optimized)\n",
    "# Visualize\n",
    "fig = compareFranchises(optimized, how='absolute')\n",
    "fig.show()"
   ]
  },
  {
   "cell_type": "code",
   "execution_count": 495,
   "metadata": {},
   "outputs": [
    {
     "data": {
      "application/vnd.plotly.v1+json": {
       "config": {
        "plotlyServerURL": "https://plot.ly"
       },
       "data": [
        {
         "alignmentgroup": "True",
         "customdata": [
          [
           14.42,
           "Jalen Hurts",
           "QB"
          ],
          [
           12.950000000000001,
           "Tua Tagovailoa",
           "QB"
          ],
          [
           11.649999999999997,
           "Justin Herbert",
           "QB"
          ],
          [
           11.010000000000003,
           "Dak Prescott",
           "QB"
          ],
          [
           10.900000000000004,
           "Brock Purdy",
           "QB"
          ],
          [
           10.829999999999997,
           "Patrick Mahomes",
           "QB"
          ],
          [
           10.090000000000002,
           "Trevor Lawrence",
           "QB"
          ],
          [
           9.300000000000002,
           "Russell Wilson",
           "QB"
          ],
          [
           8.550000000000002,
           "Sam Howell",
           "QB"
          ],
          [
           8.489999999999998,
           "Jared Goff",
           "QB"
          ],
          [
           7.479999999999999,
           "Baker Mayfield",
           "QB"
          ],
          [
           6.84,
           "Geno Smith",
           "QB"
          ],
          [
           6.08,
           "Bryce Young",
           "QB"
          ],
          [
           5.470000000000001,
           "Derek Carr",
           "QB"
          ],
          [
           5.34,
           "Gardner Minshew",
           "QB"
          ],
          [
           4.780000000000001,
           "Mac Jones",
           "QB"
          ],
          [
           3.9899999999999984,
           "Desmond Ridder",
           "QB"
          ],
          [
           3.76,
           "Kenny Pickett",
           "QB"
          ],
          [
           3.459999999999999,
           "Matthew Stafford",
           "QB"
          ],
          [
           0,
           "Zach Wilson",
           "QB"
          ]
         ],
         "hovertemplate": "<b>%{hovertext}</b><br><br>Predicted Points=%{y}<br>Relative Value=%{customdata[0]}<extra></extra>",
         "hovertext": [
          "Jalen Hurts",
          "Tua Tagovailoa",
          "Justin Herbert",
          "Dak Prescott",
          "Brock Purdy",
          "Patrick Mahomes",
          "Trevor Lawrence",
          "Russell Wilson",
          "Sam Howell",
          "Jared Goff",
          "Baker Mayfield",
          "Geno Smith",
          "Bryce Young",
          "Derek Carr",
          "Gardner Minshew",
          "Mac Jones",
          "Desmond Ridder",
          "Kenny Pickett",
          "Matthew Stafford",
          "Zach Wilson"
         ],
         "legendgroup": "QB",
         "marker": {
          "color": "#591D73",
          "pattern": {
           "shape": ""
          }
         },
         "name": "QB",
         "offsetgroup": "QB",
         "orientation": "v",
         "showlegend": true,
         "text": [
          "Jalen Hurts",
          "Tua Tagovailoa",
          "Justin Herbert",
          "Dak Prescott",
          "Brock Purdy",
          "Patrick Mahomes",
          "Trevor Lawrence",
          "Russell Wilson",
          "Sam Howell",
          "Jared Goff",
          "Baker Mayfield",
          "Geno Smith",
          "Bryce Young",
          "Derek Carr",
          "Gardner Minshew",
          "Mac Jones",
          "Desmond Ridder",
          "Kenny Pickett",
          "Matthew Stafford",
          "Zach Wilson"
         ],
         "textposition": "inside",
         "type": "bar",
         "x": [
          "Croccity Body Snatchers",
          "Verdanks Vacqueros FFC",
          "kevinbash",
          "📜 Providence 🪬 Spirits 🥂",
          "Croccity Body Snatchers",
          "Saskatoon Squatches ",
          "2014champ",
          "DangeRUSS Last Ride",
          "kevinbash",
          "📜 Providence 🪬 Spirits 🥂",
          "*New Name Pending*",
          "Saskatoon Squatches ",
          "Idk much about soccer ",
          "*New Name Pending*",
          "2014champ",
          "Pretty Big Wieners",
          "GusTheBus",
          "GusTheBus",
          "Comeback 👑’s",
          "Verdanks Vacqueros FFC"
         ],
         "xaxis": "x",
         "y": [
          21.93,
          20.46,
          19.159999999999997,
          18.520000000000003,
          18.410000000000004,
          18.339999999999996,
          17.6,
          16.810000000000002,
          16.060000000000002,
          15.999999999999998,
          14.989999999999998,
          14.35,
          13.59,
          12.98,
          12.85,
          12.290000000000001,
          11.499999999999998,
          11.27,
          10.969999999999999,
          7.51
         ],
         "yaxis": "y"
        },
        {
         "alignmentgroup": "True",
         "customdata": [
          [
           13.855,
           "Christian McCaffrey",
           "RB"
          ],
          [
           13.219999999999999,
           "Jahmyr Gibbs",
           "RB"
          ],
          [
           12.68,
           "Austin Ekeler",
           "RB"
          ],
          [
           12.629999999999999,
           "Derrick Henry",
           "RB"
          ],
          [
           11.895,
           "Travis Etienne",
           "RB"
          ],
          [
           11.589999999999996,
           "Raheem Mostert",
           "RB"
          ],
          [
           11.280000000000001,
           "Rachaad White",
           "RB"
          ],
          [
           10.555,
           "Tony Pollard",
           "RB"
          ],
          [
           9.335,
           "Jerome Ford",
           "RB"
          ],
          [
           9.100000000000001,
           "Joe Mixon",
           "RB"
          ],
          [
           8.899999999999999,
           "Jaylen Warren",
           "RB"
          ],
          [
           8.760000000000002,
           "Bijan Robinson",
           "RB"
          ],
          [
           8.450000000000003,
           "Breece Hall",
           "RB"
          ],
          [
           8.3,
           "James Conner",
           "RB"
          ],
          [
           8.239999999999998,
           "David Montgomery",
           "RB"
          ],
          [
           8.155000000000001,
           "D'Andre Swift",
           "RB"
          ],
          [
           7.89,
           "Isiah Pacheco",
           "RB"
          ],
          [
           7.7,
           "Rhamondre Stevenson",
           "RB"
          ],
          [
           7.63,
           "Brian Robinson",
           "RB"
          ],
          [
           7.410000000000001,
           "Zack Moss",
           "RB"
          ],
          [
           6.96,
           "Najee Harris",
           "RB"
          ],
          [
           6.445000000000001,
           "Kenneth Walker",
           "RB"
          ],
          [
           6.4049999999999985,
           "Kyren Williams",
           "RB"
          ],
          [
           5.555000000000001,
           "Devin Singletary",
           "RB"
          ],
          [
           5.239999999999999,
           "Tyler Allgeier",
           "RB"
          ],
          [
           5.165,
           "AJ Dillon",
           "RB"
          ],
          [
           4.534999999999999,
           "Antonio Gibson",
           "RB"
          ],
          [
           4.3599999999999985,
           "Ezekiel Elliott",
           "RB"
          ],
          [
           3.8499999999999996,
           "Aaron Jones",
           "RB"
          ],
          [
           3.51,
           "Chuba Hubbard",
           "RB"
          ],
          [
           2.054999999999999,
           "Miles Sanders",
           "RB"
          ],
          [
           1.5349999999999993,
           "Jamaal Williams",
           "RB"
          ],
          [
           1.464999999999999,
           "Jaleel McLaughlin",
           "RB"
          ],
          [
           1.2400000000000002,
           "Zach Charbonnet",
           "RB"
          ],
          [
           0.41999999999999993,
           "Samaje Perine",
           "RB"
          ],
          [
           0,
           "Dalvin Cook",
           "RB"
          ]
         ],
         "hovertemplate": "<b>%{hovertext}</b><br><br>Predicted Points=%{y}<br>Relative Value=%{customdata[0]}<extra></extra>",
         "hovertext": [
          "Christian McCaffrey",
          "Jahmyr Gibbs",
          "Austin Ekeler",
          "Derrick Henry",
          "Travis Etienne",
          "Raheem Mostert",
          "Rachaad White",
          "Tony Pollard",
          "Jerome Ford",
          "Joe Mixon",
          "Jaylen Warren",
          "Bijan Robinson",
          "Breece Hall",
          "James Conner",
          "David Montgomery",
          "D'Andre Swift",
          "Isiah Pacheco",
          "Rhamondre Stevenson",
          "Brian Robinson",
          "Zack Moss",
          "Najee Harris",
          "Kenneth Walker",
          "Kyren Williams",
          "Devin Singletary",
          "Tyler Allgeier",
          "AJ Dillon",
          "Antonio Gibson",
          "Ezekiel Elliott",
          "Aaron Jones",
          "Chuba Hubbard",
          "Miles Sanders",
          "Jamaal Williams",
          "Jaleel McLaughlin",
          "Zach Charbonnet",
          "Samaje Perine",
          "Dalvin Cook"
         ],
         "legendgroup": "RB",
         "marker": {
          "color": "#233257",
          "pattern": {
           "shape": ""
          }
         },
         "name": "RB",
         "offsetgroup": "RB",
         "orientation": "v",
         "showlegend": true,
         "text": [
          "Christian McCaffrey",
          "Jahmyr Gibbs",
          "Austin Ekeler",
          "Derrick Henry",
          "Travis Etienne",
          "Raheem Mostert",
          "Rachaad White",
          "Tony Pollard",
          "Jerome Ford",
          "Joe Mixon",
          "Jaylen Warren",
          "Bijan Robinson",
          "Breece Hall",
          "James Conner",
          "David Montgomery",
          "D'Andre Swift",
          "Isiah Pacheco",
          "Rhamondre Stevenson",
          "Brian Robinson",
          "Zack Moss",
          "Najee Harris",
          "Kenneth Walker",
          "Kyren Williams",
          "Devin Singletary",
          "Tyler Allgeier",
          "AJ Dillon",
          "Antonio Gibson",
          "Ezekiel Elliott",
          "Aaron Jones",
          "Chuba Hubbard",
          "Miles Sanders",
          "Jamaal Williams",
          "Jaleel McLaughlin",
          "Zach Charbonnet",
          "Samaje Perine",
          "Dalvin Cook"
         ],
         "textposition": "inside",
         "type": "bar",
         "x": [
          "DangeRUSS Last Ride",
          "📜 Providence 🪬 Spirits 🥂",
          "kevinbash",
          "DangeRUSS Last Ride",
          "Verdanks Vacqueros FFC",
          "2014champ",
          "📜 Providence 🪬 Spirits 🥂",
          "Saskatoon Squatches ",
          "Comeback 👑’s",
          "Croccity Body Snatchers",
          "Saskatoon Squatches ",
          "2014champ",
          "Comeback 👑’s",
          "DangeRUSS Last Ride",
          "Croccity Body Snatchers",
          "kevinbash",
          "Saskatoon Squatches ",
          "Saskatoon Squatches ",
          "Idk much about soccer ",
          "Verdanks Vacqueros FFC",
          "2014champ",
          "Verdanks Vacqueros FFC",
          "Croccity Body Snatchers",
          "Verdanks Vacqueros FFC",
          "DangeRUSS Last Ride",
          "kevinbash",
          "*New Name Pending*",
          "📜 Providence 🪬 Spirits 🥂",
          "kevinbash",
          "*New Name Pending*",
          "Pretty Big Wieners",
          "Comeback 👑’s",
          "Comeback 👑’s",
          "Idk much about soccer ",
          "GusTheBus",
          "GusTheBus"
         ],
         "xaxis": "x",
         "y": [
          17.865000000000002,
          17.23,
          16.69,
          16.64,
          15.905,
          15.599999999999998,
          15.290000000000001,
          14.565000000000001,
          13.345,
          13.110000000000001,
          12.91,
          12.770000000000001,
          12.460000000000003,
          12.310000000000002,
          12.25,
          12.165000000000001,
          11.9,
          11.71,
          11.64,
          11.420000000000002,
          10.97,
          10.455000000000002,
          10.415,
          9.565000000000001,
          9.25,
          9.175,
          8.545,
          8.37,
          7.86,
          7.5200000000000005,
          6.0649999999999995,
          5.545,
          5.475,
          5.250000000000001,
          4.430000000000001,
          4.010000000000001
         ],
         "yaxis": "y"
        },
        {
         "alignmentgroup": "True",
         "customdata": [
          [
           15.605,
           "Tyreek Hill",
           "WR"
          ],
          [
           12.975000000000001,
           "Keenan Allen",
           "WR"
          ],
          [
           12.758000000000003,
           "Ja'Marr Chase",
           "WR"
          ],
          [
           12.7,
           "Brandon Aiyuk",
           "WR"
          ],
          [
           12.16,
           "A.J. Brown",
           "WR"
          ],
          [
           11.509999999999998,
           "Amon-Ra St. Brown",
           "WR"
          ],
          [
           11.39,
           "CeeDee Lamb",
           "WR"
          ],
          [
           10.690000000000001,
           "Adam Thielen",
           "WR"
          ],
          [
           10.55,
           "Jaylen Waddle",
           "WR"
          ],
          [
           10.27,
           "Mike Evans",
           "WR"
          ],
          [
           9.700000000000003,
           "Cooper Kupp",
           "WR"
          ],
          [
           9.04,
           "Christian Kirk",
           "WR"
          ],
          [
           8.975000000000001,
           "DeVonta Smith",
           "WR"
          ],
          [
           8.93,
           "Chris Olave",
           "WR"
          ],
          [
           8.64,
           "Amari Cooper",
           "WR"
          ],
          [
           8.280000000000001,
           "Michael Pittman",
           "WR"
          ],
          [
           7.925000000000002,
           "Tyler Lockett",
           "WR"
          ],
          [
           7.495,
           "Deebo Samuel",
           "WR"
          ],
          [
           7.267,
           "Nico Collins",
           "WR"
          ],
          [
           7.19,
           "Courtland Sutton",
           "WR"
          ],
          [
           7.115000000000001,
           "Calvin Ridley",
           "WR"
          ],
          [
           6.965000000000001,
           "Terry McLaurin",
           "WR"
          ],
          [
           6.87,
           "George Pickens",
           "WR"
          ],
          [
           6.850000000000002,
           "Diontae Johnson",
           "WR"
          ],
          [
           6.819,
           "DK Metcalf",
           "WR"
          ],
          [
           6.750000000000001,
           "DeAndre Hopkins",
           "WR"
          ],
          [
           6.63,
           "Romeo Doubs",
           "WR"
          ],
          [
           6.44,
           "Christian Watson",
           "WR"
          ],
          [
           6.290000000000002,
           "Rashid Shaheed",
           "WR"
          ],
          [
           6.165,
           "DJ Chark",
           "WR"
          ],
          [
           6.090000000000001,
           "Marquise Brown",
           "WR"
          ],
          [
           6.065,
           "Garrett Wilson",
           "WR"
          ],
          [
           5.990000000000001,
           "Jerry Jeudy",
           "WR"
          ],
          [
           5.835,
           "Rashee Rice",
           "WR"
          ],
          [
           5.415000000000001,
           "Tyler Boyd",
           "WR"
          ],
          [
           5.020000000000001,
           "Brandin Cooks",
           "WR"
          ],
          [
           4.774000000000001,
           "Drake London",
           "WR"
          ],
          [
           4.760000000000001,
           "JuJu Smith-Schuster",
           "WR"
          ],
          [
           4.62,
           "Curtis Samuel",
           "WR"
          ],
          [
           4.34,
           "Tutu Atwell",
           "WR"
          ],
          [
           4.275,
           "Josh Downs",
           "WR"
          ],
          [
           3.5100000000000007,
           "Josh Reynolds",
           "WR"
          ],
          [
           2.793,
           "Robert Woods",
           "WR"
          ],
          [
           2.718,
           "Michael Gallup",
           "WR"
          ],
          [
           2.5730000000000004,
           "Marvin Mims",
           "WR"
          ],
          [
           1.1100000000000003,
           "Kadarius Toney",
           "WR"
          ],
          [
           0,
           "Donovan Peoples-Jones",
           "WR"
          ]
         ],
         "hovertemplate": "<b>%{hovertext}</b><br><br>Predicted Points=%{y}<br>Relative Value=%{customdata[0]}<extra></extra>",
         "hovertext": [
          "Tyreek Hill",
          "Keenan Allen",
          "Ja'Marr Chase",
          "Brandon Aiyuk",
          "A.J. Brown",
          "Amon-Ra St. Brown",
          "CeeDee Lamb",
          "Adam Thielen",
          "Jaylen Waddle",
          "Mike Evans",
          "Cooper Kupp",
          "Christian Kirk",
          "DeVonta Smith",
          "Chris Olave",
          "Amari Cooper",
          "Michael Pittman",
          "Tyler Lockett",
          "Deebo Samuel",
          "Nico Collins",
          "Courtland Sutton",
          "Calvin Ridley",
          "Terry McLaurin",
          "George Pickens",
          "Diontae Johnson",
          "DK Metcalf",
          "DeAndre Hopkins",
          "Romeo Doubs",
          "Christian Watson",
          "Rashid Shaheed",
          "DJ Chark",
          "Marquise Brown",
          "Garrett Wilson",
          "Jerry Jeudy",
          "Rashee Rice",
          "Tyler Boyd",
          "Brandin Cooks",
          "Drake London",
          "JuJu Smith-Schuster",
          "Curtis Samuel",
          "Tutu Atwell",
          "Josh Downs",
          "Josh Reynolds",
          "Robert Woods",
          "Michael Gallup",
          "Marvin Mims",
          "Kadarius Toney",
          "Donovan Peoples-Jones"
         ],
         "legendgroup": "WR",
         "marker": {
          "color": "#4068B8",
          "pattern": {
           "shape": ""
          }
         },
         "name": "WR",
         "offsetgroup": "WR",
         "orientation": "v",
         "showlegend": true,
         "text": [
          "Tyreek Hill",
          "Keenan Allen",
          "Ja'Marr Chase",
          "Brandon Aiyuk",
          "A.J. Brown",
          "Amon-Ra St. Brown",
          "CeeDee Lamb",
          "Adam Thielen",
          "Jaylen Waddle",
          "Mike Evans",
          "Cooper Kupp",
          "Christian Kirk",
          "DeVonta Smith",
          "Chris Olave",
          "Amari Cooper",
          "Michael Pittman",
          "Tyler Lockett",
          "Deebo Samuel",
          "Nico Collins",
          "Courtland Sutton",
          "Calvin Ridley",
          "Terry McLaurin",
          "George Pickens",
          "Diontae Johnson",
          "DK Metcalf",
          "DeAndre Hopkins",
          "Romeo Doubs",
          "Christian Watson",
          "Rashid Shaheed",
          "DJ Chark",
          "Marquise Brown",
          "Garrett Wilson",
          "Jerry Jeudy",
          "Rashee Rice",
          "Tyler Boyd",
          "Brandin Cooks",
          "Drake London",
          "JuJu Smith-Schuster",
          "Curtis Samuel",
          "Tutu Atwell",
          "Josh Downs",
          "Josh Reynolds",
          "Robert Woods",
          "Michael Gallup",
          "Marvin Mims",
          "Kadarius Toney",
          "Donovan Peoples-Jones"
         ],
         "textposition": "inside",
         "type": "bar",
         "x": [
          "Saskatoon Squatches ",
          "Pretty Big Wieners",
          "Saskatoon Squatches ",
          "kevinbash",
          "Pretty Big Wieners",
          "Croccity Body Snatchers",
          "*New Name Pending*",
          "Idk much about soccer ",
          "GusTheBus",
          "kevinbash",
          "2014champ",
          "GusTheBus",
          "*New Name Pending*",
          "*New Name Pending*",
          "Verdanks Vacqueros FFC",
          "GusTheBus",
          "Croccity Body Snatchers",
          "2014champ",
          "📜 Providence 🪬 Spirits 🥂",
          "*New Name Pending*",
          "2014champ",
          "kevinbash",
          "DangeRUSS Last Ride",
          "Idk much about soccer ",
          "2014champ",
          "Verdanks Vacqueros FFC",
          "📜 Providence 🪬 Spirits 🥂",
          "*New Name Pending*",
          "📜 Providence 🪬 Spirits 🥂",
          "DangeRUSS Last Ride",
          "Croccity Body Snatchers",
          "📜 Providence 🪬 Spirits 🥂",
          "Saskatoon Squatches ",
          "Croccity Body Snatchers",
          "Idk much about soccer ",
          "Comeback 👑’s",
          "Idk much about soccer ",
          "GusTheBus",
          "DangeRUSS Last Ride",
          "Comeback 👑’s",
          "Verdanks Vacqueros FFC",
          "Comeback 👑’s",
          "Pretty Big Wieners",
          "Comeback 👑’s",
          "GusTheBus",
          "Pretty Big Wieners",
          "Pretty Big Wieners"
         ],
         "xaxis": "x",
         "y": [
          17.44,
          14.81,
          14.593000000000002,
          14.535,
          13.995,
          13.344999999999999,
          13.225,
          12.525,
          12.385000000000002,
          12.105,
          11.535000000000002,
          10.875,
          10.810000000000002,
          10.765,
          10.475000000000001,
          10.115,
          9.760000000000002,
          9.33,
          9.102,
          9.025,
          8.950000000000001,
          8.8,
          8.705,
          8.685000000000002,
          8.654,
          8.585,
          8.465,
          8.275,
          8.125000000000002,
          8,
          7.925000000000001,
          7.9,
          7.825000000000001,
          7.67,
          7.250000000000001,
          6.855000000000001,
          6.609000000000001,
          6.595000000000001,
          6.455,
          6.175,
          6.11,
          5.345000000000001,
          4.628,
          4.553,
          4.408,
          2.9450000000000003,
          1.835
         ],
         "yaxis": "y"
        },
        {
         "alignmentgroup": "True",
         "customdata": [
          [
           10.595,
           "Travis Kelce",
           "TE"
          ],
          [
           8.505,
           "George Kittle",
           "TE"
          ],
          [
           7.350000000000001,
           "Dalton Schultz",
           "TE"
          ],
          [
           6.870000000000001,
           "Sam LaPorta",
           "TE"
          ],
          [
           5.425000000000001,
           "Jake Ferguson",
           "TE"
          ],
          [
           5.254,
           "David Njoku",
           "TE"
          ],
          [
           4.695,
           "Taysom Hill",
           "TE"
          ],
          [
           3.7600000000000002,
           "Evan Engram",
           "TE"
          ],
          [
           3.395,
           "Logan Thomas",
           "TE"
          ],
          [
           3.2950000000000004,
           "Hunter Henry",
           "TE"
          ],
          [
           3.265,
           "Juwan Johnson",
           "TE"
          ],
          [
           3.2000000000000006,
           "Kyle Pitts",
           "TE"
          ],
          [
           2.82,
           "Pat Freiermuth",
           "TE"
          ],
          [
           2.77,
           "Gerald Everett",
           "TE"
          ],
          [
           2.725,
           "Cade Otton",
           "TE"
          ],
          [
           2.5420000000000003,
           "Tyler Conklin",
           "TE"
          ],
          [
           2.145,
           "Zach Ertz",
           "TE"
          ],
          [
           1.9650000000000003,
           "Trey McBride",
           "TE"
          ],
          [
           1.6189999999999998,
           "Tyler Higbee",
           "TE"
          ],
          [
           1.37,
           "Greg Dulcich",
           "TE"
          ],
          [
           0.9940000000000002,
           "Durham Smythe",
           "TE"
          ],
          [
           0.895,
           "Donald Parham",
           "TE"
          ],
          [
           0.16999999999999993,
           "Adam Trautman",
           "TE"
          ],
          [
           0,
           "Kylen Granson",
           "TE"
          ]
         ],
         "hovertemplate": "<b>%{hovertext}</b><br><br>Predicted Points=%{y}<br>Relative Value=%{customdata[0]}<extra></extra>",
         "hovertext": [
          "Travis Kelce",
          "George Kittle",
          "Dalton Schultz",
          "Sam LaPorta",
          "Jake Ferguson",
          "David Njoku",
          "Taysom Hill",
          "Evan Engram",
          "Logan Thomas",
          "Hunter Henry",
          "Juwan Johnson",
          "Kyle Pitts",
          "Pat Freiermuth",
          "Gerald Everett",
          "Cade Otton",
          "Tyler Conklin",
          "Zach Ertz",
          "Trey McBride",
          "Tyler Higbee",
          "Greg Dulcich",
          "Durham Smythe",
          "Donald Parham",
          "Adam Trautman",
          "Kylen Granson"
         ],
         "legendgroup": "TE",
         "marker": {
          "color": "#AEDFF2",
          "pattern": {
           "shape": ""
          }
         },
         "name": "TE",
         "offsetgroup": "TE",
         "orientation": "v",
         "showlegend": true,
         "text": [
          "Travis Kelce",
          "George Kittle",
          "Dalton Schultz",
          "Sam LaPorta",
          "Jake Ferguson",
          "David Njoku",
          "Taysom Hill",
          "Evan Engram",
          "Logan Thomas",
          "Hunter Henry",
          "Juwan Johnson",
          "Kyle Pitts",
          "Pat Freiermuth",
          "Gerald Everett",
          "Cade Otton",
          "Tyler Conklin",
          "Zach Ertz",
          "Trey McBride",
          "Tyler Higbee",
          "Greg Dulcich",
          "Durham Smythe",
          "Donald Parham",
          "Adam Trautman",
          "Kylen Granson"
         ],
         "textposition": "inside",
         "type": "bar",
         "x": [
          "Verdanks Vacqueros FFC",
          "DangeRUSS Last Ride",
          "Comeback 👑’s",
          "Croccity Body Snatchers",
          "DangeRUSS Last Ride",
          "Verdanks Vacqueros FFC",
          "2014champ",
          "2014champ",
          "GusTheBus",
          "*New Name Pending*",
          "GusTheBus",
          "📜 Providence 🪬 Spirits 🥂",
          "Saskatoon Squatches ",
          "DangeRUSS Last Ride",
          "Idk much about soccer ",
          "Pretty Big Wieners",
          "*New Name Pending*",
          "📜 Providence 🪬 Spirits 🥂",
          "Croccity Body Snatchers",
          "Croccity Body Snatchers",
          "Idk much about soccer ",
          "Comeback 👑’s",
          "Pretty Big Wieners",
          "kevinbash"
         ],
         "xaxis": "x",
         "y": [
          12.9,
          10.81,
          9.655000000000001,
          9.175,
          7.73,
          7.559,
          7,
          6.065,
          5.7,
          5.6000000000000005,
          5.57,
          5.505000000000001,
          5.125,
          5.075,
          5.03,
          4.847,
          4.45,
          4.2700000000000005,
          3.924,
          3.6750000000000003,
          3.2990000000000004,
          3.2,
          2.475,
          2.305
         ],
         "yaxis": "y"
        },
        {
         "alignmentgroup": "True",
         "customdata": [
          [
           5.574999999999999,
           "Dustin Hopkins",
           "PK"
          ],
          [
           5.125,
           "Greg Zuerlein",
           "PK"
          ],
          [
           4.674999999999999,
           "Matt Gay",
           "PK"
          ],
          [
           3.9749999999999996,
           "Nick Folk",
           "PK"
          ],
          [
           3.8249999999999993,
           "Wil Lutz",
           "PK"
          ],
          [
           3.4749999999999996,
           "Brandon Aubrey",
           "PK"
          ],
          [
           3.3249999999999993,
           "Brandon McManus",
           "PK"
          ],
          [
           3.174999999999999,
           "Jason Myers",
           "PK"
          ],
          [
           2.924999999999999,
           "Chris Boswell",
           "PK"
          ],
          [
           2.7249999999999996,
           "Blake Grupe",
           "PK"
          ],
          [
           2.625,
           "Harrison Butker",
           "PK"
          ],
          [
           2.5250000000000004,
           "Jake Moody",
           "PK"
          ],
          [
           2.4749999999999996,
           "Matt Prater",
           "PK"
          ],
          [
           2.375,
           "Jason Sanders",
           "PK"
          ],
          [
           2.3249999999999993,
           "Riley Patterson",
           "PK"
          ],
          [
           2.174999999999999,
           "Eddy Pineiro",
           "PK"
          ],
          [
           1.9749999999999996,
           "Evan McPherson",
           "PK"
          ],
          [
           1.924999999999999,
           "Chase McLaughlin",
           "PK"
          ],
          [
           1.875,
           "Jake Elliott",
           "PK"
          ],
          [
           0,
           "Anders Carlson",
           "PK"
          ]
         ],
         "hovertemplate": "<b>%{hovertext}</b><br><br>Predicted Points=%{y}<br>Relative Value=%{customdata[0]}<extra></extra>",
         "hovertext": [
          "Dustin Hopkins",
          "Greg Zuerlein",
          "Matt Gay",
          "Nick Folk",
          "Wil Lutz",
          "Brandon Aubrey",
          "Brandon McManus",
          "Jason Myers",
          "Chris Boswell",
          "Blake Grupe",
          "Harrison Butker",
          "Jake Moody",
          "Matt Prater",
          "Jason Sanders",
          "Riley Patterson",
          "Eddy Pineiro",
          "Evan McPherson",
          "Chase McLaughlin",
          "Jake Elliott",
          "Anders Carlson"
         ],
         "legendgroup": "PK",
         "marker": {
          "color": "#B3BF54",
          "pattern": {
           "shape": ""
          }
         },
         "name": "PK",
         "offsetgroup": "PK",
         "orientation": "v",
         "showlegend": true,
         "text": [
          "Dustin Hopkins",
          "Greg Zuerlein",
          "Matt Gay",
          "Nick Folk",
          "Wil Lutz",
          "Brandon Aubrey",
          "Brandon McManus",
          "Jason Myers",
          "Chris Boswell",
          "Blake Grupe",
          "Harrison Butker",
          "Jake Moody",
          "Matt Prater",
          "Jason Sanders",
          "Riley Patterson",
          "Eddy Pineiro",
          "Evan McPherson",
          "Chase McLaughlin",
          "Jake Elliott",
          "Anders Carlson"
         ],
         "textposition": "inside",
         "type": "bar",
         "x": [
          "Croccity Body Snatchers",
          "Croccity Body Snatchers",
          "DangeRUSS Last Ride",
          "Comeback 👑’s",
          "2014champ",
          "kevinbash",
          "Idk much about soccer ",
          "GusTheBus",
          "kevinbash",
          "Idk much about soccer ",
          "*New Name Pending*",
          "Verdanks Vacqueros FFC",
          "GusTheBus",
          "Saskatoon Squatches ",
          "Saskatoon Squatches ",
          "Verdanks Vacqueros FFC",
          "📜 Providence 🪬 Spirits 🥂",
          "*New Name Pending*",
          "DangeRUSS Last Ride",
          "Comeback 👑’s"
         ],
         "xaxis": "x",
         "y": [
          11.75,
          11.3,
          10.85,
          10.15,
          10,
          9.65,
          9.5,
          9.35,
          9.1,
          8.9,
          8.8,
          8.700000000000001,
          8.65,
          8.55,
          8.5,
          8.35,
          8.15,
          8.1,
          8.05,
          6.175000000000001
         ],
         "yaxis": "y"
        },
        {
         "alignmentgroup": "True",
         "customdata": [
          [
           11.3502,
           "ATL",
           "DEF"
          ],
          [
           9.663700000000002,
           "CLE",
           "DEF"
          ],
          [
           9.6319,
           "TB",
           "DEF"
          ],
          [
           9.5896,
           "DAL",
           "DEF"
          ],
          [
           9.555,
           "PIT",
           "DEF"
          ],
          [
           9.2222,
           "KC",
           "DEF"
          ],
          [
           7.994000000000003,
           "CAR",
           "DEF"
          ],
          [
           7.228499999999999,
           "HOU",
           "DEF"
          ],
          [
           10.776199999999998,
           "LAC",
           "DEF"
          ],
          [
           10.776199999999998,
           "LAR",
           "DEF"
          ],
          [
           6.0235,
           "MIA",
           "DEF"
          ],
          [
           5.688100000000002,
           "SF",
           "DEF"
          ],
          [
           5.6336999999999975,
           "CIN",
           "DEF"
          ],
          [
           5.516700000000004,
           "IND",
           "DEF"
          ],
          [
           5.483599999999999,
           "NYG",
           "DEF"
          ],
          [
           4.112800000000004,
           "ARI",
           "DEF"
          ],
          [
           4.080000000000002,
           "JAX",
           "DEF"
          ],
          [
           3.513200000000001,
           "TEN",
           "DEF"
          ],
          [
           2.4360000000000035,
           "NE",
           "DEF"
          ],
          [
           2.434000000000001,
           "NO",
           "DEF"
          ],
          [
           1.5808000000000035,
           "DET",
           "DEF"
          ],
          [
           0,
           "WAS",
           "DEF"
          ]
         ],
         "hovertemplate": "<b>%{hovertext}</b><br><br>Predicted Points=%{y}<br>Relative Value=%{customdata[0]}<extra></extra>",
         "hovertext": [
          "ATL",
          "CLE",
          "TB",
          "DAL",
          "PIT",
          "KC",
          "CAR",
          "HOU",
          "LAC",
          "LAR",
          "MIA",
          "SF",
          "CIN",
          "IND",
          "NYG",
          "ARI",
          "JAX",
          "TEN",
          "NE",
          "NO",
          "DET",
          "WAS"
         ],
         "legendgroup": "DEF",
         "marker": {
          "color": "#667825",
          "pattern": {
           "shape": ""
          }
         },
         "name": "DEF",
         "offsetgroup": "DEF",
         "orientation": "v",
         "showlegend": true,
         "text": [
          "ATL",
          "CLE",
          "TB",
          "DAL",
          "PIT",
          "KC",
          "CAR",
          "HOU",
          "LAC",
          "LAR",
          "MIA",
          "SF",
          "CIN",
          "IND",
          "NYG",
          "ARI",
          "JAX",
          "TEN",
          "NE",
          "NO",
          "DET",
          "WAS"
         ],
         "textposition": "inside",
         "type": "bar",
         "x": [
          "*New Name Pending*",
          "2014champ",
          "Comeback 👑’s",
          "📜 Providence 🪬 Spirits 🥂",
          "GusTheBus",
          "Idk much about soccer ",
          "DangeRUSS Last Ride",
          "📜 Providence 🪬 Spirits 🥂",
          "DangeRUSS Last Ride",
          "Comeback 👑’s",
          "Pretty Big Wieners",
          "Croccity Body Snatchers",
          "Pretty Big Wieners",
          "Idk much about soccer ",
          "*New Name Pending*",
          "Verdanks Vacqueros FFC",
          "Saskatoon Squatches ",
          "Saskatoon Squatches ",
          "kevinbash",
          "kevinbash",
          "Verdanks Vacqueros FFC",
          "Croccity Body Snatchers"
         ],
         "xaxis": "x",
         "y": [
          8.710199999999999,
          7.023700000000002,
          6.991899999999999,
          6.9496,
          6.914999999999999,
          6.5822,
          5.354000000000003,
          4.588499999999998,
          5.496199999999996,
          5.496199999999996,
          3.3834999999999997,
          3.0481000000000016,
          2.993699999999997,
          2.876700000000003,
          2.8435999999999986,
          1.472800000000003,
          1.4400000000000013,
          0.8732000000000006,
          -0.20399999999999707,
          -0.20599999999999952,
          -1.059199999999997,
          -2.6400000000000006
         ],
         "yaxis": "y"
        },
        {
         "mode": "text",
         "showlegend": false,
         "text": [
          135,
          138,
          112,
          155,
          149,
          112,
          102,
          70,
          148,
          138,
          137,
          138
         ],
         "textfont": {
          "size": 12
         },
         "textposition": "top center",
         "type": "scatter",
         "x": [
          "*New Name Pending*",
          "2014champ",
          "Comeback 👑’s",
          "Croccity Body Snatchers",
          "DangeRUSS Last Ride",
          "GusTheBus",
          "Idk much about soccer ",
          "Pretty Big Wieners",
          "Saskatoon Squatches ",
          "Verdanks Vacqueros FFC",
          "kevinbash",
          "📜 Providence 🪬 Spirits 🥂"
         ],
         "y": [
          135,
          138,
          112,
          155,
          149,
          112,
          102,
          70,
          148,
          138,
          137,
          138
         ]
        }
       ],
       "layout": {
        "barmode": "stack",
        "font": {
         "family": "Input Serif"
        },
        "legend": {
         "title": {
          "text": "position"
         },
         "tracegroupgap": 0
        },
        "margin": {
         "t": 60
        },
        "plot_bgcolor": "rgba(0,0,0,0)",
        "showlegend": false,
        "template": {
         "data": {
          "bar": [
           {
            "error_x": {
             "color": "#2a3f5f"
            },
            "error_y": {
             "color": "#2a3f5f"
            },
            "marker": {
             "line": {
              "color": "#E5ECF6",
              "width": 0.5
             },
             "pattern": {
              "fillmode": "overlay",
              "size": 10,
              "solidity": 0.2
             }
            },
            "type": "bar"
           }
          ],
          "barpolar": [
           {
            "marker": {
             "line": {
              "color": "#E5ECF6",
              "width": 0.5
             },
             "pattern": {
              "fillmode": "overlay",
              "size": 10,
              "solidity": 0.2
             }
            },
            "type": "barpolar"
           }
          ],
          "carpet": [
           {
            "aaxis": {
             "endlinecolor": "#2a3f5f",
             "gridcolor": "white",
             "linecolor": "white",
             "minorgridcolor": "white",
             "startlinecolor": "#2a3f5f"
            },
            "baxis": {
             "endlinecolor": "#2a3f5f",
             "gridcolor": "white",
             "linecolor": "white",
             "minorgridcolor": "white",
             "startlinecolor": "#2a3f5f"
            },
            "type": "carpet"
           }
          ],
          "choropleth": [
           {
            "colorbar": {
             "outlinewidth": 0,
             "ticks": ""
            },
            "type": "choropleth"
           }
          ],
          "contour": [
           {
            "colorbar": {
             "outlinewidth": 0,
             "ticks": ""
            },
            "colorscale": [
             [
              0,
              "#0d0887"
             ],
             [
              0.1111111111111111,
              "#46039f"
             ],
             [
              0.2222222222222222,
              "#7201a8"
             ],
             [
              0.3333333333333333,
              "#9c179e"
             ],
             [
              0.4444444444444444,
              "#bd3786"
             ],
             [
              0.5555555555555556,
              "#d8576b"
             ],
             [
              0.6666666666666666,
              "#ed7953"
             ],
             [
              0.7777777777777778,
              "#fb9f3a"
             ],
             [
              0.8888888888888888,
              "#fdca26"
             ],
             [
              1,
              "#f0f921"
             ]
            ],
            "type": "contour"
           }
          ],
          "contourcarpet": [
           {
            "colorbar": {
             "outlinewidth": 0,
             "ticks": ""
            },
            "type": "contourcarpet"
           }
          ],
          "heatmap": [
           {
            "colorbar": {
             "outlinewidth": 0,
             "ticks": ""
            },
            "colorscale": [
             [
              0,
              "#0d0887"
             ],
             [
              0.1111111111111111,
              "#46039f"
             ],
             [
              0.2222222222222222,
              "#7201a8"
             ],
             [
              0.3333333333333333,
              "#9c179e"
             ],
             [
              0.4444444444444444,
              "#bd3786"
             ],
             [
              0.5555555555555556,
              "#d8576b"
             ],
             [
              0.6666666666666666,
              "#ed7953"
             ],
             [
              0.7777777777777778,
              "#fb9f3a"
             ],
             [
              0.8888888888888888,
              "#fdca26"
             ],
             [
              1,
              "#f0f921"
             ]
            ],
            "type": "heatmap"
           }
          ],
          "heatmapgl": [
           {
            "colorbar": {
             "outlinewidth": 0,
             "ticks": ""
            },
            "colorscale": [
             [
              0,
              "#0d0887"
             ],
             [
              0.1111111111111111,
              "#46039f"
             ],
             [
              0.2222222222222222,
              "#7201a8"
             ],
             [
              0.3333333333333333,
              "#9c179e"
             ],
             [
              0.4444444444444444,
              "#bd3786"
             ],
             [
              0.5555555555555556,
              "#d8576b"
             ],
             [
              0.6666666666666666,
              "#ed7953"
             ],
             [
              0.7777777777777778,
              "#fb9f3a"
             ],
             [
              0.8888888888888888,
              "#fdca26"
             ],
             [
              1,
              "#f0f921"
             ]
            ],
            "type": "heatmapgl"
           }
          ],
          "histogram": [
           {
            "marker": {
             "pattern": {
              "fillmode": "overlay",
              "size": 10,
              "solidity": 0.2
             }
            },
            "type": "histogram"
           }
          ],
          "histogram2d": [
           {
            "colorbar": {
             "outlinewidth": 0,
             "ticks": ""
            },
            "colorscale": [
             [
              0,
              "#0d0887"
             ],
             [
              0.1111111111111111,
              "#46039f"
             ],
             [
              0.2222222222222222,
              "#7201a8"
             ],
             [
              0.3333333333333333,
              "#9c179e"
             ],
             [
              0.4444444444444444,
              "#bd3786"
             ],
             [
              0.5555555555555556,
              "#d8576b"
             ],
             [
              0.6666666666666666,
              "#ed7953"
             ],
             [
              0.7777777777777778,
              "#fb9f3a"
             ],
             [
              0.8888888888888888,
              "#fdca26"
             ],
             [
              1,
              "#f0f921"
             ]
            ],
            "type": "histogram2d"
           }
          ],
          "histogram2dcontour": [
           {
            "colorbar": {
             "outlinewidth": 0,
             "ticks": ""
            },
            "colorscale": [
             [
              0,
              "#0d0887"
             ],
             [
              0.1111111111111111,
              "#46039f"
             ],
             [
              0.2222222222222222,
              "#7201a8"
             ],
             [
              0.3333333333333333,
              "#9c179e"
             ],
             [
              0.4444444444444444,
              "#bd3786"
             ],
             [
              0.5555555555555556,
              "#d8576b"
             ],
             [
              0.6666666666666666,
              "#ed7953"
             ],
             [
              0.7777777777777778,
              "#fb9f3a"
             ],
             [
              0.8888888888888888,
              "#fdca26"
             ],
             [
              1,
              "#f0f921"
             ]
            ],
            "type": "histogram2dcontour"
           }
          ],
          "mesh3d": [
           {
            "colorbar": {
             "outlinewidth": 0,
             "ticks": ""
            },
            "type": "mesh3d"
           }
          ],
          "parcoords": [
           {
            "line": {
             "colorbar": {
              "outlinewidth": 0,
              "ticks": ""
             }
            },
            "type": "parcoords"
           }
          ],
          "pie": [
           {
            "automargin": true,
            "type": "pie"
           }
          ],
          "scatter": [
           {
            "fillpattern": {
             "fillmode": "overlay",
             "size": 10,
             "solidity": 0.2
            },
            "type": "scatter"
           }
          ],
          "scatter3d": [
           {
            "line": {
             "colorbar": {
              "outlinewidth": 0,
              "ticks": ""
             }
            },
            "marker": {
             "colorbar": {
              "outlinewidth": 0,
              "ticks": ""
             }
            },
            "type": "scatter3d"
           }
          ],
          "scattercarpet": [
           {
            "marker": {
             "colorbar": {
              "outlinewidth": 0,
              "ticks": ""
             }
            },
            "type": "scattercarpet"
           }
          ],
          "scattergeo": [
           {
            "marker": {
             "colorbar": {
              "outlinewidth": 0,
              "ticks": ""
             }
            },
            "type": "scattergeo"
           }
          ],
          "scattergl": [
           {
            "marker": {
             "colorbar": {
              "outlinewidth": 0,
              "ticks": ""
             }
            },
            "type": "scattergl"
           }
          ],
          "scattermapbox": [
           {
            "marker": {
             "colorbar": {
              "outlinewidth": 0,
              "ticks": ""
             }
            },
            "type": "scattermapbox"
           }
          ],
          "scatterpolar": [
           {
            "marker": {
             "colorbar": {
              "outlinewidth": 0,
              "ticks": ""
             }
            },
            "type": "scatterpolar"
           }
          ],
          "scatterpolargl": [
           {
            "marker": {
             "colorbar": {
              "outlinewidth": 0,
              "ticks": ""
             }
            },
            "type": "scatterpolargl"
           }
          ],
          "scatterternary": [
           {
            "marker": {
             "colorbar": {
              "outlinewidth": 0,
              "ticks": ""
             }
            },
            "type": "scatterternary"
           }
          ],
          "surface": [
           {
            "colorbar": {
             "outlinewidth": 0,
             "ticks": ""
            },
            "colorscale": [
             [
              0,
              "#0d0887"
             ],
             [
              0.1111111111111111,
              "#46039f"
             ],
             [
              0.2222222222222222,
              "#7201a8"
             ],
             [
              0.3333333333333333,
              "#9c179e"
             ],
             [
              0.4444444444444444,
              "#bd3786"
             ],
             [
              0.5555555555555556,
              "#d8576b"
             ],
             [
              0.6666666666666666,
              "#ed7953"
             ],
             [
              0.7777777777777778,
              "#fb9f3a"
             ],
             [
              0.8888888888888888,
              "#fdca26"
             ],
             [
              1,
              "#f0f921"
             ]
            ],
            "type": "surface"
           }
          ],
          "table": [
           {
            "cells": {
             "fill": {
              "color": "#EBF0F8"
             },
             "line": {
              "color": "white"
             }
            },
            "header": {
             "fill": {
              "color": "#C8D4E3"
             },
             "line": {
              "color": "white"
             }
            },
            "type": "table"
           }
          ]
         },
         "layout": {
          "annotationdefaults": {
           "arrowcolor": "#2a3f5f",
           "arrowhead": 0,
           "arrowwidth": 1
          },
          "autotypenumbers": "strict",
          "coloraxis": {
           "colorbar": {
            "outlinewidth": 0,
            "ticks": ""
           }
          },
          "colorscale": {
           "diverging": [
            [
             0,
             "#8e0152"
            ],
            [
             0.1,
             "#c51b7d"
            ],
            [
             0.2,
             "#de77ae"
            ],
            [
             0.3,
             "#f1b6da"
            ],
            [
             0.4,
             "#fde0ef"
            ],
            [
             0.5,
             "#f7f7f7"
            ],
            [
             0.6,
             "#e6f5d0"
            ],
            [
             0.7,
             "#b8e186"
            ],
            [
             0.8,
             "#7fbc41"
            ],
            [
             0.9,
             "#4d9221"
            ],
            [
             1,
             "#276419"
            ]
           ],
           "sequential": [
            [
             0,
             "#0d0887"
            ],
            [
             0.1111111111111111,
             "#46039f"
            ],
            [
             0.2222222222222222,
             "#7201a8"
            ],
            [
             0.3333333333333333,
             "#9c179e"
            ],
            [
             0.4444444444444444,
             "#bd3786"
            ],
            [
             0.5555555555555556,
             "#d8576b"
            ],
            [
             0.6666666666666666,
             "#ed7953"
            ],
            [
             0.7777777777777778,
             "#fb9f3a"
            ],
            [
             0.8888888888888888,
             "#fdca26"
            ],
            [
             1,
             "#f0f921"
            ]
           ],
           "sequentialminus": [
            [
             0,
             "#0d0887"
            ],
            [
             0.1111111111111111,
             "#46039f"
            ],
            [
             0.2222222222222222,
             "#7201a8"
            ],
            [
             0.3333333333333333,
             "#9c179e"
            ],
            [
             0.4444444444444444,
             "#bd3786"
            ],
            [
             0.5555555555555556,
             "#d8576b"
            ],
            [
             0.6666666666666666,
             "#ed7953"
            ],
            [
             0.7777777777777778,
             "#fb9f3a"
            ],
            [
             0.8888888888888888,
             "#fdca26"
            ],
            [
             1,
             "#f0f921"
            ]
           ]
          },
          "colorway": [
           "#636efa",
           "#EF553B",
           "#00cc96",
           "#ab63fa",
           "#FFA15A",
           "#19d3f3",
           "#FF6692",
           "#B6E880",
           "#FF97FF",
           "#FECB52"
          ],
          "font": {
           "color": "#2a3f5f"
          },
          "geo": {
           "bgcolor": "white",
           "lakecolor": "white",
           "landcolor": "#E5ECF6",
           "showlakes": true,
           "showland": true,
           "subunitcolor": "white"
          },
          "hoverlabel": {
           "align": "left"
          },
          "hovermode": "closest",
          "mapbox": {
           "style": "light"
          },
          "paper_bgcolor": "white",
          "plot_bgcolor": "#E5ECF6",
          "polar": {
           "angularaxis": {
            "gridcolor": "white",
            "linecolor": "white",
            "ticks": ""
           },
           "bgcolor": "#E5ECF6",
           "radialaxis": {
            "gridcolor": "white",
            "linecolor": "white",
            "ticks": ""
           }
          },
          "scene": {
           "xaxis": {
            "backgroundcolor": "#E5ECF6",
            "gridcolor": "white",
            "gridwidth": 2,
            "linecolor": "white",
            "showbackground": true,
            "ticks": "",
            "zerolinecolor": "white"
           },
           "yaxis": {
            "backgroundcolor": "#E5ECF6",
            "gridcolor": "white",
            "gridwidth": 2,
            "linecolor": "white",
            "showbackground": true,
            "ticks": "",
            "zerolinecolor": "white"
           },
           "zaxis": {
            "backgroundcolor": "#E5ECF6",
            "gridcolor": "white",
            "gridwidth": 2,
            "linecolor": "white",
            "showbackground": true,
            "ticks": "",
            "zerolinecolor": "white"
           }
          },
          "shapedefaults": {
           "line": {
            "color": "#2a3f5f"
           }
          },
          "ternary": {
           "aaxis": {
            "gridcolor": "white",
            "linecolor": "white",
            "ticks": ""
           },
           "baxis": {
            "gridcolor": "white",
            "linecolor": "white",
            "ticks": ""
           },
           "bgcolor": "#E5ECF6",
           "caxis": {
            "gridcolor": "white",
            "linecolor": "white",
            "ticks": ""
           }
          },
          "title": {
           "x": 0.05
          },
          "xaxis": {
           "automargin": true,
           "gridcolor": "white",
           "linecolor": "white",
           "ticks": "",
           "title": {
            "standoff": 15
           },
           "zerolinecolor": "white",
           "zerolinewidth": 2
          },
          "yaxis": {
           "automargin": true,
           "gridcolor": "white",
           "linecolor": "white",
           "ticks": "",
           "title": {
            "standoff": 15
           },
           "zerolinecolor": "white",
           "zerolinewidth": 2
          }
         }
        },
        "title": {
         "text": "Franchise Comparison"
        },
        "xaxis": {
         "anchor": "y",
         "categoryorder": "total descending",
         "domain": [
          0,
          1
         ],
         "title": {}
        },
        "yaxis": {
         "anchor": "x",
         "domain": [
          0,
          1
         ],
         "title": {
          "text": "Predicted Points"
         },
         "visible": false
        }
       }
      }
     },
     "metadata": {},
     "output_type": "display_data"
    }
   ],
   "source": [
    "# Swap\n",
    "playerCC = 'Austin Ekeler'\n",
    "OPP = 'kevinbash'\n",
    "playerOPP = 'Amon-Ra St. Brown'\n",
    "swap = full.copy()\n",
    "swap.loc[swap['full_name']==playerCC, 'franchise_name'] = OPP\n",
    "swap.loc[swap['full_name']=='Sam LaPorta', 'franchise_name'] = 'Croccity Body Snatchers'\n",
    "swap.loc[swap['full_name']==playerOPP, 'franchise_name'] = 'Croccity Body Snatchers'\n",
    "\n",
    "# Choose a roster for each franchise based on their league's number of available slots\n",
    "optimized_swap = rosterOptimizer(swap)\n",
    "# Get relative points\n",
    "optimized_swap = getRelProjs(optimized_swap)\n",
    "# Sum points across the season\n",
    "optimized_swap = getSeasonTotals(optimized_swap)\n",
    "# Visualize\n",
    "fig = compareFranchises(optimized_swap, how='absolute')\n",
    "fig.show()"
   ]
  },
  {
   "cell_type": "code",
   "execution_count": 453,
   "metadata": {},
   "outputs": [
    {
     "data": {
      "text/html": [
       "<div>\n",
       "<style scoped>\n",
       "    .dataframe tbody tr th:only-of-type {\n",
       "        vertical-align: middle;\n",
       "    }\n",
       "\n",
       "    .dataframe tbody tr th {\n",
       "        vertical-align: top;\n",
       "    }\n",
       "\n",
       "    .dataframe thead th {\n",
       "        text-align: right;\n",
       "    }\n",
       "</style>\n",
       "<table border=\"1\" class=\"dataframe\">\n",
       "  <thead>\n",
       "    <tr style=\"text-align: right;\">\n",
       "      <th></th>\n",
       "      <th>player_id</th>\n",
       "      <th>full_name</th>\n",
       "      <th>birth_date</th>\n",
       "      <th>age</th>\n",
       "      <th>weight</th>\n",
       "      <th>height</th>\n",
       "      <th>team</th>\n",
       "      <th>position</th>\n",
       "      <th>fantasy_positions</th>\n",
       "      <th>depth_chart_order</th>\n",
       "      <th>...</th>\n",
       "      <th>KR</th>\n",
       "      <th>date_prediction</th>\n",
       "      <th>pts_proj</th>\n",
       "      <th>owner_id</th>\n",
       "      <th>taxi</th>\n",
       "      <th>starters</th>\n",
       "      <th>players</th>\n",
       "      <th>user_id</th>\n",
       "      <th>franchise_name</th>\n",
       "      <th>display_name</th>\n",
       "    </tr>\n",
       "  </thead>\n",
       "  <tbody>\n",
       "    <tr>\n",
       "      <th>406</th>\n",
       "      <td>8150</td>\n",
       "      <td>Kyren Williams</td>\n",
       "      <td>2000-08-26</td>\n",
       "      <td>23.0</td>\n",
       "      <td>194.0</td>\n",
       "      <td>69</td>\n",
       "      <td>LAR</td>\n",
       "      <td>RB</td>\n",
       "      <td>['RB']</td>\n",
       "      <td>1.0</td>\n",
       "      <td>...</td>\n",
       "      <td>NaN</td>\n",
       "      <td>20231126</td>\n",
       "      <td>10.435</td>\n",
       "      <td>725907041763303424</td>\n",
       "      <td>NaN</td>\n",
       "      <td>NaN</td>\n",
       "      <td>True</td>\n",
       "      <td>725907041763303424</td>\n",
       "      <td>Croccity Body Snatchers</td>\n",
       "      <td>dirtywizard</td>\n",
       "    </tr>\n",
       "    <tr>\n",
       "      <th>407</th>\n",
       "      <td>8150</td>\n",
       "      <td>Kyren Williams</td>\n",
       "      <td>2000-08-26</td>\n",
       "      <td>23.0</td>\n",
       "      <td>194.0</td>\n",
       "      <td>69</td>\n",
       "      <td>LAR</td>\n",
       "      <td>RB</td>\n",
       "      <td>['RB']</td>\n",
       "      <td>1.0</td>\n",
       "      <td>...</td>\n",
       "      <td>NaN</td>\n",
       "      <td>20231126</td>\n",
       "      <td>9.710</td>\n",
       "      <td>725907041763303424</td>\n",
       "      <td>NaN</td>\n",
       "      <td>NaN</td>\n",
       "      <td>True</td>\n",
       "      <td>725907041763303424</td>\n",
       "      <td>Croccity Body Snatchers</td>\n",
       "      <td>dirtywizard</td>\n",
       "    </tr>\n",
       "    <tr>\n",
       "      <th>408</th>\n",
       "      <td>8150</td>\n",
       "      <td>Kyren Williams</td>\n",
       "      <td>2000-08-26</td>\n",
       "      <td>23.0</td>\n",
       "      <td>194.0</td>\n",
       "      <td>69</td>\n",
       "      <td>LAR</td>\n",
       "      <td>RB</td>\n",
       "      <td>['RB']</td>\n",
       "      <td>1.0</td>\n",
       "      <td>...</td>\n",
       "      <td>NaN</td>\n",
       "      <td>20231126</td>\n",
       "      <td>10.690</td>\n",
       "      <td>725907041763303424</td>\n",
       "      <td>NaN</td>\n",
       "      <td>NaN</td>\n",
       "      <td>True</td>\n",
       "      <td>725907041763303424</td>\n",
       "      <td>Croccity Body Snatchers</td>\n",
       "      <td>dirtywizard</td>\n",
       "    </tr>\n",
       "  </tbody>\n",
       "</table>\n",
       "<p>3 rows × 64 columns</p>\n",
       "</div>"
      ],
      "text/plain": [
       "    player_id       full_name  birth_date   age  weight height team position  \\\n",
       "406      8150  Kyren Williams  2000-08-26  23.0   194.0     69  LAR       RB   \n",
       "407      8150  Kyren Williams  2000-08-26  23.0   194.0     69  LAR       RB   \n",
       "408      8150  Kyren Williams  2000-08-26  23.0   194.0     69  LAR       RB   \n",
       "\n",
       "    fantasy_positions  depth_chart_order  ...   KR date_prediction pts_proj  \\\n",
       "406            ['RB']                1.0  ...  NaN        20231126   10.435   \n",
       "407            ['RB']                1.0  ...  NaN        20231126    9.710   \n",
       "408            ['RB']                1.0  ...  NaN        20231126   10.690   \n",
       "\n",
       "               owner_id  taxi  starters  players             user_id  \\\n",
       "406  725907041763303424   NaN       NaN     True  725907041763303424   \n",
       "407  725907041763303424   NaN       NaN     True  725907041763303424   \n",
       "408  725907041763303424   NaN       NaN     True  725907041763303424   \n",
       "\n",
       "              franchise_name display_name  \n",
       "406  Croccity Body Snatchers  dirtywizard  \n",
       "407  Croccity Body Snatchers  dirtywizard  \n",
       "408  Croccity Body Snatchers  dirtywizard  \n",
       "\n",
       "[3 rows x 64 columns]"
      ]
     },
     "execution_count": 453,
     "metadata": {},
     "output_type": "execute_result"
    }
   ],
   "source": [
    "full.loc[full['full_name']=='Kyren Williams']"
   ]
  },
  {
   "cell_type": "code",
   "execution_count": 444,
   "metadata": {},
   "outputs": [
    {
     "data": {
      "text/html": [
       "<div>\n",
       "<style scoped>\n",
       "    .dataframe tbody tr th:only-of-type {\n",
       "        vertical-align: middle;\n",
       "    }\n",
       "\n",
       "    .dataframe tbody tr th {\n",
       "        vertical-align: top;\n",
       "    }\n",
       "\n",
       "    .dataframe thead th {\n",
       "        text-align: right;\n",
       "    }\n",
       "</style>\n",
       "<table border=\"1\" class=\"dataframe\">\n",
       "  <thead>\n",
       "    <tr style=\"text-align: right;\">\n",
       "      <th></th>\n",
       "      <th>franchise_name</th>\n",
       "      <th>pts_proj</th>\n",
       "    </tr>\n",
       "    <tr>\n",
       "      <th>full_name</th>\n",
       "      <th></th>\n",
       "      <th></th>\n",
       "    </tr>\n",
       "  </thead>\n",
       "  <tbody>\n",
       "    <tr>\n",
       "      <th>C.J. Stroud</th>\n",
       "      <td>Pretty Big Wieners</td>\n",
       "      <td>48.9900</td>\n",
       "    </tr>\n",
       "    <tr>\n",
       "      <th>A.J. Brown</th>\n",
       "      <td>Pretty Big Wieners</td>\n",
       "      <td>41.0900</td>\n",
       "    </tr>\n",
       "    <tr>\n",
       "      <th>Amon-Ra St. Brown</th>\n",
       "      <td>kevinbash</td>\n",
       "      <td>40.3850</td>\n",
       "    </tr>\n",
       "    <tr>\n",
       "      <th>Brandon Aiyuk</th>\n",
       "      <td>kevinbash</td>\n",
       "      <td>38.7850</td>\n",
       "    </tr>\n",
       "    <tr>\n",
       "      <th>Keenan Allen</th>\n",
       "      <td>Pretty Big Wieners</td>\n",
       "      <td>37.4700</td>\n",
       "    </tr>\n",
       "    <tr>\n",
       "      <th>James Cook</th>\n",
       "      <td>Pretty Big Wieners</td>\n",
       "      <td>35.4750</td>\n",
       "    </tr>\n",
       "    <tr>\n",
       "      <th>Justin Jefferson</th>\n",
       "      <td>Pretty Big Wieners</td>\n",
       "      <td>33.0150</td>\n",
       "    </tr>\n",
       "    <tr>\n",
       "      <th>Alexander Mattison</th>\n",
       "      <td>Pretty Big Wieners</td>\n",
       "      <td>30.7500</td>\n",
       "    </tr>\n",
       "    <tr>\n",
       "      <th>Mac Jones</th>\n",
       "      <td>Pretty Big Wieners</td>\n",
       "      <td>30.2500</td>\n",
       "    </tr>\n",
       "    <tr>\n",
       "      <th>Daniel Carlson</th>\n",
       "      <td>Pretty Big Wieners</td>\n",
       "      <td>29.8000</td>\n",
       "    </tr>\n",
       "    <tr>\n",
       "      <th>Cairo Santos</th>\n",
       "      <td>Pretty Big Wieners</td>\n",
       "      <td>24.7500</td>\n",
       "    </tr>\n",
       "    <tr>\n",
       "      <th>Sam LaPorta</th>\n",
       "      <td>kevinbash</td>\n",
       "      <td>24.6500</td>\n",
       "    </tr>\n",
       "    <tr>\n",
       "      <th>Tyjae Spears</th>\n",
       "      <td>Pretty Big Wieners</td>\n",
       "      <td>23.7350</td>\n",
       "    </tr>\n",
       "    <tr>\n",
       "      <th>PHI</th>\n",
       "      <td>Pretty Big Wieners</td>\n",
       "      <td>23.0269</td>\n",
       "    </tr>\n",
       "    <tr>\n",
       "      <th>Miles Sanders</th>\n",
       "      <td>Pretty Big Wieners</td>\n",
       "      <td>20.1550</td>\n",
       "    </tr>\n",
       "    <tr>\n",
       "      <th>D'Onta Foreman</th>\n",
       "      <td>Pretty Big Wieners</td>\n",
       "      <td>17.6100</td>\n",
       "    </tr>\n",
       "    <tr>\n",
       "      <th>Robert Woods</th>\n",
       "      <td>Pretty Big Wieners</td>\n",
       "      <td>17.4090</td>\n",
       "    </tr>\n",
       "    <tr>\n",
       "      <th>Khalil Shakir</th>\n",
       "      <td>Pretty Big Wieners</td>\n",
       "      <td>15.9500</td>\n",
       "    </tr>\n",
       "    <tr>\n",
       "      <th>Tyler Conklin</th>\n",
       "      <td>Pretty Big Wieners</td>\n",
       "      <td>14.1060</td>\n",
       "    </tr>\n",
       "    <tr>\n",
       "      <th>Chigoziem Okonkwo</th>\n",
       "      <td>Pretty Big Wieners</td>\n",
       "      <td>12.6850</td>\n",
       "    </tr>\n",
       "    <tr>\n",
       "      <th>Kadarius Toney</th>\n",
       "      <td>Pretty Big Wieners</td>\n",
       "      <td>9.2850</td>\n",
       "    </tr>\n",
       "    <tr>\n",
       "      <th>MIA</th>\n",
       "      <td>Pretty Big Wieners</td>\n",
       "      <td>7.9159</td>\n",
       "    </tr>\n",
       "    <tr>\n",
       "      <th>Mark Andrews</th>\n",
       "      <td>Pretty Big Wieners</td>\n",
       "      <td>7.1250</td>\n",
       "    </tr>\n",
       "    <tr>\n",
       "      <th>Adam Trautman</th>\n",
       "      <td>Pretty Big Wieners</td>\n",
       "      <td>6.9750</td>\n",
       "    </tr>\n",
       "    <tr>\n",
       "      <th>Donovan Peoples-Jones</th>\n",
       "      <td>Pretty Big Wieners</td>\n",
       "      <td>5.5100</td>\n",
       "    </tr>\n",
       "    <tr>\n",
       "      <th>Darnell Washington</th>\n",
       "      <td>Pretty Big Wieners</td>\n",
       "      <td>3.1500</td>\n",
       "    </tr>\n",
       "    <tr>\n",
       "      <th>CIN</th>\n",
       "      <td>Pretty Big Wieners</td>\n",
       "      <td>2.8946</td>\n",
       "    </tr>\n",
       "  </tbody>\n",
       "</table>\n",
       "</div>"
      ],
      "text/plain": [
       "                           franchise_name  pts_proj\n",
       "full_name                                          \n",
       "C.J. Stroud            Pretty Big Wieners   48.9900\n",
       "A.J. Brown             Pretty Big Wieners   41.0900\n",
       "Amon-Ra St. Brown               kevinbash   40.3850\n",
       "Brandon Aiyuk                   kevinbash   38.7850\n",
       "Keenan Allen           Pretty Big Wieners   37.4700\n",
       "James Cook             Pretty Big Wieners   35.4750\n",
       "Justin Jefferson       Pretty Big Wieners   33.0150\n",
       "Alexander Mattison     Pretty Big Wieners   30.7500\n",
       "Mac Jones              Pretty Big Wieners   30.2500\n",
       "Daniel Carlson         Pretty Big Wieners   29.8000\n",
       "Cairo Santos           Pretty Big Wieners   24.7500\n",
       "Sam LaPorta                     kevinbash   24.6500\n",
       "Tyjae Spears           Pretty Big Wieners   23.7350\n",
       "PHI                    Pretty Big Wieners   23.0269\n",
       "Miles Sanders          Pretty Big Wieners   20.1550\n",
       "D'Onta Foreman         Pretty Big Wieners   17.6100\n",
       "Robert Woods           Pretty Big Wieners   17.4090\n",
       "Khalil Shakir          Pretty Big Wieners   15.9500\n",
       "Tyler Conklin          Pretty Big Wieners   14.1060\n",
       "Chigoziem Okonkwo      Pretty Big Wieners   12.6850\n",
       "Kadarius Toney         Pretty Big Wieners    9.2850\n",
       "MIA                    Pretty Big Wieners    7.9159\n",
       "Mark Andrews           Pretty Big Wieners    7.1250\n",
       "Adam Trautman          Pretty Big Wieners    6.9750\n",
       "Donovan Peoples-Jones  Pretty Big Wieners    5.5100\n",
       "Darnell Washington     Pretty Big Wieners    3.1500\n",
       "CIN                    Pretty Big Wieners    2.8946"
      ]
     },
     "execution_count": 444,
     "metadata": {},
     "output_type": "execute_result"
    }
   ],
   "source": [
    "test = full.groupby(['full_name', 'franchise_name'])['pts_proj'].sum().reset_index()\n",
    "test = test.loc[(test['franchise_name'].isin(['Pretty Big Wieners'])) | (test['full_name'].isin(['A.J. Brown', 'Amon-Ra St. Brown', 'Brandon Aiyuk', 'Sam LaPorta']))]\n",
    "test = test[['full_name', 'franchise_name', 'pts_proj']].groupby('full_name').sum()\n",
    "test.sort_values('pts_proj', ascending=False)"
   ]
  },
  {
   "cell_type": "code",
   "execution_count": 443,
   "metadata": {},
   "outputs": [
    {
     "data": {
      "text/html": [
       "<div>\n",
       "<style scoped>\n",
       "    .dataframe tbody tr th:only-of-type {\n",
       "        vertical-align: middle;\n",
       "    }\n",
       "\n",
       "    .dataframe tbody tr th {\n",
       "        vertical-align: top;\n",
       "    }\n",
       "\n",
       "    .dataframe thead th {\n",
       "        text-align: right;\n",
       "    }\n",
       "</style>\n",
       "<table border=\"1\" class=\"dataframe\">\n",
       "  <thead>\n",
       "    <tr style=\"text-align: right;\">\n",
       "      <th></th>\n",
       "      <th>franchise_name</th>\n",
       "      <th>pts_proj</th>\n",
       "    </tr>\n",
       "    <tr>\n",
       "      <th>full_name</th>\n",
       "      <th></th>\n",
       "      <th></th>\n",
       "    </tr>\n",
       "  </thead>\n",
       "  <tbody>\n",
       "    <tr>\n",
       "      <th>Jalen Hurts</th>\n",
       "      <td>Croccity Body Snatchers</td>\n",
       "      <td>71.4100</td>\n",
       "    </tr>\n",
       "    <tr>\n",
       "      <th>Brock Purdy</th>\n",
       "      <td>Croccity Body Snatchers</td>\n",
       "      <td>54.0300</td>\n",
       "    </tr>\n",
       "    <tr>\n",
       "      <th>Austin Ekeler</th>\n",
       "      <td>Croccity Body Snatchers</td>\n",
       "      <td>51.7000</td>\n",
       "    </tr>\n",
       "    <tr>\n",
       "      <th>Kyler Murray</th>\n",
       "      <td>Croccity Body Snatchers</td>\n",
       "      <td>51.3800</td>\n",
       "    </tr>\n",
       "    <tr>\n",
       "      <th>Josh Jacobs</th>\n",
       "      <td>Croccity Body Snatchers</td>\n",
       "      <td>51.3050</td>\n",
       "    </tr>\n",
       "    <tr>\n",
       "      <th>A.J. Brown</th>\n",
       "      <td>Pretty Big Wieners</td>\n",
       "      <td>41.0900</td>\n",
       "    </tr>\n",
       "    <tr>\n",
       "      <th>Joe Mixon</th>\n",
       "      <td>Croccity Body Snatchers</td>\n",
       "      <td>41.0650</td>\n",
       "    </tr>\n",
       "    <tr>\n",
       "      <th>Amon-Ra St. Brown</th>\n",
       "      <td>kevinbash</td>\n",
       "      <td>40.3850</td>\n",
       "    </tr>\n",
       "    <tr>\n",
       "      <th>Brandon Aiyuk</th>\n",
       "      <td>kevinbash</td>\n",
       "      <td>38.7850</td>\n",
       "    </tr>\n",
       "    <tr>\n",
       "      <th>David Montgomery</th>\n",
       "      <td>Croccity Body Snatchers</td>\n",
       "      <td>38.0900</td>\n",
       "    </tr>\n",
       "    <tr>\n",
       "      <th>Tyler Lockett</th>\n",
       "      <td>Croccity Body Snatchers</td>\n",
       "      <td>32.7550</td>\n",
       "    </tr>\n",
       "    <tr>\n",
       "      <th>Dustin Hopkins</th>\n",
       "      <td>Croccity Body Snatchers</td>\n",
       "      <td>32.1500</td>\n",
       "    </tr>\n",
       "    <tr>\n",
       "      <th>Kyren Williams</th>\n",
       "      <td>Croccity Body Snatchers</td>\n",
       "      <td>30.8350</td>\n",
       "    </tr>\n",
       "    <tr>\n",
       "      <th>Greg Zuerlein</th>\n",
       "      <td>Croccity Body Snatchers</td>\n",
       "      <td>29.5000</td>\n",
       "    </tr>\n",
       "    <tr>\n",
       "      <th>Cameron Dicker</th>\n",
       "      <td>Croccity Body Snatchers</td>\n",
       "      <td>29.4000</td>\n",
       "    </tr>\n",
       "    <tr>\n",
       "      <th>Younghoe Koo</th>\n",
       "      <td>Croccity Body Snatchers</td>\n",
       "      <td>29.1500</td>\n",
       "    </tr>\n",
       "    <tr>\n",
       "      <th>Marquise Brown</th>\n",
       "      <td>Croccity Body Snatchers</td>\n",
       "      <td>25.7750</td>\n",
       "    </tr>\n",
       "    <tr>\n",
       "      <th>Rashee Rice</th>\n",
       "      <td>Croccity Body Snatchers</td>\n",
       "      <td>24.7950</td>\n",
       "    </tr>\n",
       "    <tr>\n",
       "      <th>Sam LaPorta</th>\n",
       "      <td>kevinbash</td>\n",
       "      <td>24.6500</td>\n",
       "    </tr>\n",
       "    <tr>\n",
       "      <th>Chris Godwin</th>\n",
       "      <td>Croccity Body Snatchers</td>\n",
       "      <td>21.7600</td>\n",
       "    </tr>\n",
       "    <tr>\n",
       "      <th>K.J. Osborn</th>\n",
       "      <td>Croccity Body Snatchers</td>\n",
       "      <td>19.4000</td>\n",
       "    </tr>\n",
       "    <tr>\n",
       "      <th>Joshua Palmer</th>\n",
       "      <td>Croccity Body Snatchers</td>\n",
       "      <td>16.2050</td>\n",
       "    </tr>\n",
       "    <tr>\n",
       "      <th>Tyler Higbee</th>\n",
       "      <td>Croccity Body Snatchers</td>\n",
       "      <td>14.7520</td>\n",
       "    </tr>\n",
       "    <tr>\n",
       "      <th>Allen Lazard</th>\n",
       "      <td>Croccity Body Snatchers</td>\n",
       "      <td>9.8610</td>\n",
       "    </tr>\n",
       "    <tr>\n",
       "      <th>SF</th>\n",
       "      <td>Croccity Body Snatchers</td>\n",
       "      <td>9.7985</td>\n",
       "    </tr>\n",
       "    <tr>\n",
       "      <th>Greg Dulcich</th>\n",
       "      <td>Croccity Body Snatchers</td>\n",
       "      <td>9.4250</td>\n",
       "    </tr>\n",
       "    <tr>\n",
       "      <th>Daniel Bellinger</th>\n",
       "      <td>Croccity Body Snatchers</td>\n",
       "      <td>5.9660</td>\n",
       "    </tr>\n",
       "    <tr>\n",
       "      <th>Connor Heyward</th>\n",
       "      <td>Croccity Body Snatchers</td>\n",
       "      <td>5.8850</td>\n",
       "    </tr>\n",
       "    <tr>\n",
       "      <th>WAS</th>\n",
       "      <td>Croccity Body Snatchers</td>\n",
       "      <td>3.1486</td>\n",
       "    </tr>\n",
       "    <tr>\n",
       "      <th>Zach Evans</th>\n",
       "      <td>Croccity Body Snatchers</td>\n",
       "      <td>0.0680</td>\n",
       "    </tr>\n",
       "    <tr>\n",
       "      <th>DEN</th>\n",
       "      <td>Croccity Body Snatchers</td>\n",
       "      <td>-7.2839</td>\n",
       "    </tr>\n",
       "  </tbody>\n",
       "</table>\n",
       "</div>"
      ],
      "text/plain": [
       "                            franchise_name  pts_proj\n",
       "full_name                                           \n",
       "Jalen Hurts        Croccity Body Snatchers   71.4100\n",
       "Brock Purdy        Croccity Body Snatchers   54.0300\n",
       "Austin Ekeler      Croccity Body Snatchers   51.7000\n",
       "Kyler Murray       Croccity Body Snatchers   51.3800\n",
       "Josh Jacobs        Croccity Body Snatchers   51.3050\n",
       "A.J. Brown              Pretty Big Wieners   41.0900\n",
       "Joe Mixon          Croccity Body Snatchers   41.0650\n",
       "Amon-Ra St. Brown                kevinbash   40.3850\n",
       "Brandon Aiyuk                    kevinbash   38.7850\n",
       "David Montgomery   Croccity Body Snatchers   38.0900\n",
       "Tyler Lockett      Croccity Body Snatchers   32.7550\n",
       "Dustin Hopkins     Croccity Body Snatchers   32.1500\n",
       "Kyren Williams     Croccity Body Snatchers   30.8350\n",
       "Greg Zuerlein      Croccity Body Snatchers   29.5000\n",
       "Cameron Dicker     Croccity Body Snatchers   29.4000\n",
       "Younghoe Koo       Croccity Body Snatchers   29.1500\n",
       "Marquise Brown     Croccity Body Snatchers   25.7750\n",
       "Rashee Rice        Croccity Body Snatchers   24.7950\n",
       "Sam LaPorta                      kevinbash   24.6500\n",
       "Chris Godwin       Croccity Body Snatchers   21.7600\n",
       "K.J. Osborn        Croccity Body Snatchers   19.4000\n",
       "Joshua Palmer      Croccity Body Snatchers   16.2050\n",
       "Tyler Higbee       Croccity Body Snatchers   14.7520\n",
       "Allen Lazard       Croccity Body Snatchers    9.8610\n",
       "SF                 Croccity Body Snatchers    9.7985\n",
       "Greg Dulcich       Croccity Body Snatchers    9.4250\n",
       "Daniel Bellinger   Croccity Body Snatchers    5.9660\n",
       "Connor Heyward     Croccity Body Snatchers    5.8850\n",
       "WAS                Croccity Body Snatchers    3.1486\n",
       "Zach Evans         Croccity Body Snatchers    0.0680\n",
       "DEN                Croccity Body Snatchers   -7.2839"
      ]
     },
     "execution_count": 443,
     "metadata": {},
     "output_type": "execute_result"
    }
   ],
   "source": [
    "test = full.groupby(['full_name', 'franchise_name'])['pts_proj'].sum().reset_index()\n",
    "test = test.loc[(test['franchise_name'].isin(['Croccity Body Snatchers'])) | (test['full_name'].isin(['A.J. Brown', 'Amon-Ra St. Brown', 'Brandon Aiyuk', 'Sam LaPorta']))]\n",
    "test = test[['full_name', 'franchise_name', 'pts_proj']].groupby('full_name').sum()\n",
    "test.sort_values('pts_proj', ascending=False)\n",
    "#  "
   ]
  },
  {
   "cell_type": "markdown",
   "metadata": {},
   "source": [
    "### Left Off Here:\n",
    "##### Build trade report\n",
    "##### Tailor scoring for user's unique league\n",
    "##### Need to figure out how to convert rosterList (number of position slots available) into relative values. Ideas:\n",
    " - Standard deviation / Zscore\n",
    " - Measure down from the top rather than up from the bottom, 1/(xMax-x)\n",
    " - hard-coded numbers of slots\n",
    " - percentage of overall points"
   ]
  },
  {
   "cell_type": "code",
   "execution_count": 240,
   "metadata": {},
   "outputs": [],
   "source": [
    "# floor_qb, floor_rb, floor_wr, floor_te, floor_pk, floor_def = findFloors(full)"
   ]
  },
  {
   "cell_type": "code",
   "execution_count": 241,
   "metadata": {},
   "outputs": [
    {
     "data": {
      "text/plain": [
       "['QB',\n",
       " 'RB',\n",
       " 'RB',\n",
       " 'WR',\n",
       " 'WR',\n",
       " 'WR',\n",
       " 'TE',\n",
       " 'TE',\n",
       " 'K',\n",
       " 'K',\n",
       " 'DEF',\n",
       " 'DEF',\n",
       " 'FLEX',\n",
       " 'FLEX',\n",
       " 'SUPER_FLEX',\n",
       " 'BN',\n",
       " 'BN',\n",
       " 'BN',\n",
       " 'BN',\n",
       " 'BN',\n",
       " 'BN',\n",
       " 'BN',\n",
       " 'BN']"
      ]
     },
     "execution_count": 241,
     "metadata": {},
     "output_type": "execute_result"
    }
   ],
   "source": [
    "rosterList"
   ]
  },
  {
   "cell_type": "code",
   "execution_count": 242,
   "metadata": {},
   "outputs": [],
   "source": [
    "countList = {'QB':2*12,\n",
    "    'RB':5*12,\n",
    "    'WR':6*12,\n",
    "    'TE':5*12,\n",
    "}\n",
    "\n",
    "countListPartial = {\n",
    "'QB':int(round(1.25*12, 0)),\n",
    "'RB':int(round(2.9*12, 0)),\n",
    "'WR':int(round(3.9*12, 0)),\n",
    "'TE':int(round(2.9*12, 0)),}"
   ]
  },
  {
   "cell_type": "code",
   "execution_count": 243,
   "metadata": {},
   "outputs": [
    {
     "data": {
      "text/plain": [
       "19975.5847"
      ]
     },
     "execution_count": 243,
     "metadata": {},
     "output_type": "execute_result"
    }
   ],
   "source": [
    "full['pts_proj'].sum()"
   ]
  },
  {
   "cell_type": "code",
   "execution_count": 244,
   "metadata": {},
   "outputs": [
    {
     "name": "stdout",
     "output_type": "stream",
     "text": [
      "QB Mean: 58.21\n",
      "QB Median: 57.09\n",
      "QB Spot #15: 105.91\n",
      "QB Spot #24: 83.23\n",
      "RB Mean: 47.99\n",
      "RB Median: 41.39\n",
      "RB Spot #35: 58.835\n",
      "RB Spot #60: 28.175\n",
      "WR Mean: 40.61\n",
      "WR Median: 34.03\n",
      "WR Spot #47: 52.285000000000004\n",
      "WR Spot #72: 34.592000000000006\n",
      "TE Mean: 22.68\n",
      "TE Median: 18.14\n",
      "TE Spot #35: 22.355\n",
      "TE Spot #60: 11.33\n"
     ]
    }
   ],
   "source": [
    "test = full.copy()\n",
    "test = getRelProjs(test)\n",
    "test = getSeasonTotals(test)\n",
    "test = test.sort_values(by='pts_proj', ignore_index=True, ascending=False)\n",
    "cond_pospts = test['pts_proj']>0\n",
    "\n",
    "for pos in ['QB', 'RB', 'WR', 'TE']:\n",
    "    print(f'{pos} Mean: ' + str(test.loc[(test['position']==pos) & cond_pospts]['pts_proj'].mean().round(2)))\n",
    "    print(f'{pos} Median: ' + str(test.loc[(test['position']==pos) & cond_pospts]['pts_proj'].median().round(2)))\n",
    "    print(f'{pos} Spot #{countListPartial[pos]}: ' + str(test.loc[(test['position']==pos) & cond_pospts].reset_index(drop=True).iloc[countListPartial[pos]]['pts_proj']))\n",
    "    print(f'{pos} Spot #{countList[pos]}: ' + str(test.loc[(test['position']==pos) & cond_pospts].reset_index(drop=True).iloc[countList[pos]]['pts_proj']))\n"
   ]
  },
  {
   "cell_type": "code",
   "execution_count": 245,
   "metadata": {},
   "outputs": [],
   "source": [
    "# for pos in ['QB', 'RB', 'WR', 'TE', 'PK', 'DEF']:\n",
    "    "
   ]
  },
  {
   "cell_type": "markdown",
   "metadata": {},
   "source": [
    "# Find trade targets"
   ]
  },
  {
   "cell_type": "code",
   "execution_count": 246,
   "metadata": {},
   "outputs": [],
   "source": [
    "# chop_df = full.copy()\n",
    "# # Type player's name to find their vitals\n",
    "# chop = 'Zay Jones'\n",
    "# # See how bold the user wants to be\n",
    "# multiplier_tradeup = 1.05\n",
    "# # Calc across season\n",
    "# # Get relative points\n",
    "# chop_df = getRelProjs(chop_df)\n",
    "# # Sum points across the season\n",
    "# #chop_df = getSeasonTotals(chop_df)\n",
    "# chop_df\n"
   ]
  },
  {
   "cell_type": "code",
   "execution_count": 247,
   "metadata": {},
   "outputs": [],
   "source": [
    "# # Find the player\n",
    "# chop_row = chop_df.loc[chop_df['full_name']==chop].head(1).reset_index().iloc[0]\n",
    "# #chop_id = chop_row['player_id']\n",
    "# chop_pos = chop_row['position']\n",
    "# chop_age = chop_row['age']\n",
    "# chop_rel = chop_row['val_proj']\n",
    "# # Select\n",
    "# #cond_id = chop_df['player_id']!=chop_id\n",
    "# cond_rel_min = chop_df['val_proj']>=chop_rel\n",
    "# cond_rel_max = chop_df['val_proj']<=chop_rel * multiplier_tradeup\n",
    "# cond_notfa = chop_df['franchise_name'].notna()\n",
    "# targs = chop_df.loc[cond_rel_min & cond_rel_max & cond_notfa]\n",
    "# targs"
   ]
  },
  {
   "cell_type": "markdown",
   "metadata": {},
   "source": [
    "# Write to CSV"
   ]
  },
  {
   "cell_type": "code",
   "execution_count": 248,
   "metadata": {},
   "outputs": [],
   "source": [
    "# sums.to_csv(f'processed_{date_string}.csv', index=False)\n",
    "waivers.to_csv(f'data_sharks/waivers.csv', index=False)"
   ]
  },
  {
   "cell_type": "code",
   "execution_count": 168,
   "metadata": {},
   "outputs": [],
   "source": [
    "# # Starter report\n",
    "# full.loc[full['starters']==True].groupby('franchise_name')['rel_pts'].sum().sort_values()"
   ]
  },
  {
   "cell_type": "code",
   "execution_count": 169,
   "metadata": {},
   "outputs": [
    {
     "data": {
      "text/plain": [
       "franchise_name\n",
       "Saskatoon Squatches         172.8338\n",
       "kevinbash                   155.9903\n",
       "2014champ                   150.3302\n",
       "Croccity Body Snatchers     140.0832\n",
       "Comeback 👑’s                129.0672\n",
       "Pretty Big Wieners          127.1324\n",
       "Verdanks Vacqueros FFC      123.7279\n",
       "DangeRUSS Last Ride         121.4686\n",
       "*New Name Pending*          120.0930\n",
       "GusTheBus                   108.7678\n",
       "Idk much about soccer        86.1842\n",
       "📜 Providence 🪬 Spirits 🥂     84.5920\n",
       "Name: pts_proj, dtype: float64"
      ]
     },
     "execution_count": 169,
     "metadata": {},
     "output_type": "execute_result"
    }
   ],
   "source": [
    "full.loc[full['starters']==True].groupby('franchise_name')['pts_proj'].sum().sort_values(ascending=False)"
   ]
  },
  {
   "cell_type": "code",
   "execution_count": 379,
   "metadata": {},
   "outputs": [
    {
     "data": {
      "text/plain": [
       "Index(['player_id', 'full_name', 'birth_date', 'age', 'weight', 'height',\n",
       "       'team', 'position', 'fantasy_positions', 'depth_chart_order',\n",
       "       'depth_chart_position', 'status', 'injury_status', 'injury_notes',\n",
       "       'injury_start_date', 'practice_participation', 'practice_description',\n",
       "       'years_exp', 'active', 'id_sharks', 'id_ourlads', 'week', 'Att', 'Comp',\n",
       "       'Pass Yds', 'Pass TDs', 'Int', 'Sck', 'Rush', 'Rsh Yds', 'Rsh TDs',\n",
       "       'Fum', 'Tgt', 'RZ Tgt', 'Rec', 'Rec Yds', 'Rec TDs', 'Kick Ret Yds',\n",
       "       'XPM', 'XPA', 'FGM', 'FGA', '10-19 FGM', '20-29 FGM', '30-39 FGM',\n",
       "       '40-49 FGM', '50+ FGM', 'Miss', 'Yds Allowed', 'Pts Agn', 'Scks',\n",
       "       'DefTD', 'Safts', 'PR', 'KR', 'date_prediction', 'pts_proj', 'owner_id',\n",
       "       'taxi', 'starters', 'players', 'user_id', 'franchise_name',\n",
       "       'display_name'],\n",
       "      dtype='object')"
      ]
     },
     "execution_count": 379,
     "metadata": {},
     "output_type": "execute_result"
    }
   ],
   "source": [
    "full.columns"
   ]
  },
  {
   "cell_type": "code",
   "execution_count": 403,
   "metadata": {},
   "outputs": [
    {
     "data": {
      "text/plain": [
       "full_name\n",
       "Jalen Hurts           23.4800\n",
       "Kyler Murray          18.7900\n",
       "Josh Jacobs           16.1950\n",
       "Austin Ekeler         15.6800\n",
       "A.J. Brown            15.0000\n",
       "David Montgomery      14.2200\n",
       "James Cook            14.1000\n",
       "Joe Mixon             13.9950\n",
       "Keenan Allen          12.5150\n",
       "Dustin Hopkins        11.7500\n",
       "Alexander Mattison    11.2150\n",
       "Mac Jones             11.1800\n",
       "Tyler Lockett         10.7600\n",
       "Justin Jefferson      10.4750\n",
       "Chris Godwin           9.9950\n",
       "Greg Zuerlein          9.7000\n",
       "Cairo Santos           9.0500\n",
       "Daniel Carlson         9.0000\n",
       "MIA                    8.4712\n",
       "Rashee Rice            8.3800\n",
       "D'Onta Foreman         8.1900\n",
       "Miles Sanders          7.5050\n",
       "Robert Woods           6.2280\n",
       "Tyler Conklin          4.8470\n",
       "Tyler Higbee           4.5100\n",
       "Daniel Bellinger       4.4900\n",
       "SF                     3.4448\n",
       "PHI                    2.1330\n",
       "Adam Trautman          1.9300\n",
       "DEN                   -0.5460\n",
       "Name: pts_proj, dtype: float64"
      ]
     },
     "execution_count": 403,
     "metadata": {},
     "output_type": "execute_result"
    }
   ],
   "source": [
    "test = optimized.loc[(optimized['franchise_name'].isin(['Croccity Body Snatchers', 'Pretty Big Wieners']))]\n",
    "test = test.groupby('full_name')['pts_proj'].sum()\n",
    "test.sort_values(ascending=False)"
   ]
  },
  {
   "cell_type": "code",
   "execution_count": null,
   "metadata": {},
   "outputs": [],
   "source": []
  }
 ],
 "metadata": {
  "kernelspec": {
   "display_name": "Python 3.11.4 ('fnfl2023')",
   "language": "python",
   "name": "python3"
  },
  "language_info": {
   "codemirror_mode": {
    "name": "ipython",
    "version": 3
   },
   "file_extension": ".py",
   "mimetype": "text/x-python",
   "name": "python",
   "nbconvert_exporter": "python",
   "pygments_lexer": "ipython3",
   "version": "3.11.4"
  },
  "orig_nbformat": 4,
  "vscode": {
   "interpreter": {
    "hash": "9d5343d8487a7ad33f7c6df21cec71a8cada15334439bd483feb9f981d44372f"
   }
  }
 },
 "nbformat": 4,
 "nbformat_minor": 2
}
