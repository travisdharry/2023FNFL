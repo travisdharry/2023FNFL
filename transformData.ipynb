{
 "cells": [
  {
   "cell_type": "markdown",
   "metadata": {},
   "source": [
    "# Config"
   ]
  },
  {
   "cell_type": "code",
   "execution_count": 1,
   "metadata": {},
   "outputs": [],
   "source": [
    "# Import dependencies\n",
    "import pandas as pd\n",
    "from datetime import datetime\n",
    "from sleeperpy import User, Leagues\n",
    "from ffpackage.viz import compareFranchises\n",
    "import plotly\n",
    "import plotly.express as px"
   ]
  },
  {
   "cell_type": "code",
   "execution_count": 2,
   "metadata": {},
   "outputs": [],
   "source": [
    "# Settings\n",
    "date_string = datetime.today().strftime('%Y%m%d')\n",
    "weekStart = 1\n",
    "weekEnd = 1\n",
    "def_starting_pts = 18\n",
    "pr_bonus = 1\n",
    "kr_bonus = 3\n",
    "username = 'dirtywizard'"
   ]
  },
  {
   "cell_type": "markdown",
   "metadata": {},
   "source": [
    "# Extract"
   ]
  },
  {
   "cell_type": "code",
   "execution_count": 3,
   "metadata": {},
   "outputs": [],
   "source": [
    "# Read database\n",
    "preds = pd.read_csv('db/records_preds.csv')\n",
    "preds = preds.loc[preds['date_prediction']==preds['date_prediction'].max()]\n",
    "preds = preds.loc[(preds['week']>=weekStart)&(preds['week']<=weekEnd)]\n",
    "mults = pd.read_csv('db/pts_multipliers.csv')\n",
    "rostLims = pd.read_csv('db/roster_limits.csv')"
   ]
  },
  {
   "cell_type": "code",
   "execution_count": 4,
   "metadata": {},
   "outputs": [],
   "source": [
    "def processRosters(league_id):\n",
    "    # Get rosters for all league members\n",
    "    rosters = pd.DataFrame(Leagues.get_rosters(league_id))\n",
    "    # Explode the player columns to find how they are placed on the roster\n",
    "    result = pd.DataFrame(columns=['owner_id', 'player_id'])\n",
    "    for col in ['taxi', 'starters', 'players']:\n",
    "        df = rosters[['owner_id', col]].explode(col)\n",
    "        df = df.rename(columns={col:'player_id'})\n",
    "        df[col] = True\n",
    "        result = result.merge(df, how='outer', on=['owner_id', 'player_id'])\n",
    "    return result"
   ]
  },
  {
   "cell_type": "code",
   "execution_count": 5,
   "metadata": {},
   "outputs": [],
   "source": [
    "def procesOwners(league_id):\n",
    "    owners = pd.DataFrame(Leagues.get_users(league_id))\n",
    "    list = []\n",
    "    for i in range(len(owners)):\n",
    "        if 'team_name' in owners['metadata'][i]:\n",
    "            list.append(owners['metadata'][i]['team_name'])\n",
    "        else:\n",
    "            list.append(owners['display_name'][i])\n",
    "    owners['franchise_name'] = list\n",
    "    owners = owners[['user_id', 'franchise_name', 'display_name']]\n",
    "    return owners"
   ]
  },
  {
   "cell_type": "code",
   "execution_count": 6,
   "metadata": {},
   "outputs": [],
   "source": [
    "# Get User's Sleeper ID\n",
    "user_id = User.get_user(username)['user_id']\n",
    "# Get the User's Sleeper league ID\n",
    "league_id = Leagues.get_all_leagues(user_id, 'nfl', 2023)[0]['league_id']\n",
    "# Get all players on rosters\n",
    "rosters = processRosters(league_id)\n",
    "# Get info on all owners\n",
    "owners = procesOwners(league_id)\n",
    "# Get roster positions \n",
    "rosterList = Leagues.get_league(league_id)['roster_positions']"
   ]
  },
  {
   "cell_type": "markdown",
   "metadata": {},
   "source": [
    "# Transform"
   ]
  },
  {
   "cell_type": "code",
   "execution_count": 7,
   "metadata": {},
   "outputs": [],
   "source": [
    "# Customize predictions for league\n",
    "# Calculate projected points according to that league's scoring settings\n",
    "# Multiply by points multiplier\n",
    "for col in mults.columns[1:]:\n",
    "    preds[col] = preds[col] * mults.loc[mults['username']==username, col][0]\n",
    "# Add up point columns\n",
    "preds['pts_proj'] = preds[mults.columns[1:]].sum(axis=1)\n",
    "# Add extras for defense starting values\n",
    "preds.loc[preds['Yds Allowed'].notna(), 'pts_proj'] = preds.loc[preds['Yds Allowed'].notna(), 'pts_proj'] + def_starting_pts\n",
    "# Add extras for Punt/kick returners\n",
    "preds.loc[preds['PR']==True, 'pts_proj'] = preds.loc[preds['PR']==True, 'pts_proj'] + (pr_bonus)\n",
    "preds.loc[preds['KR']==True, 'pts_proj'] = preds.loc[preds['KR']==True, 'pts_proj'] + (kr_bonus)\n",
    "\n",
    "# Merge in point projections with franchise data\n",
    "full = preds \\\n",
    "    .merge(rosters, how='left', on='player_id') \\\n",
    "    .merge(owners, how='left', left_on='owner_id', right_on='user_id')"
   ]
  },
  {
   "cell_type": "code",
   "execution_count": 8,
   "metadata": {},
   "outputs": [],
   "source": [
    "def getRelProjs(df):\n",
    "    # Calculate relative points for each position in each week\n",
    "    df['pts_proj'] = df['pts_proj'].fillna(0)\n",
    "    df = df.sort_values(by='pts_proj', ascending=False, ignore_index=True)\n",
    "    # Loop through weeks and positions\n",
    "    for week in df['week'].unique():\n",
    "        for pos in rostLims.columns[1:]:\n",
    "            # Find floor\n",
    "            cond1 = df['position']==pos\n",
    "            cond2 = df['week']==week\n",
    "            floor = df.loc[cond1&cond2, 'pts_proj'].reset_index(drop=True)[rostLims.loc[rostLims['username']==username, pos][0]]\n",
    "            # Find each player's points over floor\n",
    "            df.loc[cond1&cond2, 'rel_proj'] = df.loc[cond1&cond2, 'pts_proj'] - floor\n",
    "    return df"
   ]
  },
  {
   "cell_type": "code",
   "execution_count": 9,
   "metadata": {},
   "outputs": [],
   "source": [
    "def getRelProjs_optimized(df):\n",
    "    # Calculate relative points for each position in each week\n",
    "    df['pts_proj'] = df['pts_proj'].fillna(0)\n",
    "    df = df.sort_values(by='pts_proj', ascending=False, ignore_index=True)\n",
    "    # Loop through weeks and positions\n",
    "    for week in df['week'].unique():\n",
    "        for pos in df['position'].unique():\n",
    "            # Find floor\n",
    "            cond_pos = df['position']==pos\n",
    "            cond_week = df['week']==week\n",
    "            floor = df.loc[cond_pos&cond_week, 'pts_proj'].min()\n",
    "            # Find each player's points over floor\n",
    "            df.loc[cond_pos&cond_week, 'rel_proj'] = df.loc[cond_pos&cond_week, 'pts_proj'] - floor\n",
    "    return df"
   ]
  },
  {
   "cell_type": "code",
   "execution_count": 10,
   "metadata": {},
   "outputs": [],
   "source": [
    "def getSeasonTotals(df):\n",
    "    # Sum up pts_proj and rel_proj\n",
    "    totals_proj = df.groupby('player_id')['pts_proj'].sum().reset_index()\n",
    "    totals_rel = df.groupby('player_id')['rel_proj'].sum().reset_index()\n",
    "    # Merge in totals with player metadata\n",
    "    unis = df.drop_duplicates(subset='player_id', ignore_index=True).drop(columns=['pts_proj', 'rel_proj'])\n",
    "    df = unis.merge(totals_proj, how='left', on='player_id').merge(totals_rel, how='left', on='player_id')\n",
    "    return df"
   ]
  },
  {
   "cell_type": "code",
   "execution_count": 11,
   "metadata": {},
   "outputs": [],
   "source": [
    "def tidyUp(df):\n",
    "    # Tidy\n",
    "    df = df[[\n",
    "        'week', 'player_id', 'pts_proj', 'rel_proj', 'franchise_name', 'full_name', 'age', 'years_exp', 'weight',\n",
    "        'height', 'team', 'position', 'taxi', 'starters', 'players', 'fantasy_positions', 'depth_chart_order',\n",
    "        'depth_chart_position', 'status', 'injury_status', 'injury_notes',\n",
    "        'injury_start_date', 'practice_participation', 'practice_description','active'\n",
    "    ]]\n",
    "    return df"
   ]
  },
  {
   "cell_type": "markdown",
   "metadata": {},
   "source": [
    "# Waiver Report"
   ]
  },
  {
   "cell_type": "code",
   "execution_count": 12,
   "metadata": {},
   "outputs": [],
   "source": [
    "# Waiver report\n",
    "waivers = full.copy()\n",
    "# Calculate relative points for each position in each week\n",
    "waivers = getRelProjs(waivers)\n",
    "# Sum points across the season\n",
    "waivers = getSeasonTotals(waivers)\n",
    "# Filter for only players on user's roster or unclaimed and who would improve user's points\n",
    "minpts = waivers.loc[(waivers['display_name']==username)&(waivers['taxi'].isna())]['pts_proj'].min()\n",
    "cond_user = waivers['display_name']==username\n",
    "cond_fa = waivers['display_name'].isna()\n",
    "cond_minpts = waivers['pts_proj']>=minpts\n",
    "waivers = waivers.loc[(cond_user|cond_fa)&cond_minpts].reset_index(drop=True)\n",
    "# Tidy\n",
    "waivers = tidyUp(waivers)"
   ]
  },
  {
   "cell_type": "markdown",
   "metadata": {},
   "source": [
    "# Visualize Total Points"
   ]
  },
  {
   "cell_type": "code",
   "execution_count": 13,
   "metadata": {},
   "outputs": [
    {
     "data": {
      "application/vnd.plotly.v1+json": {
       "config": {
        "plotlyServerURL": "https://plot.ly"
       },
       "data": [
        {
         "alignmentgroup": "True",
         "customdata": [
          [
           24.84,
           "Jalen Hurts",
           "QB"
          ],
          [
           23.630000000000003,
           "Patrick Mahomes",
           "QB"
          ],
          [
           23.060000000000002,
           "Josh Allen",
           "QB"
          ],
          [
           19.980000000000004,
           "Lamar Jackson",
           "QB"
          ],
          [
           19.25,
           "Justin Fields",
           "QB"
          ],
          [
           18.479999999999997,
           "Kirk Cousins",
           "QB"
          ],
          [
           18.060000000000002,
           "Justin Herbert",
           "QB"
          ],
          [
           17.509999999999998,
           "Dak Prescott",
           "QB"
          ],
          [
           17.49,
           "Jimmy Garoppolo",
           "QB"
          ],
          [
           17.240000000000002,
           "Geno Smith",
           "QB"
          ],
          [
           16.9,
           "Joe Burrow",
           "QB"
          ],
          [
           16.490000000000002,
           "Tua Tagovailoa",
           "QB"
          ],
          [
           16.37,
           "Trevor Lawrence",
           "QB"
          ],
          [
           16.200000000000003,
           "Deshaun Watson",
           "QB"
          ],
          [
           15.969999999999999,
           "Jared Goff",
           "QB"
          ],
          [
           15.63,
           "Daniel Jones",
           "QB"
          ],
          [
           15.57,
           "Jordan Love",
           "QB"
          ],
          [
           14.93,
           "Matthew Stafford",
           "QB"
          ],
          [
           14.659999999999998,
           "Anthony Richardson",
           "QB"
          ],
          [
           14.52,
           "Desmond Ridder",
           "QB"
          ],
          [
           14.430000000000001,
           "Baker Mayfield",
           "QB"
          ],
          [
           14.410000000000002,
           "Russell Wilson",
           "QB"
          ],
          [
           14.18,
           "Brock Purdy",
           "QB"
          ],
          [
           13.46,
           "Derek Carr",
           "QB"
          ],
          [
           13.22,
           "Mac Jones",
           "QB"
          ],
          [
           12.780000000000001,
           "Kenny Pickett",
           "QB"
          ],
          [
           12.64,
           "Ryan Tannehill",
           "QB"
          ],
          [
           12.620000000000001,
           "Sam Howell",
           "QB"
          ],
          [
           12.209999999999999,
           "Aaron Rodgers",
           "QB"
          ],
          [
           12.02,
           "Bryce Young",
           "QB"
          ],
          [
           10.99,
           "C.J. Stroud",
           "QB"
          ],
          [
           9.69,
           "Joshua Dobbs",
           "QB"
          ],
          [
           5.46,
           "Tyler Huntley",
           "QB"
          ],
          [
           4.8500000000000005,
           "Davis Mills",
           "QB"
          ],
          [
           4.550000000000001,
           "Mitch Trubisky",
           "QB"
          ],
          [
           4.25,
           "Trey Lance",
           "QB"
          ],
          [
           3.2800000000000002,
           "Andy Dalton",
           "QB"
          ],
          [
           3.2300000000000004,
           "Marcus Mariota",
           "QB"
          ],
          [
           3.0200000000000005,
           "Teddy Bridgewater",
           "QB"
          ],
          [
           2.7600000000000007,
           "Zach Wilson",
           "QB"
          ],
          [
           2.76,
           "Taylor Heinicke",
           "QB"
          ],
          [
           2.41,
           "Jameis Winston",
           "QB"
          ],
          [
           1.6600000000000001,
           "Tyrod Taylor",
           "QB"
          ],
          [
           1.6400000000000001,
           "Nick Mullens",
           "QB"
          ],
          [
           1.53,
           "Mike White",
           "QB"
          ],
          [
           1.179,
           "Cooper Rush",
           "QB"
          ],
          [
           0.9700000000000002,
           "Jacoby Brissett",
           "QB"
          ],
          [
           0.9600000000000001,
           "Sam Darnold",
           "QB"
          ],
          [
           0.45999999999999996,
           "Sean Clifford",
           "QB"
          ],
          [
           0.37000000000000005,
           "Sam Ehlinger",
           "QB"
          ],
          [
           0.32,
           "Malik Willis",
           "QB"
          ],
          [
           0.31700000000000006,
           "Kyle Allen",
           "QB"
          ],
          [
           0.31,
           "Jarrett Stidham",
           "QB"
          ],
          [
           0.26,
           "Brian Hoyer",
           "QB"
          ],
          [
           0.2,
           "Kyle Trask",
           "QB"
          ],
          [
           0.194,
           "Blaine Gabbert",
           "QB"
          ],
          [
           0.17700000000000002,
           "Easton Stick",
           "QB"
          ],
          [
           0.16,
           "Gardner Minshew",
           "QB"
          ],
          [
           0.108,
           "Drew Lock",
           "QB"
          ],
          [
           0.104,
           "Mason Rudolph",
           "QB"
          ],
          [
           0.06099999999999997,
           "C.J. Beathard",
           "QB"
          ],
          [
           0.03,
           "Dorian Thompson-Robinson",
           "QB"
          ],
          [
           0.011000000000000005,
           "Jake Browning",
           "QB"
          ],
          [
           0.003000000000000001,
           "Brandon Allen",
           "QB"
          ],
          [
           0,
           "Case Keenum",
           "QB"
          ],
          [
           0,
           "Logan Woodside",
           "QB"
          ]
         ],
         "hovertemplate": "<b>%{hovertext}</b><br><br>Relative Value=%{y}<br>Predicted Points=%{customdata[0]}<extra></extra>",
         "hovertext": [
          "Jalen Hurts",
          "Patrick Mahomes",
          "Josh Allen",
          "Lamar Jackson",
          "Justin Fields",
          "Kirk Cousins",
          "Justin Herbert",
          "Dak Prescott",
          "Jimmy Garoppolo",
          "Geno Smith",
          "Joe Burrow",
          "Tua Tagovailoa",
          "Trevor Lawrence",
          "Deshaun Watson",
          "Jared Goff",
          "Daniel Jones",
          "Jordan Love",
          "Matthew Stafford",
          "Anthony Richardson",
          "Desmond Ridder",
          "Baker Mayfield",
          "Russell Wilson",
          "Brock Purdy",
          "Derek Carr",
          "Mac Jones",
          "Kenny Pickett",
          "Ryan Tannehill",
          "Sam Howell",
          "Aaron Rodgers",
          "Bryce Young",
          "C.J. Stroud",
          "Joshua Dobbs",
          "Tyler Huntley",
          "Davis Mills",
          "Mitch Trubisky",
          "Trey Lance",
          "Andy Dalton",
          "Marcus Mariota",
          "Teddy Bridgewater",
          "Zach Wilson",
          "Taylor Heinicke",
          "Jameis Winston",
          "Tyrod Taylor",
          "Nick Mullens",
          "Mike White",
          "Cooper Rush",
          "Jacoby Brissett",
          "Sam Darnold",
          "Sean Clifford",
          "Sam Ehlinger",
          "Malik Willis",
          "Kyle Allen",
          "Jarrett Stidham",
          "Brian Hoyer",
          "Kyle Trask",
          "Blaine Gabbert",
          "Easton Stick",
          "Gardner Minshew",
          "Drew Lock",
          "Mason Rudolph",
          "C.J. Beathard",
          "Dorian Thompson-Robinson",
          "Jake Browning",
          "Brandon Allen",
          "Case Keenum",
          "Logan Woodside"
         ],
         "legendgroup": "QB",
         "marker": {
          "color": "hsla(210, 60%, 25%, 1)",
          "pattern": {
           "shape": ""
          }
         },
         "name": "QB",
         "offsetgroup": "QB",
         "orientation": "v",
         "showlegend": true,
         "text": [
          "Jalen Hurts",
          "Patrick Mahomes",
          "Josh Allen",
          "Lamar Jackson",
          "Justin Fields",
          "Kirk Cousins",
          "Justin Herbert",
          "Dak Prescott",
          "Jimmy Garoppolo",
          "Geno Smith",
          "Joe Burrow",
          "Tua Tagovailoa",
          "Trevor Lawrence",
          "Deshaun Watson",
          "Jared Goff",
          "Daniel Jones",
          "Jordan Love",
          "Matthew Stafford",
          "Anthony Richardson",
          "Desmond Ridder",
          "Baker Mayfield",
          "Russell Wilson",
          "Brock Purdy",
          "Derek Carr",
          "Mac Jones",
          "Kenny Pickett",
          "Ryan Tannehill",
          "Sam Howell",
          "Aaron Rodgers",
          "Bryce Young",
          "C.J. Stroud",
          "Joshua Dobbs",
          "Tyler Huntley",
          "Davis Mills",
          "Mitch Trubisky",
          "Trey Lance",
          "Andy Dalton",
          "Marcus Mariota",
          "Teddy Bridgewater",
          "Zach Wilson",
          "Taylor Heinicke",
          "Jameis Winston",
          "Tyrod Taylor",
          "Nick Mullens",
          "Mike White",
          "Cooper Rush",
          "Jacoby Brissett",
          "Sam Darnold",
          "Sean Clifford",
          "Sam Ehlinger",
          "Malik Willis",
          "Kyle Allen",
          "Jarrett Stidham",
          "Brian Hoyer",
          "Kyle Trask",
          "Blaine Gabbert",
          "Easton Stick",
          "Gardner Minshew",
          "Drew Lock",
          "Mason Rudolph",
          "C.J. Beathard",
          "Dorian Thompson-Robinson",
          "Jake Browning",
          "Brandon Allen",
          "Case Keenum",
          "Logan Woodside"
         ],
         "textposition": "inside",
         "type": "bar",
         "x": [
          "Croccity Body Snatchers",
          "Saskatoon Squatches ",
          "Comeback 👑’s",
          "GusTheBus",
          "Idk much about soccer ",
          "2014champ",
          "kevinbash",
          "📜 Providence 🪬 Spirits 🥂",
          "Idk much about soccer ",
          "DangeRUSS Last Ride",
          "Verdanks Vacqueros FFC",
          "Verdanks Vacqueros FFC",
          "2014champ",
          "Pretty Big Wieners",
          "Verdanks Vacqueros FFC",
          "Comeback 👑’s",
          "📜 Providence 🪬 Spirits 🥂",
          "Comeback 👑’s",
          "kevinbash",
          "GusTheBus",
          "Count of Monte Christian",
          "DangeRUSS Last Ride",
          "Croccity Body Snatchers",
          "Count of Monte Christian",
          "Pretty Big Wieners",
          "GusTheBus",
          "kevinbash",
          "kevinbash",
          "Pretty Big Wieners",
          "Idk much about soccer ",
          "Pretty Big Wieners",
          "DangeRUSS Last Ride",
          null,
          null,
          null,
          "DangeRUSS Last Ride",
          null,
          null,
          null,
          "📜 Providence 🪬 Spirits 🥂",
          null,
          null,
          null,
          null,
          "2014champ",
          null,
          null,
          "Count of Monte Christian",
          null,
          null,
          null,
          null,
          null,
          null,
          null,
          null,
          null,
          null,
          null,
          null,
          null,
          "DangeRUSS Last Ride",
          null,
          null,
          null,
          null
         ],
         "xaxis": "x",
         "y": [
          11.62,
          10.410000000000002,
          9.840000000000002,
          6.760000000000003,
          6.029999999999999,
          5.259999999999996,
          4.840000000000002,
          4.289999999999997,
          4.269999999999998,
          4.020000000000001,
          3.679999999999998,
          3.2700000000000014,
          3.1500000000000004,
          2.980000000000002,
          2.7499999999999982,
          2.41,
          2.3499999999999996,
          1.709999999999999,
          1.4399999999999977,
          1.299999999999999,
          1.2100000000000009,
          1.1900000000000013,
          0.9599999999999991,
          0.2400000000000002,
          0,
          -0.4399999999999995,
          -0.5800000000000001,
          -0.5999999999999996,
          -1.0100000000000016,
          -1.200000000000001,
          -2.2300000000000004,
          -3.530000000000001,
          -7.760000000000001,
          -8.370000000000001,
          -8.67,
          -8.97,
          -9.940000000000001,
          -9.99,
          -10.2,
          -10.46,
          -10.46,
          -10.81,
          -11.56,
          -11.58,
          -11.690000000000001,
          -12.041,
          -12.25,
          -12.26,
          -12.760000000000002,
          -12.850000000000001,
          -12.9,
          -12.903,
          -12.91,
          -12.96,
          -13.020000000000001,
          -13.026,
          -13.043000000000001,
          -13.06,
          -13.112,
          -13.116000000000001,
          -13.159,
          -13.190000000000001,
          -13.209000000000001,
          -13.217,
          -13.22,
          -13.22
         ],
         "yaxis": "y"
        },
        {
         "alignmentgroup": "True",
         "customdata": [
          [
           19.56,
           "Christian McCaffrey",
           "RB"
          ],
          [
           17.9,
           "Derrick Henry",
           "RB"
          ],
          [
           17.575000000000003,
           "Nick Chubb",
           "RB"
          ],
          [
           16.919999999999998,
           "Josh Jacobs",
           "RB"
          ],
          [
           16.12,
           "Austin Ekeler",
           "RB"
          ],
          [
           15.825,
           "Rhamondre Stevenson",
           "RB"
          ],
          [
           15.75,
           "Antonio Gibson",
           "RB"
          ],
          [
           15.69,
           "Bijan Robinson",
           "RB"
          ],
          [
           15.524999999999999,
           "Travis Etienne",
           "RB"
          ],
          [
           15.34,
           "J.K. Dobbins",
           "RB"
          ],
          [
           15.16,
           "Saquon Barkley",
           "RB"
          ],
          [
           15.100000000000001,
           "Aaron Jones",
           "RB"
          ],
          [
           14.88,
           "Joe Mixon",
           "RB"
          ],
          [
           14.55,
           "Kenneth Walker",
           "RB"
          ],
          [
           13.93,
           "Tony Pollard",
           "RB"
          ],
          [
           13.774999999999999,
           "Alexander Mattison",
           "RB"
          ],
          [
           13.660000000000002,
           "Najee Harris",
           "RB"
          ],
          [
           13.66,
           "James Conner",
           "RB"
          ],
          [
           13.6,
           "Cam Akers",
           "RB"
          ],
          [
           13.040000000000001,
           "Brian Robinson",
           "RB"
          ],
          [
           12.855,
           "Isiah Pacheco",
           "RB"
          ],
          [
           12.805000000000003,
           "Khalil Herbert",
           "RB"
          ],
          [
           12.67,
           "Zamir White",
           "RB"
          ],
          [
           12.594999999999999,
           "AJ Dillon",
           "RB"
          ],
          [
           12.469999999999999,
           "Miles Sanders",
           "RB"
          ],
          [
           12.145000000000001,
           "Dameon Pierce",
           "RB"
          ],
          [
           12.115000000000002,
           "Raheem Mostert",
           "RB"
          ],
          [
           11.96,
           "David Montgomery",
           "RB"
          ],
          [
           11.775,
           "Jamaal Williams",
           "RB"
          ],
          [
           11.51,
           "Javonte Williams",
           "RB"
          ],
          [
           11.14,
           "Ezekiel Elliott",
           "RB"
          ],
          [
           10.965,
           "Rachaad White",
           "RB"
          ],
          [
           10.71,
           "D'Andre Swift",
           "RB"
          ],
          [
           10.514999999999999,
           "Cordarrelle Patterson",
           "RB"
          ],
          [
           10.325,
           "Breece Hall",
           "RB"
          ],
          [
           10.265,
           "Jahmyr Gibbs",
           "RB"
          ],
          [
           10.17,
           "James Cook",
           "RB"
          ],
          [
           9.68,
           "Zach Charbonnet",
           "RB"
          ],
          [
           9.565000000000001,
           "DeeJay Dallas",
           "RB"
          ],
          [
           9.435000000000002,
           "Rico Dowdle",
           "RB"
          ],
          [
           9.225000000000001,
           "Jerick McKinnon",
           "RB"
          ],
          [
           9.115000000000002,
           "Elijah Mitchell",
           "RB"
          ],
          [
           9,
           "Dalvin Cook",
           "RB"
          ],
          [
           8.695,
           "Boston Scott",
           "RB"
          ],
          [
           8.595,
           "Kenneth Gainwell",
           "RB"
          ],
          [
           8.54,
           "Tyler Allgeier",
           "RB"
          ],
          [
           8.535,
           "Raheem Blackshear",
           "RB"
          ],
          [
           8.280000000000001,
           "Jerome Ford",
           "RB"
          ],
          [
           8.190000000000001,
           "Damien Harris",
           "RB"
          ],
          [
           8.08,
           "Zack Moss",
           "RB"
          ],
          [
           7.945,
           "D'Onta Foreman",
           "RB"
          ],
          [
           7.8950000000000005,
           "Chuba Hubbard",
           "RB"
          ],
          [
           6.8500000000000005,
           "Ty Chandler",
           "RB"
          ],
          [
           6.6850000000000005,
           "Devin Singletary",
           "RB"
          ],
          [
           6.605,
           "Chase Edmonds",
           "RB"
          ],
          [
           6.005000000000001,
           "Samaje Perine",
           "RB"
          ],
          [
           5.92,
           "Kyren Williams",
           "RB"
          ],
          [
           5.6850000000000005,
           "Latavius Murray",
           "RB"
          ],
          [
           5.683,
           "Chris Evans",
           "RB"
          ],
          [
           5.485000000000001,
           "Gus Edwards",
           "RB"
          ],
          [
           5.335000000000001,
           "Michael Carter",
           "RB"
          ],
          [
           4.9,
           "Anthony McFarland",
           "RB"
          ],
          [
           4.735,
           "Ameer Abdullah",
           "RB"
          ],
          [
           4.718,
           "Eric Gray",
           "RB"
          ],
          [
           4.710000000000001,
           "Clyde Edwards-Helaire",
           "RB"
          ],
          [
           4.460000000000001,
           "Trayveon Williams",
           "RB"
          ],
          [
           4.41,
           "Jaylen Warren",
           "RB"
          ],
          [
           4.215000000000001,
           "Tyjae Spears",
           "RB"
          ],
          [
           4.02,
           "Deon Jackson",
           "RB"
          ],
          [
           3.9200000000000004,
           "Joshua Kelley",
           "RB"
          ],
          [
           3.9050000000000002,
           "JaMycal Hasty",
           "RB"
          ],
          [
           3.8649999999999998,
           "Justice Hill",
           "RB"
          ],
          [
           3.5500000000000007,
           "Pierre Strong",
           "RB"
          ],
          [
           3.4250000000000003,
           "Matt Breida",
           "RB"
          ],
          [
           3.41,
           "Mike Boone",
           "RB"
          ],
          [
           3.405,
           "Julius Chestnut",
           "RB"
          ],
          [
           3.1950000000000003,
           "Dare Ogunbowale",
           "RB"
          ],
          [
           3.0300000000000002,
           "Gary Brightwell",
           "RB"
          ],
          [
           2.8700000000000006,
           "Ke'Shawn Vaughn",
           "RB"
          ],
          [
           2.8600000000000003,
           "Brandon Johnson",
           "RB"
          ],
          [
           2.8400000000000003,
           "Tank Bigsby",
           "RB"
          ],
          [
           2.715,
           "Keaontay Ingram",
           "RB"
          ],
          [
           2.6574999999999998,
           "Roschon Johnson",
           "RB"
          ],
          [
           2.62,
           "Jordan Mason",
           "RB"
          ],
          [
           2.58,
           "Rashaad Penny",
           "RB"
          ],
          [
           2.5150000000000006,
           "Reggie Gilliam",
           "RB"
          ],
          [
           2.3449999999999998,
           "Chris Rodriguez",
           "RB"
          ],
          [
           2.3200000000000003,
           "Ty Montgomery",
           "RB"
          ],
          [
           2.3150000000000004,
           "Chase Brown",
           "RB"
          ],
          [
           2.225,
           "Brandon Bolden",
           "RB"
          ],
          [
           2.0650000000000004,
           "Salvon Ahmed",
           "RB"
          ],
          [
           1.9899999999999998,
           "Kendre Miller",
           "RB"
          ],
          [
           1.6600000000000001,
           "Deuce Vaughn",
           "RB"
          ],
          [
           1.5150000000000001,
           "Travis Homer",
           "RB"
          ],
          [
           1.3925,
           "Emanuel Wilson",
           "RB"
          ],
          [
           1.1600000000000001,
           "Isaiah Spiller",
           "RB"
          ],
          [
           1.075,
           "Tyrion Davis-Price",
           "RB"
          ],
          [
           0.9750000000000001,
           "Zach Evans",
           "RB"
          ],
          [
           0.72,
           "Jaleel McLaughlin",
           "RB"
          ],
          [
           0.48750000000000004,
           "Emari Demercado",
           "RB"
          ],
          [
           0.385,
           "Evan Hull",
           "RB"
          ],
          [
           0.33000000000000007,
           "D'Ernest Johnson",
           "RB"
          ],
          [
           0.29000000000000004,
           "Ronnie Rivers",
           "RB"
          ],
          [
           0.14,
           "Elijah Dotson",
           "RB"
          ],
          [
           0.138,
           "Andrew Beck",
           "RB"
          ],
          [
           0.136,
           "Sean Tucker",
           "RB"
          ]
         ],
         "hovertemplate": "<b>%{hovertext}</b><br><br>Relative Value=%{y}<br>Predicted Points=%{customdata[0]}<extra></extra>",
         "hovertext": [
          "Christian McCaffrey",
          "Derrick Henry",
          "Nick Chubb",
          "Josh Jacobs",
          "Austin Ekeler",
          "Rhamondre Stevenson",
          "Antonio Gibson",
          "Bijan Robinson",
          "Travis Etienne",
          "J.K. Dobbins",
          "Saquon Barkley",
          "Aaron Jones",
          "Joe Mixon",
          "Kenneth Walker",
          "Tony Pollard",
          "Alexander Mattison",
          "Najee Harris",
          "James Conner",
          "Cam Akers",
          "Brian Robinson",
          "Isiah Pacheco",
          "Khalil Herbert",
          "Zamir White",
          "AJ Dillon",
          "Miles Sanders",
          "Dameon Pierce",
          "Raheem Mostert",
          "David Montgomery",
          "Jamaal Williams",
          "Javonte Williams",
          "Ezekiel Elliott",
          "Rachaad White",
          "D'Andre Swift",
          "Cordarrelle Patterson",
          "Breece Hall",
          "Jahmyr Gibbs",
          "James Cook",
          "Zach Charbonnet",
          "DeeJay Dallas",
          "Rico Dowdle",
          "Jerick McKinnon",
          "Elijah Mitchell",
          "Dalvin Cook",
          "Boston Scott",
          "Kenneth Gainwell",
          "Tyler Allgeier",
          "Raheem Blackshear",
          "Jerome Ford",
          "Damien Harris",
          "Zack Moss",
          "D'Onta Foreman",
          "Chuba Hubbard",
          "Ty Chandler",
          "Devin Singletary",
          "Chase Edmonds",
          "Samaje Perine",
          "Kyren Williams",
          "Latavius Murray",
          "Chris Evans",
          "Gus Edwards",
          "Michael Carter",
          "Anthony McFarland",
          "Ameer Abdullah",
          "Eric Gray",
          "Clyde Edwards-Helaire",
          "Trayveon Williams",
          "Jaylen Warren",
          "Tyjae Spears",
          "Deon Jackson",
          "Joshua Kelley",
          "JaMycal Hasty",
          "Justice Hill",
          "Pierre Strong",
          "Matt Breida",
          "Mike Boone",
          "Julius Chestnut",
          "Dare Ogunbowale",
          "Gary Brightwell",
          "Ke'Shawn Vaughn",
          "Brandon Johnson",
          "Tank Bigsby",
          "Keaontay Ingram",
          "Roschon Johnson",
          "Jordan Mason",
          "Rashaad Penny",
          "Reggie Gilliam",
          "Chris Rodriguez",
          "Ty Montgomery",
          "Chase Brown",
          "Brandon Bolden",
          "Salvon Ahmed",
          "Kendre Miller",
          "Deuce Vaughn",
          "Travis Homer",
          "Emanuel Wilson",
          "Isaiah Spiller",
          "Tyrion Davis-Price",
          "Zach Evans",
          "Jaleel McLaughlin",
          "Emari Demercado",
          "Evan Hull",
          "D'Ernest Johnson",
          "Ronnie Rivers",
          "Elijah Dotson",
          "Andrew Beck",
          "Sean Tucker"
         ],
         "legendgroup": "RB",
         "marker": {
          "color": "hsla(12, 50%, 45%, 1)",
          "pattern": {
           "shape": ""
          }
         },
         "name": "RB",
         "offsetgroup": "RB",
         "orientation": "v",
         "showlegend": true,
         "text": [
          "Christian McCaffrey",
          "Derrick Henry",
          "Nick Chubb",
          "Josh Jacobs",
          "Austin Ekeler",
          "Rhamondre Stevenson",
          "Antonio Gibson",
          "Bijan Robinson",
          "Travis Etienne",
          "J.K. Dobbins",
          "Saquon Barkley",
          "Aaron Jones",
          "Joe Mixon",
          "Kenneth Walker",
          "Tony Pollard",
          "Alexander Mattison",
          "Najee Harris",
          "James Conner",
          "Cam Akers",
          "Brian Robinson",
          "Isiah Pacheco",
          "Khalil Herbert",
          "Zamir White",
          "AJ Dillon",
          "Miles Sanders",
          "Dameon Pierce",
          "Raheem Mostert",
          "David Montgomery",
          "Jamaal Williams",
          "Javonte Williams",
          "Ezekiel Elliott",
          "Rachaad White",
          "D'Andre Swift",
          "Cordarrelle Patterson",
          "Breece Hall",
          "Jahmyr Gibbs",
          "James Cook",
          "Zach Charbonnet",
          "DeeJay Dallas",
          "Rico Dowdle",
          "Jerick McKinnon",
          "Elijah Mitchell",
          "Dalvin Cook",
          "Boston Scott",
          "Kenneth Gainwell",
          "Tyler Allgeier",
          "Raheem Blackshear",
          "Jerome Ford",
          "Damien Harris",
          "Zack Moss",
          "D'Onta Foreman",
          "Chuba Hubbard",
          "Ty Chandler",
          "Devin Singletary",
          "Chase Edmonds",
          "Samaje Perine",
          "Kyren Williams",
          "Latavius Murray",
          "Chris Evans",
          "Gus Edwards",
          "Michael Carter",
          "Anthony McFarland",
          "Ameer Abdullah",
          "Eric Gray",
          "Clyde Edwards-Helaire",
          "Trayveon Williams",
          "Jaylen Warren",
          "Tyjae Spears",
          "Deon Jackson",
          "Joshua Kelley",
          "JaMycal Hasty",
          "Justice Hill",
          "Pierre Strong",
          "Matt Breida",
          "Mike Boone",
          "Julius Chestnut",
          "Dare Ogunbowale",
          "Gary Brightwell",
          "Ke'Shawn Vaughn",
          "Brandon Johnson",
          "Tank Bigsby",
          "Keaontay Ingram",
          "Roschon Johnson",
          "Jordan Mason",
          "Rashaad Penny",
          "Reggie Gilliam",
          "Chris Rodriguez",
          "Ty Montgomery",
          "Chase Brown",
          "Brandon Bolden",
          "Salvon Ahmed",
          "Kendre Miller",
          "Deuce Vaughn",
          "Travis Homer",
          "Emanuel Wilson",
          "Isaiah Spiller",
          "Tyrion Davis-Price",
          "Zach Evans",
          "Jaleel McLaughlin",
          "Emari Demercado",
          "Evan Hull",
          "D'Ernest Johnson",
          "Ronnie Rivers",
          "Elijah Dotson",
          "Andrew Beck",
          "Sean Tucker"
         ],
         "textposition": "inside",
         "type": "bar",
         "x": [
          "DangeRUSS Last Ride",
          "DangeRUSS Last Ride",
          "kevinbash",
          "Croccity Body Snatchers",
          "Croccity Body Snatchers",
          "Saskatoon Squatches ",
          "Count of Monte Christian",
          "2014champ",
          "Verdanks Vacqueros FFC",
          "Pretty Big Wieners",
          "Saskatoon Squatches ",
          "kevinbash",
          "Croccity Body Snatchers",
          "Verdanks Vacqueros FFC",
          "Saskatoon Squatches ",
          "Pretty Big Wieners",
          "2014champ",
          "DangeRUSS Last Ride",
          "GusTheBus",
          "Idk much about soccer ",
          "Saskatoon Squatches ",
          "GusTheBus",
          "kevinbash",
          "📜 Providence 🪬 Spirits 🥂",
          "Pretty Big Wieners",
          "GusTheBus",
          "2014champ",
          "Croccity Body Snatchers",
          "Comeback 👑’s",
          "Saskatoon Squatches ",
          "Verdanks Vacqueros FFC",
          "📜 Providence 🪬 Spirits 🥂",
          "📜 Providence 🪬 Spirits 🥂",
          null,
          "Comeback 👑’s",
          "📜 Providence 🪬 Spirits 🥂",
          "Pretty Big Wieners",
          "Idk much about soccer ",
          null,
          "📜 Providence 🪬 Spirits 🥂",
          "DangeRUSS Last Ride",
          "Verdanks Vacqueros FFC",
          "GusTheBus",
          null,
          "Count of Monte Christian",
          "DangeRUSS Last Ride",
          null,
          "Comeback 👑’s",
          "2014champ",
          "Verdanks Vacqueros FFC",
          null,
          null,
          "kevinbash",
          "Verdanks Vacqueros FFC",
          "kevinbash",
          "GusTheBus",
          "Croccity Body Snatchers",
          null,
          null,
          "Comeback 👑’s",
          null,
          null,
          null,
          "Comeback 👑’s",
          "Comeback 👑’s",
          null,
          "Saskatoon Squatches ",
          "Pretty Big Wieners",
          "2014champ",
          null,
          null,
          null,
          null,
          "Count of Monte Christian",
          null,
          null,
          null,
          null,
          null,
          null,
          "Comeback 👑’s",
          "2014champ",
          "📜 Providence 🪬 Spirits 🥂",
          null,
          "GusTheBus",
          null,
          "GusTheBus",
          null,
          "Idk much about soccer ",
          null,
          null,
          "Count of Monte Christian",
          "DangeRUSS Last Ride",
          null,
          null,
          "Comeback 👑’s",
          "Idk much about soccer ",
          null,
          "Comeback 👑’s",
          null,
          "Pretty Big Wieners",
          null,
          null,
          null,
          null,
          "📜 Providence 🪬 Spirits 🥂"
         ],
         "xaxis": "x",
         "y": [
          11.369999999999997,
          9.709999999999997,
          9.385000000000002,
          8.729999999999997,
          7.93,
          7.634999999999998,
          7.559999999999999,
          7.499999999999998,
          7.334999999999997,
          7.149999999999999,
          6.969999999999999,
          6.91,
          6.6899999999999995,
          6.359999999999999,
          5.739999999999998,
          5.584999999999997,
          5.470000000000001,
          5.469999999999999,
          5.409999999999998,
          4.85,
          4.664999999999999,
          4.615000000000002,
          4.479999999999999,
          4.404999999999998,
          4.279999999999998,
          3.955,
          3.9250000000000007,
          3.7699999999999996,
          3.584999999999999,
          3.3199999999999985,
          2.9499999999999993,
          2.7749999999999986,
          2.5199999999999996,
          2.3249999999999975,
          2.134999999999998,
          2.0749999999999993,
          1.9799999999999986,
          1.4899999999999984,
          1.375,
          1.245000000000001,
          1.0350000000000001,
          0.9250000000000007,
          0.8099999999999987,
          0.504999999999999,
          0.40499999999999936,
          0.34999999999999787,
          0.34499999999999886,
          0.08999999999999986,
          0,
          -0.11000000000000121,
          -0.245000000000001,
          -0.2950000000000008,
          -1.3400000000000007,
          -1.5050000000000008,
          -1.5850000000000009,
          -2.1850000000000005,
          -2.2700000000000014,
          -2.505000000000001,
          -2.5070000000000014,
          -2.705,
          -2.8550000000000004,
          -3.290000000000001,
          -3.455000000000001,
          -3.4720000000000013,
          -3.4800000000000004,
          -3.7300000000000004,
          -3.780000000000001,
          -3.9750000000000005,
          -4.170000000000002,
          -4.270000000000001,
          -4.285000000000001,
          -4.325000000000001,
          -4.640000000000001,
          -4.765000000000001,
          -4.780000000000001,
          -4.785000000000002,
          -4.995000000000001,
          -5.160000000000001,
          -5.32,
          -5.330000000000001,
          -5.350000000000001,
          -5.475000000000001,
          -5.5325000000000015,
          -5.570000000000001,
          -5.610000000000001,
          -5.675000000000001,
          -5.8450000000000015,
          -5.870000000000001,
          -5.875000000000001,
          -5.965000000000002,
          -6.125000000000001,
          -6.200000000000001,
          -6.530000000000001,
          -6.675000000000001,
          -6.797500000000001,
          -7.030000000000001,
          -7.115000000000001,
          -7.215000000000002,
          -7.4700000000000015,
          -7.7025000000000015,
          -7.8050000000000015,
          -7.860000000000001,
          -7.900000000000001,
          -8.05,
          -8.052000000000001,
          -8.054000000000002
         ],
         "yaxis": "y"
        },
        {
         "alignmentgroup": "True",
         "customdata": [
          [
           15.840000000000002,
           "Justin Jefferson",
           "WR"
          ],
          [
           14.055000000000003,
           "Tyreek Hill",
           "WR"
          ],
          [
           13.719999999999999,
           "Ja'Marr Chase",
           "WR"
          ],
          [
           13.187999999999999,
           "Davante Adams",
           "WR"
          ],
          [
           13.16,
           "A.J. Brown",
           "WR"
          ],
          [
           13.125,
           "CeeDee Lamb",
           "WR"
          ],
          [
           12.344999999999999,
           "Keenan Allen",
           "WR"
          ],
          [
           12.287999999999998,
           "Stefon Diggs",
           "WR"
          ],
          [
           12.095,
           "Jaylen Waddle",
           "WR"
          ],
          [
           11.56,
           "Romeo Doubs",
           "WR"
          ],
          [
           11.36,
           "DeAndre Hopkins",
           "WR"
          ],
          [
           11.354000000000003,
           "Chris Olave",
           "WR"
          ],
          [
           11.330000000000002,
           "Amon-Ra St. Brown",
           "WR"
          ],
          [
           11.297999999999998,
           "Amari Cooper",
           "WR"
          ],
          [
           11.25,
           "Tee Higgins",
           "WR"
          ],
          [
           11.173,
           "DeVonta Smith",
           "WR"
          ],
          [
           11.1,
           "Garrett Wilson",
           "WR"
          ],
          [
           10.995000000000001,
           "Kalif Raymond",
           "WR"
          ],
          [
           10.979999999999999,
           "DK Metcalf",
           "WR"
          ],
          [
           10.85,
           "Deebo Samuel",
           "WR"
          ],
          [
           10.83,
           "Mike Evans",
           "WR"
          ],
          [
           10.585,
           "Devin Duvernay",
           "WR"
          ],
          [
           10.540000000000001,
           "Tyler Lockett",
           "WR"
          ],
          [
           10.495000000000001,
           "Jamal Agnew",
           "WR"
          ],
          [
           10.445000000000002,
           "Christian Kirk",
           "WR"
          ],
          [
           10.31,
           "Chris Godwin",
           "WR"
          ],
          [
           10.184999999999999,
           "Rashid Shaheed",
           "WR"
          ],
          [
           10.135,
           "Marquez Valdes-Scantling",
           "WR"
          ],
          [
           10.035,
           "Drake London",
           "WR"
          ],
          [
           10.025,
           "Marquise Brown",
           "WR"
          ],
          [
           10.024999999999999,
           "Mike Williams",
           "WR"
          ],
          [
           9.760000000000002,
           "Jahan Dotson",
           "WR"
          ],
          [
           9.75,
           "DJ Moore",
           "WR"
          ],
          [
           9.625,
           "Jordan Addison",
           "WR"
          ],
          [
           9.425,
           "Braxton Berrios",
           "WR"
          ],
          [
           9.42,
           "Michael Pittman",
           "WR"
          ],
          [
           9.225,
           "Terry McLaurin",
           "WR"
          ],
          [
           9.165000000000001,
           "Greg Dortch",
           "WR"
          ],
          [
           9.075000000000001,
           "Calvin Ridley",
           "WR"
          ],
          [
           8.975000000000001,
           "Diontae Johnson",
           "WR"
          ],
          [
           8.925,
           "Nico Collins",
           "WR"
          ],
          [
           8.915,
           "George Pickens",
           "WR"
          ],
          [
           8.775,
           "Richie James",
           "WR"
          ],
          [
           8.700000000000001,
           "Jerry Jeudy",
           "WR"
          ],
          [
           8.521,
           "JuJu Smith-Schuster",
           "WR"
          ],
          [
           8.5,
           "Jaxon Smith-Njigba",
           "WR"
          ],
          [
           8.45,
           "Courtland Sutton",
           "WR"
          ],
          [
           8.085,
           "Zay Jones",
           "WR"
          ],
          [
           7.765000000000001,
           "Mecole Hardman",
           "WR"
          ],
          [
           7.75,
           "Rashod Bateman",
           "WR"
          ],
          [
           7.720000000000001,
           "Brandon Aiyuk",
           "WR"
          ],
          [
           7.6450000000000005,
           "Donovan Peoples-Jones",
           "WR"
          ],
          [
           7.625,
           "DeAndre Carter",
           "WR"
          ],
          [
           7.6,
           "Jakobi Meyers",
           "WR"
          ],
          [
           7.505000000000001,
           "Rondale Moore",
           "WR"
          ],
          [
           7.385000000000001,
           "Velus Jones",
           "WR"
          ],
          [
           7.375000000000001,
           "K.J. Osborn",
           "WR"
          ],
          [
           7.325000000000001,
           "Van Jefferson",
           "WR"
          ],
          [
           7.235,
           "Gabe Davis",
           "WR"
          ],
          [
           7.225,
           "Deven Thompkins",
           "WR"
          ],
          [
           7.2,
           "Derius Davis",
           "WR"
          ],
          [
           7.15,
           "Wan'Dale Robinson",
           "WR"
          ],
          [
           6.925,
           "DeVante Parker",
           "WR"
          ],
          [
           6.8950000000000005,
           "Michael Thomas",
           "WR"
          ],
          [
           6.890000000000001,
           "Darius Slayton",
           "WR"
          ],
          [
           6.625,
           "KaVontae Turpin",
           "WR"
          ],
          [
           6.575000000000001,
           "Darnell Mooney",
           "WR"
          ],
          [
           6.450000000000001,
           "Parris Campbell",
           "WR"
          ],
          [
           6.421000000000001,
           "Allen Lazard",
           "WR"
          ],
          [
           6.335,
           "Brandin Cooks",
           "WR"
          ],
          [
           6.285,
           "Odell Beckham",
           "WR"
          ],
          [
           6.257,
           "Joshua Palmer",
           "WR"
          ],
          [
           6.190000000000001,
           "Curtis Samuel",
           "WR"
          ],
          [
           5.875,
           "Treylon Burks",
           "WR"
          ],
          [
           5.875,
           "Marvin Mims",
           "WR"
          ],
          [
           5.840000000000001,
           "Mack Hollins",
           "WR"
          ],
          [
           5.800000000000001,
           "Josh Reynolds",
           "WR"
          ],
          [
           5.800000000000001,
           "Skyy Moore",
           "WR"
          ],
          [
           5.725,
           "Tyler Boyd",
           "WR"
          ],
          [
           5.490000000000001,
           "Adam Thielen",
           "WR"
          ],
          [
           5.15,
           "Deonte Harty",
           "WR"
          ],
          [
           5.12,
           "Olamide Zaccheaus",
           "WR"
          ],
          [
           5.115,
           "Trey Palmer",
           "WR"
          ],
          [
           5,
           "Robert Woods",
           "WR"
          ],
          [
           4.902,
           "Hunter Renfrow",
           "WR"
          ],
          [
           4.775,
           "Isaiah Hodgins",
           "WR"
          ],
          [
           4.670000000000001,
           "Kendrick Bourne",
           "WR"
          ],
          [
           4.65,
           "Alec Pierce",
           "WR"
          ],
          [
           4.6,
           "Ben Skowronek",
           "WR"
          ],
          [
           4.455000000000001,
           "Nick Westbrook-Ikhine",
           "WR"
          ],
          [
           4.4,
           "Quentin Johnston",
           "WR"
          ],
          [
           4.335000000000001,
           "Tutu Atwell",
           "WR"
          ],
          [
           4.24,
           "Allen Robinson",
           "WR"
          ],
          [
           4.165,
           "Kadarius Toney",
           "WR"
          ],
          [
           4.1000000000000005,
           "Michael Gallup",
           "WR"
          ],
          [
           3.82,
           "Zay Flowers",
           "WR"
          ],
          [
           3.745,
           "Jayden Reed",
           "WR"
          ],
          [
           3.565,
           "Terrace Marshall",
           "WR"
          ],
          [
           3.5010000000000003,
           "Randall Cobb",
           "WR"
          ],
          [
           3.49,
           "Isaiah McKenzie",
           "WR"
          ],
          [
           3.4750000000000005,
           "Brandon Powell",
           "WR"
          ],
          [
           3.45,
           "Jauan Jennings",
           "WR"
          ],
          [
           3.3500000000000005,
           "Marvin Jones",
           "WR"
          ],
          [
           3.317,
           "Rashee Rice",
           "WR"
          ],
          [
           3.29,
           "Calvin Austin",
           "WR"
          ],
          [
           3.2049999999999996,
           "Noah Brown",
           "WR"
          ],
          [
           3.165,
           "Equanimeous St. Brown",
           "WR"
          ],
          [
           3.1599999999999997,
           "Laviska Shenault",
           "WR"
          ],
          [
           3.12,
           "Chase Claypool",
           "WR"
          ],
          [
           3.1100000000000003,
           "Trent Sherfield",
           "WR"
          ],
          [
           3.055,
           "Chris Moore",
           "WR"
          ],
          [
           2.95,
           "Jalen Guyton",
           "WR"
          ],
          [
           2.9250000000000003,
           "Trenton Irwin",
           "WR"
          ],
          [
           2.8600000000000003,
           "Brandon Johnson",
           "WR"
          ],
          [
           2.8030000000000004,
           "Demarcus Robinson",
           "WR"
          ],
          [
           2.8,
           "Marquise Goodwin",
           "WR"
          ],
          [
           2.7500000000000004,
           "Jonathan Mingo",
           "WR"
          ],
          [
           2.725,
           "Elijah Moore",
           "WR"
          ],
          [
           2.655,
           "Quez Watkins",
           "WR"
          ],
          [
           2.65,
           "KhaDarel Hodge",
           "WR"
          ],
          [
           2.6,
           "Jalen Tolbert",
           "WR"
          ],
          [
           2.2550000000000003,
           "Sterling Shepard",
           "WR"
          ],
          [
           2,
           "David Bell",
           "WR"
          ],
          [
           1.995,
           "Dyami Brown",
           "WR"
          ],
          [
           1.9300000000000002,
           "Cedrick Wilson",
           "WR"
          ],
          [
           1.6730000000000003,
           "Zach Pascal",
           "WR"
          ],
          [
           1.6250000000000002,
           "Nelson Agholor",
           "WR"
          ],
          [
           1.6,
           "Charlie Jones",
           "WR"
          ],
          [
           1.4350000000000003,
           "Samori Toure",
           "WR"
          ],
          [
           1.425,
           "Michael Wilson",
           "WR"
          ],
          [
           1.367,
           "Kayshon Boutte",
           "WR"
          ],
          [
           1.322,
           "Byron Pringle",
           "WR"
          ],
          [
           1.282,
           "Rakim Jarrett",
           "WR"
          ],
          [
           1.27,
           "Khalil Shakir",
           "WR"
          ],
          [
           1.25,
           "Jalen Nailor",
           "WR"
          ],
          [
           1.175,
           "Dontayvion Wicks",
           "WR"
          ],
          [
           1.125,
           "Scott Miller",
           "WR"
          ],
          [
           1.12,
           "Keith Kirkwood",
           "WR"
          ],
          [
           1.1,
           "River Cracraft",
           "WR"
          ],
          [
           1.0750000000000002,
           "Gunner Olszewski",
           "WR"
          ],
          [
           1.0699999999999998,
           "Tim Jones",
           "WR"
          ],
          [
           1.025,
           "Cody Thompson",
           "WR"
          ],
          [
           1.025,
           "Josh Downs",
           "WR"
          ],
          [
           1.02,
           "Justin Watson",
           "WR"
          ],
          [
           1,
           "Malik Heath",
           "WR"
          ],
          [
           1,
           "Irvin Charles",
           "WR"
          ],
          [
           0.975,
           "David Sills",
           "WR"
          ],
          [
           0.75,
           "Antoine Green",
           "WR"
          ],
          [
           0.575,
           "Kirk Merritt",
           "WR"
          ],
          [
           0.4750000000000001,
           "Tylan Wallace",
           "WR"
          ],
          [
           0.41550000000000004,
           "Erik Ezukanma",
           "WR"
          ],
          [
           0.37500000000000006,
           "Michael Woods",
           "WR"
          ],
          [
           0.32500000000000007,
           "Colton Dowell",
           "WR"
          ],
          [
           0.15000000000000002,
           "Miles Boykin",
           "WR"
          ]
         ],
         "hovertemplate": "<b>%{hovertext}</b><br><br>Relative Value=%{y}<br>Predicted Points=%{customdata[0]}<extra></extra>",
         "hovertext": [
          "Justin Jefferson",
          "Tyreek Hill",
          "Ja'Marr Chase",
          "Davante Adams",
          "A.J. Brown",
          "CeeDee Lamb",
          "Keenan Allen",
          "Stefon Diggs",
          "Jaylen Waddle",
          "Romeo Doubs",
          "DeAndre Hopkins",
          "Chris Olave",
          "Amon-Ra St. Brown",
          "Amari Cooper",
          "Tee Higgins",
          "DeVonta Smith",
          "Garrett Wilson",
          "Kalif Raymond",
          "DK Metcalf",
          "Deebo Samuel",
          "Mike Evans",
          "Devin Duvernay",
          "Tyler Lockett",
          "Jamal Agnew",
          "Christian Kirk",
          "Chris Godwin",
          "Rashid Shaheed",
          "Marquez Valdes-Scantling",
          "Drake London",
          "Marquise Brown",
          "Mike Williams",
          "Jahan Dotson",
          "DJ Moore",
          "Jordan Addison",
          "Braxton Berrios",
          "Michael Pittman",
          "Terry McLaurin",
          "Greg Dortch",
          "Calvin Ridley",
          "Diontae Johnson",
          "Nico Collins",
          "George Pickens",
          "Richie James",
          "Jerry Jeudy",
          "JuJu Smith-Schuster",
          "Jaxon Smith-Njigba",
          "Courtland Sutton",
          "Zay Jones",
          "Mecole Hardman",
          "Rashod Bateman",
          "Brandon Aiyuk",
          "Donovan Peoples-Jones",
          "DeAndre Carter",
          "Jakobi Meyers",
          "Rondale Moore",
          "Velus Jones",
          "K.J. Osborn",
          "Van Jefferson",
          "Gabe Davis",
          "Deven Thompkins",
          "Derius Davis",
          "Wan'Dale Robinson",
          "DeVante Parker",
          "Michael Thomas",
          "Darius Slayton",
          "KaVontae Turpin",
          "Darnell Mooney",
          "Parris Campbell",
          "Allen Lazard",
          "Brandin Cooks",
          "Odell Beckham",
          "Joshua Palmer",
          "Curtis Samuel",
          "Treylon Burks",
          "Marvin Mims",
          "Mack Hollins",
          "Josh Reynolds",
          "Skyy Moore",
          "Tyler Boyd",
          "Adam Thielen",
          "Deonte Harty",
          "Olamide Zaccheaus",
          "Trey Palmer",
          "Robert Woods",
          "Hunter Renfrow",
          "Isaiah Hodgins",
          "Kendrick Bourne",
          "Alec Pierce",
          "Ben Skowronek",
          "Nick Westbrook-Ikhine",
          "Quentin Johnston",
          "Tutu Atwell",
          "Allen Robinson",
          "Kadarius Toney",
          "Michael Gallup",
          "Zay Flowers",
          "Jayden Reed",
          "Terrace Marshall",
          "Randall Cobb",
          "Isaiah McKenzie",
          "Brandon Powell",
          "Jauan Jennings",
          "Marvin Jones",
          "Rashee Rice",
          "Calvin Austin",
          "Noah Brown",
          "Equanimeous St. Brown",
          "Laviska Shenault",
          "Chase Claypool",
          "Trent Sherfield",
          "Chris Moore",
          "Jalen Guyton",
          "Trenton Irwin",
          "Brandon Johnson",
          "Demarcus Robinson",
          "Marquise Goodwin",
          "Jonathan Mingo",
          "Elijah Moore",
          "Quez Watkins",
          "KhaDarel Hodge",
          "Jalen Tolbert",
          "Sterling Shepard",
          "David Bell",
          "Dyami Brown",
          "Cedrick Wilson",
          "Zach Pascal",
          "Nelson Agholor",
          "Charlie Jones",
          "Samori Toure",
          "Michael Wilson",
          "Kayshon Boutte",
          "Byron Pringle",
          "Rakim Jarrett",
          "Khalil Shakir",
          "Jalen Nailor",
          "Dontayvion Wicks",
          "Scott Miller",
          "Keith Kirkwood",
          "River Cracraft",
          "Gunner Olszewski",
          "Tim Jones",
          "Cody Thompson",
          "Josh Downs",
          "Justin Watson",
          "Malik Heath",
          "Irvin Charles",
          "David Sills",
          "Antoine Green",
          "Kirk Merritt",
          "Tylan Wallace",
          "Erik Ezukanma",
          "Michael Woods",
          "Colton Dowell",
          "Miles Boykin"
         ],
         "legendgroup": "WR",
         "marker": {
          "color": "hsla(267, 40%, 45%, 1)",
          "pattern": {
           "shape": ""
          }
         },
         "name": "WR",
         "offsetgroup": "WR",
         "orientation": "v",
         "showlegend": true,
         "text": [
          "Justin Jefferson",
          "Tyreek Hill",
          "Ja'Marr Chase",
          "Davante Adams",
          "A.J. Brown",
          "CeeDee Lamb",
          "Keenan Allen",
          "Stefon Diggs",
          "Jaylen Waddle",
          "Romeo Doubs",
          "DeAndre Hopkins",
          "Chris Olave",
          "Amon-Ra St. Brown",
          "Amari Cooper",
          "Tee Higgins",
          "DeVonta Smith",
          "Garrett Wilson",
          "Kalif Raymond",
          "DK Metcalf",
          "Deebo Samuel",
          "Mike Evans",
          "Devin Duvernay",
          "Tyler Lockett",
          "Jamal Agnew",
          "Christian Kirk",
          "Chris Godwin",
          "Rashid Shaheed",
          "Marquez Valdes-Scantling",
          "Drake London",
          "Marquise Brown",
          "Mike Williams",
          "Jahan Dotson",
          "DJ Moore",
          "Jordan Addison",
          "Braxton Berrios",
          "Michael Pittman",
          "Terry McLaurin",
          "Greg Dortch",
          "Calvin Ridley",
          "Diontae Johnson",
          "Nico Collins",
          "George Pickens",
          "Richie James",
          "Jerry Jeudy",
          "JuJu Smith-Schuster",
          "Jaxon Smith-Njigba",
          "Courtland Sutton",
          "Zay Jones",
          "Mecole Hardman",
          "Rashod Bateman",
          "Brandon Aiyuk",
          "Donovan Peoples-Jones",
          "DeAndre Carter",
          "Jakobi Meyers",
          "Rondale Moore",
          "Velus Jones",
          "K.J. Osborn",
          "Van Jefferson",
          "Gabe Davis",
          "Deven Thompkins",
          "Derius Davis",
          "Wan'Dale Robinson",
          "DeVante Parker",
          "Michael Thomas",
          "Darius Slayton",
          "KaVontae Turpin",
          "Darnell Mooney",
          "Parris Campbell",
          "Allen Lazard",
          "Brandin Cooks",
          "Odell Beckham",
          "Joshua Palmer",
          "Curtis Samuel",
          "Treylon Burks",
          "Marvin Mims",
          "Mack Hollins",
          "Josh Reynolds",
          "Skyy Moore",
          "Tyler Boyd",
          "Adam Thielen",
          "Deonte Harty",
          "Olamide Zaccheaus",
          "Trey Palmer",
          "Robert Woods",
          "Hunter Renfrow",
          "Isaiah Hodgins",
          "Kendrick Bourne",
          "Alec Pierce",
          "Ben Skowronek",
          "Nick Westbrook-Ikhine",
          "Quentin Johnston",
          "Tutu Atwell",
          "Allen Robinson",
          "Kadarius Toney",
          "Michael Gallup",
          "Zay Flowers",
          "Jayden Reed",
          "Terrace Marshall",
          "Randall Cobb",
          "Isaiah McKenzie",
          "Brandon Powell",
          "Jauan Jennings",
          "Marvin Jones",
          "Rashee Rice",
          "Calvin Austin",
          "Noah Brown",
          "Equanimeous St. Brown",
          "Laviska Shenault",
          "Chase Claypool",
          "Trent Sherfield",
          "Chris Moore",
          "Jalen Guyton",
          "Trenton Irwin",
          "Brandon Johnson",
          "Demarcus Robinson",
          "Marquise Goodwin",
          "Jonathan Mingo",
          "Elijah Moore",
          "Quez Watkins",
          "KhaDarel Hodge",
          "Jalen Tolbert",
          "Sterling Shepard",
          "David Bell",
          "Dyami Brown",
          "Cedrick Wilson",
          "Zach Pascal",
          "Nelson Agholor",
          "Charlie Jones",
          "Samori Toure",
          "Michael Wilson",
          "Kayshon Boutte",
          "Byron Pringle",
          "Rakim Jarrett",
          "Khalil Shakir",
          "Jalen Nailor",
          "Dontayvion Wicks",
          "Scott Miller",
          "Keith Kirkwood",
          "River Cracraft",
          "Gunner Olszewski",
          "Tim Jones",
          "Cody Thompson",
          "Josh Downs",
          "Justin Watson",
          "Malik Heath",
          "Irvin Charles",
          "David Sills",
          "Antoine Green",
          "Kirk Merritt",
          "Tylan Wallace",
          "Erik Ezukanma",
          "Michael Woods",
          "Colton Dowell",
          "Miles Boykin"
         ],
         "textposition": "inside",
         "type": "bar",
         "x": [
          "Pretty Big Wieners",
          "Saskatoon Squatches ",
          "Saskatoon Squatches ",
          "Verdanks Vacqueros FFC",
          "Pretty Big Wieners",
          "Count of Monte Christian",
          "Pretty Big Wieners",
          "Comeback 👑’s",
          "GusTheBus",
          "📜 Providence 🪬 Spirits 🥂",
          "Verdanks Vacqueros FFC",
          "Count of Monte Christian",
          "kevinbash",
          "Verdanks Vacqueros FFC",
          "2014champ",
          "Count of Monte Christian",
          "📜 Providence 🪬 Spirits 🥂",
          null,
          "2014champ",
          "2014champ",
          "kevinbash",
          null,
          "Croccity Body Snatchers",
          null,
          "GusTheBus",
          "Croccity Body Snatchers",
          null,
          null,
          "Idk much about soccer ",
          "Croccity Body Snatchers",
          "Idk much about soccer ",
          "📜 Providence 🪬 Spirits 🥂",
          "Idk much about soccer ",
          "DangeRUSS Last Ride",
          null,
          "GusTheBus",
          "kevinbash",
          null,
          "2014champ",
          "Idk much about soccer ",
          "📜 Providence 🪬 Spirits 🥂",
          "DangeRUSS Last Ride",
          "Count of Monte Christian",
          "Saskatoon Squatches ",
          "📜 Providence 🪬 Spirits 🥂",
          "📜 Providence 🪬 Spirits 🥂",
          "Count of Monte Christian",
          "Croccity Body Snatchers",
          "Idk much about soccer ",
          "2014champ",
          "kevinbash",
          "Pretty Big Wieners",
          null,
          "Saskatoon Squatches ",
          "Count of Monte Christian",
          null,
          "Croccity Body Snatchers",
          "Verdanks Vacqueros FFC",
          "2014champ",
          null,
          null,
          "📜 Providence 🪬 Spirits 🥂",
          null,
          "Idk much about soccer ",
          null,
          null,
          "Saskatoon Squatches ",
          null,
          "Croccity Body Snatchers",
          "Comeback 👑’s",
          "Idk much about soccer ",
          "Croccity Body Snatchers",
          null,
          "Count of Monte Christian",
          "GusTheBus",
          null,
          "Comeback 👑’s",
          "kevinbash",
          "Saskatoon Squatches ",
          "Idk much about soccer ",
          null,
          null,
          "Saskatoon Squatches ",
          "Pretty Big Wieners",
          "GusTheBus",
          "2014champ",
          null,
          "2014champ",
          null,
          null,
          "2014champ",
          null,
          null,
          "Pretty Big Wieners",
          "Comeback 👑’s",
          "Count of Monte Christian",
          "kevinbash",
          null,
          "Comeback 👑’s",
          null,
          null,
          null,
          "Pretty Big Wieners",
          "Croccity Body Snatchers",
          "Verdanks Vacqueros FFC",
          null,
          null,
          null,
          "DangeRUSS Last Ride",
          null,
          null,
          null,
          null,
          null,
          null,
          null,
          "📜 Providence 🪬 Spirits 🥂",
          "Saskatoon Squatches ",
          null,
          null,
          null,
          null,
          null,
          null,
          null,
          null,
          "kevinbash",
          "GusTheBus",
          null,
          "Verdanks Vacqueros FFC",
          "kevinbash",
          null,
          null,
          "Verdanks Vacqueros FFC",
          null,
          null,
          null,
          null,
          null,
          null,
          null,
          null,
          "Verdanks Vacqueros FFC",
          null,
          null,
          null,
          null,
          null,
          null,
          "Verdanks Vacqueros FFC",
          null,
          null,
          null,
          null
         ],
         "xaxis": "x",
         "y": [
          8.075000000000001,
          6.290000000000003,
          5.954999999999998,
          5.422999999999998,
          5.395,
          5.359999999999999,
          4.579999999999998,
          4.522999999999998,
          4.33,
          3.795,
          3.594999999999999,
          3.589000000000002,
          3.5650000000000013,
          3.5329999999999977,
          3.4849999999999994,
          3.4079999999999995,
          3.334999999999999,
          3.2300000000000004,
          3.214999999999998,
          3.084999999999999,
          3.0649999999999995,
          2.8200000000000003,
          2.7750000000000004,
          2.7300000000000004,
          2.6800000000000015,
          2.545,
          2.419999999999998,
          2.369999999999999,
          2.2699999999999996,
          2.26,
          2.259999999999998,
          1.995000000000001,
          1.9849999999999994,
          1.8599999999999994,
          1.6600000000000001,
          1.6549999999999994,
          1.459999999999999,
          1.4000000000000004,
          1.3100000000000005,
          1.2100000000000009,
          1.1600000000000001,
          1.1499999999999986,
          1.0099999999999998,
          0.9350000000000005,
          0.7560000000000002,
          0.7349999999999994,
          0.6849999999999987,
          0.3200000000000003,
          0,
          -0.015000000000000568,
          -0.04499999999999993,
          -0.1200000000000001,
          -0.14000000000000057,
          -0.16500000000000092,
          -0.2599999999999998,
          -0.3799999999999999,
          -0.3899999999999997,
          -0.4399999999999995,
          -0.5300000000000002,
          -0.5400000000000009,
          -0.5650000000000004,
          -0.6150000000000002,
          -0.8400000000000007,
          -0.8700000000000001,
          -0.875,
          -1.1400000000000006,
          -1.1899999999999995,
          -1.3149999999999995,
          -1.3439999999999994,
          -1.4300000000000006,
          -1.4800000000000004,
          -1.508000000000001,
          -1.5749999999999993,
          -1.8900000000000006,
          -1.8900000000000006,
          -1.9249999999999998,
          -1.9649999999999999,
          -1.9649999999999999,
          -2.040000000000001,
          -2.2749999999999995,
          -2.615,
          -2.6450000000000005,
          -2.6500000000000004,
          -2.7650000000000006,
          -2.8630000000000004,
          -2.99,
          -3.0949999999999998,
          -3.115,
          -3.165000000000001,
          -3.3099999999999996,
          -3.365,
          -3.4299999999999997,
          -3.5250000000000004,
          -3.6000000000000005,
          -3.665,
          -3.9450000000000007,
          -4.0200000000000005,
          -4.200000000000001,
          -4.264,
          -4.275,
          -4.29,
          -4.315,
          -4.415,
          -4.448,
          -4.4750000000000005,
          -4.5600000000000005,
          -4.6000000000000005,
          -4.605,
          -4.6450000000000005,
          -4.655,
          -4.710000000000001,
          -4.815,
          -4.84,
          -4.905,
          -4.962,
          -4.965000000000001,
          -5.015000000000001,
          -5.040000000000001,
          -5.110000000000001,
          -5.115,
          -5.165000000000001,
          -5.51,
          -5.765000000000001,
          -5.7700000000000005,
          -5.835000000000001,
          -6.0920000000000005,
          -6.140000000000001,
          -6.165000000000001,
          -6.33,
          -6.340000000000001,
          -6.398000000000001,
          -6.4430000000000005,
          -6.4830000000000005,
          -6.495000000000001,
          -6.515000000000001,
          -6.590000000000001,
          -6.640000000000001,
          -6.6450000000000005,
          -6.665000000000001,
          -6.69,
          -6.695,
          -6.74,
          -6.74,
          -6.745000000000001,
          -6.765000000000001,
          -6.765000000000001,
          -6.790000000000001,
          -7.015000000000001,
          -7.19,
          -7.290000000000001,
          -7.349500000000001,
          -7.390000000000001,
          -7.44,
          -7.615
         ],
         "yaxis": "y"
        },
        {
         "alignmentgroup": "True",
         "customdata": [
          [
           12,
           "Daniel Carlson",
           "PK"
          ],
          [
           11.35,
           "Justin Tucker",
           "PK"
          ],
          [
           10.8,
           "Harrison Butker",
           "PK"
          ],
          [
           10.5,
           "Riley Patterson",
           "PK"
          ],
          [
           10.450000000000001,
           "Chris Boswell",
           "PK"
          ],
          [
           10.450000000000001,
           "Evan McPherson",
           "PK"
          ],
          [
           10.2,
           "Brandon Aubrey",
           "PK"
          ],
          [
           9.899999999999999,
           "Greg Joseph",
           "PK"
          ],
          [
           9.749999999999998,
           "Jason Myers",
           "PK"
          ],
          [
           9.739999999999998,
           "Cameron Dicker",
           "PK"
          ],
          [
           9.649999999999999,
           "Matt Gay",
           "PK"
          ],
          [
           9.5,
           "Tyler Bass",
           "PK"
          ],
          [
           9.450000000000001,
           "Chase McLaughlin",
           "PK"
          ],
          [
           9.45,
           "Joey Slye",
           "PK"
          ],
          [
           9.4,
           "Matt Prater",
           "PK"
          ],
          [
           9.399999999999999,
           "Chad Ryland",
           "PK"
          ],
          [
           9.399999999999999,
           "Eddy Pineiro",
           "PK"
          ],
          [
           9.3,
           "Brandon McManus",
           "PK"
          ],
          [
           9.2,
           "Greg Zuerlein",
           "PK"
          ],
          [
           8.85,
           "Graham Gano",
           "PK"
          ],
          [
           8.45,
           "Jason Sanders",
           "PK"
          ],
          [
           8.400000000000002,
           "Wil Lutz",
           "PK"
          ],
          [
           8.350000000000001,
           "Dustin Hopkins",
           "PK"
          ],
          [
           8.25,
           "Jake Moody",
           "PK"
          ],
          [
           8.25,
           "Jake Elliott",
           "PK"
          ],
          [
           8.15,
           "Ka'imi Fairbairn",
           "PK"
          ],
          [
           8.01,
           "Anders Carlson",
           "PK"
          ],
          [
           7.8,
           "Younghoe Koo",
           "PK"
          ],
          [
           7.5,
           "Nick Folk",
           "PK"
          ],
          [
           6.929999999999999,
           "Cairo Santos",
           "PK"
          ],
          [
           6.800000000000001,
           "Blake Grupe",
           "PK"
          ],
          [
           0,
           "Jordan Stout",
           "PK"
          ],
          [
           0,
           "AJ Cole",
           "PK"
          ],
          [
           0,
           "Johnny Hekker",
           "PK"
          ],
          [
           0,
           "Ryan Stonehouse",
           "PK"
          ],
          [
           0,
           "Jake Camarda",
           "PK"
          ],
          [
           0,
           "Daniel Whelan",
           "PK"
          ],
          [
           0,
           "Logan Cooke",
           "PK"
          ],
          [
           0,
           "Michael Dickson",
           "PK"
          ],
          [
           0,
           "Corey Bojorquez",
           "PK"
          ],
          [
           0,
           "Ryan Wright",
           "PK"
          ],
          [
           0,
           "Pressley Harvin",
           "PK"
          ],
          [
           0,
           "Sam Martin",
           "PK"
          ],
          [
           0,
           "Brad Robbins",
           "PK"
          ],
          [
           0,
           "Daniel Whelan",
           "PK"
          ],
          [
           0,
           "Bryan Anger",
           "PK"
          ],
          [
           0,
           "Tommy Townsend",
           "PK"
          ],
          [
           0,
           "Tress Way",
           "PK"
          ],
          [
           0,
           "Bradley Pinion",
           "PK"
          ],
          [
           0,
           "Jamie Gillan",
           "PK"
          ],
          [
           0,
           "Ethan Evans",
           "PK"
          ],
          [
           0,
           "Jake Bailey",
           "PK"
          ],
          [
           0,
           "Trenton Gill",
           "PK"
          ],
          [
           0,
           "Bryce Baringer",
           "PK"
          ],
          [
           0,
           "Jack Fox",
           "PK"
          ],
          [
           0,
           "Rigoberto Sanchez",
           "PK"
          ],
          [
           0,
           "Riley Dixon",
           "PK"
          ],
          [
           0,
           "JK Scott",
           "PK"
          ],
          [
           0,
           "Nolan Cooney",
           "PK"
          ],
          [
           0,
           "Mitch Wishnowsky",
           "PK"
          ]
         ],
         "hovertemplate": "<b>%{hovertext}</b><br><br>Relative Value=%{y}<br>Predicted Points=%{customdata[0]}<extra></extra>",
         "hovertext": [
          "Daniel Carlson",
          "Justin Tucker",
          "Harrison Butker",
          "Riley Patterson",
          "Chris Boswell",
          "Evan McPherson",
          "Brandon Aubrey",
          "Greg Joseph",
          "Jason Myers",
          "Cameron Dicker",
          "Matt Gay",
          "Tyler Bass",
          "Chase McLaughlin",
          "Joey Slye",
          "Matt Prater",
          "Chad Ryland",
          "Eddy Pineiro",
          "Brandon McManus",
          "Greg Zuerlein",
          "Graham Gano",
          "Jason Sanders",
          "Wil Lutz",
          "Dustin Hopkins",
          "Jake Moody",
          "Jake Elliott",
          "Ka'imi Fairbairn",
          "Anders Carlson",
          "Younghoe Koo",
          "Nick Folk",
          "Cairo Santos",
          "Blake Grupe",
          "Jordan Stout",
          "AJ Cole",
          "Johnny Hekker",
          "Ryan Stonehouse",
          "Jake Camarda",
          "Daniel Whelan",
          "Logan Cooke",
          "Michael Dickson",
          "Corey Bojorquez",
          "Ryan Wright",
          "Pressley Harvin",
          "Sam Martin",
          "Brad Robbins",
          "Daniel Whelan",
          "Bryan Anger",
          "Tommy Townsend",
          "Tress Way",
          "Bradley Pinion",
          "Jamie Gillan",
          "Ethan Evans",
          "Jake Bailey",
          "Trenton Gill",
          "Bryce Baringer",
          "Jack Fox",
          "Rigoberto Sanchez",
          "Riley Dixon",
          "JK Scott",
          "Nolan Cooney",
          "Mitch Wishnowsky"
         ],
         "legendgroup": "PK",
         "marker": {
          "color": "hsla(14, 30%, 40%, 1)",
          "pattern": {
           "shape": ""
          }
         },
         "name": "PK",
         "offsetgroup": "PK",
         "orientation": "v",
         "showlegend": true,
         "text": [
          "Daniel Carlson",
          "Justin Tucker",
          "Harrison Butker",
          "Riley Patterson",
          "Chris Boswell",
          "Evan McPherson",
          "Brandon Aubrey",
          "Greg Joseph",
          "Jason Myers",
          "Cameron Dicker",
          "Matt Gay",
          "Tyler Bass",
          "Chase McLaughlin",
          "Joey Slye",
          "Matt Prater",
          "Chad Ryland",
          "Eddy Pineiro",
          "Brandon McManus",
          "Greg Zuerlein",
          "Graham Gano",
          "Jason Sanders",
          "Wil Lutz",
          "Dustin Hopkins",
          "Jake Moody",
          "Jake Elliott",
          "Ka'imi Fairbairn",
          "Anders Carlson",
          "Younghoe Koo",
          "Nick Folk",
          "Cairo Santos",
          "Blake Grupe",
          "Jordan Stout",
          "AJ Cole",
          "Johnny Hekker",
          "Ryan Stonehouse",
          "Jake Camarda",
          "Daniel Whelan",
          "Logan Cooke",
          "Michael Dickson",
          "Corey Bojorquez",
          "Ryan Wright",
          "Pressley Harvin",
          "Sam Martin",
          "Brad Robbins",
          "Daniel Whelan",
          "Bryan Anger",
          "Tommy Townsend",
          "Tress Way",
          "Bradley Pinion",
          "Jamie Gillan",
          "Ethan Evans",
          "Jake Bailey",
          "Trenton Gill",
          "Bryce Baringer",
          "Jack Fox",
          "Rigoberto Sanchez",
          "Riley Dixon",
          "JK Scott",
          "Nolan Cooney",
          "Mitch Wishnowsky"
         ],
         "textposition": "inside",
         "type": "bar",
         "x": [
          "Pretty Big Wieners",
          "GusTheBus",
          "Count of Monte Christian",
          "Saskatoon Squatches ",
          "Croccity Body Snatchers",
          "📜 Providence 🪬 Spirits 🥂",
          "kevinbash",
          "2014champ",
          "Idk much about soccer ",
          "Croccity Body Snatchers",
          "DangeRUSS Last Ride",
          "📜 Providence 🪬 Spirits 🥂",
          "Count of Monte Christian",
          "GusTheBus",
          null,
          "Comeback 👑’s",
          "Verdanks Vacqueros FFC",
          "Idk much about soccer ",
          "Comeback 👑’s",
          "Saskatoon Squatches ",
          "Saskatoon Squatches ",
          "2014champ",
          "Croccity Body Snatchers",
          "Verdanks Vacqueros FFC",
          "DangeRUSS Last Ride",
          "Count of Monte Christian",
          "kevinbash",
          "Croccity Body Snatchers",
          "Comeback 👑’s",
          "Pretty Big Wieners",
          null,
          null,
          null,
          null,
          null,
          null,
          null,
          null,
          null,
          null,
          null,
          null,
          null,
          null,
          null,
          null,
          null,
          null,
          null,
          null,
          null,
          null,
          null,
          null,
          null,
          null,
          null,
          null,
          null,
          null
         ],
         "xaxis": "x",
         "y": [
          3.75,
          3.0999999999999996,
          2.5500000000000007,
          2.25,
          2.200000000000001,
          2.200000000000001,
          1.9499999999999993,
          1.6499999999999986,
          1.4999999999999982,
          1.4899999999999984,
          1.3999999999999986,
          1.25,
          1.200000000000001,
          1.1999999999999993,
          1.1500000000000004,
          1.1499999999999986,
          1.1499999999999986,
          1.0500000000000007,
          0.9499999999999993,
          0.5999999999999996,
          0.1999999999999993,
          0.15000000000000213,
          0.10000000000000142,
          0,
          0,
          -0.09999999999999964,
          -0.2400000000000002,
          -0.4500000000000002,
          -0.75,
          -1.3200000000000012,
          -1.4499999999999993,
          -8.25,
          -8.25,
          -8.25,
          -8.25,
          -8.25,
          -8.25,
          -8.25,
          -8.25,
          -8.25,
          -8.25,
          -8.25,
          -8.25,
          -8.25,
          -8.25,
          -8.25,
          -8.25,
          -8.25,
          -8.25,
          -8.25,
          -8.25,
          -8.25,
          -8.25,
          -8.25,
          -8.25,
          -8.25,
          -8.25,
          -8.25,
          -8.25,
          -8.25
         ],
         "yaxis": "y"
        },
        {
         "alignmentgroup": "True",
         "customdata": [
          [
           10.4075,
           "NO",
           "DEF"
          ],
          [
           13.4373,
           "NYG",
           "DEF"
          ],
          [
           13.4373,
           "NYJ",
           "DEF"
          ],
          [
           8.780400000000002,
           "JAX",
           "DEF"
          ],
          [
           8.5959,
           "WAS",
           "DEF"
          ],
          [
           8.2652,
           "PHI",
           "DEF"
          ],
          [
           8.1128,
           "DEN",
           "DEF"
          ],
          [
           7.850299999999999,
           "BUF",
           "DEF"
          ],
          [
           6.975000000000003,
           "BAL",
           "DEF"
          ],
          [
           6.247899999999998,
           "MIA",
           "DEF"
          ],
          [
           5.9754000000000005,
           "CLE",
           "DEF"
          ],
          [
           8.8791,
           "LAR",
           "DEF"
          ],
          [
           8.8791,
           "LAC",
           "DEF"
          ],
          [
           4.98,
           "CIN",
           "DEF"
          ],
          [
           4.8492999999999995,
           "LV",
           "DEF"
          ],
          [
           4.7974,
           "ARI",
           "DEF"
          ],
          [
           4.735000000000003,
           "GB",
           "DEF"
          ],
          [
           4.0709,
           "TEN",
           "DEF"
          ],
          [
           3.8099999999999987,
           "SF",
           "DEF"
          ],
          [
           3.5988999999999987,
           "CAR",
           "DEF"
          ],
          [
           3.168999999999997,
           "ATL",
           "DEF"
          ],
          [
           3.1189999999999998,
           "SEA",
           "DEF"
          ],
          [
           1.860000000000003,
           "MIN",
           "DEF"
          ],
          [
           1.292900000000003,
           "TB",
           "DEF"
          ],
          [
           1.2690999999999981,
           "PIT",
           "DEF"
          ],
          [
           1.183600000000002,
           "HOU",
           "DEF"
          ],
          [
           1.127799999999997,
           "IND",
           "DEF"
          ],
          [
           0.985000000000003,
           "KC",
           "DEF"
          ],
          [
           0.10100000000000264,
           "NE",
           "DEF"
          ],
          [
           -0.7986999999999966,
           "DAL",
           "DEF"
          ],
          [
           -0.9499999999999993,
           "CHI",
           "DEF"
          ],
          [
           -2.315399999999997,
           "DET",
           "DEF"
          ]
         ],
         "hovertemplate": "<b>%{hovertext}</b><br><br>Relative Value=%{y}<br>Predicted Points=%{customdata[0]}<extra></extra>",
         "hovertext": [
          "NO",
          "NYG",
          "NYJ",
          "JAX",
          "WAS",
          "PHI",
          "DEN",
          "BUF",
          "BAL",
          "MIA",
          "CLE",
          "LAR",
          "LAC",
          "CIN",
          "LV",
          "ARI",
          "GB",
          "TEN",
          "SF",
          "CAR",
          "ATL",
          "SEA",
          "MIN",
          "TB",
          "PIT",
          "HOU",
          "IND",
          "KC",
          "NE",
          "DAL",
          "CHI",
          "DET"
         ],
         "legendgroup": "DEF",
         "marker": {
          "color": "hsla(35, 70%, 65%, 1)",
          "pattern": {
           "shape": ""
          }
         },
         "name": "DEF",
         "offsetgroup": "DEF",
         "orientation": "v",
         "showlegend": true,
         "text": [
          "NO",
          "NYG",
          "NYJ",
          "JAX",
          "WAS",
          "PHI",
          "DEN",
          "BUF",
          "BAL",
          "MIA",
          "CLE",
          "LAR",
          "LAC",
          "CIN",
          "LV",
          "ARI",
          "GB",
          "TEN",
          "SF",
          "CAR",
          "ATL",
          "SEA",
          "MIN",
          "TB",
          "PIT",
          "HOU",
          "IND",
          "KC",
          "NE",
          "DAL",
          "CHI",
          "DET"
         ],
         "textposition": "inside",
         "type": "bar",
         "x": [
          "kevinbash",
          "Count of Monte Christian",
          "📜 Providence 🪬 Spirits 🥂",
          "Saskatoon Squatches ",
          "Croccity Body Snatchers",
          "Pretty Big Wieners",
          "Croccity Body Snatchers",
          "kevinbash",
          "GusTheBus",
          "Pretty Big Wieners",
          "2014champ",
          "Comeback 👑’s",
          "DangeRUSS Last Ride",
          "Pretty Big Wieners",
          "Count of Monte Christian",
          "Verdanks Vacqueros FFC",
          "DangeRUSS Last Ride",
          "Saskatoon Squatches ",
          "Croccity Body Snatchers",
          "Verdanks Vacqueros FFC",
          "Count of Monte Christian",
          "Saskatoon Squatches ",
          "Comeback 👑’s",
          "Comeback 👑’s",
          "GusTheBus",
          "📜 Providence 🪬 Spirits 🥂",
          "Idk much about soccer ",
          "Idk much about soccer ",
          "kevinbash",
          "📜 Providence 🪬 Spirits 🥂",
          "2014champ",
          "Verdanks Vacqueros FFC"
         ],
         "xaxis": "x",
         "y": [
          7.238500000000004,
          7.099300000000007,
          7.099300000000007,
          5.611400000000005,
          5.426900000000003,
          5.096200000000003,
          4.943800000000003,
          4.681300000000002,
          3.8060000000000063,
          3.078900000000001,
          2.8064000000000036,
          2.5411000000000055,
          2.5411000000000055,
          1.8110000000000035,
          1.6803000000000026,
          1.6284000000000027,
          1.566000000000006,
          0.901900000000003,
          0.6410000000000018,
          0.4299000000000017,
          0,
          -0.04999999999999716,
          -1.308999999999994,
          -1.8760999999999939,
          -1.8998999999999988,
          -1.985399999999995,
          -2.0412,
          -2.183999999999994,
          -3.0679999999999943,
          -3.9676999999999936,
          -4.118999999999996,
          -5.484399999999994
         ],
         "yaxis": "y"
        },
        {
         "alignmentgroup": "True",
         "customdata": [
          [
           9.99,
           "George Kittle",
           "TE"
          ],
          [
           8.675,
           "Mark Andrews",
           "TE"
          ],
          [
           7.880000000000001,
           "Juwan Johnson",
           "TE"
          ],
          [
           7.875000000000001,
           "Taysom Hill",
           "TE"
          ],
          [
           7.855,
           "Dawson Knox",
           "TE"
          ],
          [
           7.550000000000001,
           "Evan Engram",
           "TE"
          ],
          [
           7.535,
           "T.J. Hockenson",
           "TE"
          ],
          [
           7.5150000000000015,
           "Dallas Goedert",
           "TE"
          ],
          [
           7.2250000000000005,
           "Kyle Pitts",
           "TE"
          ],
          [
           7.125,
           "Tyler Higbee",
           "TE"
          ],
          [
           6.941,
           "Darren Waller",
           "TE"
          ],
          [
           6.903000000000001,
           "David Njoku",
           "TE"
          ],
          [
           6.575,
           "Dalton Schultz",
           "TE"
          ],
          [
           6.315,
           "Pat Freiermuth",
           "TE"
          ],
          [
           6.3,
           "Greg Dulcich",
           "TE"
          ],
          [
           6.2,
           "Cole Kmet",
           "TE"
          ],
          [
           5.834000000000001,
           "Austin Hooper",
           "TE"
          ],
          [
           5.8,
           "Sam LaPorta",
           "TE"
          ],
          [
           5.780000000000001,
           "Jake Ferguson",
           "TE"
          ],
          [
           5.75,
           "Gerald Everett",
           "TE"
          ],
          [
           5.5,
           "Luke Schoonmaker",
           "TE"
          ],
          [
           5.275,
           "Hunter Henry",
           "TE"
          ],
          [
           5.2330000000000005,
           "Noah Fant",
           "TE"
          ],
          [
           5.22,
           "Noah Gray",
           "TE"
          ],
          [
           4.8500000000000005,
           "Cade Otton",
           "TE"
          ],
          [
           4.785,
           "Chigoziem Okonkwo",
           "TE"
          ],
          [
           4.715000000000001,
           "Dalton Kincaid",
           "TE"
          ],
          [
           4.625,
           "Irv Smith",
           "TE"
          ],
          [
           4.474,
           "Tyler Conklin",
           "TE"
          ],
          [
           4.300000000000001,
           "Luke Musgrave",
           "TE"
          ],
          [
           4.08,
           "Durham Smythe",
           "TE"
          ],
          [
           4.050000000000001,
           "Isaiah Likely",
           "TE"
          ],
          [
           3.775,
           "Hayden Hurst",
           "TE"
          ],
          [
           3.72,
           "Logan Thomas",
           "TE"
          ],
          [
           3.665,
           "Foster Moreau",
           "TE"
          ],
          [
           3.275,
           "Zach Ertz",
           "TE"
          ],
          [
           3.1,
           "Will Dissly",
           "TE"
          ],
          [
           3.0700000000000003,
           "Mo Alie-Cox",
           "TE"
          ],
          [
           3.0149999999999997,
           "Jonnu Smith",
           "TE"
          ],
          [
           3.0100000000000002,
           "Trey McBride",
           "TE"
          ],
          [
           2.875,
           "Jordan Akins",
           "TE"
          ],
          [
           2.8600000000000003,
           "Daniel Bellinger",
           "TE"
          ],
          [
           2.825,
           "MyCole Pruitt",
           "TE"
          ],
          [
           2.73,
           "C.J. Uzomah",
           "TE"
          ],
          [
           2.54,
           "John Bates",
           "TE"
          ],
          [
           2.51,
           "Colby Parkinson",
           "TE"
          ],
          [
           2.425,
           "Teagan Quitoriano",
           "TE"
          ],
          [
           2.325,
           "Mike Gesicki",
           "TE"
          ],
          [
           2.325,
           "Brock Wright",
           "TE"
          ],
          [
           2.3000000000000003,
           "Kylen Granson",
           "TE"
          ],
          [
           2.215,
           "Robert Tonyan",
           "TE"
          ],
          [
           2.2,
           "Josiah Deguara",
           "TE"
          ],
          [
           2.1500000000000004,
           "Jimmy Graham",
           "TE"
          ],
          [
           2.075,
           "Tommy Tremble",
           "TE"
          ],
          [
           2.005,
           "Donald Parham",
           "TE"
          ],
          [
           1.995,
           "Ian Thomas",
           "TE"
          ],
          [
           1.955,
           "Ko Kieft",
           "TE"
          ],
          [
           1.9100000000000001,
           "Harrison Bryant",
           "TE"
          ],
          [
           1.7950000000000002,
           "Connor Heyward",
           "TE"
          ],
          [
           1.7650000000000001,
           "Blake Bell",
           "TE"
          ],
          [
           1.7550000000000001,
           "Michael Mayer",
           "TE"
          ],
          [
           1.715,
           "Darnell Washington",
           "TE"
          ],
          [
           1.709,
           "Trevon Wesco",
           "TE"
          ],
          [
           1.6700000000000004,
           "Johnny Mundt",
           "TE"
          ],
          [
           1.655,
           "Brevin Jordan",
           "TE"
          ],
          [
           1.625,
           "Peyton Hendershot",
           "TE"
          ],
          [
           1.6000000000000003,
           "Adam Trautman",
           "TE"
          ],
          [
           1.545,
           "James Mitchell",
           "TE"
          ],
          [
           1.475,
           "Julian Hill",
           "TE"
          ],
          [
           1.325,
           "Tucker Kraft",
           "TE"
          ],
          [
           1.3,
           "Brycen Hopkins",
           "TE"
          ],
          [
           1.235,
           "Mitchell Wilcox",
           "TE"
          ],
          [
           1.2,
           "Luke Farrell",
           "TE"
          ],
          [
           1.125,
           "Jack Stoll",
           "TE"
          ],
          [
           1.05,
           "Tre' McKitty",
           "TE"
          ],
          [
           1.05,
           "Josh Oliver",
           "TE"
          ],
          [
           0.895,
           "Marcedes Lewis",
           "TE"
          ],
          [
           0.775,
           "Charlie Woerner",
           "TE"
          ],
          [
           0.7,
           "Drew Sample",
           "TE"
          ],
          [
           0.65,
           "Geoff Swaim",
           "TE"
          ],
          [
           0.555,
           "Albert Okwuegbunam",
           "TE"
          ],
          [
           0.5,
           "Charlie Kolar",
           "TE"
          ],
          [
           0.4,
           "Brenton Strange",
           "TE"
          ],
          [
           0.30000000000000004,
           "Josh Whyle",
           "TE"
          ],
          [
           0.272,
           "Chris Manhertz",
           "TE"
          ],
          [
           0.25,
           "David Wells",
           "TE"
          ],
          [
           0.245,
           "Quintin Morris",
           "TE"
          ],
          [
           0.23500000000000004,
           "Will Mallory",
           "TE"
          ],
          [
           0.2225,
           "Jeremy Ruckert",
           "TE"
          ],
          [
           0.10750000000000001,
           "Grant Calcaterra",
           "TE"
          ],
          [
           0.01,
           "Stone Smartt",
           "TE"
          ],
          [
           0.005,
           "Ross Dwelley",
           "TE"
          ]
         ],
         "hovertemplate": "<b>%{hovertext}</b><br><br>Relative Value=%{y}<br>Predicted Points=%{customdata[0]}<extra></extra>",
         "hovertext": [
          "George Kittle",
          "Mark Andrews",
          "Juwan Johnson",
          "Taysom Hill",
          "Dawson Knox",
          "Evan Engram",
          "T.J. Hockenson",
          "Dallas Goedert",
          "Kyle Pitts",
          "Tyler Higbee",
          "Darren Waller",
          "David Njoku",
          "Dalton Schultz",
          "Pat Freiermuth",
          "Greg Dulcich",
          "Cole Kmet",
          "Austin Hooper",
          "Sam LaPorta",
          "Jake Ferguson",
          "Gerald Everett",
          "Luke Schoonmaker",
          "Hunter Henry",
          "Noah Fant",
          "Noah Gray",
          "Cade Otton",
          "Chigoziem Okonkwo",
          "Dalton Kincaid",
          "Irv Smith",
          "Tyler Conklin",
          "Luke Musgrave",
          "Durham Smythe",
          "Isaiah Likely",
          "Hayden Hurst",
          "Logan Thomas",
          "Foster Moreau",
          "Zach Ertz",
          "Will Dissly",
          "Mo Alie-Cox",
          "Jonnu Smith",
          "Trey McBride",
          "Jordan Akins",
          "Daniel Bellinger",
          "MyCole Pruitt",
          "C.J. Uzomah",
          "John Bates",
          "Colby Parkinson",
          "Teagan Quitoriano",
          "Mike Gesicki",
          "Brock Wright",
          "Kylen Granson",
          "Robert Tonyan",
          "Josiah Deguara",
          "Jimmy Graham",
          "Tommy Tremble",
          "Donald Parham",
          "Ian Thomas",
          "Ko Kieft",
          "Harrison Bryant",
          "Connor Heyward",
          "Blake Bell",
          "Michael Mayer",
          "Darnell Washington",
          "Trevon Wesco",
          "Johnny Mundt",
          "Brevin Jordan",
          "Peyton Hendershot",
          "Adam Trautman",
          "James Mitchell",
          "Julian Hill",
          "Tucker Kraft",
          "Brycen Hopkins",
          "Mitchell Wilcox",
          "Luke Farrell",
          "Jack Stoll",
          "Tre' McKitty",
          "Josh Oliver",
          "Marcedes Lewis",
          "Charlie Woerner",
          "Drew Sample",
          "Geoff Swaim",
          "Albert Okwuegbunam",
          "Charlie Kolar",
          "Brenton Strange",
          "Josh Whyle",
          "Chris Manhertz",
          "David Wells",
          "Quintin Morris",
          "Will Mallory",
          "Jeremy Ruckert",
          "Grant Calcaterra",
          "Stone Smartt",
          "Ross Dwelley"
         ],
         "legendgroup": "TE",
         "marker": {
          "color": "hsla(177, 68%, 36%, 1)",
          "pattern": {
           "shape": ""
          }
         },
         "name": "TE",
         "offsetgroup": "TE",
         "orientation": "v",
         "showlegend": true,
         "text": [
          "George Kittle",
          "Mark Andrews",
          "Juwan Johnson",
          "Taysom Hill",
          "Dawson Knox",
          "Evan Engram",
          "T.J. Hockenson",
          "Dallas Goedert",
          "Kyle Pitts",
          "Tyler Higbee",
          "Darren Waller",
          "David Njoku",
          "Dalton Schultz",
          "Pat Freiermuth",
          "Greg Dulcich",
          "Cole Kmet",
          "Austin Hooper",
          "Sam LaPorta",
          "Jake Ferguson",
          "Gerald Everett",
          "Luke Schoonmaker",
          "Hunter Henry",
          "Noah Fant",
          "Noah Gray",
          "Cade Otton",
          "Chigoziem Okonkwo",
          "Dalton Kincaid",
          "Irv Smith",
          "Tyler Conklin",
          "Luke Musgrave",
          "Durham Smythe",
          "Isaiah Likely",
          "Hayden Hurst",
          "Logan Thomas",
          "Foster Moreau",
          "Zach Ertz",
          "Will Dissly",
          "Mo Alie-Cox",
          "Jonnu Smith",
          "Trey McBride",
          "Jordan Akins",
          "Daniel Bellinger",
          "MyCole Pruitt",
          "C.J. Uzomah",
          "John Bates",
          "Colby Parkinson",
          "Teagan Quitoriano",
          "Mike Gesicki",
          "Brock Wright",
          "Kylen Granson",
          "Robert Tonyan",
          "Josiah Deguara",
          "Jimmy Graham",
          "Tommy Tremble",
          "Donald Parham",
          "Ian Thomas",
          "Ko Kieft",
          "Harrison Bryant",
          "Connor Heyward",
          "Blake Bell",
          "Michael Mayer",
          "Darnell Washington",
          "Trevon Wesco",
          "Johnny Mundt",
          "Brevin Jordan",
          "Peyton Hendershot",
          "Adam Trautman",
          "James Mitchell",
          "Julian Hill",
          "Tucker Kraft",
          "Brycen Hopkins",
          "Mitchell Wilcox",
          "Luke Farrell",
          "Jack Stoll",
          "Tre' McKitty",
          "Josh Oliver",
          "Marcedes Lewis",
          "Charlie Woerner",
          "Drew Sample",
          "Geoff Swaim",
          "Albert Okwuegbunam",
          "Charlie Kolar",
          "Brenton Strange",
          "Josh Whyle",
          "Chris Manhertz",
          "David Wells",
          "Quintin Morris",
          "Will Mallory",
          "Jeremy Ruckert",
          "Grant Calcaterra",
          "Stone Smartt",
          "Ross Dwelley"
         ],
         "textposition": "inside",
         "type": "bar",
         "x": [
          "DangeRUSS Last Ride",
          "Pretty Big Wieners",
          "GusTheBus",
          "2014champ",
          "Idk much about soccer ",
          "2014champ",
          "Saskatoon Squatches ",
          "Saskatoon Squatches ",
          "📜 Providence 🪬 Spirits 🥂",
          "Croccity Body Snatchers",
          "DangeRUSS Last Ride",
          "Verdanks Vacqueros FFC",
          "Comeback 👑’s",
          "Saskatoon Squatches ",
          "Croccity Body Snatchers",
          "Saskatoon Squatches ",
          null,
          "kevinbash",
          "DangeRUSS Last Ride",
          "DangeRUSS Last Ride",
          "Count of Monte Christian",
          "Count of Monte Christian",
          "GusTheBus",
          "Count of Monte Christian",
          "Idk much about soccer ",
          "Pretty Big Wieners",
          "Verdanks Vacqueros FFC",
          "📜 Providence 🪬 Spirits 🥂",
          "Pretty Big Wieners",
          "2014champ",
          null,
          "Saskatoon Squatches ",
          null,
          "GusTheBus",
          null,
          null,
          null,
          null,
          null,
          "📜 Providence 🪬 Spirits 🥂",
          "Comeback 👑’s",
          "Croccity Body Snatchers",
          null,
          null,
          null,
          null,
          null,
          "Croccity Body Snatchers",
          null,
          "kevinbash",
          "Comeback 👑’s",
          null,
          null,
          null,
          null,
          null,
          null,
          null,
          null,
          null,
          "GusTheBus",
          "Pretty Big Wieners",
          null,
          null,
          "Pretty Big Wieners",
          null,
          "kevinbash",
          null,
          null,
          "Saskatoon Squatches ",
          null,
          null,
          null,
          null,
          null,
          null,
          null,
          null,
          null,
          null,
          null,
          null,
          "GusTheBus",
          null,
          null,
          null,
          null,
          "GusTheBus",
          null,
          null,
          null,
          null
         ],
         "xaxis": "x",
         "y": [
          5.14,
          3.825,
          3.0300000000000002,
          3.0250000000000004,
          3.005,
          2.7,
          2.6849999999999996,
          2.665000000000001,
          2.375,
          2.2749999999999995,
          2.0909999999999993,
          2.053000000000001,
          1.7249999999999996,
          1.4649999999999999,
          1.4499999999999993,
          1.3499999999999996,
          0.9840000000000009,
          0.9499999999999993,
          0.9300000000000006,
          0.8999999999999995,
          0.6499999999999995,
          0.4249999999999998,
          0.383,
          0.3699999999999992,
          0,
          -0.06500000000000039,
          -0.1349999999999998,
          -0.22500000000000053,
          -0.37600000000000033,
          -0.5499999999999998,
          -0.7700000000000005,
          -0.7999999999999998,
          -1.0750000000000006,
          -1.1300000000000003,
          -1.1850000000000005,
          -1.5750000000000006,
          -1.7500000000000004,
          -1.7800000000000002,
          -1.8350000000000009,
          -1.8400000000000003,
          -1.9750000000000005,
          -1.9900000000000002,
          -2.0250000000000004,
          -2.1200000000000006,
          -2.3100000000000005,
          -2.3400000000000007,
          -2.4250000000000007,
          -2.5250000000000004,
          -2.5250000000000004,
          -2.5500000000000003,
          -2.6350000000000007,
          -2.6500000000000004,
          -2.7,
          -2.7750000000000004,
          -2.8450000000000006,
          -2.8550000000000004,
          -2.8950000000000005,
          -2.9400000000000004,
          -3.0550000000000006,
          -3.0850000000000004,
          -3.0950000000000006,
          -3.1350000000000007,
          -3.1410000000000005,
          -3.18,
          -3.1950000000000003,
          -3.2250000000000005,
          -3.25,
          -3.3050000000000006,
          -3.3750000000000004,
          -3.5250000000000004,
          -3.5500000000000007,
          -3.615,
          -3.6500000000000004,
          -3.7250000000000005,
          -3.8000000000000007,
          -3.8000000000000007,
          -3.9550000000000005,
          -4.075,
          -4.15,
          -4.2,
          -4.295000000000001,
          -4.3500000000000005,
          -4.45,
          -4.550000000000001,
          -4.578,
          -4.6000000000000005,
          -4.605,
          -4.615,
          -4.6275,
          -4.742500000000001,
          -4.840000000000001,
          -4.845000000000001
         ],
         "yaxis": "y"
        },
        {
         "mode": "text",
         "showlegend": false,
         "text": [
          11,
          -19,
          8,
          51,
          14,
          3,
          7,
          24,
          50,
          6,
          18,
          7
         ],
         "textfont": {
          "size": 18
         },
         "textposition": "top center",
         "type": "scatter",
         "x": [
          "2014champ",
          "Comeback 👑’s",
          "Count of Monte Christian",
          "Croccity Body Snatchers",
          "DangeRUSS Last Ride",
          "GusTheBus",
          "Idk much about soccer ",
          "Pretty Big Wieners",
          "Saskatoon Squatches ",
          "Verdanks Vacqueros FFC",
          "kevinbash",
          "📜 Providence 🪬 Spirits 🥂"
         ],
         "y": [
          11,
          -19,
          8,
          51,
          14,
          3,
          7,
          24,
          50,
          6,
          18,
          7
         ]
        }
       ],
       "layout": {
        "barmode": "stack",
        "font": {
         "family": "Skia"
        },
        "legend": {
         "title": {
          "text": "position"
         },
         "tracegroupgap": 0
        },
        "margin": {
         "t": 60
        },
        "plot_bgcolor": "rgba(0,0,0,0)",
        "showlegend": false,
        "template": {
         "data": {
          "bar": [
           {
            "error_x": {
             "color": "#2a3f5f"
            },
            "error_y": {
             "color": "#2a3f5f"
            },
            "marker": {
             "line": {
              "color": "#E5ECF6",
              "width": 0.5
             },
             "pattern": {
              "fillmode": "overlay",
              "size": 10,
              "solidity": 0.2
             }
            },
            "type": "bar"
           }
          ],
          "barpolar": [
           {
            "marker": {
             "line": {
              "color": "#E5ECF6",
              "width": 0.5
             },
             "pattern": {
              "fillmode": "overlay",
              "size": 10,
              "solidity": 0.2
             }
            },
            "type": "barpolar"
           }
          ],
          "carpet": [
           {
            "aaxis": {
             "endlinecolor": "#2a3f5f",
             "gridcolor": "white",
             "linecolor": "white",
             "minorgridcolor": "white",
             "startlinecolor": "#2a3f5f"
            },
            "baxis": {
             "endlinecolor": "#2a3f5f",
             "gridcolor": "white",
             "linecolor": "white",
             "minorgridcolor": "white",
             "startlinecolor": "#2a3f5f"
            },
            "type": "carpet"
           }
          ],
          "choropleth": [
           {
            "colorbar": {
             "outlinewidth": 0,
             "ticks": ""
            },
            "type": "choropleth"
           }
          ],
          "contour": [
           {
            "colorbar": {
             "outlinewidth": 0,
             "ticks": ""
            },
            "colorscale": [
             [
              0,
              "#0d0887"
             ],
             [
              0.1111111111111111,
              "#46039f"
             ],
             [
              0.2222222222222222,
              "#7201a8"
             ],
             [
              0.3333333333333333,
              "#9c179e"
             ],
             [
              0.4444444444444444,
              "#bd3786"
             ],
             [
              0.5555555555555556,
              "#d8576b"
             ],
             [
              0.6666666666666666,
              "#ed7953"
             ],
             [
              0.7777777777777778,
              "#fb9f3a"
             ],
             [
              0.8888888888888888,
              "#fdca26"
             ],
             [
              1,
              "#f0f921"
             ]
            ],
            "type": "contour"
           }
          ],
          "contourcarpet": [
           {
            "colorbar": {
             "outlinewidth": 0,
             "ticks": ""
            },
            "type": "contourcarpet"
           }
          ],
          "heatmap": [
           {
            "colorbar": {
             "outlinewidth": 0,
             "ticks": ""
            },
            "colorscale": [
             [
              0,
              "#0d0887"
             ],
             [
              0.1111111111111111,
              "#46039f"
             ],
             [
              0.2222222222222222,
              "#7201a8"
             ],
             [
              0.3333333333333333,
              "#9c179e"
             ],
             [
              0.4444444444444444,
              "#bd3786"
             ],
             [
              0.5555555555555556,
              "#d8576b"
             ],
             [
              0.6666666666666666,
              "#ed7953"
             ],
             [
              0.7777777777777778,
              "#fb9f3a"
             ],
             [
              0.8888888888888888,
              "#fdca26"
             ],
             [
              1,
              "#f0f921"
             ]
            ],
            "type": "heatmap"
           }
          ],
          "heatmapgl": [
           {
            "colorbar": {
             "outlinewidth": 0,
             "ticks": ""
            },
            "colorscale": [
             [
              0,
              "#0d0887"
             ],
             [
              0.1111111111111111,
              "#46039f"
             ],
             [
              0.2222222222222222,
              "#7201a8"
             ],
             [
              0.3333333333333333,
              "#9c179e"
             ],
             [
              0.4444444444444444,
              "#bd3786"
             ],
             [
              0.5555555555555556,
              "#d8576b"
             ],
             [
              0.6666666666666666,
              "#ed7953"
             ],
             [
              0.7777777777777778,
              "#fb9f3a"
             ],
             [
              0.8888888888888888,
              "#fdca26"
             ],
             [
              1,
              "#f0f921"
             ]
            ],
            "type": "heatmapgl"
           }
          ],
          "histogram": [
           {
            "marker": {
             "pattern": {
              "fillmode": "overlay",
              "size": 10,
              "solidity": 0.2
             }
            },
            "type": "histogram"
           }
          ],
          "histogram2d": [
           {
            "colorbar": {
             "outlinewidth": 0,
             "ticks": ""
            },
            "colorscale": [
             [
              0,
              "#0d0887"
             ],
             [
              0.1111111111111111,
              "#46039f"
             ],
             [
              0.2222222222222222,
              "#7201a8"
             ],
             [
              0.3333333333333333,
              "#9c179e"
             ],
             [
              0.4444444444444444,
              "#bd3786"
             ],
             [
              0.5555555555555556,
              "#d8576b"
             ],
             [
              0.6666666666666666,
              "#ed7953"
             ],
             [
              0.7777777777777778,
              "#fb9f3a"
             ],
             [
              0.8888888888888888,
              "#fdca26"
             ],
             [
              1,
              "#f0f921"
             ]
            ],
            "type": "histogram2d"
           }
          ],
          "histogram2dcontour": [
           {
            "colorbar": {
             "outlinewidth": 0,
             "ticks": ""
            },
            "colorscale": [
             [
              0,
              "#0d0887"
             ],
             [
              0.1111111111111111,
              "#46039f"
             ],
             [
              0.2222222222222222,
              "#7201a8"
             ],
             [
              0.3333333333333333,
              "#9c179e"
             ],
             [
              0.4444444444444444,
              "#bd3786"
             ],
             [
              0.5555555555555556,
              "#d8576b"
             ],
             [
              0.6666666666666666,
              "#ed7953"
             ],
             [
              0.7777777777777778,
              "#fb9f3a"
             ],
             [
              0.8888888888888888,
              "#fdca26"
             ],
             [
              1,
              "#f0f921"
             ]
            ],
            "type": "histogram2dcontour"
           }
          ],
          "mesh3d": [
           {
            "colorbar": {
             "outlinewidth": 0,
             "ticks": ""
            },
            "type": "mesh3d"
           }
          ],
          "parcoords": [
           {
            "line": {
             "colorbar": {
              "outlinewidth": 0,
              "ticks": ""
             }
            },
            "type": "parcoords"
           }
          ],
          "pie": [
           {
            "automargin": true,
            "type": "pie"
           }
          ],
          "scatter": [
           {
            "fillpattern": {
             "fillmode": "overlay",
             "size": 10,
             "solidity": 0.2
            },
            "type": "scatter"
           }
          ],
          "scatter3d": [
           {
            "line": {
             "colorbar": {
              "outlinewidth": 0,
              "ticks": ""
             }
            },
            "marker": {
             "colorbar": {
              "outlinewidth": 0,
              "ticks": ""
             }
            },
            "type": "scatter3d"
           }
          ],
          "scattercarpet": [
           {
            "marker": {
             "colorbar": {
              "outlinewidth": 0,
              "ticks": ""
             }
            },
            "type": "scattercarpet"
           }
          ],
          "scattergeo": [
           {
            "marker": {
             "colorbar": {
              "outlinewidth": 0,
              "ticks": ""
             }
            },
            "type": "scattergeo"
           }
          ],
          "scattergl": [
           {
            "marker": {
             "colorbar": {
              "outlinewidth": 0,
              "ticks": ""
             }
            },
            "type": "scattergl"
           }
          ],
          "scattermapbox": [
           {
            "marker": {
             "colorbar": {
              "outlinewidth": 0,
              "ticks": ""
             }
            },
            "type": "scattermapbox"
           }
          ],
          "scatterpolar": [
           {
            "marker": {
             "colorbar": {
              "outlinewidth": 0,
              "ticks": ""
             }
            },
            "type": "scatterpolar"
           }
          ],
          "scatterpolargl": [
           {
            "marker": {
             "colorbar": {
              "outlinewidth": 0,
              "ticks": ""
             }
            },
            "type": "scatterpolargl"
           }
          ],
          "scatterternary": [
           {
            "marker": {
             "colorbar": {
              "outlinewidth": 0,
              "ticks": ""
             }
            },
            "type": "scatterternary"
           }
          ],
          "surface": [
           {
            "colorbar": {
             "outlinewidth": 0,
             "ticks": ""
            },
            "colorscale": [
             [
              0,
              "#0d0887"
             ],
             [
              0.1111111111111111,
              "#46039f"
             ],
             [
              0.2222222222222222,
              "#7201a8"
             ],
             [
              0.3333333333333333,
              "#9c179e"
             ],
             [
              0.4444444444444444,
              "#bd3786"
             ],
             [
              0.5555555555555556,
              "#d8576b"
             ],
             [
              0.6666666666666666,
              "#ed7953"
             ],
             [
              0.7777777777777778,
              "#fb9f3a"
             ],
             [
              0.8888888888888888,
              "#fdca26"
             ],
             [
              1,
              "#f0f921"
             ]
            ],
            "type": "surface"
           }
          ],
          "table": [
           {
            "cells": {
             "fill": {
              "color": "#EBF0F8"
             },
             "line": {
              "color": "white"
             }
            },
            "header": {
             "fill": {
              "color": "#C8D4E3"
             },
             "line": {
              "color": "white"
             }
            },
            "type": "table"
           }
          ]
         },
         "layout": {
          "annotationdefaults": {
           "arrowcolor": "#2a3f5f",
           "arrowhead": 0,
           "arrowwidth": 1
          },
          "autotypenumbers": "strict",
          "coloraxis": {
           "colorbar": {
            "outlinewidth": 0,
            "ticks": ""
           }
          },
          "colorscale": {
           "diverging": [
            [
             0,
             "#8e0152"
            ],
            [
             0.1,
             "#c51b7d"
            ],
            [
             0.2,
             "#de77ae"
            ],
            [
             0.3,
             "#f1b6da"
            ],
            [
             0.4,
             "#fde0ef"
            ],
            [
             0.5,
             "#f7f7f7"
            ],
            [
             0.6,
             "#e6f5d0"
            ],
            [
             0.7,
             "#b8e186"
            ],
            [
             0.8,
             "#7fbc41"
            ],
            [
             0.9,
             "#4d9221"
            ],
            [
             1,
             "#276419"
            ]
           ],
           "sequential": [
            [
             0,
             "#0d0887"
            ],
            [
             0.1111111111111111,
             "#46039f"
            ],
            [
             0.2222222222222222,
             "#7201a8"
            ],
            [
             0.3333333333333333,
             "#9c179e"
            ],
            [
             0.4444444444444444,
             "#bd3786"
            ],
            [
             0.5555555555555556,
             "#d8576b"
            ],
            [
             0.6666666666666666,
             "#ed7953"
            ],
            [
             0.7777777777777778,
             "#fb9f3a"
            ],
            [
             0.8888888888888888,
             "#fdca26"
            ],
            [
             1,
             "#f0f921"
            ]
           ],
           "sequentialminus": [
            [
             0,
             "#0d0887"
            ],
            [
             0.1111111111111111,
             "#46039f"
            ],
            [
             0.2222222222222222,
             "#7201a8"
            ],
            [
             0.3333333333333333,
             "#9c179e"
            ],
            [
             0.4444444444444444,
             "#bd3786"
            ],
            [
             0.5555555555555556,
             "#d8576b"
            ],
            [
             0.6666666666666666,
             "#ed7953"
            ],
            [
             0.7777777777777778,
             "#fb9f3a"
            ],
            [
             0.8888888888888888,
             "#fdca26"
            ],
            [
             1,
             "#f0f921"
            ]
           ]
          },
          "colorway": [
           "#636efa",
           "#EF553B",
           "#00cc96",
           "#ab63fa",
           "#FFA15A",
           "#19d3f3",
           "#FF6692",
           "#B6E880",
           "#FF97FF",
           "#FECB52"
          ],
          "font": {
           "color": "#2a3f5f"
          },
          "geo": {
           "bgcolor": "white",
           "lakecolor": "white",
           "landcolor": "#E5ECF6",
           "showlakes": true,
           "showland": true,
           "subunitcolor": "white"
          },
          "hoverlabel": {
           "align": "left"
          },
          "hovermode": "closest",
          "mapbox": {
           "style": "light"
          },
          "paper_bgcolor": "white",
          "plot_bgcolor": "#E5ECF6",
          "polar": {
           "angularaxis": {
            "gridcolor": "white",
            "linecolor": "white",
            "ticks": ""
           },
           "bgcolor": "#E5ECF6",
           "radialaxis": {
            "gridcolor": "white",
            "linecolor": "white",
            "ticks": ""
           }
          },
          "scene": {
           "xaxis": {
            "backgroundcolor": "#E5ECF6",
            "gridcolor": "white",
            "gridwidth": 2,
            "linecolor": "white",
            "showbackground": true,
            "ticks": "",
            "zerolinecolor": "white"
           },
           "yaxis": {
            "backgroundcolor": "#E5ECF6",
            "gridcolor": "white",
            "gridwidth": 2,
            "linecolor": "white",
            "showbackground": true,
            "ticks": "",
            "zerolinecolor": "white"
           },
           "zaxis": {
            "backgroundcolor": "#E5ECF6",
            "gridcolor": "white",
            "gridwidth": 2,
            "linecolor": "white",
            "showbackground": true,
            "ticks": "",
            "zerolinecolor": "white"
           }
          },
          "shapedefaults": {
           "line": {
            "color": "#2a3f5f"
           }
          },
          "ternary": {
           "aaxis": {
            "gridcolor": "white",
            "linecolor": "white",
            "ticks": ""
           },
           "baxis": {
            "gridcolor": "white",
            "linecolor": "white",
            "ticks": ""
           },
           "bgcolor": "#E5ECF6",
           "caxis": {
            "gridcolor": "white",
            "linecolor": "white",
            "ticks": ""
           }
          },
          "title": {
           "x": 0.05
          },
          "xaxis": {
           "automargin": true,
           "gridcolor": "white",
           "linecolor": "white",
           "ticks": "",
           "title": {
            "standoff": 15
           },
           "zerolinecolor": "white",
           "zerolinewidth": 2
          },
          "yaxis": {
           "automargin": true,
           "gridcolor": "white",
           "linecolor": "white",
           "ticks": "",
           "title": {
            "standoff": 15
           },
           "zerolinecolor": "white",
           "zerolinewidth": 2
          }
         }
        },
        "title": {
         "text": "Franchise Comparison"
        },
        "xaxis": {
         "anchor": "y",
         "categoryorder": "total descending",
         "domain": [
          0,
          1
         ],
         "title": {}
        },
        "yaxis": {
         "anchor": "x",
         "domain": [
          0,
          1
         ],
         "title": {
          "text": "Relative Value"
         },
         "visible": false
        }
       }
      }
     },
     "metadata": {},
     "output_type": "display_data"
    }
   ],
   "source": [
    "# Summative report\n",
    "player_sums = full.copy()\n",
    "# Filter\n",
    "player_sums.loc[(player_sums['starters'].notna())&(player_sums['franchise_name'].notna())]\n",
    "# Calculate relative points for each position in each week\n",
    "player_sums = getRelProjs(player_sums)\n",
    "# Sum points across the season\n",
    "player_sums = getSeasonTotals(player_sums)\n",
    "\n",
    "# Visualize\n",
    "fig = compareFranchises(player_sums, how='relative')\n",
    "fig.show()"
   ]
  },
  {
   "cell_type": "code",
   "execution_count": 14,
   "metadata": {},
   "outputs": [
    {
     "data": {
      "application/vnd.plotly.v1+json": {
       "config": {
        "plotlyServerURL": "https://plot.ly"
       },
       "data": [
        {
         "alignmentgroup": "True",
         "customdata": [
          [
           11.62,
           "Jalen Hurts",
           "QB"
          ],
          [
           10.410000000000002,
           "Patrick Mahomes",
           "QB"
          ],
          [
           9.840000000000002,
           "Josh Allen",
           "QB"
          ],
          [
           6.760000000000003,
           "Lamar Jackson",
           "QB"
          ],
          [
           6.029999999999999,
           "Justin Fields",
           "QB"
          ],
          [
           5.259999999999996,
           "Kirk Cousins",
           "QB"
          ],
          [
           4.840000000000002,
           "Justin Herbert",
           "QB"
          ],
          [
           4.289999999999997,
           "Dak Prescott",
           "QB"
          ],
          [
           4.269999999999998,
           "Jimmy Garoppolo",
           "QB"
          ],
          [
           4.020000000000001,
           "Geno Smith",
           "QB"
          ],
          [
           3.679999999999998,
           "Joe Burrow",
           "QB"
          ],
          [
           3.2700000000000014,
           "Tua Tagovailoa",
           "QB"
          ],
          [
           3.1500000000000004,
           "Trevor Lawrence",
           "QB"
          ],
          [
           2.980000000000002,
           "Deshaun Watson",
           "QB"
          ],
          [
           2.7499999999999982,
           "Jared Goff",
           "QB"
          ],
          [
           2.41,
           "Daniel Jones",
           "QB"
          ],
          [
           2.3499999999999996,
           "Jordan Love",
           "QB"
          ],
          [
           1.709999999999999,
           "Matthew Stafford",
           "QB"
          ],
          [
           1.4399999999999977,
           "Anthony Richardson",
           "QB"
          ],
          [
           1.299999999999999,
           "Desmond Ridder",
           "QB"
          ],
          [
           1.2100000000000009,
           "Baker Mayfield",
           "QB"
          ],
          [
           1.1900000000000013,
           "Russell Wilson",
           "QB"
          ],
          [
           0.9599999999999991,
           "Brock Purdy",
           "QB"
          ],
          [
           0.2400000000000002,
           "Derek Carr",
           "QB"
          ],
          [
           0,
           "Mac Jones",
           "QB"
          ],
          [
           -0.4399999999999995,
           "Kenny Pickett",
           "QB"
          ],
          [
           -0.5800000000000001,
           "Ryan Tannehill",
           "QB"
          ],
          [
           -0.5999999999999996,
           "Sam Howell",
           "QB"
          ],
          [
           -1.0100000000000016,
           "Aaron Rodgers",
           "QB"
          ],
          [
           -1.200000000000001,
           "Bryce Young",
           "QB"
          ],
          [
           -2.2300000000000004,
           "C.J. Stroud",
           "QB"
          ],
          [
           -3.530000000000001,
           "Joshua Dobbs",
           "QB"
          ],
          [
           -7.760000000000001,
           "Tyler Huntley",
           "QB"
          ],
          [
           -8.370000000000001,
           "Davis Mills",
           "QB"
          ],
          [
           -8.67,
           "Mitch Trubisky",
           "QB"
          ],
          [
           -8.97,
           "Trey Lance",
           "QB"
          ],
          [
           -9.940000000000001,
           "Andy Dalton",
           "QB"
          ],
          [
           -9.99,
           "Marcus Mariota",
           "QB"
          ],
          [
           -10.2,
           "Teddy Bridgewater",
           "QB"
          ],
          [
           -10.46,
           "Zach Wilson",
           "QB"
          ],
          [
           -10.46,
           "Taylor Heinicke",
           "QB"
          ],
          [
           -10.81,
           "Jameis Winston",
           "QB"
          ],
          [
           -11.56,
           "Tyrod Taylor",
           "QB"
          ],
          [
           -11.58,
           "Nick Mullens",
           "QB"
          ],
          [
           -11.690000000000001,
           "Mike White",
           "QB"
          ],
          [
           -12.041,
           "Cooper Rush",
           "QB"
          ],
          [
           -12.25,
           "Jacoby Brissett",
           "QB"
          ],
          [
           -12.26,
           "Sam Darnold",
           "QB"
          ],
          [
           -12.760000000000002,
           "Sean Clifford",
           "QB"
          ],
          [
           -12.850000000000001,
           "Sam Ehlinger",
           "QB"
          ],
          [
           -12.9,
           "Malik Willis",
           "QB"
          ],
          [
           -12.903,
           "Kyle Allen",
           "QB"
          ],
          [
           -12.91,
           "Jarrett Stidham",
           "QB"
          ],
          [
           -12.96,
           "Brian Hoyer",
           "QB"
          ],
          [
           -13.020000000000001,
           "Kyle Trask",
           "QB"
          ],
          [
           -13.026,
           "Blaine Gabbert",
           "QB"
          ],
          [
           -13.043000000000001,
           "Easton Stick",
           "QB"
          ],
          [
           -13.06,
           "Gardner Minshew",
           "QB"
          ],
          [
           -13.112,
           "Drew Lock",
           "QB"
          ],
          [
           -13.116000000000001,
           "Mason Rudolph",
           "QB"
          ],
          [
           -13.159,
           "C.J. Beathard",
           "QB"
          ],
          [
           -13.190000000000001,
           "Dorian Thompson-Robinson",
           "QB"
          ],
          [
           -13.209000000000001,
           "Jake Browning",
           "QB"
          ],
          [
           -13.217,
           "Brandon Allen",
           "QB"
          ],
          [
           -13.22,
           "Case Keenum",
           "QB"
          ],
          [
           -13.22,
           "Logan Woodside",
           "QB"
          ]
         ],
         "hovertemplate": "<b>%{hovertext}</b><br><br>Predicted Points=%{y}<br>Relative Value=%{customdata[0]}<extra></extra>",
         "hovertext": [
          "Jalen Hurts",
          "Patrick Mahomes",
          "Josh Allen",
          "Lamar Jackson",
          "Justin Fields",
          "Kirk Cousins",
          "Justin Herbert",
          "Dak Prescott",
          "Jimmy Garoppolo",
          "Geno Smith",
          "Joe Burrow",
          "Tua Tagovailoa",
          "Trevor Lawrence",
          "Deshaun Watson",
          "Jared Goff",
          "Daniel Jones",
          "Jordan Love",
          "Matthew Stafford",
          "Anthony Richardson",
          "Desmond Ridder",
          "Baker Mayfield",
          "Russell Wilson",
          "Brock Purdy",
          "Derek Carr",
          "Mac Jones",
          "Kenny Pickett",
          "Ryan Tannehill",
          "Sam Howell",
          "Aaron Rodgers",
          "Bryce Young",
          "C.J. Stroud",
          "Joshua Dobbs",
          "Tyler Huntley",
          "Davis Mills",
          "Mitch Trubisky",
          "Trey Lance",
          "Andy Dalton",
          "Marcus Mariota",
          "Teddy Bridgewater",
          "Zach Wilson",
          "Taylor Heinicke",
          "Jameis Winston",
          "Tyrod Taylor",
          "Nick Mullens",
          "Mike White",
          "Cooper Rush",
          "Jacoby Brissett",
          "Sam Darnold",
          "Sean Clifford",
          "Sam Ehlinger",
          "Malik Willis",
          "Kyle Allen",
          "Jarrett Stidham",
          "Brian Hoyer",
          "Kyle Trask",
          "Blaine Gabbert",
          "Easton Stick",
          "Gardner Minshew",
          "Drew Lock",
          "Mason Rudolph",
          "C.J. Beathard",
          "Dorian Thompson-Robinson",
          "Jake Browning",
          "Brandon Allen",
          "Case Keenum",
          "Logan Woodside"
         ],
         "legendgroup": "QB",
         "marker": {
          "color": "hsla(210, 60%, 25%, 1)",
          "pattern": {
           "shape": ""
          }
         },
         "name": "QB",
         "offsetgroup": "QB",
         "orientation": "v",
         "showlegend": true,
         "text": [
          "Jalen Hurts",
          "Patrick Mahomes",
          "Josh Allen",
          "Lamar Jackson",
          "Justin Fields",
          "Kirk Cousins",
          "Justin Herbert",
          "Dak Prescott",
          "Jimmy Garoppolo",
          "Geno Smith",
          "Joe Burrow",
          "Tua Tagovailoa",
          "Trevor Lawrence",
          "Deshaun Watson",
          "Jared Goff",
          "Daniel Jones",
          "Jordan Love",
          "Matthew Stafford",
          "Anthony Richardson",
          "Desmond Ridder",
          "Baker Mayfield",
          "Russell Wilson",
          "Brock Purdy",
          "Derek Carr",
          "Mac Jones",
          "Kenny Pickett",
          "Ryan Tannehill",
          "Sam Howell",
          "Aaron Rodgers",
          "Bryce Young",
          "C.J. Stroud",
          "Joshua Dobbs",
          "Tyler Huntley",
          "Davis Mills",
          "Mitch Trubisky",
          "Trey Lance",
          "Andy Dalton",
          "Marcus Mariota",
          "Teddy Bridgewater",
          "Zach Wilson",
          "Taylor Heinicke",
          "Jameis Winston",
          "Tyrod Taylor",
          "Nick Mullens",
          "Mike White",
          "Cooper Rush",
          "Jacoby Brissett",
          "Sam Darnold",
          "Sean Clifford",
          "Sam Ehlinger",
          "Malik Willis",
          "Kyle Allen",
          "Jarrett Stidham",
          "Brian Hoyer",
          "Kyle Trask",
          "Blaine Gabbert",
          "Easton Stick",
          "Gardner Minshew",
          "Drew Lock",
          "Mason Rudolph",
          "C.J. Beathard",
          "Dorian Thompson-Robinson",
          "Jake Browning",
          "Brandon Allen",
          "Case Keenum",
          "Logan Woodside"
         ],
         "textposition": "inside",
         "type": "bar",
         "x": [
          "Croccity Body Snatchers",
          "Saskatoon Squatches ",
          "Comeback 👑’s",
          "GusTheBus",
          "Idk much about soccer ",
          "2014champ",
          "kevinbash",
          "📜 Providence 🪬 Spirits 🥂",
          "Idk much about soccer ",
          "DangeRUSS Last Ride",
          "Verdanks Vacqueros FFC",
          "Verdanks Vacqueros FFC",
          "2014champ",
          "Pretty Big Wieners",
          "Verdanks Vacqueros FFC",
          "Comeback 👑’s",
          "📜 Providence 🪬 Spirits 🥂",
          "Comeback 👑’s",
          "kevinbash",
          "GusTheBus",
          "Count of Monte Christian",
          "DangeRUSS Last Ride",
          "Croccity Body Snatchers",
          "Count of Monte Christian",
          "Pretty Big Wieners",
          "GusTheBus",
          "kevinbash",
          "kevinbash",
          "Pretty Big Wieners",
          "Idk much about soccer ",
          "Pretty Big Wieners",
          "DangeRUSS Last Ride",
          null,
          null,
          null,
          "DangeRUSS Last Ride",
          null,
          null,
          null,
          "📜 Providence 🪬 Spirits 🥂",
          null,
          null,
          null,
          null,
          "2014champ",
          null,
          null,
          "Count of Monte Christian",
          null,
          null,
          null,
          null,
          null,
          null,
          null,
          null,
          null,
          null,
          null,
          null,
          null,
          "DangeRUSS Last Ride",
          null,
          null,
          null,
          null
         ],
         "xaxis": "x",
         "y": [
          24.84,
          23.630000000000003,
          23.060000000000002,
          19.980000000000004,
          19.25,
          18.479999999999997,
          18.060000000000002,
          17.509999999999998,
          17.49,
          17.240000000000002,
          16.9,
          16.490000000000002,
          16.37,
          16.200000000000003,
          15.969999999999999,
          15.63,
          15.57,
          14.93,
          14.659999999999998,
          14.52,
          14.430000000000001,
          14.410000000000002,
          14.18,
          13.46,
          13.22,
          12.780000000000001,
          12.64,
          12.620000000000001,
          12.209999999999999,
          12.02,
          10.99,
          9.69,
          5.46,
          4.8500000000000005,
          4.550000000000001,
          4.25,
          3.2800000000000002,
          3.2300000000000004,
          3.0200000000000005,
          2.7600000000000007,
          2.76,
          2.41,
          1.6600000000000001,
          1.6400000000000001,
          1.53,
          1.179,
          0.9700000000000002,
          0.9600000000000001,
          0.45999999999999996,
          0.37000000000000005,
          0.32,
          0.31700000000000006,
          0.31,
          0.26,
          0.2,
          0.194,
          0.17700000000000002,
          0.16,
          0.108,
          0.104,
          0.06099999999999997,
          0.03,
          0.011000000000000005,
          0.003000000000000001,
          0,
          0
         ],
         "yaxis": "y"
        },
        {
         "alignmentgroup": "True",
         "customdata": [
          [
           11.369999999999997,
           "Christian McCaffrey",
           "RB"
          ],
          [
           9.709999999999997,
           "Derrick Henry",
           "RB"
          ],
          [
           9.385000000000002,
           "Nick Chubb",
           "RB"
          ],
          [
           8.729999999999997,
           "Josh Jacobs",
           "RB"
          ],
          [
           7.93,
           "Austin Ekeler",
           "RB"
          ],
          [
           7.634999999999998,
           "Rhamondre Stevenson",
           "RB"
          ],
          [
           7.559999999999999,
           "Antonio Gibson",
           "RB"
          ],
          [
           7.499999999999998,
           "Bijan Robinson",
           "RB"
          ],
          [
           7.334999999999997,
           "Travis Etienne",
           "RB"
          ],
          [
           7.149999999999999,
           "J.K. Dobbins",
           "RB"
          ],
          [
           6.969999999999999,
           "Saquon Barkley",
           "RB"
          ],
          [
           6.91,
           "Aaron Jones",
           "RB"
          ],
          [
           6.6899999999999995,
           "Joe Mixon",
           "RB"
          ],
          [
           6.359999999999999,
           "Kenneth Walker",
           "RB"
          ],
          [
           5.739999999999998,
           "Tony Pollard",
           "RB"
          ],
          [
           5.584999999999997,
           "Alexander Mattison",
           "RB"
          ],
          [
           5.470000000000001,
           "Najee Harris",
           "RB"
          ],
          [
           5.469999999999999,
           "James Conner",
           "RB"
          ],
          [
           5.409999999999998,
           "Cam Akers",
           "RB"
          ],
          [
           4.85,
           "Brian Robinson",
           "RB"
          ],
          [
           4.664999999999999,
           "Isiah Pacheco",
           "RB"
          ],
          [
           4.615000000000002,
           "Khalil Herbert",
           "RB"
          ],
          [
           4.479999999999999,
           "Zamir White",
           "RB"
          ],
          [
           4.404999999999998,
           "AJ Dillon",
           "RB"
          ],
          [
           4.279999999999998,
           "Miles Sanders",
           "RB"
          ],
          [
           3.955,
           "Dameon Pierce",
           "RB"
          ],
          [
           3.9250000000000007,
           "Raheem Mostert",
           "RB"
          ],
          [
           3.7699999999999996,
           "David Montgomery",
           "RB"
          ],
          [
           3.584999999999999,
           "Jamaal Williams",
           "RB"
          ],
          [
           3.3199999999999985,
           "Javonte Williams",
           "RB"
          ],
          [
           2.9499999999999993,
           "Ezekiel Elliott",
           "RB"
          ],
          [
           2.7749999999999986,
           "Rachaad White",
           "RB"
          ],
          [
           2.5199999999999996,
           "D'Andre Swift",
           "RB"
          ],
          [
           2.3249999999999975,
           "Cordarrelle Patterson",
           "RB"
          ],
          [
           2.134999999999998,
           "Breece Hall",
           "RB"
          ],
          [
           2.0749999999999993,
           "Jahmyr Gibbs",
           "RB"
          ],
          [
           1.9799999999999986,
           "James Cook",
           "RB"
          ],
          [
           1.4899999999999984,
           "Zach Charbonnet",
           "RB"
          ],
          [
           1.375,
           "DeeJay Dallas",
           "RB"
          ],
          [
           1.245000000000001,
           "Rico Dowdle",
           "RB"
          ],
          [
           1.0350000000000001,
           "Jerick McKinnon",
           "RB"
          ],
          [
           0.9250000000000007,
           "Elijah Mitchell",
           "RB"
          ],
          [
           0.8099999999999987,
           "Dalvin Cook",
           "RB"
          ],
          [
           0.504999999999999,
           "Boston Scott",
           "RB"
          ],
          [
           0.40499999999999936,
           "Kenneth Gainwell",
           "RB"
          ],
          [
           0.34999999999999787,
           "Tyler Allgeier",
           "RB"
          ],
          [
           0.34499999999999886,
           "Raheem Blackshear",
           "RB"
          ],
          [
           0.08999999999999986,
           "Jerome Ford",
           "RB"
          ],
          [
           0,
           "Damien Harris",
           "RB"
          ],
          [
           -0.11000000000000121,
           "Zack Moss",
           "RB"
          ],
          [
           -0.245000000000001,
           "D'Onta Foreman",
           "RB"
          ],
          [
           -0.2950000000000008,
           "Chuba Hubbard",
           "RB"
          ],
          [
           -1.3400000000000007,
           "Ty Chandler",
           "RB"
          ],
          [
           -1.5050000000000008,
           "Devin Singletary",
           "RB"
          ],
          [
           -1.5850000000000009,
           "Chase Edmonds",
           "RB"
          ],
          [
           -2.1850000000000005,
           "Samaje Perine",
           "RB"
          ],
          [
           -2.2700000000000014,
           "Kyren Williams",
           "RB"
          ],
          [
           -2.505000000000001,
           "Latavius Murray",
           "RB"
          ],
          [
           -2.5070000000000014,
           "Chris Evans",
           "RB"
          ],
          [
           -2.705,
           "Gus Edwards",
           "RB"
          ],
          [
           -2.8550000000000004,
           "Michael Carter",
           "RB"
          ],
          [
           -3.290000000000001,
           "Anthony McFarland",
           "RB"
          ],
          [
           -3.455000000000001,
           "Ameer Abdullah",
           "RB"
          ],
          [
           -3.4720000000000013,
           "Eric Gray",
           "RB"
          ],
          [
           -3.4800000000000004,
           "Clyde Edwards-Helaire",
           "RB"
          ],
          [
           -3.7300000000000004,
           "Trayveon Williams",
           "RB"
          ],
          [
           -3.780000000000001,
           "Jaylen Warren",
           "RB"
          ],
          [
           -3.9750000000000005,
           "Tyjae Spears",
           "RB"
          ],
          [
           -4.170000000000002,
           "Deon Jackson",
           "RB"
          ],
          [
           -4.270000000000001,
           "Joshua Kelley",
           "RB"
          ],
          [
           -4.285000000000001,
           "JaMycal Hasty",
           "RB"
          ],
          [
           -4.325000000000001,
           "Justice Hill",
           "RB"
          ],
          [
           -4.640000000000001,
           "Pierre Strong",
           "RB"
          ],
          [
           -4.765000000000001,
           "Matt Breida",
           "RB"
          ],
          [
           -4.780000000000001,
           "Mike Boone",
           "RB"
          ],
          [
           -4.785000000000002,
           "Julius Chestnut",
           "RB"
          ],
          [
           -4.995000000000001,
           "Dare Ogunbowale",
           "RB"
          ],
          [
           -5.160000000000001,
           "Gary Brightwell",
           "RB"
          ],
          [
           -5.32,
           "Ke'Shawn Vaughn",
           "RB"
          ],
          [
           -5.330000000000001,
           "Brandon Johnson",
           "RB"
          ],
          [
           -5.350000000000001,
           "Tank Bigsby",
           "RB"
          ],
          [
           -5.475000000000001,
           "Keaontay Ingram",
           "RB"
          ],
          [
           -5.5325000000000015,
           "Roschon Johnson",
           "RB"
          ],
          [
           -5.570000000000001,
           "Jordan Mason",
           "RB"
          ],
          [
           -5.610000000000001,
           "Rashaad Penny",
           "RB"
          ],
          [
           -5.675000000000001,
           "Reggie Gilliam",
           "RB"
          ],
          [
           -5.8450000000000015,
           "Chris Rodriguez",
           "RB"
          ],
          [
           -5.870000000000001,
           "Ty Montgomery",
           "RB"
          ],
          [
           -5.875000000000001,
           "Chase Brown",
           "RB"
          ],
          [
           -5.965000000000002,
           "Brandon Bolden",
           "RB"
          ],
          [
           -6.125000000000001,
           "Salvon Ahmed",
           "RB"
          ],
          [
           -6.200000000000001,
           "Kendre Miller",
           "RB"
          ],
          [
           -6.530000000000001,
           "Deuce Vaughn",
           "RB"
          ],
          [
           -6.675000000000001,
           "Travis Homer",
           "RB"
          ],
          [
           -6.797500000000001,
           "Emanuel Wilson",
           "RB"
          ],
          [
           -7.030000000000001,
           "Isaiah Spiller",
           "RB"
          ],
          [
           -7.115000000000001,
           "Tyrion Davis-Price",
           "RB"
          ],
          [
           -7.215000000000002,
           "Zach Evans",
           "RB"
          ],
          [
           -7.4700000000000015,
           "Jaleel McLaughlin",
           "RB"
          ],
          [
           -7.7025000000000015,
           "Emari Demercado",
           "RB"
          ],
          [
           -7.8050000000000015,
           "Evan Hull",
           "RB"
          ],
          [
           -7.860000000000001,
           "D'Ernest Johnson",
           "RB"
          ],
          [
           -7.900000000000001,
           "Ronnie Rivers",
           "RB"
          ],
          [
           -8.05,
           "Elijah Dotson",
           "RB"
          ],
          [
           -8.052000000000001,
           "Andrew Beck",
           "RB"
          ],
          [
           -8.054000000000002,
           "Sean Tucker",
           "RB"
          ]
         ],
         "hovertemplate": "<b>%{hovertext}</b><br><br>Predicted Points=%{y}<br>Relative Value=%{customdata[0]}<extra></extra>",
         "hovertext": [
          "Christian McCaffrey",
          "Derrick Henry",
          "Nick Chubb",
          "Josh Jacobs",
          "Austin Ekeler",
          "Rhamondre Stevenson",
          "Antonio Gibson",
          "Bijan Robinson",
          "Travis Etienne",
          "J.K. Dobbins",
          "Saquon Barkley",
          "Aaron Jones",
          "Joe Mixon",
          "Kenneth Walker",
          "Tony Pollard",
          "Alexander Mattison",
          "Najee Harris",
          "James Conner",
          "Cam Akers",
          "Brian Robinson",
          "Isiah Pacheco",
          "Khalil Herbert",
          "Zamir White",
          "AJ Dillon",
          "Miles Sanders",
          "Dameon Pierce",
          "Raheem Mostert",
          "David Montgomery",
          "Jamaal Williams",
          "Javonte Williams",
          "Ezekiel Elliott",
          "Rachaad White",
          "D'Andre Swift",
          "Cordarrelle Patterson",
          "Breece Hall",
          "Jahmyr Gibbs",
          "James Cook",
          "Zach Charbonnet",
          "DeeJay Dallas",
          "Rico Dowdle",
          "Jerick McKinnon",
          "Elijah Mitchell",
          "Dalvin Cook",
          "Boston Scott",
          "Kenneth Gainwell",
          "Tyler Allgeier",
          "Raheem Blackshear",
          "Jerome Ford",
          "Damien Harris",
          "Zack Moss",
          "D'Onta Foreman",
          "Chuba Hubbard",
          "Ty Chandler",
          "Devin Singletary",
          "Chase Edmonds",
          "Samaje Perine",
          "Kyren Williams",
          "Latavius Murray",
          "Chris Evans",
          "Gus Edwards",
          "Michael Carter",
          "Anthony McFarland",
          "Ameer Abdullah",
          "Eric Gray",
          "Clyde Edwards-Helaire",
          "Trayveon Williams",
          "Jaylen Warren",
          "Tyjae Spears",
          "Deon Jackson",
          "Joshua Kelley",
          "JaMycal Hasty",
          "Justice Hill",
          "Pierre Strong",
          "Matt Breida",
          "Mike Boone",
          "Julius Chestnut",
          "Dare Ogunbowale",
          "Gary Brightwell",
          "Ke'Shawn Vaughn",
          "Brandon Johnson",
          "Tank Bigsby",
          "Keaontay Ingram",
          "Roschon Johnson",
          "Jordan Mason",
          "Rashaad Penny",
          "Reggie Gilliam",
          "Chris Rodriguez",
          "Ty Montgomery",
          "Chase Brown",
          "Brandon Bolden",
          "Salvon Ahmed",
          "Kendre Miller",
          "Deuce Vaughn",
          "Travis Homer",
          "Emanuel Wilson",
          "Isaiah Spiller",
          "Tyrion Davis-Price",
          "Zach Evans",
          "Jaleel McLaughlin",
          "Emari Demercado",
          "Evan Hull",
          "D'Ernest Johnson",
          "Ronnie Rivers",
          "Elijah Dotson",
          "Andrew Beck",
          "Sean Tucker"
         ],
         "legendgroup": "RB",
         "marker": {
          "color": "hsla(12, 50%, 45%, 1)",
          "pattern": {
           "shape": ""
          }
         },
         "name": "RB",
         "offsetgroup": "RB",
         "orientation": "v",
         "showlegend": true,
         "text": [
          "Christian McCaffrey",
          "Derrick Henry",
          "Nick Chubb",
          "Josh Jacobs",
          "Austin Ekeler",
          "Rhamondre Stevenson",
          "Antonio Gibson",
          "Bijan Robinson",
          "Travis Etienne",
          "J.K. Dobbins",
          "Saquon Barkley",
          "Aaron Jones",
          "Joe Mixon",
          "Kenneth Walker",
          "Tony Pollard",
          "Alexander Mattison",
          "Najee Harris",
          "James Conner",
          "Cam Akers",
          "Brian Robinson",
          "Isiah Pacheco",
          "Khalil Herbert",
          "Zamir White",
          "AJ Dillon",
          "Miles Sanders",
          "Dameon Pierce",
          "Raheem Mostert",
          "David Montgomery",
          "Jamaal Williams",
          "Javonte Williams",
          "Ezekiel Elliott",
          "Rachaad White",
          "D'Andre Swift",
          "Cordarrelle Patterson",
          "Breece Hall",
          "Jahmyr Gibbs",
          "James Cook",
          "Zach Charbonnet",
          "DeeJay Dallas",
          "Rico Dowdle",
          "Jerick McKinnon",
          "Elijah Mitchell",
          "Dalvin Cook",
          "Boston Scott",
          "Kenneth Gainwell",
          "Tyler Allgeier",
          "Raheem Blackshear",
          "Jerome Ford",
          "Damien Harris",
          "Zack Moss",
          "D'Onta Foreman",
          "Chuba Hubbard",
          "Ty Chandler",
          "Devin Singletary",
          "Chase Edmonds",
          "Samaje Perine",
          "Kyren Williams",
          "Latavius Murray",
          "Chris Evans",
          "Gus Edwards",
          "Michael Carter",
          "Anthony McFarland",
          "Ameer Abdullah",
          "Eric Gray",
          "Clyde Edwards-Helaire",
          "Trayveon Williams",
          "Jaylen Warren",
          "Tyjae Spears",
          "Deon Jackson",
          "Joshua Kelley",
          "JaMycal Hasty",
          "Justice Hill",
          "Pierre Strong",
          "Matt Breida",
          "Mike Boone",
          "Julius Chestnut",
          "Dare Ogunbowale",
          "Gary Brightwell",
          "Ke'Shawn Vaughn",
          "Brandon Johnson",
          "Tank Bigsby",
          "Keaontay Ingram",
          "Roschon Johnson",
          "Jordan Mason",
          "Rashaad Penny",
          "Reggie Gilliam",
          "Chris Rodriguez",
          "Ty Montgomery",
          "Chase Brown",
          "Brandon Bolden",
          "Salvon Ahmed",
          "Kendre Miller",
          "Deuce Vaughn",
          "Travis Homer",
          "Emanuel Wilson",
          "Isaiah Spiller",
          "Tyrion Davis-Price",
          "Zach Evans",
          "Jaleel McLaughlin",
          "Emari Demercado",
          "Evan Hull",
          "D'Ernest Johnson",
          "Ronnie Rivers",
          "Elijah Dotson",
          "Andrew Beck",
          "Sean Tucker"
         ],
         "textposition": "inside",
         "type": "bar",
         "x": [
          "DangeRUSS Last Ride",
          "DangeRUSS Last Ride",
          "kevinbash",
          "Croccity Body Snatchers",
          "Croccity Body Snatchers",
          "Saskatoon Squatches ",
          "Count of Monte Christian",
          "2014champ",
          "Verdanks Vacqueros FFC",
          "Pretty Big Wieners",
          "Saskatoon Squatches ",
          "kevinbash",
          "Croccity Body Snatchers",
          "Verdanks Vacqueros FFC",
          "Saskatoon Squatches ",
          "Pretty Big Wieners",
          "2014champ",
          "DangeRUSS Last Ride",
          "GusTheBus",
          "Idk much about soccer ",
          "Saskatoon Squatches ",
          "GusTheBus",
          "kevinbash",
          "📜 Providence 🪬 Spirits 🥂",
          "Pretty Big Wieners",
          "GusTheBus",
          "2014champ",
          "Croccity Body Snatchers",
          "Comeback 👑’s",
          "Saskatoon Squatches ",
          "Verdanks Vacqueros FFC",
          "📜 Providence 🪬 Spirits 🥂",
          "📜 Providence 🪬 Spirits 🥂",
          null,
          "Comeback 👑’s",
          "📜 Providence 🪬 Spirits 🥂",
          "Pretty Big Wieners",
          "Idk much about soccer ",
          null,
          "📜 Providence 🪬 Spirits 🥂",
          "DangeRUSS Last Ride",
          "Verdanks Vacqueros FFC",
          "GusTheBus",
          null,
          "Count of Monte Christian",
          "DangeRUSS Last Ride",
          null,
          "Comeback 👑’s",
          "2014champ",
          "Verdanks Vacqueros FFC",
          null,
          null,
          "kevinbash",
          "Verdanks Vacqueros FFC",
          "kevinbash",
          "GusTheBus",
          "Croccity Body Snatchers",
          null,
          null,
          "Comeback 👑’s",
          null,
          null,
          null,
          "Comeback 👑’s",
          "Comeback 👑’s",
          null,
          "Saskatoon Squatches ",
          "Pretty Big Wieners",
          "2014champ",
          null,
          null,
          null,
          null,
          "Count of Monte Christian",
          null,
          null,
          null,
          null,
          null,
          null,
          "Comeback 👑’s",
          "2014champ",
          "📜 Providence 🪬 Spirits 🥂",
          null,
          "GusTheBus",
          null,
          "GusTheBus",
          null,
          "Idk much about soccer ",
          null,
          null,
          "Count of Monte Christian",
          "DangeRUSS Last Ride",
          null,
          null,
          "Comeback 👑’s",
          "Idk much about soccer ",
          null,
          "Comeback 👑’s",
          null,
          "Pretty Big Wieners",
          null,
          null,
          null,
          null,
          "📜 Providence 🪬 Spirits 🥂"
         ],
         "xaxis": "x",
         "y": [
          19.56,
          17.9,
          17.575000000000003,
          16.919999999999998,
          16.12,
          15.825,
          15.75,
          15.69,
          15.524999999999999,
          15.34,
          15.16,
          15.100000000000001,
          14.88,
          14.55,
          13.93,
          13.774999999999999,
          13.660000000000002,
          13.66,
          13.6,
          13.040000000000001,
          12.855,
          12.805000000000003,
          12.67,
          12.594999999999999,
          12.469999999999999,
          12.145000000000001,
          12.115000000000002,
          11.96,
          11.775,
          11.51,
          11.14,
          10.965,
          10.71,
          10.514999999999999,
          10.325,
          10.265,
          10.17,
          9.68,
          9.565000000000001,
          9.435000000000002,
          9.225000000000001,
          9.115000000000002,
          9,
          8.695,
          8.595,
          8.54,
          8.535,
          8.280000000000001,
          8.190000000000001,
          8.08,
          7.945,
          7.8950000000000005,
          6.8500000000000005,
          6.6850000000000005,
          6.605,
          6.005000000000001,
          5.92,
          5.6850000000000005,
          5.683,
          5.485000000000001,
          5.335000000000001,
          4.9,
          4.735,
          4.718,
          4.710000000000001,
          4.460000000000001,
          4.41,
          4.215000000000001,
          4.02,
          3.9200000000000004,
          3.9050000000000002,
          3.8649999999999998,
          3.5500000000000007,
          3.4250000000000003,
          3.41,
          3.405,
          3.1950000000000003,
          3.0300000000000002,
          2.8700000000000006,
          2.8600000000000003,
          2.8400000000000003,
          2.715,
          2.6574999999999998,
          2.62,
          2.58,
          2.5150000000000006,
          2.3449999999999998,
          2.3200000000000003,
          2.3150000000000004,
          2.225,
          2.0650000000000004,
          1.9899999999999998,
          1.6600000000000001,
          1.5150000000000001,
          1.3925,
          1.1600000000000001,
          1.075,
          0.9750000000000001,
          0.72,
          0.48750000000000004,
          0.385,
          0.33000000000000007,
          0.29000000000000004,
          0.14,
          0.138,
          0.136
         ],
         "yaxis": "y"
        },
        {
         "alignmentgroup": "True",
         "customdata": [
          [
           8.075000000000001,
           "Justin Jefferson",
           "WR"
          ],
          [
           6.290000000000003,
           "Tyreek Hill",
           "WR"
          ],
          [
           5.954999999999998,
           "Ja'Marr Chase",
           "WR"
          ],
          [
           5.422999999999998,
           "Davante Adams",
           "WR"
          ],
          [
           5.395,
           "A.J. Brown",
           "WR"
          ],
          [
           5.359999999999999,
           "CeeDee Lamb",
           "WR"
          ],
          [
           4.579999999999998,
           "Keenan Allen",
           "WR"
          ],
          [
           4.522999999999998,
           "Stefon Diggs",
           "WR"
          ],
          [
           4.33,
           "Jaylen Waddle",
           "WR"
          ],
          [
           3.795,
           "Romeo Doubs",
           "WR"
          ],
          [
           3.594999999999999,
           "DeAndre Hopkins",
           "WR"
          ],
          [
           3.589000000000002,
           "Chris Olave",
           "WR"
          ],
          [
           3.5650000000000013,
           "Amon-Ra St. Brown",
           "WR"
          ],
          [
           3.5329999999999977,
           "Amari Cooper",
           "WR"
          ],
          [
           3.4849999999999994,
           "Tee Higgins",
           "WR"
          ],
          [
           3.4079999999999995,
           "DeVonta Smith",
           "WR"
          ],
          [
           3.334999999999999,
           "Garrett Wilson",
           "WR"
          ],
          [
           3.2300000000000004,
           "Kalif Raymond",
           "WR"
          ],
          [
           3.214999999999998,
           "DK Metcalf",
           "WR"
          ],
          [
           3.084999999999999,
           "Deebo Samuel",
           "WR"
          ],
          [
           3.0649999999999995,
           "Mike Evans",
           "WR"
          ],
          [
           2.8200000000000003,
           "Devin Duvernay",
           "WR"
          ],
          [
           2.7750000000000004,
           "Tyler Lockett",
           "WR"
          ],
          [
           2.7300000000000004,
           "Jamal Agnew",
           "WR"
          ],
          [
           2.6800000000000015,
           "Christian Kirk",
           "WR"
          ],
          [
           2.545,
           "Chris Godwin",
           "WR"
          ],
          [
           2.419999999999998,
           "Rashid Shaheed",
           "WR"
          ],
          [
           2.369999999999999,
           "Marquez Valdes-Scantling",
           "WR"
          ],
          [
           2.2699999999999996,
           "Drake London",
           "WR"
          ],
          [
           2.26,
           "Marquise Brown",
           "WR"
          ],
          [
           2.259999999999998,
           "Mike Williams",
           "WR"
          ],
          [
           1.995000000000001,
           "Jahan Dotson",
           "WR"
          ],
          [
           1.9849999999999994,
           "DJ Moore",
           "WR"
          ],
          [
           1.8599999999999994,
           "Jordan Addison",
           "WR"
          ],
          [
           1.6600000000000001,
           "Braxton Berrios",
           "WR"
          ],
          [
           1.6549999999999994,
           "Michael Pittman",
           "WR"
          ],
          [
           1.459999999999999,
           "Terry McLaurin",
           "WR"
          ],
          [
           1.4000000000000004,
           "Greg Dortch",
           "WR"
          ],
          [
           1.3100000000000005,
           "Calvin Ridley",
           "WR"
          ],
          [
           1.2100000000000009,
           "Diontae Johnson",
           "WR"
          ],
          [
           1.1600000000000001,
           "Nico Collins",
           "WR"
          ],
          [
           1.1499999999999986,
           "George Pickens",
           "WR"
          ],
          [
           1.0099999999999998,
           "Richie James",
           "WR"
          ],
          [
           0.9350000000000005,
           "Jerry Jeudy",
           "WR"
          ],
          [
           0.7560000000000002,
           "JuJu Smith-Schuster",
           "WR"
          ],
          [
           0.7349999999999994,
           "Jaxon Smith-Njigba",
           "WR"
          ],
          [
           0.6849999999999987,
           "Courtland Sutton",
           "WR"
          ],
          [
           0.3200000000000003,
           "Zay Jones",
           "WR"
          ],
          [
           0,
           "Mecole Hardman",
           "WR"
          ],
          [
           -0.015000000000000568,
           "Rashod Bateman",
           "WR"
          ],
          [
           -0.04499999999999993,
           "Brandon Aiyuk",
           "WR"
          ],
          [
           -0.1200000000000001,
           "Donovan Peoples-Jones",
           "WR"
          ],
          [
           -0.14000000000000057,
           "DeAndre Carter",
           "WR"
          ],
          [
           -0.16500000000000092,
           "Jakobi Meyers",
           "WR"
          ],
          [
           -0.2599999999999998,
           "Rondale Moore",
           "WR"
          ],
          [
           -0.3799999999999999,
           "Velus Jones",
           "WR"
          ],
          [
           -0.3899999999999997,
           "K.J. Osborn",
           "WR"
          ],
          [
           -0.4399999999999995,
           "Van Jefferson",
           "WR"
          ],
          [
           -0.5300000000000002,
           "Gabe Davis",
           "WR"
          ],
          [
           -0.5400000000000009,
           "Deven Thompkins",
           "WR"
          ],
          [
           -0.5650000000000004,
           "Derius Davis",
           "WR"
          ],
          [
           -0.6150000000000002,
           "Wan'Dale Robinson",
           "WR"
          ],
          [
           -0.8400000000000007,
           "DeVante Parker",
           "WR"
          ],
          [
           -0.8700000000000001,
           "Michael Thomas",
           "WR"
          ],
          [
           -0.875,
           "Darius Slayton",
           "WR"
          ],
          [
           -1.1400000000000006,
           "KaVontae Turpin",
           "WR"
          ],
          [
           -1.1899999999999995,
           "Darnell Mooney",
           "WR"
          ],
          [
           -1.3149999999999995,
           "Parris Campbell",
           "WR"
          ],
          [
           -1.3439999999999994,
           "Allen Lazard",
           "WR"
          ],
          [
           -1.4300000000000006,
           "Brandin Cooks",
           "WR"
          ],
          [
           -1.4800000000000004,
           "Odell Beckham",
           "WR"
          ],
          [
           -1.508000000000001,
           "Joshua Palmer",
           "WR"
          ],
          [
           -1.5749999999999993,
           "Curtis Samuel",
           "WR"
          ],
          [
           -1.8900000000000006,
           "Treylon Burks",
           "WR"
          ],
          [
           -1.8900000000000006,
           "Marvin Mims",
           "WR"
          ],
          [
           -1.9249999999999998,
           "Mack Hollins",
           "WR"
          ],
          [
           -1.9649999999999999,
           "Josh Reynolds",
           "WR"
          ],
          [
           -1.9649999999999999,
           "Skyy Moore",
           "WR"
          ],
          [
           -2.040000000000001,
           "Tyler Boyd",
           "WR"
          ],
          [
           -2.2749999999999995,
           "Adam Thielen",
           "WR"
          ],
          [
           -2.615,
           "Deonte Harty",
           "WR"
          ],
          [
           -2.6450000000000005,
           "Olamide Zaccheaus",
           "WR"
          ],
          [
           -2.6500000000000004,
           "Trey Palmer",
           "WR"
          ],
          [
           -2.7650000000000006,
           "Robert Woods",
           "WR"
          ],
          [
           -2.8630000000000004,
           "Hunter Renfrow",
           "WR"
          ],
          [
           -2.99,
           "Isaiah Hodgins",
           "WR"
          ],
          [
           -3.0949999999999998,
           "Kendrick Bourne",
           "WR"
          ],
          [
           -3.115,
           "Alec Pierce",
           "WR"
          ],
          [
           -3.165000000000001,
           "Ben Skowronek",
           "WR"
          ],
          [
           -3.3099999999999996,
           "Nick Westbrook-Ikhine",
           "WR"
          ],
          [
           -3.365,
           "Quentin Johnston",
           "WR"
          ],
          [
           -3.4299999999999997,
           "Tutu Atwell",
           "WR"
          ],
          [
           -3.5250000000000004,
           "Allen Robinson",
           "WR"
          ],
          [
           -3.6000000000000005,
           "Kadarius Toney",
           "WR"
          ],
          [
           -3.665,
           "Michael Gallup",
           "WR"
          ],
          [
           -3.9450000000000007,
           "Zay Flowers",
           "WR"
          ],
          [
           -4.0200000000000005,
           "Jayden Reed",
           "WR"
          ],
          [
           -4.200000000000001,
           "Terrace Marshall",
           "WR"
          ],
          [
           -4.264,
           "Randall Cobb",
           "WR"
          ],
          [
           -4.275,
           "Isaiah McKenzie",
           "WR"
          ],
          [
           -4.29,
           "Brandon Powell",
           "WR"
          ],
          [
           -4.315,
           "Jauan Jennings",
           "WR"
          ],
          [
           -4.415,
           "Marvin Jones",
           "WR"
          ],
          [
           -4.448,
           "Rashee Rice",
           "WR"
          ],
          [
           -4.4750000000000005,
           "Calvin Austin",
           "WR"
          ],
          [
           -4.5600000000000005,
           "Noah Brown",
           "WR"
          ],
          [
           -4.6000000000000005,
           "Equanimeous St. Brown",
           "WR"
          ],
          [
           -4.605,
           "Laviska Shenault",
           "WR"
          ],
          [
           -4.6450000000000005,
           "Chase Claypool",
           "WR"
          ],
          [
           -4.655,
           "Trent Sherfield",
           "WR"
          ],
          [
           -4.710000000000001,
           "Chris Moore",
           "WR"
          ],
          [
           -4.815,
           "Jalen Guyton",
           "WR"
          ],
          [
           -4.84,
           "Trenton Irwin",
           "WR"
          ],
          [
           -4.905,
           "Brandon Johnson",
           "WR"
          ],
          [
           -4.962,
           "Demarcus Robinson",
           "WR"
          ],
          [
           -4.965000000000001,
           "Marquise Goodwin",
           "WR"
          ],
          [
           -5.015000000000001,
           "Jonathan Mingo",
           "WR"
          ],
          [
           -5.040000000000001,
           "Elijah Moore",
           "WR"
          ],
          [
           -5.110000000000001,
           "Quez Watkins",
           "WR"
          ],
          [
           -5.115,
           "KhaDarel Hodge",
           "WR"
          ],
          [
           -5.165000000000001,
           "Jalen Tolbert",
           "WR"
          ],
          [
           -5.51,
           "Sterling Shepard",
           "WR"
          ],
          [
           -5.765000000000001,
           "David Bell",
           "WR"
          ],
          [
           -5.7700000000000005,
           "Dyami Brown",
           "WR"
          ],
          [
           -5.835000000000001,
           "Cedrick Wilson",
           "WR"
          ],
          [
           -6.0920000000000005,
           "Zach Pascal",
           "WR"
          ],
          [
           -6.140000000000001,
           "Nelson Agholor",
           "WR"
          ],
          [
           -6.165000000000001,
           "Charlie Jones",
           "WR"
          ],
          [
           -6.33,
           "Samori Toure",
           "WR"
          ],
          [
           -6.340000000000001,
           "Michael Wilson",
           "WR"
          ],
          [
           -6.398000000000001,
           "Kayshon Boutte",
           "WR"
          ],
          [
           -6.4430000000000005,
           "Byron Pringle",
           "WR"
          ],
          [
           -6.4830000000000005,
           "Rakim Jarrett",
           "WR"
          ],
          [
           -6.495000000000001,
           "Khalil Shakir",
           "WR"
          ],
          [
           -6.515000000000001,
           "Jalen Nailor",
           "WR"
          ],
          [
           -6.590000000000001,
           "Dontayvion Wicks",
           "WR"
          ],
          [
           -6.640000000000001,
           "Scott Miller",
           "WR"
          ],
          [
           -6.6450000000000005,
           "Keith Kirkwood",
           "WR"
          ],
          [
           -6.665000000000001,
           "River Cracraft",
           "WR"
          ],
          [
           -6.69,
           "Gunner Olszewski",
           "WR"
          ],
          [
           -6.695,
           "Tim Jones",
           "WR"
          ],
          [
           -6.74,
           "Cody Thompson",
           "WR"
          ],
          [
           -6.74,
           "Josh Downs",
           "WR"
          ],
          [
           -6.745000000000001,
           "Justin Watson",
           "WR"
          ],
          [
           -6.765000000000001,
           "Malik Heath",
           "WR"
          ],
          [
           -6.765000000000001,
           "Irvin Charles",
           "WR"
          ],
          [
           -6.790000000000001,
           "David Sills",
           "WR"
          ],
          [
           -7.015000000000001,
           "Antoine Green",
           "WR"
          ],
          [
           -7.19,
           "Kirk Merritt",
           "WR"
          ],
          [
           -7.290000000000001,
           "Tylan Wallace",
           "WR"
          ],
          [
           -7.349500000000001,
           "Erik Ezukanma",
           "WR"
          ],
          [
           -7.390000000000001,
           "Michael Woods",
           "WR"
          ],
          [
           -7.44,
           "Colton Dowell",
           "WR"
          ],
          [
           -7.615,
           "Miles Boykin",
           "WR"
          ]
         ],
         "hovertemplate": "<b>%{hovertext}</b><br><br>Predicted Points=%{y}<br>Relative Value=%{customdata[0]}<extra></extra>",
         "hovertext": [
          "Justin Jefferson",
          "Tyreek Hill",
          "Ja'Marr Chase",
          "Davante Adams",
          "A.J. Brown",
          "CeeDee Lamb",
          "Keenan Allen",
          "Stefon Diggs",
          "Jaylen Waddle",
          "Romeo Doubs",
          "DeAndre Hopkins",
          "Chris Olave",
          "Amon-Ra St. Brown",
          "Amari Cooper",
          "Tee Higgins",
          "DeVonta Smith",
          "Garrett Wilson",
          "Kalif Raymond",
          "DK Metcalf",
          "Deebo Samuel",
          "Mike Evans",
          "Devin Duvernay",
          "Tyler Lockett",
          "Jamal Agnew",
          "Christian Kirk",
          "Chris Godwin",
          "Rashid Shaheed",
          "Marquez Valdes-Scantling",
          "Drake London",
          "Marquise Brown",
          "Mike Williams",
          "Jahan Dotson",
          "DJ Moore",
          "Jordan Addison",
          "Braxton Berrios",
          "Michael Pittman",
          "Terry McLaurin",
          "Greg Dortch",
          "Calvin Ridley",
          "Diontae Johnson",
          "Nico Collins",
          "George Pickens",
          "Richie James",
          "Jerry Jeudy",
          "JuJu Smith-Schuster",
          "Jaxon Smith-Njigba",
          "Courtland Sutton",
          "Zay Jones",
          "Mecole Hardman",
          "Rashod Bateman",
          "Brandon Aiyuk",
          "Donovan Peoples-Jones",
          "DeAndre Carter",
          "Jakobi Meyers",
          "Rondale Moore",
          "Velus Jones",
          "K.J. Osborn",
          "Van Jefferson",
          "Gabe Davis",
          "Deven Thompkins",
          "Derius Davis",
          "Wan'Dale Robinson",
          "DeVante Parker",
          "Michael Thomas",
          "Darius Slayton",
          "KaVontae Turpin",
          "Darnell Mooney",
          "Parris Campbell",
          "Allen Lazard",
          "Brandin Cooks",
          "Odell Beckham",
          "Joshua Palmer",
          "Curtis Samuel",
          "Treylon Burks",
          "Marvin Mims",
          "Mack Hollins",
          "Josh Reynolds",
          "Skyy Moore",
          "Tyler Boyd",
          "Adam Thielen",
          "Deonte Harty",
          "Olamide Zaccheaus",
          "Trey Palmer",
          "Robert Woods",
          "Hunter Renfrow",
          "Isaiah Hodgins",
          "Kendrick Bourne",
          "Alec Pierce",
          "Ben Skowronek",
          "Nick Westbrook-Ikhine",
          "Quentin Johnston",
          "Tutu Atwell",
          "Allen Robinson",
          "Kadarius Toney",
          "Michael Gallup",
          "Zay Flowers",
          "Jayden Reed",
          "Terrace Marshall",
          "Randall Cobb",
          "Isaiah McKenzie",
          "Brandon Powell",
          "Jauan Jennings",
          "Marvin Jones",
          "Rashee Rice",
          "Calvin Austin",
          "Noah Brown",
          "Equanimeous St. Brown",
          "Laviska Shenault",
          "Chase Claypool",
          "Trent Sherfield",
          "Chris Moore",
          "Jalen Guyton",
          "Trenton Irwin",
          "Brandon Johnson",
          "Demarcus Robinson",
          "Marquise Goodwin",
          "Jonathan Mingo",
          "Elijah Moore",
          "Quez Watkins",
          "KhaDarel Hodge",
          "Jalen Tolbert",
          "Sterling Shepard",
          "David Bell",
          "Dyami Brown",
          "Cedrick Wilson",
          "Zach Pascal",
          "Nelson Agholor",
          "Charlie Jones",
          "Samori Toure",
          "Michael Wilson",
          "Kayshon Boutte",
          "Byron Pringle",
          "Rakim Jarrett",
          "Khalil Shakir",
          "Jalen Nailor",
          "Dontayvion Wicks",
          "Scott Miller",
          "Keith Kirkwood",
          "River Cracraft",
          "Gunner Olszewski",
          "Tim Jones",
          "Cody Thompson",
          "Josh Downs",
          "Justin Watson",
          "Malik Heath",
          "Irvin Charles",
          "David Sills",
          "Antoine Green",
          "Kirk Merritt",
          "Tylan Wallace",
          "Erik Ezukanma",
          "Michael Woods",
          "Colton Dowell",
          "Miles Boykin"
         ],
         "legendgroup": "WR",
         "marker": {
          "color": "hsla(267, 40%, 45%, 1)",
          "pattern": {
           "shape": ""
          }
         },
         "name": "WR",
         "offsetgroup": "WR",
         "orientation": "v",
         "showlegend": true,
         "text": [
          "Justin Jefferson",
          "Tyreek Hill",
          "Ja'Marr Chase",
          "Davante Adams",
          "A.J. Brown",
          "CeeDee Lamb",
          "Keenan Allen",
          "Stefon Diggs",
          "Jaylen Waddle",
          "Romeo Doubs",
          "DeAndre Hopkins",
          "Chris Olave",
          "Amon-Ra St. Brown",
          "Amari Cooper",
          "Tee Higgins",
          "DeVonta Smith",
          "Garrett Wilson",
          "Kalif Raymond",
          "DK Metcalf",
          "Deebo Samuel",
          "Mike Evans",
          "Devin Duvernay",
          "Tyler Lockett",
          "Jamal Agnew",
          "Christian Kirk",
          "Chris Godwin",
          "Rashid Shaheed",
          "Marquez Valdes-Scantling",
          "Drake London",
          "Marquise Brown",
          "Mike Williams",
          "Jahan Dotson",
          "DJ Moore",
          "Jordan Addison",
          "Braxton Berrios",
          "Michael Pittman",
          "Terry McLaurin",
          "Greg Dortch",
          "Calvin Ridley",
          "Diontae Johnson",
          "Nico Collins",
          "George Pickens",
          "Richie James",
          "Jerry Jeudy",
          "JuJu Smith-Schuster",
          "Jaxon Smith-Njigba",
          "Courtland Sutton",
          "Zay Jones",
          "Mecole Hardman",
          "Rashod Bateman",
          "Brandon Aiyuk",
          "Donovan Peoples-Jones",
          "DeAndre Carter",
          "Jakobi Meyers",
          "Rondale Moore",
          "Velus Jones",
          "K.J. Osborn",
          "Van Jefferson",
          "Gabe Davis",
          "Deven Thompkins",
          "Derius Davis",
          "Wan'Dale Robinson",
          "DeVante Parker",
          "Michael Thomas",
          "Darius Slayton",
          "KaVontae Turpin",
          "Darnell Mooney",
          "Parris Campbell",
          "Allen Lazard",
          "Brandin Cooks",
          "Odell Beckham",
          "Joshua Palmer",
          "Curtis Samuel",
          "Treylon Burks",
          "Marvin Mims",
          "Mack Hollins",
          "Josh Reynolds",
          "Skyy Moore",
          "Tyler Boyd",
          "Adam Thielen",
          "Deonte Harty",
          "Olamide Zaccheaus",
          "Trey Palmer",
          "Robert Woods",
          "Hunter Renfrow",
          "Isaiah Hodgins",
          "Kendrick Bourne",
          "Alec Pierce",
          "Ben Skowronek",
          "Nick Westbrook-Ikhine",
          "Quentin Johnston",
          "Tutu Atwell",
          "Allen Robinson",
          "Kadarius Toney",
          "Michael Gallup",
          "Zay Flowers",
          "Jayden Reed",
          "Terrace Marshall",
          "Randall Cobb",
          "Isaiah McKenzie",
          "Brandon Powell",
          "Jauan Jennings",
          "Marvin Jones",
          "Rashee Rice",
          "Calvin Austin",
          "Noah Brown",
          "Equanimeous St. Brown",
          "Laviska Shenault",
          "Chase Claypool",
          "Trent Sherfield",
          "Chris Moore",
          "Jalen Guyton",
          "Trenton Irwin",
          "Brandon Johnson",
          "Demarcus Robinson",
          "Marquise Goodwin",
          "Jonathan Mingo",
          "Elijah Moore",
          "Quez Watkins",
          "KhaDarel Hodge",
          "Jalen Tolbert",
          "Sterling Shepard",
          "David Bell",
          "Dyami Brown",
          "Cedrick Wilson",
          "Zach Pascal",
          "Nelson Agholor",
          "Charlie Jones",
          "Samori Toure",
          "Michael Wilson",
          "Kayshon Boutte",
          "Byron Pringle",
          "Rakim Jarrett",
          "Khalil Shakir",
          "Jalen Nailor",
          "Dontayvion Wicks",
          "Scott Miller",
          "Keith Kirkwood",
          "River Cracraft",
          "Gunner Olszewski",
          "Tim Jones",
          "Cody Thompson",
          "Josh Downs",
          "Justin Watson",
          "Malik Heath",
          "Irvin Charles",
          "David Sills",
          "Antoine Green",
          "Kirk Merritt",
          "Tylan Wallace",
          "Erik Ezukanma",
          "Michael Woods",
          "Colton Dowell",
          "Miles Boykin"
         ],
         "textposition": "inside",
         "type": "bar",
         "x": [
          "Pretty Big Wieners",
          "Saskatoon Squatches ",
          "Saskatoon Squatches ",
          "Verdanks Vacqueros FFC",
          "Pretty Big Wieners",
          "Count of Monte Christian",
          "Pretty Big Wieners",
          "Comeback 👑’s",
          "GusTheBus",
          "📜 Providence 🪬 Spirits 🥂",
          "Verdanks Vacqueros FFC",
          "Count of Monte Christian",
          "kevinbash",
          "Verdanks Vacqueros FFC",
          "2014champ",
          "Count of Monte Christian",
          "📜 Providence 🪬 Spirits 🥂",
          null,
          "2014champ",
          "2014champ",
          "kevinbash",
          null,
          "Croccity Body Snatchers",
          null,
          "GusTheBus",
          "Croccity Body Snatchers",
          null,
          null,
          "Idk much about soccer ",
          "Croccity Body Snatchers",
          "Idk much about soccer ",
          "📜 Providence 🪬 Spirits 🥂",
          "Idk much about soccer ",
          "DangeRUSS Last Ride",
          null,
          "GusTheBus",
          "kevinbash",
          null,
          "2014champ",
          "Idk much about soccer ",
          "📜 Providence 🪬 Spirits 🥂",
          "DangeRUSS Last Ride",
          "Count of Monte Christian",
          "Saskatoon Squatches ",
          "📜 Providence 🪬 Spirits 🥂",
          "📜 Providence 🪬 Spirits 🥂",
          "Count of Monte Christian",
          "Croccity Body Snatchers",
          "Idk much about soccer ",
          "2014champ",
          "kevinbash",
          "Pretty Big Wieners",
          null,
          "Saskatoon Squatches ",
          "Count of Monte Christian",
          null,
          "Croccity Body Snatchers",
          "Verdanks Vacqueros FFC",
          "2014champ",
          null,
          null,
          "📜 Providence 🪬 Spirits 🥂",
          null,
          "Idk much about soccer ",
          null,
          null,
          "Saskatoon Squatches ",
          null,
          "Croccity Body Snatchers",
          "Comeback 👑’s",
          "Idk much about soccer ",
          "Croccity Body Snatchers",
          null,
          "Count of Monte Christian",
          "GusTheBus",
          null,
          "Comeback 👑’s",
          "kevinbash",
          "Saskatoon Squatches ",
          "Idk much about soccer ",
          null,
          null,
          "Saskatoon Squatches ",
          "Pretty Big Wieners",
          "GusTheBus",
          "2014champ",
          null,
          "2014champ",
          null,
          null,
          "2014champ",
          null,
          null,
          "Pretty Big Wieners",
          "Comeback 👑’s",
          "Count of Monte Christian",
          "kevinbash",
          null,
          "Comeback 👑’s",
          null,
          null,
          null,
          "Pretty Big Wieners",
          "Croccity Body Snatchers",
          "Verdanks Vacqueros FFC",
          null,
          null,
          null,
          "DangeRUSS Last Ride",
          null,
          null,
          null,
          null,
          null,
          null,
          null,
          "📜 Providence 🪬 Spirits 🥂",
          "Saskatoon Squatches ",
          null,
          null,
          null,
          null,
          null,
          null,
          null,
          null,
          "kevinbash",
          "GusTheBus",
          null,
          "Verdanks Vacqueros FFC",
          "kevinbash",
          null,
          null,
          "Verdanks Vacqueros FFC",
          null,
          null,
          null,
          null,
          null,
          null,
          null,
          null,
          "Verdanks Vacqueros FFC",
          null,
          null,
          null,
          null,
          null,
          null,
          "Verdanks Vacqueros FFC",
          null,
          null,
          null,
          null
         ],
         "xaxis": "x",
         "y": [
          15.840000000000002,
          14.055000000000003,
          13.719999999999999,
          13.187999999999999,
          13.16,
          13.125,
          12.344999999999999,
          12.287999999999998,
          12.095,
          11.56,
          11.36,
          11.354000000000003,
          11.330000000000002,
          11.297999999999998,
          11.25,
          11.173,
          11.1,
          10.995000000000001,
          10.979999999999999,
          10.85,
          10.83,
          10.585,
          10.540000000000001,
          10.495000000000001,
          10.445000000000002,
          10.31,
          10.184999999999999,
          10.135,
          10.035,
          10.025,
          10.024999999999999,
          9.760000000000002,
          9.75,
          9.625,
          9.425,
          9.42,
          9.225,
          9.165000000000001,
          9.075000000000001,
          8.975000000000001,
          8.925,
          8.915,
          8.775,
          8.700000000000001,
          8.521,
          8.5,
          8.45,
          8.085,
          7.765000000000001,
          7.75,
          7.720000000000001,
          7.6450000000000005,
          7.625,
          7.6,
          7.505000000000001,
          7.385000000000001,
          7.375000000000001,
          7.325000000000001,
          7.235,
          7.225,
          7.2,
          7.15,
          6.925,
          6.8950000000000005,
          6.890000000000001,
          6.625,
          6.575000000000001,
          6.450000000000001,
          6.421000000000001,
          6.335,
          6.285,
          6.257,
          6.190000000000001,
          5.875,
          5.875,
          5.840000000000001,
          5.800000000000001,
          5.800000000000001,
          5.725,
          5.490000000000001,
          5.15,
          5.12,
          5.115,
          5,
          4.902,
          4.775,
          4.670000000000001,
          4.65,
          4.6,
          4.455000000000001,
          4.4,
          4.335000000000001,
          4.24,
          4.165,
          4.1000000000000005,
          3.82,
          3.745,
          3.565,
          3.5010000000000003,
          3.49,
          3.4750000000000005,
          3.45,
          3.3500000000000005,
          3.317,
          3.29,
          3.2049999999999996,
          3.165,
          3.1599999999999997,
          3.12,
          3.1100000000000003,
          3.055,
          2.95,
          2.9250000000000003,
          2.8600000000000003,
          2.8030000000000004,
          2.8,
          2.7500000000000004,
          2.725,
          2.655,
          2.65,
          2.6,
          2.2550000000000003,
          2,
          1.995,
          1.9300000000000002,
          1.6730000000000003,
          1.6250000000000002,
          1.6,
          1.4350000000000003,
          1.425,
          1.367,
          1.322,
          1.282,
          1.27,
          1.25,
          1.175,
          1.125,
          1.12,
          1.1,
          1.0750000000000002,
          1.0699999999999998,
          1.025,
          1.025,
          1.02,
          1,
          1,
          0.975,
          0.75,
          0.575,
          0.4750000000000001,
          0.41550000000000004,
          0.37500000000000006,
          0.32500000000000007,
          0.15000000000000002
         ],
         "yaxis": "y"
        },
        {
         "alignmentgroup": "True",
         "customdata": [
          [
           3.75,
           "Daniel Carlson",
           "PK"
          ],
          [
           3.0999999999999996,
           "Justin Tucker",
           "PK"
          ],
          [
           2.5500000000000007,
           "Harrison Butker",
           "PK"
          ],
          [
           2.25,
           "Riley Patterson",
           "PK"
          ],
          [
           2.200000000000001,
           "Chris Boswell",
           "PK"
          ],
          [
           2.200000000000001,
           "Evan McPherson",
           "PK"
          ],
          [
           1.9499999999999993,
           "Brandon Aubrey",
           "PK"
          ],
          [
           1.6499999999999986,
           "Greg Joseph",
           "PK"
          ],
          [
           1.4999999999999982,
           "Jason Myers",
           "PK"
          ],
          [
           1.4899999999999984,
           "Cameron Dicker",
           "PK"
          ],
          [
           1.3999999999999986,
           "Matt Gay",
           "PK"
          ],
          [
           1.25,
           "Tyler Bass",
           "PK"
          ],
          [
           1.200000000000001,
           "Chase McLaughlin",
           "PK"
          ],
          [
           1.1999999999999993,
           "Joey Slye",
           "PK"
          ],
          [
           1.1500000000000004,
           "Matt Prater",
           "PK"
          ],
          [
           1.1499999999999986,
           "Chad Ryland",
           "PK"
          ],
          [
           1.1499999999999986,
           "Eddy Pineiro",
           "PK"
          ],
          [
           1.0500000000000007,
           "Brandon McManus",
           "PK"
          ],
          [
           0.9499999999999993,
           "Greg Zuerlein",
           "PK"
          ],
          [
           0.5999999999999996,
           "Graham Gano",
           "PK"
          ],
          [
           0.1999999999999993,
           "Jason Sanders",
           "PK"
          ],
          [
           0.15000000000000213,
           "Wil Lutz",
           "PK"
          ],
          [
           0.10000000000000142,
           "Dustin Hopkins",
           "PK"
          ],
          [
           0,
           "Jake Moody",
           "PK"
          ],
          [
           0,
           "Jake Elliott",
           "PK"
          ],
          [
           -0.09999999999999964,
           "Ka'imi Fairbairn",
           "PK"
          ],
          [
           -0.2400000000000002,
           "Anders Carlson",
           "PK"
          ],
          [
           -0.4500000000000002,
           "Younghoe Koo",
           "PK"
          ],
          [
           -0.75,
           "Nick Folk",
           "PK"
          ],
          [
           -1.3200000000000012,
           "Cairo Santos",
           "PK"
          ],
          [
           -1.4499999999999993,
           "Blake Grupe",
           "PK"
          ],
          [
           -8.25,
           "Jordan Stout",
           "PK"
          ],
          [
           -8.25,
           "AJ Cole",
           "PK"
          ],
          [
           -8.25,
           "Johnny Hekker",
           "PK"
          ],
          [
           -8.25,
           "Ryan Stonehouse",
           "PK"
          ],
          [
           -8.25,
           "Jake Camarda",
           "PK"
          ],
          [
           -8.25,
           "Daniel Whelan",
           "PK"
          ],
          [
           -8.25,
           "Logan Cooke",
           "PK"
          ],
          [
           -8.25,
           "Michael Dickson",
           "PK"
          ],
          [
           -8.25,
           "Corey Bojorquez",
           "PK"
          ],
          [
           -8.25,
           "Ryan Wright",
           "PK"
          ],
          [
           -8.25,
           "Pressley Harvin",
           "PK"
          ],
          [
           -8.25,
           "Sam Martin",
           "PK"
          ],
          [
           -8.25,
           "Brad Robbins",
           "PK"
          ],
          [
           -8.25,
           "Daniel Whelan",
           "PK"
          ],
          [
           -8.25,
           "Bryan Anger",
           "PK"
          ],
          [
           -8.25,
           "Tommy Townsend",
           "PK"
          ],
          [
           -8.25,
           "Tress Way",
           "PK"
          ],
          [
           -8.25,
           "Bradley Pinion",
           "PK"
          ],
          [
           -8.25,
           "Jamie Gillan",
           "PK"
          ],
          [
           -8.25,
           "Ethan Evans",
           "PK"
          ],
          [
           -8.25,
           "Jake Bailey",
           "PK"
          ],
          [
           -8.25,
           "Trenton Gill",
           "PK"
          ],
          [
           -8.25,
           "Bryce Baringer",
           "PK"
          ],
          [
           -8.25,
           "Jack Fox",
           "PK"
          ],
          [
           -8.25,
           "Rigoberto Sanchez",
           "PK"
          ],
          [
           -8.25,
           "Riley Dixon",
           "PK"
          ],
          [
           -8.25,
           "JK Scott",
           "PK"
          ],
          [
           -8.25,
           "Nolan Cooney",
           "PK"
          ],
          [
           -8.25,
           "Mitch Wishnowsky",
           "PK"
          ]
         ],
         "hovertemplate": "<b>%{hovertext}</b><br><br>Predicted Points=%{y}<br>Relative Value=%{customdata[0]}<extra></extra>",
         "hovertext": [
          "Daniel Carlson",
          "Justin Tucker",
          "Harrison Butker",
          "Riley Patterson",
          "Chris Boswell",
          "Evan McPherson",
          "Brandon Aubrey",
          "Greg Joseph",
          "Jason Myers",
          "Cameron Dicker",
          "Matt Gay",
          "Tyler Bass",
          "Chase McLaughlin",
          "Joey Slye",
          "Matt Prater",
          "Chad Ryland",
          "Eddy Pineiro",
          "Brandon McManus",
          "Greg Zuerlein",
          "Graham Gano",
          "Jason Sanders",
          "Wil Lutz",
          "Dustin Hopkins",
          "Jake Moody",
          "Jake Elliott",
          "Ka'imi Fairbairn",
          "Anders Carlson",
          "Younghoe Koo",
          "Nick Folk",
          "Cairo Santos",
          "Blake Grupe",
          "Jordan Stout",
          "AJ Cole",
          "Johnny Hekker",
          "Ryan Stonehouse",
          "Jake Camarda",
          "Daniel Whelan",
          "Logan Cooke",
          "Michael Dickson",
          "Corey Bojorquez",
          "Ryan Wright",
          "Pressley Harvin",
          "Sam Martin",
          "Brad Robbins",
          "Daniel Whelan",
          "Bryan Anger",
          "Tommy Townsend",
          "Tress Way",
          "Bradley Pinion",
          "Jamie Gillan",
          "Ethan Evans",
          "Jake Bailey",
          "Trenton Gill",
          "Bryce Baringer",
          "Jack Fox",
          "Rigoberto Sanchez",
          "Riley Dixon",
          "JK Scott",
          "Nolan Cooney",
          "Mitch Wishnowsky"
         ],
         "legendgroup": "PK",
         "marker": {
          "color": "hsla(14, 30%, 40%, 1)",
          "pattern": {
           "shape": ""
          }
         },
         "name": "PK",
         "offsetgroup": "PK",
         "orientation": "v",
         "showlegend": true,
         "text": [
          "Daniel Carlson",
          "Justin Tucker",
          "Harrison Butker",
          "Riley Patterson",
          "Chris Boswell",
          "Evan McPherson",
          "Brandon Aubrey",
          "Greg Joseph",
          "Jason Myers",
          "Cameron Dicker",
          "Matt Gay",
          "Tyler Bass",
          "Chase McLaughlin",
          "Joey Slye",
          "Matt Prater",
          "Chad Ryland",
          "Eddy Pineiro",
          "Brandon McManus",
          "Greg Zuerlein",
          "Graham Gano",
          "Jason Sanders",
          "Wil Lutz",
          "Dustin Hopkins",
          "Jake Moody",
          "Jake Elliott",
          "Ka'imi Fairbairn",
          "Anders Carlson",
          "Younghoe Koo",
          "Nick Folk",
          "Cairo Santos",
          "Blake Grupe",
          "Jordan Stout",
          "AJ Cole",
          "Johnny Hekker",
          "Ryan Stonehouse",
          "Jake Camarda",
          "Daniel Whelan",
          "Logan Cooke",
          "Michael Dickson",
          "Corey Bojorquez",
          "Ryan Wright",
          "Pressley Harvin",
          "Sam Martin",
          "Brad Robbins",
          "Daniel Whelan",
          "Bryan Anger",
          "Tommy Townsend",
          "Tress Way",
          "Bradley Pinion",
          "Jamie Gillan",
          "Ethan Evans",
          "Jake Bailey",
          "Trenton Gill",
          "Bryce Baringer",
          "Jack Fox",
          "Rigoberto Sanchez",
          "Riley Dixon",
          "JK Scott",
          "Nolan Cooney",
          "Mitch Wishnowsky"
         ],
         "textposition": "inside",
         "type": "bar",
         "x": [
          "Pretty Big Wieners",
          "GusTheBus",
          "Count of Monte Christian",
          "Saskatoon Squatches ",
          "Croccity Body Snatchers",
          "📜 Providence 🪬 Spirits 🥂",
          "kevinbash",
          "2014champ",
          "Idk much about soccer ",
          "Croccity Body Snatchers",
          "DangeRUSS Last Ride",
          "📜 Providence 🪬 Spirits 🥂",
          "Count of Monte Christian",
          "GusTheBus",
          null,
          "Comeback 👑’s",
          "Verdanks Vacqueros FFC",
          "Idk much about soccer ",
          "Comeback 👑’s",
          "Saskatoon Squatches ",
          "Saskatoon Squatches ",
          "2014champ",
          "Croccity Body Snatchers",
          "Verdanks Vacqueros FFC",
          "DangeRUSS Last Ride",
          "Count of Monte Christian",
          "kevinbash",
          "Croccity Body Snatchers",
          "Comeback 👑’s",
          "Pretty Big Wieners",
          null,
          null,
          null,
          null,
          null,
          null,
          null,
          null,
          null,
          null,
          null,
          null,
          null,
          null,
          null,
          null,
          null,
          null,
          null,
          null,
          null,
          null,
          null,
          null,
          null,
          null,
          null,
          null,
          null,
          null
         ],
         "xaxis": "x",
         "y": [
          12,
          11.35,
          10.8,
          10.5,
          10.450000000000001,
          10.450000000000001,
          10.2,
          9.899999999999999,
          9.749999999999998,
          9.739999999999998,
          9.649999999999999,
          9.5,
          9.450000000000001,
          9.45,
          9.4,
          9.399999999999999,
          9.399999999999999,
          9.3,
          9.2,
          8.85,
          8.45,
          8.400000000000002,
          8.350000000000001,
          8.25,
          8.25,
          8.15,
          8.01,
          7.8,
          7.5,
          6.929999999999999,
          6.800000000000001,
          0,
          0,
          0,
          0,
          0,
          0,
          0,
          0,
          0,
          0,
          0,
          0,
          0,
          0,
          0,
          0,
          0,
          0,
          0,
          0,
          0,
          0,
          0,
          0,
          0,
          0,
          0,
          0,
          0
         ],
         "yaxis": "y"
        },
        {
         "alignmentgroup": "True",
         "customdata": [
          [
           7.238500000000004,
           "NO",
           "DEF"
          ],
          [
           7.099300000000007,
           "NYG",
           "DEF"
          ],
          [
           7.099300000000007,
           "NYJ",
           "DEF"
          ],
          [
           5.611400000000005,
           "JAX",
           "DEF"
          ],
          [
           5.426900000000003,
           "WAS",
           "DEF"
          ],
          [
           5.096200000000003,
           "PHI",
           "DEF"
          ],
          [
           4.943800000000003,
           "DEN",
           "DEF"
          ],
          [
           4.681300000000002,
           "BUF",
           "DEF"
          ],
          [
           3.8060000000000063,
           "BAL",
           "DEF"
          ],
          [
           3.078900000000001,
           "MIA",
           "DEF"
          ],
          [
           2.8064000000000036,
           "CLE",
           "DEF"
          ],
          [
           2.5411000000000055,
           "LAR",
           "DEF"
          ],
          [
           2.5411000000000055,
           "LAC",
           "DEF"
          ],
          [
           1.8110000000000035,
           "CIN",
           "DEF"
          ],
          [
           1.6803000000000026,
           "LV",
           "DEF"
          ],
          [
           1.6284000000000027,
           "ARI",
           "DEF"
          ],
          [
           1.566000000000006,
           "GB",
           "DEF"
          ],
          [
           0.901900000000003,
           "TEN",
           "DEF"
          ],
          [
           0.6410000000000018,
           "SF",
           "DEF"
          ],
          [
           0.4299000000000017,
           "CAR",
           "DEF"
          ],
          [
           0,
           "ATL",
           "DEF"
          ],
          [
           -0.04999999999999716,
           "SEA",
           "DEF"
          ],
          [
           -1.308999999999994,
           "MIN",
           "DEF"
          ],
          [
           -1.8760999999999939,
           "TB",
           "DEF"
          ],
          [
           -1.8998999999999988,
           "PIT",
           "DEF"
          ],
          [
           -1.985399999999995,
           "HOU",
           "DEF"
          ],
          [
           -2.0412,
           "IND",
           "DEF"
          ],
          [
           -2.183999999999994,
           "KC",
           "DEF"
          ],
          [
           -3.0679999999999943,
           "NE",
           "DEF"
          ],
          [
           -3.9676999999999936,
           "DAL",
           "DEF"
          ],
          [
           -4.118999999999996,
           "CHI",
           "DEF"
          ],
          [
           -5.484399999999994,
           "DET",
           "DEF"
          ]
         ],
         "hovertemplate": "<b>%{hovertext}</b><br><br>Predicted Points=%{y}<br>Relative Value=%{customdata[0]}<extra></extra>",
         "hovertext": [
          "NO",
          "NYG",
          "NYJ",
          "JAX",
          "WAS",
          "PHI",
          "DEN",
          "BUF",
          "BAL",
          "MIA",
          "CLE",
          "LAR",
          "LAC",
          "CIN",
          "LV",
          "ARI",
          "GB",
          "TEN",
          "SF",
          "CAR",
          "ATL",
          "SEA",
          "MIN",
          "TB",
          "PIT",
          "HOU",
          "IND",
          "KC",
          "NE",
          "DAL",
          "CHI",
          "DET"
         ],
         "legendgroup": "DEF",
         "marker": {
          "color": "hsla(35, 70%, 65%, 1)",
          "pattern": {
           "shape": ""
          }
         },
         "name": "DEF",
         "offsetgroup": "DEF",
         "orientation": "v",
         "showlegend": true,
         "text": [
          "NO",
          "NYG",
          "NYJ",
          "JAX",
          "WAS",
          "PHI",
          "DEN",
          "BUF",
          "BAL",
          "MIA",
          "CLE",
          "LAR",
          "LAC",
          "CIN",
          "LV",
          "ARI",
          "GB",
          "TEN",
          "SF",
          "CAR",
          "ATL",
          "SEA",
          "MIN",
          "TB",
          "PIT",
          "HOU",
          "IND",
          "KC",
          "NE",
          "DAL",
          "CHI",
          "DET"
         ],
         "textposition": "inside",
         "type": "bar",
         "x": [
          "kevinbash",
          "Count of Monte Christian",
          "📜 Providence 🪬 Spirits 🥂",
          "Saskatoon Squatches ",
          "Croccity Body Snatchers",
          "Pretty Big Wieners",
          "Croccity Body Snatchers",
          "kevinbash",
          "GusTheBus",
          "Pretty Big Wieners",
          "2014champ",
          "Comeback 👑’s",
          "DangeRUSS Last Ride",
          "Pretty Big Wieners",
          "Count of Monte Christian",
          "Verdanks Vacqueros FFC",
          "DangeRUSS Last Ride",
          "Saskatoon Squatches ",
          "Croccity Body Snatchers",
          "Verdanks Vacqueros FFC",
          "Count of Monte Christian",
          "Saskatoon Squatches ",
          "Comeback 👑’s",
          "Comeback 👑’s",
          "GusTheBus",
          "📜 Providence 🪬 Spirits 🥂",
          "Idk much about soccer ",
          "Idk much about soccer ",
          "kevinbash",
          "📜 Providence 🪬 Spirits 🥂",
          "2014champ",
          "Verdanks Vacqueros FFC"
         ],
         "xaxis": "x",
         "y": [
          10.4075,
          13.4373,
          13.4373,
          8.780400000000002,
          8.5959,
          8.2652,
          8.1128,
          7.850299999999999,
          6.975000000000003,
          6.247899999999998,
          5.9754000000000005,
          8.8791,
          8.8791,
          4.98,
          4.8492999999999995,
          4.7974,
          4.735000000000003,
          4.0709,
          3.8099999999999987,
          3.5988999999999987,
          3.168999999999997,
          3.1189999999999998,
          1.860000000000003,
          1.292900000000003,
          1.2690999999999981,
          1.183600000000002,
          1.127799999999997,
          0.985000000000003,
          0.10100000000000264,
          -0.7986999999999966,
          -0.9499999999999993,
          -2.315399999999997
         ],
         "yaxis": "y"
        },
        {
         "alignmentgroup": "True",
         "customdata": [
          [
           5.14,
           "George Kittle",
           "TE"
          ],
          [
           3.825,
           "Mark Andrews",
           "TE"
          ],
          [
           3.0300000000000002,
           "Juwan Johnson",
           "TE"
          ],
          [
           3.0250000000000004,
           "Taysom Hill",
           "TE"
          ],
          [
           3.005,
           "Dawson Knox",
           "TE"
          ],
          [
           2.7,
           "Evan Engram",
           "TE"
          ],
          [
           2.6849999999999996,
           "T.J. Hockenson",
           "TE"
          ],
          [
           2.665000000000001,
           "Dallas Goedert",
           "TE"
          ],
          [
           2.375,
           "Kyle Pitts",
           "TE"
          ],
          [
           2.2749999999999995,
           "Tyler Higbee",
           "TE"
          ],
          [
           2.0909999999999993,
           "Darren Waller",
           "TE"
          ],
          [
           2.053000000000001,
           "David Njoku",
           "TE"
          ],
          [
           1.7249999999999996,
           "Dalton Schultz",
           "TE"
          ],
          [
           1.4649999999999999,
           "Pat Freiermuth",
           "TE"
          ],
          [
           1.4499999999999993,
           "Greg Dulcich",
           "TE"
          ],
          [
           1.3499999999999996,
           "Cole Kmet",
           "TE"
          ],
          [
           0.9840000000000009,
           "Austin Hooper",
           "TE"
          ],
          [
           0.9499999999999993,
           "Sam LaPorta",
           "TE"
          ],
          [
           0.9300000000000006,
           "Jake Ferguson",
           "TE"
          ],
          [
           0.8999999999999995,
           "Gerald Everett",
           "TE"
          ],
          [
           0.6499999999999995,
           "Luke Schoonmaker",
           "TE"
          ],
          [
           0.4249999999999998,
           "Hunter Henry",
           "TE"
          ],
          [
           0.383,
           "Noah Fant",
           "TE"
          ],
          [
           0.3699999999999992,
           "Noah Gray",
           "TE"
          ],
          [
           0,
           "Cade Otton",
           "TE"
          ],
          [
           -0.06500000000000039,
           "Chigoziem Okonkwo",
           "TE"
          ],
          [
           -0.1349999999999998,
           "Dalton Kincaid",
           "TE"
          ],
          [
           -0.22500000000000053,
           "Irv Smith",
           "TE"
          ],
          [
           -0.37600000000000033,
           "Tyler Conklin",
           "TE"
          ],
          [
           -0.5499999999999998,
           "Luke Musgrave",
           "TE"
          ],
          [
           -0.7700000000000005,
           "Durham Smythe",
           "TE"
          ],
          [
           -0.7999999999999998,
           "Isaiah Likely",
           "TE"
          ],
          [
           -1.0750000000000006,
           "Hayden Hurst",
           "TE"
          ],
          [
           -1.1300000000000003,
           "Logan Thomas",
           "TE"
          ],
          [
           -1.1850000000000005,
           "Foster Moreau",
           "TE"
          ],
          [
           -1.5750000000000006,
           "Zach Ertz",
           "TE"
          ],
          [
           -1.7500000000000004,
           "Will Dissly",
           "TE"
          ],
          [
           -1.7800000000000002,
           "Mo Alie-Cox",
           "TE"
          ],
          [
           -1.8350000000000009,
           "Jonnu Smith",
           "TE"
          ],
          [
           -1.8400000000000003,
           "Trey McBride",
           "TE"
          ],
          [
           -1.9750000000000005,
           "Jordan Akins",
           "TE"
          ],
          [
           -1.9900000000000002,
           "Daniel Bellinger",
           "TE"
          ],
          [
           -2.0250000000000004,
           "MyCole Pruitt",
           "TE"
          ],
          [
           -2.1200000000000006,
           "C.J. Uzomah",
           "TE"
          ],
          [
           -2.3100000000000005,
           "John Bates",
           "TE"
          ],
          [
           -2.3400000000000007,
           "Colby Parkinson",
           "TE"
          ],
          [
           -2.4250000000000007,
           "Teagan Quitoriano",
           "TE"
          ],
          [
           -2.5250000000000004,
           "Mike Gesicki",
           "TE"
          ],
          [
           -2.5250000000000004,
           "Brock Wright",
           "TE"
          ],
          [
           -2.5500000000000003,
           "Kylen Granson",
           "TE"
          ],
          [
           -2.6350000000000007,
           "Robert Tonyan",
           "TE"
          ],
          [
           -2.6500000000000004,
           "Josiah Deguara",
           "TE"
          ],
          [
           -2.7,
           "Jimmy Graham",
           "TE"
          ],
          [
           -2.7750000000000004,
           "Tommy Tremble",
           "TE"
          ],
          [
           -2.8450000000000006,
           "Donald Parham",
           "TE"
          ],
          [
           -2.8550000000000004,
           "Ian Thomas",
           "TE"
          ],
          [
           -2.8950000000000005,
           "Ko Kieft",
           "TE"
          ],
          [
           -2.9400000000000004,
           "Harrison Bryant",
           "TE"
          ],
          [
           -3.0550000000000006,
           "Connor Heyward",
           "TE"
          ],
          [
           -3.0850000000000004,
           "Blake Bell",
           "TE"
          ],
          [
           -3.0950000000000006,
           "Michael Mayer",
           "TE"
          ],
          [
           -3.1350000000000007,
           "Darnell Washington",
           "TE"
          ],
          [
           -3.1410000000000005,
           "Trevon Wesco",
           "TE"
          ],
          [
           -3.18,
           "Johnny Mundt",
           "TE"
          ],
          [
           -3.1950000000000003,
           "Brevin Jordan",
           "TE"
          ],
          [
           -3.2250000000000005,
           "Peyton Hendershot",
           "TE"
          ],
          [
           -3.25,
           "Adam Trautman",
           "TE"
          ],
          [
           -3.3050000000000006,
           "James Mitchell",
           "TE"
          ],
          [
           -3.3750000000000004,
           "Julian Hill",
           "TE"
          ],
          [
           -3.5250000000000004,
           "Tucker Kraft",
           "TE"
          ],
          [
           -3.5500000000000007,
           "Brycen Hopkins",
           "TE"
          ],
          [
           -3.615,
           "Mitchell Wilcox",
           "TE"
          ],
          [
           -3.6500000000000004,
           "Luke Farrell",
           "TE"
          ],
          [
           -3.7250000000000005,
           "Jack Stoll",
           "TE"
          ],
          [
           -3.8000000000000007,
           "Tre' McKitty",
           "TE"
          ],
          [
           -3.8000000000000007,
           "Josh Oliver",
           "TE"
          ],
          [
           -3.9550000000000005,
           "Marcedes Lewis",
           "TE"
          ],
          [
           -4.075,
           "Charlie Woerner",
           "TE"
          ],
          [
           -4.15,
           "Drew Sample",
           "TE"
          ],
          [
           -4.2,
           "Geoff Swaim",
           "TE"
          ],
          [
           -4.295000000000001,
           "Albert Okwuegbunam",
           "TE"
          ],
          [
           -4.3500000000000005,
           "Charlie Kolar",
           "TE"
          ],
          [
           -4.45,
           "Brenton Strange",
           "TE"
          ],
          [
           -4.550000000000001,
           "Josh Whyle",
           "TE"
          ],
          [
           -4.578,
           "Chris Manhertz",
           "TE"
          ],
          [
           -4.6000000000000005,
           "David Wells",
           "TE"
          ],
          [
           -4.605,
           "Quintin Morris",
           "TE"
          ],
          [
           -4.615,
           "Will Mallory",
           "TE"
          ],
          [
           -4.6275,
           "Jeremy Ruckert",
           "TE"
          ],
          [
           -4.742500000000001,
           "Grant Calcaterra",
           "TE"
          ],
          [
           -4.840000000000001,
           "Stone Smartt",
           "TE"
          ],
          [
           -4.845000000000001,
           "Ross Dwelley",
           "TE"
          ]
         ],
         "hovertemplate": "<b>%{hovertext}</b><br><br>Predicted Points=%{y}<br>Relative Value=%{customdata[0]}<extra></extra>",
         "hovertext": [
          "George Kittle",
          "Mark Andrews",
          "Juwan Johnson",
          "Taysom Hill",
          "Dawson Knox",
          "Evan Engram",
          "T.J. Hockenson",
          "Dallas Goedert",
          "Kyle Pitts",
          "Tyler Higbee",
          "Darren Waller",
          "David Njoku",
          "Dalton Schultz",
          "Pat Freiermuth",
          "Greg Dulcich",
          "Cole Kmet",
          "Austin Hooper",
          "Sam LaPorta",
          "Jake Ferguson",
          "Gerald Everett",
          "Luke Schoonmaker",
          "Hunter Henry",
          "Noah Fant",
          "Noah Gray",
          "Cade Otton",
          "Chigoziem Okonkwo",
          "Dalton Kincaid",
          "Irv Smith",
          "Tyler Conklin",
          "Luke Musgrave",
          "Durham Smythe",
          "Isaiah Likely",
          "Hayden Hurst",
          "Logan Thomas",
          "Foster Moreau",
          "Zach Ertz",
          "Will Dissly",
          "Mo Alie-Cox",
          "Jonnu Smith",
          "Trey McBride",
          "Jordan Akins",
          "Daniel Bellinger",
          "MyCole Pruitt",
          "C.J. Uzomah",
          "John Bates",
          "Colby Parkinson",
          "Teagan Quitoriano",
          "Mike Gesicki",
          "Brock Wright",
          "Kylen Granson",
          "Robert Tonyan",
          "Josiah Deguara",
          "Jimmy Graham",
          "Tommy Tremble",
          "Donald Parham",
          "Ian Thomas",
          "Ko Kieft",
          "Harrison Bryant",
          "Connor Heyward",
          "Blake Bell",
          "Michael Mayer",
          "Darnell Washington",
          "Trevon Wesco",
          "Johnny Mundt",
          "Brevin Jordan",
          "Peyton Hendershot",
          "Adam Trautman",
          "James Mitchell",
          "Julian Hill",
          "Tucker Kraft",
          "Brycen Hopkins",
          "Mitchell Wilcox",
          "Luke Farrell",
          "Jack Stoll",
          "Tre' McKitty",
          "Josh Oliver",
          "Marcedes Lewis",
          "Charlie Woerner",
          "Drew Sample",
          "Geoff Swaim",
          "Albert Okwuegbunam",
          "Charlie Kolar",
          "Brenton Strange",
          "Josh Whyle",
          "Chris Manhertz",
          "David Wells",
          "Quintin Morris",
          "Will Mallory",
          "Jeremy Ruckert",
          "Grant Calcaterra",
          "Stone Smartt",
          "Ross Dwelley"
         ],
         "legendgroup": "TE",
         "marker": {
          "color": "hsla(177, 68%, 36%, 1)",
          "pattern": {
           "shape": ""
          }
         },
         "name": "TE",
         "offsetgroup": "TE",
         "orientation": "v",
         "showlegend": true,
         "text": [
          "George Kittle",
          "Mark Andrews",
          "Juwan Johnson",
          "Taysom Hill",
          "Dawson Knox",
          "Evan Engram",
          "T.J. Hockenson",
          "Dallas Goedert",
          "Kyle Pitts",
          "Tyler Higbee",
          "Darren Waller",
          "David Njoku",
          "Dalton Schultz",
          "Pat Freiermuth",
          "Greg Dulcich",
          "Cole Kmet",
          "Austin Hooper",
          "Sam LaPorta",
          "Jake Ferguson",
          "Gerald Everett",
          "Luke Schoonmaker",
          "Hunter Henry",
          "Noah Fant",
          "Noah Gray",
          "Cade Otton",
          "Chigoziem Okonkwo",
          "Dalton Kincaid",
          "Irv Smith",
          "Tyler Conklin",
          "Luke Musgrave",
          "Durham Smythe",
          "Isaiah Likely",
          "Hayden Hurst",
          "Logan Thomas",
          "Foster Moreau",
          "Zach Ertz",
          "Will Dissly",
          "Mo Alie-Cox",
          "Jonnu Smith",
          "Trey McBride",
          "Jordan Akins",
          "Daniel Bellinger",
          "MyCole Pruitt",
          "C.J. Uzomah",
          "John Bates",
          "Colby Parkinson",
          "Teagan Quitoriano",
          "Mike Gesicki",
          "Brock Wright",
          "Kylen Granson",
          "Robert Tonyan",
          "Josiah Deguara",
          "Jimmy Graham",
          "Tommy Tremble",
          "Donald Parham",
          "Ian Thomas",
          "Ko Kieft",
          "Harrison Bryant",
          "Connor Heyward",
          "Blake Bell",
          "Michael Mayer",
          "Darnell Washington",
          "Trevon Wesco",
          "Johnny Mundt",
          "Brevin Jordan",
          "Peyton Hendershot",
          "Adam Trautman",
          "James Mitchell",
          "Julian Hill",
          "Tucker Kraft",
          "Brycen Hopkins",
          "Mitchell Wilcox",
          "Luke Farrell",
          "Jack Stoll",
          "Tre' McKitty",
          "Josh Oliver",
          "Marcedes Lewis",
          "Charlie Woerner",
          "Drew Sample",
          "Geoff Swaim",
          "Albert Okwuegbunam",
          "Charlie Kolar",
          "Brenton Strange",
          "Josh Whyle",
          "Chris Manhertz",
          "David Wells",
          "Quintin Morris",
          "Will Mallory",
          "Jeremy Ruckert",
          "Grant Calcaterra",
          "Stone Smartt",
          "Ross Dwelley"
         ],
         "textposition": "inside",
         "type": "bar",
         "x": [
          "DangeRUSS Last Ride",
          "Pretty Big Wieners",
          "GusTheBus",
          "2014champ",
          "Idk much about soccer ",
          "2014champ",
          "Saskatoon Squatches ",
          "Saskatoon Squatches ",
          "📜 Providence 🪬 Spirits 🥂",
          "Croccity Body Snatchers",
          "DangeRUSS Last Ride",
          "Verdanks Vacqueros FFC",
          "Comeback 👑’s",
          "Saskatoon Squatches ",
          "Croccity Body Snatchers",
          "Saskatoon Squatches ",
          null,
          "kevinbash",
          "DangeRUSS Last Ride",
          "DangeRUSS Last Ride",
          "Count of Monte Christian",
          "Count of Monte Christian",
          "GusTheBus",
          "Count of Monte Christian",
          "Idk much about soccer ",
          "Pretty Big Wieners",
          "Verdanks Vacqueros FFC",
          "📜 Providence 🪬 Spirits 🥂",
          "Pretty Big Wieners",
          "2014champ",
          null,
          "Saskatoon Squatches ",
          null,
          "GusTheBus",
          null,
          null,
          null,
          null,
          null,
          "📜 Providence 🪬 Spirits 🥂",
          "Comeback 👑’s",
          "Croccity Body Snatchers",
          null,
          null,
          null,
          null,
          null,
          "Croccity Body Snatchers",
          null,
          "kevinbash",
          "Comeback 👑’s",
          null,
          null,
          null,
          null,
          null,
          null,
          null,
          null,
          null,
          "GusTheBus",
          "Pretty Big Wieners",
          null,
          null,
          "Pretty Big Wieners",
          null,
          "kevinbash",
          null,
          null,
          "Saskatoon Squatches ",
          null,
          null,
          null,
          null,
          null,
          null,
          null,
          null,
          null,
          null,
          null,
          null,
          "GusTheBus",
          null,
          null,
          null,
          null,
          "GusTheBus",
          null,
          null,
          null,
          null
         ],
         "xaxis": "x",
         "y": [
          9.99,
          8.675,
          7.880000000000001,
          7.875000000000001,
          7.855,
          7.550000000000001,
          7.535,
          7.5150000000000015,
          7.2250000000000005,
          7.125,
          6.941,
          6.903000000000001,
          6.575,
          6.315,
          6.3,
          6.2,
          5.834000000000001,
          5.8,
          5.780000000000001,
          5.75,
          5.5,
          5.275,
          5.2330000000000005,
          5.22,
          4.8500000000000005,
          4.785,
          4.715000000000001,
          4.625,
          4.474,
          4.300000000000001,
          4.08,
          4.050000000000001,
          3.775,
          3.72,
          3.665,
          3.275,
          3.1,
          3.0700000000000003,
          3.0149999999999997,
          3.0100000000000002,
          2.875,
          2.8600000000000003,
          2.825,
          2.73,
          2.54,
          2.51,
          2.425,
          2.325,
          2.325,
          2.3000000000000003,
          2.215,
          2.2,
          2.1500000000000004,
          2.075,
          2.005,
          1.995,
          1.955,
          1.9100000000000001,
          1.7950000000000002,
          1.7650000000000001,
          1.7550000000000001,
          1.715,
          1.709,
          1.6700000000000004,
          1.655,
          1.625,
          1.6000000000000003,
          1.545,
          1.475,
          1.325,
          1.3,
          1.235,
          1.2,
          1.125,
          1.05,
          1.05,
          0.895,
          0.775,
          0.7,
          0.65,
          0.555,
          0.5,
          0.4,
          0.30000000000000004,
          0.272,
          0.25,
          0.245,
          0.23500000000000004,
          0.2225,
          0.10750000000000001,
          0.01,
          0.005
         ],
         "yaxis": "y"
        },
        {
         "mode": "text",
         "showlegend": false,
         "text": [
          207,
          185,
          195,
          243,
          198,
          198,
          174,
          230,
          238,
          200,
          215,
          210
         ],
         "textfont": {
          "size": 18
         },
         "textposition": "top center",
         "type": "scatter",
         "x": [
          "2014champ",
          "Comeback 👑’s",
          "Count of Monte Christian",
          "Croccity Body Snatchers",
          "DangeRUSS Last Ride",
          "GusTheBus",
          "Idk much about soccer ",
          "Pretty Big Wieners",
          "Saskatoon Squatches ",
          "Verdanks Vacqueros FFC",
          "kevinbash",
          "📜 Providence 🪬 Spirits 🥂"
         ],
         "y": [
          207,
          185,
          195,
          243,
          198,
          198,
          174,
          230,
          238,
          200,
          215,
          210
         ]
        }
       ],
       "layout": {
        "barmode": "stack",
        "font": {
         "family": "Skia"
        },
        "legend": {
         "title": {
          "text": "position"
         },
         "tracegroupgap": 0
        },
        "margin": {
         "t": 60
        },
        "plot_bgcolor": "rgba(0,0,0,0)",
        "showlegend": false,
        "template": {
         "data": {
          "bar": [
           {
            "error_x": {
             "color": "#2a3f5f"
            },
            "error_y": {
             "color": "#2a3f5f"
            },
            "marker": {
             "line": {
              "color": "#E5ECF6",
              "width": 0.5
             },
             "pattern": {
              "fillmode": "overlay",
              "size": 10,
              "solidity": 0.2
             }
            },
            "type": "bar"
           }
          ],
          "barpolar": [
           {
            "marker": {
             "line": {
              "color": "#E5ECF6",
              "width": 0.5
             },
             "pattern": {
              "fillmode": "overlay",
              "size": 10,
              "solidity": 0.2
             }
            },
            "type": "barpolar"
           }
          ],
          "carpet": [
           {
            "aaxis": {
             "endlinecolor": "#2a3f5f",
             "gridcolor": "white",
             "linecolor": "white",
             "minorgridcolor": "white",
             "startlinecolor": "#2a3f5f"
            },
            "baxis": {
             "endlinecolor": "#2a3f5f",
             "gridcolor": "white",
             "linecolor": "white",
             "minorgridcolor": "white",
             "startlinecolor": "#2a3f5f"
            },
            "type": "carpet"
           }
          ],
          "choropleth": [
           {
            "colorbar": {
             "outlinewidth": 0,
             "ticks": ""
            },
            "type": "choropleth"
           }
          ],
          "contour": [
           {
            "colorbar": {
             "outlinewidth": 0,
             "ticks": ""
            },
            "colorscale": [
             [
              0,
              "#0d0887"
             ],
             [
              0.1111111111111111,
              "#46039f"
             ],
             [
              0.2222222222222222,
              "#7201a8"
             ],
             [
              0.3333333333333333,
              "#9c179e"
             ],
             [
              0.4444444444444444,
              "#bd3786"
             ],
             [
              0.5555555555555556,
              "#d8576b"
             ],
             [
              0.6666666666666666,
              "#ed7953"
             ],
             [
              0.7777777777777778,
              "#fb9f3a"
             ],
             [
              0.8888888888888888,
              "#fdca26"
             ],
             [
              1,
              "#f0f921"
             ]
            ],
            "type": "contour"
           }
          ],
          "contourcarpet": [
           {
            "colorbar": {
             "outlinewidth": 0,
             "ticks": ""
            },
            "type": "contourcarpet"
           }
          ],
          "heatmap": [
           {
            "colorbar": {
             "outlinewidth": 0,
             "ticks": ""
            },
            "colorscale": [
             [
              0,
              "#0d0887"
             ],
             [
              0.1111111111111111,
              "#46039f"
             ],
             [
              0.2222222222222222,
              "#7201a8"
             ],
             [
              0.3333333333333333,
              "#9c179e"
             ],
             [
              0.4444444444444444,
              "#bd3786"
             ],
             [
              0.5555555555555556,
              "#d8576b"
             ],
             [
              0.6666666666666666,
              "#ed7953"
             ],
             [
              0.7777777777777778,
              "#fb9f3a"
             ],
             [
              0.8888888888888888,
              "#fdca26"
             ],
             [
              1,
              "#f0f921"
             ]
            ],
            "type": "heatmap"
           }
          ],
          "heatmapgl": [
           {
            "colorbar": {
             "outlinewidth": 0,
             "ticks": ""
            },
            "colorscale": [
             [
              0,
              "#0d0887"
             ],
             [
              0.1111111111111111,
              "#46039f"
             ],
             [
              0.2222222222222222,
              "#7201a8"
             ],
             [
              0.3333333333333333,
              "#9c179e"
             ],
             [
              0.4444444444444444,
              "#bd3786"
             ],
             [
              0.5555555555555556,
              "#d8576b"
             ],
             [
              0.6666666666666666,
              "#ed7953"
             ],
             [
              0.7777777777777778,
              "#fb9f3a"
             ],
             [
              0.8888888888888888,
              "#fdca26"
             ],
             [
              1,
              "#f0f921"
             ]
            ],
            "type": "heatmapgl"
           }
          ],
          "histogram": [
           {
            "marker": {
             "pattern": {
              "fillmode": "overlay",
              "size": 10,
              "solidity": 0.2
             }
            },
            "type": "histogram"
           }
          ],
          "histogram2d": [
           {
            "colorbar": {
             "outlinewidth": 0,
             "ticks": ""
            },
            "colorscale": [
             [
              0,
              "#0d0887"
             ],
             [
              0.1111111111111111,
              "#46039f"
             ],
             [
              0.2222222222222222,
              "#7201a8"
             ],
             [
              0.3333333333333333,
              "#9c179e"
             ],
             [
              0.4444444444444444,
              "#bd3786"
             ],
             [
              0.5555555555555556,
              "#d8576b"
             ],
             [
              0.6666666666666666,
              "#ed7953"
             ],
             [
              0.7777777777777778,
              "#fb9f3a"
             ],
             [
              0.8888888888888888,
              "#fdca26"
             ],
             [
              1,
              "#f0f921"
             ]
            ],
            "type": "histogram2d"
           }
          ],
          "histogram2dcontour": [
           {
            "colorbar": {
             "outlinewidth": 0,
             "ticks": ""
            },
            "colorscale": [
             [
              0,
              "#0d0887"
             ],
             [
              0.1111111111111111,
              "#46039f"
             ],
             [
              0.2222222222222222,
              "#7201a8"
             ],
             [
              0.3333333333333333,
              "#9c179e"
             ],
             [
              0.4444444444444444,
              "#bd3786"
             ],
             [
              0.5555555555555556,
              "#d8576b"
             ],
             [
              0.6666666666666666,
              "#ed7953"
             ],
             [
              0.7777777777777778,
              "#fb9f3a"
             ],
             [
              0.8888888888888888,
              "#fdca26"
             ],
             [
              1,
              "#f0f921"
             ]
            ],
            "type": "histogram2dcontour"
           }
          ],
          "mesh3d": [
           {
            "colorbar": {
             "outlinewidth": 0,
             "ticks": ""
            },
            "type": "mesh3d"
           }
          ],
          "parcoords": [
           {
            "line": {
             "colorbar": {
              "outlinewidth": 0,
              "ticks": ""
             }
            },
            "type": "parcoords"
           }
          ],
          "pie": [
           {
            "automargin": true,
            "type": "pie"
           }
          ],
          "scatter": [
           {
            "fillpattern": {
             "fillmode": "overlay",
             "size": 10,
             "solidity": 0.2
            },
            "type": "scatter"
           }
          ],
          "scatter3d": [
           {
            "line": {
             "colorbar": {
              "outlinewidth": 0,
              "ticks": ""
             }
            },
            "marker": {
             "colorbar": {
              "outlinewidth": 0,
              "ticks": ""
             }
            },
            "type": "scatter3d"
           }
          ],
          "scattercarpet": [
           {
            "marker": {
             "colorbar": {
              "outlinewidth": 0,
              "ticks": ""
             }
            },
            "type": "scattercarpet"
           }
          ],
          "scattergeo": [
           {
            "marker": {
             "colorbar": {
              "outlinewidth": 0,
              "ticks": ""
             }
            },
            "type": "scattergeo"
           }
          ],
          "scattergl": [
           {
            "marker": {
             "colorbar": {
              "outlinewidth": 0,
              "ticks": ""
             }
            },
            "type": "scattergl"
           }
          ],
          "scattermapbox": [
           {
            "marker": {
             "colorbar": {
              "outlinewidth": 0,
              "ticks": ""
             }
            },
            "type": "scattermapbox"
           }
          ],
          "scatterpolar": [
           {
            "marker": {
             "colorbar": {
              "outlinewidth": 0,
              "ticks": ""
             }
            },
            "type": "scatterpolar"
           }
          ],
          "scatterpolargl": [
           {
            "marker": {
             "colorbar": {
              "outlinewidth": 0,
              "ticks": ""
             }
            },
            "type": "scatterpolargl"
           }
          ],
          "scatterternary": [
           {
            "marker": {
             "colorbar": {
              "outlinewidth": 0,
              "ticks": ""
             }
            },
            "type": "scatterternary"
           }
          ],
          "surface": [
           {
            "colorbar": {
             "outlinewidth": 0,
             "ticks": ""
            },
            "colorscale": [
             [
              0,
              "#0d0887"
             ],
             [
              0.1111111111111111,
              "#46039f"
             ],
             [
              0.2222222222222222,
              "#7201a8"
             ],
             [
              0.3333333333333333,
              "#9c179e"
             ],
             [
              0.4444444444444444,
              "#bd3786"
             ],
             [
              0.5555555555555556,
              "#d8576b"
             ],
             [
              0.6666666666666666,
              "#ed7953"
             ],
             [
              0.7777777777777778,
              "#fb9f3a"
             ],
             [
              0.8888888888888888,
              "#fdca26"
             ],
             [
              1,
              "#f0f921"
             ]
            ],
            "type": "surface"
           }
          ],
          "table": [
           {
            "cells": {
             "fill": {
              "color": "#EBF0F8"
             },
             "line": {
              "color": "white"
             }
            },
            "header": {
             "fill": {
              "color": "#C8D4E3"
             },
             "line": {
              "color": "white"
             }
            },
            "type": "table"
           }
          ]
         },
         "layout": {
          "annotationdefaults": {
           "arrowcolor": "#2a3f5f",
           "arrowhead": 0,
           "arrowwidth": 1
          },
          "autotypenumbers": "strict",
          "coloraxis": {
           "colorbar": {
            "outlinewidth": 0,
            "ticks": ""
           }
          },
          "colorscale": {
           "diverging": [
            [
             0,
             "#8e0152"
            ],
            [
             0.1,
             "#c51b7d"
            ],
            [
             0.2,
             "#de77ae"
            ],
            [
             0.3,
             "#f1b6da"
            ],
            [
             0.4,
             "#fde0ef"
            ],
            [
             0.5,
             "#f7f7f7"
            ],
            [
             0.6,
             "#e6f5d0"
            ],
            [
             0.7,
             "#b8e186"
            ],
            [
             0.8,
             "#7fbc41"
            ],
            [
             0.9,
             "#4d9221"
            ],
            [
             1,
             "#276419"
            ]
           ],
           "sequential": [
            [
             0,
             "#0d0887"
            ],
            [
             0.1111111111111111,
             "#46039f"
            ],
            [
             0.2222222222222222,
             "#7201a8"
            ],
            [
             0.3333333333333333,
             "#9c179e"
            ],
            [
             0.4444444444444444,
             "#bd3786"
            ],
            [
             0.5555555555555556,
             "#d8576b"
            ],
            [
             0.6666666666666666,
             "#ed7953"
            ],
            [
             0.7777777777777778,
             "#fb9f3a"
            ],
            [
             0.8888888888888888,
             "#fdca26"
            ],
            [
             1,
             "#f0f921"
            ]
           ],
           "sequentialminus": [
            [
             0,
             "#0d0887"
            ],
            [
             0.1111111111111111,
             "#46039f"
            ],
            [
             0.2222222222222222,
             "#7201a8"
            ],
            [
             0.3333333333333333,
             "#9c179e"
            ],
            [
             0.4444444444444444,
             "#bd3786"
            ],
            [
             0.5555555555555556,
             "#d8576b"
            ],
            [
             0.6666666666666666,
             "#ed7953"
            ],
            [
             0.7777777777777778,
             "#fb9f3a"
            ],
            [
             0.8888888888888888,
             "#fdca26"
            ],
            [
             1,
             "#f0f921"
            ]
           ]
          },
          "colorway": [
           "#636efa",
           "#EF553B",
           "#00cc96",
           "#ab63fa",
           "#FFA15A",
           "#19d3f3",
           "#FF6692",
           "#B6E880",
           "#FF97FF",
           "#FECB52"
          ],
          "font": {
           "color": "#2a3f5f"
          },
          "geo": {
           "bgcolor": "white",
           "lakecolor": "white",
           "landcolor": "#E5ECF6",
           "showlakes": true,
           "showland": true,
           "subunitcolor": "white"
          },
          "hoverlabel": {
           "align": "left"
          },
          "hovermode": "closest",
          "mapbox": {
           "style": "light"
          },
          "paper_bgcolor": "white",
          "plot_bgcolor": "#E5ECF6",
          "polar": {
           "angularaxis": {
            "gridcolor": "white",
            "linecolor": "white",
            "ticks": ""
           },
           "bgcolor": "#E5ECF6",
           "radialaxis": {
            "gridcolor": "white",
            "linecolor": "white",
            "ticks": ""
           }
          },
          "scene": {
           "xaxis": {
            "backgroundcolor": "#E5ECF6",
            "gridcolor": "white",
            "gridwidth": 2,
            "linecolor": "white",
            "showbackground": true,
            "ticks": "",
            "zerolinecolor": "white"
           },
           "yaxis": {
            "backgroundcolor": "#E5ECF6",
            "gridcolor": "white",
            "gridwidth": 2,
            "linecolor": "white",
            "showbackground": true,
            "ticks": "",
            "zerolinecolor": "white"
           },
           "zaxis": {
            "backgroundcolor": "#E5ECF6",
            "gridcolor": "white",
            "gridwidth": 2,
            "linecolor": "white",
            "showbackground": true,
            "ticks": "",
            "zerolinecolor": "white"
           }
          },
          "shapedefaults": {
           "line": {
            "color": "#2a3f5f"
           }
          },
          "ternary": {
           "aaxis": {
            "gridcolor": "white",
            "linecolor": "white",
            "ticks": ""
           },
           "baxis": {
            "gridcolor": "white",
            "linecolor": "white",
            "ticks": ""
           },
           "bgcolor": "#E5ECF6",
           "caxis": {
            "gridcolor": "white",
            "linecolor": "white",
            "ticks": ""
           }
          },
          "title": {
           "x": 0.05
          },
          "xaxis": {
           "automargin": true,
           "gridcolor": "white",
           "linecolor": "white",
           "ticks": "",
           "title": {
            "standoff": 15
           },
           "zerolinecolor": "white",
           "zerolinewidth": 2
          },
          "yaxis": {
           "automargin": true,
           "gridcolor": "white",
           "linecolor": "white",
           "ticks": "",
           "title": {
            "standoff": 15
           },
           "zerolinecolor": "white",
           "zerolinewidth": 2
          }
         }
        },
        "title": {
         "text": "Franchise Comparison"
        },
        "xaxis": {
         "anchor": "y",
         "categoryorder": "total descending",
         "domain": [
          0,
          1
         ],
         "title": {}
        },
        "yaxis": {
         "anchor": "x",
         "domain": [
          0,
          1
         ],
         "title": {
          "text": "Predicted Points"
         },
         "visible": false
        }
       }
      }
     },
     "metadata": {},
     "output_type": "display_data"
    }
   ],
   "source": [
    "# Visualize\n",
    "fig = compareFranchises(player_sums, how='absolute')\n",
    "fig.show()"
   ]
  },
  {
   "cell_type": "markdown",
   "metadata": {},
   "source": [
    "# Roster Optimizer"
   ]
  },
  {
   "cell_type": "code",
   "execution_count": 15,
   "metadata": {},
   "outputs": [
    {
     "data": {
      "application/vnd.plotly.v1+json": {
       "config": {
        "plotlyServerURL": "https://plot.ly"
       },
       "data": [
        {
         "alignmentgroup": "True",
         "customdata": [
          [
           12.2,
           "Jalen Hurts",
           "QB"
          ],
          [
           10.990000000000002,
           "Patrick Mahomes",
           "QB"
          ],
          [
           10.420000000000002,
           "Josh Allen",
           "QB"
          ],
          [
           7.340000000000003,
           "Lamar Jackson",
           "QB"
          ],
          [
           6.609999999999999,
           "Justin Fields",
           "QB"
          ],
          [
           5.839999999999996,
           "Kirk Cousins",
           "QB"
          ],
          [
           5.420000000000002,
           "Justin Herbert",
           "QB"
          ],
          [
           4.869999999999997,
           "Dak Prescott",
           "QB"
          ],
          [
           4.849999999999998,
           "Jimmy Garoppolo",
           "QB"
          ],
          [
           4.600000000000001,
           "Geno Smith",
           "QB"
          ],
          [
           4.259999999999998,
           "Joe Burrow",
           "QB"
          ],
          [
           3.8500000000000014,
           "Tua Tagovailoa",
           "QB"
          ],
          [
           3.7300000000000004,
           "Trevor Lawrence",
           "QB"
          ],
          [
           3.5600000000000023,
           "Deshaun Watson",
           "QB"
          ],
          [
           2.99,
           "Daniel Jones",
           "QB"
          ],
          [
           2.9299999999999997,
           "Jordan Love",
           "QB"
          ],
          [
           1.879999999999999,
           "Desmond Ridder",
           "QB"
          ],
          [
           1.790000000000001,
           "Baker Mayfield",
           "QB"
          ],
          [
           1.7700000000000014,
           "Russell Wilson",
           "QB"
          ],
          [
           1.5399999999999991,
           "Brock Purdy",
           "QB"
          ],
          [
           0.8200000000000003,
           "Derek Carr",
           "QB"
          ],
          [
           0.5800000000000001,
           "Mac Jones",
           "QB"
          ],
          [
           0,
           "Ryan Tannehill",
           "QB"
          ]
         ],
         "hovertemplate": "<b>%{hovertext}</b><br><br>Predicted Points=%{y}<br>Relative Value=%{customdata[0]}<extra></extra>",
         "hovertext": [
          "Jalen Hurts",
          "Patrick Mahomes",
          "Josh Allen",
          "Lamar Jackson",
          "Justin Fields",
          "Kirk Cousins",
          "Justin Herbert",
          "Dak Prescott",
          "Jimmy Garoppolo",
          "Geno Smith",
          "Joe Burrow",
          "Tua Tagovailoa",
          "Trevor Lawrence",
          "Deshaun Watson",
          "Daniel Jones",
          "Jordan Love",
          "Desmond Ridder",
          "Baker Mayfield",
          "Russell Wilson",
          "Brock Purdy",
          "Derek Carr",
          "Mac Jones",
          "Ryan Tannehill"
         ],
         "legendgroup": "QB",
         "marker": {
          "color": "hsla(210, 60%, 25%, 1)",
          "pattern": {
           "shape": ""
          }
         },
         "name": "QB",
         "offsetgroup": "QB",
         "orientation": "v",
         "showlegend": true,
         "text": [
          "Jalen Hurts",
          "Patrick Mahomes",
          "Josh Allen",
          "Lamar Jackson",
          "Justin Fields",
          "Kirk Cousins",
          "Justin Herbert",
          "Dak Prescott",
          "Jimmy Garoppolo",
          "Geno Smith",
          "Joe Burrow",
          "Tua Tagovailoa",
          "Trevor Lawrence",
          "Deshaun Watson",
          "Daniel Jones",
          "Jordan Love",
          "Desmond Ridder",
          "Baker Mayfield",
          "Russell Wilson",
          "Brock Purdy",
          "Derek Carr",
          "Mac Jones",
          "Ryan Tannehill"
         ],
         "textposition": "inside",
         "type": "bar",
         "x": [
          "Croccity Body Snatchers",
          "Saskatoon Squatches ",
          "Comeback 👑’s",
          "GusTheBus",
          "Idk much about soccer ",
          "2014champ",
          "kevinbash",
          "📜 Providence 🪬 Spirits 🥂",
          "Idk much about soccer ",
          "DangeRUSS Last Ride",
          "Verdanks Vacqueros FFC",
          "Verdanks Vacqueros FFC",
          "2014champ",
          "Pretty Big Wieners",
          "Comeback 👑’s",
          "📜 Providence 🪬 Spirits 🥂",
          "GusTheBus",
          "Count of Monte Christian",
          "DangeRUSS Last Ride",
          "Croccity Body Snatchers",
          "Count of Monte Christian",
          "Pretty Big Wieners",
          "kevinbash"
         ],
         "xaxis": "x",
         "y": [
          24.84,
          23.630000000000003,
          23.060000000000002,
          19.980000000000004,
          19.25,
          18.479999999999997,
          18.060000000000002,
          17.509999999999998,
          17.49,
          17.240000000000002,
          16.9,
          16.490000000000002,
          16.37,
          16.200000000000003,
          15.63,
          15.57,
          14.52,
          14.430000000000001,
          14.410000000000002,
          14.18,
          13.46,
          13.22,
          12.64
         ],
         "yaxis": "y"
        },
        {
         "alignmentgroup": "True",
         "customdata": [
          [
           14.849999999999998,
           "Christian McCaffrey",
           "RB"
          ],
          [
           13.189999999999998,
           "Derrick Henry",
           "RB"
          ],
          [
           12.865000000000002,
           "Nick Chubb",
           "RB"
          ],
          [
           12.209999999999997,
           "Josh Jacobs",
           "RB"
          ],
          [
           11.41,
           "Austin Ekeler",
           "RB"
          ],
          [
           11.114999999999998,
           "Rhamondre Stevenson",
           "RB"
          ],
          [
           11.04,
           "Antonio Gibson",
           "RB"
          ],
          [
           10.979999999999999,
           "Bijan Robinson",
           "RB"
          ],
          [
           10.814999999999998,
           "Travis Etienne",
           "RB"
          ],
          [
           10.629999999999999,
           "J.K. Dobbins",
           "RB"
          ],
          [
           10.45,
           "Saquon Barkley",
           "RB"
          ],
          [
           10.39,
           "Aaron Jones",
           "RB"
          ],
          [
           10.17,
           "Joe Mixon",
           "RB"
          ],
          [
           9.84,
           "Kenneth Walker",
           "RB"
          ],
          [
           9.219999999999999,
           "Tony Pollard",
           "RB"
          ],
          [
           9.064999999999998,
           "Alexander Mattison",
           "RB"
          ],
          [
           8.950000000000001,
           "Najee Harris",
           "RB"
          ],
          [
           8.95,
           "James Conner",
           "RB"
          ],
          [
           8.889999999999999,
           "Cam Akers",
           "RB"
          ],
          [
           8.33,
           "Brian Robinson",
           "RB"
          ],
          [
           8.145,
           "Isiah Pacheco",
           "RB"
          ],
          [
           8.095000000000002,
           "Khalil Herbert",
           "RB"
          ],
          [
           7.959999999999999,
           "Zamir White",
           "RB"
          ],
          [
           7.884999999999998,
           "AJ Dillon",
           "RB"
          ],
          [
           7.759999999999998,
           "Miles Sanders",
           "RB"
          ],
          [
           7.4350000000000005,
           "Dameon Pierce",
           "RB"
          ],
          [
           7.405000000000001,
           "Raheem Mostert",
           "RB"
          ],
          [
           7.25,
           "David Montgomery",
           "RB"
          ],
          [
           7.0649999999999995,
           "Jamaal Williams",
           "RB"
          ],
          [
           6.799999999999999,
           "Javonte Williams",
           "RB"
          ],
          [
           6.43,
           "Ezekiel Elliott",
           "RB"
          ],
          [
           6.254999999999999,
           "Rachaad White",
           "RB"
          ],
          [
           6,
           "D'Andre Swift",
           "RB"
          ],
          [
           5.614999999999998,
           "Breece Hall",
           "RB"
          ],
          [
           5.555,
           "Jahmyr Gibbs",
           "RB"
          ],
          [
           5.459999999999999,
           "James Cook",
           "RB"
          ],
          [
           4.969999999999999,
           "Zach Charbonnet",
           "RB"
          ],
          [
           4.515000000000001,
           "Jerick McKinnon",
           "RB"
          ],
          [
           4.405000000000001,
           "Elijah Mitchell",
           "RB"
          ],
          [
           4.289999999999999,
           "Dalvin Cook",
           "RB"
          ],
          [
           3.885,
           "Kenneth Gainwell",
           "RB"
          ],
          [
           0.7750000000000004,
           "Gus Edwards",
           "RB"
          ],
          [
           0,
           "Clyde Edwards-Helaire",
           "RB"
          ]
         ],
         "hovertemplate": "<b>%{hovertext}</b><br><br>Predicted Points=%{y}<br>Relative Value=%{customdata[0]}<extra></extra>",
         "hovertext": [
          "Christian McCaffrey",
          "Derrick Henry",
          "Nick Chubb",
          "Josh Jacobs",
          "Austin Ekeler",
          "Rhamondre Stevenson",
          "Antonio Gibson",
          "Bijan Robinson",
          "Travis Etienne",
          "J.K. Dobbins",
          "Saquon Barkley",
          "Aaron Jones",
          "Joe Mixon",
          "Kenneth Walker",
          "Tony Pollard",
          "Alexander Mattison",
          "Najee Harris",
          "James Conner",
          "Cam Akers",
          "Brian Robinson",
          "Isiah Pacheco",
          "Khalil Herbert",
          "Zamir White",
          "AJ Dillon",
          "Miles Sanders",
          "Dameon Pierce",
          "Raheem Mostert",
          "David Montgomery",
          "Jamaal Williams",
          "Javonte Williams",
          "Ezekiel Elliott",
          "Rachaad White",
          "D'Andre Swift",
          "Breece Hall",
          "Jahmyr Gibbs",
          "James Cook",
          "Zach Charbonnet",
          "Jerick McKinnon",
          "Elijah Mitchell",
          "Dalvin Cook",
          "Kenneth Gainwell",
          "Gus Edwards",
          "Clyde Edwards-Helaire"
         ],
         "legendgroup": "RB",
         "marker": {
          "color": "hsla(12, 50%, 45%, 1)",
          "pattern": {
           "shape": ""
          }
         },
         "name": "RB",
         "offsetgroup": "RB",
         "orientation": "v",
         "showlegend": true,
         "text": [
          "Christian McCaffrey",
          "Derrick Henry",
          "Nick Chubb",
          "Josh Jacobs",
          "Austin Ekeler",
          "Rhamondre Stevenson",
          "Antonio Gibson",
          "Bijan Robinson",
          "Travis Etienne",
          "J.K. Dobbins",
          "Saquon Barkley",
          "Aaron Jones",
          "Joe Mixon",
          "Kenneth Walker",
          "Tony Pollard",
          "Alexander Mattison",
          "Najee Harris",
          "James Conner",
          "Cam Akers",
          "Brian Robinson",
          "Isiah Pacheco",
          "Khalil Herbert",
          "Zamir White",
          "AJ Dillon",
          "Miles Sanders",
          "Dameon Pierce",
          "Raheem Mostert",
          "David Montgomery",
          "Jamaal Williams",
          "Javonte Williams",
          "Ezekiel Elliott",
          "Rachaad White",
          "D'Andre Swift",
          "Breece Hall",
          "Jahmyr Gibbs",
          "James Cook",
          "Zach Charbonnet",
          "Jerick McKinnon",
          "Elijah Mitchell",
          "Dalvin Cook",
          "Kenneth Gainwell",
          "Gus Edwards",
          "Clyde Edwards-Helaire"
         ],
         "textposition": "inside",
         "type": "bar",
         "x": [
          "DangeRUSS Last Ride",
          "DangeRUSS Last Ride",
          "kevinbash",
          "Croccity Body Snatchers",
          "Croccity Body Snatchers",
          "Saskatoon Squatches ",
          "Count of Monte Christian",
          "2014champ",
          "Verdanks Vacqueros FFC",
          "Pretty Big Wieners",
          "Saskatoon Squatches ",
          "kevinbash",
          "Croccity Body Snatchers",
          "Verdanks Vacqueros FFC",
          "Saskatoon Squatches ",
          "Pretty Big Wieners",
          "2014champ",
          "DangeRUSS Last Ride",
          "GusTheBus",
          "Idk much about soccer ",
          "Saskatoon Squatches ",
          "GusTheBus",
          "kevinbash",
          "📜 Providence 🪬 Spirits 🥂",
          "Pretty Big Wieners",
          "GusTheBus",
          "2014champ",
          "Croccity Body Snatchers",
          "Comeback 👑’s",
          "Saskatoon Squatches ",
          "Verdanks Vacqueros FFC",
          "📜 Providence 🪬 Spirits 🥂",
          "📜 Providence 🪬 Spirits 🥂",
          "Comeback 👑’s",
          "📜 Providence 🪬 Spirits 🥂",
          "Pretty Big Wieners",
          "Idk much about soccer ",
          "DangeRUSS Last Ride",
          "Verdanks Vacqueros FFC",
          "GusTheBus",
          "Count of Monte Christian",
          "Comeback 👑’s",
          "Comeback 👑’s"
         ],
         "xaxis": "x",
         "y": [
          19.56,
          17.9,
          17.575000000000003,
          16.919999999999998,
          16.12,
          15.825,
          15.75,
          15.69,
          15.524999999999999,
          15.34,
          15.16,
          15.100000000000001,
          14.88,
          14.55,
          13.93,
          13.774999999999999,
          13.660000000000002,
          13.66,
          13.6,
          13.040000000000001,
          12.855,
          12.805000000000003,
          12.67,
          12.594999999999999,
          12.469999999999999,
          12.145000000000001,
          12.115000000000002,
          11.96,
          11.775,
          11.51,
          11.14,
          10.965,
          10.71,
          10.325,
          10.265,
          10.17,
          9.68,
          9.225000000000001,
          9.115000000000002,
          9,
          8.595,
          5.485000000000001,
          4.710000000000001
         ],
         "yaxis": "y"
        },
        {
         "alignmentgroup": "True",
         "customdata": [
          [
           12.720000000000002,
           "Justin Jefferson",
           "WR"
          ],
          [
           10.935000000000002,
           "Tyreek Hill",
           "WR"
          ],
          [
           10.599999999999998,
           "Ja'Marr Chase",
           "WR"
          ],
          [
           10.067999999999998,
           "Davante Adams",
           "WR"
          ],
          [
           10.04,
           "A.J. Brown",
           "WR"
          ],
          [
           10.004999999999999,
           "CeeDee Lamb",
           "WR"
          ],
          [
           9.224999999999998,
           "Keenan Allen",
           "WR"
          ],
          [
           9.168,
           "Stefon Diggs",
           "WR"
          ],
          [
           8.975000000000001,
           "Jaylen Waddle",
           "WR"
          ],
          [
           8.440000000000001,
           "Romeo Doubs",
           "WR"
          ],
          [
           8.239999999999998,
           "DeAndre Hopkins",
           "WR"
          ],
          [
           8.234000000000002,
           "Chris Olave",
           "WR"
          ],
          [
           8.21,
           "Amon-Ra St. Brown",
           "WR"
          ],
          [
           8.177999999999997,
           "Amari Cooper",
           "WR"
          ],
          [
           8.129999999999999,
           "Tee Higgins",
           "WR"
          ],
          [
           8.053,
           "DeVonta Smith",
           "WR"
          ],
          [
           7.9799999999999995,
           "Garrett Wilson",
           "WR"
          ],
          [
           7.8599999999999985,
           "DK Metcalf",
           "WR"
          ],
          [
           7.7299999999999995,
           "Deebo Samuel",
           "WR"
          ],
          [
           7.71,
           "Mike Evans",
           "WR"
          ],
          [
           7.420000000000001,
           "Tyler Lockett",
           "WR"
          ],
          [
           7.325000000000002,
           "Christian Kirk",
           "WR"
          ],
          [
           7.19,
           "Chris Godwin",
           "WR"
          ],
          [
           6.915,
           "Drake London",
           "WR"
          ],
          [
           6.905,
           "Marquise Brown",
           "WR"
          ],
          [
           6.9049999999999985,
           "Mike Williams",
           "WR"
          ],
          [
           6.6400000000000015,
           "Jahan Dotson",
           "WR"
          ],
          [
           6.63,
           "DJ Moore",
           "WR"
          ],
          [
           6.505,
           "Jordan Addison",
           "WR"
          ],
          [
           6.3,
           "Michael Pittman",
           "WR"
          ],
          [
           6.1049999999999995,
           "Terry McLaurin",
           "WR"
          ],
          [
           5.955000000000001,
           "Calvin Ridley",
           "WR"
          ],
          [
           5.855000000000001,
           "Diontae Johnson",
           "WR"
          ],
          [
           5.794999999999999,
           "George Pickens",
           "WR"
          ],
          [
           5.655,
           "Richie James",
           "WR"
          ],
          [
           5.580000000000001,
           "Jerry Jeudy",
           "WR"
          ],
          [
           5.329999999999999,
           "Courtland Sutton",
           "WR"
          ],
          [
           4.6450000000000005,
           "Mecole Hardman",
           "WR"
          ],
          [
           4.6000000000000005,
           "Brandon Aiyuk",
           "WR"
          ],
          [
           3.215,
           "Brandin Cooks",
           "WR"
          ],
          [
           2.6800000000000006,
           "Josh Reynolds",
           "WR"
          ],
          [
           0,
           "Chase Claypool",
           "WR"
          ]
         ],
         "hovertemplate": "<b>%{hovertext}</b><br><br>Predicted Points=%{y}<br>Relative Value=%{customdata[0]}<extra></extra>",
         "hovertext": [
          "Justin Jefferson",
          "Tyreek Hill",
          "Ja'Marr Chase",
          "Davante Adams",
          "A.J. Brown",
          "CeeDee Lamb",
          "Keenan Allen",
          "Stefon Diggs",
          "Jaylen Waddle",
          "Romeo Doubs",
          "DeAndre Hopkins",
          "Chris Olave",
          "Amon-Ra St. Brown",
          "Amari Cooper",
          "Tee Higgins",
          "DeVonta Smith",
          "Garrett Wilson",
          "DK Metcalf",
          "Deebo Samuel",
          "Mike Evans",
          "Tyler Lockett",
          "Christian Kirk",
          "Chris Godwin",
          "Drake London",
          "Marquise Brown",
          "Mike Williams",
          "Jahan Dotson",
          "DJ Moore",
          "Jordan Addison",
          "Michael Pittman",
          "Terry McLaurin",
          "Calvin Ridley",
          "Diontae Johnson",
          "George Pickens",
          "Richie James",
          "Jerry Jeudy",
          "Courtland Sutton",
          "Mecole Hardman",
          "Brandon Aiyuk",
          "Brandin Cooks",
          "Josh Reynolds",
          "Chase Claypool"
         ],
         "legendgroup": "WR",
         "marker": {
          "color": "hsla(267, 40%, 45%, 1)",
          "pattern": {
           "shape": ""
          }
         },
         "name": "WR",
         "offsetgroup": "WR",
         "orientation": "v",
         "showlegend": true,
         "text": [
          "Justin Jefferson",
          "Tyreek Hill",
          "Ja'Marr Chase",
          "Davante Adams",
          "A.J. Brown",
          "CeeDee Lamb",
          "Keenan Allen",
          "Stefon Diggs",
          "Jaylen Waddle",
          "Romeo Doubs",
          "DeAndre Hopkins",
          "Chris Olave",
          "Amon-Ra St. Brown",
          "Amari Cooper",
          "Tee Higgins",
          "DeVonta Smith",
          "Garrett Wilson",
          "DK Metcalf",
          "Deebo Samuel",
          "Mike Evans",
          "Tyler Lockett",
          "Christian Kirk",
          "Chris Godwin",
          "Drake London",
          "Marquise Brown",
          "Mike Williams",
          "Jahan Dotson",
          "DJ Moore",
          "Jordan Addison",
          "Michael Pittman",
          "Terry McLaurin",
          "Calvin Ridley",
          "Diontae Johnson",
          "George Pickens",
          "Richie James",
          "Jerry Jeudy",
          "Courtland Sutton",
          "Mecole Hardman",
          "Brandon Aiyuk",
          "Brandin Cooks",
          "Josh Reynolds",
          "Chase Claypool"
         ],
         "textposition": "inside",
         "type": "bar",
         "x": [
          "Pretty Big Wieners",
          "Saskatoon Squatches ",
          "Saskatoon Squatches ",
          "Verdanks Vacqueros FFC",
          "Pretty Big Wieners",
          "Count of Monte Christian",
          "Pretty Big Wieners",
          "Comeback 👑’s",
          "GusTheBus",
          "📜 Providence 🪬 Spirits 🥂",
          "Verdanks Vacqueros FFC",
          "Count of Monte Christian",
          "kevinbash",
          "Verdanks Vacqueros FFC",
          "2014champ",
          "Count of Monte Christian",
          "📜 Providence 🪬 Spirits 🥂",
          "2014champ",
          "2014champ",
          "kevinbash",
          "Croccity Body Snatchers",
          "GusTheBus",
          "Croccity Body Snatchers",
          "Idk much about soccer ",
          "Croccity Body Snatchers",
          "Idk much about soccer ",
          "📜 Providence 🪬 Spirits 🥂",
          "Idk much about soccer ",
          "DangeRUSS Last Ride",
          "GusTheBus",
          "kevinbash",
          "2014champ",
          "Idk much about soccer ",
          "DangeRUSS Last Ride",
          "Count of Monte Christian",
          "Saskatoon Squatches ",
          "Count of Monte Christian",
          "Idk much about soccer ",
          "kevinbash",
          "Comeback 👑’s",
          "Comeback 👑’s",
          "DangeRUSS Last Ride"
         ],
         "xaxis": "x",
         "y": [
          15.840000000000002,
          14.055000000000003,
          13.719999999999999,
          13.187999999999999,
          13.16,
          13.125,
          12.344999999999999,
          12.287999999999998,
          12.095,
          11.56,
          11.36,
          11.354000000000003,
          11.330000000000002,
          11.297999999999998,
          11.25,
          11.173,
          11.1,
          10.979999999999999,
          10.85,
          10.83,
          10.540000000000001,
          10.445000000000002,
          10.31,
          10.035,
          10.025,
          10.024999999999999,
          9.760000000000002,
          9.75,
          9.625,
          9.42,
          9.225,
          9.075000000000001,
          8.975000000000001,
          8.915,
          8.775,
          8.700000000000001,
          8.45,
          7.765000000000001,
          7.720000000000001,
          6.335,
          5.800000000000001,
          3.12
         ],
         "yaxis": "y"
        },
        {
         "alignmentgroup": "True",
         "customdata": [
          [
           5.070000000000001,
           "Daniel Carlson",
           "PK"
          ],
          [
           4.420000000000001,
           "Justin Tucker",
           "PK"
          ],
          [
           3.870000000000002,
           "Harrison Butker",
           "PK"
          ],
          [
           3.570000000000001,
           "Riley Patterson",
           "PK"
          ],
          [
           3.5200000000000022,
           "Chris Boswell",
           "PK"
          ],
          [
           3.5200000000000022,
           "Evan McPherson",
           "PK"
          ],
          [
           3.2700000000000005,
           "Brandon Aubrey",
           "PK"
          ],
          [
           2.9699999999999998,
           "Greg Joseph",
           "PK"
          ],
          [
           2.8199999999999994,
           "Jason Myers",
           "PK"
          ],
          [
           2.7199999999999998,
           "Matt Gay",
           "PK"
          ],
          [
           2.570000000000001,
           "Tyler Bass",
           "PK"
          ],
          [
           2.5200000000000022,
           "Chase McLaughlin",
           "PK"
          ],
          [
           2.5200000000000005,
           "Joey Slye",
           "PK"
          ],
          [
           2.4699999999999998,
           "Eddy Pineiro",
           "PK"
          ],
          [
           2.4699999999999998,
           "Chad Ryland",
           "PK"
          ],
          [
           2.370000000000002,
           "Brandon McManus",
           "PK"
          ],
          [
           2.2700000000000005,
           "Greg Zuerlein",
           "PK"
          ],
          [
           1.9200000000000008,
           "Graham Gano",
           "PK"
          ],
          [
           1.4700000000000033,
           "Wil Lutz",
           "PK"
          ],
          [
           1.4200000000000026,
           "Dustin Hopkins",
           "PK"
          ],
          [
           1.3200000000000012,
           "Jake Elliott",
           "PK"
          ],
          [
           1.3200000000000012,
           "Jake Moody",
           "PK"
          ],
          [
           1.080000000000001,
           "Anders Carlson",
           "PK"
          ],
          [
           0,
           "Cairo Santos",
           "PK"
          ]
         ],
         "hovertemplate": "<b>%{hovertext}</b><br><br>Predicted Points=%{y}<br>Relative Value=%{customdata[0]}<extra></extra>",
         "hovertext": [
          "Daniel Carlson",
          "Justin Tucker",
          "Harrison Butker",
          "Riley Patterson",
          "Chris Boswell",
          "Evan McPherson",
          "Brandon Aubrey",
          "Greg Joseph",
          "Jason Myers",
          "Matt Gay",
          "Tyler Bass",
          "Chase McLaughlin",
          "Joey Slye",
          "Eddy Pineiro",
          "Chad Ryland",
          "Brandon McManus",
          "Greg Zuerlein",
          "Graham Gano",
          "Wil Lutz",
          "Dustin Hopkins",
          "Jake Elliott",
          "Jake Moody",
          "Anders Carlson",
          "Cairo Santos"
         ],
         "legendgroup": "PK",
         "marker": {
          "color": "hsla(14, 30%, 40%, 1)",
          "pattern": {
           "shape": ""
          }
         },
         "name": "PK",
         "offsetgroup": "PK",
         "orientation": "v",
         "showlegend": true,
         "text": [
          "Daniel Carlson",
          "Justin Tucker",
          "Harrison Butker",
          "Riley Patterson",
          "Chris Boswell",
          "Evan McPherson",
          "Brandon Aubrey",
          "Greg Joseph",
          "Jason Myers",
          "Matt Gay",
          "Tyler Bass",
          "Chase McLaughlin",
          "Joey Slye",
          "Eddy Pineiro",
          "Chad Ryland",
          "Brandon McManus",
          "Greg Zuerlein",
          "Graham Gano",
          "Wil Lutz",
          "Dustin Hopkins",
          "Jake Elliott",
          "Jake Moody",
          "Anders Carlson",
          "Cairo Santos"
         ],
         "textposition": "inside",
         "type": "bar",
         "x": [
          "Pretty Big Wieners",
          "GusTheBus",
          "Count of Monte Christian",
          "Saskatoon Squatches ",
          "Croccity Body Snatchers",
          "📜 Providence 🪬 Spirits 🥂",
          "kevinbash",
          "2014champ",
          "Idk much about soccer ",
          "DangeRUSS Last Ride",
          "📜 Providence 🪬 Spirits 🥂",
          "Count of Monte Christian",
          "GusTheBus",
          "Verdanks Vacqueros FFC",
          "Comeback 👑’s",
          "Idk much about soccer ",
          "Comeback 👑’s",
          "Saskatoon Squatches ",
          "2014champ",
          "Croccity Body Snatchers",
          "DangeRUSS Last Ride",
          "Verdanks Vacqueros FFC",
          "kevinbash",
          "Pretty Big Wieners"
         ],
         "xaxis": "x",
         "y": [
          12,
          11.35,
          10.8,
          10.5,
          10.450000000000001,
          10.450000000000001,
          10.2,
          9.899999999999999,
          9.749999999999998,
          9.649999999999999,
          9.5,
          9.450000000000001,
          9.45,
          9.399999999999999,
          9.399999999999999,
          9.3,
          9.2,
          8.85,
          8.400000000000002,
          8.350000000000001,
          8.25,
          8.25,
          8.01,
          6.929999999999999
         ],
         "yaxis": "y"
        },
        {
         "alignmentgroup": "True",
         "customdata": [
          [
           11.3575,
           "NO",
           "DEF"
          ],
          [
           15.337299999999999,
           "NYJ",
           "DEF"
          ],
          [
           15.337299999999999,
           "NYG",
           "DEF"
          ],
          [
           9.730400000000001,
           "JAX",
           "DEF"
          ],
          [
           9.5459,
           "WAS",
           "DEF"
          ],
          [
           9.2152,
           "PHI",
           "DEF"
          ],
          [
           9.0628,
           "DEN",
           "DEF"
          ],
          [
           8.800299999999998,
           "BUF",
           "DEF"
          ],
          [
           7.9250000000000025,
           "BAL",
           "DEF"
          ],
          [
           7.197899999999997,
           "MIA",
           "DEF"
          ],
          [
           6.9254,
           "CLE",
           "DEF"
          ],
          [
           10.779099999999998,
           "LAR",
           "DEF"
          ],
          [
           10.779099999999998,
           "LAC",
           "DEF"
          ],
          [
           5.799299999999999,
           "LV",
           "DEF"
          ],
          [
           5.747399999999999,
           "ARI",
           "DEF"
          ],
          [
           5.685000000000002,
           "GB",
           "DEF"
          ],
          [
           5.020899999999999,
           "TEN",
           "DEF"
          ],
          [
           4.548899999999998,
           "CAR",
           "DEF"
          ],
          [
           2.8100000000000023,
           "MIN",
           "DEF"
          ],
          [
           2.2190999999999974,
           "PIT",
           "DEF"
          ],
          [
           2.1336000000000013,
           "HOU",
           "DEF"
          ],
          [
           2.0777999999999963,
           "IND",
           "DEF"
          ],
          [
           1.9350000000000023,
           "KC",
           "DEF"
          ],
          [
           0,
           "CHI",
           "DEF"
          ]
         ],
         "hovertemplate": "<b>%{hovertext}</b><br><br>Predicted Points=%{y}<br>Relative Value=%{customdata[0]}<extra></extra>",
         "hovertext": [
          "NO",
          "NYJ",
          "NYG",
          "JAX",
          "WAS",
          "PHI",
          "DEN",
          "BUF",
          "BAL",
          "MIA",
          "CLE",
          "LAR",
          "LAC",
          "LV",
          "ARI",
          "GB",
          "TEN",
          "CAR",
          "MIN",
          "PIT",
          "HOU",
          "IND",
          "KC",
          "CHI"
         ],
         "legendgroup": "DEF",
         "marker": {
          "color": "hsla(35, 70%, 65%, 1)",
          "pattern": {
           "shape": ""
          }
         },
         "name": "DEF",
         "offsetgroup": "DEF",
         "orientation": "v",
         "showlegend": true,
         "text": [
          "NO",
          "NYJ",
          "NYG",
          "JAX",
          "WAS",
          "PHI",
          "DEN",
          "BUF",
          "BAL",
          "MIA",
          "CLE",
          "LAR",
          "LAC",
          "LV",
          "ARI",
          "GB",
          "TEN",
          "CAR",
          "MIN",
          "PIT",
          "HOU",
          "IND",
          "KC",
          "CHI"
         ],
         "textposition": "inside",
         "type": "bar",
         "x": [
          "kevinbash",
          "📜 Providence 🪬 Spirits 🥂",
          "Count of Monte Christian",
          "Saskatoon Squatches ",
          "Croccity Body Snatchers",
          "Pretty Big Wieners",
          "Croccity Body Snatchers",
          "kevinbash",
          "GusTheBus",
          "Pretty Big Wieners",
          "2014champ",
          "Comeback 👑’s",
          "DangeRUSS Last Ride",
          "Count of Monte Christian",
          "Verdanks Vacqueros FFC",
          "DangeRUSS Last Ride",
          "Saskatoon Squatches ",
          "Verdanks Vacqueros FFC",
          "Comeback 👑’s",
          "GusTheBus",
          "📜 Providence 🪬 Spirits 🥂",
          "Idk much about soccer ",
          "Idk much about soccer ",
          "2014champ"
         ],
         "xaxis": "x",
         "y": [
          10.4075,
          13.4373,
          13.4373,
          8.780400000000002,
          8.5959,
          8.2652,
          8.1128,
          7.850299999999999,
          6.975000000000003,
          6.247899999999998,
          5.9754000000000005,
          8.8791,
          8.8791,
          4.8492999999999995,
          4.7974,
          4.735000000000003,
          4.0709,
          3.5988999999999987,
          1.860000000000003,
          1.2690999999999981,
          1.183600000000002,
          1.127799999999997,
          0.985000000000003,
          -0.9499999999999993
         ],
         "yaxis": "y"
        },
        {
         "alignmentgroup": "True",
         "customdata": [
          [
           7.6899999999999995,
           "George Kittle",
           "TE"
          ],
          [
           6.375,
           "Mark Andrews",
           "TE"
          ],
          [
           5.58,
           "Juwan Johnson",
           "TE"
          ],
          [
           5.575000000000001,
           "Taysom Hill",
           "TE"
          ],
          [
           5.555,
           "Dawson Knox",
           "TE"
          ],
          [
           5.25,
           "Evan Engram",
           "TE"
          ],
          [
           5.234999999999999,
           "T.J. Hockenson",
           "TE"
          ],
          [
           5.215000000000002,
           "Dallas Goedert",
           "TE"
          ],
          [
           4.925000000000001,
           "Kyle Pitts",
           "TE"
          ],
          [
           4.824999999999999,
           "Tyler Higbee",
           "TE"
          ],
          [
           4.641,
           "Darren Waller",
           "TE"
          ],
          [
           4.6030000000000015,
           "David Njoku",
           "TE"
          ],
          [
           4.275,
           "Dalton Schultz",
           "TE"
          ],
          [
           3.9999999999999996,
           "Greg Dulcich",
           "TE"
          ],
          [
           3.4999999999999996,
           "Sam LaPorta",
           "TE"
          ],
          [
           3.1999999999999997,
           "Luke Schoonmaker",
           "TE"
          ],
          [
           2.975,
           "Hunter Henry",
           "TE"
          ],
          [
           2.9330000000000003,
           "Noah Fant",
           "TE"
          ],
          [
           2.5500000000000003,
           "Cade Otton",
           "TE"
          ],
          [
           2.4150000000000005,
           "Dalton Kincaid",
           "TE"
          ],
          [
           2.3249999999999997,
           "Irv Smith",
           "TE"
          ],
          [
           2.174,
           "Tyler Conklin",
           "TE"
          ],
          [
           0.5749999999999997,
           "Jordan Akins",
           "TE"
          ],
          [
           0,
           "Kylen Granson",
           "TE"
          ]
         ],
         "hovertemplate": "<b>%{hovertext}</b><br><br>Predicted Points=%{y}<br>Relative Value=%{customdata[0]}<extra></extra>",
         "hovertext": [
          "George Kittle",
          "Mark Andrews",
          "Juwan Johnson",
          "Taysom Hill",
          "Dawson Knox",
          "Evan Engram",
          "T.J. Hockenson",
          "Dallas Goedert",
          "Kyle Pitts",
          "Tyler Higbee",
          "Darren Waller",
          "David Njoku",
          "Dalton Schultz",
          "Greg Dulcich",
          "Sam LaPorta",
          "Luke Schoonmaker",
          "Hunter Henry",
          "Noah Fant",
          "Cade Otton",
          "Dalton Kincaid",
          "Irv Smith",
          "Tyler Conklin",
          "Jordan Akins",
          "Kylen Granson"
         ],
         "legendgroup": "TE",
         "marker": {
          "color": "hsla(177, 68%, 36%, 1)",
          "pattern": {
           "shape": ""
          }
         },
         "name": "TE",
         "offsetgroup": "TE",
         "orientation": "v",
         "showlegend": true,
         "text": [
          "George Kittle",
          "Mark Andrews",
          "Juwan Johnson",
          "Taysom Hill",
          "Dawson Knox",
          "Evan Engram",
          "T.J. Hockenson",
          "Dallas Goedert",
          "Kyle Pitts",
          "Tyler Higbee",
          "Darren Waller",
          "David Njoku",
          "Dalton Schultz",
          "Greg Dulcich",
          "Sam LaPorta",
          "Luke Schoonmaker",
          "Hunter Henry",
          "Noah Fant",
          "Cade Otton",
          "Dalton Kincaid",
          "Irv Smith",
          "Tyler Conklin",
          "Jordan Akins",
          "Kylen Granson"
         ],
         "textposition": "inside",
         "type": "bar",
         "x": [
          "DangeRUSS Last Ride",
          "Pretty Big Wieners",
          "GusTheBus",
          "2014champ",
          "Idk much about soccer ",
          "2014champ",
          "Saskatoon Squatches ",
          "Saskatoon Squatches ",
          "📜 Providence 🪬 Spirits 🥂",
          "Croccity Body Snatchers",
          "DangeRUSS Last Ride",
          "Verdanks Vacqueros FFC",
          "Comeback 👑’s",
          "Croccity Body Snatchers",
          "kevinbash",
          "Count of Monte Christian",
          "Count of Monte Christian",
          "GusTheBus",
          "Idk much about soccer ",
          "Verdanks Vacqueros FFC",
          "📜 Providence 🪬 Spirits 🥂",
          "Pretty Big Wieners",
          "Comeback 👑’s",
          "kevinbash"
         ],
         "xaxis": "x",
         "y": [
          9.99,
          8.675,
          7.880000000000001,
          7.875000000000001,
          7.855,
          7.550000000000001,
          7.535,
          7.5150000000000015,
          7.2250000000000005,
          7.125,
          6.941,
          6.903000000000001,
          6.575,
          6.3,
          5.8,
          5.5,
          5.275,
          5.2330000000000005,
          4.8500000000000005,
          4.715000000000001,
          4.625,
          4.474,
          2.875,
          2.3000000000000003
         ],
         "yaxis": "y"
        },
        {
         "mode": "text",
         "showlegend": false,
         "text": [
          157,
          134,
          154,
          179,
          162,
          156,
          140,
          169,
          177,
          157,
          160,
          156
         ],
         "textfont": {
          "size": 18
         },
         "textposition": "top center",
         "type": "scatter",
         "x": [
          "2014champ",
          "Comeback 👑’s",
          "Count of Monte Christian",
          "Croccity Body Snatchers",
          "DangeRUSS Last Ride",
          "GusTheBus",
          "Idk much about soccer ",
          "Pretty Big Wieners",
          "Saskatoon Squatches ",
          "Verdanks Vacqueros FFC",
          "kevinbash",
          "📜 Providence 🪬 Spirits 🥂"
         ],
         "y": [
          157,
          134,
          154,
          179,
          162,
          156,
          140,
          169,
          177,
          157,
          160,
          156
         ]
        }
       ],
       "layout": {
        "barmode": "stack",
        "font": {
         "family": "Skia"
        },
        "legend": {
         "title": {
          "text": "position"
         },
         "tracegroupgap": 0
        },
        "margin": {
         "t": 60
        },
        "plot_bgcolor": "rgba(0,0,0,0)",
        "showlegend": false,
        "template": {
         "data": {
          "bar": [
           {
            "error_x": {
             "color": "#2a3f5f"
            },
            "error_y": {
             "color": "#2a3f5f"
            },
            "marker": {
             "line": {
              "color": "#E5ECF6",
              "width": 0.5
             },
             "pattern": {
              "fillmode": "overlay",
              "size": 10,
              "solidity": 0.2
             }
            },
            "type": "bar"
           }
          ],
          "barpolar": [
           {
            "marker": {
             "line": {
              "color": "#E5ECF6",
              "width": 0.5
             },
             "pattern": {
              "fillmode": "overlay",
              "size": 10,
              "solidity": 0.2
             }
            },
            "type": "barpolar"
           }
          ],
          "carpet": [
           {
            "aaxis": {
             "endlinecolor": "#2a3f5f",
             "gridcolor": "white",
             "linecolor": "white",
             "minorgridcolor": "white",
             "startlinecolor": "#2a3f5f"
            },
            "baxis": {
             "endlinecolor": "#2a3f5f",
             "gridcolor": "white",
             "linecolor": "white",
             "minorgridcolor": "white",
             "startlinecolor": "#2a3f5f"
            },
            "type": "carpet"
           }
          ],
          "choropleth": [
           {
            "colorbar": {
             "outlinewidth": 0,
             "ticks": ""
            },
            "type": "choropleth"
           }
          ],
          "contour": [
           {
            "colorbar": {
             "outlinewidth": 0,
             "ticks": ""
            },
            "colorscale": [
             [
              0,
              "#0d0887"
             ],
             [
              0.1111111111111111,
              "#46039f"
             ],
             [
              0.2222222222222222,
              "#7201a8"
             ],
             [
              0.3333333333333333,
              "#9c179e"
             ],
             [
              0.4444444444444444,
              "#bd3786"
             ],
             [
              0.5555555555555556,
              "#d8576b"
             ],
             [
              0.6666666666666666,
              "#ed7953"
             ],
             [
              0.7777777777777778,
              "#fb9f3a"
             ],
             [
              0.8888888888888888,
              "#fdca26"
             ],
             [
              1,
              "#f0f921"
             ]
            ],
            "type": "contour"
           }
          ],
          "contourcarpet": [
           {
            "colorbar": {
             "outlinewidth": 0,
             "ticks": ""
            },
            "type": "contourcarpet"
           }
          ],
          "heatmap": [
           {
            "colorbar": {
             "outlinewidth": 0,
             "ticks": ""
            },
            "colorscale": [
             [
              0,
              "#0d0887"
             ],
             [
              0.1111111111111111,
              "#46039f"
             ],
             [
              0.2222222222222222,
              "#7201a8"
             ],
             [
              0.3333333333333333,
              "#9c179e"
             ],
             [
              0.4444444444444444,
              "#bd3786"
             ],
             [
              0.5555555555555556,
              "#d8576b"
             ],
             [
              0.6666666666666666,
              "#ed7953"
             ],
             [
              0.7777777777777778,
              "#fb9f3a"
             ],
             [
              0.8888888888888888,
              "#fdca26"
             ],
             [
              1,
              "#f0f921"
             ]
            ],
            "type": "heatmap"
           }
          ],
          "heatmapgl": [
           {
            "colorbar": {
             "outlinewidth": 0,
             "ticks": ""
            },
            "colorscale": [
             [
              0,
              "#0d0887"
             ],
             [
              0.1111111111111111,
              "#46039f"
             ],
             [
              0.2222222222222222,
              "#7201a8"
             ],
             [
              0.3333333333333333,
              "#9c179e"
             ],
             [
              0.4444444444444444,
              "#bd3786"
             ],
             [
              0.5555555555555556,
              "#d8576b"
             ],
             [
              0.6666666666666666,
              "#ed7953"
             ],
             [
              0.7777777777777778,
              "#fb9f3a"
             ],
             [
              0.8888888888888888,
              "#fdca26"
             ],
             [
              1,
              "#f0f921"
             ]
            ],
            "type": "heatmapgl"
           }
          ],
          "histogram": [
           {
            "marker": {
             "pattern": {
              "fillmode": "overlay",
              "size": 10,
              "solidity": 0.2
             }
            },
            "type": "histogram"
           }
          ],
          "histogram2d": [
           {
            "colorbar": {
             "outlinewidth": 0,
             "ticks": ""
            },
            "colorscale": [
             [
              0,
              "#0d0887"
             ],
             [
              0.1111111111111111,
              "#46039f"
             ],
             [
              0.2222222222222222,
              "#7201a8"
             ],
             [
              0.3333333333333333,
              "#9c179e"
             ],
             [
              0.4444444444444444,
              "#bd3786"
             ],
             [
              0.5555555555555556,
              "#d8576b"
             ],
             [
              0.6666666666666666,
              "#ed7953"
             ],
             [
              0.7777777777777778,
              "#fb9f3a"
             ],
             [
              0.8888888888888888,
              "#fdca26"
             ],
             [
              1,
              "#f0f921"
             ]
            ],
            "type": "histogram2d"
           }
          ],
          "histogram2dcontour": [
           {
            "colorbar": {
             "outlinewidth": 0,
             "ticks": ""
            },
            "colorscale": [
             [
              0,
              "#0d0887"
             ],
             [
              0.1111111111111111,
              "#46039f"
             ],
             [
              0.2222222222222222,
              "#7201a8"
             ],
             [
              0.3333333333333333,
              "#9c179e"
             ],
             [
              0.4444444444444444,
              "#bd3786"
             ],
             [
              0.5555555555555556,
              "#d8576b"
             ],
             [
              0.6666666666666666,
              "#ed7953"
             ],
             [
              0.7777777777777778,
              "#fb9f3a"
             ],
             [
              0.8888888888888888,
              "#fdca26"
             ],
             [
              1,
              "#f0f921"
             ]
            ],
            "type": "histogram2dcontour"
           }
          ],
          "mesh3d": [
           {
            "colorbar": {
             "outlinewidth": 0,
             "ticks": ""
            },
            "type": "mesh3d"
           }
          ],
          "parcoords": [
           {
            "line": {
             "colorbar": {
              "outlinewidth": 0,
              "ticks": ""
             }
            },
            "type": "parcoords"
           }
          ],
          "pie": [
           {
            "automargin": true,
            "type": "pie"
           }
          ],
          "scatter": [
           {
            "fillpattern": {
             "fillmode": "overlay",
             "size": 10,
             "solidity": 0.2
            },
            "type": "scatter"
           }
          ],
          "scatter3d": [
           {
            "line": {
             "colorbar": {
              "outlinewidth": 0,
              "ticks": ""
             }
            },
            "marker": {
             "colorbar": {
              "outlinewidth": 0,
              "ticks": ""
             }
            },
            "type": "scatter3d"
           }
          ],
          "scattercarpet": [
           {
            "marker": {
             "colorbar": {
              "outlinewidth": 0,
              "ticks": ""
             }
            },
            "type": "scattercarpet"
           }
          ],
          "scattergeo": [
           {
            "marker": {
             "colorbar": {
              "outlinewidth": 0,
              "ticks": ""
             }
            },
            "type": "scattergeo"
           }
          ],
          "scattergl": [
           {
            "marker": {
             "colorbar": {
              "outlinewidth": 0,
              "ticks": ""
             }
            },
            "type": "scattergl"
           }
          ],
          "scattermapbox": [
           {
            "marker": {
             "colorbar": {
              "outlinewidth": 0,
              "ticks": ""
             }
            },
            "type": "scattermapbox"
           }
          ],
          "scatterpolar": [
           {
            "marker": {
             "colorbar": {
              "outlinewidth": 0,
              "ticks": ""
             }
            },
            "type": "scatterpolar"
           }
          ],
          "scatterpolargl": [
           {
            "marker": {
             "colorbar": {
              "outlinewidth": 0,
              "ticks": ""
             }
            },
            "type": "scatterpolargl"
           }
          ],
          "scatterternary": [
           {
            "marker": {
             "colorbar": {
              "outlinewidth": 0,
              "ticks": ""
             }
            },
            "type": "scatterternary"
           }
          ],
          "surface": [
           {
            "colorbar": {
             "outlinewidth": 0,
             "ticks": ""
            },
            "colorscale": [
             [
              0,
              "#0d0887"
             ],
             [
              0.1111111111111111,
              "#46039f"
             ],
             [
              0.2222222222222222,
              "#7201a8"
             ],
             [
              0.3333333333333333,
              "#9c179e"
             ],
             [
              0.4444444444444444,
              "#bd3786"
             ],
             [
              0.5555555555555556,
              "#d8576b"
             ],
             [
              0.6666666666666666,
              "#ed7953"
             ],
             [
              0.7777777777777778,
              "#fb9f3a"
             ],
             [
              0.8888888888888888,
              "#fdca26"
             ],
             [
              1,
              "#f0f921"
             ]
            ],
            "type": "surface"
           }
          ],
          "table": [
           {
            "cells": {
             "fill": {
              "color": "#EBF0F8"
             },
             "line": {
              "color": "white"
             }
            },
            "header": {
             "fill": {
              "color": "#C8D4E3"
             },
             "line": {
              "color": "white"
             }
            },
            "type": "table"
           }
          ]
         },
         "layout": {
          "annotationdefaults": {
           "arrowcolor": "#2a3f5f",
           "arrowhead": 0,
           "arrowwidth": 1
          },
          "autotypenumbers": "strict",
          "coloraxis": {
           "colorbar": {
            "outlinewidth": 0,
            "ticks": ""
           }
          },
          "colorscale": {
           "diverging": [
            [
             0,
             "#8e0152"
            ],
            [
             0.1,
             "#c51b7d"
            ],
            [
             0.2,
             "#de77ae"
            ],
            [
             0.3,
             "#f1b6da"
            ],
            [
             0.4,
             "#fde0ef"
            ],
            [
             0.5,
             "#f7f7f7"
            ],
            [
             0.6,
             "#e6f5d0"
            ],
            [
             0.7,
             "#b8e186"
            ],
            [
             0.8,
             "#7fbc41"
            ],
            [
             0.9,
             "#4d9221"
            ],
            [
             1,
             "#276419"
            ]
           ],
           "sequential": [
            [
             0,
             "#0d0887"
            ],
            [
             0.1111111111111111,
             "#46039f"
            ],
            [
             0.2222222222222222,
             "#7201a8"
            ],
            [
             0.3333333333333333,
             "#9c179e"
            ],
            [
             0.4444444444444444,
             "#bd3786"
            ],
            [
             0.5555555555555556,
             "#d8576b"
            ],
            [
             0.6666666666666666,
             "#ed7953"
            ],
            [
             0.7777777777777778,
             "#fb9f3a"
            ],
            [
             0.8888888888888888,
             "#fdca26"
            ],
            [
             1,
             "#f0f921"
            ]
           ],
           "sequentialminus": [
            [
             0,
             "#0d0887"
            ],
            [
             0.1111111111111111,
             "#46039f"
            ],
            [
             0.2222222222222222,
             "#7201a8"
            ],
            [
             0.3333333333333333,
             "#9c179e"
            ],
            [
             0.4444444444444444,
             "#bd3786"
            ],
            [
             0.5555555555555556,
             "#d8576b"
            ],
            [
             0.6666666666666666,
             "#ed7953"
            ],
            [
             0.7777777777777778,
             "#fb9f3a"
            ],
            [
             0.8888888888888888,
             "#fdca26"
            ],
            [
             1,
             "#f0f921"
            ]
           ]
          },
          "colorway": [
           "#636efa",
           "#EF553B",
           "#00cc96",
           "#ab63fa",
           "#FFA15A",
           "#19d3f3",
           "#FF6692",
           "#B6E880",
           "#FF97FF",
           "#FECB52"
          ],
          "font": {
           "color": "#2a3f5f"
          },
          "geo": {
           "bgcolor": "white",
           "lakecolor": "white",
           "landcolor": "#E5ECF6",
           "showlakes": true,
           "showland": true,
           "subunitcolor": "white"
          },
          "hoverlabel": {
           "align": "left"
          },
          "hovermode": "closest",
          "mapbox": {
           "style": "light"
          },
          "paper_bgcolor": "white",
          "plot_bgcolor": "#E5ECF6",
          "polar": {
           "angularaxis": {
            "gridcolor": "white",
            "linecolor": "white",
            "ticks": ""
           },
           "bgcolor": "#E5ECF6",
           "radialaxis": {
            "gridcolor": "white",
            "linecolor": "white",
            "ticks": ""
           }
          },
          "scene": {
           "xaxis": {
            "backgroundcolor": "#E5ECF6",
            "gridcolor": "white",
            "gridwidth": 2,
            "linecolor": "white",
            "showbackground": true,
            "ticks": "",
            "zerolinecolor": "white"
           },
           "yaxis": {
            "backgroundcolor": "#E5ECF6",
            "gridcolor": "white",
            "gridwidth": 2,
            "linecolor": "white",
            "showbackground": true,
            "ticks": "",
            "zerolinecolor": "white"
           },
           "zaxis": {
            "backgroundcolor": "#E5ECF6",
            "gridcolor": "white",
            "gridwidth": 2,
            "linecolor": "white",
            "showbackground": true,
            "ticks": "",
            "zerolinecolor": "white"
           }
          },
          "shapedefaults": {
           "line": {
            "color": "#2a3f5f"
           }
          },
          "ternary": {
           "aaxis": {
            "gridcolor": "white",
            "linecolor": "white",
            "ticks": ""
           },
           "baxis": {
            "gridcolor": "white",
            "linecolor": "white",
            "ticks": ""
           },
           "bgcolor": "#E5ECF6",
           "caxis": {
            "gridcolor": "white",
            "linecolor": "white",
            "ticks": ""
           }
          },
          "title": {
           "x": 0.05
          },
          "xaxis": {
           "automargin": true,
           "gridcolor": "white",
           "linecolor": "white",
           "ticks": "",
           "title": {
            "standoff": 15
           },
           "zerolinecolor": "white",
           "zerolinewidth": 2
          },
          "yaxis": {
           "automargin": true,
           "gridcolor": "white",
           "linecolor": "white",
           "ticks": "",
           "title": {
            "standoff": 15
           },
           "zerolinecolor": "white",
           "zerolinewidth": 2
          }
         }
        },
        "title": {
         "text": "Franchise Comparison"
        },
        "xaxis": {
         "anchor": "y",
         "categoryorder": "total descending",
         "domain": [
          0,
          1
         ],
         "title": {}
        },
        "yaxis": {
         "anchor": "x",
         "domain": [
          0,
          1
         ],
         "title": {
          "text": "Predicted Points"
         },
         "visible": false
        }
       }
      }
     },
     "metadata": {},
     "output_type": "display_data"
    }
   ],
   "source": [
    "#from ffpackage.analysis import starterSelector\n",
    "# Roster optimizer\n",
    "df = full.copy()\n",
    "optimized = pd.DataFrame()\n",
    "# Roster Dictionary\n",
    "rosterDict = {\n",
    "    'QB':['QB'], \n",
    "    'RB':['RB'],\n",
    "    'WR':['WR'],\n",
    "    'TE':['TE'],\n",
    "    'K':['PK'],\n",
    "    'DEF':['DEF'],\n",
    "    'FLEX':['RB', 'WR', 'TE'],\n",
    "    'SUPER_FLEX':['QB', 'RB', 'WR', 'TE'],\n",
    "}\n",
    "# Sort\n",
    "cond_taxi = df['taxi'].isna()\n",
    "sorted = df.loc[cond_taxi].sort_values(by='pts_proj', ignore_index=True, ascending=False)\n",
    "# Loop through weeks and franchises\n",
    "for this_user in df['user_id'].unique():\n",
    "    for week_to_optimize in df['week'].unique():\n",
    "        # Filter predictions for only that week and on a roster\n",
    "        cond_franch = sorted['user_id']==this_user\n",
    "        cond_week = sorted['week']==week_to_optimize\n",
    "        week_filtered = sorted.loc[cond_franch & cond_week]\n",
    "        # Start selecting the most valuable players in terms of total points for each position\n",
    "        result = []\n",
    "        for pos in rosterList:\n",
    "            # Ignore bench spots\n",
    "            if pos != \"BN\":\n",
    "                # Filter for each position and make sure the player is not already taken\n",
    "                cond_pos = week_filtered['position'].isin(rosterDict[pos])\n",
    "                cond_nottaken = ~week_filtered['player_id'].isin(result)\n",
    "                player_filtered = week_filtered.loc[cond_pos & cond_nottaken]\n",
    "                # Find highest scoring player that fits\n",
    "                if len(player_filtered)>0:\n",
    "                    player = player_filtered.reset_index(drop=True)['player_id'][0]\n",
    "                    result.append(player)\n",
    "        # Append results\n",
    "        next = week_filtered.loc[week_filtered['player_id'].isin(result)]\n",
    "        optimized = pd.concat([optimized, next], axis=0, ignore_index=True)\n",
    "\n",
    "# Get relative points\n",
    "optimized = getRelProjs_optimized(optimized)\n",
    "# Sum points across the season\n",
    "optimized = getSeasonTotals(optimized)\n",
    "# Visualize\n",
    "fig = compareFranchises(optimized, how='absolute')\n",
    "fig.show()"
   ]
  },
  {
   "cell_type": "code",
   "execution_count": 15,
   "metadata": {},
   "outputs": [
    {
     "data": {
      "text/html": [
       "<div>\n",
       "<style scoped>\n",
       "    .dataframe tbody tr th:only-of-type {\n",
       "        vertical-align: middle;\n",
       "    }\n",
       "\n",
       "    .dataframe tbody tr th {\n",
       "        vertical-align: top;\n",
       "    }\n",
       "\n",
       "    .dataframe thead th {\n",
       "        text-align: right;\n",
       "    }\n",
       "</style>\n",
       "<table border=\"1\" class=\"dataframe\">\n",
       "  <thead>\n",
       "    <tr style=\"text-align: right;\">\n",
       "      <th></th>\n",
       "      <th>player_id</th>\n",
       "      <th>full_name</th>\n",
       "      <th>birth_date</th>\n",
       "      <th>age</th>\n",
       "      <th>weight</th>\n",
       "      <th>height</th>\n",
       "      <th>team</th>\n",
       "      <th>position</th>\n",
       "      <th>fantasy_positions</th>\n",
       "      <th>depth_chart_order</th>\n",
       "      <th>...</th>\n",
       "      <th>KR</th>\n",
       "      <th>date_prediction</th>\n",
       "      <th>owner_id</th>\n",
       "      <th>taxi</th>\n",
       "      <th>starters</th>\n",
       "      <th>players</th>\n",
       "      <th>user_id</th>\n",
       "      <th>franchise_name</th>\n",
       "      <th>display_name</th>\n",
       "      <th>rel_proj</th>\n",
       "    </tr>\n",
       "    <tr>\n",
       "      <th>pts_proj</th>\n",
       "      <th></th>\n",
       "      <th></th>\n",
       "      <th></th>\n",
       "      <th></th>\n",
       "      <th></th>\n",
       "      <th></th>\n",
       "      <th></th>\n",
       "      <th></th>\n",
       "      <th></th>\n",
       "      <th></th>\n",
       "      <th></th>\n",
       "      <th></th>\n",
       "      <th></th>\n",
       "      <th></th>\n",
       "      <th></th>\n",
       "      <th></th>\n",
       "      <th></th>\n",
       "      <th></th>\n",
       "      <th></th>\n",
       "      <th></th>\n",
       "      <th></th>\n",
       "    </tr>\n",
       "  </thead>\n",
       "  <tbody>\n",
       "    <tr>\n",
       "      <th>-0.9500</th>\n",
       "      <td>CHI</td>\n",
       "      <td>CHI</td>\n",
       "      <td>0</td>\n",
       "      <td>0.0</td>\n",
       "      <td>0.0</td>\n",
       "      <td>0</td>\n",
       "      <td>CHI</td>\n",
       "      <td>DEF</td>\n",
       "      <td>['DEF']</td>\n",
       "      <td>0.0</td>\n",
       "      <td>...</td>\n",
       "      <td>0</td>\n",
       "      <td>20230909</td>\n",
       "      <td>452577139540094976</td>\n",
       "      <td>0</td>\n",
       "      <td>True</td>\n",
       "      <td>True</td>\n",
       "      <td>452577139540094976</td>\n",
       "      <td>2014champ</td>\n",
       "      <td>2014champ</td>\n",
       "      <td>0.0000</td>\n",
       "    </tr>\n",
       "    <tr>\n",
       "      <th>0.9850</th>\n",
       "      <td>KC</td>\n",
       "      <td>KC</td>\n",
       "      <td>0</td>\n",
       "      <td>0.0</td>\n",
       "      <td>0.0</td>\n",
       "      <td>0</td>\n",
       "      <td>KC</td>\n",
       "      <td>DEF</td>\n",
       "      <td>['DEF']</td>\n",
       "      <td>0.0</td>\n",
       "      <td>...</td>\n",
       "      <td>0</td>\n",
       "      <td>20230909</td>\n",
       "      <td>461323803130064896</td>\n",
       "      <td>0</td>\n",
       "      <td>True</td>\n",
       "      <td>True</td>\n",
       "      <td>461323803130064896</td>\n",
       "      <td>Idk much about soccer</td>\n",
       "      <td>cdulgar</td>\n",
       "      <td>1.9350</td>\n",
       "    </tr>\n",
       "    <tr>\n",
       "      <th>1.1278</th>\n",
       "      <td>IND</td>\n",
       "      <td>IND</td>\n",
       "      <td>0</td>\n",
       "      <td>0.0</td>\n",
       "      <td>0.0</td>\n",
       "      <td>0</td>\n",
       "      <td>IND</td>\n",
       "      <td>DEF</td>\n",
       "      <td>['DEF']</td>\n",
       "      <td>0.0</td>\n",
       "      <td>...</td>\n",
       "      <td>0</td>\n",
       "      <td>20230909</td>\n",
       "      <td>461323803130064896</td>\n",
       "      <td>0</td>\n",
       "      <td>True</td>\n",
       "      <td>True</td>\n",
       "      <td>461323803130064896</td>\n",
       "      <td>Idk much about soccer</td>\n",
       "      <td>cdulgar</td>\n",
       "      <td>2.0778</td>\n",
       "    </tr>\n",
       "    <tr>\n",
       "      <th>1.1836</th>\n",
       "      <td>HOU</td>\n",
       "      <td>HOU</td>\n",
       "      <td>0</td>\n",
       "      <td>0.0</td>\n",
       "      <td>0.0</td>\n",
       "      <td>0</td>\n",
       "      <td>HOU</td>\n",
       "      <td>DEF</td>\n",
       "      <td>['DEF']</td>\n",
       "      <td>0.0</td>\n",
       "      <td>...</td>\n",
       "      <td>0</td>\n",
       "      <td>20230909</td>\n",
       "      <td>208058775418961920</td>\n",
       "      <td>0</td>\n",
       "      <td>0</td>\n",
       "      <td>True</td>\n",
       "      <td>208058775418961920</td>\n",
       "      <td>📜 Providence 🪬 Spirits 🥂</td>\n",
       "      <td>ethrec</td>\n",
       "      <td>2.1336</td>\n",
       "    </tr>\n",
       "    <tr>\n",
       "      <th>1.2691</th>\n",
       "      <td>PIT</td>\n",
       "      <td>PIT</td>\n",
       "      <td>0</td>\n",
       "      <td>0.0</td>\n",
       "      <td>0.0</td>\n",
       "      <td>0</td>\n",
       "      <td>PIT</td>\n",
       "      <td>DEF</td>\n",
       "      <td>['DEF']</td>\n",
       "      <td>0.0</td>\n",
       "      <td>...</td>\n",
       "      <td>0</td>\n",
       "      <td>20230909</td>\n",
       "      <td>904381167934095360</td>\n",
       "      <td>0</td>\n",
       "      <td>True</td>\n",
       "      <td>True</td>\n",
       "      <td>904381167934095360</td>\n",
       "      <td>GusTheBus</td>\n",
       "      <td>mdwglobe</td>\n",
       "      <td>2.2191</td>\n",
       "    </tr>\n",
       "    <tr>\n",
       "      <th>...</th>\n",
       "      <td>...</td>\n",
       "      <td>...</td>\n",
       "      <td>...</td>\n",
       "      <td>...</td>\n",
       "      <td>...</td>\n",
       "      <td>...</td>\n",
       "      <td>...</td>\n",
       "      <td>...</td>\n",
       "      <td>...</td>\n",
       "      <td>...</td>\n",
       "      <td>...</td>\n",
       "      <td>...</td>\n",
       "      <td>...</td>\n",
       "      <td>...</td>\n",
       "      <td>...</td>\n",
       "      <td>...</td>\n",
       "      <td>...</td>\n",
       "      <td>...</td>\n",
       "      <td>...</td>\n",
       "      <td>...</td>\n",
       "      <td>...</td>\n",
       "    </tr>\n",
       "    <tr>\n",
       "      <th>19.5600</th>\n",
       "      <td>4034</td>\n",
       "      <td>Christian McCaffrey</td>\n",
       "      <td>1996-06-07</td>\n",
       "      <td>27.0</td>\n",
       "      <td>205.0</td>\n",
       "      <td>71</td>\n",
       "      <td>SF</td>\n",
       "      <td>RB</td>\n",
       "      <td>['RB']</td>\n",
       "      <td>1.0</td>\n",
       "      <td>...</td>\n",
       "      <td>0</td>\n",
       "      <td>20230909</td>\n",
       "      <td>412722740429082624</td>\n",
       "      <td>0</td>\n",
       "      <td>True</td>\n",
       "      <td>True</td>\n",
       "      <td>412722740429082624</td>\n",
       "      <td>DangeRUSS Last Ride</td>\n",
       "      <td>jccarm</td>\n",
       "      <td>14.8500</td>\n",
       "    </tr>\n",
       "    <tr>\n",
       "      <th>19.9800</th>\n",
       "      <td>4881</td>\n",
       "      <td>Lamar Jackson</td>\n",
       "      <td>1997-01-07</td>\n",
       "      <td>26.0</td>\n",
       "      <td>215.0</td>\n",
       "      <td>74</td>\n",
       "      <td>BAL</td>\n",
       "      <td>QB</td>\n",
       "      <td>['QB']</td>\n",
       "      <td>1.0</td>\n",
       "      <td>...</td>\n",
       "      <td>0</td>\n",
       "      <td>20230909</td>\n",
       "      <td>904381167934095360</td>\n",
       "      <td>0</td>\n",
       "      <td>True</td>\n",
       "      <td>True</td>\n",
       "      <td>904381167934095360</td>\n",
       "      <td>GusTheBus</td>\n",
       "      <td>mdwglobe</td>\n",
       "      <td>7.3400</td>\n",
       "    </tr>\n",
       "    <tr>\n",
       "      <th>23.0600</th>\n",
       "      <td>4984</td>\n",
       "      <td>Josh Allen</td>\n",
       "      <td>1996-05-21</td>\n",
       "      <td>27.0</td>\n",
       "      <td>237.0</td>\n",
       "      <td>77</td>\n",
       "      <td>BUF</td>\n",
       "      <td>QB</td>\n",
       "      <td>['QB']</td>\n",
       "      <td>1.0</td>\n",
       "      <td>...</td>\n",
       "      <td>0</td>\n",
       "      <td>20230909</td>\n",
       "      <td>904399374891855872</td>\n",
       "      <td>0</td>\n",
       "      <td>True</td>\n",
       "      <td>True</td>\n",
       "      <td>904399374891855872</td>\n",
       "      <td>Comeback 👑’s</td>\n",
       "      <td>comebackking15</td>\n",
       "      <td>10.4200</td>\n",
       "    </tr>\n",
       "    <tr>\n",
       "      <th>23.6300</th>\n",
       "      <td>4046</td>\n",
       "      <td>Patrick Mahomes</td>\n",
       "      <td>1995-09-17</td>\n",
       "      <td>27.0</td>\n",
       "      <td>225.0</td>\n",
       "      <td>74</td>\n",
       "      <td>KC</td>\n",
       "      <td>QB</td>\n",
       "      <td>['QB']</td>\n",
       "      <td>1.0</td>\n",
       "      <td>...</td>\n",
       "      <td>0</td>\n",
       "      <td>20230909</td>\n",
       "      <td>904398822170636288</td>\n",
       "      <td>0</td>\n",
       "      <td>True</td>\n",
       "      <td>True</td>\n",
       "      <td>904398822170636288</td>\n",
       "      <td>Saskatoon Squatches</td>\n",
       "      <td>SpacemnSpiff</td>\n",
       "      <td>10.9900</td>\n",
       "    </tr>\n",
       "    <tr>\n",
       "      <th>24.8400</th>\n",
       "      <td>6904</td>\n",
       "      <td>Jalen Hurts</td>\n",
       "      <td>1998-08-07</td>\n",
       "      <td>25.0</td>\n",
       "      <td>223.0</td>\n",
       "      <td>73</td>\n",
       "      <td>PHI</td>\n",
       "      <td>QB</td>\n",
       "      <td>['QB']</td>\n",
       "      <td>1.0</td>\n",
       "      <td>...</td>\n",
       "      <td>0</td>\n",
       "      <td>20230909</td>\n",
       "      <td>725907041763303424</td>\n",
       "      <td>0</td>\n",
       "      <td>True</td>\n",
       "      <td>True</td>\n",
       "      <td>725907041763303424</td>\n",
       "      <td>Croccity Body Snatchers</td>\n",
       "      <td>dirtywizard</td>\n",
       "      <td>12.2000</td>\n",
       "    </tr>\n",
       "  </tbody>\n",
       "</table>\n",
       "<p>175 rows × 64 columns</p>\n",
       "</div>"
      ],
      "text/plain": [
       "         player_id            full_name  birth_date   age  weight height team  \\\n",
       "pts_proj                                                                        \n",
       "-0.9500        CHI                  CHI           0   0.0     0.0      0  CHI   \n",
       " 0.9850         KC                   KC           0   0.0     0.0      0   KC   \n",
       " 1.1278        IND                  IND           0   0.0     0.0      0  IND   \n",
       " 1.1836        HOU                  HOU           0   0.0     0.0      0  HOU   \n",
       " 1.2691        PIT                  PIT           0   0.0     0.0      0  PIT   \n",
       "...            ...                  ...         ...   ...     ...    ...  ...   \n",
       " 19.5600      4034  Christian McCaffrey  1996-06-07  27.0   205.0     71   SF   \n",
       " 19.9800      4881        Lamar Jackson  1997-01-07  26.0   215.0     74  BAL   \n",
       " 23.0600      4984           Josh Allen  1996-05-21  27.0   237.0     77  BUF   \n",
       " 23.6300      4046      Patrick Mahomes  1995-09-17  27.0   225.0     74   KC   \n",
       " 24.8400      6904          Jalen Hurts  1998-08-07  25.0   223.0     73  PHI   \n",
       "\n",
       "         position fantasy_positions  depth_chart_order  ... KR  \\\n",
       "pts_proj                                                ...      \n",
       "-0.9500       DEF           ['DEF']                0.0  ...  0   \n",
       " 0.9850       DEF           ['DEF']                0.0  ...  0   \n",
       " 1.1278       DEF           ['DEF']                0.0  ...  0   \n",
       " 1.1836       DEF           ['DEF']                0.0  ...  0   \n",
       " 1.2691       DEF           ['DEF']                0.0  ...  0   \n",
       "...           ...               ...                ...  ... ..   \n",
       " 19.5600       RB            ['RB']                1.0  ...  0   \n",
       " 19.9800       QB            ['QB']                1.0  ...  0   \n",
       " 23.0600       QB            ['QB']                1.0  ...  0   \n",
       " 23.6300       QB            ['QB']                1.0  ...  0   \n",
       " 24.8400       QB            ['QB']                1.0  ...  0   \n",
       "\n",
       "         date_prediction            owner_id taxi  starters  players  \\\n",
       "pts_proj                                                               \n",
       "-0.9500         20230909  452577139540094976    0      True     True   \n",
       " 0.9850         20230909  461323803130064896    0      True     True   \n",
       " 1.1278         20230909  461323803130064896    0      True     True   \n",
       " 1.1836         20230909  208058775418961920    0         0     True   \n",
       " 1.2691         20230909  904381167934095360    0      True     True   \n",
       "...                  ...                 ...  ...       ...      ...   \n",
       " 19.5600        20230909  412722740429082624    0      True     True   \n",
       " 19.9800        20230909  904381167934095360    0      True     True   \n",
       " 23.0600        20230909  904399374891855872    0      True     True   \n",
       " 23.6300        20230909  904398822170636288    0      True     True   \n",
       " 24.8400        20230909  725907041763303424    0      True     True   \n",
       "\n",
       "                     user_id            franchise_name    display_name  \\\n",
       "pts_proj                                                                 \n",
       "-0.9500   452577139540094976                 2014champ       2014champ   \n",
       " 0.9850   461323803130064896    Idk much about soccer          cdulgar   \n",
       " 1.1278   461323803130064896    Idk much about soccer          cdulgar   \n",
       " 1.1836   208058775418961920  📜 Providence 🪬 Spirits 🥂          ethrec   \n",
       " 1.2691   904381167934095360                 GusTheBus        mdwglobe   \n",
       "...                      ...                       ...             ...   \n",
       " 19.5600  412722740429082624       DangeRUSS Last Ride          jccarm   \n",
       " 19.9800  904381167934095360                 GusTheBus        mdwglobe   \n",
       " 23.0600  904399374891855872              Comeback 👑’s  comebackking15   \n",
       " 23.6300  904398822170636288      Saskatoon Squatches     SpacemnSpiff   \n",
       " 24.8400  725907041763303424   Croccity Body Snatchers     dirtywizard   \n",
       "\n",
       "         rel_proj  \n",
       "pts_proj           \n",
       "-0.9500    0.0000  \n",
       " 0.9850    1.9350  \n",
       " 1.1278    2.0778  \n",
       " 1.1836    2.1336  \n",
       " 1.2691    2.2191  \n",
       "...           ...  \n",
       " 19.5600  14.8500  \n",
       " 19.9800   7.3400  \n",
       " 23.0600  10.4200  \n",
       " 23.6300  10.9900  \n",
       " 24.8400  12.2000  \n",
       "\n",
       "[175 rows x 64 columns]"
      ]
     },
     "execution_count": 15,
     "metadata": {},
     "output_type": "execute_result"
    }
   ],
   "source": [
    "optimized.groupby('pts_proj').sum()"
   ]
  },
  {
   "cell_type": "markdown",
   "metadata": {},
   "source": [
    "### Left Off Here:\n",
    "##### Build trade report\n",
    "##### Tailor scoring for user's unique league"
   ]
  },
  {
   "cell_type": "markdown",
   "metadata": {},
   "source": [
    "# Write to CSV"
   ]
  },
  {
   "cell_type": "code",
   "execution_count": 98,
   "metadata": {},
   "outputs": [],
   "source": [
    "# sums.to_csv(f'processed_{date_string}.csv', index=False)\n",
    "waivers.to_csv(f'waivers_{date_string}.csv', index=False)"
   ]
  },
  {
   "cell_type": "code",
   "execution_count": 97,
   "metadata": {},
   "outputs": [
    {
     "ename": "KeyError",
     "evalue": "'Column not found: rel_pts'",
     "output_type": "error",
     "traceback": [
      "\u001b[0;31m---------------------------------------------------------------------------\u001b[0m",
      "\u001b[0;31mKeyError\u001b[0m                                  Traceback (most recent call last)",
      "Cell \u001b[0;32mIn[97], line 2\u001b[0m\n\u001b[1;32m      1\u001b[0m \u001b[38;5;66;03m# Starter report\u001b[39;00m\n\u001b[0;32m----> 2\u001b[0m \u001b[43mfull\u001b[49m\u001b[38;5;241;43m.\u001b[39;49m\u001b[43mloc\u001b[49m\u001b[43m[\u001b[49m\u001b[43mfull\u001b[49m\u001b[43m[\u001b[49m\u001b[38;5;124;43m'\u001b[39;49m\u001b[38;5;124;43mstarters\u001b[39;49m\u001b[38;5;124;43m'\u001b[39;49m\u001b[43m]\u001b[49m\u001b[38;5;241;43m==\u001b[39;49m\u001b[38;5;28;43;01mTrue\u001b[39;49;00m\u001b[43m]\u001b[49m\u001b[38;5;241;43m.\u001b[39;49m\u001b[43mgroupby\u001b[49m\u001b[43m(\u001b[49m\u001b[38;5;124;43m'\u001b[39;49m\u001b[38;5;124;43mfranchise_name\u001b[39;49m\u001b[38;5;124;43m'\u001b[39;49m\u001b[43m)\u001b[49m\u001b[43m[\u001b[49m\u001b[38;5;124;43m'\u001b[39;49m\u001b[38;5;124;43mrel_pts\u001b[39;49m\u001b[38;5;124;43m'\u001b[39;49m\u001b[43m]\u001b[49m\u001b[38;5;241m.\u001b[39msum()\u001b[38;5;241m.\u001b[39msort_values()\n",
      "File \u001b[0;32m~/opt/anaconda3/envs/fnfl2023/lib/python3.11/site-packages/pandas/core/groupby/generic.py:1771\u001b[0m, in \u001b[0;36mDataFrameGroupBy.__getitem__\u001b[0;34m(self, key)\u001b[0m\n\u001b[1;32m   1764\u001b[0m \u001b[39mif\u001b[39;00m \u001b[39misinstance\u001b[39m(key, \u001b[39mtuple\u001b[39m) \u001b[39mand\u001b[39;00m \u001b[39mlen\u001b[39m(key) \u001b[39m>\u001b[39m \u001b[39m1\u001b[39m:\n\u001b[1;32m   1765\u001b[0m     \u001b[39m# if len == 1, then it becomes a SeriesGroupBy and this is actually\u001b[39;00m\n\u001b[1;32m   1766\u001b[0m     \u001b[39m# valid syntax, so don't raise\u001b[39;00m\n\u001b[1;32m   1767\u001b[0m     \u001b[39mraise\u001b[39;00m \u001b[39mValueError\u001b[39;00m(\n\u001b[1;32m   1768\u001b[0m         \u001b[39m\"\u001b[39m\u001b[39mCannot subset columns with a tuple with more than one element. \u001b[39m\u001b[39m\"\u001b[39m\n\u001b[1;32m   1769\u001b[0m         \u001b[39m\"\u001b[39m\u001b[39mUse a list instead.\u001b[39m\u001b[39m\"\u001b[39m\n\u001b[1;32m   1770\u001b[0m     )\n\u001b[0;32m-> 1771\u001b[0m \u001b[39mreturn\u001b[39;00m \u001b[39msuper\u001b[39;49m()\u001b[39m.\u001b[39;49m\u001b[39m__getitem__\u001b[39;49m(key)\n",
      "File \u001b[0;32m~/opt/anaconda3/envs/fnfl2023/lib/python3.11/site-packages/pandas/core/base.py:244\u001b[0m, in \u001b[0;36mSelectionMixin.__getitem__\u001b[0;34m(self, key)\u001b[0m\n\u001b[1;32m    242\u001b[0m \u001b[39melse\u001b[39;00m:\n\u001b[1;32m    243\u001b[0m     \u001b[39mif\u001b[39;00m key \u001b[39mnot\u001b[39;00m \u001b[39min\u001b[39;00m \u001b[39mself\u001b[39m\u001b[39m.\u001b[39mobj:\n\u001b[0;32m--> 244\u001b[0m         \u001b[39mraise\u001b[39;00m \u001b[39mKeyError\u001b[39;00m(\u001b[39mf\u001b[39m\u001b[39m\"\u001b[39m\u001b[39mColumn not found: \u001b[39m\u001b[39m{\u001b[39;00mkey\u001b[39m}\u001b[39;00m\u001b[39m\"\u001b[39m)\n\u001b[1;32m    245\u001b[0m     ndim \u001b[39m=\u001b[39m \u001b[39mself\u001b[39m\u001b[39m.\u001b[39mobj[key]\u001b[39m.\u001b[39mndim\n\u001b[1;32m    246\u001b[0m     \u001b[39mreturn\u001b[39;00m \u001b[39mself\u001b[39m\u001b[39m.\u001b[39m_gotitem(key, ndim\u001b[39m=\u001b[39mndim)\n",
      "\u001b[0;31mKeyError\u001b[0m: 'Column not found: rel_pts'"
     ]
    }
   ],
   "source": [
    "# Starter report\n",
    "full.loc[full['starters']==True].groupby('franchise_name')['rel_pts'].sum().sort_values()"
   ]
  },
  {
   "cell_type": "code",
   "execution_count": 96,
   "metadata": {},
   "outputs": [
    {
     "data": {
      "text/plain": [
       "franchise_name\n",
       "DangeRUSS Last Ride          160.0080\n",
       "Comeback 👑’s                1885.1302\n",
       "kevinbash                   1925.8060\n",
       "Idk much about soccer       2105.1885\n",
       "Count of Monte Christian    2163.8135\n",
       "2014champ                   2194.1737\n",
       "GusTheBus                   2283.6228\n",
       "📜 Providence 🪬 Spirits 🥂    2324.0345\n",
       "Verdanks Vacqueros FFC      2426.5528\n",
       "Pretty Big Wieners          2483.3059\n",
       "Saskatoon Squatches         2582.2908\n",
       "Croccity Body Snatchers     2733.0872\n",
       "Name: pts_proj, dtype: float64"
      ]
     },
     "execution_count": 96,
     "metadata": {},
     "output_type": "execute_result"
    }
   ],
   "source": [
    "full.loc[full['starters']==True].groupby('franchise_name')['pts_proj'].sum().sort_values()"
   ]
  },
  {
   "cell_type": "code",
   "execution_count": null,
   "metadata": {},
   "outputs": [],
   "source": []
  }
 ],
 "metadata": {
  "kernelspec": {
   "display_name": "Python 3.11.4 ('fnfl2023')",
   "language": "python",
   "name": "python3"
  },
  "language_info": {
   "codemirror_mode": {
    "name": "ipython",
    "version": 3
   },
   "file_extension": ".py",
   "mimetype": "text/x-python",
   "name": "python",
   "nbconvert_exporter": "python",
   "pygments_lexer": "ipython3",
   "version": "3.11.4"
  },
  "orig_nbformat": 4,
  "vscode": {
   "interpreter": {
    "hash": "9d5343d8487a7ad33f7c6df21cec71a8cada15334439bd483feb9f981d44372f"
   }
  }
 },
 "nbformat": 4,
 "nbformat_minor": 2
}
