{
 "cells": [
  {
   "cell_type": "markdown",
   "metadata": {},
   "source": [
    "# Config"
   ]
  },
  {
   "cell_type": "code",
   "execution_count": 1,
   "metadata": {},
   "outputs": [],
   "source": [
    "# Import dependencies\n",
    "import pandas as pd\n",
    "from datetime import datetime\n",
    "from sleeperpy import User, Leagues\n",
    "from ffpackage.viz import compareFranchises\n",
    "import plotly\n",
    "import plotly.express as px"
   ]
  },
  {
   "cell_type": "code",
   "execution_count": 2,
   "metadata": {},
   "outputs": [],
   "source": [
    "# Settings\n",
    "date_string = datetime.today().strftime('%Y%m%d')\n",
    "weekStart = 1\n",
    "weekEnd = 17\n",
    "def_starting_pts = 18\n",
    "pr_bonus = 1\n",
    "kr_bonus = 3\n",
    "username = 'dirtywizard'"
   ]
  },
  {
   "cell_type": "markdown",
   "metadata": {},
   "source": [
    "# Extract"
   ]
  },
  {
   "cell_type": "code",
   "execution_count": 3,
   "metadata": {},
   "outputs": [],
   "source": [
    "# Read database\n",
    "preds = pd.read_csv('db/records_preds.csv')\n",
    "preds = preds.loc[preds['date_prediction']==preds['date_prediction'].max()]\n",
    "preds = preds.loc[(preds['week']>=weekStart)&(preds['week']<=weekEnd)]\n",
    "mults = pd.read_csv('db/pts_multipliers.csv')\n",
    "rostLims = pd.read_csv('db/roster_limits.csv')"
   ]
  },
  {
   "cell_type": "code",
   "execution_count": 4,
   "metadata": {},
   "outputs": [],
   "source": [
    "def processRosters(league_id):\n",
    "    # Get rosters for all league members\n",
    "    rosters = pd.DataFrame(Leagues.get_rosters(league_id))\n",
    "    # Explode the player columns to find how they are placed on the roster\n",
    "    result = pd.DataFrame(columns=['owner_id', 'player_id'])\n",
    "    for col in ['taxi', 'starters', 'players']:\n",
    "        df = rosters[['owner_id', col]].explode(col)\n",
    "        df = df.rename(columns={col:'player_id'})\n",
    "        df[col] = True\n",
    "        result = result.merge(df, how='outer', on=['owner_id', 'player_id'])\n",
    "    return result"
   ]
  },
  {
   "cell_type": "code",
   "execution_count": 5,
   "metadata": {},
   "outputs": [],
   "source": [
    "def procesOwners(league_id):\n",
    "    owners = pd.DataFrame(Leagues.get_users(league_id))\n",
    "    list = []\n",
    "    for i in range(len(owners)):\n",
    "        if 'team_name' in owners['metadata'][i]:\n",
    "            list.append(owners['metadata'][i]['team_name'])\n",
    "        else:\n",
    "            list.append(owners['display_name'][i])\n",
    "    owners['franchise_name'] = list\n",
    "    owners = owners[['user_id', 'franchise_name', 'display_name']]\n",
    "    return owners"
   ]
  },
  {
   "cell_type": "code",
   "execution_count": 51,
   "metadata": {},
   "outputs": [],
   "source": [
    "# Get User's Sleeper ID\n",
    "user_id = User.get_user(username)['user_id']\n",
    "# Get the User's Sleeper league ID\n",
    "league_id = Leagues.get_all_leagues(user_id, 'nfl', 2023)[0]['league_id']\n",
    "# Get all players on rosters\n",
    "rosters = processRosters(league_id)\n",
    "# Get info on all owners\n",
    "owners = procesOwners(league_id)\n",
    "# Get league info\n",
    "user_league = Leagues.get_league(league_id)\n",
    "\n",
    "# Get roster positions \n",
    "rosterList = user_league['roster_positions']\n",
    "# Sort rosterList\n",
    "sort_order = ['QB', 'RB', 'WR', 'TE', 'K', 'DEF', 'FLEX', 'SUPER_FLEX', 'BN']\n",
    "rosterList.sort(key=sort_order.index)\n",
    "\n",
    "# Get number of franchises\n",
    "number_of_franchises = user_league['total_rosters']"
   ]
  },
  {
   "cell_type": "markdown",
   "metadata": {},
   "source": [
    "# Transform"
   ]
  },
  {
   "cell_type": "code",
   "execution_count": 7,
   "metadata": {},
   "outputs": [],
   "source": [
    "# Customize predictions for league\n",
    "# Calculate projected points according to that league's scoring settings\n",
    "# Multiply by points multiplier\n",
    "for col in mults.columns[1:]:\n",
    "    preds[col] = preds[col] * mults.loc[mults['username']==username, col][0]\n",
    "# Add up point columns\n",
    "preds['pts_proj'] = preds[mults.columns[1:]].sum(axis=1)\n",
    "# Add extras for defense starting values\n",
    "preds.loc[preds['Yds Allowed'].notna(), 'pts_proj'] = preds.loc[preds['Yds Allowed'].notna(), 'pts_proj'] + def_starting_pts\n",
    "# Add extras for Punt/kick returners\n",
    "preds.loc[preds['PR']==True, 'pts_proj'] = preds.loc[preds['PR']==True, 'pts_proj'] + (pr_bonus)\n",
    "preds.loc[preds['KR']==True, 'pts_proj'] = preds.loc[preds['KR']==True, 'pts_proj'] + (kr_bonus)\n",
    "\n",
    "# Merge in point projections with franchise data\n",
    "full = preds \\\n",
    "    .merge(rosters, how='left', on='player_id') \\\n",
    "    .merge(owners, how='left', left_on='owner_id', right_on='user_id')"
   ]
  },
  {
   "cell_type": "code",
   "execution_count": 8,
   "metadata": {},
   "outputs": [],
   "source": [
    "# def getRelProjs(df):\n",
    "#     # Calculate relative points for each position in each week\n",
    "#     df['pts_proj'] = df['pts_proj'].fillna(0)\n",
    "#     df = df.sort_values(by='pts_proj', ascending=False, ignore_index=True)\n",
    "#     # Loop through weeks and positions\n",
    "#     for week in df['week'].unique():\n",
    "#         for pos in rostLims.columns[1:]:\n",
    "#             # Find floor\n",
    "#             cond1 = df['position']==pos\n",
    "#             cond2 = df['week']==week\n",
    "#             floor = df.loc[cond1&cond2, 'pts_proj'].reset_index(drop=True)[rostLims.loc[rostLims['username']==username, pos][0]]\n",
    "#             # Find each player's points over floor\n",
    "#             df.loc[cond1&cond2, 'rel_proj'] = df.loc[cond1&cond2, 'pts_proj'] - floor\n",
    "#     return df"
   ]
  },
  {
   "cell_type": "code",
   "execution_count": 9,
   "metadata": {},
   "outputs": [],
   "source": [
    "def getRelProjs(df):\n",
    "    # Calculate relative points for each position in each week\n",
    "    df['pts_proj'] = df['pts_proj'].fillna(0)\n",
    "    df = df.sort_values(by='pts_proj', ascending=False, ignore_index=True)\n",
    "    # Loop through weeks and positions\n",
    "    for week in df['week'].unique():\n",
    "        for pos in df['position'].unique():\n",
    "            # Find floor\n",
    "            cond_pos = df['position']==pos\n",
    "            cond_week = df['week']==week\n",
    "            floor = df.loc[cond_pos&cond_week, 'pts_proj'].min()\n",
    "            # Find each player's points over floor\n",
    "            df.loc[cond_pos&cond_week, 'rel_proj'] = df.loc[cond_pos&cond_week, 'pts_proj'] - floor\n",
    "    return df"
   ]
  },
  {
   "cell_type": "code",
   "execution_count": 10,
   "metadata": {},
   "outputs": [],
   "source": [
    "def getSeasonTotals(df):\n",
    "    # Sum up pts_proj and rel_proj\n",
    "    totals_proj = df.groupby('player_id')['pts_proj'].sum().reset_index()\n",
    "    totals_rel = df.groupby('player_id')['rel_proj'].sum().reset_index()\n",
    "    # Merge in totals with player metadata\n",
    "    unis = df.drop_duplicates(subset='player_id', ignore_index=True).drop(columns=['pts_proj', 'rel_proj'])\n",
    "    df = unis.merge(totals_proj, how='left', on='player_id').merge(totals_rel, how='left', on='player_id')\n",
    "    return df"
   ]
  },
  {
   "cell_type": "code",
   "execution_count": 11,
   "metadata": {},
   "outputs": [],
   "source": [
    "def tidyUp(df):\n",
    "    # Tidy\n",
    "    df = df[[\n",
    "        'week', 'player_id', 'pts_proj', 'rel_proj', 'franchise_name', 'full_name', 'age', 'years_exp', 'weight',\n",
    "        'height', 'team', 'position', 'taxi', 'starters', 'players', 'fantasy_positions', 'depth_chart_order',\n",
    "        'depth_chart_position', 'status', 'injury_status', 'injury_notes',\n",
    "        'injury_start_date', 'practice_participation', 'practice_description','active'\n",
    "    ]]\n",
    "    return df"
   ]
  },
  {
   "cell_type": "code",
   "execution_count": 53,
   "metadata": {},
   "outputs": [],
   "source": [
    "def findFloors(df, rosterList, number_of_franchises):\n",
    "    # Find floors for each position to calculate relative projections\n",
    "    # Roster Dictionary\n",
    "    rosterDict = {\n",
    "        'QB':['QB'], \n",
    "        'RB':['RB'],\n",
    "        'WR':['WR'],\n",
    "        'TE':['TE'],\n",
    "        'K':['PK'],\n",
    "        'DEF':['DEF'],\n",
    "        'FLEX':['RB', 'WR', 'TE'],\n",
    "        'SUPER_FLEX':['QB', 'RB', 'WR', 'TE'],\n",
    "    }\n",
    "    # Sort\n",
    "    sorted = df.sort_values(by='pts_proj', ignore_index=True, ascending=False)\n",
    "    # Start selecting the most valuable players in terms of total points for each position\n",
    "    result = []\n",
    "    for pos in rosterList:\n",
    "        # Ignore bench spots\n",
    "        if pos != \"BN\":\n",
    "            # Filter for each position and make sure the player is not already taken\n",
    "            cond_pos = sorted['position'].isin(rosterDict[pos])\n",
    "            cond_nottaken = ~sorted['player_id'].isin(result)\n",
    "            player_filtered = sorted.loc[cond_pos & cond_nottaken]\n",
    "            # Find highest scoring player that fits\n",
    "            if len(player_filtered)>0:\n",
    "                players = player_filtered.head(number_of_franchises)['player_id']\n",
    "                result.append(players)\n",
    "    floors = df.loc[df['player_id'].isin(result)]\n",
    "    floor_qb = floors.loc[floors['position']=='QB']['pts_proj'].min()\n",
    "    floor_rb = floors.loc[floors['position']=='RB']['pts_proj'].min()\n",
    "    floor_wr = floors.loc[floors['position']=='WR']['pts_proj'].min()\n",
    "    floor_te = floors.loc[floors['position']=='TE']['pts_proj'].min()\n",
    "    floor_pk = floors.loc[floors['position']=='PK']['pts_proj'].min()\n",
    "    floor_def = floors.loc[floors['position']=='DEF']['pts_proj'].min()\n",
    "    return floor_qb, floor_rb, floor_wr, floor_te, floor_pk, floor_def"
   ]
  },
  {
   "cell_type": "code",
   "execution_count": 12,
   "metadata": {},
   "outputs": [],
   "source": [
    "def rosterOptimizer(df):\n",
    "    # choose a roster for each franchise based on their league's number of available slots\n",
    "    optimized = pd.DataFrame()\n",
    "    # Roster Dictionary\n",
    "    rosterDict = {\n",
    "        'QB':['QB'], \n",
    "        'RB':['RB'],\n",
    "        'WR':['WR'],\n",
    "        'TE':['TE'],\n",
    "        'K':['PK'],\n",
    "        'DEF':['DEF'],\n",
    "        'FLEX':['RB', 'WR', 'TE'],\n",
    "        'SUPER_FLEX':['QB', 'RB', 'WR', 'TE'],\n",
    "    }\n",
    "    # Sort\n",
    "    cond_taxi = df['taxi'].isna()\n",
    "    sorted = df.loc[cond_taxi].sort_values(by='pts_proj', ignore_index=True, ascending=False)\n",
    "    # Loop through weeks and franchises\n",
    "    for this_user in df['user_id'].unique():\n",
    "        for week_to_optimize in df['week'].unique():\n",
    "            # Filter predictions for only that week and on a roster\n",
    "            cond_franch = sorted['user_id']==this_user\n",
    "            cond_week = sorted['week']==week_to_optimize\n",
    "            week_filtered = sorted.loc[cond_franch & cond_week]\n",
    "            # Start selecting the most valuable players in terms of total points for each position\n",
    "            result = []\n",
    "            for pos in rosterList:\n",
    "                # Ignore bench spots\n",
    "                if pos != \"BN\":\n",
    "                    # Filter for each position and make sure the player is not already taken\n",
    "                    cond_pos = week_filtered['position'].isin(rosterDict[pos])\n",
    "                    cond_nottaken = ~week_filtered['player_id'].isin(result)\n",
    "                    player_filtered = week_filtered.loc[cond_pos & cond_nottaken]\n",
    "                    # Find highest scoring player that fits\n",
    "                    if len(player_filtered)>0:\n",
    "                        player = player_filtered.reset_index(drop=True)['player_id'][0]\n",
    "                        result.append(player)\n",
    "            # Append results\n",
    "            next = week_filtered.loc[week_filtered['player_id'].isin(result)]\n",
    "            optimized = pd.concat([optimized, next], axis=0, ignore_index=True)\n",
    "    return optimized"
   ]
  },
  {
   "cell_type": "markdown",
   "metadata": {},
   "source": [
    "# Waiver Report"
   ]
  },
  {
   "cell_type": "code",
   "execution_count": 13,
   "metadata": {},
   "outputs": [],
   "source": [
    "# Waiver report\n",
    "waivers = full.copy()\n",
    "# Calculate relative points for each position in each week\n",
    "waivers = getRelProjs(waivers)\n",
    "# Sum points across the season\n",
    "waivers = getSeasonTotals(waivers)\n",
    "# Filter for only players on user's roster or unclaimed and who would improve user's points\n",
    "minpts = waivers.loc[(waivers['display_name']==username)&(waivers['taxi'].isna())]['pts_proj'].min()\n",
    "cond_user = waivers['display_name']==username\n",
    "cond_fa = waivers['display_name'].isna()\n",
    "cond_minpts = waivers['pts_proj']>=minpts\n",
    "waivers = waivers.loc[(cond_user|cond_fa)&cond_minpts].reset_index(drop=True)\n",
    "# Tidy\n",
    "waivers = tidyUp(waivers)"
   ]
  },
  {
   "cell_type": "markdown",
   "metadata": {},
   "source": [
    "# Visualize Total Points"
   ]
  },
  {
   "cell_type": "code",
   "execution_count": 14,
   "metadata": {},
   "outputs": [
    {
     "data": {
      "application/vnd.plotly.v1+json": {
       "config": {
        "plotlyServerURL": "https://plot.ly"
       },
       "data": [
        {
         "alignmentgroup": "True",
         "customdata": [
          [
           385.69,
           "Josh Allen",
           "QB"
          ],
          [
           379.77,
           "Patrick Mahomes",
           "QB"
          ],
          [
           372.32000000000005,
           "Jalen Hurts",
           "QB"
          ],
          [
           294.97,
           "Joe Burrow",
           "QB"
          ],
          [
           275.97999999999996,
           "Kirk Cousins",
           "QB"
          ],
          [
           297.49,
           "Justin Herbert",
           "QB"
          ],
          [
           270.22,
           "Lamar Jackson",
           "QB"
          ],
          [
           278.48,
           "Geno Smith",
           "QB"
          ],
          [
           269.63,
           "Dak Prescott",
           "QB"
          ],
          [
           281.3,
           "Justin Fields",
           "QB"
          ],
          [
           257.63,
           "Tua Tagovailoa",
           "QB"
          ],
          [
           239.33,
           "Jared Goff",
           "QB"
          ],
          [
           250.98000000000002,
           "Jimmy Garoppolo",
           "QB"
          ],
          [
           237.18,
           "Trevor Lawrence",
           "QB"
          ],
          [
           223.58,
           "Ryan Tannehill",
           "QB"
          ],
          [
           216.32000000000002,
           "Baker Mayfield",
           "QB"
          ],
          [
           229.02,
           "Matthew Stafford",
           "QB"
          ],
          [
           236.99000000000004,
           "Derek Carr",
           "QB"
          ],
          [
           231.17000000000002,
           "Jordan Love",
           "QB"
          ],
          [
           240.94,
           "Brock Purdy",
           "QB"
          ],
          [
           225.78,
           "Deshaun Watson",
           "QB"
          ],
          [
           243.85000000000002,
           "Daniel Jones",
           "QB"
          ],
          [
           224.09,
           "Sam Howell",
           "QB"
          ],
          [
           213.64,
           "Aaron Rodgers",
           "QB"
          ],
          [
           215.74,
           "Mac Jones",
           "QB"
          ],
          [
           216.81000000000003,
           "Russell Wilson",
           "QB"
          ],
          [
           196.47,
           "Anthony Richardson",
           "QB"
          ],
          [
           207.87,
           "Desmond Ridder",
           "QB"
          ],
          [
           203.82,
           "Bryce Young",
           "QB"
          ],
          [
           199.6,
           "Kenny Pickett",
           "QB"
          ],
          [
           183.62,
           "C.J. Stroud",
           "QB"
          ],
          [
           122.1,
           "Kyler Murray",
           "QB"
          ],
          [
           14.42,
           "Joshua Dobbs",
           "QB"
          ],
          [
           90.46,
           "Tyler Huntley",
           "QB"
          ],
          [
           82.24000000000001,
           "Davis Mills",
           "QB"
          ],
          [
           64.10000000000001,
           "Mitch Trubisky",
           "QB"
          ],
          [
           68.005,
           "Trey Lance",
           "QB"
          ],
          [
           54.64,
           "Andy Dalton",
           "QB"
          ],
          [
           47.21,
           "Teddy Bridgewater",
           "QB"
          ],
          [
           47.14,
           "Zach Wilson",
           "QB"
          ],
          [
           50.49,
           "Marcus Mariota",
           "QB"
          ],
          [
           41.77,
           "Jameis Winston",
           "QB"
          ],
          [
           37.15,
           "Taylor Heinicke",
           "QB"
          ],
          [
           26.79,
           "Mike White",
           "QB"
          ],
          [
           27.71,
           "Tyrod Taylor",
           "QB"
          ],
          [
           22.740000000000002,
           "Nick Mullens",
           "QB"
          ],
          [
           17.830000000000002,
           "Cooper Rush",
           "QB"
          ],
          [
           17.01,
           "Jacoby Brissett",
           "QB"
          ],
          [
           15.96,
           "Sam Darnold",
           "QB"
          ],
          [
           7.58,
           "Sean Clifford",
           "QB"
          ],
          [
           5.965000000000001,
           "Kyle Allen",
           "QB"
          ],
          [
           5.970000000000001,
           "Sam Ehlinger",
           "QB"
          ],
          [
           5.3,
           "Jarrett Stidham",
           "QB"
          ],
          [
           3.1490000000000005,
           "Easton Stick",
           "QB"
          ],
          [
           4.07,
           "Brian Hoyer",
           "QB"
          ],
          [
           4.41,
           "Malik Willis",
           "QB"
          ],
          [
           2.41,
           "Stetson Bennett",
           "QB"
          ],
          [
           2.942,
           "Kyle Trask",
           "QB"
          ],
          [
           2.83,
           "Gardner Minshew",
           "QB"
          ],
          [
           3.1140000000000003,
           "Blaine Gabbert",
           "QB"
          ],
          [
           0.99,
           "Dorian Thompson-Robinson",
           "QB"
          ],
          [
           1.649,
           "Drew Lock",
           "QB"
          ],
          [
           1.662,
           "Mason Rudolph",
           "QB"
          ],
          [
           -1.6600000000000006,
           "C.J. Beathard",
           "QB"
          ],
          [
           0.08200000000000005,
           "Jake Browning",
           "QB"
          ],
          [
           0.04700000000000001,
           "Brandon Allen",
           "QB"
          ],
          [
           0.002,
           "Case Keenum",
           "QB"
          ],
          [
           0,
           "Logan Woodside",
           "QB"
          ]
         ],
         "hovertemplate": "<b>%{hovertext}</b><br><br>Relative Value=%{y}<br>Predicted Points=%{customdata[0]}<extra></extra>",
         "hovertext": [
          "Josh Allen",
          "Patrick Mahomes",
          "Jalen Hurts",
          "Joe Burrow",
          "Kirk Cousins",
          "Justin Herbert",
          "Lamar Jackson",
          "Geno Smith",
          "Dak Prescott",
          "Justin Fields",
          "Tua Tagovailoa",
          "Jared Goff",
          "Jimmy Garoppolo",
          "Trevor Lawrence",
          "Ryan Tannehill",
          "Baker Mayfield",
          "Matthew Stafford",
          "Derek Carr",
          "Jordan Love",
          "Brock Purdy",
          "Deshaun Watson",
          "Daniel Jones",
          "Sam Howell",
          "Aaron Rodgers",
          "Mac Jones",
          "Russell Wilson",
          "Anthony Richardson",
          "Desmond Ridder",
          "Bryce Young",
          "Kenny Pickett",
          "C.J. Stroud",
          "Kyler Murray",
          "Joshua Dobbs",
          "Tyler Huntley",
          "Davis Mills",
          "Mitch Trubisky",
          "Trey Lance",
          "Andy Dalton",
          "Teddy Bridgewater",
          "Zach Wilson",
          "Marcus Mariota",
          "Jameis Winston",
          "Taylor Heinicke",
          "Mike White",
          "Tyrod Taylor",
          "Nick Mullens",
          "Cooper Rush",
          "Jacoby Brissett",
          "Sam Darnold",
          "Sean Clifford",
          "Kyle Allen",
          "Sam Ehlinger",
          "Jarrett Stidham",
          "Easton Stick",
          "Brian Hoyer",
          "Malik Willis",
          "Stetson Bennett",
          "Kyle Trask",
          "Gardner Minshew",
          "Blaine Gabbert",
          "Dorian Thompson-Robinson",
          "Drew Lock",
          "Mason Rudolph",
          "C.J. Beathard",
          "Jake Browning",
          "Brandon Allen",
          "Case Keenum",
          "Logan Woodside"
         ],
         "legendgroup": "QB",
         "marker": {
          "color": "#591D73",
          "pattern": {
           "shape": ""
          }
         },
         "name": "QB",
         "offsetgroup": "QB",
         "orientation": "v",
         "showlegend": true,
         "text": [
          "Josh Allen",
          "Patrick Mahomes",
          "Jalen Hurts",
          "Joe Burrow",
          "Kirk Cousins",
          "Justin Herbert",
          "Lamar Jackson",
          "Geno Smith",
          "Dak Prescott",
          "Justin Fields",
          "Tua Tagovailoa",
          "Jared Goff",
          "Jimmy Garoppolo",
          "Trevor Lawrence",
          "Ryan Tannehill",
          "Baker Mayfield",
          "Matthew Stafford",
          "Derek Carr",
          "Jordan Love",
          "Brock Purdy",
          "Deshaun Watson",
          "Daniel Jones",
          "Sam Howell",
          "Aaron Rodgers",
          "Mac Jones",
          "Russell Wilson",
          "Anthony Richardson",
          "Desmond Ridder",
          "Bryce Young",
          "Kenny Pickett",
          "C.J. Stroud",
          "Kyler Murray",
          "Joshua Dobbs",
          "Tyler Huntley",
          "Davis Mills",
          "Mitch Trubisky",
          "Trey Lance",
          "Andy Dalton",
          "Teddy Bridgewater",
          "Zach Wilson",
          "Marcus Mariota",
          "Jameis Winston",
          "Taylor Heinicke",
          "Mike White",
          "Tyrod Taylor",
          "Nick Mullens",
          "Cooper Rush",
          "Jacoby Brissett",
          "Sam Darnold",
          "Sean Clifford",
          "Kyle Allen",
          "Sam Ehlinger",
          "Jarrett Stidham",
          "Easton Stick",
          "Brian Hoyer",
          "Malik Willis",
          "Stetson Bennett",
          "Kyle Trask",
          "Gardner Minshew",
          "Blaine Gabbert",
          "Dorian Thompson-Robinson",
          "Drew Lock",
          "Mason Rudolph",
          "C.J. Beathard",
          "Jake Browning",
          "Brandon Allen",
          "Case Keenum",
          "Logan Woodside"
         ],
         "textposition": "inside",
         "type": "bar",
         "x": [
          "Comeback 👑’s",
          "Saskatoon Squatches ",
          "Croccity Body Snatchers",
          "Verdanks Vacqueros FFC",
          "2014champ",
          "kevinbash",
          "GusTheBus",
          "DangeRUSS Last Ride",
          "📜 Providence 🪬 Spirits 🥂",
          "Idk much about soccer ",
          "Verdanks Vacqueros FFC",
          "Verdanks Vacqueros FFC",
          "Idk much about soccer ",
          "2014champ",
          "kevinbash",
          "Count of Monte Christian",
          "Comeback 👑’s",
          "Count of Monte Christian",
          "📜 Providence 🪬 Spirits 🥂",
          "Croccity Body Snatchers",
          "Pretty Big Wieners",
          "Comeback 👑’s",
          "kevinbash",
          "Pretty Big Wieners",
          "Pretty Big Wieners",
          "DangeRUSS Last Ride",
          "kevinbash",
          "GusTheBus",
          "Idk much about soccer ",
          "GusTheBus",
          "Pretty Big Wieners",
          "Croccity Body Snatchers",
          "DangeRUSS Last Ride",
          null,
          null,
          null,
          "DangeRUSS Last Ride",
          null,
          null,
          "📜 Providence 🪬 Spirits 🥂",
          null,
          null,
          null,
          "2014champ",
          null,
          null,
          null,
          null,
          "Count of Monte Christian",
          null,
          null,
          null,
          null,
          null,
          null,
          null,
          "Count of Monte Christian",
          null,
          null,
          null,
          "DangeRUSS Last Ride",
          null,
          null,
          null,
          null,
          null,
          null,
          null
         ],
         "xaxis": "x",
         "y": [
          387.481,
          381.56399999999996,
          374.11400000000003,
          296.758,
          277.77099999999996,
          299.28000000000003,
          272.011,
          280.27000000000004,
          271.418,
          283.091,
          259.424,
          241.296,
          252.77100000000002,
          239.14600000000002,
          225.36800000000002,
          218.11,
          230.81400000000002,
          238.78100000000003,
          233.13600000000002,
          242.906,
          227.57000000000002,
          245.64100000000002,
          225.846,
          215.428,
          217.531,
          218.776,
          198.26100000000002,
          209.661,
          205.608,
          201.566,
          185.40800000000002,
          123.328,
          16.176,
          92.251,
          84.028,
          66.066,
          69.793,
          56.428000000000004,
          49.176,
          48.928000000000004,
          52.284000000000006,
          43.561,
          38.940999999999995,
          28.584000000000003,
          29.501000000000005,
          24.531000000000002,
          19.618000000000002,
          18.766000000000002,
          17.926000000000002,
          9.546,
          7.756000000000001,
          7.761000000000001,
          7.266000000000001,
          4.939000000000001,
          5.861000000000001,
          6.198,
          4.204000000000001,
          4.732,
          4.621,
          4.908,
          2.7800000000000002,
          3.439,
          3.628,
          0.3059999999999998,
          1.8700000000000006,
          2.0130000000000003,
          1.7900000000000005,
          1.7910000000000004
         ],
         "yaxis": "y"
        },
        {
         "alignmentgroup": "True",
         "customdata": [
          [
           280.475,
           "Austin Ekeler",
           "RB"
          ],
          [
           274.295,
           "Derrick Henry",
           "RB"
          ],
          [
           262.175,
           "Christian McCaffrey",
           "RB"
          ],
          [
           249.05,
           "Josh Jacobs",
           "RB"
          ],
          [
           250.115,
           "Nick Chubb",
           "RB"
          ],
          [
           237.035,
           "James Conner",
           "RB"
          ],
          [
           231.825,
           "Joe Mixon",
           "RB"
          ],
          [
           222.26500000000001,
           "Kenneth Walker",
           "RB"
          ],
          [
           208.57999999999998,
           "Miles Sanders",
           "RB"
          ],
          [
           225.32000000000002,
           "Najee Harris",
           "RB"
          ],
          [
           223.63,
           "Antonio Gibson",
           "RB"
          ],
          [
           221.375,
           "Tony Pollard",
           "RB"
          ],
          [
           213.29000000000002,
           "Rhamondre Stevenson",
           "RB"
          ],
          [
           207.22500000000002,
           "Isiah Pacheco",
           "RB"
          ],
          [
           163.955,
           "Bijan Robinson",
           "RB"
          ],
          [
           177.24,
           "Travis Etienne",
           "RB"
          ],
          [
           177.10500000000002,
           "J.K. Dobbins",
           "RB"
          ],
          [
           203.985,
           "Khalil Herbert",
           "RB"
          ],
          [
           205.255,
           "Saquon Barkley",
           "RB"
          ],
          [
           200.275,
           "David Montgomery",
           "RB"
          ],
          [
           194.245,
           "Aaron Jones",
           "RB"
          ],
          [
           192.925,
           "Dameon Pierce",
           "RB"
          ],
          [
           185.35500000000002,
           "Brian Robinson",
           "RB"
          ],
          [
           173.16000000000003,
           "Rachaad White",
           "RB"
          ],
          [
           180.875,
           "Alexander Mattison",
           "RB"
          ],
          [
           177.555,
           "Javonte Williams",
           "RB"
          ],
          [
           176.58,
           "D'Andre Swift",
           "RB"
          ],
          [
           186.39000000000001,
           "Raheem Mostert",
           "RB"
          ],
          [
           168.20000000000002,
           "Cam Akers",
           "RB"
          ],
          [
           180.725,
           "Cordarrelle Patterson",
           "RB"
          ],
          [
           191.94500000000002,
           "Zamir White",
           "RB"
          ],
          [
           166.08,
           "AJ Dillon",
           "RB"
          ],
          [
           171.85500000000002,
           "Breece Hall",
           "RB"
          ],
          [
           156.11,
           "Jamaal Williams",
           "RB"
          ],
          [
           170.39000000000001,
           "Ezekiel Elliott",
           "RB"
          ],
          [
           163.2,
           "James Cook",
           "RB"
          ],
          [
           141.4,
           "Jerick McKinnon",
           "RB"
          ],
          [
           143.735,
           "Tyler Allgeier",
           "RB"
          ],
          [
           148.32,
           "Rico Dowdle",
           "RB"
          ],
          [
           149.865,
           "Dalvin Cook",
           "RB"
          ],
          [
           83.04,
           "Zack Moss",
           "RB"
          ],
          [
           140.34,
           "Kenneth Gainwell",
           "RB"
          ],
          [
           115.665,
           "Jahmyr Gibbs",
           "RB"
          ],
          [
           147.4,
           "DeeJay Dallas",
           "RB"
          ],
          [
           135.88500000000002,
           "D'Onta Foreman",
           "RB"
          ],
          [
           147.905,
           "Zach Charbonnet",
           "RB"
          ],
          [
           142.54,
           "Tyjae Spears",
           "RB"
          ],
          [
           131.885,
           "Chuba Hubbard",
           "RB"
          ],
          [
           140.215,
           "Boston Scott",
           "RB"
          ],
          [
           135.63,
           "Jerome Ford",
           "RB"
          ],
          [
           141.225,
           "Raheem Blackshear",
           "RB"
          ],
          [
           128.86,
           "Elijah Mitchell",
           "RB"
          ],
          [
           130.715,
           "Damien Harris",
           "RB"
          ],
          [
           103.295,
           "Chase Edmonds",
           "RB"
          ],
          [
           110.51,
           "Ty Chandler",
           "RB"
          ],
          [
           105.28500000000001,
           "Devin Singletary",
           "RB"
          ],
          [
           90.78500000000001,
           "Latavius Murray",
           "RB"
          ],
          [
           91.415,
           "Tank Bigsby",
           "RB"
          ],
          [
           88.21000000000001,
           "Samaje Perine",
           "RB"
          ],
          [
           95.265,
           "Kyren Williams",
           "RB"
          ],
          [
           88.05000000000001,
           "Michael Carter",
           "RB"
          ],
          [
           78.54,
           "Clyde Edwards-Helaire",
           "RB"
          ],
          [
           88.19,
           "Chris Evans",
           "RB"
          ],
          [
           77.46000000000001,
           "Gus Edwards",
           "RB"
          ],
          [
           69.845,
           "Ameer Abdullah",
           "RB"
          ],
          [
           79.96,
           "Anthony McFarland",
           "RB"
          ],
          [
           70.595,
           "Trayveon Williams",
           "RB"
          ],
          [
           71.81,
           "Jaylen Warren",
           "RB"
          ],
          [
           66.705,
           "Joshua Kelley",
           "RB"
          ],
          [
           76.053,
           "Eric Gray",
           "RB"
          ],
          [
           44.485,
           "Deon Jackson",
           "RB"
          ],
          [
           58.455000000000005,
           "Pierre Strong",
           "RB"
          ],
          [
           55.775000000000006,
           "JaMycal Hasty",
           "RB"
          ],
          [
           58.825,
           "Matt Breida",
           "RB"
          ],
          [
           58.31,
           "Julius Chestnut",
           "RB"
          ],
          [
           52.75,
           "Justice Hill",
           "RB"
          ],
          [
           51.38,
           "Dare Ogunbowale",
           "RB"
          ],
          [
           51.02,
           "Gary Brightwell",
           "RB"
          ],
          [
           48.12500000000001,
           "Keaontay Ingram",
           "RB"
          ],
          [
           54.935,
           "Mike Boone",
           "RB"
          ],
          [
           44.23500000000001,
           "Ke'Shawn Vaughn",
           "RB"
          ],
          [
           44.045,
           "Jordan Mason",
           "RB"
          ],
          [
           41.485,
           "Rashaad Penny",
           "RB"
          ],
          [
           42.355000000000004,
           "Brandon Johnson",
           "RB"
          ],
          [
           39.790000000000006,
           "Reggie Gilliam",
           "RB"
          ],
          [
           37.540000000000006,
           "Ty Montgomery",
           "RB"
          ],
          [
           36.585,
           "Roschon Johnson",
           "RB"
          ],
          [
           35.175000000000004,
           "Chase Brown",
           "RB"
          ],
          [
           31.634999999999998,
           "Chris Rodriguez",
           "RB"
          ],
          [
           32.22,
           "Brandon Bolden",
           "RB"
          ],
          [
           21.845,
           "Kendre Miller",
           "RB"
          ],
          [
           31.885,
           "Salvon Ahmed",
           "RB"
          ],
          [
           25.570000000000004,
           "Deuce Vaughn",
           "RB"
          ],
          [
           25.860000000000003,
           "Travis Homer",
           "RB"
          ],
          [
           19.675,
           "Isaiah Spiller",
           "RB"
          ],
          [
           17.6275,
           "Emanuel Wilson",
           "RB"
          ],
          [
           19.09,
           "Tyrion Davis-Price",
           "RB"
          ],
          [
           16.51,
           "Zach Evans",
           "RB"
          ],
          [
           11.46,
           "Jaleel McLaughlin",
           "RB"
          ],
          [
           10.292000000000002,
           "Kenny McIntosh",
           "RB"
          ],
          [
           2.1300000000000003,
           "Evan Hull",
           "RB"
          ],
          [
           8.1775,
           "Emari Demercado",
           "RB"
          ],
          [
           5.050000000000001,
           "Ronnie Rivers",
           "RB"
          ],
          [
           3.075,
           "Elijah Dotson",
           "RB"
          ],
          [
           5.260000000000002,
           "D'Ernest Johnson",
           "RB"
          ],
          [
           2.5095,
           "Sean Tucker",
           "RB"
          ],
          [
           2.253,
           "Andrew Beck",
           "RB"
          ]
         ],
         "hovertemplate": "<b>%{hovertext}</b><br><br>Relative Value=%{y}<br>Predicted Points=%{customdata[0]}<extra></extra>",
         "hovertext": [
          "Austin Ekeler",
          "Derrick Henry",
          "Christian McCaffrey",
          "Josh Jacobs",
          "Nick Chubb",
          "James Conner",
          "Joe Mixon",
          "Kenneth Walker",
          "Miles Sanders",
          "Najee Harris",
          "Antonio Gibson",
          "Tony Pollard",
          "Rhamondre Stevenson",
          "Isiah Pacheco",
          "Bijan Robinson",
          "Travis Etienne",
          "J.K. Dobbins",
          "Khalil Herbert",
          "Saquon Barkley",
          "David Montgomery",
          "Aaron Jones",
          "Dameon Pierce",
          "Brian Robinson",
          "Rachaad White",
          "Alexander Mattison",
          "Javonte Williams",
          "D'Andre Swift",
          "Raheem Mostert",
          "Cam Akers",
          "Cordarrelle Patterson",
          "Zamir White",
          "AJ Dillon",
          "Breece Hall",
          "Jamaal Williams",
          "Ezekiel Elliott",
          "James Cook",
          "Jerick McKinnon",
          "Tyler Allgeier",
          "Rico Dowdle",
          "Dalvin Cook",
          "Zack Moss",
          "Kenneth Gainwell",
          "Jahmyr Gibbs",
          "DeeJay Dallas",
          "D'Onta Foreman",
          "Zach Charbonnet",
          "Tyjae Spears",
          "Chuba Hubbard",
          "Boston Scott",
          "Jerome Ford",
          "Raheem Blackshear",
          "Elijah Mitchell",
          "Damien Harris",
          "Chase Edmonds",
          "Ty Chandler",
          "Devin Singletary",
          "Latavius Murray",
          "Tank Bigsby",
          "Samaje Perine",
          "Kyren Williams",
          "Michael Carter",
          "Clyde Edwards-Helaire",
          "Chris Evans",
          "Gus Edwards",
          "Ameer Abdullah",
          "Anthony McFarland",
          "Trayveon Williams",
          "Jaylen Warren",
          "Joshua Kelley",
          "Eric Gray",
          "Deon Jackson",
          "Pierre Strong",
          "JaMycal Hasty",
          "Matt Breida",
          "Julius Chestnut",
          "Justice Hill",
          "Dare Ogunbowale",
          "Gary Brightwell",
          "Keaontay Ingram",
          "Mike Boone",
          "Ke'Shawn Vaughn",
          "Jordan Mason",
          "Rashaad Penny",
          "Brandon Johnson",
          "Reggie Gilliam",
          "Ty Montgomery",
          "Roschon Johnson",
          "Chase Brown",
          "Chris Rodriguez",
          "Brandon Bolden",
          "Kendre Miller",
          "Salvon Ahmed",
          "Deuce Vaughn",
          "Travis Homer",
          "Isaiah Spiller",
          "Emanuel Wilson",
          "Tyrion Davis-Price",
          "Zach Evans",
          "Jaleel McLaughlin",
          "Kenny McIntosh",
          "Evan Hull",
          "Emari Demercado",
          "Ronnie Rivers",
          "Elijah Dotson",
          "D'Ernest Johnson",
          "Sean Tucker",
          "Andrew Beck"
         ],
         "legendgroup": "RB",
         "marker": {
          "color": "#233257",
          "pattern": {
           "shape": ""
          }
         },
         "name": "RB",
         "offsetgroup": "RB",
         "orientation": "v",
         "showlegend": true,
         "text": [
          "Austin Ekeler",
          "Derrick Henry",
          "Christian McCaffrey",
          "Josh Jacobs",
          "Nick Chubb",
          "James Conner",
          "Joe Mixon",
          "Kenneth Walker",
          "Miles Sanders",
          "Najee Harris",
          "Antonio Gibson",
          "Tony Pollard",
          "Rhamondre Stevenson",
          "Isiah Pacheco",
          "Bijan Robinson",
          "Travis Etienne",
          "J.K. Dobbins",
          "Khalil Herbert",
          "Saquon Barkley",
          "David Montgomery",
          "Aaron Jones",
          "Dameon Pierce",
          "Brian Robinson",
          "Rachaad White",
          "Alexander Mattison",
          "Javonte Williams",
          "D'Andre Swift",
          "Raheem Mostert",
          "Cam Akers",
          "Cordarrelle Patterson",
          "Zamir White",
          "AJ Dillon",
          "Breece Hall",
          "Jamaal Williams",
          "Ezekiel Elliott",
          "James Cook",
          "Jerick McKinnon",
          "Tyler Allgeier",
          "Rico Dowdle",
          "Dalvin Cook",
          "Zack Moss",
          "Kenneth Gainwell",
          "Jahmyr Gibbs",
          "DeeJay Dallas",
          "D'Onta Foreman",
          "Zach Charbonnet",
          "Tyjae Spears",
          "Chuba Hubbard",
          "Boston Scott",
          "Jerome Ford",
          "Raheem Blackshear",
          "Elijah Mitchell",
          "Damien Harris",
          "Chase Edmonds",
          "Ty Chandler",
          "Devin Singletary",
          "Latavius Murray",
          "Tank Bigsby",
          "Samaje Perine",
          "Kyren Williams",
          "Michael Carter",
          "Clyde Edwards-Helaire",
          "Chris Evans",
          "Gus Edwards",
          "Ameer Abdullah",
          "Anthony McFarland",
          "Trayveon Williams",
          "Jaylen Warren",
          "Joshua Kelley",
          "Eric Gray",
          "Deon Jackson",
          "Pierre Strong",
          "JaMycal Hasty",
          "Matt Breida",
          "Julius Chestnut",
          "Justice Hill",
          "Dare Ogunbowale",
          "Gary Brightwell",
          "Keaontay Ingram",
          "Mike Boone",
          "Ke'Shawn Vaughn",
          "Jordan Mason",
          "Rashaad Penny",
          "Brandon Johnson",
          "Reggie Gilliam",
          "Ty Montgomery",
          "Roschon Johnson",
          "Chase Brown",
          "Chris Rodriguez",
          "Brandon Bolden",
          "Kendre Miller",
          "Salvon Ahmed",
          "Deuce Vaughn",
          "Travis Homer",
          "Isaiah Spiller",
          "Emanuel Wilson",
          "Tyrion Davis-Price",
          "Zach Evans",
          "Jaleel McLaughlin",
          "Kenny McIntosh",
          "Evan Hull",
          "Emari Demercado",
          "Ronnie Rivers",
          "Elijah Dotson",
          "D'Ernest Johnson",
          "Sean Tucker",
          "Andrew Beck"
         ],
         "textposition": "inside",
         "type": "bar",
         "x": [
          "Croccity Body Snatchers",
          "DangeRUSS Last Ride",
          "DangeRUSS Last Ride",
          "Croccity Body Snatchers",
          "kevinbash",
          "DangeRUSS Last Ride",
          "Croccity Body Snatchers",
          "Verdanks Vacqueros FFC",
          "Pretty Big Wieners",
          "2014champ",
          "Count of Monte Christian",
          "Saskatoon Squatches ",
          "Saskatoon Squatches ",
          "Saskatoon Squatches ",
          "2014champ",
          "Verdanks Vacqueros FFC",
          "Pretty Big Wieners",
          "GusTheBus",
          "Saskatoon Squatches ",
          "Croccity Body Snatchers",
          "kevinbash",
          "GusTheBus",
          "Idk much about soccer ",
          "📜 Providence 🪬 Spirits 🥂",
          "Pretty Big Wieners",
          "Saskatoon Squatches ",
          "📜 Providence 🪬 Spirits 🥂",
          "2014champ",
          "GusTheBus",
          null,
          "kevinbash",
          "📜 Providence 🪬 Spirits 🥂",
          "Comeback 👑’s",
          "Comeback 👑’s",
          "Verdanks Vacqueros FFC",
          "Pretty Big Wieners",
          "DangeRUSS Last Ride",
          "DangeRUSS Last Ride",
          "📜 Providence 🪬 Spirits 🥂",
          "GusTheBus",
          "Verdanks Vacqueros FFC",
          "Count of Monte Christian",
          "📜 Providence 🪬 Spirits 🥂",
          null,
          null,
          "Idk much about soccer ",
          "Pretty Big Wieners",
          null,
          null,
          "Comeback 👑’s",
          null,
          "Verdanks Vacqueros FFC",
          "2014champ",
          "kevinbash",
          "kevinbash",
          "Verdanks Vacqueros FFC",
          null,
          "Comeback 👑’s",
          "GusTheBus",
          "Croccity Body Snatchers",
          null,
          "Comeback 👑’s",
          null,
          "Comeback 👑’s",
          null,
          null,
          null,
          "Saskatoon Squatches ",
          null,
          "Comeback 👑’s",
          "2014champ",
          null,
          null,
          "Count of Monte Christian",
          null,
          null,
          null,
          null,
          "2014champ",
          null,
          null,
          null,
          "GusTheBus",
          null,
          null,
          null,
          "📜 Providence 🪬 Spirits 🥂",
          "Idk much about soccer ",
          "GusTheBus",
          null,
          "Count of Monte Christian",
          null,
          "DangeRUSS Last Ride",
          null,
          "Comeback 👑’s",
          null,
          "Idk much about soccer ",
          null,
          "Comeback 👑’s",
          null,
          "Pretty Big Wieners",
          null,
          null,
          null,
          null,
          "📜 Providence 🪬 Spirits 🥂",
          null
         ],
         "xaxis": "x",
         "y": [
          278.209,
          272.116,
          259.90900000000005,
          246.779,
          247.84900000000002,
          234.769,
          229.64600000000002,
          219.99900000000002,
          206.401,
          223.05200000000002,
          221.364,
          219.196,
          211.02200000000002,
          204.95600000000002,
          161.687,
          174.97400000000002,
          174.83400000000003,
          201.71400000000003,
          202.984,
          198.00900000000001,
          191.977,
          190.746,
          183.08900000000003,
          170.894,
          178.604,
          175.28900000000002,
          174.311,
          184.12100000000004,
          165.931,
          178.457,
          189.67400000000004,
          163.812,
          169.67600000000002,
          153.842,
          168.122,
          160.929,
          139.131,
          141.467,
          146.14100000000002,
          147.686,
          80.772,
          138.071,
          113.39900000000002,
          145.13400000000001,
          133.614,
          145.639,
          140.36100000000002,
          129.70600000000002,
          137.946,
          133.364,
          139.04600000000002,
          126.59400000000001,
          128.44400000000002,
          101.02900000000001,
          108.239,
          103.10600000000001,
          88.51400000000001,
          89.149,
          85.944,
          92.996,
          85.87100000000001,
          76.271,
          86.011,
          75.18900000000001,
          67.574,
          77.692,
          68.416,
          69.542,
          64.43900000000001,
          73.782,
          42.217,
          56.18900000000001,
          53.509,
          56.554,
          56.131,
          50.479,
          49.201,
          48.749,
          45.859,
          52.756,
          41.96900000000001,
          41.778999999999996,
          39.216,
          40.089000000000006,
          37.519000000000005,
          35.272000000000006,
          34.314,
          32.996,
          29.369,
          29.949,
          19.576999999999998,
          29.616,
          23.391000000000002,
          23.589000000000002,
          17.409000000000002,
          15.3595,
          16.823999999999998,
          14.241000000000001,
          9.194,
          8.162,
          1.5850000000000002,
          5.9115,
          2.7810000000000006,
          0.809,
          2.994000000000001,
          0.24349999999999997,
          0.07400000000000007
         ],
         "yaxis": "y"
        },
        {
         "alignmentgroup": "True",
         "customdata": [
          [
           242.585,
           "Justin Jefferson",
           "WR"
          ],
          [
           221.655,
           "Tyreek Hill",
           "WR"
          ],
          [
           215.75,
           "CeeDee Lamb",
           "WR"
          ],
          [
           207.704,
           "Davante Adams",
           "WR"
          ],
          [
           204.35000000000002,
           "Ja'Marr Chase",
           "WR"
          ],
          [
           191.335,
           "Keenan Allen",
           "WR"
          ],
          [
           196.238,
           "Stefon Diggs",
           "WR"
          ],
          [
           179.09500000000003,
           "Cooper Kupp",
           "WR"
          ],
          [
           193.8,
           "Deebo Samuel",
           "WR"
          ],
          [
           189.44,
           "Jaylen Waddle",
           "WR"
          ],
          [
           188.195,
           "A.J. Brown",
           "WR"
          ],
          [
           167.09,
           "Christian Watson",
           "WR"
          ],
          [
           178.63000000000002,
           "Kalif Raymond",
           "WR"
          ],
          [
           184.39000000000001,
           "Amon-Ra St. Brown",
           "WR"
          ],
          [
           169.485,
           "Mike Evans",
           "WR"
          ],
          [
           174.08,
           "Garrett Wilson",
           "WR"
          ],
          [
           167.22,
           "Chris Godwin",
           "WR"
          ],
          [
           167.93,
           "Tyler Lockett",
           "WR"
          ],
          [
           162.06,
           "Christian Kirk",
           "WR"
          ],
          [
           175.95000000000002,
           "Tee Higgins",
           "WR"
          ],
          [
           175.68,
           "Devin Duvernay",
           "WR"
          ],
          [
           122.7,
           "Romeo Doubs",
           "WR"
          ],
          [
           159.918,
           "Chris Olave",
           "WR"
          ],
          [
           164.525,
           "Jamal Agnew",
           "WR"
          ],
          [
           154.275,
           "DeAndre Hopkins",
           "WR"
          ],
          [
           154.54500000000002,
           "Jahan Dotson",
           "WR"
          ],
          [
           162.5,
           "Marquez Valdes-Scantling",
           "WR"
          ],
          [
           161.99599999999998,
           "Amari Cooper",
           "WR"
          ],
          [
           158.502,
           "DK Metcalf",
           "WR"
          ],
          [
           151.683,
           "DeVonta Smith",
           "WR"
          ],
          [
           154.65,
           "Terry McLaurin",
           "WR"
          ],
          [
           164.195,
           "Rashid Shaheed",
           "WR"
          ],
          [
           146.675,
           "Nico Collins",
           "WR"
          ],
          [
           147.72,
           "Michael Pittman",
           "WR"
          ],
          [
           153.625,
           "Mike Williams",
           "WR"
          ],
          [
           148.15,
           "DJ Moore",
           "WR"
          ],
          [
           141.655,
           "Gabe Davis",
           "WR"
          ],
          [
           136.27,
           "DJ Chark",
           "WR"
          ],
          [
           152.85999999999999,
           "Odell Beckham",
           "WR"
          ],
          [
           144.57500000000002,
           "Jordan Addison",
           "WR"
          ],
          [
           148.745,
           "Braxton Berrios",
           "WR"
          ],
          [
           137.485,
           "Drake London",
           "WR"
          ],
          [
           125.02500000000002,
           "Marquise Brown",
           "WR"
          ],
          [
           145.085,
           "Zay Flowers",
           "WR"
          ],
          [
           142.04000000000002,
           "JuJu Smith-Schuster",
           "WR"
          ],
          [
           135.255,
           "Brandon Aiyuk",
           "WR"
          ],
          [
           129.92000000000002,
           "Diontae Johnson",
           "WR"
          ],
          [
           135.57500000000002,
           "Jerry Jeudy",
           "WR"
          ],
          [
           138.525,
           "Deven Thompkins",
           "WR"
          ],
          [
           142.785,
           "Greg Dortch",
           "WR"
          ],
          [
           125.17000000000002,
           "Zay Jones",
           "WR"
          ],
          [
           130.08,
           "George Pickens",
           "WR"
          ],
          [
           130.84,
           "Mecole Hardman",
           "WR"
          ],
          [
           136.175,
           "Richie James",
           "WR"
          ],
          [
           138.3,
           "Jaxon Smith-Njigba",
           "WR"
          ],
          [
           72.89500000000001,
           "Calvin Ridley",
           "WR"
          ],
          [
           124.07400000000001,
           "Allen Lazard",
           "WR"
          ],
          [
           117.125,
           "Courtland Sutton",
           "WR"
          ],
          [
           112.20500000000001,
           "Michael Thomas",
           "WR"
          ],
          [
           122.365,
           "DeAndre Carter",
           "WR"
          ],
          [
           108.165,
           "Curtis Samuel",
           "WR"
          ],
          [
           115.155,
           "Jakobi Meyers",
           "WR"
          ],
          [
           118.625,
           "Donovan Peoples-Jones",
           "WR"
          ],
          [
           115.375,
           "Van Jefferson",
           "WR"
          ],
          [
           107.105,
           "Brandin Cooks",
           "WR"
          ],
          [
           111.67500000000001,
           "K.J. Osborn",
           "WR"
          ],
          [
           107.425,
           "Rashod Bateman",
           "WR"
          ],
          [
           114.19500000000001,
           "Velus Jones",
           "WR"
          ],
          [
           101.65,
           "Darnell Mooney",
           "WR"
          ],
          [
           112.39500000000001,
           "Rondale Moore",
           "WR"
          ],
          [
           110.475,
           "Wan'Dale Robinson",
           "WR"
          ],
          [
           113.5,
           "Derius Davis",
           "WR"
          ],
          [
           106.32900000000001,
           "Darius Slayton",
           "WR"
          ],
          [
           113.17500000000001,
           "DeVante Parker",
           "WR"
          ],
          [
           101.25,
           "Tyler Boyd",
           "WR"
          ],
          [
           107.7,
           "KaVontae Turpin",
           "WR"
          ],
          [
           93.72500000000001,
           "Skyy Moore",
           "WR"
          ],
          [
           96.46000000000001,
           "Adam Thielen",
           "WR"
          ],
          [
           98.85000000000002,
           "Parris Campbell",
           "WR"
          ],
          [
           96.2,
           "Josh Reynolds",
           "WR"
          ],
          [
           96.979,
           "Joshua Palmer",
           "WR"
          ],
          [
           81.75000000000001,
           "Alec Pierce",
           "WR"
          ],
          [
           93.08,
           "Marvin Mims",
           "WR"
          ],
          [
           86.805,
           "Hunter Renfrow",
           "WR"
          ],
          [
           79.60000000000001,
           "Robert Woods",
           "WR"
          ],
          [
           79.795,
           "Treylon Burks",
           "WR"
          ],
          [
           82.39,
           "Mack Hollins",
           "WR"
          ],
          [
           78.22500000000001,
           "Isaiah Hodgins",
           "WR"
          ],
          [
           76.992,
           "Trey Palmer",
           "WR"
          ],
          [
           68.75,
           "Michael Gallup",
           "WR"
          ],
          [
           77.63000000000001,
           "Kendrick Bourne",
           "WR"
          ],
          [
           70.44500000000001,
           "Kadarius Toney",
           "WR"
          ],
          [
           81.075,
           "Deonte Harty",
           "WR"
          ],
          [
           73.59000000000002,
           "Nick Westbrook-Ikhine",
           "WR"
          ],
          [
           73.13,
           "Olamide Zaccheaus",
           "WR"
          ],
          [
           67.2,
           "Quentin Johnston",
           "WR"
          ],
          [
           67.305,
           "Terrace Marshall",
           "WR"
          ],
          [
           68.35,
           "Ben Skowronek",
           "WR"
          ],
          [
           61.230000000000004,
           "Allen Robinson",
           "WR"
          ],
          [
           61.47,
           "Trent Sherfield",
           "WR"
          ],
          [
           51.27,
           "Tutu Atwell",
           "WR"
          ],
          [
           60.625,
           "Marvin Jones",
           "WR"
          ],
          [
           60.47,
           "Isaiah McKenzie",
           "WR"
          ],
          [
           59.68000000000001,
           "Jayden Reed",
           "WR"
          ],
          [
           62.095000000000006,
           "Khalil Shakir",
           "WR"
          ],
          [
           59.50000000000001,
           "Jauan Jennings",
           "WR"
          ],
          [
           55.596000000000004,
           "Randall Cobb",
           "WR"
          ],
          [
           54.018,
           "Rashee Rice",
           "WR"
          ],
          [
           52.225,
           "Noah Brown",
           "WR"
          ],
          [
           57.445,
           "Laviska Shenault",
           "WR"
          ],
          [
           51.545,
           "Chris Moore",
           "WR"
          ],
          [
           47.275000000000006,
           "Jalen Guyton",
           "WR"
          ],
          [
           52.525000000000006,
           "Brandon Powell",
           "WR"
          ],
          [
           49.49,
           "Calvin Austin",
           "WR"
          ],
          [
           46.235,
           "Chase Claypool",
           "WR"
          ],
          [
           45.495000000000005,
           "Elijah Moore",
           "WR"
          ],
          [
           47.025000000000006,
           "Trenton Irwin",
           "WR"
          ],
          [
           46.045,
           "Equanimeous St. Brown",
           "WR"
          ],
          [
           45.525000000000006,
           "Jonathan Mingo",
           "WR"
          ],
          [
           43.525,
           "Jalen Tolbert",
           "WR"
          ],
          [
           46.198,
           "Demarcus Robinson",
           "WR"
          ],
          [
           40.88,
           "Tre'Quan Smith",
           "WR"
          ],
          [
           42.355000000000004,
           "Brandon Johnson",
           "WR"
          ],
          [
           43.35,
           "Marquise Goodwin",
           "WR"
          ],
          [
           36.36,
           "Quez Watkins",
           "WR"
          ],
          [
           36.34,
           "KhaDarel Hodge",
           "WR"
          ],
          [
           34.92,
           "Dyami Brown",
           "WR"
          ],
          [
           33.59,
           "Sterling Shepard",
           "WR"
          ],
          [
           30.19,
           "Cedrick Wilson",
           "WR"
          ],
          [
           29.875000000000004,
           "David Bell",
           "WR"
          ],
          [
           25.55,
           "John Metchie",
           "WR"
          ],
          [
           27.92,
           "Nelson Agholor",
           "WR"
          ],
          [
           20.775000000000002,
           "River Cracraft",
           "WR"
          ],
          [
           26.475,
           "Zach Pascal",
           "WR"
          ],
          [
           25.900000000000002,
           "Charlie Jones",
           "WR"
          ],
          [
           22.727,
           "Byron Pringle",
           "WR"
          ],
          [
           23.310000000000002,
           "Samori Toure",
           "WR"
          ],
          [
           16.472,
           "Dax Milne",
           "WR"
          ],
          [
           21.882,
           "Kayshon Boutte",
           "WR"
          ],
          [
           21.150000000000002,
           "Michael Wilson",
           "WR"
          ],
          [
           19.61,
           "Rakim Jarrett",
           "WR"
          ],
          [
           18.985,
           "Josh Downs",
           "WR"
          ],
          [
           18.825,
           "Jalen Nailor",
           "WR"
          ],
          [
           18.275000000000002,
           "Dontayvion Wicks",
           "WR"
          ],
          [
           16.715,
           "Justin Watson",
           "WR"
          ],
          [
           15.275,
           "David Sills",
           "WR"
          ],
          [
           16.674999999999997,
           "Tim Jones",
           "WR"
          ],
          [
           16,
           "Gunner Olszewski",
           "WR"
          ],
          [
           17.125,
           "Cody Thompson",
           "WR"
          ],
          [
           15.3,
           "Scott Miller",
           "WR"
          ],
          [
           16.7,
           "Irvin Charles",
           "WR"
          ],
          [
           14.595,
           "Keith Kirkwood",
           "WR"
          ],
          [
           15.775,
           "Malik Heath",
           "WR"
          ],
          [
           12.1,
           "Antoine Green",
           "WR"
          ],
          [
           8.275,
           "Tylan Wallace",
           "WR"
          ],
          [
           1.95,
           "Kirk Merritt",
           "WR"
          ],
          [
           1.4975000000000003,
           "Colton Dowell",
           "WR"
          ],
          [
           6.450000000000001,
           "Erik Ezukanma",
           "WR"
          ],
          [
           4.926,
           "Michael Woods",
           "WR"
          ],
          [
           2.4000000000000004,
           "Miles Boykin",
           "WR"
          ],
          [
           0.098,
           "Dareke Young",
           "WR"
          ]
         ],
         "hovertemplate": "<b>%{hovertext}</b><br><br>Relative Value=%{y}<br>Predicted Points=%{customdata[0]}<extra></extra>",
         "hovertext": [
          "Justin Jefferson",
          "Tyreek Hill",
          "CeeDee Lamb",
          "Davante Adams",
          "Ja'Marr Chase",
          "Keenan Allen",
          "Stefon Diggs",
          "Cooper Kupp",
          "Deebo Samuel",
          "Jaylen Waddle",
          "A.J. Brown",
          "Christian Watson",
          "Kalif Raymond",
          "Amon-Ra St. Brown",
          "Mike Evans",
          "Garrett Wilson",
          "Chris Godwin",
          "Tyler Lockett",
          "Christian Kirk",
          "Tee Higgins",
          "Devin Duvernay",
          "Romeo Doubs",
          "Chris Olave",
          "Jamal Agnew",
          "DeAndre Hopkins",
          "Jahan Dotson",
          "Marquez Valdes-Scantling",
          "Amari Cooper",
          "DK Metcalf",
          "DeVonta Smith",
          "Terry McLaurin",
          "Rashid Shaheed",
          "Nico Collins",
          "Michael Pittman",
          "Mike Williams",
          "DJ Moore",
          "Gabe Davis",
          "DJ Chark",
          "Odell Beckham",
          "Jordan Addison",
          "Braxton Berrios",
          "Drake London",
          "Marquise Brown",
          "Zay Flowers",
          "JuJu Smith-Schuster",
          "Brandon Aiyuk",
          "Diontae Johnson",
          "Jerry Jeudy",
          "Deven Thompkins",
          "Greg Dortch",
          "Zay Jones",
          "George Pickens",
          "Mecole Hardman",
          "Richie James",
          "Jaxon Smith-Njigba",
          "Calvin Ridley",
          "Allen Lazard",
          "Courtland Sutton",
          "Michael Thomas",
          "DeAndre Carter",
          "Curtis Samuel",
          "Jakobi Meyers",
          "Donovan Peoples-Jones",
          "Van Jefferson",
          "Brandin Cooks",
          "K.J. Osborn",
          "Rashod Bateman",
          "Velus Jones",
          "Darnell Mooney",
          "Rondale Moore",
          "Wan'Dale Robinson",
          "Derius Davis",
          "Darius Slayton",
          "DeVante Parker",
          "Tyler Boyd",
          "KaVontae Turpin",
          "Skyy Moore",
          "Adam Thielen",
          "Parris Campbell",
          "Josh Reynolds",
          "Joshua Palmer",
          "Alec Pierce",
          "Marvin Mims",
          "Hunter Renfrow",
          "Robert Woods",
          "Treylon Burks",
          "Mack Hollins",
          "Isaiah Hodgins",
          "Trey Palmer",
          "Michael Gallup",
          "Kendrick Bourne",
          "Kadarius Toney",
          "Deonte Harty",
          "Nick Westbrook-Ikhine",
          "Olamide Zaccheaus",
          "Quentin Johnston",
          "Terrace Marshall",
          "Ben Skowronek",
          "Allen Robinson",
          "Trent Sherfield",
          "Tutu Atwell",
          "Marvin Jones",
          "Isaiah McKenzie",
          "Jayden Reed",
          "Khalil Shakir",
          "Jauan Jennings",
          "Randall Cobb",
          "Rashee Rice",
          "Noah Brown",
          "Laviska Shenault",
          "Chris Moore",
          "Jalen Guyton",
          "Brandon Powell",
          "Calvin Austin",
          "Chase Claypool",
          "Elijah Moore",
          "Trenton Irwin",
          "Equanimeous St. Brown",
          "Jonathan Mingo",
          "Jalen Tolbert",
          "Demarcus Robinson",
          "Tre'Quan Smith",
          "Brandon Johnson",
          "Marquise Goodwin",
          "Quez Watkins",
          "KhaDarel Hodge",
          "Dyami Brown",
          "Sterling Shepard",
          "Cedrick Wilson",
          "David Bell",
          "John Metchie",
          "Nelson Agholor",
          "River Cracraft",
          "Zach Pascal",
          "Charlie Jones",
          "Byron Pringle",
          "Samori Toure",
          "Dax Milne",
          "Kayshon Boutte",
          "Michael Wilson",
          "Rakim Jarrett",
          "Josh Downs",
          "Jalen Nailor",
          "Dontayvion Wicks",
          "Justin Watson",
          "David Sills",
          "Tim Jones",
          "Gunner Olszewski",
          "Cody Thompson",
          "Scott Miller",
          "Irvin Charles",
          "Keith Kirkwood",
          "Malik Heath",
          "Antoine Green",
          "Tylan Wallace",
          "Kirk Merritt",
          "Colton Dowell",
          "Erik Ezukanma",
          "Michael Woods",
          "Miles Boykin",
          "Dareke Young"
         ],
         "legendgroup": "WR",
         "marker": {
          "color": "#4068B8",
          "pattern": {
           "shape": ""
          }
         },
         "name": "WR",
         "offsetgroup": "WR",
         "orientation": "v",
         "showlegend": true,
         "text": [
          "Justin Jefferson",
          "Tyreek Hill",
          "CeeDee Lamb",
          "Davante Adams",
          "Ja'Marr Chase",
          "Keenan Allen",
          "Stefon Diggs",
          "Cooper Kupp",
          "Deebo Samuel",
          "Jaylen Waddle",
          "A.J. Brown",
          "Christian Watson",
          "Kalif Raymond",
          "Amon-Ra St. Brown",
          "Mike Evans",
          "Garrett Wilson",
          "Chris Godwin",
          "Tyler Lockett",
          "Christian Kirk",
          "Tee Higgins",
          "Devin Duvernay",
          "Romeo Doubs",
          "Chris Olave",
          "Jamal Agnew",
          "DeAndre Hopkins",
          "Jahan Dotson",
          "Marquez Valdes-Scantling",
          "Amari Cooper",
          "DK Metcalf",
          "DeVonta Smith",
          "Terry McLaurin",
          "Rashid Shaheed",
          "Nico Collins",
          "Michael Pittman",
          "Mike Williams",
          "DJ Moore",
          "Gabe Davis",
          "DJ Chark",
          "Odell Beckham",
          "Jordan Addison",
          "Braxton Berrios",
          "Drake London",
          "Marquise Brown",
          "Zay Flowers",
          "JuJu Smith-Schuster",
          "Brandon Aiyuk",
          "Diontae Johnson",
          "Jerry Jeudy",
          "Deven Thompkins",
          "Greg Dortch",
          "Zay Jones",
          "George Pickens",
          "Mecole Hardman",
          "Richie James",
          "Jaxon Smith-Njigba",
          "Calvin Ridley",
          "Allen Lazard",
          "Courtland Sutton",
          "Michael Thomas",
          "DeAndre Carter",
          "Curtis Samuel",
          "Jakobi Meyers",
          "Donovan Peoples-Jones",
          "Van Jefferson",
          "Brandin Cooks",
          "K.J. Osborn",
          "Rashod Bateman",
          "Velus Jones",
          "Darnell Mooney",
          "Rondale Moore",
          "Wan'Dale Robinson",
          "Derius Davis",
          "Darius Slayton",
          "DeVante Parker",
          "Tyler Boyd",
          "KaVontae Turpin",
          "Skyy Moore",
          "Adam Thielen",
          "Parris Campbell",
          "Josh Reynolds",
          "Joshua Palmer",
          "Alec Pierce",
          "Marvin Mims",
          "Hunter Renfrow",
          "Robert Woods",
          "Treylon Burks",
          "Mack Hollins",
          "Isaiah Hodgins",
          "Trey Palmer",
          "Michael Gallup",
          "Kendrick Bourne",
          "Kadarius Toney",
          "Deonte Harty",
          "Nick Westbrook-Ikhine",
          "Olamide Zaccheaus",
          "Quentin Johnston",
          "Terrace Marshall",
          "Ben Skowronek",
          "Allen Robinson",
          "Trent Sherfield",
          "Tutu Atwell",
          "Marvin Jones",
          "Isaiah McKenzie",
          "Jayden Reed",
          "Khalil Shakir",
          "Jauan Jennings",
          "Randall Cobb",
          "Rashee Rice",
          "Noah Brown",
          "Laviska Shenault",
          "Chris Moore",
          "Jalen Guyton",
          "Brandon Powell",
          "Calvin Austin",
          "Chase Claypool",
          "Elijah Moore",
          "Trenton Irwin",
          "Equanimeous St. Brown",
          "Jonathan Mingo",
          "Jalen Tolbert",
          "Demarcus Robinson",
          "Tre'Quan Smith",
          "Brandon Johnson",
          "Marquise Goodwin",
          "Quez Watkins",
          "KhaDarel Hodge",
          "Dyami Brown",
          "Sterling Shepard",
          "Cedrick Wilson",
          "David Bell",
          "John Metchie",
          "Nelson Agholor",
          "River Cracraft",
          "Zach Pascal",
          "Charlie Jones",
          "Byron Pringle",
          "Samori Toure",
          "Dax Milne",
          "Kayshon Boutte",
          "Michael Wilson",
          "Rakim Jarrett",
          "Josh Downs",
          "Jalen Nailor",
          "Dontayvion Wicks",
          "Justin Watson",
          "David Sills",
          "Tim Jones",
          "Gunner Olszewski",
          "Cody Thompson",
          "Scott Miller",
          "Irvin Charles",
          "Keith Kirkwood",
          "Malik Heath",
          "Antoine Green",
          "Tylan Wallace",
          "Kirk Merritt",
          "Colton Dowell",
          "Erik Ezukanma",
          "Michael Woods",
          "Miles Boykin",
          "Dareke Young"
         ],
         "textposition": "inside",
         "type": "bar",
         "x": [
          "Pretty Big Wieners",
          "Saskatoon Squatches ",
          "Count of Monte Christian",
          "Verdanks Vacqueros FFC",
          "Saskatoon Squatches ",
          "Pretty Big Wieners",
          "Comeback 👑’s",
          "2014champ",
          "2014champ",
          "GusTheBus",
          "Pretty Big Wieners",
          "Count of Monte Christian",
          null,
          "kevinbash",
          "kevinbash",
          "📜 Providence 🪬 Spirits 🥂",
          "Croccity Body Snatchers",
          "Croccity Body Snatchers",
          "GusTheBus",
          "2014champ",
          null,
          "📜 Providence 🪬 Spirits 🥂",
          "Count of Monte Christian",
          null,
          "Verdanks Vacqueros FFC",
          "📜 Providence 🪬 Spirits 🥂",
          null,
          "Verdanks Vacqueros FFC",
          "2014champ",
          "Count of Monte Christian",
          "kevinbash",
          null,
          "📜 Providence 🪬 Spirits 🥂",
          "GusTheBus",
          "Idk much about soccer ",
          "Idk much about soccer ",
          "2014champ",
          "DangeRUSS Last Ride",
          "Idk much about soccer ",
          "DangeRUSS Last Ride",
          null,
          "Idk much about soccer ",
          "Croccity Body Snatchers",
          "Count of Monte Christian",
          "📜 Providence 🪬 Spirits 🥂",
          "kevinbash",
          "Idk much about soccer ",
          "Saskatoon Squatches ",
          null,
          null,
          "Croccity Body Snatchers",
          "DangeRUSS Last Ride",
          "Idk much about soccer ",
          "Count of Monte Christian",
          "📜 Providence 🪬 Spirits 🥂",
          "2014champ",
          "Croccity Body Snatchers",
          "Count of Monte Christian",
          "Idk much about soccer ",
          null,
          null,
          "Saskatoon Squatches ",
          "Pretty Big Wieners",
          "Verdanks Vacqueros FFC",
          "Comeback 👑’s",
          "Croccity Body Snatchers",
          "2014champ",
          null,
          "Saskatoon Squatches ",
          "Count of Monte Christian",
          "📜 Providence 🪬 Spirits 🥂",
          null,
          null,
          null,
          "Saskatoon Squatches ",
          null,
          "kevinbash",
          "Idk much about soccer ",
          null,
          "Comeback 👑’s",
          "Croccity Body Snatchers",
          "2014champ",
          "GusTheBus",
          "GusTheBus",
          "Pretty Big Wieners",
          "Count of Monte Christian",
          null,
          "2014champ",
          "Saskatoon Squatches ",
          "Comeback 👑’s",
          null,
          "Pretty Big Wieners",
          null,
          null,
          null,
          "2014champ",
          null,
          null,
          null,
          null,
          null,
          "Pretty Big Wieners",
          null,
          "kevinbash",
          "Verdanks Vacqueros FFC",
          null,
          "Comeback 👑’s",
          "Croccity Body Snatchers",
          null,
          null,
          null,
          null,
          null,
          "Verdanks Vacqueros FFC",
          "DangeRUSS Last Ride",
          "Saskatoon Squatches ",
          null,
          null,
          "📜 Providence 🪬 Spirits 🥂",
          null,
          null,
          null,
          null,
          null,
          null,
          null,
          null,
          null,
          null,
          null,
          "Count of Monte Christian",
          "kevinbash",
          null,
          null,
          "GusTheBus",
          null,
          null,
          null,
          "kevinbash",
          "Verdanks Vacqueros FFC",
          null,
          "Verdanks Vacqueros FFC",
          null,
          null,
          null,
          null,
          null,
          null,
          null,
          null,
          null,
          null,
          null,
          null,
          "Verdanks Vacqueros FFC",
          null,
          null,
          null,
          null,
          null,
          null
         ],
         "xaxis": "x",
         "y": [
          242.051,
          221.121,
          215.216,
          207.17,
          203.816,
          190.803,
          195.70399999999998,
          178.711,
          193.266,
          188.906,
          187.661,
          166.706,
          178.096,
          183.856,
          168.953,
          173.546,
          166.688,
          167.398,
          161.526,
          175.416,
          175.14600000000002,
          122.16600000000001,
          159.38400000000001,
          163.99099999999999,
          153.741,
          154.00900000000001,
          161.966,
          161.464,
          157.97,
          151.149,
          154.114,
          163.661,
          146.141,
          147.18599999999998,
          153.093,
          147.616,
          141.121,
          135.886,
          152.326,
          144.041,
          148.211,
          136.951,
          124.48900000000002,
          144.551,
          141.506,
          134.721,
          129.38600000000002,
          135.041,
          137.993,
          142.249,
          124.63600000000001,
          129.546,
          130.30599999999998,
          135.641,
          137.768,
          72.361,
          123.54000000000002,
          116.59100000000001,
          111.671,
          121.831,
          107.62900000000002,
          114.62100000000001,
          118.093,
          114.84100000000001,
          106.571,
          111.141,
          106.891,
          113.661,
          101.116,
          111.85900000000001,
          109.941,
          112.968,
          105.79500000000002,
          112.641,
          100.71600000000001,
          107.166,
          93.191,
          95.92600000000002,
          98.31600000000002,
          95.66600000000001,
          96.447,
          81.21600000000001,
          92.54599999999999,
          86.271,
          79.066,
          79.261,
          81.85600000000001,
          77.691,
          76.46000000000001,
          68.21600000000001,
          77.09600000000002,
          69.911,
          80.54100000000001,
          73.05600000000001,
          72.596,
          66.668,
          66.771,
          67.816,
          60.696,
          60.936,
          50.736000000000004,
          60.091,
          59.93600000000001,
          59.146,
          61.56100000000001,
          58.96600000000001,
          55.062000000000005,
          53.484,
          51.691,
          56.911,
          51.011,
          46.743,
          51.99100000000001,
          48.956,
          45.701,
          44.96300000000001,
          46.49100000000001,
          45.511,
          44.99100000000001,
          42.991,
          45.664,
          40.496,
          41.821000000000005,
          42.818,
          35.826,
          35.806000000000004,
          34.384,
          33.056000000000004,
          29.656000000000002,
          29.343000000000004,
          25.166,
          27.386000000000003,
          20.241000000000003,
          25.939000000000004,
          25.366000000000003,
          22.191000000000003,
          22.776000000000003,
          16.403000000000002,
          21.348000000000003,
          20.614000000000004,
          19.078000000000003,
          18.451,
          18.291,
          17.741000000000003,
          16.181,
          14.741,
          16.141,
          15.466000000000003,
          16.593,
          14.766,
          16.166,
          14.061,
          15.241,
          11.566,
          7.7410000000000005,
          1.4159999999999997,
          1.0305000000000002,
          5.916,
          4.394,
          1.866,
          0.03299999999999999
         ],
         "yaxis": "y"
        },
        {
         "alignmentgroup": "True",
         "customdata": [
          [
           223.2018,
           "NYJ",
           "DEF"
          ],
          [
           223.2018,
           "NYG",
           "DEF"
          ],
          [
           118.9535,
           "NO",
           "DEF"
          ],
          [
           141.6788,
           "MIA",
           "DEF"
          ],
          [
           110.78920000000001,
           "WAS",
           "DEF"
          ],
          [
           110.62310000000002,
           "PHI",
           "DEF"
          ],
          [
           83.78840000000001,
           "DEN",
           "DEF"
          ],
          [
           73.25649999999999,
           "CAR",
           "DEF"
          ],
          [
           83.6727,
           "KC",
           "DEF"
          ],
          [
           97.85260000000001,
           "BAL",
           "DEF"
          ],
          [
           81.12640000000003,
           "JAX",
           "DEF"
          ],
          [
           83.6547,
           "CLE",
           "DEF"
          ],
          [
           61.72419999999998,
           "ATL",
           "DEF"
          ],
          [
           89.33449999999999,
           "PIT",
           "DEF"
          ],
          [
           134.1501,
           "LAC",
           "DEF"
          ],
          [
           134.1501,
           "LAR",
           "DEF"
          ],
          [
           34.01380000000002,
           "LV",
           "DEF"
          ],
          [
           78.89120000000001,
           "BUF",
           "DEF"
          ],
          [
           40.28020000000003,
           "DET",
           "DEF"
          ],
          [
           48.837600000000016,
           "TB",
           "DEF"
          ],
          [
           55.93830000000001,
           "NE",
           "DEF"
          ],
          [
           38.21600000000002,
           "ARI",
           "DEF"
          ],
          [
           58.275000000000006,
           "CIN",
           "DEF"
          ],
          [
           77.8366,
           "SF",
           "DEF"
          ],
          [
           50.74590000000001,
           "TEN",
           "DEF"
          ],
          [
           35.734800000000014,
           "SEA",
           "DEF"
          ],
          [
           31.599699999999995,
           "GB",
           "DEF"
          ],
          [
           -0.4589999999999712,
           "MIN",
           "DEF"
          ],
          [
           33.120900000000006,
           "IND",
           "DEF"
          ],
          [
           28.209100000000014,
           "HOU",
           "DEF"
          ],
          [
           8.457100000000022,
           "DAL",
           "DEF"
          ],
          [
           -37.498599999999996,
           "CHI",
           "DEF"
          ]
         ],
         "hovertemplate": "<b>%{hovertext}</b><br><br>Relative Value=%{y}<br>Predicted Points=%{customdata[0]}<extra></extra>",
         "hovertext": [
          "NYJ",
          "NYG",
          "NO",
          "MIA",
          "WAS",
          "PHI",
          "DEN",
          "CAR",
          "KC",
          "BAL",
          "JAX",
          "CLE",
          "ATL",
          "PIT",
          "LAC",
          "LAR",
          "LV",
          "BUF",
          "DET",
          "TB",
          "NE",
          "ARI",
          "CIN",
          "SF",
          "TEN",
          "SEA",
          "GB",
          "MIN",
          "IND",
          "HOU",
          "DAL",
          "CHI"
         ],
         "legendgroup": "DEF",
         "marker": {
          "color": "#667825",
          "pattern": {
           "shape": ""
          }
         },
         "name": "DEF",
         "offsetgroup": "DEF",
         "orientation": "v",
         "showlegend": true,
         "text": [
          "NYJ",
          "NYG",
          "NO",
          "MIA",
          "WAS",
          "PHI",
          "DEN",
          "CAR",
          "KC",
          "BAL",
          "JAX",
          "CLE",
          "ATL",
          "PIT",
          "LAC",
          "LAR",
          "LV",
          "BUF",
          "DET",
          "TB",
          "NE",
          "ARI",
          "CIN",
          "SF",
          "TEN",
          "SEA",
          "GB",
          "MIN",
          "IND",
          "HOU",
          "DAL",
          "CHI"
         ],
         "textposition": "inside",
         "type": "bar",
         "x": [
          "📜 Providence 🪬 Spirits 🥂",
          "Count of Monte Christian",
          "kevinbash",
          "Pretty Big Wieners",
          "Croccity Body Snatchers",
          "Pretty Big Wieners",
          "Croccity Body Snatchers",
          "Verdanks Vacqueros FFC",
          "Idk much about soccer ",
          "GusTheBus",
          "Saskatoon Squatches ",
          "2014champ",
          "Count of Monte Christian",
          "GusTheBus",
          "DangeRUSS Last Ride",
          "Comeback 👑’s",
          "Count of Monte Christian",
          "kevinbash",
          "Verdanks Vacqueros FFC",
          "Comeback 👑’s",
          "kevinbash",
          "Verdanks Vacqueros FFC",
          "Pretty Big Wieners",
          "Croccity Body Snatchers",
          "Saskatoon Squatches ",
          "Saskatoon Squatches ",
          "DangeRUSS Last Ride",
          "Comeback 👑’s",
          "Idk much about soccer ",
          "📜 Providence 🪬 Spirits 🥂",
          "📜 Providence 🪬 Spirits 🥂",
          "2014champ"
         ],
         "xaxis": "x",
         "y": [
          346.4555,
          346.4555,
          174.95289999999997,
          201.8853,
          166.7886,
          170.8296,
          145.9791,
          133.64299999999997,
          143.8792,
          160.7198,
          143.3171,
          142.81369999999998,
          117.72359999999996,
          149.3028,
          253.51559999999998,
          253.51559999999998,
          96.881,
          141.7584,
          102.47090000000001,
          107.9966,
          111.9377,
          94.2154,
          118.66149999999999,
          140.02729999999997,
          111.1324,
          94.8938,
          91.56799999999998,
          62.40820000000001,
          89.12029999999999,
          88.5956,
          68.84360000000001,
          25.368599999999986
         ],
         "yaxis": "y"
        },
        {
         "alignmentgroup": "True",
         "customdata": [
          [
           179.14999999999998,
           "Daniel Carlson",
           "PK"
          ],
          [
           175.8,
           "Evan McPherson",
           "PK"
          ],
          [
           170.25,
           "Justin Tucker",
           "PK"
          ],
          [
           170.54999999999998,
           "Chris Boswell",
           "PK"
          ],
          [
           165.65,
           "Harrison Butker",
           "PK"
          ],
          [
           162.2,
           "Riley Patterson",
           "PK"
          ],
          [
           157.15,
           "Younghoe Koo",
           "PK"
          ],
          [
           153.25,
           "Chad Ryland",
           "PK"
          ],
          [
           157.15,
           "Jake Elliott",
           "PK"
          ],
          [
           155.70000000000002,
           "Matt Prater",
           "PK"
          ],
          [
           154.35,
           "Brandon Aubrey",
           "PK"
          ],
          [
           150.89999999999998,
           "Jason Myers",
           "PK"
          ],
          [
           150.89999999999998,
           "Greg Joseph",
           "PK"
          ],
          [
           150.81999999999996,
           "Cameron Dicker",
           "PK"
          ],
          [
           148.8,
           "Brandon McManus",
           "PK"
          ],
          [
           144.85,
           "Jason Sanders",
           "PK"
          ],
          [
           149.04999999999998,
           "Eddy Pineiro",
           "PK"
          ],
          [
           143.95,
           "Greg Zuerlein",
           "PK"
          ],
          [
           144.35,
           "Matt Gay",
           "PK"
          ],
          [
           140.6,
           "Tyler Bass",
           "PK"
          ],
          [
           142.85,
           "Chase McLaughlin",
           "PK"
          ],
          [
           143.7,
           "Joey Slye",
           "PK"
          ],
          [
           137.05,
           "Graham Gano",
           "PK"
          ],
          [
           141.3,
           "Jake Moody",
           "PK"
          ],
          [
           130.20000000000002,
           "Wil Lutz",
           "PK"
          ],
          [
           126.65,
           "Nick Folk",
           "PK"
          ],
          [
           132.45,
           "Dustin Hopkins",
           "PK"
          ],
          [
           128.25,
           "Ka'imi Fairbairn",
           "PK"
          ],
          [
           124.45,
           "Anders Carlson",
           "PK"
          ],
          [
           119.54,
           "Cairo Santos",
           "PK"
          ],
          [
           107.4,
           "Blake Grupe",
           "PK"
          ],
          [
           0,
           "Michael Dickson",
           "PK"
          ],
          [
           0,
           "Ethan Evans",
           "PK"
          ],
          [
           0,
           "Tommy Townsend",
           "PK"
          ],
          [
           0,
           "Rigoberto Sanchez",
           "PK"
          ],
          [
           0,
           "Tress Way",
           "PK"
          ],
          [
           0,
           "Brad Robbins",
           "PK"
          ],
          [
           0,
           "Sam Martin",
           "PK"
          ],
          [
           0,
           "Ryan Stonehouse",
           "PK"
          ],
          [
           0,
           "Jack Fox",
           "PK"
          ],
          [
           0,
           "Corey Bojorquez",
           "PK"
          ],
          [
           0,
           "Jake Bailey",
           "PK"
          ],
          [
           0,
           "Johnny Hekker",
           "PK"
          ],
          [
           0,
           "Nolan Cooney",
           "PK"
          ],
          [
           0,
           "Daniel Whelan",
           "PK"
          ],
          [
           0,
           "Bryan Anger",
           "PK"
          ],
          [
           0,
           "Bradley Pinion",
           "PK"
          ],
          [
           0,
           "Daniel Whelan",
           "PK"
          ],
          [
           0,
           "Ryan Wright",
           "PK"
          ],
          [
           0,
           "Jordan Stout",
           "PK"
          ],
          [
           0,
           "Mitch Wishnowsky",
           "PK"
          ],
          [
           0,
           "Riley Dixon",
           "PK"
          ],
          [
           0,
           "Bryce Baringer",
           "PK"
          ],
          [
           0,
           "Trenton Gill",
           "PK"
          ],
          [
           0,
           "JK Scott",
           "PK"
          ],
          [
           0,
           "Jamie Gillan",
           "PK"
          ],
          [
           0,
           "Logan Cooke",
           "PK"
          ],
          [
           0,
           "AJ Cole",
           "PK"
          ],
          [
           0,
           "Pressley Harvin",
           "PK"
          ],
          [
           0,
           "Jake Camarda",
           "PK"
          ]
         ],
         "hovertemplate": "<b>%{hovertext}</b><br><br>Relative Value=%{y}<br>Predicted Points=%{customdata[0]}<extra></extra>",
         "hovertext": [
          "Daniel Carlson",
          "Evan McPherson",
          "Justin Tucker",
          "Chris Boswell",
          "Harrison Butker",
          "Riley Patterson",
          "Younghoe Koo",
          "Chad Ryland",
          "Jake Elliott",
          "Matt Prater",
          "Brandon Aubrey",
          "Jason Myers",
          "Greg Joseph",
          "Cameron Dicker",
          "Brandon McManus",
          "Jason Sanders",
          "Eddy Pineiro",
          "Greg Zuerlein",
          "Matt Gay",
          "Tyler Bass",
          "Chase McLaughlin",
          "Joey Slye",
          "Graham Gano",
          "Jake Moody",
          "Wil Lutz",
          "Nick Folk",
          "Dustin Hopkins",
          "Ka'imi Fairbairn",
          "Anders Carlson",
          "Cairo Santos",
          "Blake Grupe",
          "Michael Dickson",
          "Ethan Evans",
          "Tommy Townsend",
          "Rigoberto Sanchez",
          "Tress Way",
          "Brad Robbins",
          "Sam Martin",
          "Ryan Stonehouse",
          "Jack Fox",
          "Corey Bojorquez",
          "Jake Bailey",
          "Johnny Hekker",
          "Nolan Cooney",
          "Daniel Whelan",
          "Bryan Anger",
          "Bradley Pinion",
          "Daniel Whelan",
          "Ryan Wright",
          "Jordan Stout",
          "Mitch Wishnowsky",
          "Riley Dixon",
          "Bryce Baringer",
          "Trenton Gill",
          "JK Scott",
          "Jamie Gillan",
          "Logan Cooke",
          "AJ Cole",
          "Pressley Harvin",
          "Jake Camarda"
         ],
         "legendgroup": "PK",
         "marker": {
          "color": "#B3BF54",
          "pattern": {
           "shape": ""
          }
         },
         "name": "PK",
         "offsetgroup": "PK",
         "orientation": "v",
         "showlegend": true,
         "text": [
          "Daniel Carlson",
          "Evan McPherson",
          "Justin Tucker",
          "Chris Boswell",
          "Harrison Butker",
          "Riley Patterson",
          "Younghoe Koo",
          "Chad Ryland",
          "Jake Elliott",
          "Matt Prater",
          "Brandon Aubrey",
          "Jason Myers",
          "Greg Joseph",
          "Cameron Dicker",
          "Brandon McManus",
          "Jason Sanders",
          "Eddy Pineiro",
          "Greg Zuerlein",
          "Matt Gay",
          "Tyler Bass",
          "Chase McLaughlin",
          "Joey Slye",
          "Graham Gano",
          "Jake Moody",
          "Wil Lutz",
          "Nick Folk",
          "Dustin Hopkins",
          "Ka'imi Fairbairn",
          "Anders Carlson",
          "Cairo Santos",
          "Blake Grupe",
          "Michael Dickson",
          "Ethan Evans",
          "Tommy Townsend",
          "Rigoberto Sanchez",
          "Tress Way",
          "Brad Robbins",
          "Sam Martin",
          "Ryan Stonehouse",
          "Jack Fox",
          "Corey Bojorquez",
          "Jake Bailey",
          "Johnny Hekker",
          "Nolan Cooney",
          "Daniel Whelan",
          "Bryan Anger",
          "Bradley Pinion",
          "Daniel Whelan",
          "Ryan Wright",
          "Jordan Stout",
          "Mitch Wishnowsky",
          "Riley Dixon",
          "Bryce Baringer",
          "Trenton Gill",
          "JK Scott",
          "Jamie Gillan",
          "Logan Cooke",
          "AJ Cole",
          "Pressley Harvin",
          "Jake Camarda"
         ],
         "textposition": "inside",
         "type": "bar",
         "x": [
          "Pretty Big Wieners",
          "📜 Providence 🪬 Spirits 🥂",
          "GusTheBus",
          "Croccity Body Snatchers",
          "Count of Monte Christian",
          "Saskatoon Squatches ",
          "Croccity Body Snatchers",
          "Comeback 👑’s",
          "DangeRUSS Last Ride",
          null,
          "kevinbash",
          "Idk much about soccer ",
          "2014champ",
          "Croccity Body Snatchers",
          "Idk much about soccer ",
          "Saskatoon Squatches ",
          "Verdanks Vacqueros FFC",
          "Comeback 👑’s",
          "DangeRUSS Last Ride",
          "📜 Providence 🪬 Spirits 🥂",
          "Count of Monte Christian",
          "GusTheBus",
          "Saskatoon Squatches ",
          "Verdanks Vacqueros FFC",
          "2014champ",
          "Comeback 👑’s",
          "Croccity Body Snatchers",
          "Count of Monte Christian",
          "kevinbash",
          "Pretty Big Wieners",
          null,
          null,
          null,
          null,
          null,
          null,
          null,
          null,
          null,
          null,
          null,
          null,
          null,
          null,
          null,
          null,
          null,
          null,
          null,
          null,
          null,
          null,
          null,
          null,
          null,
          null,
          null,
          null,
          null,
          null
         ],
         "xaxis": "x",
         "y": [
          179.14999999999998,
          175.8,
          170.25,
          170.54999999999998,
          165.65,
          162.2,
          157.15,
          153.25,
          157.15,
          155.70000000000002,
          154.35,
          150.89999999999998,
          150.89999999999998,
          150.81999999999996,
          148.8,
          144.85,
          149.04999999999998,
          143.95,
          144.35,
          140.6,
          142.85,
          143.7,
          137.05,
          141.3,
          130.20000000000002,
          126.65,
          132.45,
          128.25,
          124.45,
          119.54,
          107.4,
          0,
          0,
          0,
          0,
          0,
          0,
          0,
          0,
          0,
          0,
          0,
          0,
          0,
          0,
          0,
          0,
          0,
          0,
          0,
          0,
          0,
          0,
          0,
          0,
          0,
          0,
          0,
          0,
          0
         ],
         "yaxis": "y"
        },
        {
         "alignmentgroup": "True",
         "customdata": [
          [
           151.08,
           "Travis Kelce",
           "TE"
          ],
          [
           159.95000000000002,
           "Mark Andrews",
           "TE"
          ],
          [
           154.065,
           "George Kittle",
           "TE"
          ],
          [
           122.825,
           "Juwan Johnson",
           "TE"
          ],
          [
           116.60500000000002,
           "Dawson Knox",
           "TE"
          ],
          [
           124.45000000000002,
           "Dallas Goedert",
           "TE"
          ],
          [
           125.60000000000001,
           "Taysom Hill",
           "TE"
          ],
          [
           111.205,
           "T.J. Hockenson",
           "TE"
          ],
          [
           108.465,
           "Dalton Schultz",
           "TE"
          ],
          [
           111.35000000000001,
           "Kyle Pitts",
           "TE"
          ],
          [
           96.65,
           "Evan Engram",
           "TE"
          ],
          [
           106.79,
           "David Njoku",
           "TE"
          ],
          [
           110.83,
           "Darren Waller",
           "TE"
          ],
          [
           103.73,
           "Pat Freiermuth",
           "TE"
          ],
          [
           94.225,
           "Sam LaPorta",
           "TE"
          ],
          [
           96.05000000000001,
           "Tyler Higbee",
           "TE"
          ],
          [
           99.175,
           "Cole Kmet",
           "TE"
          ],
          [
           90.015,
           "Chigoziem Okonkwo",
           "TE"
          ],
          [
           100.85,
           "Greg Dulcich",
           "TE"
          ],
          [
           93.27000000000001,
           "Gerald Everett",
           "TE"
          ],
          [
           83.97,
           "Noah Fant",
           "TE"
          ],
          [
           87.8,
           "Zach Ertz",
           "TE"
          ],
          [
           84.5,
           "Hunter Henry",
           "TE"
          ],
          [
           86.925,
           "Luke Schoonmaker",
           "TE"
          ],
          [
           77.168,
           "Austin Hooper",
           "TE"
          ],
          [
           78.33000000000001,
           "Jake Ferguson",
           "TE"
          ],
          [
           69.60000000000001,
           "Luke Musgrave",
           "TE"
          ],
          [
           73.771,
           "Tyler Conklin",
           "TE"
          ],
          [
           76.825,
           "Cade Otton",
           "TE"
          ],
          [
           40.876000000000005,
           "Noah Gray",
           "TE"
          ],
          [
           74.25,
           "Irv Smith",
           "TE"
          ],
          [
           68.80000000000001,
           "Isaiah Likely",
           "TE"
          ],
          [
           75.00500000000001,
           "Dalton Kincaid",
           "TE"
          ],
          [
           60.7,
           "Hayden Hurst",
           "TE"
          ],
          [
           67.45100000000001,
           "Durham Smythe",
           "TE"
          ],
          [
           62.035000000000004,
           "Logan Thomas",
           "TE"
          ],
          [
           57.875,
           "Foster Moreau",
           "TE"
          ],
          [
           53.25000000000001,
           "Teagan Quitoriano",
           "TE"
          ],
          [
           46.14,
           "C.J. Uzomah",
           "TE"
          ],
          [
           40.5,
           "Brock Wright",
           "TE"
          ],
          [
           38.050000000000004,
           "Mike Gesicki",
           "TE"
          ],
          [
           47.891,
           "Jonnu Smith",
           "TE"
          ],
          [
           48.760000000000005,
           "Will Dissly",
           "TE"
          ],
          [
           46.025,
           "Daniel Bellinger",
           "TE"
          ],
          [
           45.25,
           "Jordan Akins",
           "TE"
          ],
          [
           42.580000000000005,
           "Mo Alie-Cox",
           "TE"
          ],
          [
           35.78,
           "Trey McBride",
           "TE"
          ],
          [
           42.57,
           "John Bates",
           "TE"
          ],
          [
           42.375,
           "MyCole Pruitt",
           "TE"
          ],
          [
           40.095000000000006,
           "Robert Tonyan",
           "TE"
          ],
          [
           32.5,
           "Tommy Tremble",
           "TE"
          ],
          [
           37.76,
           "Colby Parkinson",
           "TE"
          ],
          [
           35.495000000000005,
           "Josiah Deguara",
           "TE"
          ],
          [
           32.163000000000004,
           "Trevon Wesco",
           "TE"
          ],
          [
           32.79,
           "Donald Parham",
           "TE"
          ],
          [
           31.900000000000002,
           "Kylen Granson",
           "TE"
          ],
          [
           31.125,
           "Ian Thomas",
           "TE"
          ],
          [
           31.315,
           "Ko Kieft",
           "TE"
          ],
          [
           30.84,
           "Brevin Jordan",
           "TE"
          ],
          [
           30.585,
           "Harrison Bryant",
           "TE"
          ],
          [
           33.2,
           "Jimmy Graham",
           "TE"
          ],
          [
           29.945,
           "Connor Heyward",
           "TE"
          ],
          [
           24.61,
           "Michael Mayer",
           "TE"
          ],
          [
           27.865000000000002,
           "Darnell Washington",
           "TE"
          ],
          [
           24.825000000000003,
           "Julian Hill",
           "TE"
          ],
          [
           24.869999999999997,
           "James Mitchell",
           "TE"
          ],
          [
           23.330000000000002,
           "Johnny Mundt",
           "TE"
          ],
          [
           19.02,
           "Blake Bell",
           "TE"
          ],
          [
           25.475000000000005,
           "Adam Trautman",
           "TE"
          ],
          [
           25.16,
           "Peyton Hendershot",
           "TE"
          ],
          [
           21.55,
           "Brycen Hopkins",
           "TE"
          ],
          [
           20.075,
           "Mitchell Wilcox",
           "TE"
          ],
          [
           19.900000000000002,
           "Tucker Kraft",
           "TE"
          ],
          [
           18.45,
           "Jack Stoll",
           "TE"
          ],
          [
           16.875,
           "Tre' McKitty",
           "TE"
          ],
          [
           18.15,
           "Luke Farrell",
           "TE"
          ],
          [
           16.150000000000002,
           "Josh Oliver",
           "TE"
          ],
          [
           15.620000000000001,
           "Marcedes Lewis",
           "TE"
          ],
          [
           11.25,
           "Drew Sample",
           "TE"
          ],
          [
           11.325000000000001,
           "Charlie Woerner",
           "TE"
          ],
          [
           10.025,
           "Geoff Swaim",
           "TE"
          ],
          [
           8.275,
           "Charlie Kolar",
           "TE"
          ],
          [
           8.965,
           "Albert Okwuegbunam",
           "TE"
          ],
          [
           4.125,
           "Quintin Morris",
           "TE"
          ],
          [
           5.7,
           "Brenton Strange",
           "TE"
          ],
          [
           4.651000000000001,
           "Chris Manhertz",
           "TE"
          ],
          [
           4.675000000000001,
           "Hunter Long",
           "TE"
          ],
          [
           4.95,
           "Josh Whyle",
           "TE"
          ],
          [
           3.35,
           "David Wells",
           "TE"
          ],
          [
           0.44500000000000006,
           "Will Mallory",
           "TE"
          ],
          [
           3.5725000000000002,
           "Jeremy Ruckert",
           "TE"
          ],
          [
           1.7300000000000002,
           "Grant Calcaterra",
           "TE"
          ],
          [
           0.185,
           "Ross Dwelley",
           "TE"
          ],
          [
           0.05,
           "Stone Smartt",
           "TE"
          ]
         ],
         "hovertemplate": "<b>%{hovertext}</b><br><br>Relative Value=%{y}<br>Predicted Points=%{customdata[0]}<extra></extra>",
         "hovertext": [
          "Travis Kelce",
          "Mark Andrews",
          "George Kittle",
          "Juwan Johnson",
          "Dawson Knox",
          "Dallas Goedert",
          "Taysom Hill",
          "T.J. Hockenson",
          "Dalton Schultz",
          "Kyle Pitts",
          "Evan Engram",
          "David Njoku",
          "Darren Waller",
          "Pat Freiermuth",
          "Sam LaPorta",
          "Tyler Higbee",
          "Cole Kmet",
          "Chigoziem Okonkwo",
          "Greg Dulcich",
          "Gerald Everett",
          "Noah Fant",
          "Zach Ertz",
          "Hunter Henry",
          "Luke Schoonmaker",
          "Austin Hooper",
          "Jake Ferguson",
          "Luke Musgrave",
          "Tyler Conklin",
          "Cade Otton",
          "Noah Gray",
          "Irv Smith",
          "Isaiah Likely",
          "Dalton Kincaid",
          "Hayden Hurst",
          "Durham Smythe",
          "Logan Thomas",
          "Foster Moreau",
          "Teagan Quitoriano",
          "C.J. Uzomah",
          "Brock Wright",
          "Mike Gesicki",
          "Jonnu Smith",
          "Will Dissly",
          "Daniel Bellinger",
          "Jordan Akins",
          "Mo Alie-Cox",
          "Trey McBride",
          "John Bates",
          "MyCole Pruitt",
          "Robert Tonyan",
          "Tommy Tremble",
          "Colby Parkinson",
          "Josiah Deguara",
          "Trevon Wesco",
          "Donald Parham",
          "Kylen Granson",
          "Ian Thomas",
          "Ko Kieft",
          "Brevin Jordan",
          "Harrison Bryant",
          "Jimmy Graham",
          "Connor Heyward",
          "Michael Mayer",
          "Darnell Washington",
          "Julian Hill",
          "James Mitchell",
          "Johnny Mundt",
          "Blake Bell",
          "Adam Trautman",
          "Peyton Hendershot",
          "Brycen Hopkins",
          "Mitchell Wilcox",
          "Tucker Kraft",
          "Jack Stoll",
          "Tre' McKitty",
          "Luke Farrell",
          "Josh Oliver",
          "Marcedes Lewis",
          "Drew Sample",
          "Charlie Woerner",
          "Geoff Swaim",
          "Charlie Kolar",
          "Albert Okwuegbunam",
          "Quintin Morris",
          "Brenton Strange",
          "Chris Manhertz",
          "Hunter Long",
          "Josh Whyle",
          "David Wells",
          "Will Mallory",
          "Jeremy Ruckert",
          "Grant Calcaterra",
          "Ross Dwelley",
          "Stone Smartt"
         ],
         "legendgroup": "TE",
         "marker": {
          "color": "#AEDFF2",
          "pattern": {
           "shape": ""
          }
         },
         "name": "TE",
         "offsetgroup": "TE",
         "orientation": "v",
         "showlegend": true,
         "text": [
          "Travis Kelce",
          "Mark Andrews",
          "George Kittle",
          "Juwan Johnson",
          "Dawson Knox",
          "Dallas Goedert",
          "Taysom Hill",
          "T.J. Hockenson",
          "Dalton Schultz",
          "Kyle Pitts",
          "Evan Engram",
          "David Njoku",
          "Darren Waller",
          "Pat Freiermuth",
          "Sam LaPorta",
          "Tyler Higbee",
          "Cole Kmet",
          "Chigoziem Okonkwo",
          "Greg Dulcich",
          "Gerald Everett",
          "Noah Fant",
          "Zach Ertz",
          "Hunter Henry",
          "Luke Schoonmaker",
          "Austin Hooper",
          "Jake Ferguson",
          "Luke Musgrave",
          "Tyler Conklin",
          "Cade Otton",
          "Noah Gray",
          "Irv Smith",
          "Isaiah Likely",
          "Dalton Kincaid",
          "Hayden Hurst",
          "Durham Smythe",
          "Logan Thomas",
          "Foster Moreau",
          "Teagan Quitoriano",
          "C.J. Uzomah",
          "Brock Wright",
          "Mike Gesicki",
          "Jonnu Smith",
          "Will Dissly",
          "Daniel Bellinger",
          "Jordan Akins",
          "Mo Alie-Cox",
          "Trey McBride",
          "John Bates",
          "MyCole Pruitt",
          "Robert Tonyan",
          "Tommy Tremble",
          "Colby Parkinson",
          "Josiah Deguara",
          "Trevon Wesco",
          "Donald Parham",
          "Kylen Granson",
          "Ian Thomas",
          "Ko Kieft",
          "Brevin Jordan",
          "Harrison Bryant",
          "Jimmy Graham",
          "Connor Heyward",
          "Michael Mayer",
          "Darnell Washington",
          "Julian Hill",
          "James Mitchell",
          "Johnny Mundt",
          "Blake Bell",
          "Adam Trautman",
          "Peyton Hendershot",
          "Brycen Hopkins",
          "Mitchell Wilcox",
          "Tucker Kraft",
          "Jack Stoll",
          "Tre' McKitty",
          "Luke Farrell",
          "Josh Oliver",
          "Marcedes Lewis",
          "Drew Sample",
          "Charlie Woerner",
          "Geoff Swaim",
          "Charlie Kolar",
          "Albert Okwuegbunam",
          "Quintin Morris",
          "Brenton Strange",
          "Chris Manhertz",
          "Hunter Long",
          "Josh Whyle",
          "David Wells",
          "Will Mallory",
          "Jeremy Ruckert",
          "Grant Calcaterra",
          "Ross Dwelley",
          "Stone Smartt"
         ],
         "textposition": "inside",
         "type": "bar",
         "x": [
          "Verdanks Vacqueros FFC",
          "Pretty Big Wieners",
          "DangeRUSS Last Ride",
          "GusTheBus",
          "Idk much about soccer ",
          "Saskatoon Squatches ",
          "2014champ",
          "Saskatoon Squatches ",
          "Comeback 👑’s",
          "📜 Providence 🪬 Spirits 🥂",
          "2014champ",
          "Verdanks Vacqueros FFC",
          "DangeRUSS Last Ride",
          "Saskatoon Squatches ",
          "kevinbash",
          "Croccity Body Snatchers",
          "Saskatoon Squatches ",
          "Pretty Big Wieners",
          "Croccity Body Snatchers",
          "DangeRUSS Last Ride",
          "GusTheBus",
          null,
          "Count of Monte Christian",
          "Count of Monte Christian",
          null,
          "DangeRUSS Last Ride",
          "2014champ",
          "Pretty Big Wieners",
          "Idk much about soccer ",
          "Count of Monte Christian",
          "📜 Providence 🪬 Spirits 🥂",
          "Saskatoon Squatches ",
          "Verdanks Vacqueros FFC",
          null,
          null,
          "GusTheBus",
          null,
          null,
          null,
          null,
          "Croccity Body Snatchers",
          null,
          null,
          "Croccity Body Snatchers",
          "Comeback 👑’s",
          null,
          "📜 Providence 🪬 Spirits 🥂",
          null,
          null,
          "Comeback 👑’s",
          null,
          null,
          null,
          null,
          null,
          "kevinbash",
          null,
          null,
          "Pretty Big Wieners",
          null,
          null,
          null,
          "GusTheBus",
          "Pretty Big Wieners",
          null,
          null,
          null,
          null,
          "kevinbash",
          null,
          null,
          null,
          "Saskatoon Squatches ",
          null,
          null,
          null,
          null,
          null,
          null,
          null,
          null,
          null,
          null,
          null,
          "GusTheBus",
          null,
          null,
          null,
          null,
          "GusTheBus",
          null,
          null,
          null,
          null
         ],
         "xaxis": "x",
         "y": [
          150.83749999999998,
          159.7025,
          153.92,
          122.5775,
          116.35750000000002,
          124.20250000000001,
          125.3525,
          110.9575,
          108.2175,
          111.1025,
          96.50500000000001,
          106.5425,
          110.5825,
          103.48250000000002,
          94.08,
          95.80250000000001,
          98.9275,
          89.76750000000001,
          100.705,
          93.02250000000001,
          83.7225,
          87.55250000000001,
          84.25250000000001,
          86.67750000000001,
          76.9205,
          78.08250000000001,
          69.3525,
          73.52350000000001,
          76.5775,
          40.6285,
          74.0025,
          68.55250000000001,
          74.75750000000001,
          60.45250000000001,
          67.2035,
          61.78750000000001,
          57.627500000000005,
          53.002500000000005,
          45.892500000000005,
          40.355000000000004,
          37.8025,
          47.6435,
          48.5125,
          45.7775,
          45.002500000000005,
          42.3325,
          35.532500000000006,
          42.322500000000005,
          42.127500000000005,
          39.847500000000004,
          32.252500000000005,
          37.5125,
          35.2475,
          31.9155,
          32.542500000000004,
          31.652500000000003,
          30.8775,
          31.067500000000003,
          30.5925,
          30.337500000000006,
          32.95250000000001,
          29.697500000000005,
          24.362500000000004,
          27.617500000000003,
          24.577500000000004,
          24.725,
          23.082500000000003,
          18.7725,
          25.330000000000005,
          24.9125,
          21.302500000000002,
          19.8275,
          19.652500000000003,
          18.2025,
          16.6275,
          18.005000000000003,
          15.902500000000002,
          15.372500000000002,
          11.0025,
          11.18,
          9.7775,
          8.0275,
          8.717500000000001,
          3.8775,
          5.555000000000001,
          4.506,
          4.4325,
          4.702500000000001,
          3.1025,
          0.36000000000000004,
          3.325,
          1.4825000000000002,
          0.039999999999999994,
          0.034999999999999996
         ],
         "yaxis": "y"
        },
        {
         "mode": "text",
         "showlegend": false,
         "text": [
          3323,
          3224,
          3429,
          4098,
          3196,
          3168,
          2903,
          3828,
          3782,
          3418,
          3489,
          3428
         ],
         "textfont": {
          "size": 12
         },
         "textposition": "top center",
         "type": "scatter",
         "x": [
          "2014champ",
          "Comeback 👑’s",
          "Count of Monte Christian",
          "Croccity Body Snatchers",
          "DangeRUSS Last Ride",
          "GusTheBus",
          "Idk much about soccer ",
          "Pretty Big Wieners",
          "Saskatoon Squatches ",
          "Verdanks Vacqueros FFC",
          "kevinbash",
          "📜 Providence 🪬 Spirits 🥂"
         ],
         "y": [
          3323,
          3224,
          3429,
          4098,
          3196,
          3168,
          2903,
          3828,
          3782,
          3418,
          3489,
          3428
         ]
        }
       ],
       "layout": {
        "barmode": "stack",
        "font": {
         "family": "Input Serif"
        },
        "legend": {
         "title": {
          "text": "position"
         },
         "tracegroupgap": 0
        },
        "margin": {
         "t": 60
        },
        "plot_bgcolor": "rgba(0,0,0,0)",
        "showlegend": false,
        "template": {
         "data": {
          "bar": [
           {
            "error_x": {
             "color": "#2a3f5f"
            },
            "error_y": {
             "color": "#2a3f5f"
            },
            "marker": {
             "line": {
              "color": "#E5ECF6",
              "width": 0.5
             },
             "pattern": {
              "fillmode": "overlay",
              "size": 10,
              "solidity": 0.2
             }
            },
            "type": "bar"
           }
          ],
          "barpolar": [
           {
            "marker": {
             "line": {
              "color": "#E5ECF6",
              "width": 0.5
             },
             "pattern": {
              "fillmode": "overlay",
              "size": 10,
              "solidity": 0.2
             }
            },
            "type": "barpolar"
           }
          ],
          "carpet": [
           {
            "aaxis": {
             "endlinecolor": "#2a3f5f",
             "gridcolor": "white",
             "linecolor": "white",
             "minorgridcolor": "white",
             "startlinecolor": "#2a3f5f"
            },
            "baxis": {
             "endlinecolor": "#2a3f5f",
             "gridcolor": "white",
             "linecolor": "white",
             "minorgridcolor": "white",
             "startlinecolor": "#2a3f5f"
            },
            "type": "carpet"
           }
          ],
          "choropleth": [
           {
            "colorbar": {
             "outlinewidth": 0,
             "ticks": ""
            },
            "type": "choropleth"
           }
          ],
          "contour": [
           {
            "colorbar": {
             "outlinewidth": 0,
             "ticks": ""
            },
            "colorscale": [
             [
              0,
              "#0d0887"
             ],
             [
              0.1111111111111111,
              "#46039f"
             ],
             [
              0.2222222222222222,
              "#7201a8"
             ],
             [
              0.3333333333333333,
              "#9c179e"
             ],
             [
              0.4444444444444444,
              "#bd3786"
             ],
             [
              0.5555555555555556,
              "#d8576b"
             ],
             [
              0.6666666666666666,
              "#ed7953"
             ],
             [
              0.7777777777777778,
              "#fb9f3a"
             ],
             [
              0.8888888888888888,
              "#fdca26"
             ],
             [
              1,
              "#f0f921"
             ]
            ],
            "type": "contour"
           }
          ],
          "contourcarpet": [
           {
            "colorbar": {
             "outlinewidth": 0,
             "ticks": ""
            },
            "type": "contourcarpet"
           }
          ],
          "heatmap": [
           {
            "colorbar": {
             "outlinewidth": 0,
             "ticks": ""
            },
            "colorscale": [
             [
              0,
              "#0d0887"
             ],
             [
              0.1111111111111111,
              "#46039f"
             ],
             [
              0.2222222222222222,
              "#7201a8"
             ],
             [
              0.3333333333333333,
              "#9c179e"
             ],
             [
              0.4444444444444444,
              "#bd3786"
             ],
             [
              0.5555555555555556,
              "#d8576b"
             ],
             [
              0.6666666666666666,
              "#ed7953"
             ],
             [
              0.7777777777777778,
              "#fb9f3a"
             ],
             [
              0.8888888888888888,
              "#fdca26"
             ],
             [
              1,
              "#f0f921"
             ]
            ],
            "type": "heatmap"
           }
          ],
          "heatmapgl": [
           {
            "colorbar": {
             "outlinewidth": 0,
             "ticks": ""
            },
            "colorscale": [
             [
              0,
              "#0d0887"
             ],
             [
              0.1111111111111111,
              "#46039f"
             ],
             [
              0.2222222222222222,
              "#7201a8"
             ],
             [
              0.3333333333333333,
              "#9c179e"
             ],
             [
              0.4444444444444444,
              "#bd3786"
             ],
             [
              0.5555555555555556,
              "#d8576b"
             ],
             [
              0.6666666666666666,
              "#ed7953"
             ],
             [
              0.7777777777777778,
              "#fb9f3a"
             ],
             [
              0.8888888888888888,
              "#fdca26"
             ],
             [
              1,
              "#f0f921"
             ]
            ],
            "type": "heatmapgl"
           }
          ],
          "histogram": [
           {
            "marker": {
             "pattern": {
              "fillmode": "overlay",
              "size": 10,
              "solidity": 0.2
             }
            },
            "type": "histogram"
           }
          ],
          "histogram2d": [
           {
            "colorbar": {
             "outlinewidth": 0,
             "ticks": ""
            },
            "colorscale": [
             [
              0,
              "#0d0887"
             ],
             [
              0.1111111111111111,
              "#46039f"
             ],
             [
              0.2222222222222222,
              "#7201a8"
             ],
             [
              0.3333333333333333,
              "#9c179e"
             ],
             [
              0.4444444444444444,
              "#bd3786"
             ],
             [
              0.5555555555555556,
              "#d8576b"
             ],
             [
              0.6666666666666666,
              "#ed7953"
             ],
             [
              0.7777777777777778,
              "#fb9f3a"
             ],
             [
              0.8888888888888888,
              "#fdca26"
             ],
             [
              1,
              "#f0f921"
             ]
            ],
            "type": "histogram2d"
           }
          ],
          "histogram2dcontour": [
           {
            "colorbar": {
             "outlinewidth": 0,
             "ticks": ""
            },
            "colorscale": [
             [
              0,
              "#0d0887"
             ],
             [
              0.1111111111111111,
              "#46039f"
             ],
             [
              0.2222222222222222,
              "#7201a8"
             ],
             [
              0.3333333333333333,
              "#9c179e"
             ],
             [
              0.4444444444444444,
              "#bd3786"
             ],
             [
              0.5555555555555556,
              "#d8576b"
             ],
             [
              0.6666666666666666,
              "#ed7953"
             ],
             [
              0.7777777777777778,
              "#fb9f3a"
             ],
             [
              0.8888888888888888,
              "#fdca26"
             ],
             [
              1,
              "#f0f921"
             ]
            ],
            "type": "histogram2dcontour"
           }
          ],
          "mesh3d": [
           {
            "colorbar": {
             "outlinewidth": 0,
             "ticks": ""
            },
            "type": "mesh3d"
           }
          ],
          "parcoords": [
           {
            "line": {
             "colorbar": {
              "outlinewidth": 0,
              "ticks": ""
             }
            },
            "type": "parcoords"
           }
          ],
          "pie": [
           {
            "automargin": true,
            "type": "pie"
           }
          ],
          "scatter": [
           {
            "fillpattern": {
             "fillmode": "overlay",
             "size": 10,
             "solidity": 0.2
            },
            "type": "scatter"
           }
          ],
          "scatter3d": [
           {
            "line": {
             "colorbar": {
              "outlinewidth": 0,
              "ticks": ""
             }
            },
            "marker": {
             "colorbar": {
              "outlinewidth": 0,
              "ticks": ""
             }
            },
            "type": "scatter3d"
           }
          ],
          "scattercarpet": [
           {
            "marker": {
             "colorbar": {
              "outlinewidth": 0,
              "ticks": ""
             }
            },
            "type": "scattercarpet"
           }
          ],
          "scattergeo": [
           {
            "marker": {
             "colorbar": {
              "outlinewidth": 0,
              "ticks": ""
             }
            },
            "type": "scattergeo"
           }
          ],
          "scattergl": [
           {
            "marker": {
             "colorbar": {
              "outlinewidth": 0,
              "ticks": ""
             }
            },
            "type": "scattergl"
           }
          ],
          "scattermapbox": [
           {
            "marker": {
             "colorbar": {
              "outlinewidth": 0,
              "ticks": ""
             }
            },
            "type": "scattermapbox"
           }
          ],
          "scatterpolar": [
           {
            "marker": {
             "colorbar": {
              "outlinewidth": 0,
              "ticks": ""
             }
            },
            "type": "scatterpolar"
           }
          ],
          "scatterpolargl": [
           {
            "marker": {
             "colorbar": {
              "outlinewidth": 0,
              "ticks": ""
             }
            },
            "type": "scatterpolargl"
           }
          ],
          "scatterternary": [
           {
            "marker": {
             "colorbar": {
              "outlinewidth": 0,
              "ticks": ""
             }
            },
            "type": "scatterternary"
           }
          ],
          "surface": [
           {
            "colorbar": {
             "outlinewidth": 0,
             "ticks": ""
            },
            "colorscale": [
             [
              0,
              "#0d0887"
             ],
             [
              0.1111111111111111,
              "#46039f"
             ],
             [
              0.2222222222222222,
              "#7201a8"
             ],
             [
              0.3333333333333333,
              "#9c179e"
             ],
             [
              0.4444444444444444,
              "#bd3786"
             ],
             [
              0.5555555555555556,
              "#d8576b"
             ],
             [
              0.6666666666666666,
              "#ed7953"
             ],
             [
              0.7777777777777778,
              "#fb9f3a"
             ],
             [
              0.8888888888888888,
              "#fdca26"
             ],
             [
              1,
              "#f0f921"
             ]
            ],
            "type": "surface"
           }
          ],
          "table": [
           {
            "cells": {
             "fill": {
              "color": "#EBF0F8"
             },
             "line": {
              "color": "white"
             }
            },
            "header": {
             "fill": {
              "color": "#C8D4E3"
             },
             "line": {
              "color": "white"
             }
            },
            "type": "table"
           }
          ]
         },
         "layout": {
          "annotationdefaults": {
           "arrowcolor": "#2a3f5f",
           "arrowhead": 0,
           "arrowwidth": 1
          },
          "autotypenumbers": "strict",
          "coloraxis": {
           "colorbar": {
            "outlinewidth": 0,
            "ticks": ""
           }
          },
          "colorscale": {
           "diverging": [
            [
             0,
             "#8e0152"
            ],
            [
             0.1,
             "#c51b7d"
            ],
            [
             0.2,
             "#de77ae"
            ],
            [
             0.3,
             "#f1b6da"
            ],
            [
             0.4,
             "#fde0ef"
            ],
            [
             0.5,
             "#f7f7f7"
            ],
            [
             0.6,
             "#e6f5d0"
            ],
            [
             0.7,
             "#b8e186"
            ],
            [
             0.8,
             "#7fbc41"
            ],
            [
             0.9,
             "#4d9221"
            ],
            [
             1,
             "#276419"
            ]
           ],
           "sequential": [
            [
             0,
             "#0d0887"
            ],
            [
             0.1111111111111111,
             "#46039f"
            ],
            [
             0.2222222222222222,
             "#7201a8"
            ],
            [
             0.3333333333333333,
             "#9c179e"
            ],
            [
             0.4444444444444444,
             "#bd3786"
            ],
            [
             0.5555555555555556,
             "#d8576b"
            ],
            [
             0.6666666666666666,
             "#ed7953"
            ],
            [
             0.7777777777777778,
             "#fb9f3a"
            ],
            [
             0.8888888888888888,
             "#fdca26"
            ],
            [
             1,
             "#f0f921"
            ]
           ],
           "sequentialminus": [
            [
             0,
             "#0d0887"
            ],
            [
             0.1111111111111111,
             "#46039f"
            ],
            [
             0.2222222222222222,
             "#7201a8"
            ],
            [
             0.3333333333333333,
             "#9c179e"
            ],
            [
             0.4444444444444444,
             "#bd3786"
            ],
            [
             0.5555555555555556,
             "#d8576b"
            ],
            [
             0.6666666666666666,
             "#ed7953"
            ],
            [
             0.7777777777777778,
             "#fb9f3a"
            ],
            [
             0.8888888888888888,
             "#fdca26"
            ],
            [
             1,
             "#f0f921"
            ]
           ]
          },
          "colorway": [
           "#636efa",
           "#EF553B",
           "#00cc96",
           "#ab63fa",
           "#FFA15A",
           "#19d3f3",
           "#FF6692",
           "#B6E880",
           "#FF97FF",
           "#FECB52"
          ],
          "font": {
           "color": "#2a3f5f"
          },
          "geo": {
           "bgcolor": "white",
           "lakecolor": "white",
           "landcolor": "#E5ECF6",
           "showlakes": true,
           "showland": true,
           "subunitcolor": "white"
          },
          "hoverlabel": {
           "align": "left"
          },
          "hovermode": "closest",
          "mapbox": {
           "style": "light"
          },
          "paper_bgcolor": "white",
          "plot_bgcolor": "#E5ECF6",
          "polar": {
           "angularaxis": {
            "gridcolor": "white",
            "linecolor": "white",
            "ticks": ""
           },
           "bgcolor": "#E5ECF6",
           "radialaxis": {
            "gridcolor": "white",
            "linecolor": "white",
            "ticks": ""
           }
          },
          "scene": {
           "xaxis": {
            "backgroundcolor": "#E5ECF6",
            "gridcolor": "white",
            "gridwidth": 2,
            "linecolor": "white",
            "showbackground": true,
            "ticks": "",
            "zerolinecolor": "white"
           },
           "yaxis": {
            "backgroundcolor": "#E5ECF6",
            "gridcolor": "white",
            "gridwidth": 2,
            "linecolor": "white",
            "showbackground": true,
            "ticks": "",
            "zerolinecolor": "white"
           },
           "zaxis": {
            "backgroundcolor": "#E5ECF6",
            "gridcolor": "white",
            "gridwidth": 2,
            "linecolor": "white",
            "showbackground": true,
            "ticks": "",
            "zerolinecolor": "white"
           }
          },
          "shapedefaults": {
           "line": {
            "color": "#2a3f5f"
           }
          },
          "ternary": {
           "aaxis": {
            "gridcolor": "white",
            "linecolor": "white",
            "ticks": ""
           },
           "baxis": {
            "gridcolor": "white",
            "linecolor": "white",
            "ticks": ""
           },
           "bgcolor": "#E5ECF6",
           "caxis": {
            "gridcolor": "white",
            "linecolor": "white",
            "ticks": ""
           }
          },
          "title": {
           "x": 0.05
          },
          "xaxis": {
           "automargin": true,
           "gridcolor": "white",
           "linecolor": "white",
           "ticks": "",
           "title": {
            "standoff": 15
           },
           "zerolinecolor": "white",
           "zerolinewidth": 2
          },
          "yaxis": {
           "automargin": true,
           "gridcolor": "white",
           "linecolor": "white",
           "ticks": "",
           "title": {
            "standoff": 15
           },
           "zerolinecolor": "white",
           "zerolinewidth": 2
          }
         }
        },
        "title": {
         "text": "Franchise Comparison"
        },
        "xaxis": {
         "anchor": "y",
         "categoryorder": "total descending",
         "domain": [
          0,
          1
         ],
         "title": {}
        },
        "yaxis": {
         "anchor": "x",
         "domain": [
          0,
          1
         ],
         "title": {
          "text": "Relative Value"
         },
         "visible": false
        }
       }
      }
     },
     "metadata": {},
     "output_type": "display_data"
    }
   ],
   "source": [
    "# Summative report\n",
    "player_sums = full.copy()\n",
    "# Filter\n",
    "player_sums.loc[(player_sums['starters'].notna())&(player_sums['franchise_name'].notna())]\n",
    "# Calculate relative points for each position in each week\n",
    "player_sums = getRelProjs(player_sums)\n",
    "# Sum points across the season\n",
    "player_sums = getSeasonTotals(player_sums)\n",
    "\n",
    "# Visualize\n",
    "fig = compareFranchises(player_sums, how='relative')\n",
    "fig.show()"
   ]
  },
  {
   "cell_type": "code",
   "execution_count": 15,
   "metadata": {},
   "outputs": [
    {
     "data": {
      "application/vnd.plotly.v1+json": {
       "config": {
        "plotlyServerURL": "https://plot.ly"
       },
       "data": [
        {
         "alignmentgroup": "True",
         "customdata": [
          [
           387.481,
           "Josh Allen",
           "QB"
          ],
          [
           381.56399999999996,
           "Patrick Mahomes",
           "QB"
          ],
          [
           374.11400000000003,
           "Jalen Hurts",
           "QB"
          ],
          [
           296.758,
           "Joe Burrow",
           "QB"
          ],
          [
           277.77099999999996,
           "Kirk Cousins",
           "QB"
          ],
          [
           299.28000000000003,
           "Justin Herbert",
           "QB"
          ],
          [
           272.011,
           "Lamar Jackson",
           "QB"
          ],
          [
           280.27000000000004,
           "Geno Smith",
           "QB"
          ],
          [
           271.418,
           "Dak Prescott",
           "QB"
          ],
          [
           283.091,
           "Justin Fields",
           "QB"
          ],
          [
           259.424,
           "Tua Tagovailoa",
           "QB"
          ],
          [
           241.296,
           "Jared Goff",
           "QB"
          ],
          [
           252.77100000000002,
           "Jimmy Garoppolo",
           "QB"
          ],
          [
           239.14600000000002,
           "Trevor Lawrence",
           "QB"
          ],
          [
           225.36800000000002,
           "Ryan Tannehill",
           "QB"
          ],
          [
           218.11,
           "Baker Mayfield",
           "QB"
          ],
          [
           230.81400000000002,
           "Matthew Stafford",
           "QB"
          ],
          [
           238.78100000000003,
           "Derek Carr",
           "QB"
          ],
          [
           233.13600000000002,
           "Jordan Love",
           "QB"
          ],
          [
           242.906,
           "Brock Purdy",
           "QB"
          ],
          [
           227.57000000000002,
           "Deshaun Watson",
           "QB"
          ],
          [
           245.64100000000002,
           "Daniel Jones",
           "QB"
          ],
          [
           225.846,
           "Sam Howell",
           "QB"
          ],
          [
           215.428,
           "Aaron Rodgers",
           "QB"
          ],
          [
           217.531,
           "Mac Jones",
           "QB"
          ],
          [
           218.776,
           "Russell Wilson",
           "QB"
          ],
          [
           198.26100000000002,
           "Anthony Richardson",
           "QB"
          ],
          [
           209.661,
           "Desmond Ridder",
           "QB"
          ],
          [
           205.608,
           "Bryce Young",
           "QB"
          ],
          [
           201.566,
           "Kenny Pickett",
           "QB"
          ],
          [
           185.40800000000002,
           "C.J. Stroud",
           "QB"
          ],
          [
           123.328,
           "Kyler Murray",
           "QB"
          ],
          [
           16.176,
           "Joshua Dobbs",
           "QB"
          ],
          [
           92.251,
           "Tyler Huntley",
           "QB"
          ],
          [
           84.028,
           "Davis Mills",
           "QB"
          ],
          [
           66.066,
           "Mitch Trubisky",
           "QB"
          ],
          [
           69.793,
           "Trey Lance",
           "QB"
          ],
          [
           56.428000000000004,
           "Andy Dalton",
           "QB"
          ],
          [
           49.176,
           "Teddy Bridgewater",
           "QB"
          ],
          [
           48.928000000000004,
           "Zach Wilson",
           "QB"
          ],
          [
           52.284000000000006,
           "Marcus Mariota",
           "QB"
          ],
          [
           43.561,
           "Jameis Winston",
           "QB"
          ],
          [
           38.940999999999995,
           "Taylor Heinicke",
           "QB"
          ],
          [
           28.584000000000003,
           "Mike White",
           "QB"
          ],
          [
           29.501000000000005,
           "Tyrod Taylor",
           "QB"
          ],
          [
           24.531000000000002,
           "Nick Mullens",
           "QB"
          ],
          [
           19.618000000000002,
           "Cooper Rush",
           "QB"
          ],
          [
           18.766000000000002,
           "Jacoby Brissett",
           "QB"
          ],
          [
           17.926000000000002,
           "Sam Darnold",
           "QB"
          ],
          [
           9.546,
           "Sean Clifford",
           "QB"
          ],
          [
           7.756000000000001,
           "Kyle Allen",
           "QB"
          ],
          [
           7.761000000000001,
           "Sam Ehlinger",
           "QB"
          ],
          [
           7.266000000000001,
           "Jarrett Stidham",
           "QB"
          ],
          [
           4.939000000000001,
           "Easton Stick",
           "QB"
          ],
          [
           5.861000000000001,
           "Brian Hoyer",
           "QB"
          ],
          [
           6.198,
           "Malik Willis",
           "QB"
          ],
          [
           4.204000000000001,
           "Stetson Bennett",
           "QB"
          ],
          [
           4.732,
           "Kyle Trask",
           "QB"
          ],
          [
           4.621,
           "Gardner Minshew",
           "QB"
          ],
          [
           4.908,
           "Blaine Gabbert",
           "QB"
          ],
          [
           2.7800000000000002,
           "Dorian Thompson-Robinson",
           "QB"
          ],
          [
           3.439,
           "Drew Lock",
           "QB"
          ],
          [
           3.628,
           "Mason Rudolph",
           "QB"
          ],
          [
           0.3059999999999998,
           "C.J. Beathard",
           "QB"
          ],
          [
           1.8700000000000006,
           "Jake Browning",
           "QB"
          ],
          [
           2.0130000000000003,
           "Brandon Allen",
           "QB"
          ],
          [
           1.7900000000000005,
           "Case Keenum",
           "QB"
          ],
          [
           1.7910000000000004,
           "Logan Woodside",
           "QB"
          ]
         ],
         "hovertemplate": "<b>%{hovertext}</b><br><br>Predicted Points=%{y}<br>Relative Value=%{customdata[0]}<extra></extra>",
         "hovertext": [
          "Josh Allen",
          "Patrick Mahomes",
          "Jalen Hurts",
          "Joe Burrow",
          "Kirk Cousins",
          "Justin Herbert",
          "Lamar Jackson",
          "Geno Smith",
          "Dak Prescott",
          "Justin Fields",
          "Tua Tagovailoa",
          "Jared Goff",
          "Jimmy Garoppolo",
          "Trevor Lawrence",
          "Ryan Tannehill",
          "Baker Mayfield",
          "Matthew Stafford",
          "Derek Carr",
          "Jordan Love",
          "Brock Purdy",
          "Deshaun Watson",
          "Daniel Jones",
          "Sam Howell",
          "Aaron Rodgers",
          "Mac Jones",
          "Russell Wilson",
          "Anthony Richardson",
          "Desmond Ridder",
          "Bryce Young",
          "Kenny Pickett",
          "C.J. Stroud",
          "Kyler Murray",
          "Joshua Dobbs",
          "Tyler Huntley",
          "Davis Mills",
          "Mitch Trubisky",
          "Trey Lance",
          "Andy Dalton",
          "Teddy Bridgewater",
          "Zach Wilson",
          "Marcus Mariota",
          "Jameis Winston",
          "Taylor Heinicke",
          "Mike White",
          "Tyrod Taylor",
          "Nick Mullens",
          "Cooper Rush",
          "Jacoby Brissett",
          "Sam Darnold",
          "Sean Clifford",
          "Kyle Allen",
          "Sam Ehlinger",
          "Jarrett Stidham",
          "Easton Stick",
          "Brian Hoyer",
          "Malik Willis",
          "Stetson Bennett",
          "Kyle Trask",
          "Gardner Minshew",
          "Blaine Gabbert",
          "Dorian Thompson-Robinson",
          "Drew Lock",
          "Mason Rudolph",
          "C.J. Beathard",
          "Jake Browning",
          "Brandon Allen",
          "Case Keenum",
          "Logan Woodside"
         ],
         "legendgroup": "QB",
         "marker": {
          "color": "#591D73",
          "pattern": {
           "shape": ""
          }
         },
         "name": "QB",
         "offsetgroup": "QB",
         "orientation": "v",
         "showlegend": true,
         "text": [
          "Josh Allen",
          "Patrick Mahomes",
          "Jalen Hurts",
          "Joe Burrow",
          "Kirk Cousins",
          "Justin Herbert",
          "Lamar Jackson",
          "Geno Smith",
          "Dak Prescott",
          "Justin Fields",
          "Tua Tagovailoa",
          "Jared Goff",
          "Jimmy Garoppolo",
          "Trevor Lawrence",
          "Ryan Tannehill",
          "Baker Mayfield",
          "Matthew Stafford",
          "Derek Carr",
          "Jordan Love",
          "Brock Purdy",
          "Deshaun Watson",
          "Daniel Jones",
          "Sam Howell",
          "Aaron Rodgers",
          "Mac Jones",
          "Russell Wilson",
          "Anthony Richardson",
          "Desmond Ridder",
          "Bryce Young",
          "Kenny Pickett",
          "C.J. Stroud",
          "Kyler Murray",
          "Joshua Dobbs",
          "Tyler Huntley",
          "Davis Mills",
          "Mitch Trubisky",
          "Trey Lance",
          "Andy Dalton",
          "Teddy Bridgewater",
          "Zach Wilson",
          "Marcus Mariota",
          "Jameis Winston",
          "Taylor Heinicke",
          "Mike White",
          "Tyrod Taylor",
          "Nick Mullens",
          "Cooper Rush",
          "Jacoby Brissett",
          "Sam Darnold",
          "Sean Clifford",
          "Kyle Allen",
          "Sam Ehlinger",
          "Jarrett Stidham",
          "Easton Stick",
          "Brian Hoyer",
          "Malik Willis",
          "Stetson Bennett",
          "Kyle Trask",
          "Gardner Minshew",
          "Blaine Gabbert",
          "Dorian Thompson-Robinson",
          "Drew Lock",
          "Mason Rudolph",
          "C.J. Beathard",
          "Jake Browning",
          "Brandon Allen",
          "Case Keenum",
          "Logan Woodside"
         ],
         "textposition": "inside",
         "type": "bar",
         "x": [
          "Comeback 👑’s",
          "Saskatoon Squatches ",
          "Croccity Body Snatchers",
          "Verdanks Vacqueros FFC",
          "2014champ",
          "kevinbash",
          "GusTheBus",
          "DangeRUSS Last Ride",
          "📜 Providence 🪬 Spirits 🥂",
          "Idk much about soccer ",
          "Verdanks Vacqueros FFC",
          "Verdanks Vacqueros FFC",
          "Idk much about soccer ",
          "2014champ",
          "kevinbash",
          "Count of Monte Christian",
          "Comeback 👑’s",
          "Count of Monte Christian",
          "📜 Providence 🪬 Spirits 🥂",
          "Croccity Body Snatchers",
          "Pretty Big Wieners",
          "Comeback 👑’s",
          "kevinbash",
          "Pretty Big Wieners",
          "Pretty Big Wieners",
          "DangeRUSS Last Ride",
          "kevinbash",
          "GusTheBus",
          "Idk much about soccer ",
          "GusTheBus",
          "Pretty Big Wieners",
          "Croccity Body Snatchers",
          "DangeRUSS Last Ride",
          null,
          null,
          null,
          "DangeRUSS Last Ride",
          null,
          null,
          "📜 Providence 🪬 Spirits 🥂",
          null,
          null,
          null,
          "2014champ",
          null,
          null,
          null,
          null,
          "Count of Monte Christian",
          null,
          null,
          null,
          null,
          null,
          null,
          null,
          "Count of Monte Christian",
          null,
          null,
          null,
          "DangeRUSS Last Ride",
          null,
          null,
          null,
          null,
          null,
          null,
          null
         ],
         "xaxis": "x",
         "y": [
          385.69,
          379.77,
          372.32000000000005,
          294.97,
          275.97999999999996,
          297.49,
          270.22,
          278.48,
          269.63,
          281.3,
          257.63,
          239.33,
          250.98000000000002,
          237.18,
          223.58,
          216.32000000000002,
          229.02,
          236.99000000000004,
          231.17000000000002,
          240.94,
          225.78,
          243.85000000000002,
          224.09,
          213.64,
          215.74,
          216.81000000000003,
          196.47,
          207.87,
          203.82,
          199.6,
          183.62,
          122.1,
          14.42,
          90.46,
          82.24000000000001,
          64.10000000000001,
          68.005,
          54.64,
          47.21,
          47.14,
          50.49,
          41.77,
          37.15,
          26.79,
          27.71,
          22.740000000000002,
          17.830000000000002,
          17.01,
          15.96,
          7.58,
          5.965000000000001,
          5.970000000000001,
          5.3,
          3.1490000000000005,
          4.07,
          4.41,
          2.41,
          2.942,
          2.83,
          3.1140000000000003,
          0.99,
          1.649,
          1.662,
          -1.6600000000000006,
          0.08200000000000005,
          0.04700000000000001,
          0.002,
          0
         ],
         "yaxis": "y"
        },
        {
         "alignmentgroup": "True",
         "customdata": [
          [
           278.209,
           "Austin Ekeler",
           "RB"
          ],
          [
           272.116,
           "Derrick Henry",
           "RB"
          ],
          [
           259.90900000000005,
           "Christian McCaffrey",
           "RB"
          ],
          [
           246.779,
           "Josh Jacobs",
           "RB"
          ],
          [
           247.84900000000002,
           "Nick Chubb",
           "RB"
          ],
          [
           234.769,
           "James Conner",
           "RB"
          ],
          [
           229.64600000000002,
           "Joe Mixon",
           "RB"
          ],
          [
           219.99900000000002,
           "Kenneth Walker",
           "RB"
          ],
          [
           206.401,
           "Miles Sanders",
           "RB"
          ],
          [
           223.05200000000002,
           "Najee Harris",
           "RB"
          ],
          [
           221.364,
           "Antonio Gibson",
           "RB"
          ],
          [
           219.196,
           "Tony Pollard",
           "RB"
          ],
          [
           211.02200000000002,
           "Rhamondre Stevenson",
           "RB"
          ],
          [
           204.95600000000002,
           "Isiah Pacheco",
           "RB"
          ],
          [
           161.687,
           "Bijan Robinson",
           "RB"
          ],
          [
           174.97400000000002,
           "Travis Etienne",
           "RB"
          ],
          [
           174.83400000000003,
           "J.K. Dobbins",
           "RB"
          ],
          [
           201.71400000000003,
           "Khalil Herbert",
           "RB"
          ],
          [
           202.984,
           "Saquon Barkley",
           "RB"
          ],
          [
           198.00900000000001,
           "David Montgomery",
           "RB"
          ],
          [
           191.977,
           "Aaron Jones",
           "RB"
          ],
          [
           190.746,
           "Dameon Pierce",
           "RB"
          ],
          [
           183.08900000000003,
           "Brian Robinson",
           "RB"
          ],
          [
           170.894,
           "Rachaad White",
           "RB"
          ],
          [
           178.604,
           "Alexander Mattison",
           "RB"
          ],
          [
           175.28900000000002,
           "Javonte Williams",
           "RB"
          ],
          [
           174.311,
           "D'Andre Swift",
           "RB"
          ],
          [
           184.12100000000004,
           "Raheem Mostert",
           "RB"
          ],
          [
           165.931,
           "Cam Akers",
           "RB"
          ],
          [
           178.457,
           "Cordarrelle Patterson",
           "RB"
          ],
          [
           189.67400000000004,
           "Zamir White",
           "RB"
          ],
          [
           163.812,
           "AJ Dillon",
           "RB"
          ],
          [
           169.67600000000002,
           "Breece Hall",
           "RB"
          ],
          [
           153.842,
           "Jamaal Williams",
           "RB"
          ],
          [
           168.122,
           "Ezekiel Elliott",
           "RB"
          ],
          [
           160.929,
           "James Cook",
           "RB"
          ],
          [
           139.131,
           "Jerick McKinnon",
           "RB"
          ],
          [
           141.467,
           "Tyler Allgeier",
           "RB"
          ],
          [
           146.14100000000002,
           "Rico Dowdle",
           "RB"
          ],
          [
           147.686,
           "Dalvin Cook",
           "RB"
          ],
          [
           80.772,
           "Zack Moss",
           "RB"
          ],
          [
           138.071,
           "Kenneth Gainwell",
           "RB"
          ],
          [
           113.39900000000002,
           "Jahmyr Gibbs",
           "RB"
          ],
          [
           145.13400000000001,
           "DeeJay Dallas",
           "RB"
          ],
          [
           133.614,
           "D'Onta Foreman",
           "RB"
          ],
          [
           145.639,
           "Zach Charbonnet",
           "RB"
          ],
          [
           140.36100000000002,
           "Tyjae Spears",
           "RB"
          ],
          [
           129.70600000000002,
           "Chuba Hubbard",
           "RB"
          ],
          [
           137.946,
           "Boston Scott",
           "RB"
          ],
          [
           133.364,
           "Jerome Ford",
           "RB"
          ],
          [
           139.04600000000002,
           "Raheem Blackshear",
           "RB"
          ],
          [
           126.59400000000001,
           "Elijah Mitchell",
           "RB"
          ],
          [
           128.44400000000002,
           "Damien Harris",
           "RB"
          ],
          [
           101.02900000000001,
           "Chase Edmonds",
           "RB"
          ],
          [
           108.239,
           "Ty Chandler",
           "RB"
          ],
          [
           103.10600000000001,
           "Devin Singletary",
           "RB"
          ],
          [
           88.51400000000001,
           "Latavius Murray",
           "RB"
          ],
          [
           89.149,
           "Tank Bigsby",
           "RB"
          ],
          [
           85.944,
           "Samaje Perine",
           "RB"
          ],
          [
           92.996,
           "Kyren Williams",
           "RB"
          ],
          [
           85.87100000000001,
           "Michael Carter",
           "RB"
          ],
          [
           76.271,
           "Clyde Edwards-Helaire",
           "RB"
          ],
          [
           86.011,
           "Chris Evans",
           "RB"
          ],
          [
           75.18900000000001,
           "Gus Edwards",
           "RB"
          ],
          [
           67.574,
           "Ameer Abdullah",
           "RB"
          ],
          [
           77.692,
           "Anthony McFarland",
           "RB"
          ],
          [
           68.416,
           "Trayveon Williams",
           "RB"
          ],
          [
           69.542,
           "Jaylen Warren",
           "RB"
          ],
          [
           64.43900000000001,
           "Joshua Kelley",
           "RB"
          ],
          [
           73.782,
           "Eric Gray",
           "RB"
          ],
          [
           42.217,
           "Deon Jackson",
           "RB"
          ],
          [
           56.18900000000001,
           "Pierre Strong",
           "RB"
          ],
          [
           53.509,
           "JaMycal Hasty",
           "RB"
          ],
          [
           56.554,
           "Matt Breida",
           "RB"
          ],
          [
           56.131,
           "Julius Chestnut",
           "RB"
          ],
          [
           50.479,
           "Justice Hill",
           "RB"
          ],
          [
           49.201,
           "Dare Ogunbowale",
           "RB"
          ],
          [
           48.749,
           "Gary Brightwell",
           "RB"
          ],
          [
           45.859,
           "Keaontay Ingram",
           "RB"
          ],
          [
           52.756,
           "Mike Boone",
           "RB"
          ],
          [
           41.96900000000001,
           "Ke'Shawn Vaughn",
           "RB"
          ],
          [
           41.778999999999996,
           "Jordan Mason",
           "RB"
          ],
          [
           39.216,
           "Rashaad Penny",
           "RB"
          ],
          [
           40.089000000000006,
           "Brandon Johnson",
           "RB"
          ],
          [
           37.519000000000005,
           "Reggie Gilliam",
           "RB"
          ],
          [
           35.272000000000006,
           "Ty Montgomery",
           "RB"
          ],
          [
           34.314,
           "Roschon Johnson",
           "RB"
          ],
          [
           32.996,
           "Chase Brown",
           "RB"
          ],
          [
           29.369,
           "Chris Rodriguez",
           "RB"
          ],
          [
           29.949,
           "Brandon Bolden",
           "RB"
          ],
          [
           19.576999999999998,
           "Kendre Miller",
           "RB"
          ],
          [
           29.616,
           "Salvon Ahmed",
           "RB"
          ],
          [
           23.391000000000002,
           "Deuce Vaughn",
           "RB"
          ],
          [
           23.589000000000002,
           "Travis Homer",
           "RB"
          ],
          [
           17.409000000000002,
           "Isaiah Spiller",
           "RB"
          ],
          [
           15.3595,
           "Emanuel Wilson",
           "RB"
          ],
          [
           16.823999999999998,
           "Tyrion Davis-Price",
           "RB"
          ],
          [
           14.241000000000001,
           "Zach Evans",
           "RB"
          ],
          [
           9.194,
           "Jaleel McLaughlin",
           "RB"
          ],
          [
           8.162,
           "Kenny McIntosh",
           "RB"
          ],
          [
           1.5850000000000002,
           "Evan Hull",
           "RB"
          ],
          [
           5.9115,
           "Emari Demercado",
           "RB"
          ],
          [
           2.7810000000000006,
           "Ronnie Rivers",
           "RB"
          ],
          [
           0.809,
           "Elijah Dotson",
           "RB"
          ],
          [
           2.994000000000001,
           "D'Ernest Johnson",
           "RB"
          ],
          [
           0.24349999999999997,
           "Sean Tucker",
           "RB"
          ],
          [
           0.07400000000000007,
           "Andrew Beck",
           "RB"
          ]
         ],
         "hovertemplate": "<b>%{hovertext}</b><br><br>Predicted Points=%{y}<br>Relative Value=%{customdata[0]}<extra></extra>",
         "hovertext": [
          "Austin Ekeler",
          "Derrick Henry",
          "Christian McCaffrey",
          "Josh Jacobs",
          "Nick Chubb",
          "James Conner",
          "Joe Mixon",
          "Kenneth Walker",
          "Miles Sanders",
          "Najee Harris",
          "Antonio Gibson",
          "Tony Pollard",
          "Rhamondre Stevenson",
          "Isiah Pacheco",
          "Bijan Robinson",
          "Travis Etienne",
          "J.K. Dobbins",
          "Khalil Herbert",
          "Saquon Barkley",
          "David Montgomery",
          "Aaron Jones",
          "Dameon Pierce",
          "Brian Robinson",
          "Rachaad White",
          "Alexander Mattison",
          "Javonte Williams",
          "D'Andre Swift",
          "Raheem Mostert",
          "Cam Akers",
          "Cordarrelle Patterson",
          "Zamir White",
          "AJ Dillon",
          "Breece Hall",
          "Jamaal Williams",
          "Ezekiel Elliott",
          "James Cook",
          "Jerick McKinnon",
          "Tyler Allgeier",
          "Rico Dowdle",
          "Dalvin Cook",
          "Zack Moss",
          "Kenneth Gainwell",
          "Jahmyr Gibbs",
          "DeeJay Dallas",
          "D'Onta Foreman",
          "Zach Charbonnet",
          "Tyjae Spears",
          "Chuba Hubbard",
          "Boston Scott",
          "Jerome Ford",
          "Raheem Blackshear",
          "Elijah Mitchell",
          "Damien Harris",
          "Chase Edmonds",
          "Ty Chandler",
          "Devin Singletary",
          "Latavius Murray",
          "Tank Bigsby",
          "Samaje Perine",
          "Kyren Williams",
          "Michael Carter",
          "Clyde Edwards-Helaire",
          "Chris Evans",
          "Gus Edwards",
          "Ameer Abdullah",
          "Anthony McFarland",
          "Trayveon Williams",
          "Jaylen Warren",
          "Joshua Kelley",
          "Eric Gray",
          "Deon Jackson",
          "Pierre Strong",
          "JaMycal Hasty",
          "Matt Breida",
          "Julius Chestnut",
          "Justice Hill",
          "Dare Ogunbowale",
          "Gary Brightwell",
          "Keaontay Ingram",
          "Mike Boone",
          "Ke'Shawn Vaughn",
          "Jordan Mason",
          "Rashaad Penny",
          "Brandon Johnson",
          "Reggie Gilliam",
          "Ty Montgomery",
          "Roschon Johnson",
          "Chase Brown",
          "Chris Rodriguez",
          "Brandon Bolden",
          "Kendre Miller",
          "Salvon Ahmed",
          "Deuce Vaughn",
          "Travis Homer",
          "Isaiah Spiller",
          "Emanuel Wilson",
          "Tyrion Davis-Price",
          "Zach Evans",
          "Jaleel McLaughlin",
          "Kenny McIntosh",
          "Evan Hull",
          "Emari Demercado",
          "Ronnie Rivers",
          "Elijah Dotson",
          "D'Ernest Johnson",
          "Sean Tucker",
          "Andrew Beck"
         ],
         "legendgroup": "RB",
         "marker": {
          "color": "#233257",
          "pattern": {
           "shape": ""
          }
         },
         "name": "RB",
         "offsetgroup": "RB",
         "orientation": "v",
         "showlegend": true,
         "text": [
          "Austin Ekeler",
          "Derrick Henry",
          "Christian McCaffrey",
          "Josh Jacobs",
          "Nick Chubb",
          "James Conner",
          "Joe Mixon",
          "Kenneth Walker",
          "Miles Sanders",
          "Najee Harris",
          "Antonio Gibson",
          "Tony Pollard",
          "Rhamondre Stevenson",
          "Isiah Pacheco",
          "Bijan Robinson",
          "Travis Etienne",
          "J.K. Dobbins",
          "Khalil Herbert",
          "Saquon Barkley",
          "David Montgomery",
          "Aaron Jones",
          "Dameon Pierce",
          "Brian Robinson",
          "Rachaad White",
          "Alexander Mattison",
          "Javonte Williams",
          "D'Andre Swift",
          "Raheem Mostert",
          "Cam Akers",
          "Cordarrelle Patterson",
          "Zamir White",
          "AJ Dillon",
          "Breece Hall",
          "Jamaal Williams",
          "Ezekiel Elliott",
          "James Cook",
          "Jerick McKinnon",
          "Tyler Allgeier",
          "Rico Dowdle",
          "Dalvin Cook",
          "Zack Moss",
          "Kenneth Gainwell",
          "Jahmyr Gibbs",
          "DeeJay Dallas",
          "D'Onta Foreman",
          "Zach Charbonnet",
          "Tyjae Spears",
          "Chuba Hubbard",
          "Boston Scott",
          "Jerome Ford",
          "Raheem Blackshear",
          "Elijah Mitchell",
          "Damien Harris",
          "Chase Edmonds",
          "Ty Chandler",
          "Devin Singletary",
          "Latavius Murray",
          "Tank Bigsby",
          "Samaje Perine",
          "Kyren Williams",
          "Michael Carter",
          "Clyde Edwards-Helaire",
          "Chris Evans",
          "Gus Edwards",
          "Ameer Abdullah",
          "Anthony McFarland",
          "Trayveon Williams",
          "Jaylen Warren",
          "Joshua Kelley",
          "Eric Gray",
          "Deon Jackson",
          "Pierre Strong",
          "JaMycal Hasty",
          "Matt Breida",
          "Julius Chestnut",
          "Justice Hill",
          "Dare Ogunbowale",
          "Gary Brightwell",
          "Keaontay Ingram",
          "Mike Boone",
          "Ke'Shawn Vaughn",
          "Jordan Mason",
          "Rashaad Penny",
          "Brandon Johnson",
          "Reggie Gilliam",
          "Ty Montgomery",
          "Roschon Johnson",
          "Chase Brown",
          "Chris Rodriguez",
          "Brandon Bolden",
          "Kendre Miller",
          "Salvon Ahmed",
          "Deuce Vaughn",
          "Travis Homer",
          "Isaiah Spiller",
          "Emanuel Wilson",
          "Tyrion Davis-Price",
          "Zach Evans",
          "Jaleel McLaughlin",
          "Kenny McIntosh",
          "Evan Hull",
          "Emari Demercado",
          "Ronnie Rivers",
          "Elijah Dotson",
          "D'Ernest Johnson",
          "Sean Tucker",
          "Andrew Beck"
         ],
         "textposition": "inside",
         "type": "bar",
         "x": [
          "Croccity Body Snatchers",
          "DangeRUSS Last Ride",
          "DangeRUSS Last Ride",
          "Croccity Body Snatchers",
          "kevinbash",
          "DangeRUSS Last Ride",
          "Croccity Body Snatchers",
          "Verdanks Vacqueros FFC",
          "Pretty Big Wieners",
          "2014champ",
          "Count of Monte Christian",
          "Saskatoon Squatches ",
          "Saskatoon Squatches ",
          "Saskatoon Squatches ",
          "2014champ",
          "Verdanks Vacqueros FFC",
          "Pretty Big Wieners",
          "GusTheBus",
          "Saskatoon Squatches ",
          "Croccity Body Snatchers",
          "kevinbash",
          "GusTheBus",
          "Idk much about soccer ",
          "📜 Providence 🪬 Spirits 🥂",
          "Pretty Big Wieners",
          "Saskatoon Squatches ",
          "📜 Providence 🪬 Spirits 🥂",
          "2014champ",
          "GusTheBus",
          null,
          "kevinbash",
          "📜 Providence 🪬 Spirits 🥂",
          "Comeback 👑’s",
          "Comeback 👑’s",
          "Verdanks Vacqueros FFC",
          "Pretty Big Wieners",
          "DangeRUSS Last Ride",
          "DangeRUSS Last Ride",
          "📜 Providence 🪬 Spirits 🥂",
          "GusTheBus",
          "Verdanks Vacqueros FFC",
          "Count of Monte Christian",
          "📜 Providence 🪬 Spirits 🥂",
          null,
          null,
          "Idk much about soccer ",
          "Pretty Big Wieners",
          null,
          null,
          "Comeback 👑’s",
          null,
          "Verdanks Vacqueros FFC",
          "2014champ",
          "kevinbash",
          "kevinbash",
          "Verdanks Vacqueros FFC",
          null,
          "Comeback 👑’s",
          "GusTheBus",
          "Croccity Body Snatchers",
          null,
          "Comeback 👑’s",
          null,
          "Comeback 👑’s",
          null,
          null,
          null,
          "Saskatoon Squatches ",
          null,
          "Comeback 👑’s",
          "2014champ",
          null,
          null,
          "Count of Monte Christian",
          null,
          null,
          null,
          null,
          "2014champ",
          null,
          null,
          null,
          "GusTheBus",
          null,
          null,
          null,
          "📜 Providence 🪬 Spirits 🥂",
          "Idk much about soccer ",
          "GusTheBus",
          null,
          "Count of Monte Christian",
          null,
          "DangeRUSS Last Ride",
          null,
          "Comeback 👑’s",
          null,
          "Idk much about soccer ",
          null,
          "Comeback 👑’s",
          null,
          "Pretty Big Wieners",
          null,
          null,
          null,
          null,
          "📜 Providence 🪬 Spirits 🥂",
          null
         ],
         "xaxis": "x",
         "y": [
          280.475,
          274.295,
          262.175,
          249.05,
          250.115,
          237.035,
          231.825,
          222.26500000000001,
          208.57999999999998,
          225.32000000000002,
          223.63,
          221.375,
          213.29000000000002,
          207.22500000000002,
          163.955,
          177.24,
          177.10500000000002,
          203.985,
          205.255,
          200.275,
          194.245,
          192.925,
          185.35500000000002,
          173.16000000000003,
          180.875,
          177.555,
          176.58,
          186.39000000000001,
          168.20000000000002,
          180.725,
          191.94500000000002,
          166.08,
          171.85500000000002,
          156.11,
          170.39000000000001,
          163.2,
          141.4,
          143.735,
          148.32,
          149.865,
          83.04,
          140.34,
          115.665,
          147.4,
          135.88500000000002,
          147.905,
          142.54,
          131.885,
          140.215,
          135.63,
          141.225,
          128.86,
          130.715,
          103.295,
          110.51,
          105.28500000000001,
          90.78500000000001,
          91.415,
          88.21000000000001,
          95.265,
          88.05000000000001,
          78.54,
          88.19,
          77.46000000000001,
          69.845,
          79.96,
          70.595,
          71.81,
          66.705,
          76.053,
          44.485,
          58.455000000000005,
          55.775000000000006,
          58.825,
          58.31,
          52.75,
          51.38,
          51.02,
          48.12500000000001,
          54.935,
          44.23500000000001,
          44.045,
          41.485,
          42.355000000000004,
          39.790000000000006,
          37.540000000000006,
          36.585,
          35.175000000000004,
          31.634999999999998,
          32.22,
          21.845,
          31.885,
          25.570000000000004,
          25.860000000000003,
          19.675,
          17.6275,
          19.09,
          16.51,
          11.46,
          10.292000000000002,
          2.1300000000000003,
          8.1775,
          5.050000000000001,
          3.075,
          5.260000000000002,
          2.5095,
          2.253
         ],
         "yaxis": "y"
        },
        {
         "alignmentgroup": "True",
         "customdata": [
          [
           242.051,
           "Justin Jefferson",
           "WR"
          ],
          [
           221.121,
           "Tyreek Hill",
           "WR"
          ],
          [
           215.216,
           "CeeDee Lamb",
           "WR"
          ],
          [
           207.17,
           "Davante Adams",
           "WR"
          ],
          [
           203.816,
           "Ja'Marr Chase",
           "WR"
          ],
          [
           190.803,
           "Keenan Allen",
           "WR"
          ],
          [
           195.70399999999998,
           "Stefon Diggs",
           "WR"
          ],
          [
           178.711,
           "Cooper Kupp",
           "WR"
          ],
          [
           193.266,
           "Deebo Samuel",
           "WR"
          ],
          [
           188.906,
           "Jaylen Waddle",
           "WR"
          ],
          [
           187.661,
           "A.J. Brown",
           "WR"
          ],
          [
           166.706,
           "Christian Watson",
           "WR"
          ],
          [
           178.096,
           "Kalif Raymond",
           "WR"
          ],
          [
           183.856,
           "Amon-Ra St. Brown",
           "WR"
          ],
          [
           168.953,
           "Mike Evans",
           "WR"
          ],
          [
           173.546,
           "Garrett Wilson",
           "WR"
          ],
          [
           166.688,
           "Chris Godwin",
           "WR"
          ],
          [
           167.398,
           "Tyler Lockett",
           "WR"
          ],
          [
           161.526,
           "Christian Kirk",
           "WR"
          ],
          [
           175.416,
           "Tee Higgins",
           "WR"
          ],
          [
           175.14600000000002,
           "Devin Duvernay",
           "WR"
          ],
          [
           122.16600000000001,
           "Romeo Doubs",
           "WR"
          ],
          [
           159.38400000000001,
           "Chris Olave",
           "WR"
          ],
          [
           163.99099999999999,
           "Jamal Agnew",
           "WR"
          ],
          [
           153.741,
           "DeAndre Hopkins",
           "WR"
          ],
          [
           154.00900000000001,
           "Jahan Dotson",
           "WR"
          ],
          [
           161.966,
           "Marquez Valdes-Scantling",
           "WR"
          ],
          [
           161.464,
           "Amari Cooper",
           "WR"
          ],
          [
           157.97,
           "DK Metcalf",
           "WR"
          ],
          [
           151.149,
           "DeVonta Smith",
           "WR"
          ],
          [
           154.114,
           "Terry McLaurin",
           "WR"
          ],
          [
           163.661,
           "Rashid Shaheed",
           "WR"
          ],
          [
           146.141,
           "Nico Collins",
           "WR"
          ],
          [
           147.18599999999998,
           "Michael Pittman",
           "WR"
          ],
          [
           153.093,
           "Mike Williams",
           "WR"
          ],
          [
           147.616,
           "DJ Moore",
           "WR"
          ],
          [
           141.121,
           "Gabe Davis",
           "WR"
          ],
          [
           135.886,
           "DJ Chark",
           "WR"
          ],
          [
           152.326,
           "Odell Beckham",
           "WR"
          ],
          [
           144.041,
           "Jordan Addison",
           "WR"
          ],
          [
           148.211,
           "Braxton Berrios",
           "WR"
          ],
          [
           136.951,
           "Drake London",
           "WR"
          ],
          [
           124.48900000000002,
           "Marquise Brown",
           "WR"
          ],
          [
           144.551,
           "Zay Flowers",
           "WR"
          ],
          [
           141.506,
           "JuJu Smith-Schuster",
           "WR"
          ],
          [
           134.721,
           "Brandon Aiyuk",
           "WR"
          ],
          [
           129.38600000000002,
           "Diontae Johnson",
           "WR"
          ],
          [
           135.041,
           "Jerry Jeudy",
           "WR"
          ],
          [
           137.993,
           "Deven Thompkins",
           "WR"
          ],
          [
           142.249,
           "Greg Dortch",
           "WR"
          ],
          [
           124.63600000000001,
           "Zay Jones",
           "WR"
          ],
          [
           129.546,
           "George Pickens",
           "WR"
          ],
          [
           130.30599999999998,
           "Mecole Hardman",
           "WR"
          ],
          [
           135.641,
           "Richie James",
           "WR"
          ],
          [
           137.768,
           "Jaxon Smith-Njigba",
           "WR"
          ],
          [
           72.361,
           "Calvin Ridley",
           "WR"
          ],
          [
           123.54000000000002,
           "Allen Lazard",
           "WR"
          ],
          [
           116.59100000000001,
           "Courtland Sutton",
           "WR"
          ],
          [
           111.671,
           "Michael Thomas",
           "WR"
          ],
          [
           121.831,
           "DeAndre Carter",
           "WR"
          ],
          [
           107.62900000000002,
           "Curtis Samuel",
           "WR"
          ],
          [
           114.62100000000001,
           "Jakobi Meyers",
           "WR"
          ],
          [
           118.093,
           "Donovan Peoples-Jones",
           "WR"
          ],
          [
           114.84100000000001,
           "Van Jefferson",
           "WR"
          ],
          [
           106.571,
           "Brandin Cooks",
           "WR"
          ],
          [
           111.141,
           "K.J. Osborn",
           "WR"
          ],
          [
           106.891,
           "Rashod Bateman",
           "WR"
          ],
          [
           113.661,
           "Velus Jones",
           "WR"
          ],
          [
           101.116,
           "Darnell Mooney",
           "WR"
          ],
          [
           111.85900000000001,
           "Rondale Moore",
           "WR"
          ],
          [
           109.941,
           "Wan'Dale Robinson",
           "WR"
          ],
          [
           112.968,
           "Derius Davis",
           "WR"
          ],
          [
           105.79500000000002,
           "Darius Slayton",
           "WR"
          ],
          [
           112.641,
           "DeVante Parker",
           "WR"
          ],
          [
           100.71600000000001,
           "Tyler Boyd",
           "WR"
          ],
          [
           107.166,
           "KaVontae Turpin",
           "WR"
          ],
          [
           93.191,
           "Skyy Moore",
           "WR"
          ],
          [
           95.92600000000002,
           "Adam Thielen",
           "WR"
          ],
          [
           98.31600000000002,
           "Parris Campbell",
           "WR"
          ],
          [
           95.66600000000001,
           "Josh Reynolds",
           "WR"
          ],
          [
           96.447,
           "Joshua Palmer",
           "WR"
          ],
          [
           81.21600000000001,
           "Alec Pierce",
           "WR"
          ],
          [
           92.54599999999999,
           "Marvin Mims",
           "WR"
          ],
          [
           86.271,
           "Hunter Renfrow",
           "WR"
          ],
          [
           79.066,
           "Robert Woods",
           "WR"
          ],
          [
           79.261,
           "Treylon Burks",
           "WR"
          ],
          [
           81.85600000000001,
           "Mack Hollins",
           "WR"
          ],
          [
           77.691,
           "Isaiah Hodgins",
           "WR"
          ],
          [
           76.46000000000001,
           "Trey Palmer",
           "WR"
          ],
          [
           68.21600000000001,
           "Michael Gallup",
           "WR"
          ],
          [
           77.09600000000002,
           "Kendrick Bourne",
           "WR"
          ],
          [
           69.911,
           "Kadarius Toney",
           "WR"
          ],
          [
           80.54100000000001,
           "Deonte Harty",
           "WR"
          ],
          [
           73.05600000000001,
           "Nick Westbrook-Ikhine",
           "WR"
          ],
          [
           72.596,
           "Olamide Zaccheaus",
           "WR"
          ],
          [
           66.668,
           "Quentin Johnston",
           "WR"
          ],
          [
           66.771,
           "Terrace Marshall",
           "WR"
          ],
          [
           67.816,
           "Ben Skowronek",
           "WR"
          ],
          [
           60.696,
           "Allen Robinson",
           "WR"
          ],
          [
           60.936,
           "Trent Sherfield",
           "WR"
          ],
          [
           50.736000000000004,
           "Tutu Atwell",
           "WR"
          ],
          [
           60.091,
           "Marvin Jones",
           "WR"
          ],
          [
           59.93600000000001,
           "Isaiah McKenzie",
           "WR"
          ],
          [
           59.146,
           "Jayden Reed",
           "WR"
          ],
          [
           61.56100000000001,
           "Khalil Shakir",
           "WR"
          ],
          [
           58.96600000000001,
           "Jauan Jennings",
           "WR"
          ],
          [
           55.062000000000005,
           "Randall Cobb",
           "WR"
          ],
          [
           53.484,
           "Rashee Rice",
           "WR"
          ],
          [
           51.691,
           "Noah Brown",
           "WR"
          ],
          [
           56.911,
           "Laviska Shenault",
           "WR"
          ],
          [
           51.011,
           "Chris Moore",
           "WR"
          ],
          [
           46.743,
           "Jalen Guyton",
           "WR"
          ],
          [
           51.99100000000001,
           "Brandon Powell",
           "WR"
          ],
          [
           48.956,
           "Calvin Austin",
           "WR"
          ],
          [
           45.701,
           "Chase Claypool",
           "WR"
          ],
          [
           44.96300000000001,
           "Elijah Moore",
           "WR"
          ],
          [
           46.49100000000001,
           "Trenton Irwin",
           "WR"
          ],
          [
           45.511,
           "Equanimeous St. Brown",
           "WR"
          ],
          [
           44.99100000000001,
           "Jonathan Mingo",
           "WR"
          ],
          [
           42.991,
           "Jalen Tolbert",
           "WR"
          ],
          [
           45.664,
           "Demarcus Robinson",
           "WR"
          ],
          [
           40.496,
           "Tre'Quan Smith",
           "WR"
          ],
          [
           41.821000000000005,
           "Brandon Johnson",
           "WR"
          ],
          [
           42.818,
           "Marquise Goodwin",
           "WR"
          ],
          [
           35.826,
           "Quez Watkins",
           "WR"
          ],
          [
           35.806000000000004,
           "KhaDarel Hodge",
           "WR"
          ],
          [
           34.384,
           "Dyami Brown",
           "WR"
          ],
          [
           33.056000000000004,
           "Sterling Shepard",
           "WR"
          ],
          [
           29.656000000000002,
           "Cedrick Wilson",
           "WR"
          ],
          [
           29.343000000000004,
           "David Bell",
           "WR"
          ],
          [
           25.166,
           "John Metchie",
           "WR"
          ],
          [
           27.386000000000003,
           "Nelson Agholor",
           "WR"
          ],
          [
           20.241000000000003,
           "River Cracraft",
           "WR"
          ],
          [
           25.939000000000004,
           "Zach Pascal",
           "WR"
          ],
          [
           25.366000000000003,
           "Charlie Jones",
           "WR"
          ],
          [
           22.191000000000003,
           "Byron Pringle",
           "WR"
          ],
          [
           22.776000000000003,
           "Samori Toure",
           "WR"
          ],
          [
           16.403000000000002,
           "Dax Milne",
           "WR"
          ],
          [
           21.348000000000003,
           "Kayshon Boutte",
           "WR"
          ],
          [
           20.614000000000004,
           "Michael Wilson",
           "WR"
          ],
          [
           19.078000000000003,
           "Rakim Jarrett",
           "WR"
          ],
          [
           18.451,
           "Josh Downs",
           "WR"
          ],
          [
           18.291,
           "Jalen Nailor",
           "WR"
          ],
          [
           17.741000000000003,
           "Dontayvion Wicks",
           "WR"
          ],
          [
           16.181,
           "Justin Watson",
           "WR"
          ],
          [
           14.741,
           "David Sills",
           "WR"
          ],
          [
           16.141,
           "Tim Jones",
           "WR"
          ],
          [
           15.466000000000003,
           "Gunner Olszewski",
           "WR"
          ],
          [
           16.593,
           "Cody Thompson",
           "WR"
          ],
          [
           14.766,
           "Scott Miller",
           "WR"
          ],
          [
           16.166,
           "Irvin Charles",
           "WR"
          ],
          [
           14.061,
           "Keith Kirkwood",
           "WR"
          ],
          [
           15.241,
           "Malik Heath",
           "WR"
          ],
          [
           11.566,
           "Antoine Green",
           "WR"
          ],
          [
           7.7410000000000005,
           "Tylan Wallace",
           "WR"
          ],
          [
           1.4159999999999997,
           "Kirk Merritt",
           "WR"
          ],
          [
           1.0305000000000002,
           "Colton Dowell",
           "WR"
          ],
          [
           5.916,
           "Erik Ezukanma",
           "WR"
          ],
          [
           4.394,
           "Michael Woods",
           "WR"
          ],
          [
           1.866,
           "Miles Boykin",
           "WR"
          ],
          [
           0.03299999999999999,
           "Dareke Young",
           "WR"
          ]
         ],
         "hovertemplate": "<b>%{hovertext}</b><br><br>Predicted Points=%{y}<br>Relative Value=%{customdata[0]}<extra></extra>",
         "hovertext": [
          "Justin Jefferson",
          "Tyreek Hill",
          "CeeDee Lamb",
          "Davante Adams",
          "Ja'Marr Chase",
          "Keenan Allen",
          "Stefon Diggs",
          "Cooper Kupp",
          "Deebo Samuel",
          "Jaylen Waddle",
          "A.J. Brown",
          "Christian Watson",
          "Kalif Raymond",
          "Amon-Ra St. Brown",
          "Mike Evans",
          "Garrett Wilson",
          "Chris Godwin",
          "Tyler Lockett",
          "Christian Kirk",
          "Tee Higgins",
          "Devin Duvernay",
          "Romeo Doubs",
          "Chris Olave",
          "Jamal Agnew",
          "DeAndre Hopkins",
          "Jahan Dotson",
          "Marquez Valdes-Scantling",
          "Amari Cooper",
          "DK Metcalf",
          "DeVonta Smith",
          "Terry McLaurin",
          "Rashid Shaheed",
          "Nico Collins",
          "Michael Pittman",
          "Mike Williams",
          "DJ Moore",
          "Gabe Davis",
          "DJ Chark",
          "Odell Beckham",
          "Jordan Addison",
          "Braxton Berrios",
          "Drake London",
          "Marquise Brown",
          "Zay Flowers",
          "JuJu Smith-Schuster",
          "Brandon Aiyuk",
          "Diontae Johnson",
          "Jerry Jeudy",
          "Deven Thompkins",
          "Greg Dortch",
          "Zay Jones",
          "George Pickens",
          "Mecole Hardman",
          "Richie James",
          "Jaxon Smith-Njigba",
          "Calvin Ridley",
          "Allen Lazard",
          "Courtland Sutton",
          "Michael Thomas",
          "DeAndre Carter",
          "Curtis Samuel",
          "Jakobi Meyers",
          "Donovan Peoples-Jones",
          "Van Jefferson",
          "Brandin Cooks",
          "K.J. Osborn",
          "Rashod Bateman",
          "Velus Jones",
          "Darnell Mooney",
          "Rondale Moore",
          "Wan'Dale Robinson",
          "Derius Davis",
          "Darius Slayton",
          "DeVante Parker",
          "Tyler Boyd",
          "KaVontae Turpin",
          "Skyy Moore",
          "Adam Thielen",
          "Parris Campbell",
          "Josh Reynolds",
          "Joshua Palmer",
          "Alec Pierce",
          "Marvin Mims",
          "Hunter Renfrow",
          "Robert Woods",
          "Treylon Burks",
          "Mack Hollins",
          "Isaiah Hodgins",
          "Trey Palmer",
          "Michael Gallup",
          "Kendrick Bourne",
          "Kadarius Toney",
          "Deonte Harty",
          "Nick Westbrook-Ikhine",
          "Olamide Zaccheaus",
          "Quentin Johnston",
          "Terrace Marshall",
          "Ben Skowronek",
          "Allen Robinson",
          "Trent Sherfield",
          "Tutu Atwell",
          "Marvin Jones",
          "Isaiah McKenzie",
          "Jayden Reed",
          "Khalil Shakir",
          "Jauan Jennings",
          "Randall Cobb",
          "Rashee Rice",
          "Noah Brown",
          "Laviska Shenault",
          "Chris Moore",
          "Jalen Guyton",
          "Brandon Powell",
          "Calvin Austin",
          "Chase Claypool",
          "Elijah Moore",
          "Trenton Irwin",
          "Equanimeous St. Brown",
          "Jonathan Mingo",
          "Jalen Tolbert",
          "Demarcus Robinson",
          "Tre'Quan Smith",
          "Brandon Johnson",
          "Marquise Goodwin",
          "Quez Watkins",
          "KhaDarel Hodge",
          "Dyami Brown",
          "Sterling Shepard",
          "Cedrick Wilson",
          "David Bell",
          "John Metchie",
          "Nelson Agholor",
          "River Cracraft",
          "Zach Pascal",
          "Charlie Jones",
          "Byron Pringle",
          "Samori Toure",
          "Dax Milne",
          "Kayshon Boutte",
          "Michael Wilson",
          "Rakim Jarrett",
          "Josh Downs",
          "Jalen Nailor",
          "Dontayvion Wicks",
          "Justin Watson",
          "David Sills",
          "Tim Jones",
          "Gunner Olszewski",
          "Cody Thompson",
          "Scott Miller",
          "Irvin Charles",
          "Keith Kirkwood",
          "Malik Heath",
          "Antoine Green",
          "Tylan Wallace",
          "Kirk Merritt",
          "Colton Dowell",
          "Erik Ezukanma",
          "Michael Woods",
          "Miles Boykin",
          "Dareke Young"
         ],
         "legendgroup": "WR",
         "marker": {
          "color": "#4068B8",
          "pattern": {
           "shape": ""
          }
         },
         "name": "WR",
         "offsetgroup": "WR",
         "orientation": "v",
         "showlegend": true,
         "text": [
          "Justin Jefferson",
          "Tyreek Hill",
          "CeeDee Lamb",
          "Davante Adams",
          "Ja'Marr Chase",
          "Keenan Allen",
          "Stefon Diggs",
          "Cooper Kupp",
          "Deebo Samuel",
          "Jaylen Waddle",
          "A.J. Brown",
          "Christian Watson",
          "Kalif Raymond",
          "Amon-Ra St. Brown",
          "Mike Evans",
          "Garrett Wilson",
          "Chris Godwin",
          "Tyler Lockett",
          "Christian Kirk",
          "Tee Higgins",
          "Devin Duvernay",
          "Romeo Doubs",
          "Chris Olave",
          "Jamal Agnew",
          "DeAndre Hopkins",
          "Jahan Dotson",
          "Marquez Valdes-Scantling",
          "Amari Cooper",
          "DK Metcalf",
          "DeVonta Smith",
          "Terry McLaurin",
          "Rashid Shaheed",
          "Nico Collins",
          "Michael Pittman",
          "Mike Williams",
          "DJ Moore",
          "Gabe Davis",
          "DJ Chark",
          "Odell Beckham",
          "Jordan Addison",
          "Braxton Berrios",
          "Drake London",
          "Marquise Brown",
          "Zay Flowers",
          "JuJu Smith-Schuster",
          "Brandon Aiyuk",
          "Diontae Johnson",
          "Jerry Jeudy",
          "Deven Thompkins",
          "Greg Dortch",
          "Zay Jones",
          "George Pickens",
          "Mecole Hardman",
          "Richie James",
          "Jaxon Smith-Njigba",
          "Calvin Ridley",
          "Allen Lazard",
          "Courtland Sutton",
          "Michael Thomas",
          "DeAndre Carter",
          "Curtis Samuel",
          "Jakobi Meyers",
          "Donovan Peoples-Jones",
          "Van Jefferson",
          "Brandin Cooks",
          "K.J. Osborn",
          "Rashod Bateman",
          "Velus Jones",
          "Darnell Mooney",
          "Rondale Moore",
          "Wan'Dale Robinson",
          "Derius Davis",
          "Darius Slayton",
          "DeVante Parker",
          "Tyler Boyd",
          "KaVontae Turpin",
          "Skyy Moore",
          "Adam Thielen",
          "Parris Campbell",
          "Josh Reynolds",
          "Joshua Palmer",
          "Alec Pierce",
          "Marvin Mims",
          "Hunter Renfrow",
          "Robert Woods",
          "Treylon Burks",
          "Mack Hollins",
          "Isaiah Hodgins",
          "Trey Palmer",
          "Michael Gallup",
          "Kendrick Bourne",
          "Kadarius Toney",
          "Deonte Harty",
          "Nick Westbrook-Ikhine",
          "Olamide Zaccheaus",
          "Quentin Johnston",
          "Terrace Marshall",
          "Ben Skowronek",
          "Allen Robinson",
          "Trent Sherfield",
          "Tutu Atwell",
          "Marvin Jones",
          "Isaiah McKenzie",
          "Jayden Reed",
          "Khalil Shakir",
          "Jauan Jennings",
          "Randall Cobb",
          "Rashee Rice",
          "Noah Brown",
          "Laviska Shenault",
          "Chris Moore",
          "Jalen Guyton",
          "Brandon Powell",
          "Calvin Austin",
          "Chase Claypool",
          "Elijah Moore",
          "Trenton Irwin",
          "Equanimeous St. Brown",
          "Jonathan Mingo",
          "Jalen Tolbert",
          "Demarcus Robinson",
          "Tre'Quan Smith",
          "Brandon Johnson",
          "Marquise Goodwin",
          "Quez Watkins",
          "KhaDarel Hodge",
          "Dyami Brown",
          "Sterling Shepard",
          "Cedrick Wilson",
          "David Bell",
          "John Metchie",
          "Nelson Agholor",
          "River Cracraft",
          "Zach Pascal",
          "Charlie Jones",
          "Byron Pringle",
          "Samori Toure",
          "Dax Milne",
          "Kayshon Boutte",
          "Michael Wilson",
          "Rakim Jarrett",
          "Josh Downs",
          "Jalen Nailor",
          "Dontayvion Wicks",
          "Justin Watson",
          "David Sills",
          "Tim Jones",
          "Gunner Olszewski",
          "Cody Thompson",
          "Scott Miller",
          "Irvin Charles",
          "Keith Kirkwood",
          "Malik Heath",
          "Antoine Green",
          "Tylan Wallace",
          "Kirk Merritt",
          "Colton Dowell",
          "Erik Ezukanma",
          "Michael Woods",
          "Miles Boykin",
          "Dareke Young"
         ],
         "textposition": "inside",
         "type": "bar",
         "x": [
          "Pretty Big Wieners",
          "Saskatoon Squatches ",
          "Count of Monte Christian",
          "Verdanks Vacqueros FFC",
          "Saskatoon Squatches ",
          "Pretty Big Wieners",
          "Comeback 👑’s",
          "2014champ",
          "2014champ",
          "GusTheBus",
          "Pretty Big Wieners",
          "Count of Monte Christian",
          null,
          "kevinbash",
          "kevinbash",
          "📜 Providence 🪬 Spirits 🥂",
          "Croccity Body Snatchers",
          "Croccity Body Snatchers",
          "GusTheBus",
          "2014champ",
          null,
          "📜 Providence 🪬 Spirits 🥂",
          "Count of Monte Christian",
          null,
          "Verdanks Vacqueros FFC",
          "📜 Providence 🪬 Spirits 🥂",
          null,
          "Verdanks Vacqueros FFC",
          "2014champ",
          "Count of Monte Christian",
          "kevinbash",
          null,
          "📜 Providence 🪬 Spirits 🥂",
          "GusTheBus",
          "Idk much about soccer ",
          "Idk much about soccer ",
          "2014champ",
          "DangeRUSS Last Ride",
          "Idk much about soccer ",
          "DangeRUSS Last Ride",
          null,
          "Idk much about soccer ",
          "Croccity Body Snatchers",
          "Count of Monte Christian",
          "📜 Providence 🪬 Spirits 🥂",
          "kevinbash",
          "Idk much about soccer ",
          "Saskatoon Squatches ",
          null,
          null,
          "Croccity Body Snatchers",
          "DangeRUSS Last Ride",
          "Idk much about soccer ",
          "Count of Monte Christian",
          "📜 Providence 🪬 Spirits 🥂",
          "2014champ",
          "Croccity Body Snatchers",
          "Count of Monte Christian",
          "Idk much about soccer ",
          null,
          null,
          "Saskatoon Squatches ",
          "Pretty Big Wieners",
          "Verdanks Vacqueros FFC",
          "Comeback 👑’s",
          "Croccity Body Snatchers",
          "2014champ",
          null,
          "Saskatoon Squatches ",
          "Count of Monte Christian",
          "📜 Providence 🪬 Spirits 🥂",
          null,
          null,
          null,
          "Saskatoon Squatches ",
          null,
          "kevinbash",
          "Idk much about soccer ",
          null,
          "Comeback 👑’s",
          "Croccity Body Snatchers",
          "2014champ",
          "GusTheBus",
          "GusTheBus",
          "Pretty Big Wieners",
          "Count of Monte Christian",
          null,
          "2014champ",
          "Saskatoon Squatches ",
          "Comeback 👑’s",
          null,
          "Pretty Big Wieners",
          null,
          null,
          null,
          "2014champ",
          null,
          null,
          null,
          null,
          null,
          "Pretty Big Wieners",
          null,
          "kevinbash",
          "Verdanks Vacqueros FFC",
          null,
          "Comeback 👑’s",
          "Croccity Body Snatchers",
          null,
          null,
          null,
          null,
          null,
          "Verdanks Vacqueros FFC",
          "DangeRUSS Last Ride",
          "Saskatoon Squatches ",
          null,
          null,
          "📜 Providence 🪬 Spirits 🥂",
          null,
          null,
          null,
          null,
          null,
          null,
          null,
          null,
          null,
          null,
          null,
          "Count of Monte Christian",
          "kevinbash",
          null,
          null,
          "GusTheBus",
          null,
          null,
          null,
          "kevinbash",
          "Verdanks Vacqueros FFC",
          null,
          "Verdanks Vacqueros FFC",
          null,
          null,
          null,
          null,
          null,
          null,
          null,
          null,
          null,
          null,
          null,
          null,
          "Verdanks Vacqueros FFC",
          null,
          null,
          null,
          null,
          null,
          null
         ],
         "xaxis": "x",
         "y": [
          242.585,
          221.655,
          215.75,
          207.704,
          204.35000000000002,
          191.335,
          196.238,
          179.09500000000003,
          193.8,
          189.44,
          188.195,
          167.09,
          178.63000000000002,
          184.39000000000001,
          169.485,
          174.08,
          167.22,
          167.93,
          162.06,
          175.95000000000002,
          175.68,
          122.7,
          159.918,
          164.525,
          154.275,
          154.54500000000002,
          162.5,
          161.99599999999998,
          158.502,
          151.683,
          154.65,
          164.195,
          146.675,
          147.72,
          153.625,
          148.15,
          141.655,
          136.27,
          152.85999999999999,
          144.57500000000002,
          148.745,
          137.485,
          125.02500000000002,
          145.085,
          142.04000000000002,
          135.255,
          129.92000000000002,
          135.57500000000002,
          138.525,
          142.785,
          125.17000000000002,
          130.08,
          130.84,
          136.175,
          138.3,
          72.89500000000001,
          124.07400000000001,
          117.125,
          112.20500000000001,
          122.365,
          108.165,
          115.155,
          118.625,
          115.375,
          107.105,
          111.67500000000001,
          107.425,
          114.19500000000001,
          101.65,
          112.39500000000001,
          110.475,
          113.5,
          106.32900000000001,
          113.17500000000001,
          101.25,
          107.7,
          93.72500000000001,
          96.46000000000001,
          98.85000000000002,
          96.2,
          96.979,
          81.75000000000001,
          93.08,
          86.805,
          79.60000000000001,
          79.795,
          82.39,
          78.22500000000001,
          76.992,
          68.75,
          77.63000000000001,
          70.44500000000001,
          81.075,
          73.59000000000002,
          73.13,
          67.2,
          67.305,
          68.35,
          61.230000000000004,
          61.47,
          51.27,
          60.625,
          60.47,
          59.68000000000001,
          62.095000000000006,
          59.50000000000001,
          55.596000000000004,
          54.018,
          52.225,
          57.445,
          51.545,
          47.275000000000006,
          52.525000000000006,
          49.49,
          46.235,
          45.495000000000005,
          47.025000000000006,
          46.045,
          45.525000000000006,
          43.525,
          46.198,
          40.88,
          42.355000000000004,
          43.35,
          36.36,
          36.34,
          34.92,
          33.59,
          30.19,
          29.875000000000004,
          25.55,
          27.92,
          20.775000000000002,
          26.475,
          25.900000000000002,
          22.727,
          23.310000000000002,
          16.472,
          21.882,
          21.150000000000002,
          19.61,
          18.985,
          18.825,
          18.275000000000002,
          16.715,
          15.275,
          16.674999999999997,
          16,
          17.125,
          15.3,
          16.7,
          14.595,
          15.775,
          12.1,
          8.275,
          1.95,
          1.4975000000000003,
          6.450000000000001,
          4.926,
          2.4000000000000004,
          0.098
         ],
         "yaxis": "y"
        },
        {
         "alignmentgroup": "True",
         "customdata": [
          [
           346.4555,
           "NYJ",
           "DEF"
          ],
          [
           346.4555,
           "NYG",
           "DEF"
          ],
          [
           174.95289999999997,
           "NO",
           "DEF"
          ],
          [
           201.8853,
           "MIA",
           "DEF"
          ],
          [
           166.7886,
           "WAS",
           "DEF"
          ],
          [
           170.8296,
           "PHI",
           "DEF"
          ],
          [
           145.9791,
           "DEN",
           "DEF"
          ],
          [
           133.64299999999997,
           "CAR",
           "DEF"
          ],
          [
           143.8792,
           "KC",
           "DEF"
          ],
          [
           160.7198,
           "BAL",
           "DEF"
          ],
          [
           143.3171,
           "JAX",
           "DEF"
          ],
          [
           142.81369999999998,
           "CLE",
           "DEF"
          ],
          [
           117.72359999999996,
           "ATL",
           "DEF"
          ],
          [
           149.3028,
           "PIT",
           "DEF"
          ],
          [
           253.51559999999998,
           "LAC",
           "DEF"
          ],
          [
           253.51559999999998,
           "LAR",
           "DEF"
          ],
          [
           96.881,
           "LV",
           "DEF"
          ],
          [
           141.7584,
           "BUF",
           "DEF"
          ],
          [
           102.47090000000001,
           "DET",
           "DEF"
          ],
          [
           107.9966,
           "TB",
           "DEF"
          ],
          [
           111.9377,
           "NE",
           "DEF"
          ],
          [
           94.2154,
           "ARI",
           "DEF"
          ],
          [
           118.66149999999999,
           "CIN",
           "DEF"
          ],
          [
           140.02729999999997,
           "SF",
           "DEF"
          ],
          [
           111.1324,
           "TEN",
           "DEF"
          ],
          [
           94.8938,
           "SEA",
           "DEF"
          ],
          [
           91.56799999999998,
           "GB",
           "DEF"
          ],
          [
           62.40820000000001,
           "MIN",
           "DEF"
          ],
          [
           89.12029999999999,
           "IND",
           "DEF"
          ],
          [
           88.5956,
           "HOU",
           "DEF"
          ],
          [
           68.84360000000001,
           "DAL",
           "DEF"
          ],
          [
           25.368599999999986,
           "CHI",
           "DEF"
          ]
         ],
         "hovertemplate": "<b>%{hovertext}</b><br><br>Predicted Points=%{y}<br>Relative Value=%{customdata[0]}<extra></extra>",
         "hovertext": [
          "NYJ",
          "NYG",
          "NO",
          "MIA",
          "WAS",
          "PHI",
          "DEN",
          "CAR",
          "KC",
          "BAL",
          "JAX",
          "CLE",
          "ATL",
          "PIT",
          "LAC",
          "LAR",
          "LV",
          "BUF",
          "DET",
          "TB",
          "NE",
          "ARI",
          "CIN",
          "SF",
          "TEN",
          "SEA",
          "GB",
          "MIN",
          "IND",
          "HOU",
          "DAL",
          "CHI"
         ],
         "legendgroup": "DEF",
         "marker": {
          "color": "#667825",
          "pattern": {
           "shape": ""
          }
         },
         "name": "DEF",
         "offsetgroup": "DEF",
         "orientation": "v",
         "showlegend": true,
         "text": [
          "NYJ",
          "NYG",
          "NO",
          "MIA",
          "WAS",
          "PHI",
          "DEN",
          "CAR",
          "KC",
          "BAL",
          "JAX",
          "CLE",
          "ATL",
          "PIT",
          "LAC",
          "LAR",
          "LV",
          "BUF",
          "DET",
          "TB",
          "NE",
          "ARI",
          "CIN",
          "SF",
          "TEN",
          "SEA",
          "GB",
          "MIN",
          "IND",
          "HOU",
          "DAL",
          "CHI"
         ],
         "textposition": "inside",
         "type": "bar",
         "x": [
          "📜 Providence 🪬 Spirits 🥂",
          "Count of Monte Christian",
          "kevinbash",
          "Pretty Big Wieners",
          "Croccity Body Snatchers",
          "Pretty Big Wieners",
          "Croccity Body Snatchers",
          "Verdanks Vacqueros FFC",
          "Idk much about soccer ",
          "GusTheBus",
          "Saskatoon Squatches ",
          "2014champ",
          "Count of Monte Christian",
          "GusTheBus",
          "DangeRUSS Last Ride",
          "Comeback 👑’s",
          "Count of Monte Christian",
          "kevinbash",
          "Verdanks Vacqueros FFC",
          "Comeback 👑’s",
          "kevinbash",
          "Verdanks Vacqueros FFC",
          "Pretty Big Wieners",
          "Croccity Body Snatchers",
          "Saskatoon Squatches ",
          "Saskatoon Squatches ",
          "DangeRUSS Last Ride",
          "Comeback 👑’s",
          "Idk much about soccer ",
          "📜 Providence 🪬 Spirits 🥂",
          "📜 Providence 🪬 Spirits 🥂",
          "2014champ"
         ],
         "xaxis": "x",
         "y": [
          223.2018,
          223.2018,
          118.9535,
          141.6788,
          110.78920000000001,
          110.62310000000002,
          83.78840000000001,
          73.25649999999999,
          83.6727,
          97.85260000000001,
          81.12640000000003,
          83.6547,
          61.72419999999998,
          89.33449999999999,
          134.1501,
          134.1501,
          34.01380000000002,
          78.89120000000001,
          40.28020000000003,
          48.837600000000016,
          55.93830000000001,
          38.21600000000002,
          58.275000000000006,
          77.8366,
          50.74590000000001,
          35.734800000000014,
          31.599699999999995,
          -0.4589999999999712,
          33.120900000000006,
          28.209100000000014,
          8.457100000000022,
          -37.498599999999996
         ],
         "yaxis": "y"
        },
        {
         "alignmentgroup": "True",
         "customdata": [
          [
           179.14999999999998,
           "Daniel Carlson",
           "PK"
          ],
          [
           175.8,
           "Evan McPherson",
           "PK"
          ],
          [
           170.25,
           "Justin Tucker",
           "PK"
          ],
          [
           170.54999999999998,
           "Chris Boswell",
           "PK"
          ],
          [
           165.65,
           "Harrison Butker",
           "PK"
          ],
          [
           162.2,
           "Riley Patterson",
           "PK"
          ],
          [
           157.15,
           "Younghoe Koo",
           "PK"
          ],
          [
           153.25,
           "Chad Ryland",
           "PK"
          ],
          [
           157.15,
           "Jake Elliott",
           "PK"
          ],
          [
           155.70000000000002,
           "Matt Prater",
           "PK"
          ],
          [
           154.35,
           "Brandon Aubrey",
           "PK"
          ],
          [
           150.89999999999998,
           "Jason Myers",
           "PK"
          ],
          [
           150.89999999999998,
           "Greg Joseph",
           "PK"
          ],
          [
           150.81999999999996,
           "Cameron Dicker",
           "PK"
          ],
          [
           148.8,
           "Brandon McManus",
           "PK"
          ],
          [
           144.85,
           "Jason Sanders",
           "PK"
          ],
          [
           149.04999999999998,
           "Eddy Pineiro",
           "PK"
          ],
          [
           143.95,
           "Greg Zuerlein",
           "PK"
          ],
          [
           144.35,
           "Matt Gay",
           "PK"
          ],
          [
           140.6,
           "Tyler Bass",
           "PK"
          ],
          [
           142.85,
           "Chase McLaughlin",
           "PK"
          ],
          [
           143.7,
           "Joey Slye",
           "PK"
          ],
          [
           137.05,
           "Graham Gano",
           "PK"
          ],
          [
           141.3,
           "Jake Moody",
           "PK"
          ],
          [
           130.20000000000002,
           "Wil Lutz",
           "PK"
          ],
          [
           126.65,
           "Nick Folk",
           "PK"
          ],
          [
           132.45,
           "Dustin Hopkins",
           "PK"
          ],
          [
           128.25,
           "Ka'imi Fairbairn",
           "PK"
          ],
          [
           124.45,
           "Anders Carlson",
           "PK"
          ],
          [
           119.54,
           "Cairo Santos",
           "PK"
          ],
          [
           107.4,
           "Blake Grupe",
           "PK"
          ],
          [
           0,
           "Michael Dickson",
           "PK"
          ],
          [
           0,
           "Ethan Evans",
           "PK"
          ],
          [
           0,
           "Tommy Townsend",
           "PK"
          ],
          [
           0,
           "Rigoberto Sanchez",
           "PK"
          ],
          [
           0,
           "Tress Way",
           "PK"
          ],
          [
           0,
           "Brad Robbins",
           "PK"
          ],
          [
           0,
           "Sam Martin",
           "PK"
          ],
          [
           0,
           "Ryan Stonehouse",
           "PK"
          ],
          [
           0,
           "Jack Fox",
           "PK"
          ],
          [
           0,
           "Corey Bojorquez",
           "PK"
          ],
          [
           0,
           "Jake Bailey",
           "PK"
          ],
          [
           0,
           "Johnny Hekker",
           "PK"
          ],
          [
           0,
           "Nolan Cooney",
           "PK"
          ],
          [
           0,
           "Daniel Whelan",
           "PK"
          ],
          [
           0,
           "Bryan Anger",
           "PK"
          ],
          [
           0,
           "Bradley Pinion",
           "PK"
          ],
          [
           0,
           "Daniel Whelan",
           "PK"
          ],
          [
           0,
           "Ryan Wright",
           "PK"
          ],
          [
           0,
           "Jordan Stout",
           "PK"
          ],
          [
           0,
           "Mitch Wishnowsky",
           "PK"
          ],
          [
           0,
           "Riley Dixon",
           "PK"
          ],
          [
           0,
           "Bryce Baringer",
           "PK"
          ],
          [
           0,
           "Trenton Gill",
           "PK"
          ],
          [
           0,
           "JK Scott",
           "PK"
          ],
          [
           0,
           "Jamie Gillan",
           "PK"
          ],
          [
           0,
           "Logan Cooke",
           "PK"
          ],
          [
           0,
           "AJ Cole",
           "PK"
          ],
          [
           0,
           "Pressley Harvin",
           "PK"
          ],
          [
           0,
           "Jake Camarda",
           "PK"
          ]
         ],
         "hovertemplate": "<b>%{hovertext}</b><br><br>Predicted Points=%{y}<br>Relative Value=%{customdata[0]}<extra></extra>",
         "hovertext": [
          "Daniel Carlson",
          "Evan McPherson",
          "Justin Tucker",
          "Chris Boswell",
          "Harrison Butker",
          "Riley Patterson",
          "Younghoe Koo",
          "Chad Ryland",
          "Jake Elliott",
          "Matt Prater",
          "Brandon Aubrey",
          "Jason Myers",
          "Greg Joseph",
          "Cameron Dicker",
          "Brandon McManus",
          "Jason Sanders",
          "Eddy Pineiro",
          "Greg Zuerlein",
          "Matt Gay",
          "Tyler Bass",
          "Chase McLaughlin",
          "Joey Slye",
          "Graham Gano",
          "Jake Moody",
          "Wil Lutz",
          "Nick Folk",
          "Dustin Hopkins",
          "Ka'imi Fairbairn",
          "Anders Carlson",
          "Cairo Santos",
          "Blake Grupe",
          "Michael Dickson",
          "Ethan Evans",
          "Tommy Townsend",
          "Rigoberto Sanchez",
          "Tress Way",
          "Brad Robbins",
          "Sam Martin",
          "Ryan Stonehouse",
          "Jack Fox",
          "Corey Bojorquez",
          "Jake Bailey",
          "Johnny Hekker",
          "Nolan Cooney",
          "Daniel Whelan",
          "Bryan Anger",
          "Bradley Pinion",
          "Daniel Whelan",
          "Ryan Wright",
          "Jordan Stout",
          "Mitch Wishnowsky",
          "Riley Dixon",
          "Bryce Baringer",
          "Trenton Gill",
          "JK Scott",
          "Jamie Gillan",
          "Logan Cooke",
          "AJ Cole",
          "Pressley Harvin",
          "Jake Camarda"
         ],
         "legendgroup": "PK",
         "marker": {
          "color": "#B3BF54",
          "pattern": {
           "shape": ""
          }
         },
         "name": "PK",
         "offsetgroup": "PK",
         "orientation": "v",
         "showlegend": true,
         "text": [
          "Daniel Carlson",
          "Evan McPherson",
          "Justin Tucker",
          "Chris Boswell",
          "Harrison Butker",
          "Riley Patterson",
          "Younghoe Koo",
          "Chad Ryland",
          "Jake Elliott",
          "Matt Prater",
          "Brandon Aubrey",
          "Jason Myers",
          "Greg Joseph",
          "Cameron Dicker",
          "Brandon McManus",
          "Jason Sanders",
          "Eddy Pineiro",
          "Greg Zuerlein",
          "Matt Gay",
          "Tyler Bass",
          "Chase McLaughlin",
          "Joey Slye",
          "Graham Gano",
          "Jake Moody",
          "Wil Lutz",
          "Nick Folk",
          "Dustin Hopkins",
          "Ka'imi Fairbairn",
          "Anders Carlson",
          "Cairo Santos",
          "Blake Grupe",
          "Michael Dickson",
          "Ethan Evans",
          "Tommy Townsend",
          "Rigoberto Sanchez",
          "Tress Way",
          "Brad Robbins",
          "Sam Martin",
          "Ryan Stonehouse",
          "Jack Fox",
          "Corey Bojorquez",
          "Jake Bailey",
          "Johnny Hekker",
          "Nolan Cooney",
          "Daniel Whelan",
          "Bryan Anger",
          "Bradley Pinion",
          "Daniel Whelan",
          "Ryan Wright",
          "Jordan Stout",
          "Mitch Wishnowsky",
          "Riley Dixon",
          "Bryce Baringer",
          "Trenton Gill",
          "JK Scott",
          "Jamie Gillan",
          "Logan Cooke",
          "AJ Cole",
          "Pressley Harvin",
          "Jake Camarda"
         ],
         "textposition": "inside",
         "type": "bar",
         "x": [
          "Pretty Big Wieners",
          "📜 Providence 🪬 Spirits 🥂",
          "GusTheBus",
          "Croccity Body Snatchers",
          "Count of Monte Christian",
          "Saskatoon Squatches ",
          "Croccity Body Snatchers",
          "Comeback 👑’s",
          "DangeRUSS Last Ride",
          null,
          "kevinbash",
          "Idk much about soccer ",
          "2014champ",
          "Croccity Body Snatchers",
          "Idk much about soccer ",
          "Saskatoon Squatches ",
          "Verdanks Vacqueros FFC",
          "Comeback 👑’s",
          "DangeRUSS Last Ride",
          "📜 Providence 🪬 Spirits 🥂",
          "Count of Monte Christian",
          "GusTheBus",
          "Saskatoon Squatches ",
          "Verdanks Vacqueros FFC",
          "2014champ",
          "Comeback 👑’s",
          "Croccity Body Snatchers",
          "Count of Monte Christian",
          "kevinbash",
          "Pretty Big Wieners",
          null,
          null,
          null,
          null,
          null,
          null,
          null,
          null,
          null,
          null,
          null,
          null,
          null,
          null,
          null,
          null,
          null,
          null,
          null,
          null,
          null,
          null,
          null,
          null,
          null,
          null,
          null,
          null,
          null,
          null
         ],
         "xaxis": "x",
         "y": [
          179.14999999999998,
          175.8,
          170.25,
          170.54999999999998,
          165.65,
          162.2,
          157.15,
          153.25,
          157.15,
          155.70000000000002,
          154.35,
          150.89999999999998,
          150.89999999999998,
          150.81999999999996,
          148.8,
          144.85,
          149.04999999999998,
          143.95,
          144.35,
          140.6,
          142.85,
          143.7,
          137.05,
          141.3,
          130.20000000000002,
          126.65,
          132.45,
          128.25,
          124.45,
          119.54,
          107.4,
          0,
          0,
          0,
          0,
          0,
          0,
          0,
          0,
          0,
          0,
          0,
          0,
          0,
          0,
          0,
          0,
          0,
          0,
          0,
          0,
          0,
          0,
          0,
          0,
          0,
          0,
          0,
          0,
          0
         ],
         "yaxis": "y"
        },
        {
         "alignmentgroup": "True",
         "customdata": [
          [
           150.83749999999998,
           "Travis Kelce",
           "TE"
          ],
          [
           159.7025,
           "Mark Andrews",
           "TE"
          ],
          [
           153.92,
           "George Kittle",
           "TE"
          ],
          [
           122.5775,
           "Juwan Johnson",
           "TE"
          ],
          [
           116.35750000000002,
           "Dawson Knox",
           "TE"
          ],
          [
           124.20250000000001,
           "Dallas Goedert",
           "TE"
          ],
          [
           125.3525,
           "Taysom Hill",
           "TE"
          ],
          [
           110.9575,
           "T.J. Hockenson",
           "TE"
          ],
          [
           108.2175,
           "Dalton Schultz",
           "TE"
          ],
          [
           111.1025,
           "Kyle Pitts",
           "TE"
          ],
          [
           96.50500000000001,
           "Evan Engram",
           "TE"
          ],
          [
           106.5425,
           "David Njoku",
           "TE"
          ],
          [
           110.5825,
           "Darren Waller",
           "TE"
          ],
          [
           103.48250000000002,
           "Pat Freiermuth",
           "TE"
          ],
          [
           94.08,
           "Sam LaPorta",
           "TE"
          ],
          [
           95.80250000000001,
           "Tyler Higbee",
           "TE"
          ],
          [
           98.9275,
           "Cole Kmet",
           "TE"
          ],
          [
           89.76750000000001,
           "Chigoziem Okonkwo",
           "TE"
          ],
          [
           100.705,
           "Greg Dulcich",
           "TE"
          ],
          [
           93.02250000000001,
           "Gerald Everett",
           "TE"
          ],
          [
           83.7225,
           "Noah Fant",
           "TE"
          ],
          [
           87.55250000000001,
           "Zach Ertz",
           "TE"
          ],
          [
           84.25250000000001,
           "Hunter Henry",
           "TE"
          ],
          [
           86.67750000000001,
           "Luke Schoonmaker",
           "TE"
          ],
          [
           76.9205,
           "Austin Hooper",
           "TE"
          ],
          [
           78.08250000000001,
           "Jake Ferguson",
           "TE"
          ],
          [
           69.3525,
           "Luke Musgrave",
           "TE"
          ],
          [
           73.52350000000001,
           "Tyler Conklin",
           "TE"
          ],
          [
           76.5775,
           "Cade Otton",
           "TE"
          ],
          [
           40.6285,
           "Noah Gray",
           "TE"
          ],
          [
           74.0025,
           "Irv Smith",
           "TE"
          ],
          [
           68.55250000000001,
           "Isaiah Likely",
           "TE"
          ],
          [
           74.75750000000001,
           "Dalton Kincaid",
           "TE"
          ],
          [
           60.45250000000001,
           "Hayden Hurst",
           "TE"
          ],
          [
           67.2035,
           "Durham Smythe",
           "TE"
          ],
          [
           61.78750000000001,
           "Logan Thomas",
           "TE"
          ],
          [
           57.627500000000005,
           "Foster Moreau",
           "TE"
          ],
          [
           53.002500000000005,
           "Teagan Quitoriano",
           "TE"
          ],
          [
           45.892500000000005,
           "C.J. Uzomah",
           "TE"
          ],
          [
           40.355000000000004,
           "Brock Wright",
           "TE"
          ],
          [
           37.8025,
           "Mike Gesicki",
           "TE"
          ],
          [
           47.6435,
           "Jonnu Smith",
           "TE"
          ],
          [
           48.5125,
           "Will Dissly",
           "TE"
          ],
          [
           45.7775,
           "Daniel Bellinger",
           "TE"
          ],
          [
           45.002500000000005,
           "Jordan Akins",
           "TE"
          ],
          [
           42.3325,
           "Mo Alie-Cox",
           "TE"
          ],
          [
           35.532500000000006,
           "Trey McBride",
           "TE"
          ],
          [
           42.322500000000005,
           "John Bates",
           "TE"
          ],
          [
           42.127500000000005,
           "MyCole Pruitt",
           "TE"
          ],
          [
           39.847500000000004,
           "Robert Tonyan",
           "TE"
          ],
          [
           32.252500000000005,
           "Tommy Tremble",
           "TE"
          ],
          [
           37.5125,
           "Colby Parkinson",
           "TE"
          ],
          [
           35.2475,
           "Josiah Deguara",
           "TE"
          ],
          [
           31.9155,
           "Trevon Wesco",
           "TE"
          ],
          [
           32.542500000000004,
           "Donald Parham",
           "TE"
          ],
          [
           31.652500000000003,
           "Kylen Granson",
           "TE"
          ],
          [
           30.8775,
           "Ian Thomas",
           "TE"
          ],
          [
           31.067500000000003,
           "Ko Kieft",
           "TE"
          ],
          [
           30.5925,
           "Brevin Jordan",
           "TE"
          ],
          [
           30.337500000000006,
           "Harrison Bryant",
           "TE"
          ],
          [
           32.95250000000001,
           "Jimmy Graham",
           "TE"
          ],
          [
           29.697500000000005,
           "Connor Heyward",
           "TE"
          ],
          [
           24.362500000000004,
           "Michael Mayer",
           "TE"
          ],
          [
           27.617500000000003,
           "Darnell Washington",
           "TE"
          ],
          [
           24.577500000000004,
           "Julian Hill",
           "TE"
          ],
          [
           24.725,
           "James Mitchell",
           "TE"
          ],
          [
           23.082500000000003,
           "Johnny Mundt",
           "TE"
          ],
          [
           18.7725,
           "Blake Bell",
           "TE"
          ],
          [
           25.330000000000005,
           "Adam Trautman",
           "TE"
          ],
          [
           24.9125,
           "Peyton Hendershot",
           "TE"
          ],
          [
           21.302500000000002,
           "Brycen Hopkins",
           "TE"
          ],
          [
           19.8275,
           "Mitchell Wilcox",
           "TE"
          ],
          [
           19.652500000000003,
           "Tucker Kraft",
           "TE"
          ],
          [
           18.2025,
           "Jack Stoll",
           "TE"
          ],
          [
           16.6275,
           "Tre' McKitty",
           "TE"
          ],
          [
           18.005000000000003,
           "Luke Farrell",
           "TE"
          ],
          [
           15.902500000000002,
           "Josh Oliver",
           "TE"
          ],
          [
           15.372500000000002,
           "Marcedes Lewis",
           "TE"
          ],
          [
           11.0025,
           "Drew Sample",
           "TE"
          ],
          [
           11.18,
           "Charlie Woerner",
           "TE"
          ],
          [
           9.7775,
           "Geoff Swaim",
           "TE"
          ],
          [
           8.0275,
           "Charlie Kolar",
           "TE"
          ],
          [
           8.717500000000001,
           "Albert Okwuegbunam",
           "TE"
          ],
          [
           3.8775,
           "Quintin Morris",
           "TE"
          ],
          [
           5.555000000000001,
           "Brenton Strange",
           "TE"
          ],
          [
           4.506,
           "Chris Manhertz",
           "TE"
          ],
          [
           4.4325,
           "Hunter Long",
           "TE"
          ],
          [
           4.702500000000001,
           "Josh Whyle",
           "TE"
          ],
          [
           3.1025,
           "David Wells",
           "TE"
          ],
          [
           0.36000000000000004,
           "Will Mallory",
           "TE"
          ],
          [
           3.325,
           "Jeremy Ruckert",
           "TE"
          ],
          [
           1.4825000000000002,
           "Grant Calcaterra",
           "TE"
          ],
          [
           0.039999999999999994,
           "Ross Dwelley",
           "TE"
          ],
          [
           0.034999999999999996,
           "Stone Smartt",
           "TE"
          ]
         ],
         "hovertemplate": "<b>%{hovertext}</b><br><br>Predicted Points=%{y}<br>Relative Value=%{customdata[0]}<extra></extra>",
         "hovertext": [
          "Travis Kelce",
          "Mark Andrews",
          "George Kittle",
          "Juwan Johnson",
          "Dawson Knox",
          "Dallas Goedert",
          "Taysom Hill",
          "T.J. Hockenson",
          "Dalton Schultz",
          "Kyle Pitts",
          "Evan Engram",
          "David Njoku",
          "Darren Waller",
          "Pat Freiermuth",
          "Sam LaPorta",
          "Tyler Higbee",
          "Cole Kmet",
          "Chigoziem Okonkwo",
          "Greg Dulcich",
          "Gerald Everett",
          "Noah Fant",
          "Zach Ertz",
          "Hunter Henry",
          "Luke Schoonmaker",
          "Austin Hooper",
          "Jake Ferguson",
          "Luke Musgrave",
          "Tyler Conklin",
          "Cade Otton",
          "Noah Gray",
          "Irv Smith",
          "Isaiah Likely",
          "Dalton Kincaid",
          "Hayden Hurst",
          "Durham Smythe",
          "Logan Thomas",
          "Foster Moreau",
          "Teagan Quitoriano",
          "C.J. Uzomah",
          "Brock Wright",
          "Mike Gesicki",
          "Jonnu Smith",
          "Will Dissly",
          "Daniel Bellinger",
          "Jordan Akins",
          "Mo Alie-Cox",
          "Trey McBride",
          "John Bates",
          "MyCole Pruitt",
          "Robert Tonyan",
          "Tommy Tremble",
          "Colby Parkinson",
          "Josiah Deguara",
          "Trevon Wesco",
          "Donald Parham",
          "Kylen Granson",
          "Ian Thomas",
          "Ko Kieft",
          "Brevin Jordan",
          "Harrison Bryant",
          "Jimmy Graham",
          "Connor Heyward",
          "Michael Mayer",
          "Darnell Washington",
          "Julian Hill",
          "James Mitchell",
          "Johnny Mundt",
          "Blake Bell",
          "Adam Trautman",
          "Peyton Hendershot",
          "Brycen Hopkins",
          "Mitchell Wilcox",
          "Tucker Kraft",
          "Jack Stoll",
          "Tre' McKitty",
          "Luke Farrell",
          "Josh Oliver",
          "Marcedes Lewis",
          "Drew Sample",
          "Charlie Woerner",
          "Geoff Swaim",
          "Charlie Kolar",
          "Albert Okwuegbunam",
          "Quintin Morris",
          "Brenton Strange",
          "Chris Manhertz",
          "Hunter Long",
          "Josh Whyle",
          "David Wells",
          "Will Mallory",
          "Jeremy Ruckert",
          "Grant Calcaterra",
          "Ross Dwelley",
          "Stone Smartt"
         ],
         "legendgroup": "TE",
         "marker": {
          "color": "#AEDFF2",
          "pattern": {
           "shape": ""
          }
         },
         "name": "TE",
         "offsetgroup": "TE",
         "orientation": "v",
         "showlegend": true,
         "text": [
          "Travis Kelce",
          "Mark Andrews",
          "George Kittle",
          "Juwan Johnson",
          "Dawson Knox",
          "Dallas Goedert",
          "Taysom Hill",
          "T.J. Hockenson",
          "Dalton Schultz",
          "Kyle Pitts",
          "Evan Engram",
          "David Njoku",
          "Darren Waller",
          "Pat Freiermuth",
          "Sam LaPorta",
          "Tyler Higbee",
          "Cole Kmet",
          "Chigoziem Okonkwo",
          "Greg Dulcich",
          "Gerald Everett",
          "Noah Fant",
          "Zach Ertz",
          "Hunter Henry",
          "Luke Schoonmaker",
          "Austin Hooper",
          "Jake Ferguson",
          "Luke Musgrave",
          "Tyler Conklin",
          "Cade Otton",
          "Noah Gray",
          "Irv Smith",
          "Isaiah Likely",
          "Dalton Kincaid",
          "Hayden Hurst",
          "Durham Smythe",
          "Logan Thomas",
          "Foster Moreau",
          "Teagan Quitoriano",
          "C.J. Uzomah",
          "Brock Wright",
          "Mike Gesicki",
          "Jonnu Smith",
          "Will Dissly",
          "Daniel Bellinger",
          "Jordan Akins",
          "Mo Alie-Cox",
          "Trey McBride",
          "John Bates",
          "MyCole Pruitt",
          "Robert Tonyan",
          "Tommy Tremble",
          "Colby Parkinson",
          "Josiah Deguara",
          "Trevon Wesco",
          "Donald Parham",
          "Kylen Granson",
          "Ian Thomas",
          "Ko Kieft",
          "Brevin Jordan",
          "Harrison Bryant",
          "Jimmy Graham",
          "Connor Heyward",
          "Michael Mayer",
          "Darnell Washington",
          "Julian Hill",
          "James Mitchell",
          "Johnny Mundt",
          "Blake Bell",
          "Adam Trautman",
          "Peyton Hendershot",
          "Brycen Hopkins",
          "Mitchell Wilcox",
          "Tucker Kraft",
          "Jack Stoll",
          "Tre' McKitty",
          "Luke Farrell",
          "Josh Oliver",
          "Marcedes Lewis",
          "Drew Sample",
          "Charlie Woerner",
          "Geoff Swaim",
          "Charlie Kolar",
          "Albert Okwuegbunam",
          "Quintin Morris",
          "Brenton Strange",
          "Chris Manhertz",
          "Hunter Long",
          "Josh Whyle",
          "David Wells",
          "Will Mallory",
          "Jeremy Ruckert",
          "Grant Calcaterra",
          "Ross Dwelley",
          "Stone Smartt"
         ],
         "textposition": "inside",
         "type": "bar",
         "x": [
          "Verdanks Vacqueros FFC",
          "Pretty Big Wieners",
          "DangeRUSS Last Ride",
          "GusTheBus",
          "Idk much about soccer ",
          "Saskatoon Squatches ",
          "2014champ",
          "Saskatoon Squatches ",
          "Comeback 👑’s",
          "📜 Providence 🪬 Spirits 🥂",
          "2014champ",
          "Verdanks Vacqueros FFC",
          "DangeRUSS Last Ride",
          "Saskatoon Squatches ",
          "kevinbash",
          "Croccity Body Snatchers",
          "Saskatoon Squatches ",
          "Pretty Big Wieners",
          "Croccity Body Snatchers",
          "DangeRUSS Last Ride",
          "GusTheBus",
          null,
          "Count of Monte Christian",
          "Count of Monte Christian",
          null,
          "DangeRUSS Last Ride",
          "2014champ",
          "Pretty Big Wieners",
          "Idk much about soccer ",
          "Count of Monte Christian",
          "📜 Providence 🪬 Spirits 🥂",
          "Saskatoon Squatches ",
          "Verdanks Vacqueros FFC",
          null,
          null,
          "GusTheBus",
          null,
          null,
          null,
          null,
          "Croccity Body Snatchers",
          null,
          null,
          "Croccity Body Snatchers",
          "Comeback 👑’s",
          null,
          "📜 Providence 🪬 Spirits 🥂",
          null,
          null,
          "Comeback 👑’s",
          null,
          null,
          null,
          null,
          null,
          "kevinbash",
          null,
          null,
          "Pretty Big Wieners",
          null,
          null,
          null,
          "GusTheBus",
          "Pretty Big Wieners",
          null,
          null,
          null,
          null,
          "kevinbash",
          null,
          null,
          null,
          "Saskatoon Squatches ",
          null,
          null,
          null,
          null,
          null,
          null,
          null,
          null,
          null,
          null,
          null,
          "GusTheBus",
          null,
          null,
          null,
          null,
          "GusTheBus",
          null,
          null,
          null,
          null
         ],
         "xaxis": "x",
         "y": [
          151.08,
          159.95000000000002,
          154.065,
          122.825,
          116.60500000000002,
          124.45000000000002,
          125.60000000000001,
          111.205,
          108.465,
          111.35000000000001,
          96.65,
          106.79,
          110.83,
          103.73,
          94.225,
          96.05000000000001,
          99.175,
          90.015,
          100.85,
          93.27000000000001,
          83.97,
          87.8,
          84.5,
          86.925,
          77.168,
          78.33000000000001,
          69.60000000000001,
          73.771,
          76.825,
          40.876000000000005,
          74.25,
          68.80000000000001,
          75.00500000000001,
          60.7,
          67.45100000000001,
          62.035000000000004,
          57.875,
          53.25000000000001,
          46.14,
          40.5,
          38.050000000000004,
          47.891,
          48.760000000000005,
          46.025,
          45.25,
          42.580000000000005,
          35.78,
          42.57,
          42.375,
          40.095000000000006,
          32.5,
          37.76,
          35.495000000000005,
          32.163000000000004,
          32.79,
          31.900000000000002,
          31.125,
          31.315,
          30.84,
          30.585,
          33.2,
          29.945,
          24.61,
          27.865000000000002,
          24.825000000000003,
          24.869999999999997,
          23.330000000000002,
          19.02,
          25.475000000000005,
          25.16,
          21.55,
          20.075,
          19.900000000000002,
          18.45,
          16.875,
          18.15,
          16.150000000000002,
          15.620000000000001,
          11.25,
          11.325000000000001,
          10.025,
          8.275,
          8.965,
          4.125,
          5.7,
          4.651000000000001,
          4.675000000000001,
          4.95,
          3.35,
          0.44500000000000006,
          3.5725000000000002,
          1.7300000000000002,
          0.185,
          0.05
         ],
         "yaxis": "y"
        },
        {
         "mode": "text",
         "showlegend": false,
         "text": [
          3215,
          3001,
          3195,
          3929,
          3024,
          3060,
          2795,
          3656,
          3617,
          3253,
          3323,
          3199
         ],
         "textfont": {
          "size": 12
         },
         "textposition": "top center",
         "type": "scatter",
         "x": [
          "2014champ",
          "Comeback 👑’s",
          "Count of Monte Christian",
          "Croccity Body Snatchers",
          "DangeRUSS Last Ride",
          "GusTheBus",
          "Idk much about soccer ",
          "Pretty Big Wieners",
          "Saskatoon Squatches ",
          "Verdanks Vacqueros FFC",
          "kevinbash",
          "📜 Providence 🪬 Spirits 🥂"
         ],
         "y": [
          3215,
          3001,
          3195,
          3929,
          3024,
          3060,
          2795,
          3656,
          3617,
          3253,
          3323,
          3199
         ]
        }
       ],
       "layout": {
        "barmode": "stack",
        "font": {
         "family": "Input Serif"
        },
        "legend": {
         "title": {
          "text": "position"
         },
         "tracegroupgap": 0
        },
        "margin": {
         "t": 60
        },
        "plot_bgcolor": "rgba(0,0,0,0)",
        "showlegend": false,
        "template": {
         "data": {
          "bar": [
           {
            "error_x": {
             "color": "#2a3f5f"
            },
            "error_y": {
             "color": "#2a3f5f"
            },
            "marker": {
             "line": {
              "color": "#E5ECF6",
              "width": 0.5
             },
             "pattern": {
              "fillmode": "overlay",
              "size": 10,
              "solidity": 0.2
             }
            },
            "type": "bar"
           }
          ],
          "barpolar": [
           {
            "marker": {
             "line": {
              "color": "#E5ECF6",
              "width": 0.5
             },
             "pattern": {
              "fillmode": "overlay",
              "size": 10,
              "solidity": 0.2
             }
            },
            "type": "barpolar"
           }
          ],
          "carpet": [
           {
            "aaxis": {
             "endlinecolor": "#2a3f5f",
             "gridcolor": "white",
             "linecolor": "white",
             "minorgridcolor": "white",
             "startlinecolor": "#2a3f5f"
            },
            "baxis": {
             "endlinecolor": "#2a3f5f",
             "gridcolor": "white",
             "linecolor": "white",
             "minorgridcolor": "white",
             "startlinecolor": "#2a3f5f"
            },
            "type": "carpet"
           }
          ],
          "choropleth": [
           {
            "colorbar": {
             "outlinewidth": 0,
             "ticks": ""
            },
            "type": "choropleth"
           }
          ],
          "contour": [
           {
            "colorbar": {
             "outlinewidth": 0,
             "ticks": ""
            },
            "colorscale": [
             [
              0,
              "#0d0887"
             ],
             [
              0.1111111111111111,
              "#46039f"
             ],
             [
              0.2222222222222222,
              "#7201a8"
             ],
             [
              0.3333333333333333,
              "#9c179e"
             ],
             [
              0.4444444444444444,
              "#bd3786"
             ],
             [
              0.5555555555555556,
              "#d8576b"
             ],
             [
              0.6666666666666666,
              "#ed7953"
             ],
             [
              0.7777777777777778,
              "#fb9f3a"
             ],
             [
              0.8888888888888888,
              "#fdca26"
             ],
             [
              1,
              "#f0f921"
             ]
            ],
            "type": "contour"
           }
          ],
          "contourcarpet": [
           {
            "colorbar": {
             "outlinewidth": 0,
             "ticks": ""
            },
            "type": "contourcarpet"
           }
          ],
          "heatmap": [
           {
            "colorbar": {
             "outlinewidth": 0,
             "ticks": ""
            },
            "colorscale": [
             [
              0,
              "#0d0887"
             ],
             [
              0.1111111111111111,
              "#46039f"
             ],
             [
              0.2222222222222222,
              "#7201a8"
             ],
             [
              0.3333333333333333,
              "#9c179e"
             ],
             [
              0.4444444444444444,
              "#bd3786"
             ],
             [
              0.5555555555555556,
              "#d8576b"
             ],
             [
              0.6666666666666666,
              "#ed7953"
             ],
             [
              0.7777777777777778,
              "#fb9f3a"
             ],
             [
              0.8888888888888888,
              "#fdca26"
             ],
             [
              1,
              "#f0f921"
             ]
            ],
            "type": "heatmap"
           }
          ],
          "heatmapgl": [
           {
            "colorbar": {
             "outlinewidth": 0,
             "ticks": ""
            },
            "colorscale": [
             [
              0,
              "#0d0887"
             ],
             [
              0.1111111111111111,
              "#46039f"
             ],
             [
              0.2222222222222222,
              "#7201a8"
             ],
             [
              0.3333333333333333,
              "#9c179e"
             ],
             [
              0.4444444444444444,
              "#bd3786"
             ],
             [
              0.5555555555555556,
              "#d8576b"
             ],
             [
              0.6666666666666666,
              "#ed7953"
             ],
             [
              0.7777777777777778,
              "#fb9f3a"
             ],
             [
              0.8888888888888888,
              "#fdca26"
             ],
             [
              1,
              "#f0f921"
             ]
            ],
            "type": "heatmapgl"
           }
          ],
          "histogram": [
           {
            "marker": {
             "pattern": {
              "fillmode": "overlay",
              "size": 10,
              "solidity": 0.2
             }
            },
            "type": "histogram"
           }
          ],
          "histogram2d": [
           {
            "colorbar": {
             "outlinewidth": 0,
             "ticks": ""
            },
            "colorscale": [
             [
              0,
              "#0d0887"
             ],
             [
              0.1111111111111111,
              "#46039f"
             ],
             [
              0.2222222222222222,
              "#7201a8"
             ],
             [
              0.3333333333333333,
              "#9c179e"
             ],
             [
              0.4444444444444444,
              "#bd3786"
             ],
             [
              0.5555555555555556,
              "#d8576b"
             ],
             [
              0.6666666666666666,
              "#ed7953"
             ],
             [
              0.7777777777777778,
              "#fb9f3a"
             ],
             [
              0.8888888888888888,
              "#fdca26"
             ],
             [
              1,
              "#f0f921"
             ]
            ],
            "type": "histogram2d"
           }
          ],
          "histogram2dcontour": [
           {
            "colorbar": {
             "outlinewidth": 0,
             "ticks": ""
            },
            "colorscale": [
             [
              0,
              "#0d0887"
             ],
             [
              0.1111111111111111,
              "#46039f"
             ],
             [
              0.2222222222222222,
              "#7201a8"
             ],
             [
              0.3333333333333333,
              "#9c179e"
             ],
             [
              0.4444444444444444,
              "#bd3786"
             ],
             [
              0.5555555555555556,
              "#d8576b"
             ],
             [
              0.6666666666666666,
              "#ed7953"
             ],
             [
              0.7777777777777778,
              "#fb9f3a"
             ],
             [
              0.8888888888888888,
              "#fdca26"
             ],
             [
              1,
              "#f0f921"
             ]
            ],
            "type": "histogram2dcontour"
           }
          ],
          "mesh3d": [
           {
            "colorbar": {
             "outlinewidth": 0,
             "ticks": ""
            },
            "type": "mesh3d"
           }
          ],
          "parcoords": [
           {
            "line": {
             "colorbar": {
              "outlinewidth": 0,
              "ticks": ""
             }
            },
            "type": "parcoords"
           }
          ],
          "pie": [
           {
            "automargin": true,
            "type": "pie"
           }
          ],
          "scatter": [
           {
            "fillpattern": {
             "fillmode": "overlay",
             "size": 10,
             "solidity": 0.2
            },
            "type": "scatter"
           }
          ],
          "scatter3d": [
           {
            "line": {
             "colorbar": {
              "outlinewidth": 0,
              "ticks": ""
             }
            },
            "marker": {
             "colorbar": {
              "outlinewidth": 0,
              "ticks": ""
             }
            },
            "type": "scatter3d"
           }
          ],
          "scattercarpet": [
           {
            "marker": {
             "colorbar": {
              "outlinewidth": 0,
              "ticks": ""
             }
            },
            "type": "scattercarpet"
           }
          ],
          "scattergeo": [
           {
            "marker": {
             "colorbar": {
              "outlinewidth": 0,
              "ticks": ""
             }
            },
            "type": "scattergeo"
           }
          ],
          "scattergl": [
           {
            "marker": {
             "colorbar": {
              "outlinewidth": 0,
              "ticks": ""
             }
            },
            "type": "scattergl"
           }
          ],
          "scattermapbox": [
           {
            "marker": {
             "colorbar": {
              "outlinewidth": 0,
              "ticks": ""
             }
            },
            "type": "scattermapbox"
           }
          ],
          "scatterpolar": [
           {
            "marker": {
             "colorbar": {
              "outlinewidth": 0,
              "ticks": ""
             }
            },
            "type": "scatterpolar"
           }
          ],
          "scatterpolargl": [
           {
            "marker": {
             "colorbar": {
              "outlinewidth": 0,
              "ticks": ""
             }
            },
            "type": "scatterpolargl"
           }
          ],
          "scatterternary": [
           {
            "marker": {
             "colorbar": {
              "outlinewidth": 0,
              "ticks": ""
             }
            },
            "type": "scatterternary"
           }
          ],
          "surface": [
           {
            "colorbar": {
             "outlinewidth": 0,
             "ticks": ""
            },
            "colorscale": [
             [
              0,
              "#0d0887"
             ],
             [
              0.1111111111111111,
              "#46039f"
             ],
             [
              0.2222222222222222,
              "#7201a8"
             ],
             [
              0.3333333333333333,
              "#9c179e"
             ],
             [
              0.4444444444444444,
              "#bd3786"
             ],
             [
              0.5555555555555556,
              "#d8576b"
             ],
             [
              0.6666666666666666,
              "#ed7953"
             ],
             [
              0.7777777777777778,
              "#fb9f3a"
             ],
             [
              0.8888888888888888,
              "#fdca26"
             ],
             [
              1,
              "#f0f921"
             ]
            ],
            "type": "surface"
           }
          ],
          "table": [
           {
            "cells": {
             "fill": {
              "color": "#EBF0F8"
             },
             "line": {
              "color": "white"
             }
            },
            "header": {
             "fill": {
              "color": "#C8D4E3"
             },
             "line": {
              "color": "white"
             }
            },
            "type": "table"
           }
          ]
         },
         "layout": {
          "annotationdefaults": {
           "arrowcolor": "#2a3f5f",
           "arrowhead": 0,
           "arrowwidth": 1
          },
          "autotypenumbers": "strict",
          "coloraxis": {
           "colorbar": {
            "outlinewidth": 0,
            "ticks": ""
           }
          },
          "colorscale": {
           "diverging": [
            [
             0,
             "#8e0152"
            ],
            [
             0.1,
             "#c51b7d"
            ],
            [
             0.2,
             "#de77ae"
            ],
            [
             0.3,
             "#f1b6da"
            ],
            [
             0.4,
             "#fde0ef"
            ],
            [
             0.5,
             "#f7f7f7"
            ],
            [
             0.6,
             "#e6f5d0"
            ],
            [
             0.7,
             "#b8e186"
            ],
            [
             0.8,
             "#7fbc41"
            ],
            [
             0.9,
             "#4d9221"
            ],
            [
             1,
             "#276419"
            ]
           ],
           "sequential": [
            [
             0,
             "#0d0887"
            ],
            [
             0.1111111111111111,
             "#46039f"
            ],
            [
             0.2222222222222222,
             "#7201a8"
            ],
            [
             0.3333333333333333,
             "#9c179e"
            ],
            [
             0.4444444444444444,
             "#bd3786"
            ],
            [
             0.5555555555555556,
             "#d8576b"
            ],
            [
             0.6666666666666666,
             "#ed7953"
            ],
            [
             0.7777777777777778,
             "#fb9f3a"
            ],
            [
             0.8888888888888888,
             "#fdca26"
            ],
            [
             1,
             "#f0f921"
            ]
           ],
           "sequentialminus": [
            [
             0,
             "#0d0887"
            ],
            [
             0.1111111111111111,
             "#46039f"
            ],
            [
             0.2222222222222222,
             "#7201a8"
            ],
            [
             0.3333333333333333,
             "#9c179e"
            ],
            [
             0.4444444444444444,
             "#bd3786"
            ],
            [
             0.5555555555555556,
             "#d8576b"
            ],
            [
             0.6666666666666666,
             "#ed7953"
            ],
            [
             0.7777777777777778,
             "#fb9f3a"
            ],
            [
             0.8888888888888888,
             "#fdca26"
            ],
            [
             1,
             "#f0f921"
            ]
           ]
          },
          "colorway": [
           "#636efa",
           "#EF553B",
           "#00cc96",
           "#ab63fa",
           "#FFA15A",
           "#19d3f3",
           "#FF6692",
           "#B6E880",
           "#FF97FF",
           "#FECB52"
          ],
          "font": {
           "color": "#2a3f5f"
          },
          "geo": {
           "bgcolor": "white",
           "lakecolor": "white",
           "landcolor": "#E5ECF6",
           "showlakes": true,
           "showland": true,
           "subunitcolor": "white"
          },
          "hoverlabel": {
           "align": "left"
          },
          "hovermode": "closest",
          "mapbox": {
           "style": "light"
          },
          "paper_bgcolor": "white",
          "plot_bgcolor": "#E5ECF6",
          "polar": {
           "angularaxis": {
            "gridcolor": "white",
            "linecolor": "white",
            "ticks": ""
           },
           "bgcolor": "#E5ECF6",
           "radialaxis": {
            "gridcolor": "white",
            "linecolor": "white",
            "ticks": ""
           }
          },
          "scene": {
           "xaxis": {
            "backgroundcolor": "#E5ECF6",
            "gridcolor": "white",
            "gridwidth": 2,
            "linecolor": "white",
            "showbackground": true,
            "ticks": "",
            "zerolinecolor": "white"
           },
           "yaxis": {
            "backgroundcolor": "#E5ECF6",
            "gridcolor": "white",
            "gridwidth": 2,
            "linecolor": "white",
            "showbackground": true,
            "ticks": "",
            "zerolinecolor": "white"
           },
           "zaxis": {
            "backgroundcolor": "#E5ECF6",
            "gridcolor": "white",
            "gridwidth": 2,
            "linecolor": "white",
            "showbackground": true,
            "ticks": "",
            "zerolinecolor": "white"
           }
          },
          "shapedefaults": {
           "line": {
            "color": "#2a3f5f"
           }
          },
          "ternary": {
           "aaxis": {
            "gridcolor": "white",
            "linecolor": "white",
            "ticks": ""
           },
           "baxis": {
            "gridcolor": "white",
            "linecolor": "white",
            "ticks": ""
           },
           "bgcolor": "#E5ECF6",
           "caxis": {
            "gridcolor": "white",
            "linecolor": "white",
            "ticks": ""
           }
          },
          "title": {
           "x": 0.05
          },
          "xaxis": {
           "automargin": true,
           "gridcolor": "white",
           "linecolor": "white",
           "ticks": "",
           "title": {
            "standoff": 15
           },
           "zerolinecolor": "white",
           "zerolinewidth": 2
          },
          "yaxis": {
           "automargin": true,
           "gridcolor": "white",
           "linecolor": "white",
           "ticks": "",
           "title": {
            "standoff": 15
           },
           "zerolinecolor": "white",
           "zerolinewidth": 2
          }
         }
        },
        "title": {
         "text": "Franchise Comparison"
        },
        "xaxis": {
         "anchor": "y",
         "categoryorder": "total descending",
         "domain": [
          0,
          1
         ],
         "title": {}
        },
        "yaxis": {
         "anchor": "x",
         "domain": [
          0,
          1
         ],
         "title": {
          "text": "Predicted Points"
         },
         "visible": false
        }
       }
      }
     },
     "metadata": {},
     "output_type": "display_data"
    }
   ],
   "source": [
    "# Visualize\n",
    "fig = compareFranchises(player_sums, how='absolute')\n",
    "fig.show()"
   ]
  },
  {
   "cell_type": "markdown",
   "metadata": {},
   "source": [
    "# Roster Optimizer"
   ]
  },
  {
   "cell_type": "code",
   "execution_count": 16,
   "metadata": {},
   "outputs": [
    {
     "data": {
      "application/vnd.plotly.v1+json": {
       "config": {
        "plotlyServerURL": "https://plot.ly"
       },
       "data": [
        {
         "alignmentgroup": "True",
         "customdata": [
          [
           193.41000000000003,
           "Josh Allen",
           "QB"
          ],
          [
           185.85999999999999,
           "Patrick Mahomes",
           "QB"
          ],
          [
           178.41000000000003,
           "Jalen Hurts",
           "QB"
          ],
          [
           102.86,
           "Joe Burrow",
           "QB"
          ],
          [
           83.69999999999997,
           "Kirk Cousins",
           "QB"
          ],
          [
           104.87000000000002,
           "Justin Herbert",
           "QB"
          ],
          [
           77.94000000000001,
           "Lamar Jackson",
           "QB"
          ],
          [
           85.86000000000001,
           "Geno Smith",
           "QB"
          ],
          [
           77.52000000000001,
           "Dak Prescott",
           "QB"
          ],
          [
           89.02000000000001,
           "Justin Fields",
           "QB"
          ],
          [
           47.66999999999999,
           "Tua Tagovailoa",
           "QB"
          ],
          [
           25.790000000000006,
           "Jared Goff",
           "QB"
          ],
          [
           58.7,
           "Jimmy Garoppolo",
           "QB"
          ],
          [
           42.650000000000006,
           "Trevor Lawrence",
           "QB"
          ],
          [
           22.930000000000003,
           "Ryan Tannehill",
           "QB"
          ],
          [
           23.70000000000001,
           "Baker Mayfield",
           "QB"
          ],
          [
           10.660000000000007,
           "Matthew Stafford",
           "QB"
          ],
          [
           43.65000000000002,
           "Derek Carr",
           "QB"
          ],
          [
           39.49,
           "Jordan Love",
           "QB"
          ],
          [
           46.41,
           "Brock Purdy",
           "QB"
          ],
          [
           28.590000000000007,
           "Deshaun Watson",
           "QB"
          ],
          [
           43.16000000000001,
           "Daniel Jones",
           "QB"
          ],
          [
           22.79,
           "Sam Howell",
           "QB"
          ],
          [
           17.359999999999992,
           "Aaron Rodgers",
           "QB"
          ],
          [
           21.000000000000007,
           "Mac Jones",
           "QB"
          ],
          [
           22.280000000000015,
           "Russell Wilson",
           "QB"
          ],
          [
           12.059999999999993,
           "Desmond Ridder",
           "QB"
          ],
          [
           1.9900000000000002,
           "Bryce Young",
           "QB"
          ],
          [
           4.4300000000000015,
           "Kenny Pickett",
           "QB"
          ],
          [
           0,
           "Kyler Murray",
           "QB"
          ]
         ],
         "hovertemplate": "<b>%{hovertext}</b><br><br>Predicted Points=%{y}<br>Relative Value=%{customdata[0]}<extra></extra>",
         "hovertext": [
          "Josh Allen",
          "Patrick Mahomes",
          "Jalen Hurts",
          "Joe Burrow",
          "Kirk Cousins",
          "Justin Herbert",
          "Lamar Jackson",
          "Geno Smith",
          "Dak Prescott",
          "Justin Fields",
          "Tua Tagovailoa",
          "Jared Goff",
          "Jimmy Garoppolo",
          "Trevor Lawrence",
          "Ryan Tannehill",
          "Baker Mayfield",
          "Matthew Stafford",
          "Derek Carr",
          "Jordan Love",
          "Brock Purdy",
          "Deshaun Watson",
          "Daniel Jones",
          "Sam Howell",
          "Aaron Rodgers",
          "Mac Jones",
          "Russell Wilson",
          "Desmond Ridder",
          "Bryce Young",
          "Kenny Pickett",
          "Kyler Murray"
         ],
         "legendgroup": "QB",
         "marker": {
          "color": "#591D73",
          "pattern": {
           "shape": ""
          }
         },
         "name": "QB",
         "offsetgroup": "QB",
         "orientation": "v",
         "showlegend": true,
         "text": [
          "Josh Allen",
          "Patrick Mahomes",
          "Jalen Hurts",
          "Joe Burrow",
          "Kirk Cousins",
          "Justin Herbert",
          "Lamar Jackson",
          "Geno Smith",
          "Dak Prescott",
          "Justin Fields",
          "Tua Tagovailoa",
          "Jared Goff",
          "Jimmy Garoppolo",
          "Trevor Lawrence",
          "Ryan Tannehill",
          "Baker Mayfield",
          "Matthew Stafford",
          "Derek Carr",
          "Jordan Love",
          "Brock Purdy",
          "Deshaun Watson",
          "Daniel Jones",
          "Sam Howell",
          "Aaron Rodgers",
          "Mac Jones",
          "Russell Wilson",
          "Desmond Ridder",
          "Bryce Young",
          "Kenny Pickett",
          "Kyler Murray"
         ],
         "textposition": "inside",
         "type": "bar",
         "x": [
          "Comeback 👑’s",
          "Saskatoon Squatches ",
          "Croccity Body Snatchers",
          "Verdanks Vacqueros FFC",
          "2014champ",
          "kevinbash",
          "GusTheBus",
          "DangeRUSS Last Ride",
          "📜 Providence 🪬 Spirits 🥂",
          "Idk much about soccer ",
          "Verdanks Vacqueros FFC",
          "Verdanks Vacqueros FFC",
          "Idk much about soccer ",
          "2014champ",
          "kevinbash",
          "Count of Monte Christian",
          "Comeback 👑’s",
          "Count of Monte Christian",
          "📜 Providence 🪬 Spirits 🥂",
          "Croccity Body Snatchers",
          "Pretty Big Wieners",
          "Comeback 👑’s",
          "kevinbash",
          "Pretty Big Wieners",
          "Pretty Big Wieners",
          "DangeRUSS Last Ride",
          "GusTheBus",
          "Idk much about soccer ",
          "GusTheBus",
          "Croccity Body Snatchers"
         ],
         "xaxis": "x",
         "y": [
          385.69,
          379.77,
          372.32000000000005,
          294.97,
          275.97999999999996,
          297.49,
          270.22,
          278.48,
          269.63,
          281.3,
          181.31,
          108.86,
          250.98000000000002,
          237.18,
          144.55,
          216.32000000000002,
          59.290000000000006,
          236.99000000000004,
          231.17000000000002,
          240.94,
          173.3,
          198.94000000000003,
          117.37,
          112.86,
          189.61,
          216.81000000000003,
          146.16,
          14.120000000000001,
          86.87,
          20.380000000000003
         ],
         "yaxis": "y"
        },
        {
         "alignmentgroup": "True",
         "customdata": [
          [
           214.41500000000002,
           "Austin Ekeler",
           "RB"
          ],
          [
           204.51999999999998,
           "Derrick Henry",
           "RB"
          ],
          [
           196.10500000000002,
           "Christian McCaffrey",
           "RB"
          ],
          [
           179.285,
           "Josh Jacobs",
           "RB"
          ],
          [
           184.055,
           "Nick Chubb",
           "RB"
          ],
          [
           170.19,
           "James Conner",
           "RB"
          ],
          [
           162.05,
           "Joe Mixon",
           "RB"
          ],
          [
           156.205,
           "Kenneth Walker",
           "RB"
          ],
          [
           138.805,
           "Miles Sanders",
           "RB"
          ],
          [
           160.22500000000002,
           "Najee Harris",
           "RB"
          ],
          [
           156.785,
           "Antonio Gibson",
           "RB"
          ],
          [
           151.6,
           "Tony Pollard",
           "RB"
          ],
          [
           147.24,
           "Rhamondre Stevenson",
           "RB"
          ],
          [
           140.22500000000002,
           "Isiah Pacheco",
           "RB"
          ],
          [
           93.45,
           "Bijan Robinson",
           "RB"
          ],
          [
           111.17,
           "Travis Etienne",
           "RB"
          ],
          [
           107.34,
           "J.K. Dobbins",
           "RB"
          ],
          [
           134.22000000000003,
           "Khalil Herbert",
           "RB"
          ],
          [
           135.49,
           "Saquon Barkley",
           "RB"
          ],
          [
           134.20499999999998,
           "David Montgomery",
           "RB"
          ],
          [
           129.15,
           "Aaron Jones",
           "RB"
          ],
          [
           123.15,
           "Dameon Pierce",
           "RB"
          ],
          [
           118.51000000000002,
           "Brian Robinson",
           "RB"
          ],
          [
           107.10000000000001,
           "Rachaad White",
           "RB"
          ],
          [
           111.11,
           "Alexander Mattison",
           "RB"
          ],
          [
           111.48500000000001,
           "Javonte Williams",
           "RB"
          ],
          [
           109.58000000000001,
           "D'Andre Swift",
           "RB"
          ],
          [
           119.39000000000001,
           "Raheem Mostert",
           "RB"
          ],
          [
           101.2,
           "Cam Akers",
           "RB"
          ],
          [
           122.18,
           "Zamir White",
           "RB"
          ],
          [
           100.985,
           "AJ Dillon",
           "RB"
          ],
          [
           102.08,
           "Breece Hall",
           "RB"
          ],
          [
           90.06,
           "Jamaal Williams",
           "RB"
          ],
          [
           104.34,
           "Ezekiel Elliott",
           "RB"
          ],
          [
           93.435,
           "James Cook",
           "RB"
          ],
          [
           56.305,
           "Jerick McKinnon",
           "RB"
          ],
          [
           52.94,
           "Tyler Allgeier",
           "RB"
          ],
          [
           62.345,
           "Rico Dowdle",
           "RB"
          ],
          [
           80.09,
           "Dalvin Cook",
           "RB"
          ],
          [
           9.745000000000003,
           "Zack Moss",
           "RB"
          ],
          [
           73.34,
           "Kenneth Gainwell",
           "RB"
          ],
          [
           17.92,
           "Jahmyr Gibbs",
           "RB"
          ],
          [
           81.845,
           "Zach Charbonnet",
           "RB"
          ],
          [
           53.87,
           "Elijah Mitchell",
           "RB"
          ],
          [
           16.005000000000003,
           "Damien Harris",
           "RB"
          ],
          [
           7.504999999999999,
           "Devin Singletary",
           "RB"
          ],
          [
           12.065000000000003,
           "Chase Edmonds",
           "RB"
          ],
          [
           11.975,
           "Clyde Edwards-Helaire",
           "RB"
          ],
          [
           6.93,
           "Samaje Perine",
           "RB"
          ],
          [
           8.815000000000003,
           "Gus Edwards",
           "RB"
          ],
          [
           0,
           "Matt Breida",
           "RB"
          ],
          [
           1.6175000000000002,
           "Roschon Johnson",
           "RB"
          ],
          [
           0,
           "Jaleel McLaughlin",
           "RB"
          ]
         ],
         "hovertemplate": "<b>%{hovertext}</b><br><br>Predicted Points=%{y}<br>Relative Value=%{customdata[0]}<extra></extra>",
         "hovertext": [
          "Austin Ekeler",
          "Derrick Henry",
          "Christian McCaffrey",
          "Josh Jacobs",
          "Nick Chubb",
          "James Conner",
          "Joe Mixon",
          "Kenneth Walker",
          "Miles Sanders",
          "Najee Harris",
          "Antonio Gibson",
          "Tony Pollard",
          "Rhamondre Stevenson",
          "Isiah Pacheco",
          "Bijan Robinson",
          "Travis Etienne",
          "J.K. Dobbins",
          "Khalil Herbert",
          "Saquon Barkley",
          "David Montgomery",
          "Aaron Jones",
          "Dameon Pierce",
          "Brian Robinson",
          "Rachaad White",
          "Alexander Mattison",
          "Javonte Williams",
          "D'Andre Swift",
          "Raheem Mostert",
          "Cam Akers",
          "Zamir White",
          "AJ Dillon",
          "Breece Hall",
          "Jamaal Williams",
          "Ezekiel Elliott",
          "James Cook",
          "Jerick McKinnon",
          "Tyler Allgeier",
          "Rico Dowdle",
          "Dalvin Cook",
          "Zack Moss",
          "Kenneth Gainwell",
          "Jahmyr Gibbs",
          "Zach Charbonnet",
          "Elijah Mitchell",
          "Damien Harris",
          "Devin Singletary",
          "Chase Edmonds",
          "Clyde Edwards-Helaire",
          "Samaje Perine",
          "Gus Edwards",
          "Matt Breida",
          "Roschon Johnson",
          "Jaleel McLaughlin"
         ],
         "legendgroup": "RB",
         "marker": {
          "color": "#233257",
          "pattern": {
           "shape": ""
          }
         },
         "name": "RB",
         "offsetgroup": "RB",
         "orientation": "v",
         "showlegend": true,
         "text": [
          "Austin Ekeler",
          "Derrick Henry",
          "Christian McCaffrey",
          "Josh Jacobs",
          "Nick Chubb",
          "James Conner",
          "Joe Mixon",
          "Kenneth Walker",
          "Miles Sanders",
          "Najee Harris",
          "Antonio Gibson",
          "Tony Pollard",
          "Rhamondre Stevenson",
          "Isiah Pacheco",
          "Bijan Robinson",
          "Travis Etienne",
          "J.K. Dobbins",
          "Khalil Herbert",
          "Saquon Barkley",
          "David Montgomery",
          "Aaron Jones",
          "Dameon Pierce",
          "Brian Robinson",
          "Rachaad White",
          "Alexander Mattison",
          "Javonte Williams",
          "D'Andre Swift",
          "Raheem Mostert",
          "Cam Akers",
          "Zamir White",
          "AJ Dillon",
          "Breece Hall",
          "Jamaal Williams",
          "Ezekiel Elliott",
          "James Cook",
          "Jerick McKinnon",
          "Tyler Allgeier",
          "Rico Dowdle",
          "Dalvin Cook",
          "Zack Moss",
          "Kenneth Gainwell",
          "Jahmyr Gibbs",
          "Zach Charbonnet",
          "Elijah Mitchell",
          "Damien Harris",
          "Devin Singletary",
          "Chase Edmonds",
          "Clyde Edwards-Helaire",
          "Samaje Perine",
          "Gus Edwards",
          "Matt Breida",
          "Roschon Johnson",
          "Jaleel McLaughlin"
         ],
         "textposition": "inside",
         "type": "bar",
         "x": [
          "Croccity Body Snatchers",
          "DangeRUSS Last Ride",
          "DangeRUSS Last Ride",
          "Croccity Body Snatchers",
          "kevinbash",
          "DangeRUSS Last Ride",
          "Croccity Body Snatchers",
          "Verdanks Vacqueros FFC",
          "Pretty Big Wieners",
          "2014champ",
          "Count of Monte Christian",
          "Saskatoon Squatches ",
          "Saskatoon Squatches ",
          "Saskatoon Squatches ",
          "2014champ",
          "Verdanks Vacqueros FFC",
          "Pretty Big Wieners",
          "GusTheBus",
          "Saskatoon Squatches ",
          "Croccity Body Snatchers",
          "kevinbash",
          "GusTheBus",
          "Idk much about soccer ",
          "📜 Providence 🪬 Spirits 🥂",
          "Pretty Big Wieners",
          "Saskatoon Squatches ",
          "📜 Providence 🪬 Spirits 🥂",
          "2014champ",
          "GusTheBus",
          "kevinbash",
          "📜 Providence 🪬 Spirits 🥂",
          "Comeback 👑’s",
          "Comeback 👑’s",
          "Verdanks Vacqueros FFC",
          "Pretty Big Wieners",
          "DangeRUSS Last Ride",
          "DangeRUSS Last Ride",
          "📜 Providence 🪬 Spirits 🥂",
          "GusTheBus",
          "Verdanks Vacqueros FFC",
          "Count of Monte Christian",
          "📜 Providence 🪬 Spirits 🥂",
          "Idk much about soccer ",
          "Verdanks Vacqueros FFC",
          "2014champ",
          "Verdanks Vacqueros FFC",
          "kevinbash",
          "Comeback 👑’s",
          "GusTheBus",
          "Comeback 👑’s",
          "Count of Monte Christian",
          "📜 Providence 🪬 Spirits 🥂",
          "Comeback 👑’s"
         ],
         "xaxis": "x",
         "y": [
          280.475,
          274.295,
          262.175,
          249.05,
          250.115,
          237.035,
          231.825,
          222.26500000000001,
          208.57999999999998,
          225.32000000000002,
          223.63,
          221.375,
          213.29000000000002,
          207.22500000000002,
          155.035,
          177.24,
          177.10500000000002,
          203.985,
          205.255,
          200.275,
          194.245,
          192.925,
          185.35500000000002,
          173.16000000000003,
          180.875,
          177.555,
          176.58,
          186.39000000000001,
          168.20000000000002,
          191.94500000000002,
          166.08,
          171.85500000000002,
          156.11,
          170.39000000000001,
          163.2,
          108.52000000000001,
          84.6,
          113.515,
          149.865,
          18.865000000000002,
          140.34,
          33.285000000000004,
          147.905,
          105.39,
          32.925000000000004,
          20.9,
          26.39,
          73.83,
          11.215,
          73.15,
          7.205,
          2.3675,
          1.51
         ],
         "yaxis": "y"
        },
        {
         "alignmentgroup": "True",
         "customdata": [
          [
           168.145,
           "Justin Jefferson",
           "WR"
          ],
          [
           148.139,
           "Tyreek Hill",
           "WR"
          ],
          [
           141.154,
           "CeeDee Lamb",
           "WR"
          ],
          [
           133.264,
           "Davante Adams",
           "WR"
          ],
          [
           129.75400000000002,
           "Ja'Marr Chase",
           "WR"
          ],
          [
           115.21900000000001,
           "Keenan Allen",
           "WR"
          ],
          [
           121.798,
           "Stefon Diggs",
           "WR"
          ],
          [
           108.69900000000001,
           "Cooper Kupp",
           "WR"
          ],
          [
           117.95400000000001,
           "Deebo Samuel",
           "WR"
          ],
          [
           115.924,
           "Jaylen Waddle",
           "WR"
          ],
          [
           114.679,
           "A.J. Brown",
           "WR"
          ],
          [
           95.50899999999999,
           "Christian Watson",
           "WR"
          ],
          [
           108.54400000000001,
           "Amon-Ra St. Brown",
           "WR"
          ],
          [
           93.369,
           "Mike Evans",
           "WR"
          ],
          [
           99.48400000000001,
           "Garrett Wilson",
           "WR"
          ],
          [
           91.10400000000001,
           "Chris Godwin",
           "WR"
          ],
          [
           91.81400000000001,
           "Tyler Lockett",
           "WR"
          ],
          [
           86.21400000000001,
           "Christian Kirk",
           "WR"
          ],
          [
           101.35400000000001,
           "Tee Higgins",
           "WR"
          ],
          [
           12.500000000000002,
           "Romeo Doubs",
           "WR"
          ],
          [
           87.60200000000002,
           "Chris Olave",
           "WR"
          ],
          [
           79.67900000000002,
           "DeAndre Hopkins",
           "WR"
          ],
          [
           77.66400000000002,
           "Jahan Dotson",
           "WR"
          ],
          [
           85.88,
           "Amari Cooper",
           "WR"
          ],
          [
           77.04100000000001,
           "DK Metcalf",
           "WR"
          ],
          [
           78.167,
           "DeVonta Smith",
           "WR"
          ],
          [
           83.034,
           "Terry McLaurin",
           "WR"
          ],
          [
           57.275000000000006,
           "Nico Collins",
           "WR"
          ],
          [
           75.40399999999998,
           "Michael Pittman",
           "WR"
          ],
          [
           71.504,
           "Mike Williams",
           "WR"
          ],
          [
           71.485,
           "DJ Moore",
           "WR"
          ],
          [
           35.915000000000006,
           "Gabe Davis",
           "WR"
          ],
          [
           64.794,
           "DJ Chark",
           "WR"
          ],
          [
           75.255,
           "Odell Beckham",
           "WR"
          ],
          [
           70.135,
           "Jordan Addison",
           "WR"
          ],
          [
           51.95400000000001,
           "Drake London",
           "WR"
          ],
          [
           33.82500000000001,
           "Marquise Brown",
           "WR"
          ],
          [
           48.93500000000001,
           "JuJu Smith-Schuster",
           "WR"
          ],
          [
           59.40899999999999,
           "Brandon Aiyuk",
           "WR"
          ],
          [
           48.84400000000001,
           "Diontae Johnson",
           "WR"
          ],
          [
           53.82900000000001,
           "Jerry Jeudy",
           "WR"
          ],
          [
           28.524000000000004,
           "Zay Jones",
           "WR"
          ],
          [
           55.379,
           "George Pickens",
           "WR"
          ],
          [
           52.718999999999994,
           "Mecole Hardman",
           "WR"
          ],
          [
           62.659,
           "Richie James",
           "WR"
          ],
          [
           7.069000000000001,
           "Calvin Ridley",
           "WR"
          ],
          [
           27.11200000000001,
           "Allen Lazard",
           "WR"
          ],
          [
           19.52,
           "Courtland Sutton",
           "WR"
          ],
          [
           10.373999999999999,
           "Michael Thomas",
           "WR"
          ],
          [
           19.584,
           "Van Jefferson",
           "WR"
          ],
          [
           32.509,
           "Brandin Cooks",
           "WR"
          ],
          [
           12.444000000000003,
           "Donovan Peoples-Jones",
           "WR"
          ],
          [
           18.075,
           "Jakobi Meyers",
           "WR"
          ],
          [
           3.55,
           "Darnell Mooney",
           "WR"
          ],
          [
           5.525,
           "K.J. Osborn",
           "WR"
          ],
          [
           9.285,
           "Rondale Moore",
           "WR"
          ],
          [
           3.659,
           "Adam Thielen",
           "WR"
          ],
          [
           20.354000000000003,
           "Josh Reynolds",
           "WR"
          ],
          [
           9.129000000000001,
           "Tyler Boyd",
           "WR"
          ],
          [
           5.279999999999998,
           "Marvin Mims",
           "WR"
          ],
          [
           6.093000000000002,
           "Hunter Renfrow",
           "WR"
          ],
          [
           4.564000000000001,
           "Michael Gallup",
           "WR"
          ],
          [
           1.9740000000000002,
           "Robert Woods",
           "WR"
          ],
          [
           5.249,
           "Kadarius Toney",
           "WR"
          ],
          [
           0,
           "Randall Cobb",
           "WR"
          ],
          [
           0,
           "Chase Claypool",
           "WR"
          ],
          [
           0,
           "Nelson Agholor",
           "WR"
          ]
         ],
         "hovertemplate": "<b>%{hovertext}</b><br><br>Predicted Points=%{y}<br>Relative Value=%{customdata[0]}<extra></extra>",
         "hovertext": [
          "Justin Jefferson",
          "Tyreek Hill",
          "CeeDee Lamb",
          "Davante Adams",
          "Ja'Marr Chase",
          "Keenan Allen",
          "Stefon Diggs",
          "Cooper Kupp",
          "Deebo Samuel",
          "Jaylen Waddle",
          "A.J. Brown",
          "Christian Watson",
          "Amon-Ra St. Brown",
          "Mike Evans",
          "Garrett Wilson",
          "Chris Godwin",
          "Tyler Lockett",
          "Christian Kirk",
          "Tee Higgins",
          "Romeo Doubs",
          "Chris Olave",
          "DeAndre Hopkins",
          "Jahan Dotson",
          "Amari Cooper",
          "DK Metcalf",
          "DeVonta Smith",
          "Terry McLaurin",
          "Nico Collins",
          "Michael Pittman",
          "Mike Williams",
          "DJ Moore",
          "Gabe Davis",
          "DJ Chark",
          "Odell Beckham",
          "Jordan Addison",
          "Drake London",
          "Marquise Brown",
          "JuJu Smith-Schuster",
          "Brandon Aiyuk",
          "Diontae Johnson",
          "Jerry Jeudy",
          "Zay Jones",
          "George Pickens",
          "Mecole Hardman",
          "Richie James",
          "Calvin Ridley",
          "Allen Lazard",
          "Courtland Sutton",
          "Michael Thomas",
          "Van Jefferson",
          "Brandin Cooks",
          "Donovan Peoples-Jones",
          "Jakobi Meyers",
          "Darnell Mooney",
          "K.J. Osborn",
          "Rondale Moore",
          "Adam Thielen",
          "Josh Reynolds",
          "Tyler Boyd",
          "Marvin Mims",
          "Hunter Renfrow",
          "Michael Gallup",
          "Robert Woods",
          "Kadarius Toney",
          "Randall Cobb",
          "Chase Claypool",
          "Nelson Agholor"
         ],
         "legendgroup": "WR",
         "marker": {
          "color": "#4068B8",
          "pattern": {
           "shape": ""
          }
         },
         "name": "WR",
         "offsetgroup": "WR",
         "orientation": "v",
         "showlegend": true,
         "text": [
          "Justin Jefferson",
          "Tyreek Hill",
          "CeeDee Lamb",
          "Davante Adams",
          "Ja'Marr Chase",
          "Keenan Allen",
          "Stefon Diggs",
          "Cooper Kupp",
          "Deebo Samuel",
          "Jaylen Waddle",
          "A.J. Brown",
          "Christian Watson",
          "Amon-Ra St. Brown",
          "Mike Evans",
          "Garrett Wilson",
          "Chris Godwin",
          "Tyler Lockett",
          "Christian Kirk",
          "Tee Higgins",
          "Romeo Doubs",
          "Chris Olave",
          "DeAndre Hopkins",
          "Jahan Dotson",
          "Amari Cooper",
          "DK Metcalf",
          "DeVonta Smith",
          "Terry McLaurin",
          "Nico Collins",
          "Michael Pittman",
          "Mike Williams",
          "DJ Moore",
          "Gabe Davis",
          "DJ Chark",
          "Odell Beckham",
          "Jordan Addison",
          "Drake London",
          "Marquise Brown",
          "JuJu Smith-Schuster",
          "Brandon Aiyuk",
          "Diontae Johnson",
          "Jerry Jeudy",
          "Zay Jones",
          "George Pickens",
          "Mecole Hardman",
          "Richie James",
          "Calvin Ridley",
          "Allen Lazard",
          "Courtland Sutton",
          "Michael Thomas",
          "Van Jefferson",
          "Brandin Cooks",
          "Donovan Peoples-Jones",
          "Jakobi Meyers",
          "Darnell Mooney",
          "K.J. Osborn",
          "Rondale Moore",
          "Adam Thielen",
          "Josh Reynolds",
          "Tyler Boyd",
          "Marvin Mims",
          "Hunter Renfrow",
          "Michael Gallup",
          "Robert Woods",
          "Kadarius Toney",
          "Randall Cobb",
          "Chase Claypool",
          "Nelson Agholor"
         ],
         "textposition": "inside",
         "type": "bar",
         "x": [
          "Pretty Big Wieners",
          "Saskatoon Squatches ",
          "Count of Monte Christian",
          "Verdanks Vacqueros FFC",
          "Saskatoon Squatches ",
          "Pretty Big Wieners",
          "Comeback 👑’s",
          "2014champ",
          "2014champ",
          "GusTheBus",
          "Pretty Big Wieners",
          "Count of Monte Christian",
          "kevinbash",
          "kevinbash",
          "📜 Providence 🪬 Spirits 🥂",
          "Croccity Body Snatchers",
          "Croccity Body Snatchers",
          "GusTheBus",
          "2014champ",
          "📜 Providence 🪬 Spirits 🥂",
          "Count of Monte Christian",
          "Verdanks Vacqueros FFC",
          "📜 Providence 🪬 Spirits 🥂",
          "Verdanks Vacqueros FFC",
          "2014champ",
          "Count of Monte Christian",
          "kevinbash",
          "📜 Providence 🪬 Spirits 🥂",
          "GusTheBus",
          "Idk much about soccer ",
          "Idk much about soccer ",
          "2014champ",
          "DangeRUSS Last Ride",
          "Idk much about soccer ",
          "DangeRUSS Last Ride",
          "Idk much about soccer ",
          "Croccity Body Snatchers",
          "📜 Providence 🪬 Spirits 🥂",
          "kevinbash",
          "Idk much about soccer ",
          "Saskatoon Squatches ",
          "Croccity Body Snatchers",
          "DangeRUSS Last Ride",
          "Idk much about soccer ",
          "Count of Monte Christian",
          "2014champ",
          "Croccity Body Snatchers",
          "Count of Monte Christian",
          "Idk much about soccer ",
          "Verdanks Vacqueros FFC",
          "Comeback 👑’s",
          "Pretty Big Wieners",
          "Saskatoon Squatches ",
          "Saskatoon Squatches ",
          "Croccity Body Snatchers",
          "Count of Monte Christian",
          "Idk much about soccer ",
          "Comeback 👑’s",
          "Saskatoon Squatches ",
          "GusTheBus",
          "GusTheBus",
          "Comeback 👑’s",
          "Pretty Big Wieners",
          "Pretty Big Wieners",
          "Comeback 👑’s",
          "DangeRUSS Last Ride",
          "kevinbash"
         ],
         "xaxis": "x",
         "y": [
          242.585,
          221.655,
          215.75,
          207.704,
          204.35000000000002,
          191.335,
          196.238,
          179.09500000000003,
          193.8,
          189.44,
          188.195,
          167.09,
          184.39000000000001,
          169.485,
          174.08,
          167.22,
          167.93,
          162.06,
          175.95000000000002,
          18.64,
          159.918,
          154.275,
          137.13000000000002,
          161.99599999999998,
          141.107,
          151.683,
          154.65,
          120.275,
          147.72,
          145.85,
          140.15,
          65.545,
          136.27,
          146.575,
          144.57500000000002,
          106.77000000000001,
          57.22500000000001,
          99.01100000000001,
          135.255,
          100.53000000000002,
          128.175,
          57.77000000000001,
          130.08,
          115.29,
          136.175,
          13.365000000000002,
          63.04800000000001,
          37.975,
          15.05,
          35.075,
          107.105,
          22.740000000000002,
          29.665,
          7.65,
          7.025,
          20.185000000000002,
          6.835,
          96.2,
          18.175,
          17.7,
          10.883000000000003,
          27.125000000000004,
          5.15,
          9.925,
          3.176,
          9.055,
          3.2700000000000005
         ],
         "yaxis": "y"
        },
        {
         "alignmentgroup": "True",
         "customdata": [
          [
           324.65459999999996,
           "NYJ",
           "DEF"
          ],
          [
           324.65459999999996,
           "NYG",
           "DEF"
          ],
          [
           140.53979999999999,
           "NO",
           "DEF"
          ],
          [
           185.18720000000002,
           "MIA",
           "DEF"
          ],
          [
           148.5027,
           "WAS",
           "DEF"
          ],
          [
           134.53300000000002,
           "PHI",
           "DEF"
          ],
          [
           105.9444,
           "DEN",
           "DEF"
          ],
          [
           120.78909999999999,
           "CAR",
           "DEF"
          ],
          [
           131.6789,
           "KC",
           "DEF"
          ],
          [
           148.5195,
           "BAL",
           "DEF"
          ],
          [
           131.3369,
           "JAX",
           "DEF"
          ],
          [
           130.6134,
           "CLE",
           "DEF"
          ],
          [
           81.094,
           "ATL",
           "DEF"
          ],
          [
           137.1025,
           "PIT",
           "DEF"
          ],
          [
           227.6248,
           "LAR",
           "DEF"
          ],
          [
           229.115,
           "LAC",
           "DEF"
          ],
          [
           49.9911,
           "LV",
           "DEF"
          ],
          [
           97.3238,
           "BUF",
           "DEF"
          ],
          [
           72.06840000000001,
           "DET",
           "DEF"
          ],
          [
           72.1819,
           "TB",
           "DEF"
          ],
          [
           66.68060000000001,
           "NE",
           "DEF"
          ],
          [
           55.94630000000001,
           "ARI",
           "DEF"
          ],
          [
           39.480599999999995,
           "CIN",
           "DEF"
          ],
          [
           67.5594,
           "SF",
           "DEF"
          ],
          [
           81.79429999999999,
           "TEN",
           "DEF"
          ],
          [
           42.0558,
           "SEA",
           "DEF"
          ],
          [
           79.36769999999999,
           "GB",
           "DEF"
          ],
          [
           40.60220000000001,
           "MIN",
           "DEF"
          ],
          [
           76.92,
           "IND",
           "DEF"
          ],
          [
           64.6884,
           "HOU",
           "DEF"
          ],
          [
           24.606400000000004,
           "DAL",
           "DEF"
          ],
          [
           13.168299999999999,
           "CHI",
           "DEF"
          ]
         ],
         "hovertemplate": "<b>%{hovertext}</b><br><br>Predicted Points=%{y}<br>Relative Value=%{customdata[0]}<extra></extra>",
         "hovertext": [
          "NYJ",
          "NYG",
          "NO",
          "MIA",
          "WAS",
          "PHI",
          "DEN",
          "CAR",
          "KC",
          "BAL",
          "JAX",
          "CLE",
          "ATL",
          "PIT",
          "LAR",
          "LAC",
          "LV",
          "BUF",
          "DET",
          "TB",
          "NE",
          "ARI",
          "CIN",
          "SF",
          "TEN",
          "SEA",
          "GB",
          "MIN",
          "IND",
          "HOU",
          "DAL",
          "CHI"
         ],
         "legendgroup": "DEF",
         "marker": {
          "color": "#667825",
          "pattern": {
           "shape": ""
          }
         },
         "name": "DEF",
         "offsetgroup": "DEF",
         "orientation": "v",
         "showlegend": true,
         "text": [
          "NYJ",
          "NYG",
          "NO",
          "MIA",
          "WAS",
          "PHI",
          "DEN",
          "CAR",
          "KC",
          "BAL",
          "JAX",
          "CLE",
          "ATL",
          "PIT",
          "LAR",
          "LAC",
          "LV",
          "BUF",
          "DET",
          "TB",
          "NE",
          "ARI",
          "CIN",
          "SF",
          "TEN",
          "SEA",
          "GB",
          "MIN",
          "IND",
          "HOU",
          "DAL",
          "CHI"
         ],
         "textposition": "inside",
         "type": "bar",
         "x": [
          "📜 Providence 🪬 Spirits 🥂",
          "Count of Monte Christian",
          "kevinbash",
          "Pretty Big Wieners",
          "Croccity Body Snatchers",
          "Pretty Big Wieners",
          "Croccity Body Snatchers",
          "Verdanks Vacqueros FFC",
          "Idk much about soccer ",
          "GusTheBus",
          "Saskatoon Squatches ",
          "2014champ",
          "Count of Monte Christian",
          "GusTheBus",
          "Comeback 👑’s",
          "DangeRUSS Last Ride",
          "Count of Monte Christian",
          "kevinbash",
          "Verdanks Vacqueros FFC",
          "Comeback 👑’s",
          "kevinbash",
          "Verdanks Vacqueros FFC",
          "Pretty Big Wieners",
          "Croccity Body Snatchers",
          "Saskatoon Squatches ",
          "Saskatoon Squatches ",
          "DangeRUSS Last Ride",
          "Comeback 👑’s",
          "Idk much about soccer ",
          "📜 Providence 🪬 Spirits 🥂",
          "📜 Providence 🪬 Spirits 🥂",
          "2014champ"
         ],
         "xaxis": "x",
         "y": [
          223.2018,
          223.2018,
          106.4456,
          138.2925,
          106.2587,
          101.57260000000002,
          74.1087,
          74.36649999999999,
          83.6727,
          97.85260000000001,
          81.12640000000003,
          83.6547,
          51.62949999999999,
          89.33449999999999,
          135.97570000000002,
          134.1501,
          28.1336,
          65.9795,
          39.471500000000006,
          45.655100000000004,
          36.998000000000005,
          32.32180000000001,
          20.0075,
          40.1066,
          41.760600000000004,
          29.656,
          31.599699999999995,
          12.491200000000008,
          33.120900000000006,
          29.43240000000001,
          9.076500000000003,
          -37.498599999999996
         ],
         "yaxis": "y"
        },
        {
         "alignmentgroup": "True",
         "customdata": [
          [
           62.41999999999999,
           "Daniel Carlson",
           "PK"
          ],
          [
           58.760000000000026,
           "Evan McPherson",
           "PK"
          ],
          [
           53.52,
           "Justin Tucker",
           "PK"
          ],
          [
           53.76,
           "Chris Boswell",
           "PK"
          ],
          [
           47.02000000000002,
           "Harrison Butker",
           "PK"
          ],
          [
           42.910000000000004,
           "Riley Patterson",
           "PK"
          ],
          [
           38.600000000000016,
           "Younghoe Koo",
           "PK"
          ],
          [
           36.019999999999996,
           "Chad Ryland",
           "PK"
          ],
          [
           38.52000000000001,
           "Jake Elliott",
           "PK"
          ],
          [
           37.31000000000001,
           "Brandon Aubrey",
           "PK"
          ],
          [
           33.709999999999994,
           "Jason Myers",
           "PK"
          ],
          [
           34.169999999999995,
           "Greg Joseph",
           "PK"
          ],
          [
           31.210000000000008,
           "Brandon McManus",
           "PK"
          ],
          [
           24.029999999999994,
           "Jason Sanders",
           "PK"
          ],
          [
           32.00999999999999,
           "Eddy Pineiro",
           "PK"
          ],
          [
           26.910000000000004,
           "Greg Zuerlein",
           "PK"
          ],
          [
           27.119999999999997,
           "Matt Gay",
           "PK"
          ],
          [
           23.870000000000005,
           "Tyler Bass",
           "PK"
          ],
          [
           24.73000000000001,
           "Chase McLaughlin",
           "PK"
          ],
          [
           27.01,
           "Joey Slye",
           "PK"
          ],
          [
           14.230000000000004,
           "Graham Gano",
           "PK"
          ],
          [
           23.71000000000002,
           "Jake Moody",
           "PK"
          ],
          [
           12.610000000000017,
           "Wil Lutz",
           "PK"
          ],
          [
           5.920000000000002,
           "Ka'imi Fairbairn",
           "PK"
          ],
          [
           1.0900000000000007,
           "Nick Folk",
           "PK"
          ],
          [
           7.660000000000003,
           "Anders Carlson",
           "PK"
          ],
          [
           2.660000000000003,
           "Dustin Hopkins",
           "PK"
          ],
          [
           2.810000000000006,
           "Cairo Santos",
           "PK"
          ]
         ],
         "hovertemplate": "<b>%{hovertext}</b><br><br>Predicted Points=%{y}<br>Relative Value=%{customdata[0]}<extra></extra>",
         "hovertext": [
          "Daniel Carlson",
          "Evan McPherson",
          "Justin Tucker",
          "Chris Boswell",
          "Harrison Butker",
          "Riley Patterson",
          "Younghoe Koo",
          "Chad Ryland",
          "Jake Elliott",
          "Brandon Aubrey",
          "Jason Myers",
          "Greg Joseph",
          "Brandon McManus",
          "Jason Sanders",
          "Eddy Pineiro",
          "Greg Zuerlein",
          "Matt Gay",
          "Tyler Bass",
          "Chase McLaughlin",
          "Joey Slye",
          "Graham Gano",
          "Jake Moody",
          "Wil Lutz",
          "Ka'imi Fairbairn",
          "Nick Folk",
          "Anders Carlson",
          "Dustin Hopkins",
          "Cairo Santos"
         ],
         "legendgroup": "PK",
         "marker": {
          "color": "#B3BF54",
          "pattern": {
           "shape": ""
          }
         },
         "name": "PK",
         "offsetgroup": "PK",
         "orientation": "v",
         "showlegend": true,
         "text": [
          "Daniel Carlson",
          "Evan McPherson",
          "Justin Tucker",
          "Chris Boswell",
          "Harrison Butker",
          "Riley Patterson",
          "Younghoe Koo",
          "Chad Ryland",
          "Jake Elliott",
          "Brandon Aubrey",
          "Jason Myers",
          "Greg Joseph",
          "Brandon McManus",
          "Jason Sanders",
          "Eddy Pineiro",
          "Greg Zuerlein",
          "Matt Gay",
          "Tyler Bass",
          "Chase McLaughlin",
          "Joey Slye",
          "Graham Gano",
          "Jake Moody",
          "Wil Lutz",
          "Ka'imi Fairbairn",
          "Nick Folk",
          "Anders Carlson",
          "Dustin Hopkins",
          "Cairo Santos"
         ],
         "textposition": "inside",
         "type": "bar",
         "x": [
          "Pretty Big Wieners",
          "📜 Providence 🪬 Spirits 🥂",
          "GusTheBus",
          "Croccity Body Snatchers",
          "Count of Monte Christian",
          "Saskatoon Squatches ",
          "Croccity Body Snatchers",
          "Comeback 👑’s",
          "DangeRUSS Last Ride",
          "kevinbash",
          "Idk much about soccer ",
          "2014champ",
          "Idk much about soccer ",
          "Saskatoon Squatches ",
          "Verdanks Vacqueros FFC",
          "Comeback 👑’s",
          "DangeRUSS Last Ride",
          "📜 Providence 🪬 Spirits 🥂",
          "Count of Monte Christian",
          "GusTheBus",
          "Saskatoon Squatches ",
          "Verdanks Vacqueros FFC",
          "2014champ",
          "Count of Monte Christian",
          "Comeback 👑’s",
          "kevinbash",
          "Croccity Body Snatchers",
          "Pretty Big Wieners"
         ],
         "xaxis": "x",
         "y": [
          179.14999999999998,
          175.8,
          170.25,
          170.54999999999998,
          165.65,
          145.35,
          141.55,
          153.25,
          157.15,
          154.35,
          150.89999999999998,
          150.89999999999998,
          148.8,
          113.1,
          149.04999999999998,
          143.95,
          144.35,
          140.6,
          119.45,
          143.7,
          71.8,
          141.3,
          130.20000000000002,
          41.650000000000006,
          8.4,
          124.45,
          32,
          119.54
         ],
         "yaxis": "y"
        },
        {
         "alignmentgroup": "True",
         "customdata": [
          [
           122.105,
           "Travis Kelce",
           "TE"
          ],
          [
           128.825,
           "Mark Andrews",
           "TE"
          ],
          [
           122.93999999999998,
           "George Kittle",
           "TE"
          ],
          [
           91.25,
           "Juwan Johnson",
           "TE"
          ],
          [
           85.48,
           "Dawson Knox",
           "TE"
          ],
          [
           93.17500000000001,
           "Dallas Goedert",
           "TE"
          ],
          [
           94.025,
           "Taysom Hill",
           "TE"
          ],
          [
           63.265,
           "T.J. Hockenson",
           "TE"
          ],
          [
           77.215,
           "Dalton Schultz",
           "TE"
          ],
          [
           79.775,
           "Kyle Pitts",
           "TE"
          ],
          [
           62.60000000000001,
           "Evan Engram",
           "TE"
          ],
          [
           75.34,
           "David Njoku",
           "TE"
          ],
          [
           75.621,
           "Darren Waller",
           "TE"
          ],
          [
           28.120000000000005,
           "Pat Freiermuth",
           "TE"
          ],
          [
           63.1,
           "Sam LaPorta",
           "TE"
          ],
          [
           64.775,
           "Tyler Higbee",
           "TE"
          ],
          [
           69.725,
           "Greg Dulcich",
           "TE"
          ],
          [
           12.52,
           "Gerald Everett",
           "TE"
          ],
          [
           4.6,
           "Cole Kmet",
           "TE"
          ],
          [
           52.519999999999996,
           "Noah Fant",
           "TE"
          ],
          [
           52.925000000000004,
           "Hunter Henry",
           "TE"
          ],
          [
           55.675,
           "Luke Schoonmaker",
           "TE"
          ],
          [
           42.521,
           "Tyler Conklin",
           "TE"
          ],
          [
           8.3,
           "Luke Musgrave",
           "TE"
          ],
          [
           45.375,
           "Cade Otton",
           "TE"
          ],
          [
           43,
           "Irv Smith",
           "TE"
          ],
          [
           2.755000000000001,
           "Jake Ferguson",
           "TE"
          ],
          [
           8.365000000000002,
           "Dalton Kincaid",
           "TE"
          ],
          [
           4.635000000000001,
           "Logan Thomas",
           "TE"
          ],
          [
           12.75,
           "Jordan Akins",
           "TE"
          ],
          [
           3.1250000000000004,
           "Robert Tonyan",
           "TE"
          ],
          [
           0.9249999999999998,
           "Mike Gesicki",
           "TE"
          ],
          [
           1.0289999999999997,
           "Noah Gray",
           "TE"
          ],
          [
           0.32499999999999973,
           "Kylen Granson",
           "TE"
          ],
          [
           0.1900000000000004,
           "Brevin Jordan",
           "TE"
          ],
          [
           0.5699999999999996,
           "Trey McBride",
           "TE"
          ],
          [
           0,
           "Adam Trautman",
           "TE"
          ]
         ],
         "hovertemplate": "<b>%{hovertext}</b><br><br>Predicted Points=%{y}<br>Relative Value=%{customdata[0]}<extra></extra>",
         "hovertext": [
          "Travis Kelce",
          "Mark Andrews",
          "George Kittle",
          "Juwan Johnson",
          "Dawson Knox",
          "Dallas Goedert",
          "Taysom Hill",
          "T.J. Hockenson",
          "Dalton Schultz",
          "Kyle Pitts",
          "Evan Engram",
          "David Njoku",
          "Darren Waller",
          "Pat Freiermuth",
          "Sam LaPorta",
          "Tyler Higbee",
          "Greg Dulcich",
          "Gerald Everett",
          "Cole Kmet",
          "Noah Fant",
          "Hunter Henry",
          "Luke Schoonmaker",
          "Tyler Conklin",
          "Luke Musgrave",
          "Cade Otton",
          "Irv Smith",
          "Jake Ferguson",
          "Dalton Kincaid",
          "Logan Thomas",
          "Jordan Akins",
          "Robert Tonyan",
          "Mike Gesicki",
          "Noah Gray",
          "Kylen Granson",
          "Brevin Jordan",
          "Trey McBride",
          "Adam Trautman"
         ],
         "legendgroup": "TE",
         "marker": {
          "color": "#AEDFF2",
          "pattern": {
           "shape": ""
          }
         },
         "name": "TE",
         "offsetgroup": "TE",
         "orientation": "v",
         "showlegend": true,
         "text": [
          "Travis Kelce",
          "Mark Andrews",
          "George Kittle",
          "Juwan Johnson",
          "Dawson Knox",
          "Dallas Goedert",
          "Taysom Hill",
          "T.J. Hockenson",
          "Dalton Schultz",
          "Kyle Pitts",
          "Evan Engram",
          "David Njoku",
          "Darren Waller",
          "Pat Freiermuth",
          "Sam LaPorta",
          "Tyler Higbee",
          "Greg Dulcich",
          "Gerald Everett",
          "Cole Kmet",
          "Noah Fant",
          "Hunter Henry",
          "Luke Schoonmaker",
          "Tyler Conklin",
          "Luke Musgrave",
          "Cade Otton",
          "Irv Smith",
          "Jake Ferguson",
          "Dalton Kincaid",
          "Logan Thomas",
          "Jordan Akins",
          "Robert Tonyan",
          "Mike Gesicki",
          "Noah Gray",
          "Kylen Granson",
          "Brevin Jordan",
          "Trey McBride",
          "Adam Trautman"
         ],
         "textposition": "inside",
         "type": "bar",
         "x": [
          "Verdanks Vacqueros FFC",
          "Pretty Big Wieners",
          "DangeRUSS Last Ride",
          "GusTheBus",
          "Idk much about soccer ",
          "Saskatoon Squatches ",
          "2014champ",
          "Saskatoon Squatches ",
          "Comeback 👑’s",
          "📜 Providence 🪬 Spirits 🥂",
          "2014champ",
          "Verdanks Vacqueros FFC",
          "DangeRUSS Last Ride",
          "Saskatoon Squatches ",
          "kevinbash",
          "Croccity Body Snatchers",
          "Croccity Body Snatchers",
          "DangeRUSS Last Ride",
          "Saskatoon Squatches ",
          "GusTheBus",
          "Count of Monte Christian",
          "Count of Monte Christian",
          "Pretty Big Wieners",
          "2014champ",
          "Idk much about soccer ",
          "📜 Providence 🪬 Spirits 🥂",
          "DangeRUSS Last Ride",
          "Verdanks Vacqueros FFC",
          "GusTheBus",
          "Comeback 👑’s",
          "Comeback 👑’s",
          "Croccity Body Snatchers",
          "Count of Monte Christian",
          "kevinbash",
          "Pretty Big Wieners",
          "📜 Providence 🪬 Spirits 🥂",
          "kevinbash"
         ],
         "xaxis": "x",
         "y": [
          151.08,
          159.95000000000002,
          154.065,
          122.825,
          116.60500000000002,
          124.45000000000002,
          125.60000000000001,
          86.965,
          108.465,
          111.35000000000001,
          91.80000000000001,
          106.79,
          104.696,
          39.52,
          94.225,
          96.05000000000001,
          100.85,
          18.67,
          6.5,
          83.97,
          84.5,
          86.925,
          73.771,
          13.875000000000002,
          76.825,
          74.25,
          4.805000000000001,
          14.290000000000003,
          7.960000000000001,
          40.25,
          10.725000000000001,
          4.875,
          4.554,
          31.900000000000002,
          2.24,
          4.095000000000001,
          3.325
         ],
         "yaxis": "y"
        },
        {
         "mode": "text",
         "showlegend": false,
         "text": [
          2440,
          2209,
          2519,
          2882,
          2631,
          2473,
          2267,
          2660,
          2754,
          2568,
          2487,
          2483
         ],
         "textfont": {
          "size": 12
         },
         "textposition": "top center",
         "type": "scatter",
         "x": [
          "2014champ",
          "Comeback 👑’s",
          "Count of Monte Christian",
          "Croccity Body Snatchers",
          "DangeRUSS Last Ride",
          "GusTheBus",
          "Idk much about soccer ",
          "Pretty Big Wieners",
          "Saskatoon Squatches ",
          "Verdanks Vacqueros FFC",
          "kevinbash",
          "📜 Providence 🪬 Spirits 🥂"
         ],
         "y": [
          2440,
          2209,
          2519,
          2882,
          2631,
          2473,
          2267,
          2660,
          2754,
          2568,
          2487,
          2483
         ]
        }
       ],
       "layout": {
        "barmode": "stack",
        "font": {
         "family": "Input Serif"
        },
        "legend": {
         "title": {
          "text": "position"
         },
         "tracegroupgap": 0
        },
        "margin": {
         "t": 60
        },
        "plot_bgcolor": "rgba(0,0,0,0)",
        "showlegend": false,
        "template": {
         "data": {
          "bar": [
           {
            "error_x": {
             "color": "#2a3f5f"
            },
            "error_y": {
             "color": "#2a3f5f"
            },
            "marker": {
             "line": {
              "color": "#E5ECF6",
              "width": 0.5
             },
             "pattern": {
              "fillmode": "overlay",
              "size": 10,
              "solidity": 0.2
             }
            },
            "type": "bar"
           }
          ],
          "barpolar": [
           {
            "marker": {
             "line": {
              "color": "#E5ECF6",
              "width": 0.5
             },
             "pattern": {
              "fillmode": "overlay",
              "size": 10,
              "solidity": 0.2
             }
            },
            "type": "barpolar"
           }
          ],
          "carpet": [
           {
            "aaxis": {
             "endlinecolor": "#2a3f5f",
             "gridcolor": "white",
             "linecolor": "white",
             "minorgridcolor": "white",
             "startlinecolor": "#2a3f5f"
            },
            "baxis": {
             "endlinecolor": "#2a3f5f",
             "gridcolor": "white",
             "linecolor": "white",
             "minorgridcolor": "white",
             "startlinecolor": "#2a3f5f"
            },
            "type": "carpet"
           }
          ],
          "choropleth": [
           {
            "colorbar": {
             "outlinewidth": 0,
             "ticks": ""
            },
            "type": "choropleth"
           }
          ],
          "contour": [
           {
            "colorbar": {
             "outlinewidth": 0,
             "ticks": ""
            },
            "colorscale": [
             [
              0,
              "#0d0887"
             ],
             [
              0.1111111111111111,
              "#46039f"
             ],
             [
              0.2222222222222222,
              "#7201a8"
             ],
             [
              0.3333333333333333,
              "#9c179e"
             ],
             [
              0.4444444444444444,
              "#bd3786"
             ],
             [
              0.5555555555555556,
              "#d8576b"
             ],
             [
              0.6666666666666666,
              "#ed7953"
             ],
             [
              0.7777777777777778,
              "#fb9f3a"
             ],
             [
              0.8888888888888888,
              "#fdca26"
             ],
             [
              1,
              "#f0f921"
             ]
            ],
            "type": "contour"
           }
          ],
          "contourcarpet": [
           {
            "colorbar": {
             "outlinewidth": 0,
             "ticks": ""
            },
            "type": "contourcarpet"
           }
          ],
          "heatmap": [
           {
            "colorbar": {
             "outlinewidth": 0,
             "ticks": ""
            },
            "colorscale": [
             [
              0,
              "#0d0887"
             ],
             [
              0.1111111111111111,
              "#46039f"
             ],
             [
              0.2222222222222222,
              "#7201a8"
             ],
             [
              0.3333333333333333,
              "#9c179e"
             ],
             [
              0.4444444444444444,
              "#bd3786"
             ],
             [
              0.5555555555555556,
              "#d8576b"
             ],
             [
              0.6666666666666666,
              "#ed7953"
             ],
             [
              0.7777777777777778,
              "#fb9f3a"
             ],
             [
              0.8888888888888888,
              "#fdca26"
             ],
             [
              1,
              "#f0f921"
             ]
            ],
            "type": "heatmap"
           }
          ],
          "heatmapgl": [
           {
            "colorbar": {
             "outlinewidth": 0,
             "ticks": ""
            },
            "colorscale": [
             [
              0,
              "#0d0887"
             ],
             [
              0.1111111111111111,
              "#46039f"
             ],
             [
              0.2222222222222222,
              "#7201a8"
             ],
             [
              0.3333333333333333,
              "#9c179e"
             ],
             [
              0.4444444444444444,
              "#bd3786"
             ],
             [
              0.5555555555555556,
              "#d8576b"
             ],
             [
              0.6666666666666666,
              "#ed7953"
             ],
             [
              0.7777777777777778,
              "#fb9f3a"
             ],
             [
              0.8888888888888888,
              "#fdca26"
             ],
             [
              1,
              "#f0f921"
             ]
            ],
            "type": "heatmapgl"
           }
          ],
          "histogram": [
           {
            "marker": {
             "pattern": {
              "fillmode": "overlay",
              "size": 10,
              "solidity": 0.2
             }
            },
            "type": "histogram"
           }
          ],
          "histogram2d": [
           {
            "colorbar": {
             "outlinewidth": 0,
             "ticks": ""
            },
            "colorscale": [
             [
              0,
              "#0d0887"
             ],
             [
              0.1111111111111111,
              "#46039f"
             ],
             [
              0.2222222222222222,
              "#7201a8"
             ],
             [
              0.3333333333333333,
              "#9c179e"
             ],
             [
              0.4444444444444444,
              "#bd3786"
             ],
             [
              0.5555555555555556,
              "#d8576b"
             ],
             [
              0.6666666666666666,
              "#ed7953"
             ],
             [
              0.7777777777777778,
              "#fb9f3a"
             ],
             [
              0.8888888888888888,
              "#fdca26"
             ],
             [
              1,
              "#f0f921"
             ]
            ],
            "type": "histogram2d"
           }
          ],
          "histogram2dcontour": [
           {
            "colorbar": {
             "outlinewidth": 0,
             "ticks": ""
            },
            "colorscale": [
             [
              0,
              "#0d0887"
             ],
             [
              0.1111111111111111,
              "#46039f"
             ],
             [
              0.2222222222222222,
              "#7201a8"
             ],
             [
              0.3333333333333333,
              "#9c179e"
             ],
             [
              0.4444444444444444,
              "#bd3786"
             ],
             [
              0.5555555555555556,
              "#d8576b"
             ],
             [
              0.6666666666666666,
              "#ed7953"
             ],
             [
              0.7777777777777778,
              "#fb9f3a"
             ],
             [
              0.8888888888888888,
              "#fdca26"
             ],
             [
              1,
              "#f0f921"
             ]
            ],
            "type": "histogram2dcontour"
           }
          ],
          "mesh3d": [
           {
            "colorbar": {
             "outlinewidth": 0,
             "ticks": ""
            },
            "type": "mesh3d"
           }
          ],
          "parcoords": [
           {
            "line": {
             "colorbar": {
              "outlinewidth": 0,
              "ticks": ""
             }
            },
            "type": "parcoords"
           }
          ],
          "pie": [
           {
            "automargin": true,
            "type": "pie"
           }
          ],
          "scatter": [
           {
            "fillpattern": {
             "fillmode": "overlay",
             "size": 10,
             "solidity": 0.2
            },
            "type": "scatter"
           }
          ],
          "scatter3d": [
           {
            "line": {
             "colorbar": {
              "outlinewidth": 0,
              "ticks": ""
             }
            },
            "marker": {
             "colorbar": {
              "outlinewidth": 0,
              "ticks": ""
             }
            },
            "type": "scatter3d"
           }
          ],
          "scattercarpet": [
           {
            "marker": {
             "colorbar": {
              "outlinewidth": 0,
              "ticks": ""
             }
            },
            "type": "scattercarpet"
           }
          ],
          "scattergeo": [
           {
            "marker": {
             "colorbar": {
              "outlinewidth": 0,
              "ticks": ""
             }
            },
            "type": "scattergeo"
           }
          ],
          "scattergl": [
           {
            "marker": {
             "colorbar": {
              "outlinewidth": 0,
              "ticks": ""
             }
            },
            "type": "scattergl"
           }
          ],
          "scattermapbox": [
           {
            "marker": {
             "colorbar": {
              "outlinewidth": 0,
              "ticks": ""
             }
            },
            "type": "scattermapbox"
           }
          ],
          "scatterpolar": [
           {
            "marker": {
             "colorbar": {
              "outlinewidth": 0,
              "ticks": ""
             }
            },
            "type": "scatterpolar"
           }
          ],
          "scatterpolargl": [
           {
            "marker": {
             "colorbar": {
              "outlinewidth": 0,
              "ticks": ""
             }
            },
            "type": "scatterpolargl"
           }
          ],
          "scatterternary": [
           {
            "marker": {
             "colorbar": {
              "outlinewidth": 0,
              "ticks": ""
             }
            },
            "type": "scatterternary"
           }
          ],
          "surface": [
           {
            "colorbar": {
             "outlinewidth": 0,
             "ticks": ""
            },
            "colorscale": [
             [
              0,
              "#0d0887"
             ],
             [
              0.1111111111111111,
              "#46039f"
             ],
             [
              0.2222222222222222,
              "#7201a8"
             ],
             [
              0.3333333333333333,
              "#9c179e"
             ],
             [
              0.4444444444444444,
              "#bd3786"
             ],
             [
              0.5555555555555556,
              "#d8576b"
             ],
             [
              0.6666666666666666,
              "#ed7953"
             ],
             [
              0.7777777777777778,
              "#fb9f3a"
             ],
             [
              0.8888888888888888,
              "#fdca26"
             ],
             [
              1,
              "#f0f921"
             ]
            ],
            "type": "surface"
           }
          ],
          "table": [
           {
            "cells": {
             "fill": {
              "color": "#EBF0F8"
             },
             "line": {
              "color": "white"
             }
            },
            "header": {
             "fill": {
              "color": "#C8D4E3"
             },
             "line": {
              "color": "white"
             }
            },
            "type": "table"
           }
          ]
         },
         "layout": {
          "annotationdefaults": {
           "arrowcolor": "#2a3f5f",
           "arrowhead": 0,
           "arrowwidth": 1
          },
          "autotypenumbers": "strict",
          "coloraxis": {
           "colorbar": {
            "outlinewidth": 0,
            "ticks": ""
           }
          },
          "colorscale": {
           "diverging": [
            [
             0,
             "#8e0152"
            ],
            [
             0.1,
             "#c51b7d"
            ],
            [
             0.2,
             "#de77ae"
            ],
            [
             0.3,
             "#f1b6da"
            ],
            [
             0.4,
             "#fde0ef"
            ],
            [
             0.5,
             "#f7f7f7"
            ],
            [
             0.6,
             "#e6f5d0"
            ],
            [
             0.7,
             "#b8e186"
            ],
            [
             0.8,
             "#7fbc41"
            ],
            [
             0.9,
             "#4d9221"
            ],
            [
             1,
             "#276419"
            ]
           ],
           "sequential": [
            [
             0,
             "#0d0887"
            ],
            [
             0.1111111111111111,
             "#46039f"
            ],
            [
             0.2222222222222222,
             "#7201a8"
            ],
            [
             0.3333333333333333,
             "#9c179e"
            ],
            [
             0.4444444444444444,
             "#bd3786"
            ],
            [
             0.5555555555555556,
             "#d8576b"
            ],
            [
             0.6666666666666666,
             "#ed7953"
            ],
            [
             0.7777777777777778,
             "#fb9f3a"
            ],
            [
             0.8888888888888888,
             "#fdca26"
            ],
            [
             1,
             "#f0f921"
            ]
           ],
           "sequentialminus": [
            [
             0,
             "#0d0887"
            ],
            [
             0.1111111111111111,
             "#46039f"
            ],
            [
             0.2222222222222222,
             "#7201a8"
            ],
            [
             0.3333333333333333,
             "#9c179e"
            ],
            [
             0.4444444444444444,
             "#bd3786"
            ],
            [
             0.5555555555555556,
             "#d8576b"
            ],
            [
             0.6666666666666666,
             "#ed7953"
            ],
            [
             0.7777777777777778,
             "#fb9f3a"
            ],
            [
             0.8888888888888888,
             "#fdca26"
            ],
            [
             1,
             "#f0f921"
            ]
           ]
          },
          "colorway": [
           "#636efa",
           "#EF553B",
           "#00cc96",
           "#ab63fa",
           "#FFA15A",
           "#19d3f3",
           "#FF6692",
           "#B6E880",
           "#FF97FF",
           "#FECB52"
          ],
          "font": {
           "color": "#2a3f5f"
          },
          "geo": {
           "bgcolor": "white",
           "lakecolor": "white",
           "landcolor": "#E5ECF6",
           "showlakes": true,
           "showland": true,
           "subunitcolor": "white"
          },
          "hoverlabel": {
           "align": "left"
          },
          "hovermode": "closest",
          "mapbox": {
           "style": "light"
          },
          "paper_bgcolor": "white",
          "plot_bgcolor": "#E5ECF6",
          "polar": {
           "angularaxis": {
            "gridcolor": "white",
            "linecolor": "white",
            "ticks": ""
           },
           "bgcolor": "#E5ECF6",
           "radialaxis": {
            "gridcolor": "white",
            "linecolor": "white",
            "ticks": ""
           }
          },
          "scene": {
           "xaxis": {
            "backgroundcolor": "#E5ECF6",
            "gridcolor": "white",
            "gridwidth": 2,
            "linecolor": "white",
            "showbackground": true,
            "ticks": "",
            "zerolinecolor": "white"
           },
           "yaxis": {
            "backgroundcolor": "#E5ECF6",
            "gridcolor": "white",
            "gridwidth": 2,
            "linecolor": "white",
            "showbackground": true,
            "ticks": "",
            "zerolinecolor": "white"
           },
           "zaxis": {
            "backgroundcolor": "#E5ECF6",
            "gridcolor": "white",
            "gridwidth": 2,
            "linecolor": "white",
            "showbackground": true,
            "ticks": "",
            "zerolinecolor": "white"
           }
          },
          "shapedefaults": {
           "line": {
            "color": "#2a3f5f"
           }
          },
          "ternary": {
           "aaxis": {
            "gridcolor": "white",
            "linecolor": "white",
            "ticks": ""
           },
           "baxis": {
            "gridcolor": "white",
            "linecolor": "white",
            "ticks": ""
           },
           "bgcolor": "#E5ECF6",
           "caxis": {
            "gridcolor": "white",
            "linecolor": "white",
            "ticks": ""
           }
          },
          "title": {
           "x": 0.05
          },
          "xaxis": {
           "automargin": true,
           "gridcolor": "white",
           "linecolor": "white",
           "ticks": "",
           "title": {
            "standoff": 15
           },
           "zerolinecolor": "white",
           "zerolinewidth": 2
          },
          "yaxis": {
           "automargin": true,
           "gridcolor": "white",
           "linecolor": "white",
           "ticks": "",
           "title": {
            "standoff": 15
           },
           "zerolinecolor": "white",
           "zerolinewidth": 2
          }
         }
        },
        "title": {
         "text": "Franchise Comparison"
        },
        "xaxis": {
         "anchor": "y",
         "categoryorder": "total descending",
         "domain": [
          0,
          1
         ],
         "title": {}
        },
        "yaxis": {
         "anchor": "x",
         "domain": [
          0,
          1
         ],
         "title": {
          "text": "Predicted Points"
         },
         "visible": false
        }
       }
      }
     },
     "metadata": {},
     "output_type": "display_data"
    }
   ],
   "source": [
    "#from ffpackage.analysis import starterSelector\n",
    "# Choose a roster for each franchise based on their league's number of available slots\n",
    "optimized = rosterOptimizer(full)\n",
    "# Get relative points\n",
    "optimized = getRelProjs(optimized)\n",
    "# Sum points across the season\n",
    "optimized = getSeasonTotals(optimized)\n",
    "# Visualize\n",
    "fig = compareFranchises(optimized, how='absolute')\n",
    "fig.show()"
   ]
  },
  {
   "cell_type": "code",
   "execution_count": null,
   "metadata": {},
   "outputs": [],
   "source": []
  },
  {
   "cell_type": "markdown",
   "metadata": {},
   "source": [
    "### Left Off Here:\n",
    "##### Build trade report\n",
    "##### Tailor scoring for user's unique league\n",
    "##### Need to figure out how to convert rosterList (number of position slots available) into relative values. Ideas:\n",
    " - Standard deviation / Zscore\n",
    " - Measure down from the top rather than up from the bottom, 1/(xMax-x)\n",
    " - hard-coded numbers of slots\n",
    " - percentage of overall points"
   ]
  },
  {
   "cell_type": "code",
   "execution_count": null,
   "metadata": {},
   "outputs": [],
   "source": [
    "floor_qb, floor_rb, floor_wr, floor_te, floor_pk, floor_def = findFloors(full)"
   ]
  },
  {
   "cell_type": "code",
   "execution_count": 24,
   "metadata": {},
   "outputs": [
    {
     "data": {
      "text/plain": [
       "['QB',\n",
       " 'RB',\n",
       " 'RB',\n",
       " 'WR',\n",
       " 'WR',\n",
       " 'WR',\n",
       " 'TE',\n",
       " 'TE',\n",
       " 'FLEX',\n",
       " 'FLEX',\n",
       " 'SUPER_FLEX',\n",
       " 'K',\n",
       " 'K',\n",
       " 'DEF',\n",
       " 'DEF',\n",
       " 'BN',\n",
       " 'BN',\n",
       " 'BN',\n",
       " 'BN',\n",
       " 'BN',\n",
       " 'BN',\n",
       " 'BN',\n",
       " 'BN']"
      ]
     },
     "execution_count": 24,
     "metadata": {},
     "output_type": "execute_result"
    }
   ],
   "source": [
    "rosterList"
   ]
  },
  {
   "cell_type": "code",
   "execution_count": 34,
   "metadata": {},
   "outputs": [],
   "source": [
    "countList = {'QB':2*12,\n",
    "    'RB':5*12,\n",
    "    'WR':6*12,\n",
    "    'TE':5*12,\n",
    "}\n",
    "\n",
    "countListPartial = {\n",
    "'QB':int(round(1.25*12, 0)),\n",
    "'RB':int(round(2.9*12, 0)),\n",
    "'WR':int(round(3.9*12, 0)),\n",
    "'TE':int(round(2.9*12, 0)),}"
   ]
  },
  {
   "cell_type": "code",
   "execution_count": 45,
   "metadata": {},
   "outputs": [
    {
     "data": {
      "text/plain": [
       "47762.319500000005"
      ]
     },
     "execution_count": 45,
     "metadata": {},
     "output_type": "execute_result"
    }
   ],
   "source": [
    "full['pts_proj'].sum()"
   ]
  },
  {
   "cell_type": "code",
   "execution_count": 41,
   "metadata": {},
   "outputs": [
    {
     "name": "stdout",
     "output_type": "stream",
     "text": [
      "QB Mean: 131.82\n",
      "QB Median: 86.35\n",
      "QB Spot #15: 237.18\n",
      "QB Spot #24: 215.74\n",
      "RB Mean: 113.78\n",
      "RB Median: 105.29\n",
      "RB Spot #35: 156.11\n",
      "RB Spot #60: 88.05000000000001\n",
      "WR Mean: 93.23\n",
      "WR Median: 93.08\n",
      "WR Spot #47: 135.57500000000002\n",
      "WR Spot #72: 106.32900000000001\n",
      "TE Mean: 51.99\n",
      "TE Median: 40.3\n",
      "TE Spot #35: 57.875\n",
      "TE Spot #60: 30.585\n"
     ]
    }
   ],
   "source": [
    "test = full.copy()\n",
    "test = getRelProjs(test)\n",
    "test = getSeasonTotals(test)\n",
    "test = test.sort_values(by='pts_proj', ignore_index=True, ascending=False)\n",
    "cond_pospts = test['pts_proj']>0\n",
    "\n",
    "for pos in ['QB', 'RB', 'WR', 'TE']:\n",
    "    print(f'{pos} Mean: ' + str(test.loc[(test['position']==pos) & cond_pospts]['pts_proj'].mean().round(2)))\n",
    "    print(f'{pos} Median: ' + str(test.loc[(test['position']==pos) & cond_pospts]['pts_proj'].median().round(2)))\n",
    "    print(f'{pos} Spot #{countListPartial[pos]}: ' + str(test.loc[(test['position']==pos) & cond_pospts].reset_index(drop=True).iloc[countListPartial[pos]]['pts_proj']))\n",
    "    print(f'{pos} Spot #{countList[pos]}: ' + str(test.loc[(test['position']==pos) & cond_pospts].reset_index(drop=True).iloc[countList[pos]]['pts_proj']))\n"
   ]
  },
  {
   "cell_type": "code",
   "execution_count": 23,
   "metadata": {},
   "outputs": [
    {
     "name": "stdout",
     "output_type": "stream",
     "text": [
      "QB Median: 5.55\n",
      "RB Median: 6.68\n",
      "WR Median: 5.7\n",
      "TE Median: 2.46\n",
      "PK Median: 9.3\n",
      "DEF Median: 4.87\n"
     ]
    }
   ],
   "source": [
    "for pos in ['QB', 'RB', 'WR', 'TE', 'PK', 'DEF']:\n",
    "    "
   ]
  },
  {
   "cell_type": "markdown",
   "metadata": {},
   "source": [
    "# Find trade targets"
   ]
  },
  {
   "cell_type": "code",
   "execution_count": 35,
   "metadata": {},
   "outputs": [
    {
     "data": {
      "text/html": [
       "<div>\n",
       "<style scoped>\n",
       "    .dataframe tbody tr th:only-of-type {\n",
       "        vertical-align: middle;\n",
       "    }\n",
       "\n",
       "    .dataframe tbody tr th {\n",
       "        vertical-align: top;\n",
       "    }\n",
       "\n",
       "    .dataframe thead th {\n",
       "        text-align: right;\n",
       "    }\n",
       "</style>\n",
       "<table border=\"1\" class=\"dataframe\">\n",
       "  <thead>\n",
       "    <tr style=\"text-align: right;\">\n",
       "      <th></th>\n",
       "      <th>player_id</th>\n",
       "      <th>full_name</th>\n",
       "      <th>birth_date</th>\n",
       "      <th>age</th>\n",
       "      <th>weight</th>\n",
       "      <th>height</th>\n",
       "      <th>team</th>\n",
       "      <th>position</th>\n",
       "      <th>fantasy_positions</th>\n",
       "      <th>depth_chart_order</th>\n",
       "      <th>...</th>\n",
       "      <th>date_prediction</th>\n",
       "      <th>pts_proj</th>\n",
       "      <th>owner_id</th>\n",
       "      <th>taxi</th>\n",
       "      <th>starters</th>\n",
       "      <th>players</th>\n",
       "      <th>user_id</th>\n",
       "      <th>franchise_name</th>\n",
       "      <th>display_name</th>\n",
       "      <th>rel_proj</th>\n",
       "    </tr>\n",
       "  </thead>\n",
       "  <tbody>\n",
       "    <tr>\n",
       "      <th>0</th>\n",
       "      <td>4984</td>\n",
       "      <td>Josh Allen</td>\n",
       "      <td>1996-05-21</td>\n",
       "      <td>27.0</td>\n",
       "      <td>237.0</td>\n",
       "      <td>77</td>\n",
       "      <td>BUF</td>\n",
       "      <td>QB</td>\n",
       "      <td>['QB']</td>\n",
       "      <td>1.0</td>\n",
       "      <td>...</td>\n",
       "      <td>20230909</td>\n",
       "      <td>25.9000</td>\n",
       "      <td>904399374891855872</td>\n",
       "      <td>NaN</td>\n",
       "      <td>True</td>\n",
       "      <td>True</td>\n",
       "      <td>904399374891855872</td>\n",
       "      <td>Comeback 👑’s</td>\n",
       "      <td>comebackking15</td>\n",
       "      <td>26.078</td>\n",
       "    </tr>\n",
       "    <tr>\n",
       "      <th>1</th>\n",
       "      <td>4984</td>\n",
       "      <td>Josh Allen</td>\n",
       "      <td>1996-05-21</td>\n",
       "      <td>27.0</td>\n",
       "      <td>237.0</td>\n",
       "      <td>77</td>\n",
       "      <td>BUF</td>\n",
       "      <td>QB</td>\n",
       "      <td>['QB']</td>\n",
       "      <td>1.0</td>\n",
       "      <td>...</td>\n",
       "      <td>20230909</td>\n",
       "      <td>25.9000</td>\n",
       "      <td>904399374891855872</td>\n",
       "      <td>NaN</td>\n",
       "      <td>True</td>\n",
       "      <td>True</td>\n",
       "      <td>904399374891855872</td>\n",
       "      <td>Comeback 👑’s</td>\n",
       "      <td>comebackking15</td>\n",
       "      <td>25.900</td>\n",
       "    </tr>\n",
       "    <tr>\n",
       "      <th>2</th>\n",
       "      <td>4046</td>\n",
       "      <td>Patrick Mahomes</td>\n",
       "      <td>1995-09-17</td>\n",
       "      <td>27.0</td>\n",
       "      <td>225.0</td>\n",
       "      <td>74</td>\n",
       "      <td>KC</td>\n",
       "      <td>QB</td>\n",
       "      <td>['QB']</td>\n",
       "      <td>1.0</td>\n",
       "      <td>...</td>\n",
       "      <td>20230909</td>\n",
       "      <td>25.8600</td>\n",
       "      <td>904398822170636288</td>\n",
       "      <td>NaN</td>\n",
       "      <td>True</td>\n",
       "      <td>True</td>\n",
       "      <td>904398822170636288</td>\n",
       "      <td>Saskatoon Squatches</td>\n",
       "      <td>SpacemnSpiff</td>\n",
       "      <td>26.036</td>\n",
       "    </tr>\n",
       "    <tr>\n",
       "      <th>3</th>\n",
       "      <td>4046</td>\n",
       "      <td>Patrick Mahomes</td>\n",
       "      <td>1995-09-17</td>\n",
       "      <td>27.0</td>\n",
       "      <td>225.0</td>\n",
       "      <td>74</td>\n",
       "      <td>KC</td>\n",
       "      <td>QB</td>\n",
       "      <td>['QB']</td>\n",
       "      <td>1.0</td>\n",
       "      <td>...</td>\n",
       "      <td>20230909</td>\n",
       "      <td>25.8600</td>\n",
       "      <td>904398822170636288</td>\n",
       "      <td>NaN</td>\n",
       "      <td>True</td>\n",
       "      <td>True</td>\n",
       "      <td>904398822170636288</td>\n",
       "      <td>Saskatoon Squatches</td>\n",
       "      <td>SpacemnSpiff</td>\n",
       "      <td>25.860</td>\n",
       "    </tr>\n",
       "    <tr>\n",
       "      <th>4</th>\n",
       "      <td>4046</td>\n",
       "      <td>Patrick Mahomes</td>\n",
       "      <td>1995-09-17</td>\n",
       "      <td>27.0</td>\n",
       "      <td>225.0</td>\n",
       "      <td>74</td>\n",
       "      <td>KC</td>\n",
       "      <td>QB</td>\n",
       "      <td>['QB']</td>\n",
       "      <td>1.0</td>\n",
       "      <td>...</td>\n",
       "      <td>20230909</td>\n",
       "      <td>25.8500</td>\n",
       "      <td>904398822170636288</td>\n",
       "      <td>NaN</td>\n",
       "      <td>True</td>\n",
       "      <td>True</td>\n",
       "      <td>904398822170636288</td>\n",
       "      <td>Saskatoon Squatches</td>\n",
       "      <td>SpacemnSpiff</td>\n",
       "      <td>26.026</td>\n",
       "    </tr>\n",
       "    <tr>\n",
       "      <th>...</th>\n",
       "      <td>...</td>\n",
       "      <td>...</td>\n",
       "      <td>...</td>\n",
       "      <td>...</td>\n",
       "      <td>...</td>\n",
       "      <td>...</td>\n",
       "      <td>...</td>\n",
       "      <td>...</td>\n",
       "      <td>...</td>\n",
       "      <td>...</td>\n",
       "      <td>...</td>\n",
       "      <td>...</td>\n",
       "      <td>...</td>\n",
       "      <td>...</td>\n",
       "      <td>...</td>\n",
       "      <td>...</td>\n",
       "      <td>...</td>\n",
       "      <td>...</td>\n",
       "      <td>...</td>\n",
       "      <td>...</td>\n",
       "      <td>...</td>\n",
       "    </tr>\n",
       "    <tr>\n",
       "      <th>8340</th>\n",
       "      <td>MIN</td>\n",
       "      <td>MIN</td>\n",
       "      <td>NaN</td>\n",
       "      <td>NaN</td>\n",
       "      <td>NaN</td>\n",
       "      <td>NaN</td>\n",
       "      <td>MIN</td>\n",
       "      <td>DEF</td>\n",
       "      <td>['DEF']</td>\n",
       "      <td>NaN</td>\n",
       "      <td>...</td>\n",
       "      <td>20230909</td>\n",
       "      <td>-4.3633</td>\n",
       "      <td>904399374891855872</td>\n",
       "      <td>NaN</td>\n",
       "      <td>True</td>\n",
       "      <td>True</td>\n",
       "      <td>904399374891855872</td>\n",
       "      <td>Comeback 👑’s</td>\n",
       "      <td>comebackking15</td>\n",
       "      <td>0.000</td>\n",
       "    </tr>\n",
       "    <tr>\n",
       "      <th>8341</th>\n",
       "      <td>MIN</td>\n",
       "      <td>MIN</td>\n",
       "      <td>NaN</td>\n",
       "      <td>NaN</td>\n",
       "      <td>NaN</td>\n",
       "      <td>NaN</td>\n",
       "      <td>MIN</td>\n",
       "      <td>DEF</td>\n",
       "      <td>['DEF']</td>\n",
       "      <td>NaN</td>\n",
       "      <td>...</td>\n",
       "      <td>20230909</td>\n",
       "      <td>-5.6689</td>\n",
       "      <td>904399374891855872</td>\n",
       "      <td>NaN</td>\n",
       "      <td>True</td>\n",
       "      <td>True</td>\n",
       "      <td>904399374891855872</td>\n",
       "      <td>Comeback 👑’s</td>\n",
       "      <td>comebackking15</td>\n",
       "      <td>0.000</td>\n",
       "    </tr>\n",
       "    <tr>\n",
       "      <th>8342</th>\n",
       "      <td>CHI</td>\n",
       "      <td>CHI</td>\n",
       "      <td>NaN</td>\n",
       "      <td>NaN</td>\n",
       "      <td>NaN</td>\n",
       "      <td>NaN</td>\n",
       "      <td>CHI</td>\n",
       "      <td>DEF</td>\n",
       "      <td>['DEF']</td>\n",
       "      <td>NaN</td>\n",
       "      <td>...</td>\n",
       "      <td>20230909</td>\n",
       "      <td>-6.3891</td>\n",
       "      <td>452577139540094976</td>\n",
       "      <td>NaN</td>\n",
       "      <td>True</td>\n",
       "      <td>True</td>\n",
       "      <td>452577139540094976</td>\n",
       "      <td>2014champ</td>\n",
       "      <td>2014champ</td>\n",
       "      <td>0.000</td>\n",
       "    </tr>\n",
       "    <tr>\n",
       "      <th>8343</th>\n",
       "      <td>CHI</td>\n",
       "      <td>CHI</td>\n",
       "      <td>NaN</td>\n",
       "      <td>NaN</td>\n",
       "      <td>NaN</td>\n",
       "      <td>NaN</td>\n",
       "      <td>CHI</td>\n",
       "      <td>DEF</td>\n",
       "      <td>['DEF']</td>\n",
       "      <td>NaN</td>\n",
       "      <td>...</td>\n",
       "      <td>20230909</td>\n",
       "      <td>-7.5229</td>\n",
       "      <td>452577139540094976</td>\n",
       "      <td>NaN</td>\n",
       "      <td>True</td>\n",
       "      <td>True</td>\n",
       "      <td>452577139540094976</td>\n",
       "      <td>2014champ</td>\n",
       "      <td>2014champ</td>\n",
       "      <td>0.000</td>\n",
       "    </tr>\n",
       "    <tr>\n",
       "      <th>8344</th>\n",
       "      <td>CHI</td>\n",
       "      <td>CHI</td>\n",
       "      <td>NaN</td>\n",
       "      <td>NaN</td>\n",
       "      <td>NaN</td>\n",
       "      <td>NaN</td>\n",
       "      <td>CHI</td>\n",
       "      <td>DEF</td>\n",
       "      <td>['DEF']</td>\n",
       "      <td>NaN</td>\n",
       "      <td>...</td>\n",
       "      <td>20230909</td>\n",
       "      <td>-7.5229</td>\n",
       "      <td>452577139540094976</td>\n",
       "      <td>NaN</td>\n",
       "      <td>True</td>\n",
       "      <td>True</td>\n",
       "      <td>452577139540094976</td>\n",
       "      <td>2014champ</td>\n",
       "      <td>2014champ</td>\n",
       "      <td>0.000</td>\n",
       "    </tr>\n",
       "  </tbody>\n",
       "</table>\n",
       "<p>8345 rows × 65 columns</p>\n",
       "</div>"
      ],
      "text/plain": [
       "     player_id        full_name  birth_date   age  weight height team  \\\n",
       "0         4984       Josh Allen  1996-05-21  27.0   237.0     77  BUF   \n",
       "1         4984       Josh Allen  1996-05-21  27.0   237.0     77  BUF   \n",
       "2         4046  Patrick Mahomes  1995-09-17  27.0   225.0     74   KC   \n",
       "3         4046  Patrick Mahomes  1995-09-17  27.0   225.0     74   KC   \n",
       "4         4046  Patrick Mahomes  1995-09-17  27.0   225.0     74   KC   \n",
       "...        ...              ...         ...   ...     ...    ...  ...   \n",
       "8340       MIN              MIN         NaN   NaN     NaN    NaN  MIN   \n",
       "8341       MIN              MIN         NaN   NaN     NaN    NaN  MIN   \n",
       "8342       CHI              CHI         NaN   NaN     NaN    NaN  CHI   \n",
       "8343       CHI              CHI         NaN   NaN     NaN    NaN  CHI   \n",
       "8344       CHI              CHI         NaN   NaN     NaN    NaN  CHI   \n",
       "\n",
       "     position fantasy_positions  depth_chart_order  ... date_prediction  \\\n",
       "0          QB            ['QB']                1.0  ...        20230909   \n",
       "1          QB            ['QB']                1.0  ...        20230909   \n",
       "2          QB            ['QB']                1.0  ...        20230909   \n",
       "3          QB            ['QB']                1.0  ...        20230909   \n",
       "4          QB            ['QB']                1.0  ...        20230909   \n",
       "...       ...               ...                ...  ...             ...   \n",
       "8340      DEF           ['DEF']                NaN  ...        20230909   \n",
       "8341      DEF           ['DEF']                NaN  ...        20230909   \n",
       "8342      DEF           ['DEF']                NaN  ...        20230909   \n",
       "8343      DEF           ['DEF']                NaN  ...        20230909   \n",
       "8344      DEF           ['DEF']                NaN  ...        20230909   \n",
       "\n",
       "     pts_proj            owner_id taxi  starters  players             user_id  \\\n",
       "0     25.9000  904399374891855872  NaN      True     True  904399374891855872   \n",
       "1     25.9000  904399374891855872  NaN      True     True  904399374891855872   \n",
       "2     25.8600  904398822170636288  NaN      True     True  904398822170636288   \n",
       "3     25.8600  904398822170636288  NaN      True     True  904398822170636288   \n",
       "4     25.8500  904398822170636288  NaN      True     True  904398822170636288   \n",
       "...       ...                 ...  ...       ...      ...                 ...   \n",
       "8340  -4.3633  904399374891855872  NaN      True     True  904399374891855872   \n",
       "8341  -5.6689  904399374891855872  NaN      True     True  904399374891855872   \n",
       "8342  -6.3891  452577139540094976  NaN      True     True  452577139540094976   \n",
       "8343  -7.5229  452577139540094976  NaN      True     True  452577139540094976   \n",
       "8344  -7.5229  452577139540094976  NaN      True     True  452577139540094976   \n",
       "\n",
       "            franchise_name    display_name rel_proj  \n",
       "0             Comeback 👑’s  comebackking15   26.078  \n",
       "1             Comeback 👑’s  comebackking15   25.900  \n",
       "2     Saskatoon Squatches     SpacemnSpiff   26.036  \n",
       "3     Saskatoon Squatches     SpacemnSpiff   25.860  \n",
       "4     Saskatoon Squatches     SpacemnSpiff   26.026  \n",
       "...                    ...             ...      ...  \n",
       "8340          Comeback 👑’s  comebackking15    0.000  \n",
       "8341          Comeback 👑’s  comebackking15    0.000  \n",
       "8342             2014champ       2014champ    0.000  \n",
       "8343             2014champ       2014champ    0.000  \n",
       "8344             2014champ       2014champ    0.000  \n",
       "\n",
       "[8345 rows x 65 columns]"
      ]
     },
     "execution_count": 35,
     "metadata": {},
     "output_type": "execute_result"
    }
   ],
   "source": [
    "chop_df = full.copy()\n",
    "# Type player's name to find their vitals\n",
    "chop = 'David Montgomery'\n",
    "# See how bold the user wants to be\n",
    "multiplier_tradeup = 1.05\n",
    "# Calc across season\n",
    "# Get relative points\n",
    "chop_df = getRelProjs_optimized(chop_df)\n",
    "# Sum points across the season\n",
    "#chop_df = getSeasonTotals(chop_df)\n",
    "chop_df\n"
   ]
  },
  {
   "cell_type": "code",
   "execution_count": null,
   "metadata": {},
   "outputs": [],
   "source": [
    "# Find the player\n",
    "chop_row = chop_df.loc[chop_df['full_name']==chop].head(1).reset_index().iloc[0]\n",
    "#chop_id = chop_row['player_id']\n",
    "chop_pos = chop_row['position']\n",
    "chop_age = chop_row['age']\n",
    "chop_rel = chop_row['rel_proj']\n",
    "# Select\n",
    "#cond_id = chop_df['player_id']!=chop_id\n",
    "cond_rel_min = chop_df['rel_proj']>=chop_rel\n",
    "cond_rel_max = chop_df['rel_proj']<=chop_rel * multiplier_tradeup\n",
    "cond_notfa = chop_df['franchise_name'].notna()\n",
    "targs = chop_df.loc[cond_rel_min & cond_rel_max & cond_notfa]\n",
    "targs"
   ]
  },
  {
   "cell_type": "markdown",
   "metadata": {},
   "source": [
    "# Write to CSV"
   ]
  },
  {
   "cell_type": "code",
   "execution_count": 98,
   "metadata": {},
   "outputs": [],
   "source": [
    "# sums.to_csv(f'processed_{date_string}.csv', index=False)\n",
    "waivers.to_csv(f'waivers_{date_string}.csv', index=False)"
   ]
  },
  {
   "cell_type": "code",
   "execution_count": 97,
   "metadata": {},
   "outputs": [
    {
     "ename": "KeyError",
     "evalue": "'Column not found: rel_pts'",
     "output_type": "error",
     "traceback": [
      "\u001b[0;31m---------------------------------------------------------------------------\u001b[0m",
      "\u001b[0;31mKeyError\u001b[0m                                  Traceback (most recent call last)",
      "Cell \u001b[0;32mIn[97], line 2\u001b[0m\n\u001b[1;32m      1\u001b[0m \u001b[38;5;66;03m# Starter report\u001b[39;00m\n\u001b[0;32m----> 2\u001b[0m \u001b[43mfull\u001b[49m\u001b[38;5;241;43m.\u001b[39;49m\u001b[43mloc\u001b[49m\u001b[43m[\u001b[49m\u001b[43mfull\u001b[49m\u001b[43m[\u001b[49m\u001b[38;5;124;43m'\u001b[39;49m\u001b[38;5;124;43mstarters\u001b[39;49m\u001b[38;5;124;43m'\u001b[39;49m\u001b[43m]\u001b[49m\u001b[38;5;241;43m==\u001b[39;49m\u001b[38;5;28;43;01mTrue\u001b[39;49;00m\u001b[43m]\u001b[49m\u001b[38;5;241;43m.\u001b[39;49m\u001b[43mgroupby\u001b[49m\u001b[43m(\u001b[49m\u001b[38;5;124;43m'\u001b[39;49m\u001b[38;5;124;43mfranchise_name\u001b[39;49m\u001b[38;5;124;43m'\u001b[39;49m\u001b[43m)\u001b[49m\u001b[43m[\u001b[49m\u001b[38;5;124;43m'\u001b[39;49m\u001b[38;5;124;43mrel_pts\u001b[39;49m\u001b[38;5;124;43m'\u001b[39;49m\u001b[43m]\u001b[49m\u001b[38;5;241m.\u001b[39msum()\u001b[38;5;241m.\u001b[39msort_values()\n",
      "File \u001b[0;32m~/opt/anaconda3/envs/fnfl2023/lib/python3.11/site-packages/pandas/core/groupby/generic.py:1771\u001b[0m, in \u001b[0;36mDataFrameGroupBy.__getitem__\u001b[0;34m(self, key)\u001b[0m\n\u001b[1;32m   1764\u001b[0m \u001b[39mif\u001b[39;00m \u001b[39misinstance\u001b[39m(key, \u001b[39mtuple\u001b[39m) \u001b[39mand\u001b[39;00m \u001b[39mlen\u001b[39m(key) \u001b[39m>\u001b[39m \u001b[39m1\u001b[39m:\n\u001b[1;32m   1765\u001b[0m     \u001b[39m# if len == 1, then it becomes a SeriesGroupBy and this is actually\u001b[39;00m\n\u001b[1;32m   1766\u001b[0m     \u001b[39m# valid syntax, so don't raise\u001b[39;00m\n\u001b[1;32m   1767\u001b[0m     \u001b[39mraise\u001b[39;00m \u001b[39mValueError\u001b[39;00m(\n\u001b[1;32m   1768\u001b[0m         \u001b[39m\"\u001b[39m\u001b[39mCannot subset columns with a tuple with more than one element. \u001b[39m\u001b[39m\"\u001b[39m\n\u001b[1;32m   1769\u001b[0m         \u001b[39m\"\u001b[39m\u001b[39mUse a list instead.\u001b[39m\u001b[39m\"\u001b[39m\n\u001b[1;32m   1770\u001b[0m     )\n\u001b[0;32m-> 1771\u001b[0m \u001b[39mreturn\u001b[39;00m \u001b[39msuper\u001b[39;49m()\u001b[39m.\u001b[39;49m\u001b[39m__getitem__\u001b[39;49m(key)\n",
      "File \u001b[0;32m~/opt/anaconda3/envs/fnfl2023/lib/python3.11/site-packages/pandas/core/base.py:244\u001b[0m, in \u001b[0;36mSelectionMixin.__getitem__\u001b[0;34m(self, key)\u001b[0m\n\u001b[1;32m    242\u001b[0m \u001b[39melse\u001b[39;00m:\n\u001b[1;32m    243\u001b[0m     \u001b[39mif\u001b[39;00m key \u001b[39mnot\u001b[39;00m \u001b[39min\u001b[39;00m \u001b[39mself\u001b[39m\u001b[39m.\u001b[39mobj:\n\u001b[0;32m--> 244\u001b[0m         \u001b[39mraise\u001b[39;00m \u001b[39mKeyError\u001b[39;00m(\u001b[39mf\u001b[39m\u001b[39m\"\u001b[39m\u001b[39mColumn not found: \u001b[39m\u001b[39m{\u001b[39;00mkey\u001b[39m}\u001b[39;00m\u001b[39m\"\u001b[39m)\n\u001b[1;32m    245\u001b[0m     ndim \u001b[39m=\u001b[39m \u001b[39mself\u001b[39m\u001b[39m.\u001b[39mobj[key]\u001b[39m.\u001b[39mndim\n\u001b[1;32m    246\u001b[0m     \u001b[39mreturn\u001b[39;00m \u001b[39mself\u001b[39m\u001b[39m.\u001b[39m_gotitem(key, ndim\u001b[39m=\u001b[39mndim)\n",
      "\u001b[0;31mKeyError\u001b[0m: 'Column not found: rel_pts'"
     ]
    }
   ],
   "source": [
    "# Starter report\n",
    "full.loc[full['starters']==True].groupby('franchise_name')['rel_pts'].sum().sort_values()"
   ]
  },
  {
   "cell_type": "code",
   "execution_count": 96,
   "metadata": {},
   "outputs": [
    {
     "data": {
      "text/plain": [
       "franchise_name\n",
       "DangeRUSS Last Ride          160.0080\n",
       "Comeback 👑’s                1885.1302\n",
       "kevinbash                   1925.8060\n",
       "Idk much about soccer       2105.1885\n",
       "Count of Monte Christian    2163.8135\n",
       "2014champ                   2194.1737\n",
       "GusTheBus                   2283.6228\n",
       "📜 Providence 🪬 Spirits 🥂    2324.0345\n",
       "Verdanks Vacqueros FFC      2426.5528\n",
       "Pretty Big Wieners          2483.3059\n",
       "Saskatoon Squatches         2582.2908\n",
       "Croccity Body Snatchers     2733.0872\n",
       "Name: pts_proj, dtype: float64"
      ]
     },
     "execution_count": 96,
     "metadata": {},
     "output_type": "execute_result"
    }
   ],
   "source": [
    "full.loc[full['starters']==True].groupby('franchise_name')['pts_proj'].sum().sort_values()"
   ]
  },
  {
   "cell_type": "code",
   "execution_count": null,
   "metadata": {},
   "outputs": [],
   "source": []
  }
 ],
 "metadata": {
  "kernelspec": {
   "display_name": "Python 3.11.4 ('fnfl2023')",
   "language": "python",
   "name": "python3"
  },
  "language_info": {
   "codemirror_mode": {
    "name": "ipython",
    "version": 3
   },
   "file_extension": ".py",
   "mimetype": "text/x-python",
   "name": "python",
   "nbconvert_exporter": "python",
   "pygments_lexer": "ipython3",
   "version": "3.11.4"
  },
  "orig_nbformat": 4,
  "vscode": {
   "interpreter": {
    "hash": "9d5343d8487a7ad33f7c6df21cec71a8cada15334439bd483feb9f981d44372f"
   }
  }
 },
 "nbformat": 4,
 "nbformat_minor": 2
}
