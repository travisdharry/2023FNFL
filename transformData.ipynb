{
 "cells": [
  {
   "cell_type": "markdown",
   "metadata": {},
   "source": [
    "# Config"
   ]
  },
  {
   "cell_type": "code",
   "execution_count": 2,
   "metadata": {},
   "outputs": [],
   "source": [
    "# Import dependencies\n",
    "import pandas as pd\n",
    "from datetime import datetime\n",
    "from sleeperpy import User, Leagues\n"
   ]
  },
  {
   "cell_type": "code",
   "execution_count": 53,
   "metadata": {},
   "outputs": [],
   "source": [
    "# Settings\n",
    "date_string = datetime.today().strftime('%Y%m%d')\n",
    "extra_defensive_points = 18\n",
    "pr_bonus = 1\n",
    "kr_bonus = 3\n",
    "username = 'dirtywizard'"
   ]
  },
  {
   "cell_type": "markdown",
   "metadata": {},
   "source": [
    "# Extract"
   ]
  },
  {
   "cell_type": "code",
   "execution_count": 68,
   "metadata": {},
   "outputs": [],
   "source": [
    "# Read database\n",
    "preds = pd.read_csv('db/records_preds.csv')\n",
    "preds = preds.loc[preds['date_prediction']==preds['date_prediction'].max()]\n",
    "mults = pd.read_csv('db/pts_multipliers.csv')\n",
    "rostLims = pd.read_csv('db/roster_limits.csv')"
   ]
  },
  {
   "cell_type": "code",
   "execution_count": 64,
   "metadata": {},
   "outputs": [],
   "source": [
    "def processRosters(league_id):\n",
    "    # Get rosters for all league members\n",
    "    rosters = pd.DataFrame(Leagues.get_rosters(league_id))\n",
    "    # Explode the player columns to find how they are placed on the roster\n",
    "    result = pd.DataFrame(columns=['owner_id', 'player_id'])\n",
    "    for col in ['taxi', 'starters', 'players']:\n",
    "        df = rosters[['owner_id', col]].explode(col)\n",
    "        df = df.rename(columns={col:'player_id'})\n",
    "        df[col] = True\n",
    "        result = result.merge(df, how='outer', on=['owner_id', 'player_id'])\n",
    "    return result"
   ]
  },
  {
   "cell_type": "code",
   "execution_count": 24,
   "metadata": {},
   "outputs": [],
   "source": [
    "def procesOwners(league_id):\n",
    "    owners = pd.DataFrame(Leagues.get_users(league_id))\n",
    "    list = []\n",
    "    for i in range(len(owners)):\n",
    "        if 'team_name' in owners['metadata'][i]:\n",
    "            list.append(owners['metadata'][i]['team_name'])\n",
    "        else:\n",
    "            list.append(owners['display_name'][i])\n",
    "    owners['franchise_name'] = list\n",
    "    owners = owners[['user_id', 'franchise_name', 'display_name']]\n",
    "    return owners"
   ]
  },
  {
   "cell_type": "code",
   "execution_count": 25,
   "metadata": {},
   "outputs": [],
   "source": [
    "# Get User's Sleeper ID\n",
    "user_id = User.get_user(username)['user_id']\n",
    "# Get the User's Sleeper league ID\n",
    "league_id = Leagues.get_all_leagues(user_id, 'nfl', 2023)[0]['league_id']\n",
    "# Get all players on rosters\n",
    "rosters = processRosters(league_id)\n",
    "# Get info on all owners\n",
    "owners = procesOwners(league_id)"
   ]
  },
  {
   "cell_type": "markdown",
   "metadata": {},
   "source": [
    "# Transform"
   ]
  },
  {
   "cell_type": "code",
   "execution_count": 69,
   "metadata": {},
   "outputs": [],
   "source": [
    "# Customize predictions for league\n",
    "# multiply by points multiplier\n",
    "for col in mults.columns[1:]:\n",
    "    preds[col] = preds[col] * mults.loc[mults['username']==username, col][0]\n",
    "# Add up point columns\n",
    "preds['pts_proj'] = preds[mults.columns[1:]].sum(axis=1)\n",
    "# Add extras for defense starting values\n",
    "preds.loc[preds['Yds Allowed'].notna(), 'pts_proj'] = preds.loc[preds['Yds Allowed'].notna(), 'pts_proj'] + extra_defensive_points\n",
    "\n",
    "# Adjust point calculation based on PR/KR\n",
    "preds.loc[preds['PR']==True, 'pts_proj'] = preds.loc[preds['PR']==True, 'pts_proj'] + (pr_bonus)\n",
    "preds.loc[preds['KR']==True, 'pts_proj'] = preds.loc[preds['KR']==True, 'pts_proj'] + (kr_bonus)\n",
    "\n",
    "# Calculate relative points\n",
    "preds['pts_proj'] = preds['pts_proj'].fillna(0)\n",
    "preds = preds.sort_values(by='pts_proj', ascending=False, ignore_index=True)\n",
    "for pos in rostLims.columns[1:]:\n",
    "    cond1 = preds['position']==pos\n",
    "    floor = preds.loc[cond1, 'pts_proj'].reset_index(drop=True)[rostLims.loc[rostLims['username']==username, pos][0]]\n",
    "    preds.loc[cond1, 'rel_proj'] = preds.loc[cond1, 'pts_proj'] - floor\n",
    "\n",
    "# Reduce\n",
    "preds = preds[['week', 'player_id', 'pts_proj', 'rel_proj', 'full_name', 'age', 'years_exp', 'weight', 'height',\n",
    "       'team', 'position', 'fantasy_positions', 'depth_chart_order',\n",
    "       'depth_chart_position', 'status', 'injury_status', 'injury_notes',\n",
    "       'injury_start_date', 'practice_participation', 'practice_description','active'\n",
    "       ]]"
   ]
  },
  {
   "cell_type": "code",
   "execution_count": 70,
   "metadata": {},
   "outputs": [
    {
     "data": {
      "text/plain": [
       "Index(['player_id', 'full_name', 'birth_date', 'age', 'weight', 'height',\n",
       "       'team', 'position', 'fantasy_positions', 'depth_chart_order',\n",
       "       'depth_chart_position', 'status', 'injury_status', 'injury_notes',\n",
       "       'injury_start_date', 'practice_participation', 'practice_description',\n",
       "       'years_exp', 'active', 'week', 'date_prediction', 'pts_proj',\n",
       "       'rel_proj'],\n",
       "      dtype='object')"
      ]
     },
     "execution_count": 70,
     "metadata": {},
     "output_type": "execute_result"
    }
   ],
   "source": [
    "preds.columns"
   ]
  },
  {
   "cell_type": "code",
   "execution_count": 61,
   "metadata": {},
   "outputs": [],
   "source": [
    "# Merge\n",
    "# Merge in points\n",
    "full = preds \\\n",
    "    .merge(rosters, how='left', on='player_id') \\\n",
    "    .merge(owners, how='left', left_on='owner_id', right_on='user_id')"
   ]
  },
  {
   "cell_type": "code",
   "execution_count": null,
   "metadata": {},
   "outputs": [],
   "source": [
    "# Left off here"
   ]
  },
  {
   "cell_type": "code",
   "execution_count": null,
   "metadata": {},
   "outputs": [],
   "source": []
  },
  {
   "cell_type": "code",
   "execution_count": null,
   "metadata": {},
   "outputs": [],
   "source": [
    "# Sum points across the season\n",
    "totals = full.groupby('player_id')['pts_proj'].sum().reset_index()\n",
    "unis = full.drop_duplicates(subset='player_id', ignore_index=True).drop(columns='pts_proj')\n",
    "sums = unis.merge(totals, how='left', on='player_id')"
   ]
  },
  {
   "cell_type": "code",
   "execution_count": null,
   "metadata": {},
   "outputs": [],
   "source": []
  },
  {
   "cell_type": "code",
   "execution_count": null,
   "metadata": {},
   "outputs": [],
   "source": [
    "# Tidy Up\n",
    "sums = sums[['player_id', 'franchise_name', 'relpts_proj', 'pts_proj', 'full_name', 'age', 'team', 'position','depth_chart_order', \n",
    "       'years_exp', 'weight', 'height','taxi', 'starters', 'players', 'active', \n",
    "       'fantasy_positions', 'depth_chart_position', 'PR', 'KR',\n",
    "       'status', 'injury_status', 'injury_notes','injury_start_date', 'practice_participation', 'practice_description',\n",
    "       ]]\n",
    "sums = sums.sort_values(by='relpts_proj', ignore_index=True, ascending=False)\n",
    "sums.loc[sums['position']=='DEF', 'full_name'] = sums.loc[sums['position']=='DEF', 'team']"
   ]
  },
  {
   "cell_type": "markdown",
   "metadata": {},
   "source": [
    "# Waiver Report"
   ]
  },
  {
   "cell_type": "code",
   "execution_count": null,
   "metadata": {},
   "outputs": [],
   "source": [
    "# waiver report\n",
    "minpts = sums.loc[(sums['franchise_name']=='Croccity Body Snatchers')&(sums['taxi'].isna())]['pts_proj'].min()\n",
    "cond1 = sums['franchise_name']=='Croccity Body Snatchers'\n",
    "cond2 = sums['franchise_name'].isna()\n",
    "cond3 = sums['pts_proj']>=minpts\n",
    "waivers = sums.loc[(cond1|cond2)&cond3].reset_index(drop=True)\n",
    "waivers.to_csv(f'waivers_{date_string}.csv', index=False)"
   ]
  },
  {
   "cell_type": "markdown",
   "metadata": {},
   "source": [
    "# Write to CSV"
   ]
  },
  {
   "cell_type": "code",
   "execution_count": null,
   "metadata": {},
   "outputs": [],
   "source": [
    "sums.to_csv(f'processed_{date_string}.csv', index=False)"
   ]
  },
  {
   "cell_type": "code",
   "execution_count": null,
   "metadata": {},
   "outputs": [],
   "source": [
    "# Todo:\n",
    "# Print any sleeper players who are not already in the ids dataset\n",
    "# Strip out final R from rookies in sharks\n",
    "# Build Waiver report\n",
    "# Build trade report\n",
    "# RosterOptimizer\n",
    "# Viz franchise points"
   ]
  },
  {
   "cell_type": "code",
   "execution_count": null,
   "metadata": {},
   "outputs": [
    {
     "data": {
      "text/plain": [
       "franchise_name\n",
       "DangeRUSS Last Ride          86.8844\n",
       "Comeback 👑’s                173.2645\n",
       "kevinbash                   188.1524\n",
       "Idk much about soccer       232.3899\n",
       "2014champ                   248.5451\n",
       "Count of Monte Christian    287.5669\n",
       "GusTheBus                   410.7942\n",
       "📜 Providence 🪬 Spirits 🥂    451.2059\n",
       "Verdanks Vacqueros FFC      553.5242\n",
       "Pretty Big Wieners          610.4773\n",
       "Saskatoon Squatches         789.8972\n",
       "Croccity Body Snatchers     860.2586\n",
       "Name: relpts_proj, dtype: float64"
      ]
     },
     "metadata": {},
     "output_type": "display_data"
    }
   ],
   "source": [
    "# Starter report\n",
    "sums.loc[sums['starters']==True].groupby('franchise_name')['relpts_proj'].sum().sort_values()"
   ]
  },
  {
   "cell_type": "code",
   "execution_count": null,
   "metadata": {},
   "outputs": [
    {
     "data": {
      "text/plain": [
       "franchise_name\n",
       "DangeRUSS Last Ride          160.0080\n",
       "Comeback 👑’s                1833.2381\n",
       "kevinbash                   1925.8060\n",
       "Idk much about soccer       2028.1385\n",
       "2014champ                   2121.7737\n",
       "Count of Monte Christian    2160.7955\n",
       "GusTheBus                   2283.6228\n",
       "📜 Providence 🪬 Spirits 🥂    2324.0345\n",
       "Verdanks Vacqueros FFC      2426.5528\n",
       "Pretty Big Wieners          2483.3059\n",
       "Saskatoon Squatches         2582.2908\n",
       "Croccity Body Snatchers     2733.0872\n",
       "Name: pts_proj, dtype: float64"
      ]
     },
     "metadata": {},
     "output_type": "display_data"
    }
   ],
   "source": [
    "sums.loc[sums['starters']==True].groupby('franchise_name')['pts_proj'].sum().sort_values()"
   ]
  },
  {
   "cell_type": "markdown",
   "metadata": {},
   "source": [
    "# Merge ids"
   ]
  },
  {
   "cell_type": "code",
   "execution_count": null,
   "metadata": {},
   "outputs": [],
   "source": [
    "# sharks = sharks.drop_duplicates(subset='id_sharks', ignore_index=True)\n",
    "# sharks['full_name'] = sharks['id_sharks']"
   ]
  },
  {
   "cell_type": "code",
   "execution_count": null,
   "metadata": {},
   "outputs": [],
   "source": [
    "# ids = pd.read_csv('data_sharks/id_dict.csv', dtype={'player_id':'str', 'id_player_sharks':'str'})\n",
    "# ids = ids[['player_id', 'id_ourlads', 'full_name']]\n",
    "# ids"
   ]
  },
  {
   "cell_type": "code",
   "execution_count": null,
   "metadata": {},
   "outputs": [],
   "source": [
    "# allids = ids.merge(sharks, how='outer', on='full_name')\n",
    "# allids"
   ]
  },
  {
   "cell_type": "code",
   "execution_count": null,
   "metadata": {},
   "outputs": [],
   "source": [
    "# allids.to_csv('id_dict2.csv', index=False)"
   ]
  },
  {
   "cell_type": "code",
   "execution_count": null,
   "metadata": {},
   "outputs": [],
   "source": [
    "# # Calculate stats\n",
    "# ptsDict = {\n",
    "# 'username':['dirtywizard'],\n",
    "# 'Att':[0], \n",
    "# 'Comp':[0], \n",
    "# 'Pass Yds':[.04], \n",
    "# 'Pass TDs':[4],\n",
    "# 'Int':[-2], \n",
    "# 'Sck':[0], \n",
    "# 'Rush':[.1], \n",
    "# 'Rsh Yds':[.1],\n",
    "# 'Rsh TDs':[6], \n",
    "# 'Fum':[-2], \n",
    "# 'Tgt':[0], \n",
    "# 'RZ Tgt':[0], \n",
    "# 'Rec':[.25], \n",
    "# 'Rec Yds':[.1], \n",
    "# 'Rec TDs':[6], \n",
    "# 'Kick Ret Yds':[.1], \n",
    "# 'XPM':[1],\n",
    "# 'XPA':[0], \n",
    "# 'FGM':[3], \n",
    "# 'FGA':[0], \n",
    "# '10-19 FGM':[0], \n",
    "# '20-29 FGM':[0], \n",
    "# '30-39 FGM':[.5], \n",
    "# '40-49 FGM':[1.5],\n",
    "# '50+ FGM':[2], \n",
    "# 'Miss':[0], \n",
    "# 'Yds Allowed':[-.027], \n",
    "# 'Pts Agn':[-.29], \n",
    "# 'Scks':[1], \n",
    "# 'DefTD':[6], \n",
    "# 'Safts':[2]\n",
    "# }\n",
    "# ptsd = pd.DataFrame.from_dict(ptsDict)\n",
    "# ptsd.to_csv('db/pts_multipliers.csv', index=False)"
   ]
  }
 ],
 "metadata": {
  "kernelspec": {
   "display_name": "Python 3.11.4 ('fnfl2023')",
   "language": "python",
   "name": "python3"
  },
  "language_info": {
   "codemirror_mode": {
    "name": "ipython",
    "version": 3
   },
   "file_extension": ".py",
   "mimetype": "text/x-python",
   "name": "python",
   "nbconvert_exporter": "python",
   "pygments_lexer": "ipython3",
   "version": "3.11.4"
  },
  "orig_nbformat": 4,
  "vscode": {
   "interpreter": {
    "hash": "9d5343d8487a7ad33f7c6df21cec71a8cada15334439bd483feb9f981d44372f"
   }
  }
 },
 "nbformat": 4,
 "nbformat_minor": 2
}
