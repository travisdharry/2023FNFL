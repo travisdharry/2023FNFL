{
 "cells": [
  {
   "cell_type": "markdown",
   "metadata": {},
   "source": [
    "# Config"
   ]
  },
  {
   "cell_type": "code",
   "execution_count": 61,
   "metadata": {},
   "outputs": [],
   "source": [
    "# Import dependencies\n",
    "import pandas as pd\n",
    "from datetime import datetime\n",
    "from sleeperpy import User, Leagues\n",
    "from ffpackage.viz import compareFranchises\n",
    "import plotly\n",
    "import plotly.express as px\n",
    "from munkres import Munkres, print_matrix\n",
    "import plotly.graph_objects as go\n"
   ]
  },
  {
   "cell_type": "code",
   "execution_count": 62,
   "metadata": {},
   "outputs": [],
   "source": [
    "# Settings\n",
    "date_string = datetime.today().strftime('%Y%m%d')\n",
    "weekStart = 11\n",
    "weekEnd = 11\n",
    "def_starting_pts = 18\n",
    "pr_bonus = 0\n",
    "kr_bonus = 0\n",
    "username = 'dirtywizard'"
   ]
  },
  {
   "cell_type": "markdown",
   "metadata": {},
   "source": [
    "# Extract"
   ]
  },
  {
   "cell_type": "code",
   "execution_count": 63,
   "metadata": {},
   "outputs": [],
   "source": [
    "# Read database\n",
    "preds = pd.read_csv('db/records_preds.csv')\n",
    "preds = preds.loc[preds['date_prediction']==preds['date_prediction'].max()]\n",
    "preds = preds.loc[(preds['week']>=weekStart)&(preds['week']<=weekEnd)]\n",
    "mults = pd.read_csv('db/pts_multipliers.csv')\n",
    "rostLims = pd.read_csv('db/roster_limits.csv')"
   ]
  },
  {
   "cell_type": "code",
   "execution_count": 64,
   "metadata": {},
   "outputs": [],
   "source": [
    "def processRosters(league_id):\n",
    "    # Get rosters for all league members\n",
    "    rosters = pd.DataFrame(Leagues.get_rosters(league_id))\n",
    "    # Explode the player columns to find how they are placed on the roster\n",
    "    result = pd.DataFrame(columns=['owner_id', 'player_id'])\n",
    "    for col in ['taxi', 'starters', 'players']:\n",
    "        df = rosters[['owner_id', col]].explode(col)\n",
    "        df = df.rename(columns={col:'player_id'})\n",
    "        df[col] = True\n",
    "        result = result.merge(df, how='outer', on=['owner_id', 'player_id'])\n",
    "    return result"
   ]
  },
  {
   "cell_type": "code",
   "execution_count": 65,
   "metadata": {},
   "outputs": [],
   "source": [
    "def procesOwners(league_id):\n",
    "    owners = pd.DataFrame(Leagues.get_users(league_id))\n",
    "    list = []\n",
    "    for i in range(len(owners)):\n",
    "        if 'team_name' in owners['metadata'][i]:\n",
    "            list.append(owners['metadata'][i]['team_name'])\n",
    "        else:\n",
    "            list.append(owners['display_name'][i])\n",
    "    owners['franchise_name'] = list\n",
    "    owners = owners[['user_id', 'franchise_name', 'display_name']]\n",
    "    return owners"
   ]
  },
  {
   "cell_type": "code",
   "execution_count": 66,
   "metadata": {},
   "outputs": [],
   "source": [
    "# Get User's Sleeper ID\n",
    "user_id = User.get_user(username)['user_id']\n",
    "# Get the User's Sleeper league ID\n",
    "league_id = Leagues.get_all_leagues(user_id, 'nfl', 2023)[0]['league_id']\n",
    "# Get all players on rosters\n",
    "rosters = processRosters(league_id)\n",
    "# Get info on all owners\n",
    "owners = procesOwners(league_id)\n",
    "# Get league info\n",
    "user_league = Leagues.get_league(league_id)\n",
    "\n",
    "# Get roster positions \n",
    "rosterList = user_league['roster_positions']\n",
    "# Sort rosterList\n",
    "sort_order = ['QB', 'RB', 'WR', 'TE', 'K', 'DEF', 'FLEX', 'SUPER_FLEX', 'BN']\n",
    "rosterList.sort(key=sort_order.index)\n",
    "\n",
    "# Get number of franchises\n",
    "number_of_franchises = user_league['total_rosters']"
   ]
  },
  {
   "cell_type": "markdown",
   "metadata": {},
   "source": [
    "# Transform"
   ]
  },
  {
   "cell_type": "code",
   "execution_count": 67,
   "metadata": {},
   "outputs": [],
   "source": [
    "# Customize predictions for league\n",
    "# Calculate projected points according to that league's scoring settings\n",
    "# Multiply by points multiplier\n",
    "for col in mults.columns[1:]:\n",
    "    preds[col] = preds[col] * mults.loc[mults['username']==username, col][0]\n",
    "# Add up point columns\n",
    "preds['pts_proj'] = preds[mults.columns[1:]].sum(axis=1)\n",
    "# Add extras for defense starting values\n",
    "preds.loc[preds['Yds Allowed'].notna(), 'pts_proj'] = preds.loc[preds['Yds Allowed'].notna(), 'pts_proj'] + def_starting_pts\n",
    "# Add extras for Punt/kick returners\n",
    "preds.loc[preds['PR']==True, 'pts_proj'] = preds.loc[preds['PR']==True, 'pts_proj'] + (pr_bonus)\n",
    "preds.loc[preds['KR']==True, 'pts_proj'] = preds.loc[preds['KR']==True, 'pts_proj'] + (kr_bonus)\n",
    "\n",
    "# Merge in point projections with franchise data\n",
    "full = preds \\\n",
    "    .merge(rosters, how='left', on='player_id') \\\n",
    "    .merge(owners, how='left', left_on='owner_id', right_on='user_id')"
   ]
  },
  {
   "cell_type": "code",
   "execution_count": 68,
   "metadata": {},
   "outputs": [
    {
     "data": {
      "text/html": [
       "<div>\n",
       "<style scoped>\n",
       "    .dataframe tbody tr th:only-of-type {\n",
       "        vertical-align: middle;\n",
       "    }\n",
       "\n",
       "    .dataframe tbody tr th {\n",
       "        vertical-align: top;\n",
       "    }\n",
       "\n",
       "    .dataframe thead th {\n",
       "        text-align: right;\n",
       "    }\n",
       "</style>\n",
       "<table border=\"1\" class=\"dataframe\">\n",
       "  <thead>\n",
       "    <tr style=\"text-align: right;\">\n",
       "      <th></th>\n",
       "      <th>player_id</th>\n",
       "      <th>full_name</th>\n",
       "      <th>birth_date</th>\n",
       "      <th>age</th>\n",
       "      <th>weight</th>\n",
       "      <th>height</th>\n",
       "      <th>team</th>\n",
       "      <th>position</th>\n",
       "      <th>fantasy_positions</th>\n",
       "      <th>depth_chart_order</th>\n",
       "      <th>...</th>\n",
       "      <th>KR</th>\n",
       "      <th>date_prediction</th>\n",
       "      <th>pts_proj</th>\n",
       "      <th>owner_id</th>\n",
       "      <th>taxi</th>\n",
       "      <th>starters</th>\n",
       "      <th>players</th>\n",
       "      <th>user_id</th>\n",
       "      <th>franchise_name</th>\n",
       "      <th>display_name</th>\n",
       "    </tr>\n",
       "  </thead>\n",
       "  <tbody>\n",
       "    <tr>\n",
       "      <th>0</th>\n",
       "      <td>4234</td>\n",
       "      <td>Noah Brown</td>\n",
       "      <td>1996-01-06</td>\n",
       "      <td>27.0</td>\n",
       "      <td>215.0</td>\n",
       "      <td>74</td>\n",
       "      <td>HOU</td>\n",
       "      <td>WR</td>\n",
       "      <td>['WR']</td>\n",
       "      <td>3.0</td>\n",
       "      <td>...</td>\n",
       "      <td>NaN</td>\n",
       "      <td>20231116</td>\n",
       "      <td>4.705</td>\n",
       "      <td>905172334586535936</td>\n",
       "      <td>NaN</td>\n",
       "      <td>NaN</td>\n",
       "      <td>True</td>\n",
       "      <td>905172334586535936</td>\n",
       "      <td>kevinbash</td>\n",
       "      <td>kevinbash</td>\n",
       "    </tr>\n",
       "    <tr>\n",
       "      <th>1</th>\n",
       "      <td>2251</td>\n",
       "      <td>Logan Thomas</td>\n",
       "      <td>1991-07-01</td>\n",
       "      <td>32.0</td>\n",
       "      <td>250.0</td>\n",
       "      <td>78</td>\n",
       "      <td>WAS</td>\n",
       "      <td>TE</td>\n",
       "      <td>['TE']</td>\n",
       "      <td>1.0</td>\n",
       "      <td>...</td>\n",
       "      <td>NaN</td>\n",
       "      <td>20231116</td>\n",
       "      <td>4.925</td>\n",
       "      <td>904381167934095360</td>\n",
       "      <td>NaN</td>\n",
       "      <td>True</td>\n",
       "      <td>True</td>\n",
       "      <td>904381167934095360</td>\n",
       "      <td>GusTheBus</td>\n",
       "      <td>mdwglobe</td>\n",
       "    </tr>\n",
       "    <tr>\n",
       "      <th>2</th>\n",
       "      <td>7922</td>\n",
       "      <td>Riley Patterson</td>\n",
       "      <td>1999-09-07</td>\n",
       "      <td>24.0</td>\n",
       "      <td>195.0</td>\n",
       "      <td>72</td>\n",
       "      <td>DET</td>\n",
       "      <td>PK</td>\n",
       "      <td>['K']</td>\n",
       "      <td>1.0</td>\n",
       "      <td>...</td>\n",
       "      <td>NaN</td>\n",
       "      <td>20231116</td>\n",
       "      <td>9.900</td>\n",
       "      <td>904398822170636288</td>\n",
       "      <td>NaN</td>\n",
       "      <td>True</td>\n",
       "      <td>True</td>\n",
       "      <td>904398822170636288</td>\n",
       "      <td>Saskatoon Squatches</td>\n",
       "      <td>SpacemnSpiff</td>\n",
       "    </tr>\n",
       "    <tr>\n",
       "      <th>3</th>\n",
       "      <td>6865</td>\n",
       "      <td>Colby Parkinson</td>\n",
       "      <td>1999-01-08</td>\n",
       "      <td>24.0</td>\n",
       "      <td>265.0</td>\n",
       "      <td>79</td>\n",
       "      <td>SEA</td>\n",
       "      <td>TE</td>\n",
       "      <td>['TE']</td>\n",
       "      <td>2.0</td>\n",
       "      <td>...</td>\n",
       "      <td>NaN</td>\n",
       "      <td>20231116</td>\n",
       "      <td>2.160</td>\n",
       "      <td>NaN</td>\n",
       "      <td>NaN</td>\n",
       "      <td>NaN</td>\n",
       "      <td>NaN</td>\n",
       "      <td>NaN</td>\n",
       "      <td>NaN</td>\n",
       "      <td>NaN</td>\n",
       "    </tr>\n",
       "    <tr>\n",
       "      <th>4</th>\n",
       "      <td>MIN</td>\n",
       "      <td>MIN</td>\n",
       "      <td>NaN</td>\n",
       "      <td>NaN</td>\n",
       "      <td>NaN</td>\n",
       "      <td>NaN</td>\n",
       "      <td>MIN</td>\n",
       "      <td>DEF</td>\n",
       "      <td>['DEF']</td>\n",
       "      <td>NaN</td>\n",
       "      <td>...</td>\n",
       "      <td>NaN</td>\n",
       "      <td>20231116</td>\n",
       "      <td>4.710</td>\n",
       "      <td>904399374891855872</td>\n",
       "      <td>NaN</td>\n",
       "      <td>True</td>\n",
       "      <td>True</td>\n",
       "      <td>904399374891855872</td>\n",
       "      <td>Comeback 👑’s</td>\n",
       "      <td>comebackking15</td>\n",
       "    </tr>\n",
       "  </tbody>\n",
       "</table>\n",
       "<p>5 rows × 64 columns</p>\n",
       "</div>"
      ],
      "text/plain": [
       "  player_id        full_name  birth_date   age  weight height team position  \\\n",
       "0      4234       Noah Brown  1996-01-06  27.0   215.0     74  HOU       WR   \n",
       "1      2251     Logan Thomas  1991-07-01  32.0   250.0     78  WAS       TE   \n",
       "2      7922  Riley Patterson  1999-09-07  24.0   195.0     72  DET       PK   \n",
       "3      6865  Colby Parkinson  1999-01-08  24.0   265.0     79  SEA       TE   \n",
       "4       MIN              MIN         NaN   NaN     NaN    NaN  MIN      DEF   \n",
       "\n",
       "  fantasy_positions  depth_chart_order  ...   KR date_prediction pts_proj  \\\n",
       "0            ['WR']                3.0  ...  NaN        20231116    4.705   \n",
       "1            ['TE']                1.0  ...  NaN        20231116    4.925   \n",
       "2             ['K']                1.0  ...  NaN        20231116    9.900   \n",
       "3            ['TE']                2.0  ...  NaN        20231116    2.160   \n",
       "4           ['DEF']                NaN  ...  NaN        20231116    4.710   \n",
       "\n",
       "             owner_id  taxi  starters  players             user_id  \\\n",
       "0  905172334586535936   NaN       NaN     True  905172334586535936   \n",
       "1  904381167934095360   NaN      True     True  904381167934095360   \n",
       "2  904398822170636288   NaN      True     True  904398822170636288   \n",
       "3                 NaN   NaN       NaN      NaN                 NaN   \n",
       "4  904399374891855872   NaN      True     True  904399374891855872   \n",
       "\n",
       "         franchise_name    display_name  \n",
       "0             kevinbash       kevinbash  \n",
       "1             GusTheBus        mdwglobe  \n",
       "2  Saskatoon Squatches     SpacemnSpiff  \n",
       "3                   NaN             NaN  \n",
       "4          Comeback 👑’s  comebackking15  \n",
       "\n",
       "[5 rows x 64 columns]"
      ]
     },
     "execution_count": 68,
     "metadata": {},
     "output_type": "execute_result"
    }
   ],
   "source": [
    "full.head()"
   ]
  },
  {
   "cell_type": "markdown",
   "metadata": {},
   "source": [
    "# Create cost array"
   ]
  },
  {
   "cell_type": "markdown",
   "metadata": {},
   "source": [
    "# Munkres"
   ]
  },
  {
   "cell_type": "code",
   "execution_count": 69,
   "metadata": {},
   "outputs": [],
   "source": [
    "# Initialize munkdf\n",
    "optimized = full.copy()\n",
    "valProjs = pd.DataFrame()\n",
    "rosterDict = {\n",
    "    'QB':['QB'], \n",
    "    'RB':['RB'],\n",
    "    'WR':['WR'],\n",
    "    'TE':['TE'],\n",
    "    'K':['PK'],\n",
    "    'DEF':['DEF'],\n",
    "    'FLEX':['RB', 'WR', 'TE'],\n",
    "    'SUPER_FLEX':['QB', 'RB', 'WR', 'TE'],\n",
    "}\n",
    "df = optimized[['player_id', 'week', 'position', 'pts_proj', 'franchise_name']]\n",
    "# Select only rostered players\n",
    "df = df.loc[df['franchise_name'].notna()]\n",
    "# Create a column for each possible roster spot\n",
    "counter = 1\n",
    "for spot in rosterList:\n",
    "    if spot != \"BN\":\n",
    "        # Select players who could have value in that role and fill their points under that column\n",
    "        df.loc[df['position'].isin(rosterDict[spot]), f'{counter}_{spot}'] = df.loc[df['position'].isin(rosterDict[spot]), 'pts_proj']\n",
    "        counter += 1\n",
    "df = df.fillna(0)\n",
    "\n",
    "# Loop through franchises and weeks\n",
    "for thisWeek in df['week'].unique():\n",
    "    for thisFranchise in df.loc[df['franchise_name'].notna()]['franchise_name'].unique():\n",
    "        munkdf = df.loc[(df['week']==thisWeek) & (df['franchise_name']==thisFranchise)].reset_index(drop=True)\n",
    "        array = munkdf.drop(columns=['player_id', 'week','position','pts_proj','franchise_name'])\n",
    "\n",
    "        matrix = array.values\n",
    "        cost_matrix = []\n",
    "        for row in matrix:\n",
    "            cost_row = []\n",
    "            for col in row:\n",
    "                # Subtract from maximum possible points to find cost matrix\n",
    "                cost_row += [array.max().max() - col]\n",
    "            cost_matrix += [cost_row]\n",
    "\n",
    "        m = Munkres()\n",
    "        indexes = m.compute(cost_matrix)\n",
    "        # print_matrix(matrix, msg='Highest profit through this matrix:')\n",
    "        # total = 0\n",
    "        # for row, column in indexes:\n",
    "        #     value = matrix[row][column]\n",
    "        #     total += value\n",
    "        #     print(f'({row}, {column}) -> {value}')\n",
    "\n",
    "        # print(f'total profit={total}')\n",
    "        # Set column for values only positive when that player would be played\n",
    "        munkdf.loc[munkdf.index.isin([x[0] for x in indexes]), 'val_proj'] = munkdf.loc[munkdf.index.isin([x[0] for x in indexes]), 'pts_proj']\n",
    "        munkdf = munkdf[['player_id', 'week','val_proj']]\n",
    "        # Append to value holder\n",
    "        valProjs = pd.concat([valProjs, munkdf], axis=0, ignore_index=True)"
   ]
  },
  {
   "cell_type": "code",
   "execution_count": 70,
   "metadata": {},
   "outputs": [
    {
     "data": {
      "text/html": [
       "<div>\n",
       "<style scoped>\n",
       "    .dataframe tbody tr th:only-of-type {\n",
       "        vertical-align: middle;\n",
       "    }\n",
       "\n",
       "    .dataframe tbody tr th {\n",
       "        vertical-align: top;\n",
       "    }\n",
       "\n",
       "    .dataframe thead th {\n",
       "        text-align: right;\n",
       "    }\n",
       "</style>\n",
       "<table border=\"1\" class=\"dataframe\">\n",
       "  <thead>\n",
       "    <tr style=\"text-align: right;\">\n",
       "      <th></th>\n",
       "      <th>player_id</th>\n",
       "      <th>full_name</th>\n",
       "      <th>birth_date</th>\n",
       "      <th>age</th>\n",
       "      <th>weight</th>\n",
       "      <th>height</th>\n",
       "      <th>team</th>\n",
       "      <th>position</th>\n",
       "      <th>fantasy_positions</th>\n",
       "      <th>depth_chart_order</th>\n",
       "      <th>...</th>\n",
       "      <th>date_prediction</th>\n",
       "      <th>pts_proj</th>\n",
       "      <th>owner_id</th>\n",
       "      <th>taxi</th>\n",
       "      <th>starters</th>\n",
       "      <th>players</th>\n",
       "      <th>user_id</th>\n",
       "      <th>franchise_name</th>\n",
       "      <th>display_name</th>\n",
       "      <th>val_proj</th>\n",
       "    </tr>\n",
       "  </thead>\n",
       "  <tbody>\n",
       "    <tr>\n",
       "      <th>0</th>\n",
       "      <td>4234</td>\n",
       "      <td>Noah Brown</td>\n",
       "      <td>1996-01-06</td>\n",
       "      <td>27.0</td>\n",
       "      <td>215.0</td>\n",
       "      <td>74</td>\n",
       "      <td>HOU</td>\n",
       "      <td>WR</td>\n",
       "      <td>['WR']</td>\n",
       "      <td>3.0</td>\n",
       "      <td>...</td>\n",
       "      <td>20231116</td>\n",
       "      <td>4.705</td>\n",
       "      <td>905172334586535936</td>\n",
       "      <td>NaN</td>\n",
       "      <td>NaN</td>\n",
       "      <td>True</td>\n",
       "      <td>905172334586535936</td>\n",
       "      <td>kevinbash</td>\n",
       "      <td>kevinbash</td>\n",
       "      <td>NaN</td>\n",
       "    </tr>\n",
       "    <tr>\n",
       "      <th>1</th>\n",
       "      <td>2251</td>\n",
       "      <td>Logan Thomas</td>\n",
       "      <td>1991-07-01</td>\n",
       "      <td>32.0</td>\n",
       "      <td>250.0</td>\n",
       "      <td>78</td>\n",
       "      <td>WAS</td>\n",
       "      <td>TE</td>\n",
       "      <td>['TE']</td>\n",
       "      <td>1.0</td>\n",
       "      <td>...</td>\n",
       "      <td>20231116</td>\n",
       "      <td>4.925</td>\n",
       "      <td>904381167934095360</td>\n",
       "      <td>NaN</td>\n",
       "      <td>True</td>\n",
       "      <td>True</td>\n",
       "      <td>904381167934095360</td>\n",
       "      <td>GusTheBus</td>\n",
       "      <td>mdwglobe</td>\n",
       "      <td>4.925</td>\n",
       "    </tr>\n",
       "    <tr>\n",
       "      <th>2</th>\n",
       "      <td>7922</td>\n",
       "      <td>Riley Patterson</td>\n",
       "      <td>1999-09-07</td>\n",
       "      <td>24.0</td>\n",
       "      <td>195.0</td>\n",
       "      <td>72</td>\n",
       "      <td>DET</td>\n",
       "      <td>PK</td>\n",
       "      <td>['K']</td>\n",
       "      <td>1.0</td>\n",
       "      <td>...</td>\n",
       "      <td>20231116</td>\n",
       "      <td>9.900</td>\n",
       "      <td>904398822170636288</td>\n",
       "      <td>NaN</td>\n",
       "      <td>True</td>\n",
       "      <td>True</td>\n",
       "      <td>904398822170636288</td>\n",
       "      <td>Saskatoon Squatches</td>\n",
       "      <td>SpacemnSpiff</td>\n",
       "      <td>9.900</td>\n",
       "    </tr>\n",
       "    <tr>\n",
       "      <th>3</th>\n",
       "      <td>6865</td>\n",
       "      <td>Colby Parkinson</td>\n",
       "      <td>1999-01-08</td>\n",
       "      <td>24.0</td>\n",
       "      <td>265.0</td>\n",
       "      <td>79</td>\n",
       "      <td>SEA</td>\n",
       "      <td>TE</td>\n",
       "      <td>['TE']</td>\n",
       "      <td>2.0</td>\n",
       "      <td>...</td>\n",
       "      <td>20231116</td>\n",
       "      <td>2.160</td>\n",
       "      <td>NaN</td>\n",
       "      <td>NaN</td>\n",
       "      <td>NaN</td>\n",
       "      <td>NaN</td>\n",
       "      <td>NaN</td>\n",
       "      <td>NaN</td>\n",
       "      <td>NaN</td>\n",
       "      <td>NaN</td>\n",
       "    </tr>\n",
       "    <tr>\n",
       "      <th>4</th>\n",
       "      <td>MIN</td>\n",
       "      <td>MIN</td>\n",
       "      <td>NaN</td>\n",
       "      <td>NaN</td>\n",
       "      <td>NaN</td>\n",
       "      <td>NaN</td>\n",
       "      <td>MIN</td>\n",
       "      <td>DEF</td>\n",
       "      <td>['DEF']</td>\n",
       "      <td>NaN</td>\n",
       "      <td>...</td>\n",
       "      <td>20231116</td>\n",
       "      <td>4.710</td>\n",
       "      <td>904399374891855872</td>\n",
       "      <td>NaN</td>\n",
       "      <td>True</td>\n",
       "      <td>True</td>\n",
       "      <td>904399374891855872</td>\n",
       "      <td>Comeback 👑’s</td>\n",
       "      <td>comebackking15</td>\n",
       "      <td>4.710</td>\n",
       "    </tr>\n",
       "    <tr>\n",
       "      <th>...</th>\n",
       "      <td>...</td>\n",
       "      <td>...</td>\n",
       "      <td>...</td>\n",
       "      <td>...</td>\n",
       "      <td>...</td>\n",
       "      <td>...</td>\n",
       "      <td>...</td>\n",
       "      <td>...</td>\n",
       "      <td>...</td>\n",
       "      <td>...</td>\n",
       "      <td>...</td>\n",
       "      <td>...</td>\n",
       "      <td>...</td>\n",
       "      <td>...</td>\n",
       "      <td>...</td>\n",
       "      <td>...</td>\n",
       "      <td>...</td>\n",
       "      <td>...</td>\n",
       "      <td>...</td>\n",
       "      <td>...</td>\n",
       "      <td>...</td>\n",
       "    </tr>\n",
       "    <tr>\n",
       "      <th>429</th>\n",
       "      <td>6783</td>\n",
       "      <td>Jerry Jeudy</td>\n",
       "      <td>1999-04-24</td>\n",
       "      <td>24.0</td>\n",
       "      <td>193.0</td>\n",
       "      <td>73</td>\n",
       "      <td>DEN</td>\n",
       "      <td>WR</td>\n",
       "      <td>['WR']</td>\n",
       "      <td>2.0</td>\n",
       "      <td>...</td>\n",
       "      <td>20231116</td>\n",
       "      <td>9.350</td>\n",
       "      <td>904398822170636288</td>\n",
       "      <td>NaN</td>\n",
       "      <td>NaN</td>\n",
       "      <td>True</td>\n",
       "      <td>904398822170636288</td>\n",
       "      <td>Saskatoon Squatches</td>\n",
       "      <td>SpacemnSpiff</td>\n",
       "      <td>NaN</td>\n",
       "    </tr>\n",
       "    <tr>\n",
       "      <th>430</th>\n",
       "      <td>5038</td>\n",
       "      <td>Michael Gallup</td>\n",
       "      <td>1996-03-04</td>\n",
       "      <td>27.0</td>\n",
       "      <td>198.0</td>\n",
       "      <td>73</td>\n",
       "      <td>DAL</td>\n",
       "      <td>WR</td>\n",
       "      <td>['WR']</td>\n",
       "      <td>3.0</td>\n",
       "      <td>...</td>\n",
       "      <td>20231116</td>\n",
       "      <td>4.428</td>\n",
       "      <td>904399374891855872</td>\n",
       "      <td>NaN</td>\n",
       "      <td>NaN</td>\n",
       "      <td>True</td>\n",
       "      <td>904399374891855872</td>\n",
       "      <td>Comeback 👑’s</td>\n",
       "      <td>comebackking15</td>\n",
       "      <td>NaN</td>\n",
       "    </tr>\n",
       "    <tr>\n",
       "      <th>431</th>\n",
       "      <td>6786</td>\n",
       "      <td>CeeDee Lamb</td>\n",
       "      <td>1999-04-08</td>\n",
       "      <td>24.0</td>\n",
       "      <td>200.0</td>\n",
       "      <td>74</td>\n",
       "      <td>DAL</td>\n",
       "      <td>WR</td>\n",
       "      <td>['WR']</td>\n",
       "      <td>1.0</td>\n",
       "      <td>...</td>\n",
       "      <td>20231116</td>\n",
       "      <td>14.660</td>\n",
       "      <td>342869377223385088</td>\n",
       "      <td>NaN</td>\n",
       "      <td>True</td>\n",
       "      <td>True</td>\n",
       "      <td>342869377223385088</td>\n",
       "      <td>*New Name Pending*</td>\n",
       "      <td>nrector</td>\n",
       "      <td>14.660</td>\n",
       "    </tr>\n",
       "    <tr>\n",
       "      <th>432</th>\n",
       "      <td>6918</td>\n",
       "      <td>Salvon Ahmed</td>\n",
       "      <td>1998-12-29</td>\n",
       "      <td>24.0</td>\n",
       "      <td>197.0</td>\n",
       "      <td>71</td>\n",
       "      <td>MIA</td>\n",
       "      <td>RB</td>\n",
       "      <td>['RB']</td>\n",
       "      <td>4.0</td>\n",
       "      <td>...</td>\n",
       "      <td>20231116</td>\n",
       "      <td>2.850</td>\n",
       "      <td>NaN</td>\n",
       "      <td>NaN</td>\n",
       "      <td>NaN</td>\n",
       "      <td>NaN</td>\n",
       "      <td>NaN</td>\n",
       "      <td>NaN</td>\n",
       "      <td>NaN</td>\n",
       "      <td>NaN</td>\n",
       "    </tr>\n",
       "    <tr>\n",
       "      <th>433</th>\n",
       "      <td>11533</td>\n",
       "      <td>Brandon Aubrey</td>\n",
       "      <td>1995-03-14</td>\n",
       "      <td>28.0</td>\n",
       "      <td>208.0</td>\n",
       "      <td>75</td>\n",
       "      <td>DAL</td>\n",
       "      <td>PK</td>\n",
       "      <td>['K']</td>\n",
       "      <td>1.0</td>\n",
       "      <td>...</td>\n",
       "      <td>20231116</td>\n",
       "      <td>9.650</td>\n",
       "      <td>905172334586535936</td>\n",
       "      <td>NaN</td>\n",
       "      <td>True</td>\n",
       "      <td>True</td>\n",
       "      <td>905172334586535936</td>\n",
       "      <td>kevinbash</td>\n",
       "      <td>kevinbash</td>\n",
       "      <td>9.650</td>\n",
       "    </tr>\n",
       "  </tbody>\n",
       "</table>\n",
       "<p>434 rows × 65 columns</p>\n",
       "</div>"
      ],
      "text/plain": [
       "    player_id        full_name  birth_date   age  weight height team position  \\\n",
       "0        4234       Noah Brown  1996-01-06  27.0   215.0     74  HOU       WR   \n",
       "1        2251     Logan Thomas  1991-07-01  32.0   250.0     78  WAS       TE   \n",
       "2        7922  Riley Patterson  1999-09-07  24.0   195.0     72  DET       PK   \n",
       "3        6865  Colby Parkinson  1999-01-08  24.0   265.0     79  SEA       TE   \n",
       "4         MIN              MIN         NaN   NaN     NaN    NaN  MIN      DEF   \n",
       "..        ...              ...         ...   ...     ...    ...  ...      ...   \n",
       "429      6783      Jerry Jeudy  1999-04-24  24.0   193.0     73  DEN       WR   \n",
       "430      5038   Michael Gallup  1996-03-04  27.0   198.0     73  DAL       WR   \n",
       "431      6786      CeeDee Lamb  1999-04-08  24.0   200.0     74  DAL       WR   \n",
       "432      6918     Salvon Ahmed  1998-12-29  24.0   197.0     71  MIA       RB   \n",
       "433     11533   Brandon Aubrey  1995-03-14  28.0   208.0     75  DAL       PK   \n",
       "\n",
       "    fantasy_positions  depth_chart_order  ... date_prediction pts_proj  \\\n",
       "0              ['WR']                3.0  ...        20231116    4.705   \n",
       "1              ['TE']                1.0  ...        20231116    4.925   \n",
       "2               ['K']                1.0  ...        20231116    9.900   \n",
       "3              ['TE']                2.0  ...        20231116    2.160   \n",
       "4             ['DEF']                NaN  ...        20231116    4.710   \n",
       "..                ...                ...  ...             ...      ...   \n",
       "429            ['WR']                2.0  ...        20231116    9.350   \n",
       "430            ['WR']                3.0  ...        20231116    4.428   \n",
       "431            ['WR']                1.0  ...        20231116   14.660   \n",
       "432            ['RB']                4.0  ...        20231116    2.850   \n",
       "433             ['K']                1.0  ...        20231116    9.650   \n",
       "\n",
       "               owner_id taxi  starters  players             user_id  \\\n",
       "0    905172334586535936  NaN       NaN     True  905172334586535936   \n",
       "1    904381167934095360  NaN      True     True  904381167934095360   \n",
       "2    904398822170636288  NaN      True     True  904398822170636288   \n",
       "3                   NaN  NaN       NaN      NaN                 NaN   \n",
       "4    904399374891855872  NaN      True     True  904399374891855872   \n",
       "..                  ...  ...       ...      ...                 ...   \n",
       "429  904398822170636288  NaN       NaN     True  904398822170636288   \n",
       "430  904399374891855872  NaN       NaN     True  904399374891855872   \n",
       "431  342869377223385088  NaN      True     True  342869377223385088   \n",
       "432                 NaN  NaN       NaN      NaN                 NaN   \n",
       "433  905172334586535936  NaN      True     True  905172334586535936   \n",
       "\n",
       "           franchise_name    display_name val_proj  \n",
       "0               kevinbash       kevinbash      NaN  \n",
       "1               GusTheBus        mdwglobe    4.925  \n",
       "2    Saskatoon Squatches     SpacemnSpiff    9.900  \n",
       "3                     NaN             NaN      NaN  \n",
       "4            Comeback 👑’s  comebackking15    4.710  \n",
       "..                    ...             ...      ...  \n",
       "429  Saskatoon Squatches     SpacemnSpiff      NaN  \n",
       "430          Comeback 👑’s  comebackking15      NaN  \n",
       "431    *New Name Pending*         nrector   14.660  \n",
       "432                   NaN             NaN      NaN  \n",
       "433             kevinbash       kevinbash    9.650  \n",
       "\n",
       "[434 rows x 65 columns]"
      ]
     },
     "execution_count": 70,
     "metadata": {},
     "output_type": "execute_result"
    }
   ],
   "source": [
    "optimized = optimized.merge(valProjs, how='left', on=['player_id', 'week'])\n",
    "optimized"
   ]
  },
  {
   "cell_type": "code",
   "execution_count": 71,
   "metadata": {},
   "outputs": [
    {
     "data": {
      "text/plain": [
       "franchise_name\n",
       "Saskatoon Squatches         180.8598\n",
       "Croccity Body Snatchers     172.5338\n",
       "kevinbash                   164.9573\n",
       "Verdanks Vacqueros FFC      156.7380\n",
       "Pretty Big Wieners          152.8012\n",
       "Comeback 👑’s                151.1720\n",
       "DangeRUSS Last Ride         148.6456\n",
       "📜 Providence 🪬 Spirits 🥂    148.1406\n",
       "2014champ                   141.1769\n",
       "GusTheBus                   129.9763\n",
       "*New Name Pending*          127.6729\n",
       "Idk much about soccer       117.0070\n",
       "Name: val_proj, dtype: float64"
      ]
     },
     "execution_count": 71,
     "metadata": {},
     "output_type": "execute_result"
    }
   ],
   "source": [
    "optimized.groupby('franchise_name')['val_proj'].sum().sort_values(ascending=False)"
   ]
  },
  {
   "cell_type": "code",
   "execution_count": 72,
   "metadata": {},
   "outputs": [],
   "source": [
    "def getSeasonTotals(df):\n",
    "    # Sum up pts_proj and val_proj\n",
    "    totals_proj = df.groupby('player_id')['pts_proj'].sum().reset_index()\n",
    "    totals_rel = df.groupby('player_id')['val_proj'].sum().reset_index()\n",
    "    # Merge in totals with player metadata\n",
    "    unis = df.drop_duplicates(subset='player_id', ignore_index=True).drop(columns=['pts_proj', 'val_proj'])\n",
    "    df = unis.merge(totals_proj, how='left', on='player_id').merge(totals_rel, how='left', on='player_id')\n",
    "    return df"
   ]
  },
  {
   "cell_type": "code",
   "execution_count": 73,
   "metadata": {},
   "outputs": [],
   "source": [
    "def compareFranchises(df, how):\n",
    "    '''\n",
    "    df: dataframe;\n",
    "    how: 'relative' uses relative point values, 'absolute' uses actual point projections\n",
    "    '''\n",
    "    if how=='relative':\n",
    "        main_stat = 'val_proj'\n",
    "        second_stat = 'pts_proj'\n",
    "    elif how=='absolute':\n",
    "        main_stat = 'pts_proj'\n",
    "        second_stat = 'val_proj'        \n",
    "    dfs = df.groupby('franchise_name').sum().round(0)\n",
    "    fig = px.bar(df, \n",
    "                x=\"franchise_name\", \n",
    "                y=main_stat, \n",
    "                color=\"position\", \n",
    "                text='full_name', \n",
    "                color_discrete_map={\n",
    "                    # \"QB\": \"hsla(210, 60%, 25%, 1)\", \n",
    "                    # \"RB\": \"hsla(12, 50%, 45%, 1)\", \n",
    "                    # \"WR\": \"hsla(267, 40%, 45%, 1)\", \n",
    "                    # \"TE\": \"hsla(177, 68%, 36%, 1)\", \n",
    "                    # \"PK\": \"hsla(14, 30%, 40%, 1)\", \n",
    "                    # \"DEF\": \"hsla(35, 70%, 65%, 1)\"}, \n",
    "                    \"QB\": \"#591D73\", #\n",
    "                    \"RB\": \"#233257\", \n",
    "                    \"WR\": \"#4068B8\", \n",
    "                    \"TE\": \"#AEDFF2\", #529AD9\n",
    "                    \"PK\": \"#B3BF54\", \n",
    "                    \"DEF\": \"#667825\"}, \n",
    "                category_orders={\n",
    "                    \"pos\": [\"QB\", \"RB\", \"WR\", \"TE\", \"PK\", \"DEF\"]},\n",
    "                hover_name=\"full_name\",\n",
    "                hover_data={\n",
    "                    main_stat:True, second_stat:True,\n",
    "                    'full_name':False, 'position':False, 'franchise_name':False\n",
    "                    },\n",
    "                labels={\n",
    "                    \"franchise_name\":\"Franchise\",\n",
    "                    \"val_proj\":\"Relative Value\",\n",
    "                    'pts_proj':\"Predicted Points\",\n",
    "                }\n",
    "                )\n",
    "    fig.update_traces(\n",
    "        textposition='inside',\n",
    "    )\n",
    "    fig.update_yaxes(\n",
    "        visible=False\n",
    "    )\n",
    "    fig.add_trace(go.Scatter(\n",
    "                x=dfs.index, \n",
    "                y=dfs[main_stat],\n",
    "                text=dfs[main_stat],\n",
    "                mode='text',\n",
    "                textposition='top center',\n",
    "                textfont=dict(\n",
    "                    size=12,\n",
    "                ),\n",
    "                showlegend=False\n",
    "            ))\n",
    "    fig.update_layout(\n",
    "                barmode='stack', \n",
    "                #xaxis={'categoryorder':'sum ascending'},\n",
    "                plot_bgcolor='rgba(0,0,0,0)',\n",
    "                title=\"Franchise Comparison\",\n",
    "                font_family=\"Input Serif\",\n",
    "                #font_family=\"Skia\",\n",
    "                showlegend=False,\n",
    "                xaxis_title=None\n",
    "                )\n",
    "    # fig.update_xaxes(\n",
    "    #     categoryorder='sum ascending'\n",
    "    # )\n",
    "    return fig"
   ]
  },
  {
   "cell_type": "code",
   "execution_count": 74,
   "metadata": {},
   "outputs": [
    {
     "data": {
      "application/vnd.plotly.v1+json": {
       "config": {
        "plotlyServerURL": "https://plot.ly"
       },
       "data": [
        {
         "alignmentgroup": "True",
         "customdata": [
          [
           4.705,
           "Noah Brown",
           "WR"
          ],
          [
           3.825,
           "Nelson Agholor",
           "WR"
          ],
          [
           2.8350000000000004,
           "Laviska Shenault",
           "WR"
          ],
          [
           11.004,
           "DK Metcalf",
           "WR"
          ],
          [
           10.5,
           "Jordan Addison",
           "WR"
          ],
          [
           3.42,
           "Justin Watson",
           "WR"
          ],
          [
           0.7290000000000001,
           "Rakim Jarrett",
           "WR"
          ],
          [
           1.135,
           "Zach Pascal",
           "WR"
          ],
          [
           2.984,
           "Parris Campbell",
           "WR"
          ],
          [
           3.145,
           "Marquez Valdes-Scantling",
           "WR"
          ],
          [
           9.535,
           "DeAndre Hopkins",
           "WR"
          ],
          [
           5.805000000000001,
           "Darius Slayton",
           "WR"
          ],
          [
           2.83,
           "Greg Dortch",
           "WR"
          ],
          [
           3.5300000000000002,
           "Cedrick Wilson",
           "WR"
          ],
          [
           3.4190000000000005,
           "Sterling Shepard",
           "WR"
          ],
          [
           4.550000000000001,
           "Trey Palmer",
           "WR"
          ],
          [
           8.65,
           "Courtland Sutton",
           "WR"
          ],
          [
           4.275,
           "Skyy Moore",
           "WR"
          ],
          [
           1.4200000000000002,
           "Samori Toure",
           "WR"
          ],
          [
           4.415,
           "Wan'Dale Robinson",
           "WR"
          ],
          [
           8.95,
           "Zay Flowers",
           "WR"
          ],
          [
           13.045,
           "Brandon Aiyuk",
           "WR"
          ],
          [
           0.55,
           "Erik Ezukanma",
           "WR"
          ],
          [
           6.71,
           "Quentin Johnston",
           "WR"
          ],
          [
           0.9750000000000001,
           "Michael Woods",
           "WR"
          ],
          [
           13.63,
           "Justin Jefferson",
           "WR"
          ],
          [
           0.4,
           "Tylan Wallace",
           "WR"
          ],
          [
           1.242,
           "Trent Sherfield",
           "WR"
          ],
          [
           7.000000000000001,
           "DJ Chark",
           "WR"
          ],
          [
           0.1225,
           "Dareke Young",
           "WR"
          ],
          [
           9.139999999999999,
           "Romeo Doubs",
           "WR"
          ],
          [
           10.325,
           "Christian Kirk",
           "WR"
          ],
          [
           9.725000000000001,
           "Terry McLaurin",
           "WR"
          ],
          [
           1.54,
           "River Cracraft",
           "WR"
          ],
          [
           4.575,
           "Rashod Bateman",
           "WR"
          ],
          [
           0.88,
           "Dax Milne",
           "WR"
          ],
          [
           2.225,
           "Donovan Peoples-Jones",
           "WR"
          ],
          [
           2.585,
           "Ben Skowronek",
           "WR"
          ],
          [
           14.774,
           "Stefon Diggs",
           "WR"
          ],
          [
           8.587,
           "Gabe Davis",
           "WR"
          ],
          [
           0.35000000000000003,
           "Malik Heath",
           "WR"
          ],
          [
           1.68,
           "Byron Pringle",
           "WR"
          ],
          [
           6.82,
           "Zay Jones",
           "WR"
          ],
          [
           14.145,
           "Amon-Ra St. Brown",
           "WR"
          ],
          [
           4.325,
           "Odell Beckham",
           "WR"
          ],
          [
           5.953,
           "Robert Woods",
           "WR"
          ],
          [
           4.0200000000000005,
           "Terrace Marshall",
           "WR"
          ],
          [
           13.69,
           "Keenan Allen",
           "WR"
          ],
          [
           5.500000000000001,
           "Darnell Mooney",
           "WR"
          ],
          [
           4.015000000000001,
           "Derius Davis",
           "WR"
          ],
          [
           13.444999999999999,
           "Cooper Kupp",
           "WR"
          ],
          [
           2.497,
           "Trenton Irwin",
           "WR"
          ],
          [
           9.275,
           "Marquise Brown",
           "WR"
          ],
          [
           2.545,
           "Allen Robinson",
           "WR"
          ],
          [
           1.26,
           "David Bell",
           "WR"
          ],
          [
           10.842000000000002,
           "DeVonta Smith",
           "WR"
          ],
          [
           1.46,
           "Deonte Harty",
           "WR"
          ],
          [
           2.06,
           "Equanimeous St. Brown",
           "WR"
          ],
          [
           2.74,
           "Hunter Renfrow",
           "WR"
          ],
          [
           4.2940000000000005,
           "Marvin Mims",
           "WR"
          ],
          [
           9.855,
           "Rashee Rice",
           "WR"
          ],
          [
           10.31,
           "Tyler Lockett",
           "WR"
          ],
          [
           4.430000000000001,
           "KaVontae Turpin",
           "WR"
          ],
          [
           2.475,
           "Brandon Powell",
           "WR"
          ],
          [
           11.31,
           "Adam Thielen",
           "WR"
          ],
          [
           11.65,
           "DJ Moore",
           "WR"
          ],
          [
           2.645,
           "Mecole Hardman",
           "WR"
          ],
          [
           2.7,
           "Jonathan Mingo",
           "WR"
          ],
          [
           7.075000000000001,
           "Isaiah Hodgins",
           "WR"
          ],
          [
           2.35,
           "Olamide Zaccheaus",
           "WR"
          ],
          [
           1.42,
           "Chase Claypool",
           "WR"
          ],
          [
           11.850000000000001,
           "Amari Cooper",
           "WR"
          ],
          [
           8.385000000000002,
           "Diontae Johnson",
           "WR"
          ],
          [
           15.15,
           "A.J. Brown",
           "WR"
          ],
          [
           6.62,
           "Josh Reynolds",
           "WR"
          ],
          [
           8.025,
           "Calvin Ridley",
           "WR"
          ],
          [
           2.9850000000000003,
           "DeAndre Carter",
           "WR"
          ],
          [
           3.1350000000000002,
           "Devin Duvernay",
           "WR"
          ],
          [
           0.45,
           "Irvin Charles",
           "WR"
          ],
          [
           2.162,
           "Jalen Guyton",
           "WR"
          ],
          [
           4.71,
           "Deven Thompkins",
           "WR"
          ],
          [
           4.4799999999999995,
           "Velus Jones",
           "WR"
          ],
          [
           5.925,
           "Tutu Atwell",
           "WR"
          ],
          [
           12.88,
           "Mike Evans",
           "WR"
          ],
          [
           2.83,
           "Tim Jones",
           "WR"
          ],
          [
           16.61,
           "Tyreek Hill",
           "WR"
          ],
          [
           8.76,
           "Garrett Wilson",
           "WR"
          ],
          [
           4.995,
           "Elijah Moore",
           "WR"
          ],
          [
           4.015000000000001,
           "Treylon Burks",
           "WR"
          ],
          [
           9.004999999999999,
           "George Pickens",
           "WR"
          ],
          [
           10.876999999999999,
           "Nico Collins",
           "WR"
          ],
          [
           10.39,
           "Jakobi Meyers",
           "WR"
          ],
          [
           9.559999999999999,
           "Christian Watson",
           "WR"
          ],
          [
           1.8800000000000001,
           "Randall Cobb",
           "WR"
          ],
          [
           11.73,
           "Deebo Samuel",
           "WR"
          ],
          [
           12.522,
           "Davante Adams",
           "WR"
          ],
          [
           1.8850000000000002,
           "Marquise Goodwin",
           "WR"
          ],
          [
           2.9590000000000005,
           "Dontayvion Wicks",
           "WR"
          ],
          [
           2.705,
           "Jalen Tolbert",
           "WR"
          ],
          [
           3.7250000000000005,
           "Dyami Brown",
           "WR"
          ],
          [
           1.7750000000000001,
           "Calvin Austin",
           "WR"
          ],
          [
           14.301,
           "Ja'Marr Chase",
           "WR"
          ],
          [
           2.155,
           "Demarcus Robinson",
           "WR"
          ],
          [
           7.364999999999999,
           "Curtis Samuel",
           "WR"
          ],
          [
           4.971,
           "Allen Lazard",
           "WR"
          ],
          [
           5.602,
           "K.J. Osborn",
           "WR"
          ],
          [
           1.5150000000000001,
           "Richie James",
           "WR"
          ],
          [
           10.965,
           "Chris Godwin",
           "WR"
          ],
          [
           3.705,
           "Kalif Raymond",
           "WR"
          ],
          [
           5,
           "Nick Westbrook-Ikhine",
           "WR"
          ],
          [
           1.3250000000000002,
           "John Metchie",
           "WR"
          ],
          [
           4.3,
           "Braxton Berrios",
           "WR"
          ],
          [
           7.425000000000001,
           "Tyler Boyd",
           "WR"
          ],
          [
           5.8500000000000005,
           "Michael Wilson",
           "WR"
          ],
          [
           5.215000000000001,
           "Rondale Moore",
           "WR"
          ],
          [
           6.755000000000001,
           "Brandin Cooks",
           "WR"
          ],
          [
           12.54,
           "Jaylen Waddle",
           "WR"
          ],
          [
           6.6000000000000005,
           "Jaxon Smith-Njigba",
           "WR"
          ],
          [
           2.944,
           "Chris Moore",
           "WR"
          ],
          [
           1.2349999999999999,
           "Quez Watkins",
           "WR"
          ],
          [
           5.03,
           "Kadarius Toney",
           "WR"
          ],
          [
           7.109999999999999,
           "Jayden Reed",
           "WR"
          ],
          [
           4.495000000000001,
           "Charlie Jones",
           "WR"
          ],
          [
           3.3850000000000002,
           "Jauan Jennings",
           "WR"
          ],
          [
           8.175,
           "Jahan Dotson",
           "WR"
          ],
          [
           5.95,
           "Khalil Shakir",
           "WR"
          ],
          [
           0.42500000000000004,
           "Miles Boykin",
           "WR"
          ],
          [
           9.35,
           "Jerry Jeudy",
           "WR"
          ],
          [
           4.428,
           "Michael Gallup",
           "WR"
          ],
          [
           14.66,
           "CeeDee Lamb",
           "WR"
          ]
         ],
         "hovertemplate": "<b>%{hovertext}</b><br><br>Relative Value=%{y}<br>Predicted Points=%{customdata[0]}<extra></extra>",
         "hovertext": [
          "Noah Brown",
          "Nelson Agholor",
          "Laviska Shenault",
          "DK Metcalf",
          "Jordan Addison",
          "Justin Watson",
          "Rakim Jarrett",
          "Zach Pascal",
          "Parris Campbell",
          "Marquez Valdes-Scantling",
          "DeAndre Hopkins",
          "Darius Slayton",
          "Greg Dortch",
          "Cedrick Wilson",
          "Sterling Shepard",
          "Trey Palmer",
          "Courtland Sutton",
          "Skyy Moore",
          "Samori Toure",
          "Wan'Dale Robinson",
          "Zay Flowers",
          "Brandon Aiyuk",
          "Erik Ezukanma",
          "Quentin Johnston",
          "Michael Woods",
          "Justin Jefferson",
          "Tylan Wallace",
          "Trent Sherfield",
          "DJ Chark",
          "Dareke Young",
          "Romeo Doubs",
          "Christian Kirk",
          "Terry McLaurin",
          "River Cracraft",
          "Rashod Bateman",
          "Dax Milne",
          "Donovan Peoples-Jones",
          "Ben Skowronek",
          "Stefon Diggs",
          "Gabe Davis",
          "Malik Heath",
          "Byron Pringle",
          "Zay Jones",
          "Amon-Ra St. Brown",
          "Odell Beckham",
          "Robert Woods",
          "Terrace Marshall",
          "Keenan Allen",
          "Darnell Mooney",
          "Derius Davis",
          "Cooper Kupp",
          "Trenton Irwin",
          "Marquise Brown",
          "Allen Robinson",
          "David Bell",
          "DeVonta Smith",
          "Deonte Harty",
          "Equanimeous St. Brown",
          "Hunter Renfrow",
          "Marvin Mims",
          "Rashee Rice",
          "Tyler Lockett",
          "KaVontae Turpin",
          "Brandon Powell",
          "Adam Thielen",
          "DJ Moore",
          "Mecole Hardman",
          "Jonathan Mingo",
          "Isaiah Hodgins",
          "Olamide Zaccheaus",
          "Chase Claypool",
          "Amari Cooper",
          "Diontae Johnson",
          "A.J. Brown",
          "Josh Reynolds",
          "Calvin Ridley",
          "DeAndre Carter",
          "Devin Duvernay",
          "Irvin Charles",
          "Jalen Guyton",
          "Deven Thompkins",
          "Velus Jones",
          "Tutu Atwell",
          "Mike Evans",
          "Tim Jones",
          "Tyreek Hill",
          "Garrett Wilson",
          "Elijah Moore",
          "Treylon Burks",
          "George Pickens",
          "Nico Collins",
          "Jakobi Meyers",
          "Christian Watson",
          "Randall Cobb",
          "Deebo Samuel",
          "Davante Adams",
          "Marquise Goodwin",
          "Dontayvion Wicks",
          "Jalen Tolbert",
          "Dyami Brown",
          "Calvin Austin",
          "Ja'Marr Chase",
          "Demarcus Robinson",
          "Curtis Samuel",
          "Allen Lazard",
          "K.J. Osborn",
          "Richie James",
          "Chris Godwin",
          "Kalif Raymond",
          "Nick Westbrook-Ikhine",
          "John Metchie",
          "Braxton Berrios",
          "Tyler Boyd",
          "Michael Wilson",
          "Rondale Moore",
          "Brandin Cooks",
          "Jaylen Waddle",
          "Jaxon Smith-Njigba",
          "Chris Moore",
          "Quez Watkins",
          "Kadarius Toney",
          "Jayden Reed",
          "Charlie Jones",
          "Jauan Jennings",
          "Jahan Dotson",
          "Khalil Shakir",
          "Miles Boykin",
          "Jerry Jeudy",
          "Michael Gallup",
          "CeeDee Lamb"
         ],
         "legendgroup": "WR",
         "marker": {
          "color": "#4068B8",
          "pattern": {
           "shape": ""
          }
         },
         "name": "WR",
         "offsetgroup": "WR",
         "orientation": "v",
         "showlegend": true,
         "text": [
          "Noah Brown",
          "Nelson Agholor",
          "Laviska Shenault",
          "DK Metcalf",
          "Jordan Addison",
          "Justin Watson",
          "Rakim Jarrett",
          "Zach Pascal",
          "Parris Campbell",
          "Marquez Valdes-Scantling",
          "DeAndre Hopkins",
          "Darius Slayton",
          "Greg Dortch",
          "Cedrick Wilson",
          "Sterling Shepard",
          "Trey Palmer",
          "Courtland Sutton",
          "Skyy Moore",
          "Samori Toure",
          "Wan'Dale Robinson",
          "Zay Flowers",
          "Brandon Aiyuk",
          "Erik Ezukanma",
          "Quentin Johnston",
          "Michael Woods",
          "Justin Jefferson",
          "Tylan Wallace",
          "Trent Sherfield",
          "DJ Chark",
          "Dareke Young",
          "Romeo Doubs",
          "Christian Kirk",
          "Terry McLaurin",
          "River Cracraft",
          "Rashod Bateman",
          "Dax Milne",
          "Donovan Peoples-Jones",
          "Ben Skowronek",
          "Stefon Diggs",
          "Gabe Davis",
          "Malik Heath",
          "Byron Pringle",
          "Zay Jones",
          "Amon-Ra St. Brown",
          "Odell Beckham",
          "Robert Woods",
          "Terrace Marshall",
          "Keenan Allen",
          "Darnell Mooney",
          "Derius Davis",
          "Cooper Kupp",
          "Trenton Irwin",
          "Marquise Brown",
          "Allen Robinson",
          "David Bell",
          "DeVonta Smith",
          "Deonte Harty",
          "Equanimeous St. Brown",
          "Hunter Renfrow",
          "Marvin Mims",
          "Rashee Rice",
          "Tyler Lockett",
          "KaVontae Turpin",
          "Brandon Powell",
          "Adam Thielen",
          "DJ Moore",
          "Mecole Hardman",
          "Jonathan Mingo",
          "Isaiah Hodgins",
          "Olamide Zaccheaus",
          "Chase Claypool",
          "Amari Cooper",
          "Diontae Johnson",
          "A.J. Brown",
          "Josh Reynolds",
          "Calvin Ridley",
          "DeAndre Carter",
          "Devin Duvernay",
          "Irvin Charles",
          "Jalen Guyton",
          "Deven Thompkins",
          "Velus Jones",
          "Tutu Atwell",
          "Mike Evans",
          "Tim Jones",
          "Tyreek Hill",
          "Garrett Wilson",
          "Elijah Moore",
          "Treylon Burks",
          "George Pickens",
          "Nico Collins",
          "Jakobi Meyers",
          "Christian Watson",
          "Randall Cobb",
          "Deebo Samuel",
          "Davante Adams",
          "Marquise Goodwin",
          "Dontayvion Wicks",
          "Jalen Tolbert",
          "Dyami Brown",
          "Calvin Austin",
          "Ja'Marr Chase",
          "Demarcus Robinson",
          "Curtis Samuel",
          "Allen Lazard",
          "K.J. Osborn",
          "Richie James",
          "Chris Godwin",
          "Kalif Raymond",
          "Nick Westbrook-Ikhine",
          "John Metchie",
          "Braxton Berrios",
          "Tyler Boyd",
          "Michael Wilson",
          "Rondale Moore",
          "Brandin Cooks",
          "Jaylen Waddle",
          "Jaxon Smith-Njigba",
          "Chris Moore",
          "Quez Watkins",
          "Kadarius Toney",
          "Jayden Reed",
          "Charlie Jones",
          "Jauan Jennings",
          "Jahan Dotson",
          "Khalil Shakir",
          "Miles Boykin",
          "Jerry Jeudy",
          "Michael Gallup",
          "CeeDee Lamb"
         ],
         "textposition": "inside",
         "type": "bar",
         "x": [
          "kevinbash",
          null,
          null,
          "2014champ",
          "DangeRUSS Last Ride",
          null,
          null,
          null,
          null,
          null,
          "Verdanks Vacqueros FFC",
          null,
          null,
          null,
          null,
          "Saskatoon Squatches ",
          "*New Name Pending*",
          "kevinbash",
          null,
          null,
          "*New Name Pending*",
          "kevinbash",
          null,
          "2014champ",
          null,
          "Pretty Big Wieners",
          null,
          null,
          "DangeRUSS Last Ride",
          null,
          "📜 Providence 🪬 Spirits 🥂",
          "GusTheBus",
          "kevinbash",
          null,
          null,
          null,
          "Pretty Big Wieners",
          null,
          "Comeback 👑’s",
          "2014champ",
          null,
          null,
          "2014champ",
          "kevinbash",
          "Idk much about soccer ",
          "Pretty Big Wieners",
          null,
          "Pretty Big Wieners",
          "DangeRUSS Last Ride",
          null,
          "2014champ",
          "2014champ",
          "Croccity Body Snatchers",
          null,
          null,
          "*New Name Pending*",
          null,
          null,
          null,
          "GusTheBus",
          "Croccity Body Snatchers",
          "Croccity Body Snatchers",
          null,
          null,
          "Idk much about soccer ",
          "Idk much about soccer ",
          "Idk much about soccer ",
          "📜 Providence 🪬 Spirits 🥂",
          null,
          null,
          null,
          "Verdanks Vacqueros FFC",
          "Idk much about soccer ",
          "Pretty Big Wieners",
          "Comeback 👑’s",
          "2014champ",
          null,
          null,
          null,
          null,
          null,
          null,
          "Comeback 👑’s",
          "kevinbash",
          null,
          "Saskatoon Squatches ",
          "📜 Providence 🪬 Spirits 🥂",
          "Saskatoon Squatches ",
          "*New Name Pending*",
          "DangeRUSS Last Ride",
          "📜 Providence 🪬 Spirits 🥂",
          "Saskatoon Squatches ",
          "*New Name Pending*",
          null,
          "2014champ",
          "Verdanks Vacqueros FFC",
          null,
          null,
          null,
          null,
          "Verdanks Vacqueros FFC",
          "Saskatoon Squatches ",
          null,
          "DangeRUSS Last Ride",
          "Croccity Body Snatchers",
          "Croccity Body Snatchers",
          null,
          "Croccity Body Snatchers",
          "kevinbash",
          null,
          "Comeback 👑’s",
          null,
          "Idk much about soccer ",
          "Verdanks Vacqueros FFC",
          "*New Name Pending*",
          "Comeback 👑’s",
          "GusTheBus",
          "Verdanks Vacqueros FFC",
          null,
          null,
          "Pretty Big Wieners",
          "kevinbash",
          "GusTheBus",
          null,
          "📜 Providence 🪬 Spirits 🥂",
          "Pretty Big Wieners",
          null,
          "Saskatoon Squatches ",
          "Comeback 👑’s",
          "*New Name Pending*"
         ],
         "xaxis": "x",
         "y": [
          0,
          0,
          0,
          11.004,
          10.5,
          0,
          0,
          0,
          0,
          0,
          9.535,
          0,
          0,
          0,
          0,
          0,
          8.65,
          0,
          0,
          0,
          8.95,
          13.045,
          0,
          0,
          0,
          13.63,
          0,
          0,
          7.000000000000001,
          0,
          9.139999999999999,
          10.325,
          9.725000000000001,
          0,
          0,
          0,
          0,
          0,
          14.774,
          8.587,
          0,
          0,
          6.82,
          14.145,
          4.325,
          0,
          0,
          13.69,
          0,
          0,
          13.444999999999999,
          0,
          0,
          0,
          0,
          10.842000000000002,
          0,
          0,
          0,
          0,
          9.855,
          10.31,
          0,
          0,
          11.31,
          11.65,
          0,
          0,
          0,
          0,
          0,
          11.850000000000001,
          8.385000000000002,
          15.15,
          6.62,
          8.025,
          0,
          0,
          0,
          0,
          0,
          0,
          0,
          12.88,
          0,
          16.61,
          8.76,
          0,
          0,
          9.004999999999999,
          10.876999999999999,
          10.39,
          9.559999999999999,
          0,
          11.73,
          12.522,
          0,
          0,
          0,
          0,
          0,
          14.301,
          0,
          7.364999999999999,
          0,
          0,
          0,
          10.965,
          0,
          0,
          0,
          0,
          7.425000000000001,
          0,
          0,
          6.755000000000001,
          12.54,
          6.6000000000000005,
          0,
          0,
          0,
          7.109999999999999,
          4.495000000000001,
          0,
          8.175,
          0,
          0,
          0,
          0,
          14.66
         ],
         "yaxis": "y"
        },
        {
         "alignmentgroup": "True",
         "customdata": [
          [
           4.925000000000001,
           "Logan Thomas",
           "TE"
          ],
          [
           2.16,
           "Colby Parkinson",
           "TE"
          ],
          [
           1.8679999999999999,
           "John Bates",
           "TE"
          ],
          [
           6.477,
           "David Njoku",
           "TE"
          ],
          [
           2.0620000000000003,
           "Trevon Wesco",
           "TE"
          ],
          [
           7.900000000000001,
           "Dalton Schultz",
           "TE"
          ],
          [
           2.1500000000000004,
           "C.J. Uzomah",
           "TE"
          ],
          [
           2.7,
           "Irv Smith",
           "TE"
          ],
          [
           1.5750000000000002,
           "Geoff Swaim",
           "TE"
          ],
          [
           1.5600000000000003,
           "Johnny Mundt",
           "TE"
          ],
          [
           4.7250000000000005,
           "Chigoziem Okonkwo",
           "TE"
          ],
          [
           0.20700000000000002,
           "Blake Bell",
           "TE"
          ],
          [
           12.020000000000001,
           "Travis Kelce",
           "TE"
          ],
          [
           0.88,
           "Luke Schoonmaker",
           "TE"
          ],
          [
           4.432,
           "Michael Mayer",
           "TE"
          ],
          [
           4.25,
           "Gerald Everett",
           "TE"
          ],
          [
           0.625,
           "Charlie Kolar",
           "TE"
          ],
          [
           1.5150000000000001,
           "Harrison Bryant",
           "TE"
          ],
          [
           1.225,
           "Josiah Deguara",
           "TE"
          ],
          [
           3.145,
           "Will Dissly",
           "TE"
          ],
          [
           1.5100000000000002,
           "Mitchell Wilcox",
           "TE"
          ],
          [
           0.125,
           "David Wells",
           "TE"
          ],
          [
           2.9430000000000005,
           "Durham Smythe",
           "TE"
          ],
          [
           2.25,
           "Austin Hooper",
           "TE"
          ],
          [
           2.475,
           "Donald Parham",
           "TE"
          ],
          [
           10.725000000000001,
           "Mark Andrews",
           "TE"
          ],
          [
           4.5,
           "Noah Fant",
           "TE"
          ],
          [
           0.45000000000000007,
           "Josh Whyle",
           "TE"
          ],
          [
           3.4000000000000004,
           "Pat Freiermuth",
           "TE"
          ],
          [
           1.5600000000000003,
           "Ian Thomas",
           "TE"
          ],
          [
           0.675,
           "Charlie Woerner",
           "TE"
          ],
          [
           0.0075,
           "Ross Dwelley",
           "TE"
          ],
          [
           0.30000000000000004,
           "Stone Smartt",
           "TE"
          ],
          [
           1.415,
           "Drew Sample",
           "TE"
          ],
          [
           0.8,
           "Marcedes Lewis",
           "TE"
          ],
          [
           7.300000000000001,
           "Cole Kmet",
           "TE"
          ],
          [
           1.27,
           "Jordan Akins",
           "TE"
          ],
          [
           5.375000000000001,
           "Luke Musgrave",
           "TE"
          ],
          [
           5.8500000000000005,
           "Dalton Kincaid",
           "TE"
          ],
          [
           1.9200000000000002,
           "Connor Heyward",
           "TE"
          ],
          [
           3.075,
           "Brock Wright",
           "TE"
          ],
          [
           0.23249999999999998,
           "Albert Okwuegbunam",
           "TE"
          ],
          [
           9.71,
           "George Kittle",
           "TE"
          ],
          [
           2.065,
           "Brevin Jordan",
           "TE"
          ],
          [
           0.675,
           "Julian Hill",
           "TE"
          ],
          [
           2.45,
           "Adam Trautman",
           "TE"
          ],
          [
           3.053,
           "Hayden Hurst",
           "TE"
          ],
          [
           4.847,
           "Tyler Conklin",
           "TE"
          ],
          [
           1.3,
           "Robert Tonyan",
           "TE"
          ],
          [
           0.65,
           "Chris Manhertz",
           "TE"
          ],
          [
           5.125000000000001,
           "Evan Engram",
           "TE"
          ],
          [
           1.9649999999999999,
           "Quintin Morris",
           "TE"
          ],
          [
           6.875000000000001,
           "Trey McBride",
           "TE"
          ],
          [
           1.73,
           "James Mitchell",
           "TE"
          ],
          [
           0.925,
           "Darnell Washington",
           "TE"
          ],
          [
           5.5600000000000005,
           "Jack Stoll",
           "TE"
          ],
          [
           1.175,
           "Brycen Hopkins",
           "TE"
          ],
          [
           0.5,
           "Hunter Long",
           "TE"
          ],
          [
           1.189,
           "Peyton Hendershot",
           "TE"
          ],
          [
           4.926,
           "Daniel Bellinger",
           "TE"
          ],
          [
           0.65,
           "Tucker Kraft",
           "TE"
          ],
          [
           3.8750000000000004,
           "Tommy Tremble",
           "TE"
          ],
          [
           2.1,
           "Josh Oliver",
           "TE"
          ],
          [
           4.736,
           "Tyler Higbee",
           "TE"
          ],
          [
           0.7750000000000001,
           "Jeremy Ruckert",
           "TE"
          ],
          [
           0.42500000000000004,
           "Brenton Strange",
           "TE"
          ],
          [
           8.75,
           "Sam LaPorta",
           "TE"
          ],
          [
           0.8500000000000001,
           "Grant Calcaterra",
           "TE"
          ],
          [
           3.105,
           "Isaiah Likely",
           "TE"
          ],
          [
           1.3250000000000002,
           "Luke Farrell",
           "TE"
          ],
          [
           6.655000000000001,
           "Jake Ferguson",
           "TE"
          ],
          [
           9.86,
           "T.J. Hockenson",
           "TE"
          ],
          [
           0.9550000000000001,
           "Ko Kieft",
           "TE"
          ],
          [
           4.265000000000001,
           "Cade Otton",
           "TE"
          ],
          [
           2.688,
           "Noah Gray",
           "TE"
          ]
         ],
         "hovertemplate": "<b>%{hovertext}</b><br><br>Relative Value=%{y}<br>Predicted Points=%{customdata[0]}<extra></extra>",
         "hovertext": [
          "Logan Thomas",
          "Colby Parkinson",
          "John Bates",
          "David Njoku",
          "Trevon Wesco",
          "Dalton Schultz",
          "C.J. Uzomah",
          "Irv Smith",
          "Geoff Swaim",
          "Johnny Mundt",
          "Chigoziem Okonkwo",
          "Blake Bell",
          "Travis Kelce",
          "Luke Schoonmaker",
          "Michael Mayer",
          "Gerald Everett",
          "Charlie Kolar",
          "Harrison Bryant",
          "Josiah Deguara",
          "Will Dissly",
          "Mitchell Wilcox",
          "David Wells",
          "Durham Smythe",
          "Austin Hooper",
          "Donald Parham",
          "Mark Andrews",
          "Noah Fant",
          "Josh Whyle",
          "Pat Freiermuth",
          "Ian Thomas",
          "Charlie Woerner",
          "Ross Dwelley",
          "Stone Smartt",
          "Drew Sample",
          "Marcedes Lewis",
          "Cole Kmet",
          "Jordan Akins",
          "Luke Musgrave",
          "Dalton Kincaid",
          "Connor Heyward",
          "Brock Wright",
          "Albert Okwuegbunam",
          "George Kittle",
          "Brevin Jordan",
          "Julian Hill",
          "Adam Trautman",
          "Hayden Hurst",
          "Tyler Conklin",
          "Robert Tonyan",
          "Chris Manhertz",
          "Evan Engram",
          "Quintin Morris",
          "Trey McBride",
          "James Mitchell",
          "Darnell Washington",
          "Jack Stoll",
          "Brycen Hopkins",
          "Hunter Long",
          "Peyton Hendershot",
          "Daniel Bellinger",
          "Tucker Kraft",
          "Tommy Tremble",
          "Josh Oliver",
          "Tyler Higbee",
          "Jeremy Ruckert",
          "Brenton Strange",
          "Sam LaPorta",
          "Grant Calcaterra",
          "Isaiah Likely",
          "Luke Farrell",
          "Jake Ferguson",
          "T.J. Hockenson",
          "Ko Kieft",
          "Cade Otton",
          "Noah Gray"
         ],
         "legendgroup": "TE",
         "marker": {
          "color": "#AEDFF2",
          "pattern": {
           "shape": ""
          }
         },
         "name": "TE",
         "offsetgroup": "TE",
         "orientation": "v",
         "showlegend": true,
         "text": [
          "Logan Thomas",
          "Colby Parkinson",
          "John Bates",
          "David Njoku",
          "Trevon Wesco",
          "Dalton Schultz",
          "C.J. Uzomah",
          "Irv Smith",
          "Geoff Swaim",
          "Johnny Mundt",
          "Chigoziem Okonkwo",
          "Blake Bell",
          "Travis Kelce",
          "Luke Schoonmaker",
          "Michael Mayer",
          "Gerald Everett",
          "Charlie Kolar",
          "Harrison Bryant",
          "Josiah Deguara",
          "Will Dissly",
          "Mitchell Wilcox",
          "David Wells",
          "Durham Smythe",
          "Austin Hooper",
          "Donald Parham",
          "Mark Andrews",
          "Noah Fant",
          "Josh Whyle",
          "Pat Freiermuth",
          "Ian Thomas",
          "Charlie Woerner",
          "Ross Dwelley",
          "Stone Smartt",
          "Drew Sample",
          "Marcedes Lewis",
          "Cole Kmet",
          "Jordan Akins",
          "Luke Musgrave",
          "Dalton Kincaid",
          "Connor Heyward",
          "Brock Wright",
          "Albert Okwuegbunam",
          "George Kittle",
          "Brevin Jordan",
          "Julian Hill",
          "Adam Trautman",
          "Hayden Hurst",
          "Tyler Conklin",
          "Robert Tonyan",
          "Chris Manhertz",
          "Evan Engram",
          "Quintin Morris",
          "Trey McBride",
          "James Mitchell",
          "Darnell Washington",
          "Jack Stoll",
          "Brycen Hopkins",
          "Hunter Long",
          "Peyton Hendershot",
          "Daniel Bellinger",
          "Tucker Kraft",
          "Tommy Tremble",
          "Josh Oliver",
          "Tyler Higbee",
          "Jeremy Ruckert",
          "Brenton Strange",
          "Sam LaPorta",
          "Grant Calcaterra",
          "Isaiah Likely",
          "Luke Farrell",
          "Jake Ferguson",
          "T.J. Hockenson",
          "Ko Kieft",
          "Cade Otton",
          "Noah Gray"
         ],
         "textposition": "inside",
         "type": "bar",
         "x": [
          "GusTheBus",
          null,
          null,
          "Verdanks Vacqueros FFC",
          null,
          "Comeback 👑’s",
          null,
          "*New Name Pending*",
          null,
          null,
          "Pretty Big Wieners",
          null,
          "Verdanks Vacqueros FFC",
          "*New Name Pending*",
          "GusTheBus",
          "DangeRUSS Last Ride",
          null,
          null,
          null,
          null,
          null,
          null,
          "Idk much about soccer ",
          null,
          "Comeback 👑’s",
          "Pretty Big Wieners",
          "GusTheBus",
          "📜 Providence 🪬 Spirits 🥂",
          "Saskatoon Squatches ",
          null,
          null,
          null,
          null,
          null,
          null,
          "Saskatoon Squatches ",
          null,
          "2014champ",
          "Verdanks Vacqueros FFC",
          "Croccity Body Snatchers",
          null,
          null,
          "DangeRUSS Last Ride",
          null,
          null,
          "Pretty Big Wieners",
          "kevinbash",
          "Pretty Big Wieners",
          "Comeback 👑’s",
          null,
          "2014champ",
          null,
          "📜 Providence 🪬 Spirits 🥂",
          null,
          "Pretty Big Wieners",
          null,
          null,
          null,
          null,
          "Croccity Body Snatchers",
          null,
          null,
          null,
          "Croccity Body Snatchers",
          "📜 Providence 🪬 Spirits 🥂",
          "GusTheBus",
          "kevinbash",
          null,
          "Saskatoon Squatches ",
          null,
          "DangeRUSS Last Ride",
          "Saskatoon Squatches ",
          null,
          "Idk much about soccer ",
          "*New Name Pending*"
         ],
         "xaxis": "x",
         "y": [
          4.925000000000001,
          0,
          0,
          6.477,
          0,
          7.900000000000001,
          0,
          2.7,
          0,
          0,
          0,
          0,
          12.020000000000001,
          0,
          4.432,
          0,
          0,
          0,
          0,
          0,
          0,
          0,
          2.9430000000000005,
          0,
          2.475,
          10.725000000000001,
          4.5,
          0,
          0,
          0,
          0,
          0,
          0,
          0,
          0,
          7.300000000000001,
          0,
          5.375000000000001,
          0,
          0,
          0,
          0,
          9.71,
          0,
          0,
          0,
          3.053,
          4.847,
          0,
          0,
          5.125000000000001,
          0,
          6.875000000000001,
          0,
          0,
          0,
          0,
          0,
          0,
          4.926,
          0,
          0,
          0,
          4.736,
          0.7750000000000001,
          0,
          8.75,
          0,
          0,
          0,
          6.655000000000001,
          9.86,
          0,
          4.265000000000001,
          2.688
         ],
         "yaxis": "y"
        },
        {
         "alignmentgroup": "True",
         "customdata": [
          [
           9.9,
           "Riley Patterson",
           "PK"
          ],
          [
           0,
           "Ethan Evans",
           "PK"
          ],
          [
           0,
           "Trenton Gill",
           "PK"
          ],
          [
           0,
           "Jack Fox",
           "PK"
          ],
          [
           10.950000000000001,
           "Brandon McManus",
           "PK"
          ],
          [
           0,
           "Brad Robbins",
           "PK"
          ],
          [
           9.4,
           "Daniel Carlson",
           "PK"
          ],
          [
           10.15,
           "Jason Myers",
           "PK"
          ],
          [
           7.55,
           "Tyler Bass",
           "PK"
          ],
          [
           7.5,
           "Cairo Santos",
           "PK"
          ],
          [
           6.800000000000001,
           "Joey Slye",
           "PK"
          ],
          [
           8.45,
           "Nick Folk",
           "PK"
          ],
          [
           0,
           "Tommy Townsend",
           "PK"
          ],
          [
           0,
           "Mitch Wishnowsky",
           "PK"
          ],
          [
           0,
           "Logan Cooke",
           "PK"
          ],
          [
           0,
           "Corey Bojorquez",
           "PK"
          ],
          [
           7.700000000000001,
           "Eddy Pineiro",
           "PK"
          ],
          [
           9.45,
           "Wil Lutz",
           "PK"
          ],
          [
           0,
           "Sam Martin",
           "PK"
          ],
          [
           0,
           "Jamie Gillan",
           "PK"
          ],
          [
           8.95,
           "Greg Joseph",
           "PK"
          ],
          [
           9.6,
           "Justin Tucker",
           "PK"
          ],
          [
           0,
           "Tress Way",
           "PK"
          ],
          [
           8.4,
           "Chris Boswell",
           "PK"
          ],
          [
           9.25,
           "Matt Prater",
           "PK"
          ],
          [
           0,
           "Jordan Stout",
           "PK"
          ],
          [
           0,
           "Ryan Stonehouse",
           "PK"
          ],
          [
           0,
           "Jake Camarda",
           "PK"
          ],
          [
           8.15,
           "Jason Sanders",
           "PK"
          ],
          [
           0,
           "Bryan Anger",
           "PK"
          ],
          [
           0,
           "Michael Dickson",
           "PK"
          ],
          [
           8.149999999999999,
           "Jake Elliott",
           "PK"
          ],
          [
           0,
           "JK Scott",
           "PK"
          ],
          [
           8.450000000000001,
           "Chase McLaughlin",
           "PK"
          ],
          [
           0,
           "Jake Bailey",
           "PK"
          ],
          [
           8.35,
           "Jake Moody",
           "PK"
          ],
          [
           9.4,
           "Evan McPherson",
           "PK"
          ],
          [
           0,
           "Daniel Whelan",
           "PK"
          ],
          [
           8.85,
           "Cameron Dicker",
           "PK"
          ],
          [
           0,
           "Johnny Hekker",
           "PK"
          ],
          [
           11.349999999999998,
           "Dustin Hopkins",
           "PK"
          ],
          [
           9.299999999999999,
           "Harrison Butker",
           "PK"
          ],
          [
           0,
           "Ryan Wright",
           "PK"
          ],
          [
           6.654999999999999,
           "Anders Carlson",
           "PK"
          ],
          [
           10.499999999999998,
           "Greg Zuerlein",
           "PK"
          ],
          [
           0,
           "Riley Dixon",
           "PK"
          ],
          [
           0,
           "Pressley Harvin",
           "PK"
          ],
          [
           0,
           "AJ Cole",
           "PK"
          ],
          [
           0,
           "Daniel Whelan",
           "PK"
          ],
          [
           9.650000000000002,
           "Brandon Aubrey",
           "PK"
          ]
         ],
         "hovertemplate": "<b>%{hovertext}</b><br><br>Relative Value=%{y}<br>Predicted Points=%{customdata[0]}<extra></extra>",
         "hovertext": [
          "Riley Patterson",
          "Ethan Evans",
          "Trenton Gill",
          "Jack Fox",
          "Brandon McManus",
          "Brad Robbins",
          "Daniel Carlson",
          "Jason Myers",
          "Tyler Bass",
          "Cairo Santos",
          "Joey Slye",
          "Nick Folk",
          "Tommy Townsend",
          "Mitch Wishnowsky",
          "Logan Cooke",
          "Corey Bojorquez",
          "Eddy Pineiro",
          "Wil Lutz",
          "Sam Martin",
          "Jamie Gillan",
          "Greg Joseph",
          "Justin Tucker",
          "Tress Way",
          "Chris Boswell",
          "Matt Prater",
          "Jordan Stout",
          "Ryan Stonehouse",
          "Jake Camarda",
          "Jason Sanders",
          "Bryan Anger",
          "Michael Dickson",
          "Jake Elliott",
          "JK Scott",
          "Chase McLaughlin",
          "Jake Bailey",
          "Jake Moody",
          "Evan McPherson",
          "Daniel Whelan",
          "Cameron Dicker",
          "Johnny Hekker",
          "Dustin Hopkins",
          "Harrison Butker",
          "Ryan Wright",
          "Anders Carlson",
          "Greg Zuerlein",
          "Riley Dixon",
          "Pressley Harvin",
          "AJ Cole",
          "Daniel Whelan",
          "Brandon Aubrey"
         ],
         "legendgroup": "PK",
         "marker": {
          "color": "#B3BF54",
          "pattern": {
           "shape": ""
          }
         },
         "name": "PK",
         "offsetgroup": "PK",
         "orientation": "v",
         "showlegend": true,
         "text": [
          "Riley Patterson",
          "Ethan Evans",
          "Trenton Gill",
          "Jack Fox",
          "Brandon McManus",
          "Brad Robbins",
          "Daniel Carlson",
          "Jason Myers",
          "Tyler Bass",
          "Cairo Santos",
          "Joey Slye",
          "Nick Folk",
          "Tommy Townsend",
          "Mitch Wishnowsky",
          "Logan Cooke",
          "Corey Bojorquez",
          "Eddy Pineiro",
          "Wil Lutz",
          "Sam Martin",
          "Jamie Gillan",
          "Greg Joseph",
          "Justin Tucker",
          "Tress Way",
          "Chris Boswell",
          "Matt Prater",
          "Jordan Stout",
          "Ryan Stonehouse",
          "Jake Camarda",
          "Jason Sanders",
          "Bryan Anger",
          "Michael Dickson",
          "Jake Elliott",
          "JK Scott",
          "Chase McLaughlin",
          "Jake Bailey",
          "Jake Moody",
          "Evan McPherson",
          "Daniel Whelan",
          "Cameron Dicker",
          "Johnny Hekker",
          "Dustin Hopkins",
          "Harrison Butker",
          "Ryan Wright",
          "Anders Carlson",
          "Greg Zuerlein",
          "Riley Dixon",
          "Pressley Harvin",
          "AJ Cole",
          "Daniel Whelan",
          "Brandon Aubrey"
         ],
         "textposition": "inside",
         "type": "bar",
         "x": [
          "Saskatoon Squatches ",
          null,
          null,
          null,
          "Idk much about soccer ",
          null,
          "Pretty Big Wieners",
          "GusTheBus",
          "📜 Providence 🪬 Spirits 🥂",
          "Pretty Big Wieners",
          "*New Name Pending*",
          "Comeback 👑’s",
          null,
          null,
          null,
          null,
          "Verdanks Vacqueros FFC",
          "2014champ",
          null,
          null,
          "2014champ",
          "GusTheBus",
          null,
          "kevinbash",
          "GusTheBus",
          null,
          null,
          null,
          "Saskatoon Squatches ",
          null,
          null,
          "DangeRUSS Last Ride",
          null,
          "*New Name Pending*",
          null,
          "Verdanks Vacqueros FFC",
          "📜 Providence 🪬 Spirits 🥂",
          null,
          "Croccity Body Snatchers",
          null,
          "Croccity Body Snatchers",
          "*New Name Pending*",
          null,
          "Comeback 👑’s",
          "Croccity Body Snatchers",
          null,
          null,
          null,
          null,
          "kevinbash"
         ],
         "xaxis": "x",
         "y": [
          9.9,
          0,
          0,
          0,
          10.950000000000001,
          0,
          9.4,
          10.15,
          7.55,
          7.5,
          0,
          8.45,
          0,
          0,
          0,
          0,
          7.700000000000001,
          9.45,
          0,
          0,
          8.95,
          9.6,
          0,
          8.4,
          0,
          0,
          0,
          0,
          8.15,
          0,
          0,
          8.149999999999999,
          0,
          8.450000000000001,
          0,
          8.35,
          9.4,
          0,
          0,
          0,
          11.349999999999998,
          9.299999999999999,
          0,
          6.654999999999999,
          10.499999999999998,
          0,
          0,
          0,
          0,
          9.650000000000002
         ],
         "yaxis": "y"
        },
        {
         "alignmentgroup": "True",
         "customdata": [
          [
           4.710000000000001,
           "MIN",
           "DEF"
          ],
          [
           2.9700000000000006,
           "KC",
           "DEF"
          ],
          [
           -0.19000000000000128,
           "DEN",
           "DEF"
          ],
          [
           -0.12259999999999849,
           "CIN",
           "DEF"
          ],
          [
           -0.7959999999999994,
           "CHI",
           "DEF"
          ],
          [
           3.9901000000000018,
           "TEN",
           "DEF"
          ],
          [
           9.60580000000001,
           "NYG",
           "DEF"
          ],
          [
           2.6363000000000003,
           "SF",
           "DEF"
          ],
          [
           4.139200000000001,
           "PHI",
           "DEF"
          ],
          [
           5.119299999999999,
           "BUF",
           "DEF"
          ],
          [
           2.729000000000001,
           "DET",
           "DEF"
          ],
          [
           6.335000000000001,
           "MIA",
           "DEF"
          ],
          [
           2.452400000000001,
           "GB",
           "DEF"
          ],
          [
           13.548799999999996,
           "LAR",
           "DEF"
          ],
          [
           3.223700000000001,
           "JAX",
           "DEF"
          ],
          [
           4.302600000000002,
           "CAR",
           "DEF"
          ],
          [
           6.590900000000001,
           "CLE",
           "DEF"
          ],
          [
           0.6037999999999997,
           "TB",
           "DEF"
          ],
          [
           13.548799999999996,
           "LAC",
           "DEF"
          ],
          [
           5.620500000000002,
           "WAS",
           "DEF"
          ],
          [
           8.3878,
           "DAL",
           "DEF"
          ],
          [
           9.60580000000001,
           "NYJ",
           "DEF"
          ],
          [
           2.3721000000000014,
           "LV",
           "DEF"
          ],
          [
           3.1647999999999996,
           "SEA",
           "DEF"
          ],
          [
           2.020000000000003,
           "ARI",
           "DEF"
          ],
          [
           3.6792000000000016,
           "PIT",
           "DEF"
          ],
          [
           6.260100000000001,
           "BAL",
           "DEF"
          ],
          [
           4.8658,
           "HOU",
           "DEF"
          ]
         ],
         "hovertemplate": "<b>%{hovertext}</b><br><br>Relative Value=%{y}<br>Predicted Points=%{customdata[0]}<extra></extra>",
         "hovertext": [
          "MIN",
          "KC",
          "DEN",
          "CIN",
          "CHI",
          "TEN",
          "NYG",
          "SF",
          "PHI",
          "BUF",
          "DET",
          "MIA",
          "GB",
          "LAR",
          "JAX",
          "CAR",
          "CLE",
          "TB",
          "LAC",
          "WAS",
          "DAL",
          "NYJ",
          "LV",
          "SEA",
          "ARI",
          "PIT",
          "BAL",
          "HOU"
         ],
         "legendgroup": "DEF",
         "marker": {
          "color": "#667825",
          "pattern": {
           "shape": ""
          }
         },
         "name": "DEF",
         "offsetgroup": "DEF",
         "orientation": "v",
         "showlegend": true,
         "text": [
          "MIN",
          "KC",
          "DEN",
          "CIN",
          "CHI",
          "TEN",
          "NYG",
          "SF",
          "PHI",
          "BUF",
          "DET",
          "MIA",
          "GB",
          "LAR",
          "JAX",
          "CAR",
          "CLE",
          "TB",
          "LAC",
          "WAS",
          "DAL",
          "NYJ",
          "LV",
          "SEA",
          "ARI",
          "PIT",
          "BAL",
          "HOU"
         ],
         "textposition": "inside",
         "type": "bar",
         "x": [
          "Comeback 👑’s",
          "Idk much about soccer ",
          "Croccity Body Snatchers",
          "Pretty Big Wieners",
          "2014champ",
          "Saskatoon Squatches ",
          "*New Name Pending*",
          "Croccity Body Snatchers",
          "Pretty Big Wieners",
          "kevinbash",
          "Verdanks Vacqueros FFC",
          "Pretty Big Wieners",
          "DangeRUSS Last Ride",
          "Comeback 👑’s",
          "Saskatoon Squatches ",
          "DangeRUSS Last Ride",
          "2014champ",
          "Comeback 👑’s",
          "DangeRUSS Last Ride",
          "Croccity Body Snatchers",
          "📜 Providence 🪬 Spirits 🥂",
          "📜 Providence 🪬 Spirits 🥂",
          "*New Name Pending*",
          "Saskatoon Squatches ",
          "Verdanks Vacqueros FFC",
          "GusTheBus",
          "GusTheBus",
          "📜 Providence 🪬 Spirits 🥂"
         ],
         "xaxis": "x",
         "y": [
          4.710000000000001,
          2.9700000000000006,
          0,
          0,
          0,
          3.9901000000000018,
          7.025800000000004,
          2.6363000000000003,
          4.139200000000001,
          5.119299999999999,
          2.729000000000001,
          6.335000000000001,
          0,
          9.177999999999997,
          3.223700000000001,
          4.302600000000002,
          6.590900000000001,
          0,
          9.177999999999997,
          5.620500000000002,
          8.3878,
          0,
          2.3721000000000014,
          0,
          2.020000000000003,
          3.6792000000000016,
          6.260100000000001,
          4.8658
         ],
         "yaxis": "y"
        },
        {
         "alignmentgroup": "True",
         "customdata": [
          [
           2.5700000000000003,
           "Chase Edmonds",
           "RB"
          ],
          [
           12.365000000000002,
           "Javonte Williams",
           "RB"
          ],
          [
           10.105,
           "AJ Dillon",
           "RB"
          ],
          [
           13.495,
           "Breece Hall",
           "RB"
          ],
          [
           5.285,
           "Dalvin Cook",
           "RB"
          ],
          [
           1.9700000000000002,
           "Deuce Vaughn",
           "RB"
          ],
          [
           4.28,
           "Zach Charbonnet",
           "RB"
          ],
          [
           15.780000000000001,
           "Josh Jacobs",
           "RB"
          ],
          [
           6.990000000000001,
           "Miles Sanders",
           "RB"
          ],
          [
           0.030000000000000027,
           "Elijah Dotson",
           "RB"
          ],
          [
           2.16,
           "Zamir White",
           "RB"
          ],
          [
           2.43,
           "Emanuel Wilson",
           "RB"
          ],
          [
           0.41000000000000003,
           "Travis Homer",
           "RB"
          ],
          [
           3.515,
           "Roschon Johnson",
           "RB"
          ],
          [
           5.59,
           "Raheem Blackshear",
           "RB"
          ],
          [
           10.285,
           "Najee Harris",
           "RB"
          ],
          [
           3.3949999999999996,
           "Dare Ogunbowale",
           "RB"
          ],
          [
           10.854999999999999,
           "Chuba Hubbard",
           "RB"
          ],
          [
           0.825,
           "Zach Evans",
           "RB"
          ],
          [
           4.715000000000001,
           "Ty Chandler",
           "RB"
          ],
          [
           12.07,
           "Jaylen Warren",
           "RB"
          ],
          [
           3.85,
           "Emari Demercado",
           "RB"
          ],
          [
           3.1550000000000002,
           "Damien Harris",
           "RB"
          ],
          [
           13.055000000000001,
           "Joe Mixon",
           "RB"
          ],
          [
           2.8500000000000005,
           "Tank Bigsby",
           "RB"
          ],
          [
           3.4800000000000004,
           "DeeJay Dallas",
           "RB"
          ],
          [
           12.260000000000002,
           "Aaron Jones",
           "RB"
          ],
          [
           13.750000000000002,
           "David Montgomery",
           "RB"
          ],
          [
           6.850000000000001,
           "Tyjae Spears",
           "RB"
          ],
          [
           16.285,
           "Travis Etienne",
           "RB"
          ],
          [
           6.07,
           "Kenneth Gainwell",
           "RB"
          ],
          [
           1.36,
           "Deon Jackson",
           "RB"
          ],
          [
           4.15,
           "Samaje Perine",
           "RB"
          ],
          [
           12.475000000000001,
           "Dameon Pierce",
           "RB"
          ],
          [
           15.729999999999999,
           "Kenneth Walker",
           "RB"
          ],
          [
           3.4250000000000007,
           "Trayveon Williams",
           "RB"
          ],
          [
           6.825,
           "Latavius Murray",
           "RB"
          ],
          [
           1.02,
           "Reggie Gilliam",
           "RB"
          ],
          [
           16.325000000000003,
           "Jahmyr Gibbs",
           "RB"
          ],
          [
           0.9200000000000002,
           "Isaiah Spiller",
           "RB"
          ],
          [
           16.310000000000002,
           "Raheem Mostert",
           "RB"
          ],
          [
           13.75,
           "Gus Edwards",
           "RB"
          ],
          [
           0.545,
           "Anthony McFarland",
           "RB"
          ],
          [
           1.82,
           "Keaontay Ingram",
           "RB"
          ],
          [
           0.013500000000000002,
           "Rashaad Penny",
           "RB"
          ],
          [
           2.105,
           "Chris Rodriguez",
           "RB"
          ],
          [
           11.35,
           "Antonio Gibson",
           "RB"
          ],
          [
           6.075,
           "Joshua Kelley",
           "RB"
          ],
          [
           15.02,
           "Tony Pollard",
           "RB"
          ],
          [
           15.785,
           "Saquon Barkley",
           "RB"
          ],
          [
           3.345,
           "Matt Breida",
           "RB"
          ],
          [
           19.225,
           "Christian McCaffrey",
           "RB"
          ],
          [
           1.125,
           "D'Ernest Johnson",
           "RB"
          ],
          [
           14.014999999999999,
           "Jerome Ford",
           "RB"
          ],
          [
           2.1050000000000004,
           "Ke'Shawn Vaughn",
           "RB"
          ],
          [
           15.615,
           "Derrick Henry",
           "RB"
          ],
          [
           5.459999999999999,
           "Jerick McKinnon",
           "RB"
          ],
          [
           2.7150000000000003,
           "Julius Chestnut",
           "RB"
          ],
          [
           18.62,
           "Austin Ekeler",
           "RB"
          ],
          [
           1.8650000000000002,
           "Mike Boone",
           "RB"
          ],
          [
           10.81,
           "Alexander Mattison",
           "RB"
          ],
          [
           8.025,
           "Rico Dowdle",
           "RB"
          ],
          [
           3.845,
           "Jordan Mason",
           "RB"
          ],
          [
           1.124,
           "Tyrion Davis-Price",
           "RB"
          ],
          [
           2.9200000000000004,
           "Michael Carter",
           "RB"
          ],
          [
           0.7100000000000001,
           "Sean Tucker",
           "RB"
          ],
          [
           12.05,
           "James Conner",
           "RB"
          ],
          [
           11.504999999999999,
           "D'Onta Foreman",
           "RB"
          ],
          [
           14.315,
           "Isiah Pacheco",
           "RB"
          ],
          [
           13.945,
           "Brian Robinson",
           "RB"
          ],
          [
           3.66,
           "Elijah Mitchell",
           "RB"
          ],
          [
           11.56,
           "Devin Singletary",
           "RB"
          ],
          [
           14.864999999999998,
           "D'Andre Swift",
           "RB"
          ],
          [
           2.6399999999999997,
           "Clyde Edwards-Helaire",
           "RB"
          ],
          [
           10.4,
           "Khalil Herbert",
           "RB"
          ],
          [
           1.55,
           "Brandon Bolden",
           "RB"
          ],
          [
           0.027999999999999997,
           "Andrew Beck",
           "RB"
          ],
          [
           2.8350000000000004,
           "Chris Evans",
           "RB"
          ],
          [
           13.145000000000001,
           "Rachaad White",
           "RB"
          ],
          [
           13.7,
           "James Cook",
           "RB"
          ],
          [
           6.395000000000001,
           "Justice Hill",
           "RB"
          ],
          [
           2.39,
           "Ameer Abdullah",
           "RB"
          ],
          [
           5.385000000000001,
           "Pierre Strong",
           "RB"
          ],
          [
           4.7700000000000005,
           "Boston Scott",
           "RB"
          ],
          [
           5.680000000000001,
           "Jaleel McLaughlin",
           "RB"
          ],
          [
           2.85,
           "Salvon Ahmed",
           "RB"
          ]
         ],
         "hovertemplate": "<b>%{hovertext}</b><br><br>Relative Value=%{y}<br>Predicted Points=%{customdata[0]}<extra></extra>",
         "hovertext": [
          "Chase Edmonds",
          "Javonte Williams",
          "AJ Dillon",
          "Breece Hall",
          "Dalvin Cook",
          "Deuce Vaughn",
          "Zach Charbonnet",
          "Josh Jacobs",
          "Miles Sanders",
          "Elijah Dotson",
          "Zamir White",
          "Emanuel Wilson",
          "Travis Homer",
          "Roschon Johnson",
          "Raheem Blackshear",
          "Najee Harris",
          "Dare Ogunbowale",
          "Chuba Hubbard",
          "Zach Evans",
          "Ty Chandler",
          "Jaylen Warren",
          "Emari Demercado",
          "Damien Harris",
          "Joe Mixon",
          "Tank Bigsby",
          "DeeJay Dallas",
          "Aaron Jones",
          "David Montgomery",
          "Tyjae Spears",
          "Travis Etienne",
          "Kenneth Gainwell",
          "Deon Jackson",
          "Samaje Perine",
          "Dameon Pierce",
          "Kenneth Walker",
          "Trayveon Williams",
          "Latavius Murray",
          "Reggie Gilliam",
          "Jahmyr Gibbs",
          "Isaiah Spiller",
          "Raheem Mostert",
          "Gus Edwards",
          "Anthony McFarland",
          "Keaontay Ingram",
          "Rashaad Penny",
          "Chris Rodriguez",
          "Antonio Gibson",
          "Joshua Kelley",
          "Tony Pollard",
          "Saquon Barkley",
          "Matt Breida",
          "Christian McCaffrey",
          "D'Ernest Johnson",
          "Jerome Ford",
          "Ke'Shawn Vaughn",
          "Derrick Henry",
          "Jerick McKinnon",
          "Julius Chestnut",
          "Austin Ekeler",
          "Mike Boone",
          "Alexander Mattison",
          "Rico Dowdle",
          "Jordan Mason",
          "Tyrion Davis-Price",
          "Michael Carter",
          "Sean Tucker",
          "James Conner",
          "D'Onta Foreman",
          "Isiah Pacheco",
          "Brian Robinson",
          "Elijah Mitchell",
          "Devin Singletary",
          "D'Andre Swift",
          "Clyde Edwards-Helaire",
          "Khalil Herbert",
          "Brandon Bolden",
          "Andrew Beck",
          "Chris Evans",
          "Rachaad White",
          "James Cook",
          "Justice Hill",
          "Ameer Abdullah",
          "Pierre Strong",
          "Boston Scott",
          "Jaleel McLaughlin",
          "Salvon Ahmed"
         ],
         "legendgroup": "RB",
         "marker": {
          "color": "#233257",
          "pattern": {
           "shape": ""
          }
         },
         "name": "RB",
         "offsetgroup": "RB",
         "orientation": "v",
         "showlegend": true,
         "text": [
          "Chase Edmonds",
          "Javonte Williams",
          "AJ Dillon",
          "Breece Hall",
          "Dalvin Cook",
          "Deuce Vaughn",
          "Zach Charbonnet",
          "Josh Jacobs",
          "Miles Sanders",
          "Elijah Dotson",
          "Zamir White",
          "Emanuel Wilson",
          "Travis Homer",
          "Roschon Johnson",
          "Raheem Blackshear",
          "Najee Harris",
          "Dare Ogunbowale",
          "Chuba Hubbard",
          "Zach Evans",
          "Ty Chandler",
          "Jaylen Warren",
          "Emari Demercado",
          "Damien Harris",
          "Joe Mixon",
          "Tank Bigsby",
          "DeeJay Dallas",
          "Aaron Jones",
          "David Montgomery",
          "Tyjae Spears",
          "Travis Etienne",
          "Kenneth Gainwell",
          "Deon Jackson",
          "Samaje Perine",
          "Dameon Pierce",
          "Kenneth Walker",
          "Trayveon Williams",
          "Latavius Murray",
          "Reggie Gilliam",
          "Jahmyr Gibbs",
          "Isaiah Spiller",
          "Raheem Mostert",
          "Gus Edwards",
          "Anthony McFarland",
          "Keaontay Ingram",
          "Rashaad Penny",
          "Chris Rodriguez",
          "Antonio Gibson",
          "Joshua Kelley",
          "Tony Pollard",
          "Saquon Barkley",
          "Matt Breida",
          "Christian McCaffrey",
          "D'Ernest Johnson",
          "Jerome Ford",
          "Ke'Shawn Vaughn",
          "Derrick Henry",
          "Jerick McKinnon",
          "Julius Chestnut",
          "Austin Ekeler",
          "Mike Boone",
          "Alexander Mattison",
          "Rico Dowdle",
          "Jordan Mason",
          "Tyrion Davis-Price",
          "Michael Carter",
          "Sean Tucker",
          "James Conner",
          "D'Onta Foreman",
          "Isiah Pacheco",
          "Brian Robinson",
          "Elijah Mitchell",
          "Devin Singletary",
          "D'Andre Swift",
          "Clyde Edwards-Helaire",
          "Khalil Herbert",
          "Brandon Bolden",
          "Andrew Beck",
          "Chris Evans",
          "Rachaad White",
          "James Cook",
          "Justice Hill",
          "Ameer Abdullah",
          "Pierre Strong",
          "Boston Scott",
          "Jaleel McLaughlin",
          "Salvon Ahmed"
         ],
         "textposition": "inside",
         "type": "bar",
         "x": [
          "kevinbash",
          "Saskatoon Squatches ",
          "kevinbash",
          "Comeback 👑’s",
          "GusTheBus",
          "DangeRUSS Last Ride",
          "Idk much about soccer ",
          "Croccity Body Snatchers",
          "Pretty Big Wieners",
          null,
          null,
          null,
          null,
          "📜 Providence 🪬 Spirits 🥂",
          "kevinbash",
          "2014champ",
          null,
          "*New Name Pending*",
          "Croccity Body Snatchers",
          "kevinbash",
          "Saskatoon Squatches ",
          "Saskatoon Squatches ",
          "2014champ",
          "Croccity Body Snatchers",
          "Comeback 👑’s",
          null,
          "kevinbash",
          "Croccity Body Snatchers",
          "Pretty Big Wieners",
          "Verdanks Vacqueros FFC",
          "*New Name Pending*",
          null,
          "GusTheBus",
          "GusTheBus",
          "Verdanks Vacqueros FFC",
          null,
          "Comeback 👑’s",
          null,
          "📜 Providence 🪬 Spirits 🥂",
          null,
          "2014champ",
          "Comeback 👑’s",
          null,
          "2014champ",
          null,
          "GusTheBus",
          "*New Name Pending*",
          "2014champ",
          "Saskatoon Squatches ",
          "Saskatoon Squatches ",
          null,
          "DangeRUSS Last Ride",
          null,
          "Comeback 👑’s",
          null,
          "DangeRUSS Last Ride",
          "2014champ",
          null,
          "Croccity Body Snatchers",
          null,
          "Pretty Big Wieners",
          "📜 Providence 🪬 Spirits 🥂",
          null,
          "Idk much about soccer ",
          null,
          null,
          "DangeRUSS Last Ride",
          "Pretty Big Wieners",
          "Saskatoon Squatches ",
          "Idk much about soccer ",
          "Verdanks Vacqueros FFC",
          "Verdanks Vacqueros FFC",
          "kevinbash",
          "*New Name Pending*",
          "GusTheBus",
          null,
          null,
          null,
          "📜 Providence 🪬 Spirits 🥂",
          "Pretty Big Wieners",
          "Idk much about soccer ",
          null,
          null,
          null,
          "Comeback 👑’s",
          null
         ],
         "xaxis": "x",
         "y": [
          0,
          12.365000000000002,
          10.105,
          13.495,
          5.285,
          1.9700000000000002,
          0,
          15.780000000000001,
          6.990000000000001,
          0,
          0,
          0,
          0,
          0,
          0,
          10.285,
          0,
          10.854999999999999,
          0,
          0,
          0,
          0,
          0,
          13.055000000000001,
          0,
          0,
          12.260000000000002,
          13.750000000000002,
          6.850000000000001,
          16.285,
          6.07,
          0,
          0,
          12.475000000000001,
          15.729999999999999,
          0,
          6.825,
          0,
          16.325000000000003,
          0,
          16.310000000000002,
          13.75,
          0,
          0,
          0,
          0,
          11.35,
          0,
          15.02,
          15.785,
          0,
          19.225,
          0,
          14.014999999999999,
          0,
          15.615,
          5.459999999999999,
          0,
          18.62,
          0,
          10.81,
          8.025,
          0,
          1.124,
          0,
          0,
          12.05,
          11.504999999999999,
          14.315,
          13.945,
          0,
          11.56,
          14.864999999999998,
          0,
          10.4,
          0,
          0,
          0,
          13.145000000000001,
          13.7,
          6.395000000000001,
          0,
          0,
          0,
          0,
          0
         ],
         "yaxis": "y"
        },
        {
         "alignmentgroup": "True",
         "customdata": [
          [
           16.96,
           "Kyler Murray",
           "QB"
          ],
          [
           -0.45399999999999996,
           "Blaine Gabbert",
           "QB"
          ],
          [
           5.0200000000000005,
           "Tyson Bagent",
           "QB"
          ],
          [
           0.9600000000000001,
           "Nick Mullens",
           "QB"
          ],
          [
           2.43,
           "Marcus Mariota",
           "QB"
          ],
          [
           1.03,
           "Mason Rudolph",
           "QB"
          ],
          [
           17.529999999999998,
           "C.J. Stroud",
           "QB"
          ],
          [
           0.62,
           "Jacoby Brissett",
           "QB"
          ],
          [
           17.39,
           "Sam Howell",
           "QB"
          ],
          [
           22.18,
           "Josh Allen",
           "QB"
          ],
          [
           0.6299999999999999,
           "Jarrett Stidham",
           "QB"
          ],
          [
           0.9950000000000001,
           "Mike White",
           "QB"
          ],
          [
           0.66,
           "Malik Willis",
           "QB"
          ],
          [
           0.014999999999999986,
           "Kyle Allen",
           "QB"
          ],
          [
           0.755,
           "Teddy Bridgewater",
           "QB"
          ],
          [
           15.340000000000002,
           "Russell Wilson",
           "QB"
          ],
          [
           18.84,
           "Brock Purdy",
           "QB"
          ],
          [
           17.160000000000004,
           "Jared Goff",
           "QB"
          ],
          [
           14.800000000000002,
           "Joshua Dobbs",
           "QB"
          ],
          [
           16.099999999999998,
           "Joe Burrow",
           "QB"
          ],
          [
           0.39,
           "Stetson Bennett",
           "QB"
          ],
          [
           0.12,
           "Brandon Allen",
           "QB"
          ],
          [
           14.02,
           "Trevor Lawrence",
           "QB"
          ],
          [
           4.32,
           "Mitch Trubisky",
           "QB"
          ],
          [
           16.86,
           "Justin Fields",
           "QB"
          ],
          [
           11.21,
           "Kenny Pickett",
           "QB"
          ],
          [
           0.137,
           "Easton Stick",
           "QB"
          ],
          [
           4.37,
           "Tyler Huntley",
           "QB"
          ],
          [
           12.219999999999999,
           "Bryce Young",
           "QB"
          ],
          [
           0.0049999999999999975,
           "Kyle Trask",
           "QB"
          ],
          [
           12.579999999999998,
           "Dorian Thompson-Robinson",
           "QB"
          ],
          [
           14.200000000000001,
           "Baker Mayfield",
           "QB"
          ],
          [
           0.759,
           "Sean Clifford",
           "QB"
          ],
          [
           19.7,
           "Lamar Jackson",
           "QB"
          ],
          [
           18.459999999999997,
           "Justin Herbert",
           "QB"
          ],
          [
           22.849999999999998,
           "Patrick Mahomes",
           "QB"
          ],
          [
           3.0800000000000005,
           "Ryan Tannehill",
           "QB"
          ],
          [
           2.24,
           "Jimmy Garoppolo",
           "QB"
          ],
          [
           0.45899999999999996,
           "Cooper Rush",
           "QB"
          ],
          [
           14.790000000000001,
           "Jordan Love",
           "QB"
          ],
          [
           -0.003999999999999997,
           "Jake Browning",
           "QB"
          ],
          [
           11.370000000000001,
           "Zach Wilson",
           "QB"
          ],
          [
           21.59,
           "Jalen Hurts",
           "QB"
          ],
          [
           17.26,
           "Tua Tagovailoa",
           "QB"
          ],
          [
           16.8,
           "Geno Smith",
           "QB"
          ],
          [
           0.02100000000000002,
           "C.J. Beathard",
           "QB"
          ],
          [
           0.6849999999999999,
           "Brian Hoyer",
           "QB"
          ],
          [
           2.12,
           "Andy Dalton",
           "QB"
          ],
          [
           0.241,
           "Sam Darnold",
           "QB"
          ],
          [
           13.390000000000002,
           "Matthew Stafford",
           "QB"
          ],
          [
           18.68,
           "Dak Prescott",
           "QB"
          ],
          [
           1.18,
           "Drew Lock",
           "QB"
          ],
          [
           4.87,
           "Davis Mills",
           "QB"
          ]
         ],
         "hovertemplate": "<b>%{hovertext}</b><br><br>Relative Value=%{y}<br>Predicted Points=%{customdata[0]}<extra></extra>",
         "hovertext": [
          "Kyler Murray",
          "Blaine Gabbert",
          "Tyson Bagent",
          "Nick Mullens",
          "Marcus Mariota",
          "Mason Rudolph",
          "C.J. Stroud",
          "Jacoby Brissett",
          "Sam Howell",
          "Josh Allen",
          "Jarrett Stidham",
          "Mike White",
          "Malik Willis",
          "Kyle Allen",
          "Teddy Bridgewater",
          "Russell Wilson",
          "Brock Purdy",
          "Jared Goff",
          "Joshua Dobbs",
          "Joe Burrow",
          "Stetson Bennett",
          "Brandon Allen",
          "Trevor Lawrence",
          "Mitch Trubisky",
          "Justin Fields",
          "Kenny Pickett",
          "Easton Stick",
          "Tyler Huntley",
          "Bryce Young",
          "Kyle Trask",
          "Dorian Thompson-Robinson",
          "Baker Mayfield",
          "Sean Clifford",
          "Lamar Jackson",
          "Justin Herbert",
          "Patrick Mahomes",
          "Ryan Tannehill",
          "Jimmy Garoppolo",
          "Cooper Rush",
          "Jordan Love",
          "Jake Browning",
          "Zach Wilson",
          "Jalen Hurts",
          "Tua Tagovailoa",
          "Geno Smith",
          "C.J. Beathard",
          "Brian Hoyer",
          "Andy Dalton",
          "Sam Darnold",
          "Matthew Stafford",
          "Dak Prescott",
          "Drew Lock",
          "Davis Mills"
         ],
         "legendgroup": "QB",
         "marker": {
          "color": "#591D73",
          "pattern": {
           "shape": ""
          }
         },
         "name": "QB",
         "offsetgroup": "QB",
         "orientation": "v",
         "showlegend": true,
         "text": [
          "Kyler Murray",
          "Blaine Gabbert",
          "Tyson Bagent",
          "Nick Mullens",
          "Marcus Mariota",
          "Mason Rudolph",
          "C.J. Stroud",
          "Jacoby Brissett",
          "Sam Howell",
          "Josh Allen",
          "Jarrett Stidham",
          "Mike White",
          "Malik Willis",
          "Kyle Allen",
          "Teddy Bridgewater",
          "Russell Wilson",
          "Brock Purdy",
          "Jared Goff",
          "Joshua Dobbs",
          "Joe Burrow",
          "Stetson Bennett",
          "Brandon Allen",
          "Trevor Lawrence",
          "Mitch Trubisky",
          "Justin Fields",
          "Kenny Pickett",
          "Easton Stick",
          "Tyler Huntley",
          "Bryce Young",
          "Kyle Trask",
          "Dorian Thompson-Robinson",
          "Baker Mayfield",
          "Sean Clifford",
          "Lamar Jackson",
          "Justin Herbert",
          "Patrick Mahomes",
          "Ryan Tannehill",
          "Jimmy Garoppolo",
          "Cooper Rush",
          "Jordan Love",
          "Jake Browning",
          "Zach Wilson",
          "Jalen Hurts",
          "Tua Tagovailoa",
          "Geno Smith",
          "C.J. Beathard",
          "Brian Hoyer",
          "Andy Dalton",
          "Sam Darnold",
          "Matthew Stafford",
          "Dak Prescott",
          "Drew Lock",
          "Davis Mills"
         ],
         "textposition": "inside",
         "type": "bar",
         "x": [
          "Croccity Body Snatchers",
          null,
          "*New Name Pending*",
          null,
          null,
          null,
          "Pretty Big Wieners",
          null,
          "kevinbash",
          "Comeback 👑’s",
          null,
          null,
          null,
          null,
          null,
          "DangeRUSS Last Ride",
          "Croccity Body Snatchers",
          "📜 Providence 🪬 Spirits 🥂",
          "Saskatoon Squatches ",
          "Verdanks Vacqueros FFC",
          "*New Name Pending*",
          null,
          "2014champ",
          null,
          "Idk much about soccer ",
          "GusTheBus",
          null,
          null,
          "Idk much about soccer ",
          null,
          "DangeRUSS Last Ride",
          "*New Name Pending*",
          null,
          "GusTheBus",
          "kevinbash",
          "Saskatoon Squatches ",
          "DangeRUSS Last Ride",
          "Idk much about soccer ",
          null,
          "kevinbash",
          null,
          "Verdanks Vacqueros FFC",
          "Croccity Body Snatchers",
          "Verdanks Vacqueros FFC",
          "Saskatoon Squatches ",
          null,
          null,
          null,
          null,
          "Comeback 👑’s",
          "📜 Providence 🪬 Spirits 🥂",
          null,
          null
         ],
         "xaxis": "x",
         "y": [
          0,
          0,
          0,
          0,
          0,
          0,
          17.529999999999998,
          0,
          17.39,
          22.18,
          0,
          0,
          0,
          0,
          0,
          15.340000000000002,
          18.84,
          17.160000000000004,
          0,
          16.099999999999998,
          0,
          0,
          14.02,
          0,
          16.86,
          11.21,
          0,
          0,
          12.219999999999999,
          0,
          12.579999999999998,
          14.200000000000001,
          0,
          19.7,
          18.459999999999997,
          22.849999999999998,
          0,
          2.24,
          0,
          0,
          0,
          0,
          21.59,
          17.26,
          16.8,
          0,
          0,
          0,
          0,
          13.390000000000002,
          18.68,
          0,
          0
         ],
         "yaxis": "y"
        },
        {
         "mode": "text",
         "showlegend": false,
         "text": [
          128,
          141,
          151,
          173,
          149,
          130,
          117,
          153,
          181,
          157,
          165,
          148
         ],
         "textfont": {
          "size": 12
         },
         "textposition": "top center",
         "type": "scatter",
         "x": [
          "*New Name Pending*",
          "2014champ",
          "Comeback 👑’s",
          "Croccity Body Snatchers",
          "DangeRUSS Last Ride",
          "GusTheBus",
          "Idk much about soccer ",
          "Pretty Big Wieners",
          "Saskatoon Squatches ",
          "Verdanks Vacqueros FFC",
          "kevinbash",
          "📜 Providence 🪬 Spirits 🥂"
         ],
         "y": [
          128,
          141,
          151,
          173,
          149,
          130,
          117,
          153,
          181,
          157,
          165,
          148
         ]
        }
       ],
       "layout": {
        "barmode": "stack",
        "font": {
         "family": "Input Serif"
        },
        "legend": {
         "title": {
          "text": "position"
         },
         "tracegroupgap": 0
        },
        "margin": {
         "t": 60
        },
        "plot_bgcolor": "rgba(0,0,0,0)",
        "showlegend": false,
        "template": {
         "data": {
          "bar": [
           {
            "error_x": {
             "color": "#2a3f5f"
            },
            "error_y": {
             "color": "#2a3f5f"
            },
            "marker": {
             "line": {
              "color": "#E5ECF6",
              "width": 0.5
             },
             "pattern": {
              "fillmode": "overlay",
              "size": 10,
              "solidity": 0.2
             }
            },
            "type": "bar"
           }
          ],
          "barpolar": [
           {
            "marker": {
             "line": {
              "color": "#E5ECF6",
              "width": 0.5
             },
             "pattern": {
              "fillmode": "overlay",
              "size": 10,
              "solidity": 0.2
             }
            },
            "type": "barpolar"
           }
          ],
          "carpet": [
           {
            "aaxis": {
             "endlinecolor": "#2a3f5f",
             "gridcolor": "white",
             "linecolor": "white",
             "minorgridcolor": "white",
             "startlinecolor": "#2a3f5f"
            },
            "baxis": {
             "endlinecolor": "#2a3f5f",
             "gridcolor": "white",
             "linecolor": "white",
             "minorgridcolor": "white",
             "startlinecolor": "#2a3f5f"
            },
            "type": "carpet"
           }
          ],
          "choropleth": [
           {
            "colorbar": {
             "outlinewidth": 0,
             "ticks": ""
            },
            "type": "choropleth"
           }
          ],
          "contour": [
           {
            "colorbar": {
             "outlinewidth": 0,
             "ticks": ""
            },
            "colorscale": [
             [
              0,
              "#0d0887"
             ],
             [
              0.1111111111111111,
              "#46039f"
             ],
             [
              0.2222222222222222,
              "#7201a8"
             ],
             [
              0.3333333333333333,
              "#9c179e"
             ],
             [
              0.4444444444444444,
              "#bd3786"
             ],
             [
              0.5555555555555556,
              "#d8576b"
             ],
             [
              0.6666666666666666,
              "#ed7953"
             ],
             [
              0.7777777777777778,
              "#fb9f3a"
             ],
             [
              0.8888888888888888,
              "#fdca26"
             ],
             [
              1,
              "#f0f921"
             ]
            ],
            "type": "contour"
           }
          ],
          "contourcarpet": [
           {
            "colorbar": {
             "outlinewidth": 0,
             "ticks": ""
            },
            "type": "contourcarpet"
           }
          ],
          "heatmap": [
           {
            "colorbar": {
             "outlinewidth": 0,
             "ticks": ""
            },
            "colorscale": [
             [
              0,
              "#0d0887"
             ],
             [
              0.1111111111111111,
              "#46039f"
             ],
             [
              0.2222222222222222,
              "#7201a8"
             ],
             [
              0.3333333333333333,
              "#9c179e"
             ],
             [
              0.4444444444444444,
              "#bd3786"
             ],
             [
              0.5555555555555556,
              "#d8576b"
             ],
             [
              0.6666666666666666,
              "#ed7953"
             ],
             [
              0.7777777777777778,
              "#fb9f3a"
             ],
             [
              0.8888888888888888,
              "#fdca26"
             ],
             [
              1,
              "#f0f921"
             ]
            ],
            "type": "heatmap"
           }
          ],
          "heatmapgl": [
           {
            "colorbar": {
             "outlinewidth": 0,
             "ticks": ""
            },
            "colorscale": [
             [
              0,
              "#0d0887"
             ],
             [
              0.1111111111111111,
              "#46039f"
             ],
             [
              0.2222222222222222,
              "#7201a8"
             ],
             [
              0.3333333333333333,
              "#9c179e"
             ],
             [
              0.4444444444444444,
              "#bd3786"
             ],
             [
              0.5555555555555556,
              "#d8576b"
             ],
             [
              0.6666666666666666,
              "#ed7953"
             ],
             [
              0.7777777777777778,
              "#fb9f3a"
             ],
             [
              0.8888888888888888,
              "#fdca26"
             ],
             [
              1,
              "#f0f921"
             ]
            ],
            "type": "heatmapgl"
           }
          ],
          "histogram": [
           {
            "marker": {
             "pattern": {
              "fillmode": "overlay",
              "size": 10,
              "solidity": 0.2
             }
            },
            "type": "histogram"
           }
          ],
          "histogram2d": [
           {
            "colorbar": {
             "outlinewidth": 0,
             "ticks": ""
            },
            "colorscale": [
             [
              0,
              "#0d0887"
             ],
             [
              0.1111111111111111,
              "#46039f"
             ],
             [
              0.2222222222222222,
              "#7201a8"
             ],
             [
              0.3333333333333333,
              "#9c179e"
             ],
             [
              0.4444444444444444,
              "#bd3786"
             ],
             [
              0.5555555555555556,
              "#d8576b"
             ],
             [
              0.6666666666666666,
              "#ed7953"
             ],
             [
              0.7777777777777778,
              "#fb9f3a"
             ],
             [
              0.8888888888888888,
              "#fdca26"
             ],
             [
              1,
              "#f0f921"
             ]
            ],
            "type": "histogram2d"
           }
          ],
          "histogram2dcontour": [
           {
            "colorbar": {
             "outlinewidth": 0,
             "ticks": ""
            },
            "colorscale": [
             [
              0,
              "#0d0887"
             ],
             [
              0.1111111111111111,
              "#46039f"
             ],
             [
              0.2222222222222222,
              "#7201a8"
             ],
             [
              0.3333333333333333,
              "#9c179e"
             ],
             [
              0.4444444444444444,
              "#bd3786"
             ],
             [
              0.5555555555555556,
              "#d8576b"
             ],
             [
              0.6666666666666666,
              "#ed7953"
             ],
             [
              0.7777777777777778,
              "#fb9f3a"
             ],
             [
              0.8888888888888888,
              "#fdca26"
             ],
             [
              1,
              "#f0f921"
             ]
            ],
            "type": "histogram2dcontour"
           }
          ],
          "mesh3d": [
           {
            "colorbar": {
             "outlinewidth": 0,
             "ticks": ""
            },
            "type": "mesh3d"
           }
          ],
          "parcoords": [
           {
            "line": {
             "colorbar": {
              "outlinewidth": 0,
              "ticks": ""
             }
            },
            "type": "parcoords"
           }
          ],
          "pie": [
           {
            "automargin": true,
            "type": "pie"
           }
          ],
          "scatter": [
           {
            "fillpattern": {
             "fillmode": "overlay",
             "size": 10,
             "solidity": 0.2
            },
            "type": "scatter"
           }
          ],
          "scatter3d": [
           {
            "line": {
             "colorbar": {
              "outlinewidth": 0,
              "ticks": ""
             }
            },
            "marker": {
             "colorbar": {
              "outlinewidth": 0,
              "ticks": ""
             }
            },
            "type": "scatter3d"
           }
          ],
          "scattercarpet": [
           {
            "marker": {
             "colorbar": {
              "outlinewidth": 0,
              "ticks": ""
             }
            },
            "type": "scattercarpet"
           }
          ],
          "scattergeo": [
           {
            "marker": {
             "colorbar": {
              "outlinewidth": 0,
              "ticks": ""
             }
            },
            "type": "scattergeo"
           }
          ],
          "scattergl": [
           {
            "marker": {
             "colorbar": {
              "outlinewidth": 0,
              "ticks": ""
             }
            },
            "type": "scattergl"
           }
          ],
          "scattermapbox": [
           {
            "marker": {
             "colorbar": {
              "outlinewidth": 0,
              "ticks": ""
             }
            },
            "type": "scattermapbox"
           }
          ],
          "scatterpolar": [
           {
            "marker": {
             "colorbar": {
              "outlinewidth": 0,
              "ticks": ""
             }
            },
            "type": "scatterpolar"
           }
          ],
          "scatterpolargl": [
           {
            "marker": {
             "colorbar": {
              "outlinewidth": 0,
              "ticks": ""
             }
            },
            "type": "scatterpolargl"
           }
          ],
          "scatterternary": [
           {
            "marker": {
             "colorbar": {
              "outlinewidth": 0,
              "ticks": ""
             }
            },
            "type": "scatterternary"
           }
          ],
          "surface": [
           {
            "colorbar": {
             "outlinewidth": 0,
             "ticks": ""
            },
            "colorscale": [
             [
              0,
              "#0d0887"
             ],
             [
              0.1111111111111111,
              "#46039f"
             ],
             [
              0.2222222222222222,
              "#7201a8"
             ],
             [
              0.3333333333333333,
              "#9c179e"
             ],
             [
              0.4444444444444444,
              "#bd3786"
             ],
             [
              0.5555555555555556,
              "#d8576b"
             ],
             [
              0.6666666666666666,
              "#ed7953"
             ],
             [
              0.7777777777777778,
              "#fb9f3a"
             ],
             [
              0.8888888888888888,
              "#fdca26"
             ],
             [
              1,
              "#f0f921"
             ]
            ],
            "type": "surface"
           }
          ],
          "table": [
           {
            "cells": {
             "fill": {
              "color": "#EBF0F8"
             },
             "line": {
              "color": "white"
             }
            },
            "header": {
             "fill": {
              "color": "#C8D4E3"
             },
             "line": {
              "color": "white"
             }
            },
            "type": "table"
           }
          ]
         },
         "layout": {
          "annotationdefaults": {
           "arrowcolor": "#2a3f5f",
           "arrowhead": 0,
           "arrowwidth": 1
          },
          "autotypenumbers": "strict",
          "coloraxis": {
           "colorbar": {
            "outlinewidth": 0,
            "ticks": ""
           }
          },
          "colorscale": {
           "diverging": [
            [
             0,
             "#8e0152"
            ],
            [
             0.1,
             "#c51b7d"
            ],
            [
             0.2,
             "#de77ae"
            ],
            [
             0.3,
             "#f1b6da"
            ],
            [
             0.4,
             "#fde0ef"
            ],
            [
             0.5,
             "#f7f7f7"
            ],
            [
             0.6,
             "#e6f5d0"
            ],
            [
             0.7,
             "#b8e186"
            ],
            [
             0.8,
             "#7fbc41"
            ],
            [
             0.9,
             "#4d9221"
            ],
            [
             1,
             "#276419"
            ]
           ],
           "sequential": [
            [
             0,
             "#0d0887"
            ],
            [
             0.1111111111111111,
             "#46039f"
            ],
            [
             0.2222222222222222,
             "#7201a8"
            ],
            [
             0.3333333333333333,
             "#9c179e"
            ],
            [
             0.4444444444444444,
             "#bd3786"
            ],
            [
             0.5555555555555556,
             "#d8576b"
            ],
            [
             0.6666666666666666,
             "#ed7953"
            ],
            [
             0.7777777777777778,
             "#fb9f3a"
            ],
            [
             0.8888888888888888,
             "#fdca26"
            ],
            [
             1,
             "#f0f921"
            ]
           ],
           "sequentialminus": [
            [
             0,
             "#0d0887"
            ],
            [
             0.1111111111111111,
             "#46039f"
            ],
            [
             0.2222222222222222,
             "#7201a8"
            ],
            [
             0.3333333333333333,
             "#9c179e"
            ],
            [
             0.4444444444444444,
             "#bd3786"
            ],
            [
             0.5555555555555556,
             "#d8576b"
            ],
            [
             0.6666666666666666,
             "#ed7953"
            ],
            [
             0.7777777777777778,
             "#fb9f3a"
            ],
            [
             0.8888888888888888,
             "#fdca26"
            ],
            [
             1,
             "#f0f921"
            ]
           ]
          },
          "colorway": [
           "#636efa",
           "#EF553B",
           "#00cc96",
           "#ab63fa",
           "#FFA15A",
           "#19d3f3",
           "#FF6692",
           "#B6E880",
           "#FF97FF",
           "#FECB52"
          ],
          "font": {
           "color": "#2a3f5f"
          },
          "geo": {
           "bgcolor": "white",
           "lakecolor": "white",
           "landcolor": "#E5ECF6",
           "showlakes": true,
           "showland": true,
           "subunitcolor": "white"
          },
          "hoverlabel": {
           "align": "left"
          },
          "hovermode": "closest",
          "mapbox": {
           "style": "light"
          },
          "paper_bgcolor": "white",
          "plot_bgcolor": "#E5ECF6",
          "polar": {
           "angularaxis": {
            "gridcolor": "white",
            "linecolor": "white",
            "ticks": ""
           },
           "bgcolor": "#E5ECF6",
           "radialaxis": {
            "gridcolor": "white",
            "linecolor": "white",
            "ticks": ""
           }
          },
          "scene": {
           "xaxis": {
            "backgroundcolor": "#E5ECF6",
            "gridcolor": "white",
            "gridwidth": 2,
            "linecolor": "white",
            "showbackground": true,
            "ticks": "",
            "zerolinecolor": "white"
           },
           "yaxis": {
            "backgroundcolor": "#E5ECF6",
            "gridcolor": "white",
            "gridwidth": 2,
            "linecolor": "white",
            "showbackground": true,
            "ticks": "",
            "zerolinecolor": "white"
           },
           "zaxis": {
            "backgroundcolor": "#E5ECF6",
            "gridcolor": "white",
            "gridwidth": 2,
            "linecolor": "white",
            "showbackground": true,
            "ticks": "",
            "zerolinecolor": "white"
           }
          },
          "shapedefaults": {
           "line": {
            "color": "#2a3f5f"
           }
          },
          "ternary": {
           "aaxis": {
            "gridcolor": "white",
            "linecolor": "white",
            "ticks": ""
           },
           "baxis": {
            "gridcolor": "white",
            "linecolor": "white",
            "ticks": ""
           },
           "bgcolor": "#E5ECF6",
           "caxis": {
            "gridcolor": "white",
            "linecolor": "white",
            "ticks": ""
           }
          },
          "title": {
           "x": 0.05
          },
          "xaxis": {
           "automargin": true,
           "gridcolor": "white",
           "linecolor": "white",
           "ticks": "",
           "title": {
            "standoff": 15
           },
           "zerolinecolor": "white",
           "zerolinewidth": 2
          },
          "yaxis": {
           "automargin": true,
           "gridcolor": "white",
           "linecolor": "white",
           "ticks": "",
           "title": {
            "standoff": 15
           },
           "zerolinecolor": "white",
           "zerolinewidth": 2
          }
         }
        },
        "title": {
         "text": "Franchise Comparison"
        },
        "xaxis": {
         "anchor": "y",
         "domain": [
          0,
          1
         ],
         "title": {}
        },
        "yaxis": {
         "anchor": "x",
         "domain": [
          0,
          1
         ],
         "title": {
          "text": "Relative Value"
         },
         "visible": false
        }
       }
      }
     },
     "metadata": {},
     "output_type": "display_data"
    }
   ],
   "source": [
    "# Sum points across the season\n",
    "optimized = getSeasonTotals(optimized)\n",
    "# Visualize\n",
    "fig = compareFranchises(optimized, how='relative')\n",
    "fig.show()"
   ]
  },
  {
   "cell_type": "code",
   "execution_count": 60,
   "metadata": {},
   "outputs": [
    {
     "data": {
      "text/html": [
       "<div>\n",
       "<style scoped>\n",
       "    .dataframe tbody tr th:only-of-type {\n",
       "        vertical-align: middle;\n",
       "    }\n",
       "\n",
       "    .dataframe tbody tr th {\n",
       "        vertical-align: top;\n",
       "    }\n",
       "\n",
       "    .dataframe thead th {\n",
       "        text-align: right;\n",
       "    }\n",
       "</style>\n",
       "<table border=\"1\" class=\"dataframe\">\n",
       "  <thead>\n",
       "    <tr style=\"text-align: right;\">\n",
       "      <th></th>\n",
       "      <th>player_id</th>\n",
       "      <th>full_name</th>\n",
       "      <th>birth_date</th>\n",
       "      <th>age</th>\n",
       "      <th>weight</th>\n",
       "      <th>height</th>\n",
       "      <th>team</th>\n",
       "      <th>position</th>\n",
       "      <th>fantasy_positions</th>\n",
       "      <th>depth_chart_order</th>\n",
       "      <th>...</th>\n",
       "      <th>date_prediction</th>\n",
       "      <th>owner_id</th>\n",
       "      <th>taxi</th>\n",
       "      <th>starters</th>\n",
       "      <th>players</th>\n",
       "      <th>user_id</th>\n",
       "      <th>franchise_name</th>\n",
       "      <th>display_name</th>\n",
       "      <th>pts_proj</th>\n",
       "      <th>val_proj</th>\n",
       "    </tr>\n",
       "  </thead>\n",
       "  <tbody>\n",
       "    <tr>\n",
       "      <th>0</th>\n",
       "      <td>4234</td>\n",
       "      <td>Noah Brown</td>\n",
       "      <td>1996-01-06</td>\n",
       "      <td>27.0</td>\n",
       "      <td>215.0</td>\n",
       "      <td>74</td>\n",
       "      <td>HOU</td>\n",
       "      <td>WR</td>\n",
       "      <td>['WR']</td>\n",
       "      <td>NaN</td>\n",
       "      <td>...</td>\n",
       "      <td>20231010</td>\n",
       "      <td>NaN</td>\n",
       "      <td>NaN</td>\n",
       "      <td>NaN</td>\n",
       "      <td>NaN</td>\n",
       "      <td>NaN</td>\n",
       "      <td>NaN</td>\n",
       "      <td>NaN</td>\n",
       "      <td>26.940</td>\n",
       "      <td>0.000</td>\n",
       "    </tr>\n",
       "    <tr>\n",
       "      <th>1</th>\n",
       "      <td>2251</td>\n",
       "      <td>Logan Thomas</td>\n",
       "      <td>1991-07-01</td>\n",
       "      <td>32.0</td>\n",
       "      <td>250.0</td>\n",
       "      <td>78</td>\n",
       "      <td>WAS</td>\n",
       "      <td>TE</td>\n",
       "      <td>['TE']</td>\n",
       "      <td>1.0</td>\n",
       "      <td>...</td>\n",
       "      <td>20231010</td>\n",
       "      <td>904381167934095360</td>\n",
       "      <td>NaN</td>\n",
       "      <td>True</td>\n",
       "      <td>True</td>\n",
       "      <td>904381167934095360</td>\n",
       "      <td>GusTheBus</td>\n",
       "      <td>mdwglobe</td>\n",
       "      <td>60.445</td>\n",
       "      <td>44.925</td>\n",
       "    </tr>\n",
       "    <tr>\n",
       "      <th>2</th>\n",
       "      <td>7922</td>\n",
       "      <td>Riley Patterson</td>\n",
       "      <td>1999-09-07</td>\n",
       "      <td>24.0</td>\n",
       "      <td>195.0</td>\n",
       "      <td>72</td>\n",
       "      <td>DET</td>\n",
       "      <td>PK</td>\n",
       "      <td>['K']</td>\n",
       "      <td>1.0</td>\n",
       "      <td>...</td>\n",
       "      <td>20231010</td>\n",
       "      <td>904398822170636288</td>\n",
       "      <td>NaN</td>\n",
       "      <td>True</td>\n",
       "      <td>True</td>\n",
       "      <td>904398822170636288</td>\n",
       "      <td>Saskatoon Squatches</td>\n",
       "      <td>SpacemnSpiff</td>\n",
       "      <td>90.020</td>\n",
       "      <td>90.020</td>\n",
       "    </tr>\n",
       "    <tr>\n",
       "      <th>3</th>\n",
       "      <td>10216</td>\n",
       "      <td>Kenny McIntosh</td>\n",
       "      <td>2000-03-03</td>\n",
       "      <td>23.0</td>\n",
       "      <td>210.0</td>\n",
       "      <td>72</td>\n",
       "      <td>SEA</td>\n",
       "      <td>RB</td>\n",
       "      <td>['RB']</td>\n",
       "      <td>NaN</td>\n",
       "      <td>...</td>\n",
       "      <td>20231010</td>\n",
       "      <td>208058775418961920</td>\n",
       "      <td>NaN</td>\n",
       "      <td>NaN</td>\n",
       "      <td>True</td>\n",
       "      <td>208058775418961920</td>\n",
       "      <td>📜 Providence 🪬 Spirits 🥂</td>\n",
       "      <td>ethrec</td>\n",
       "      <td>9.639</td>\n",
       "      <td>0.906</td>\n",
       "    </tr>\n",
       "    <tr>\n",
       "      <th>4</th>\n",
       "      <td>6865</td>\n",
       "      <td>Colby Parkinson</td>\n",
       "      <td>1999-01-08</td>\n",
       "      <td>24.0</td>\n",
       "      <td>251.0</td>\n",
       "      <td>79</td>\n",
       "      <td>SEA</td>\n",
       "      <td>TE</td>\n",
       "      <td>['TE']</td>\n",
       "      <td>2.0</td>\n",
       "      <td>...</td>\n",
       "      <td>20231010</td>\n",
       "      <td>NaN</td>\n",
       "      <td>NaN</td>\n",
       "      <td>NaN</td>\n",
       "      <td>NaN</td>\n",
       "      <td>NaN</td>\n",
       "      <td>NaN</td>\n",
       "      <td>NaN</td>\n",
       "      <td>32.885</td>\n",
       "      <td>0.000</td>\n",
       "    </tr>\n",
       "    <tr>\n",
       "      <th>...</th>\n",
       "      <td>...</td>\n",
       "      <td>...</td>\n",
       "      <td>...</td>\n",
       "      <td>...</td>\n",
       "      <td>...</td>\n",
       "      <td>...</td>\n",
       "      <td>...</td>\n",
       "      <td>...</td>\n",
       "      <td>...</td>\n",
       "      <td>...</td>\n",
       "      <td>...</td>\n",
       "      <td>...</td>\n",
       "      <td>...</td>\n",
       "      <td>...</td>\n",
       "      <td>...</td>\n",
       "      <td>...</td>\n",
       "      <td>...</td>\n",
       "      <td>...</td>\n",
       "      <td>...</td>\n",
       "      <td>...</td>\n",
       "      <td>...</td>\n",
       "    </tr>\n",
       "    <tr>\n",
       "      <th>503</th>\n",
       "      <td>6783</td>\n",
       "      <td>Jerry Jeudy</td>\n",
       "      <td>1999-04-24</td>\n",
       "      <td>24.0</td>\n",
       "      <td>193.0</td>\n",
       "      <td>73</td>\n",
       "      <td>DEN</td>\n",
       "      <td>WR</td>\n",
       "      <td>['WR']</td>\n",
       "      <td>1.0</td>\n",
       "      <td>...</td>\n",
       "      <td>20231010</td>\n",
       "      <td>904398822170636288</td>\n",
       "      <td>NaN</td>\n",
       "      <td>NaN</td>\n",
       "      <td>True</td>\n",
       "      <td>904398822170636288</td>\n",
       "      <td>Saskatoon Squatches</td>\n",
       "      <td>SpacemnSpiff</td>\n",
       "      <td>91.125</td>\n",
       "      <td>40.575</td>\n",
       "    </tr>\n",
       "    <tr>\n",
       "      <th>504</th>\n",
       "      <td>5038</td>\n",
       "      <td>Michael Gallup</td>\n",
       "      <td>1996-03-04</td>\n",
       "      <td>27.0</td>\n",
       "      <td>198.0</td>\n",
       "      <td>73</td>\n",
       "      <td>DAL</td>\n",
       "      <td>WR</td>\n",
       "      <td>['WR']</td>\n",
       "      <td>1.0</td>\n",
       "      <td>...</td>\n",
       "      <td>20231010</td>\n",
       "      <td>904399374891855872</td>\n",
       "      <td>NaN</td>\n",
       "      <td>NaN</td>\n",
       "      <td>True</td>\n",
       "      <td>904399374891855872</td>\n",
       "      <td>Comeback 👑’s</td>\n",
       "      <td>comebackking15</td>\n",
       "      <td>55.787</td>\n",
       "      <td>19.896</td>\n",
       "    </tr>\n",
       "    <tr>\n",
       "      <th>505</th>\n",
       "      <td>6786</td>\n",
       "      <td>CeeDee Lamb</td>\n",
       "      <td>1999-04-08</td>\n",
       "      <td>24.0</td>\n",
       "      <td>200.0</td>\n",
       "      <td>74</td>\n",
       "      <td>DAL</td>\n",
       "      <td>WR</td>\n",
       "      <td>['WR']</td>\n",
       "      <td>1.0</td>\n",
       "      <td>...</td>\n",
       "      <td>20231010</td>\n",
       "      <td>342869377223385088</td>\n",
       "      <td>NaN</td>\n",
       "      <td>True</td>\n",
       "      <td>True</td>\n",
       "      <td>342869377223385088</td>\n",
       "      <td>*New Name Pending*</td>\n",
       "      <td>nrector</td>\n",
       "      <td>137.800</td>\n",
       "      <td>137.800</td>\n",
       "    </tr>\n",
       "    <tr>\n",
       "      <th>506</th>\n",
       "      <td>6918</td>\n",
       "      <td>Salvon Ahmed</td>\n",
       "      <td>1998-12-30</td>\n",
       "      <td>24.0</td>\n",
       "      <td>197.0</td>\n",
       "      <td>71</td>\n",
       "      <td>MIA</td>\n",
       "      <td>RB</td>\n",
       "      <td>['RB']</td>\n",
       "      <td>3.0</td>\n",
       "      <td>...</td>\n",
       "      <td>20231010</td>\n",
       "      <td>NaN</td>\n",
       "      <td>NaN</td>\n",
       "      <td>NaN</td>\n",
       "      <td>NaN</td>\n",
       "      <td>NaN</td>\n",
       "      <td>NaN</td>\n",
       "      <td>NaN</td>\n",
       "      <td>12.355</td>\n",
       "      <td>0.000</td>\n",
       "    </tr>\n",
       "    <tr>\n",
       "      <th>507</th>\n",
       "      <td>11533</td>\n",
       "      <td>Brandon Aubrey</td>\n",
       "      <td>1995-03-14</td>\n",
       "      <td>28.0</td>\n",
       "      <td>208.0</td>\n",
       "      <td>75</td>\n",
       "      <td>DAL</td>\n",
       "      <td>PK</td>\n",
       "      <td>['K']</td>\n",
       "      <td>1.0</td>\n",
       "      <td>...</td>\n",
       "      <td>20231010</td>\n",
       "      <td>905172334586535936</td>\n",
       "      <td>NaN</td>\n",
       "      <td>True</td>\n",
       "      <td>True</td>\n",
       "      <td>905172334586535936</td>\n",
       "      <td>kevinbash</td>\n",
       "      <td>kevinbash</td>\n",
       "      <td>110.250</td>\n",
       "      <td>110.250</td>\n",
       "    </tr>\n",
       "  </tbody>\n",
       "</table>\n",
       "<p>508 rows × 65 columns</p>\n",
       "</div>"
      ],
      "text/plain": [
       "    player_id        full_name  birth_date   age  weight height team position  \\\n",
       "0        4234       Noah Brown  1996-01-06  27.0   215.0     74  HOU       WR   \n",
       "1        2251     Logan Thomas  1991-07-01  32.0   250.0     78  WAS       TE   \n",
       "2        7922  Riley Patterson  1999-09-07  24.0   195.0     72  DET       PK   \n",
       "3       10216   Kenny McIntosh  2000-03-03  23.0   210.0     72  SEA       RB   \n",
       "4        6865  Colby Parkinson  1999-01-08  24.0   251.0     79  SEA       TE   \n",
       "..        ...              ...         ...   ...     ...    ...  ...      ...   \n",
       "503      6783      Jerry Jeudy  1999-04-24  24.0   193.0     73  DEN       WR   \n",
       "504      5038   Michael Gallup  1996-03-04  27.0   198.0     73  DAL       WR   \n",
       "505      6786      CeeDee Lamb  1999-04-08  24.0   200.0     74  DAL       WR   \n",
       "506      6918     Salvon Ahmed  1998-12-30  24.0   197.0     71  MIA       RB   \n",
       "507     11533   Brandon Aubrey  1995-03-14  28.0   208.0     75  DAL       PK   \n",
       "\n",
       "    fantasy_positions  depth_chart_order  ... date_prediction  \\\n",
       "0              ['WR']                NaN  ...        20231010   \n",
       "1              ['TE']                1.0  ...        20231010   \n",
       "2               ['K']                1.0  ...        20231010   \n",
       "3              ['RB']                NaN  ...        20231010   \n",
       "4              ['TE']                2.0  ...        20231010   \n",
       "..                ...                ...  ...             ...   \n",
       "503            ['WR']                1.0  ...        20231010   \n",
       "504            ['WR']                1.0  ...        20231010   \n",
       "505            ['WR']                1.0  ...        20231010   \n",
       "506            ['RB']                3.0  ...        20231010   \n",
       "507             ['K']                1.0  ...        20231010   \n",
       "\n",
       "               owner_id taxi starters  players             user_id  \\\n",
       "0                   NaN  NaN      NaN      NaN                 NaN   \n",
       "1    904381167934095360  NaN     True     True  904381167934095360   \n",
       "2    904398822170636288  NaN     True     True  904398822170636288   \n",
       "3    208058775418961920  NaN      NaN     True  208058775418961920   \n",
       "4                   NaN  NaN      NaN      NaN                 NaN   \n",
       "..                  ...  ...      ...      ...                 ...   \n",
       "503  904398822170636288  NaN      NaN     True  904398822170636288   \n",
       "504  904399374891855872  NaN      NaN     True  904399374891855872   \n",
       "505  342869377223385088  NaN     True     True  342869377223385088   \n",
       "506                 NaN  NaN      NaN      NaN                 NaN   \n",
       "507  905172334586535936  NaN     True     True  905172334586535936   \n",
       "\n",
       "               franchise_name    display_name  pts_proj val_proj  \n",
       "0                         NaN             NaN    26.940    0.000  \n",
       "1                   GusTheBus        mdwglobe    60.445   44.925  \n",
       "2        Saskatoon Squatches     SpacemnSpiff    90.020   90.020  \n",
       "3    📜 Providence 🪬 Spirits 🥂          ethrec     9.639    0.906  \n",
       "4                         NaN             NaN    32.885    0.000  \n",
       "..                        ...             ...       ...      ...  \n",
       "503      Saskatoon Squatches     SpacemnSpiff    91.125   40.575  \n",
       "504              Comeback 👑’s  comebackking15    55.787   19.896  \n",
       "505        *New Name Pending*         nrector   137.800  137.800  \n",
       "506                       NaN             NaN    12.355    0.000  \n",
       "507                 kevinbash       kevinbash   110.250  110.250  \n",
       "\n",
       "[508 rows x 65 columns]"
      ]
     },
     "execution_count": 60,
     "metadata": {},
     "output_type": "execute_result"
    }
   ],
   "source": [
    "optimized"
   ]
  },
  {
   "cell_type": "code",
   "execution_count": 76,
   "metadata": {},
   "outputs": [
    {
     "data": {
      "text/html": [
       "<div>\n",
       "<style scoped>\n",
       "    .dataframe tbody tr th:only-of-type {\n",
       "        vertical-align: middle;\n",
       "    }\n",
       "\n",
       "    .dataframe tbody tr th {\n",
       "        vertical-align: top;\n",
       "    }\n",
       "\n",
       "    .dataframe thead th {\n",
       "        text-align: right;\n",
       "    }\n",
       "</style>\n",
       "<table border=\"1\" class=\"dataframe\">\n",
       "  <thead>\n",
       "    <tr style=\"text-align: right;\">\n",
       "      <th></th>\n",
       "      <th>player_id</th>\n",
       "      <th>full_name</th>\n",
       "      <th>birth_date</th>\n",
       "      <th>age</th>\n",
       "      <th>weight</th>\n",
       "      <th>height</th>\n",
       "      <th>team</th>\n",
       "      <th>position</th>\n",
       "      <th>fantasy_positions</th>\n",
       "      <th>depth_chart_order</th>\n",
       "      <th>...</th>\n",
       "      <th>date_prediction</th>\n",
       "      <th>owner_id</th>\n",
       "      <th>taxi</th>\n",
       "      <th>starters</th>\n",
       "      <th>players</th>\n",
       "      <th>user_id</th>\n",
       "      <th>franchise_name</th>\n",
       "      <th>display_name</th>\n",
       "      <th>pts_proj</th>\n",
       "      <th>val_proj</th>\n",
       "    </tr>\n",
       "  </thead>\n",
       "  <tbody>\n",
       "    <tr>\n",
       "      <th>50</th>\n",
       "      <td>DEN</td>\n",
       "      <td>DEN</td>\n",
       "      <td>NaN</td>\n",
       "      <td>NaN</td>\n",
       "      <td>NaN</td>\n",
       "      <td>NaN</td>\n",
       "      <td>DEN</td>\n",
       "      <td>DEF</td>\n",
       "      <td>['DEF']</td>\n",
       "      <td>NaN</td>\n",
       "      <td>...</td>\n",
       "      <td>20231116</td>\n",
       "      <td>725907041763303424</td>\n",
       "      <td>NaN</td>\n",
       "      <td>NaN</td>\n",
       "      <td>True</td>\n",
       "      <td>725907041763303424</td>\n",
       "      <td>Croccity Body Snatchers</td>\n",
       "      <td>dirtywizard</td>\n",
       "      <td>-0.1900</td>\n",
       "      <td>0.0000</td>\n",
       "    </tr>\n",
       "    <tr>\n",
       "      <th>82</th>\n",
       "      <td>9222</td>\n",
       "      <td>Zach Evans</td>\n",
       "      <td>2001-05-30</td>\n",
       "      <td>22.0</td>\n",
       "      <td>202.0</td>\n",
       "      <td>71</td>\n",
       "      <td>LAR</td>\n",
       "      <td>RB</td>\n",
       "      <td>['RB']</td>\n",
       "      <td>3.0</td>\n",
       "      <td>...</td>\n",
       "      <td>20231116</td>\n",
       "      <td>725907041763303424</td>\n",
       "      <td>True</td>\n",
       "      <td>NaN</td>\n",
       "      <td>True</td>\n",
       "      <td>725907041763303424</td>\n",
       "      <td>Croccity Body Snatchers</td>\n",
       "      <td>dirtywizard</td>\n",
       "      <td>0.8250</td>\n",
       "      <td>0.0000</td>\n",
       "    </tr>\n",
       "    <tr>\n",
       "      <th>167</th>\n",
       "      <td>8181</td>\n",
       "      <td>Connor Heyward</td>\n",
       "      <td>1999-01-22</td>\n",
       "      <td>24.0</td>\n",
       "      <td>230.0</td>\n",
       "      <td>72</td>\n",
       "      <td>PIT</td>\n",
       "      <td>TE</td>\n",
       "      <td>['TE']</td>\n",
       "      <td>2.0</td>\n",
       "      <td>...</td>\n",
       "      <td>20231116</td>\n",
       "      <td>725907041763303424</td>\n",
       "      <td>NaN</td>\n",
       "      <td>NaN</td>\n",
       "      <td>True</td>\n",
       "      <td>725907041763303424</td>\n",
       "      <td>Croccity Body Snatchers</td>\n",
       "      <td>dirtywizard</td>\n",
       "      <td>1.9200</td>\n",
       "      <td>0.0000</td>\n",
       "    </tr>\n",
       "    <tr>\n",
       "      <th>106</th>\n",
       "      <td>SF</td>\n",
       "      <td>SF</td>\n",
       "      <td>NaN</td>\n",
       "      <td>NaN</td>\n",
       "      <td>NaN</td>\n",
       "      <td>NaN</td>\n",
       "      <td>SF</td>\n",
       "      <td>DEF</td>\n",
       "      <td>['DEF']</td>\n",
       "      <td>NaN</td>\n",
       "      <td>...</td>\n",
       "      <td>20231116</td>\n",
       "      <td>725907041763303424</td>\n",
       "      <td>NaN</td>\n",
       "      <td>True</td>\n",
       "      <td>True</td>\n",
       "      <td>725907041763303424</td>\n",
       "      <td>Croccity Body Snatchers</td>\n",
       "      <td>dirtywizard</td>\n",
       "      <td>2.6363</td>\n",
       "      <td>2.6363</td>\n",
       "    </tr>\n",
       "    <tr>\n",
       "      <th>301</th>\n",
       "      <td>3271</td>\n",
       "      <td>Tyler Higbee</td>\n",
       "      <td>1993-01-01</td>\n",
       "      <td>30.0</td>\n",
       "      <td>255.0</td>\n",
       "      <td>78</td>\n",
       "      <td>LAR</td>\n",
       "      <td>TE</td>\n",
       "      <td>['TE']</td>\n",
       "      <td>1.0</td>\n",
       "      <td>...</td>\n",
       "      <td>20231116</td>\n",
       "      <td>725907041763303424</td>\n",
       "      <td>NaN</td>\n",
       "      <td>True</td>\n",
       "      <td>True</td>\n",
       "      <td>725907041763303424</td>\n",
       "      <td>Croccity Body Snatchers</td>\n",
       "      <td>dirtywizard</td>\n",
       "      <td>4.7360</td>\n",
       "      <td>4.7360</td>\n",
       "    </tr>\n",
       "    <tr>\n",
       "      <th>280</th>\n",
       "      <td>8225</td>\n",
       "      <td>Daniel Bellinger</td>\n",
       "      <td>2000-09-22</td>\n",
       "      <td>23.0</td>\n",
       "      <td>255.0</td>\n",
       "      <td>78</td>\n",
       "      <td>NYG</td>\n",
       "      <td>TE</td>\n",
       "      <td>['TE']</td>\n",
       "      <td>1.0</td>\n",
       "      <td>...</td>\n",
       "      <td>20231116</td>\n",
       "      <td>725907041763303424</td>\n",
       "      <td>NaN</td>\n",
       "      <td>True</td>\n",
       "      <td>True</td>\n",
       "      <td>725907041763303424</td>\n",
       "      <td>Croccity Body Snatchers</td>\n",
       "      <td>dirtywizard</td>\n",
       "      <td>4.9260</td>\n",
       "      <td>4.9260</td>\n",
       "    </tr>\n",
       "    <tr>\n",
       "      <th>343</th>\n",
       "      <td>5185</td>\n",
       "      <td>Allen Lazard</td>\n",
       "      <td>1995-12-11</td>\n",
       "      <td>27.0</td>\n",
       "      <td>227.0</td>\n",
       "      <td>77</td>\n",
       "      <td>NYJ</td>\n",
       "      <td>WR</td>\n",
       "      <td>['WR']</td>\n",
       "      <td>2.0</td>\n",
       "      <td>...</td>\n",
       "      <td>20231116</td>\n",
       "      <td>725907041763303424</td>\n",
       "      <td>NaN</td>\n",
       "      <td>NaN</td>\n",
       "      <td>True</td>\n",
       "      <td>725907041763303424</td>\n",
       "      <td>Croccity Body Snatchers</td>\n",
       "      <td>dirtywizard</td>\n",
       "      <td>4.9710</td>\n",
       "      <td>0.0000</td>\n",
       "    </tr>\n",
       "    <tr>\n",
       "      <th>348</th>\n",
       "      <td>7066</td>\n",
       "      <td>K.J. Osborn</td>\n",
       "      <td>1997-06-10</td>\n",
       "      <td>26.0</td>\n",
       "      <td>203.0</td>\n",
       "      <td>71</td>\n",
       "      <td>MIN</td>\n",
       "      <td>WR</td>\n",
       "      <td>['WR']</td>\n",
       "      <td>3.0</td>\n",
       "      <td>...</td>\n",
       "      <td>20231116</td>\n",
       "      <td>725907041763303424</td>\n",
       "      <td>NaN</td>\n",
       "      <td>NaN</td>\n",
       "      <td>True</td>\n",
       "      <td>725907041763303424</td>\n",
       "      <td>Croccity Body Snatchers</td>\n",
       "      <td>dirtywizard</td>\n",
       "      <td>5.6020</td>\n",
       "      <td>0.0000</td>\n",
       "    </tr>\n",
       "    <tr>\n",
       "      <th>281</th>\n",
       "      <td>WAS</td>\n",
       "      <td>WAS</td>\n",
       "      <td>NaN</td>\n",
       "      <td>NaN</td>\n",
       "      <td>NaN</td>\n",
       "      <td>NaN</td>\n",
       "      <td>WAS</td>\n",
       "      <td>DEF</td>\n",
       "      <td>['DEF']</td>\n",
       "      <td>NaN</td>\n",
       "      <td>...</td>\n",
       "      <td>20231116</td>\n",
       "      <td>725907041763303424</td>\n",
       "      <td>NaN</td>\n",
       "      <td>True</td>\n",
       "      <td>True</td>\n",
       "      <td>725907041763303424</td>\n",
       "      <td>Croccity Body Snatchers</td>\n",
       "      <td>dirtywizard</td>\n",
       "      <td>5.6205</td>\n",
       "      <td>5.6205</td>\n",
       "    </tr>\n",
       "    <tr>\n",
       "      <th>345</th>\n",
       "      <td>8259</td>\n",
       "      <td>Cameron Dicker</td>\n",
       "      <td>2000-05-06</td>\n",
       "      <td>23.0</td>\n",
       "      <td>216.0</td>\n",
       "      <td>73</td>\n",
       "      <td>LAC</td>\n",
       "      <td>PK</td>\n",
       "      <td>['K']</td>\n",
       "      <td>1.0</td>\n",
       "      <td>...</td>\n",
       "      <td>20231116</td>\n",
       "      <td>725907041763303424</td>\n",
       "      <td>True</td>\n",
       "      <td>NaN</td>\n",
       "      <td>True</td>\n",
       "      <td>725907041763303424</td>\n",
       "      <td>Croccity Body Snatchers</td>\n",
       "      <td>dirtywizard</td>\n",
       "      <td>8.8500</td>\n",
       "      <td>0.0000</td>\n",
       "    </tr>\n",
       "    <tr>\n",
       "      <th>193</th>\n",
       "      <td>5848</td>\n",
       "      <td>Marquise Brown</td>\n",
       "      <td>1997-06-04</td>\n",
       "      <td>26.0</td>\n",
       "      <td>180.0</td>\n",
       "      <td>69</td>\n",
       "      <td>ARI</td>\n",
       "      <td>WR</td>\n",
       "      <td>['WR']</td>\n",
       "      <td>1.0</td>\n",
       "      <td>...</td>\n",
       "      <td>20231116</td>\n",
       "      <td>725907041763303424</td>\n",
       "      <td>NaN</td>\n",
       "      <td>True</td>\n",
       "      <td>True</td>\n",
       "      <td>725907041763303424</td>\n",
       "      <td>Croccity Body Snatchers</td>\n",
       "      <td>dirtywizard</td>\n",
       "      <td>9.2750</td>\n",
       "      <td>0.0000</td>\n",
       "    </tr>\n",
       "    <tr>\n",
       "      <th>210</th>\n",
       "      <td>10229</td>\n",
       "      <td>Rashee Rice</td>\n",
       "      <td>2000-04-22</td>\n",
       "      <td>23.0</td>\n",
       "      <td>203.0</td>\n",
       "      <td>74</td>\n",
       "      <td>KC</td>\n",
       "      <td>WR</td>\n",
       "      <td>['WR']</td>\n",
       "      <td>1.0</td>\n",
       "      <td>...</td>\n",
       "      <td>20231116</td>\n",
       "      <td>725907041763303424</td>\n",
       "      <td>NaN</td>\n",
       "      <td>NaN</td>\n",
       "      <td>True</td>\n",
       "      <td>725907041763303424</td>\n",
       "      <td>Croccity Body Snatchers</td>\n",
       "      <td>dirtywizard</td>\n",
       "      <td>9.8550</td>\n",
       "      <td>9.8550</td>\n",
       "    </tr>\n",
       "    <tr>\n",
       "      <th>212</th>\n",
       "      <td>2374</td>\n",
       "      <td>Tyler Lockett</td>\n",
       "      <td>1992-09-28</td>\n",
       "      <td>31.0</td>\n",
       "      <td>182.0</td>\n",
       "      <td>70</td>\n",
       "      <td>SEA</td>\n",
       "      <td>WR</td>\n",
       "      <td>['WR']</td>\n",
       "      <td>1.0</td>\n",
       "      <td>...</td>\n",
       "      <td>20231116</td>\n",
       "      <td>725907041763303424</td>\n",
       "      <td>NaN</td>\n",
       "      <td>True</td>\n",
       "      <td>True</td>\n",
       "      <td>725907041763303424</td>\n",
       "      <td>Croccity Body Snatchers</td>\n",
       "      <td>dirtywizard</td>\n",
       "      <td>10.3100</td>\n",
       "      <td>10.3100</td>\n",
       "    </tr>\n",
       "    <tr>\n",
       "      <th>391</th>\n",
       "      <td>1266</td>\n",
       "      <td>Greg Zuerlein</td>\n",
       "      <td>1987-12-27</td>\n",
       "      <td>35.0</td>\n",
       "      <td>187.0</td>\n",
       "      <td>72</td>\n",
       "      <td>NYJ</td>\n",
       "      <td>PK</td>\n",
       "      <td>['K']</td>\n",
       "      <td>1.0</td>\n",
       "      <td>...</td>\n",
       "      <td>20231116</td>\n",
       "      <td>725907041763303424</td>\n",
       "      <td>NaN</td>\n",
       "      <td>True</td>\n",
       "      <td>True</td>\n",
       "      <td>725907041763303424</td>\n",
       "      <td>Croccity Body Snatchers</td>\n",
       "      <td>dirtywizard</td>\n",
       "      <td>10.5000</td>\n",
       "      <td>10.5000</td>\n",
       "    </tr>\n",
       "    <tr>\n",
       "      <th>350</th>\n",
       "      <td>4037</td>\n",
       "      <td>Chris Godwin</td>\n",
       "      <td>1996-02-27</td>\n",
       "      <td>27.0</td>\n",
       "      <td>209.0</td>\n",
       "      <td>73</td>\n",
       "      <td>TB</td>\n",
       "      <td>WR</td>\n",
       "      <td>['WR']</td>\n",
       "      <td>2.0</td>\n",
       "      <td>...</td>\n",
       "      <td>20231116</td>\n",
       "      <td>725907041763303424</td>\n",
       "      <td>NaN</td>\n",
       "      <td>True</td>\n",
       "      <td>True</td>\n",
       "      <td>725907041763303424</td>\n",
       "      <td>Croccity Body Snatchers</td>\n",
       "      <td>dirtywizard</td>\n",
       "      <td>10.9650</td>\n",
       "      <td>10.9650</td>\n",
       "    </tr>\n",
       "    <tr>\n",
       "      <th>362</th>\n",
       "      <td>1348</td>\n",
       "      <td>Dustin Hopkins</td>\n",
       "      <td>1990-10-01</td>\n",
       "      <td>33.0</td>\n",
       "      <td>193.0</td>\n",
       "      <td>74</td>\n",
       "      <td>CLE</td>\n",
       "      <td>PK</td>\n",
       "      <td>['K']</td>\n",
       "      <td>1.0</td>\n",
       "      <td>...</td>\n",
       "      <td>20231116</td>\n",
       "      <td>725907041763303424</td>\n",
       "      <td>NaN</td>\n",
       "      <td>True</td>\n",
       "      <td>True</td>\n",
       "      <td>725907041763303424</td>\n",
       "      <td>Croccity Body Snatchers</td>\n",
       "      <td>dirtywizard</td>\n",
       "      <td>11.3500</td>\n",
       "      <td>11.3500</td>\n",
       "    </tr>\n",
       "    <tr>\n",
       "      <th>121</th>\n",
       "      <td>4018</td>\n",
       "      <td>Joe Mixon</td>\n",
       "      <td>1996-07-24</td>\n",
       "      <td>27.0</td>\n",
       "      <td>220.0</td>\n",
       "      <td>73</td>\n",
       "      <td>CIN</td>\n",
       "      <td>RB</td>\n",
       "      <td>['RB']</td>\n",
       "      <td>1.0</td>\n",
       "      <td>...</td>\n",
       "      <td>20231116</td>\n",
       "      <td>725907041763303424</td>\n",
       "      <td>NaN</td>\n",
       "      <td>True</td>\n",
       "      <td>True</td>\n",
       "      <td>725907041763303424</td>\n",
       "      <td>Croccity Body Snatchers</td>\n",
       "      <td>dirtywizard</td>\n",
       "      <td>13.0550</td>\n",
       "      <td>13.0550</td>\n",
       "    </tr>\n",
       "    <tr>\n",
       "      <th>137</th>\n",
       "      <td>5892</td>\n",
       "      <td>David Montgomery</td>\n",
       "      <td>1997-06-07</td>\n",
       "      <td>26.0</td>\n",
       "      <td>224.0</td>\n",
       "      <td>71</td>\n",
       "      <td>DET</td>\n",
       "      <td>RB</td>\n",
       "      <td>['RB']</td>\n",
       "      <td>2.0</td>\n",
       "      <td>...</td>\n",
       "      <td>20231116</td>\n",
       "      <td>725907041763303424</td>\n",
       "      <td>NaN</td>\n",
       "      <td>True</td>\n",
       "      <td>True</td>\n",
       "      <td>725907041763303424</td>\n",
       "      <td>Croccity Body Snatchers</td>\n",
       "      <td>dirtywizard</td>\n",
       "      <td>13.7500</td>\n",
       "      <td>13.7500</td>\n",
       "    </tr>\n",
       "    <tr>\n",
       "      <th>34</th>\n",
       "      <td>5850</td>\n",
       "      <td>Josh Jacobs</td>\n",
       "      <td>1998-02-11</td>\n",
       "      <td>25.0</td>\n",
       "      <td>223.0</td>\n",
       "      <td>70</td>\n",
       "      <td>LV</td>\n",
       "      <td>RB</td>\n",
       "      <td>['RB']</td>\n",
       "      <td>1.0</td>\n",
       "      <td>...</td>\n",
       "      <td>20231116</td>\n",
       "      <td>725907041763303424</td>\n",
       "      <td>NaN</td>\n",
       "      <td>True</td>\n",
       "      <td>True</td>\n",
       "      <td>725907041763303424</td>\n",
       "      <td>Croccity Body Snatchers</td>\n",
       "      <td>dirtywizard</td>\n",
       "      <td>15.7800</td>\n",
       "      <td>15.7800</td>\n",
       "    </tr>\n",
       "    <tr>\n",
       "      <th>15</th>\n",
       "      <td>5849</td>\n",
       "      <td>Kyler Murray</td>\n",
       "      <td>1997-08-07</td>\n",
       "      <td>26.0</td>\n",
       "      <td>207.0</td>\n",
       "      <td>70</td>\n",
       "      <td>ARI</td>\n",
       "      <td>QB</td>\n",
       "      <td>['QB']</td>\n",
       "      <td>1.0</td>\n",
       "      <td>...</td>\n",
       "      <td>20231116</td>\n",
       "      <td>725907041763303424</td>\n",
       "      <td>NaN</td>\n",
       "      <td>True</td>\n",
       "      <td>True</td>\n",
       "      <td>725907041763303424</td>\n",
       "      <td>Croccity Body Snatchers</td>\n",
       "      <td>dirtywizard</td>\n",
       "      <td>16.9600</td>\n",
       "      <td>0.0000</td>\n",
       "    </tr>\n",
       "    <tr>\n",
       "      <th>282</th>\n",
       "      <td>4663</td>\n",
       "      <td>Austin Ekeler</td>\n",
       "      <td>1995-05-17</td>\n",
       "      <td>28.0</td>\n",
       "      <td>200.0</td>\n",
       "      <td>70</td>\n",
       "      <td>LAC</td>\n",
       "      <td>RB</td>\n",
       "      <td>['RB']</td>\n",
       "      <td>1.0</td>\n",
       "      <td>...</td>\n",
       "      <td>20231116</td>\n",
       "      <td>725907041763303424</td>\n",
       "      <td>NaN</td>\n",
       "      <td>True</td>\n",
       "      <td>True</td>\n",
       "      <td>725907041763303424</td>\n",
       "      <td>Croccity Body Snatchers</td>\n",
       "      <td>dirtywizard</td>\n",
       "      <td>18.6200</td>\n",
       "      <td>18.6200</td>\n",
       "    </tr>\n",
       "    <tr>\n",
       "      <th>174</th>\n",
       "      <td>8183</td>\n",
       "      <td>Brock Purdy</td>\n",
       "      <td>1999-12-27</td>\n",
       "      <td>23.0</td>\n",
       "      <td>220.0</td>\n",
       "      <td>73</td>\n",
       "      <td>SF</td>\n",
       "      <td>QB</td>\n",
       "      <td>['QB']</td>\n",
       "      <td>1.0</td>\n",
       "      <td>...</td>\n",
       "      <td>20231116</td>\n",
       "      <td>725907041763303424</td>\n",
       "      <td>NaN</td>\n",
       "      <td>NaN</td>\n",
       "      <td>True</td>\n",
       "      <td>725907041763303424</td>\n",
       "      <td>Croccity Body Snatchers</td>\n",
       "      <td>dirtywizard</td>\n",
       "      <td>18.8400</td>\n",
       "      <td>18.8400</td>\n",
       "    </tr>\n",
       "    <tr>\n",
       "      <th>365</th>\n",
       "      <td>6904</td>\n",
       "      <td>Jalen Hurts</td>\n",
       "      <td>1998-08-07</td>\n",
       "      <td>25.0</td>\n",
       "      <td>223.0</td>\n",
       "      <td>73</td>\n",
       "      <td>PHI</td>\n",
       "      <td>QB</td>\n",
       "      <td>['QB']</td>\n",
       "      <td>1.0</td>\n",
       "      <td>...</td>\n",
       "      <td>20231116</td>\n",
       "      <td>725907041763303424</td>\n",
       "      <td>NaN</td>\n",
       "      <td>True</td>\n",
       "      <td>True</td>\n",
       "      <td>725907041763303424</td>\n",
       "      <td>Croccity Body Snatchers</td>\n",
       "      <td>dirtywizard</td>\n",
       "      <td>21.5900</td>\n",
       "      <td>21.5900</td>\n",
       "    </tr>\n",
       "  </tbody>\n",
       "</table>\n",
       "<p>23 rows × 65 columns</p>\n",
       "</div>"
      ],
      "text/plain": [
       "    player_id         full_name  birth_date   age  weight height team  \\\n",
       "50        DEN               DEN         NaN   NaN     NaN    NaN  DEN   \n",
       "82       9222        Zach Evans  2001-05-30  22.0   202.0     71  LAR   \n",
       "167      8181    Connor Heyward  1999-01-22  24.0   230.0     72  PIT   \n",
       "106        SF                SF         NaN   NaN     NaN    NaN   SF   \n",
       "301      3271      Tyler Higbee  1993-01-01  30.0   255.0     78  LAR   \n",
       "280      8225  Daniel Bellinger  2000-09-22  23.0   255.0     78  NYG   \n",
       "343      5185      Allen Lazard  1995-12-11  27.0   227.0     77  NYJ   \n",
       "348      7066       K.J. Osborn  1997-06-10  26.0   203.0     71  MIN   \n",
       "281       WAS               WAS         NaN   NaN     NaN    NaN  WAS   \n",
       "345      8259    Cameron Dicker  2000-05-06  23.0   216.0     73  LAC   \n",
       "193      5848    Marquise Brown  1997-06-04  26.0   180.0     69  ARI   \n",
       "210     10229       Rashee Rice  2000-04-22  23.0   203.0     74   KC   \n",
       "212      2374     Tyler Lockett  1992-09-28  31.0   182.0     70  SEA   \n",
       "391      1266     Greg Zuerlein  1987-12-27  35.0   187.0     72  NYJ   \n",
       "350      4037      Chris Godwin  1996-02-27  27.0   209.0     73   TB   \n",
       "362      1348    Dustin Hopkins  1990-10-01  33.0   193.0     74  CLE   \n",
       "121      4018         Joe Mixon  1996-07-24  27.0   220.0     73  CIN   \n",
       "137      5892  David Montgomery  1997-06-07  26.0   224.0     71  DET   \n",
       "34       5850       Josh Jacobs  1998-02-11  25.0   223.0     70   LV   \n",
       "15       5849      Kyler Murray  1997-08-07  26.0   207.0     70  ARI   \n",
       "282      4663     Austin Ekeler  1995-05-17  28.0   200.0     70  LAC   \n",
       "174      8183       Brock Purdy  1999-12-27  23.0   220.0     73   SF   \n",
       "365      6904       Jalen Hurts  1998-08-07  25.0   223.0     73  PHI   \n",
       "\n",
       "    position fantasy_positions  depth_chart_order  ... date_prediction  \\\n",
       "50       DEF           ['DEF']                NaN  ...        20231116   \n",
       "82        RB            ['RB']                3.0  ...        20231116   \n",
       "167       TE            ['TE']                2.0  ...        20231116   \n",
       "106      DEF           ['DEF']                NaN  ...        20231116   \n",
       "301       TE            ['TE']                1.0  ...        20231116   \n",
       "280       TE            ['TE']                1.0  ...        20231116   \n",
       "343       WR            ['WR']                2.0  ...        20231116   \n",
       "348       WR            ['WR']                3.0  ...        20231116   \n",
       "281      DEF           ['DEF']                NaN  ...        20231116   \n",
       "345       PK             ['K']                1.0  ...        20231116   \n",
       "193       WR            ['WR']                1.0  ...        20231116   \n",
       "210       WR            ['WR']                1.0  ...        20231116   \n",
       "212       WR            ['WR']                1.0  ...        20231116   \n",
       "391       PK             ['K']                1.0  ...        20231116   \n",
       "350       WR            ['WR']                2.0  ...        20231116   \n",
       "362       PK             ['K']                1.0  ...        20231116   \n",
       "121       RB            ['RB']                1.0  ...        20231116   \n",
       "137       RB            ['RB']                2.0  ...        20231116   \n",
       "34        RB            ['RB']                1.0  ...        20231116   \n",
       "15        QB            ['QB']                1.0  ...        20231116   \n",
       "282       RB            ['RB']                1.0  ...        20231116   \n",
       "174       QB            ['QB']                1.0  ...        20231116   \n",
       "365       QB            ['QB']                1.0  ...        20231116   \n",
       "\n",
       "               owner_id  taxi starters  players             user_id  \\\n",
       "50   725907041763303424   NaN      NaN     True  725907041763303424   \n",
       "82   725907041763303424  True      NaN     True  725907041763303424   \n",
       "167  725907041763303424   NaN      NaN     True  725907041763303424   \n",
       "106  725907041763303424   NaN     True     True  725907041763303424   \n",
       "301  725907041763303424   NaN     True     True  725907041763303424   \n",
       "280  725907041763303424   NaN     True     True  725907041763303424   \n",
       "343  725907041763303424   NaN      NaN     True  725907041763303424   \n",
       "348  725907041763303424   NaN      NaN     True  725907041763303424   \n",
       "281  725907041763303424   NaN     True     True  725907041763303424   \n",
       "345  725907041763303424  True      NaN     True  725907041763303424   \n",
       "193  725907041763303424   NaN     True     True  725907041763303424   \n",
       "210  725907041763303424   NaN      NaN     True  725907041763303424   \n",
       "212  725907041763303424   NaN     True     True  725907041763303424   \n",
       "391  725907041763303424   NaN     True     True  725907041763303424   \n",
       "350  725907041763303424   NaN     True     True  725907041763303424   \n",
       "362  725907041763303424   NaN     True     True  725907041763303424   \n",
       "121  725907041763303424   NaN     True     True  725907041763303424   \n",
       "137  725907041763303424   NaN     True     True  725907041763303424   \n",
       "34   725907041763303424   NaN     True     True  725907041763303424   \n",
       "15   725907041763303424   NaN     True     True  725907041763303424   \n",
       "282  725907041763303424   NaN     True     True  725907041763303424   \n",
       "174  725907041763303424   NaN      NaN     True  725907041763303424   \n",
       "365  725907041763303424   NaN     True     True  725907041763303424   \n",
       "\n",
       "              franchise_name  display_name  pts_proj val_proj  \n",
       "50   Croccity Body Snatchers   dirtywizard   -0.1900   0.0000  \n",
       "82   Croccity Body Snatchers   dirtywizard    0.8250   0.0000  \n",
       "167  Croccity Body Snatchers   dirtywizard    1.9200   0.0000  \n",
       "106  Croccity Body Snatchers   dirtywizard    2.6363   2.6363  \n",
       "301  Croccity Body Snatchers   dirtywizard    4.7360   4.7360  \n",
       "280  Croccity Body Snatchers   dirtywizard    4.9260   4.9260  \n",
       "343  Croccity Body Snatchers   dirtywizard    4.9710   0.0000  \n",
       "348  Croccity Body Snatchers   dirtywizard    5.6020   0.0000  \n",
       "281  Croccity Body Snatchers   dirtywizard    5.6205   5.6205  \n",
       "345  Croccity Body Snatchers   dirtywizard    8.8500   0.0000  \n",
       "193  Croccity Body Snatchers   dirtywizard    9.2750   0.0000  \n",
       "210  Croccity Body Snatchers   dirtywizard    9.8550   9.8550  \n",
       "212  Croccity Body Snatchers   dirtywizard   10.3100  10.3100  \n",
       "391  Croccity Body Snatchers   dirtywizard   10.5000  10.5000  \n",
       "350  Croccity Body Snatchers   dirtywizard   10.9650  10.9650  \n",
       "362  Croccity Body Snatchers   dirtywizard   11.3500  11.3500  \n",
       "121  Croccity Body Snatchers   dirtywizard   13.0550  13.0550  \n",
       "137  Croccity Body Snatchers   dirtywizard   13.7500  13.7500  \n",
       "34   Croccity Body Snatchers   dirtywizard   15.7800  15.7800  \n",
       "15   Croccity Body Snatchers   dirtywizard   16.9600   0.0000  \n",
       "282  Croccity Body Snatchers   dirtywizard   18.6200  18.6200  \n",
       "174  Croccity Body Snatchers   dirtywizard   18.8400  18.8400  \n",
       "365  Croccity Body Snatchers   dirtywizard   21.5900  21.5900  \n",
       "\n",
       "[23 rows x 65 columns]"
      ]
     },
     "execution_count": 76,
     "metadata": {},
     "output_type": "execute_result"
    }
   ],
   "source": [
    "optimized.loc[optimized['franchise_name']=='Croccity Body Snatchers'].sort_values('pts_proj')"
   ]
  },
  {
   "cell_type": "code",
   "execution_count": null,
   "metadata": {},
   "outputs": [],
   "source": []
  }
 ],
 "metadata": {
  "kernelspec": {
   "display_name": "Python 3.11.4 ('fnfl2023')",
   "language": "python",
   "name": "python3"
  },
  "language_info": {
   "codemirror_mode": {
    "name": "ipython",
    "version": 3
   },
   "file_extension": ".py",
   "mimetype": "text/x-python",
   "name": "python",
   "nbconvert_exporter": "python",
   "pygments_lexer": "ipython3",
   "version": "3.11.4"
  },
  "orig_nbformat": 4,
  "vscode": {
   "interpreter": {
    "hash": "9d5343d8487a7ad33f7c6df21cec71a8cada15334439bd483feb9f981d44372f"
   }
  }
 },
 "nbformat": 4,
 "nbformat_minor": 2
}
